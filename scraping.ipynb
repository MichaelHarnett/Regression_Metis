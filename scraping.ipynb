{
 "cells": [
  {
   "cell_type": "code",
   "execution_count": 2,
   "id": "killing-issue",
   "metadata": {},
   "outputs": [],
   "source": [
    "#The following Notebook represents preliminary scraping methods on a single page from steam game store. \n",
    "#specificallly for horizon zero dawn (as it was a fantastic game)\n",
    "#This preliminary scraping is meant to gauge the amount of possible features available, pre API referencing\n",
    "#I did not focus on cleaning or stripping strings during initial scraping, just wanted to get values.\n",
    "\n",
    "\n",
    "\n",
    "from bs4 import BeautifulSoup\n",
    "import requests"
   ]
  },
  {
   "cell_type": "code",
   "execution_count": 3,
   "id": "structural-space",
   "metadata": {},
   "outputs": [],
   "source": [
    "url = 'https://store.steampowered.com/app/1151640/Horizon_Zero_Dawn_Complete_Edition/'\n",
    "response = requests.get(url)"
   ]
  },
  {
   "cell_type": "code",
   "execution_count": 189,
   "id": "supposed-cinema",
   "metadata": {},
   "outputs": [
    {
     "data": {
      "text/plain": [
       "200"
      ]
     },
     "execution_count": 189,
     "metadata": {},
     "output_type": "execute_result"
    }
   ],
   "source": [
    "response.status_code"
   ]
  },
  {
   "cell_type": "code",
   "execution_count": 147,
   "id": "hindu-twins",
   "metadata": {},
   "outputs": [
    {
     "data": {
      "text/plain": [
       "'<!DOCTYPE html>\\r\\n<html class=\" responsive\" lang=\"en\">\\r\\n<head>\\r\\n\\t<meta http-equiv=\"Content-Type\" content=\"text/html; charset=UTF-8\">\\r\\n\\t\\t\\t<meta name=\"viewport\" content=\"width=device-width,initial-scale=1\">\\r\\n\\t\\t<meta name=\"theme-color\" content=\"#171a21\">\\r\\n\\t\\t<title>Save 40% on Horizon Zero Dawn™ Complete Edition on Steam</title>\\r\\n\\t<link rel=\"shortcut icon\" href=\"/favicon.ico\" type=\"image/x-icon\">\\r\\n\\r\\n\\t\\r\\n\\t\\r\\n\\t<link href=\"https://store.akamai.steamstatic.com/public/shared/css/motiva_sans.css?v=Rc2hpzg2Ex3T&amp;l=english\" rel=\"stylesheet\" type=\"text/css\" >\\n<link href=\"https://store.akamai.steamstatic.com/public/shared/css/shared_global.css?v=14RNXYQwvlll&amp;l=english\" rel=\"stylesheet\" type=\"text/css\" >\\n<link href=\"https://store.akamai.steamstatic.com/public/shared/css/buttons.css?v=6PFqex5UPprb&amp;l=english\" rel=\"stylesheet\" type=\"text/css\" >\\n<link href=\"https://store.akamai.steamstatic.com/public/css/v6/store.css?v=3_8obo1e4tX9&amp;l=english\" rel=\"stylesheet\" type=\"text/css\" >\\n<link href=\"htt'"
      ]
     },
     "execution_count": 147,
     "metadata": {},
     "output_type": "execute_result"
    }
   ],
   "source": [
    "response.text[:1000]"
   ]
  },
  {
   "cell_type": "code",
   "execution_count": 6,
   "id": "modular-texas",
   "metadata": {},
   "outputs": [],
   "source": [
    "page = response.text"
   ]
  },
  {
   "cell_type": "code",
   "execution_count": 7,
   "id": "structural-family",
   "metadata": {},
   "outputs": [],
   "source": [
    "soup = BeautifulSoup(page, 'lxml')"
   ]
  },
  {
   "cell_type": "code",
   "execution_count": 8,
   "id": "lesser-constant",
   "metadata": {},
   "outputs": [
    {
     "name": "stdout",
     "output_type": "stream",
     "text": [
      "None\n"
     ]
    }
   ],
   "source": [
    "print(soup.find(\"class='apphub_AppName'\"))"
   ]
  },
  {
   "cell_type": "markdown",
   "id": "senior-veteran",
   "metadata": {},
   "source": [
    "# NAME"
   ]
  },
  {
   "cell_type": "code",
   "execution_count": 9,
   "id": "detected-sphere",
   "metadata": {},
   "outputs": [
    {
     "data": {
      "text/plain": [
       "'Horizon Zero Dawn™ Complete Edition'"
      ]
     },
     "execution_count": 9,
     "metadata": {},
     "output_type": "execute_result"
    }
   ],
   "source": [
    "###FOUND NAME OF GAME ON TOP OF PAGE\n",
    "\n",
    "game_name = soup.find('span',itemprop=\"name\").text\n",
    "game_name"
   ]
  },
  {
   "cell_type": "markdown",
   "id": "swiss-crest",
   "metadata": {},
   "source": [
    "# RELEASE DATE"
   ]
  },
  {
   "cell_type": "code",
   "execution_count": 10,
   "id": "waiting-brooks",
   "metadata": {},
   "outputs": [],
   "source": [
    "#FOUND RELEASE DATE \n",
    "\n",
    "release_date = soup.find('div', class_='date').text"
   ]
  },
  {
   "cell_type": "markdown",
   "id": "assumed-commonwealth",
   "metadata": {},
   "source": [
    "# CURATORS/BLOGGERS"
   ]
  },
  {
   "cell_type": "code",
   "execution_count": 195,
   "id": "threatened-hearing",
   "metadata": {},
   "outputs": [
    {
     "data": {
      "text/plain": [
       "[<div class=\"block_header\">\n",
       " <div class=\"right\">\n",
       " <a href=\"https://store.steampowered.com/recommended/morelike/app/1151640/?snr=1_5_9__300\">See all</a>\n",
       " </div>\n",
       " <h2>More like this</h2>\n",
       " </div>]"
      ]
     },
     "execution_count": 195,
     "metadata": {},
     "output_type": "execute_result"
    }
   ],
   "source": [
    "#!     !     !    !    !    !    !    ! \n",
    "#!     !     !    !\n",
    "#attempting to pull the number of 'curators' - will circle back\n",
    "#soup.find('div', class_=\"no_curators_followed\")\n",
    "\n",
    "#soup.find('div', class_='steam_curators_block block responsive_apppage_reviewblock') #another no\n",
    "\n",
    "#soup.find('h2', text='What Curators Say') #why are these all blank!!\n",
    "\n",
    "#soup.find('div', class_ = 'block_header') #ok this is generic,maybe we can search within\n",
    "soup.find_all('div', class_ = 'block_header')"
   ]
  },
  {
   "cell_type": "markdown",
   "id": "urban-expression",
   "metadata": {},
   "source": [
    "# NUM REVIEWS"
   ]
  },
  {
   "cell_type": "code",
   "execution_count": null,
   "id": "russian-excuse",
   "metadata": {},
   "outputs": [],
   "source": []
  },
  {
   "cell_type": "code",
   "execution_count": 126,
   "id": "wanted-compatibility",
   "metadata": {},
   "outputs": [
    {
     "data": {
      "text/plain": [
       "'(34,380 reviews)'"
      ]
     },
     "execution_count": 126,
     "metadata": {},
     "output_type": "execute_result"
    }
   ],
   "source": [
    "# Number of reviews\n",
    "#num_reviews = soup.find(class_='user_reviews_summary_bar').find_all('span')[-1].text\n",
    "#num_reviews"
   ]
  },
  {
   "cell_type": "markdown",
   "id": "uniform-archive",
   "metadata": {},
   "source": [
    "# REVIEW RATING"
   ]
  },
  {
   "cell_type": "code",
   "execution_count": 13,
   "id": "liable-delivery",
   "metadata": {},
   "outputs": [
    {
     "data": {
      "text/plain": [
       "'Mostly Positive'"
      ]
     },
     "execution_count": 13,
     "metadata": {},
     "output_type": "execute_result"
    }
   ],
   "source": [
    "# rating. their rating system must be rese\n",
    "rating = soup.find(class_='user_reviews_summary_bar').find_all('span')[0].text\n",
    "rating"
   ]
  },
  {
   "cell_type": "markdown",
   "id": "southwest-corpus",
   "metadata": {},
   "source": [
    "# PUBLISHER"
   ]
  },
  {
   "cell_type": "code",
   "execution_count": 54,
   "id": "unique-stephen",
   "metadata": {},
   "outputs": [],
   "source": [
    "# obtaining publisher name and url to publisher steam page (for future script of number publisher games)\n",
    "\n",
    "publisher = soup.find('div', class_='glance_ctn_responsive_left').find_all('a')[-1].text\n",
    "publisher_url = soup.find('div', class_='glance_ctn_responsive_left').find_all('a')[-1].get('href')"
   ]
  },
  {
   "cell_type": "markdown",
   "id": "strategic-harrison",
   "metadata": {},
   "source": [
    "# PRICE"
   ]
  },
  {
   "cell_type": "code",
   "execution_count": 49,
   "id": "inclusive-school",
   "metadata": {},
   "outputs": [
    {
     "data": {
      "text/plain": [
       "'$29.99'"
      ]
     },
     "execution_count": 49,
     "metadata": {},
     "output_type": "execute_result"
    }
   ],
   "source": [
    "#while this does obtain the price from the code, it relies heavily on index 4. uknonwn if will work\n",
    "#for multiple pages, as there are multiple prices. hopefully the 4th one is always the most general price\n",
    "#will have to fix\n",
    "\n",
    "#can also possibly be used for sale purposes in the future/ \n",
    "\n",
    "final_price = soup.find('div',class_='game_purchase_action_bg').find_all('div')[4].text"
   ]
  },
  {
   "cell_type": "code",
   "execution_count": 182,
   "id": "ranging-arthur",
   "metadata": {},
   "outputs": [
    {
     "name": "stdout",
     "output_type": "stream",
     "text": [
      "['-40%', '49.99', '29.99']\n",
      "-40%\n",
      "49.99\n",
      "29.99\n"
     ]
    }
   ],
   "source": [
    "#comparing price xpaths~\n",
    "#xpaths do not seem to be working, or i cannot figuure out proper syntax (have not looked up)\n",
    "\n",
    "#HZD_price_xpath = (soup.find('//*[@id=\"game_area_purchase_section_add_to_cart_392522\"]/div[2]/div/div[1]/div[2]/div[2]'))\n",
    "#soup.find('id', text='game_area_purchase_section_add_to_cart_392522')\n",
    "\n",
    "#soup.find('div', id='game_area_purchase')\n",
    "#soup.find('div', id='leftcol game_description_column')\n",
    "#soup.find('div', id='game_area_purchase')\n",
    "\n",
    "\n",
    "#OK i have found this nice string that contains the discount, the original, and the final price\n",
    "#this can be stripped for those numbers, but I will have to see if applicable to all game pages, \n",
    "#otherwise maybe a game price list can be utilized from a separate source\n",
    "\n",
    "#price_string = soup.find('div', class_='game_purchase_action').text\n",
    "#stripped_price = price_string.strip('\\n')[:16]\n",
    "#split_price = stripped_price.split('$')\n",
    "#discount = split_price[0]\n",
    "#original_price = split_price[1]\n",
    "#sale_price = split_price[2]\n",
    "#print(price_string)\n",
    "#print(split_price)\n",
    "#print(discount)\n",
    "#print(original_price)\n",
    "#print(sale_price)"
   ]
  },
  {
   "cell_type": "code",
   "execution_count": null,
   "id": "rocky-particular",
   "metadata": {},
   "outputs": [],
   "source": [
    "#after fumbling with the price on this page, I have relized the discount, original price, and sale price\n",
    "#are all obtainable from the page with the list of games, all formatted the same, leaving code for sake\n",
    "#of seeing workflow"
   ]
  },
  {
   "cell_type": "markdown",
   "id": "extreme-chemistry",
   "metadata": {},
   "source": [
    "# GENRE"
   ]
  },
  {
   "cell_type": "code",
   "execution_count": 59,
   "id": "alien-function",
   "metadata": {},
   "outputs": [
    {
     "data": {
      "text/plain": [
       "'Action'"
      ]
     },
     "execution_count": 59,
     "metadata": {},
     "output_type": "execute_result"
    }
   ],
   "source": [
    "#SO genres are listed in groups, unsure how to process that when coming to regression.\n",
    "# possible anlysis - use just the firt genre, as it could be considered most important.\n",
    "\n",
    "#genres are listed alphabetically! this code will only find first genre listed.\n",
    "\n",
    "genre_first = soup.find('b',text='Genre:').findNext().text\n",
    "genre_first"
   ]
  },
  {
   "cell_type": "code",
   "execution_count": 65,
   "id": "portuguese-visibility",
   "metadata": {},
   "outputs": [
    {
     "data": {
      "text/plain": [
       "[<a href=\"https://store.steampowered.com/genre/Action/?snr=1_5_9__408\">Action</a>,\n",
       " <a href=\"https://store.steampowered.com/genre/Adventure/?snr=1_5_9__408\">Adventure</a>,\n",
       " <a href=\"https://store.steampowered.com/genre/RPG/?snr=1_5_9__408\">RPG</a>,\n",
       " <a href=\"https://store.steampowered.com/search/?developer=Guerrilla&amp;snr=1_5_9__408\">Guerrilla</a>,\n",
       " <a href=\"https://store.steampowered.com/search/?publisher=PlayStation%20Mobile%2C%20Inc.&amp;snr=1_5_9__422\">PlayStation Mobile, Inc.</a>]"
      ]
     },
     "execution_count": 65,
     "metadata": {},
     "output_type": "execute_result"
    }
   ],
   "source": [
    "#does find all genres, but do not know how to seperate for developer\n",
    "soup.find('div', class_='details_block').find_all('a')"
   ]
  },
  {
   "cell_type": "code",
   "execution_count": 193,
   "id": "immediate-convention",
   "metadata": {},
   "outputs": [
    {
     "name": "stdout",
     "output_type": "stream",
     "text": [
      "['Action', 'Adventure', 'RPG']\n",
      "3\n"
     ]
    }
   ],
   "source": [
    "#we can try calling the whole list except the last 2! assuming there is only one link for developer\n",
    "#and one link for publisher and they never list collaborations, this will work. future analysis will need \n",
    "#to be performed. idealy we could slice unitl new nested class\n",
    "genres_list = soup.find('div', class_='details_block').find_all('a')[0:-2]\n",
    "genres_all = []\n",
    "for links in genres_list:\n",
    "    genres_all.append(links.text)\n",
    "# do not know how to pull out this text\n",
    "print(genres_all)\n",
    "num_genres = len(genres_all)\n",
    "print(num_genres)"
   ]
  },
  {
   "cell_type": "code",
   "execution_count": null,
   "id": "announced-simpson",
   "metadata": {},
   "outputs": [],
   "source": [
    "##enough for one night. tomorrow, see if all data can be repulled from same tables for uniformity\n",
    "## compare xpaths for prices on different pages to see if they are usable instead! could be easier.\n",
    "#still missing languages,tags, number of tags, and bloggers "
   ]
  },
  {
   "cell_type": "markdown",
   "id": "activated-model",
   "metadata": {},
   "source": [
    "# TAGS"
   ]
  },
  {
   "cell_type": "code",
   "execution_count": 186,
   "id": "contrary-minister",
   "metadata": {},
   "outputs": [
    {
     "data": {
      "text/plain": [
       "[<a class=\"app_tag\" href=\"https://store.steampowered.com/tags/en/Adventure/?snr=1_5_9__409\" style=\"display: none;\">\n",
       " \t\t\t\t\t\t\t\t\t\t\t\tAdventure\t\t\t\t\t\t\t\t\t\t\t\t</a>,\n",
       " <a class=\"app_tag\" href=\"https://store.steampowered.com/tags/en/Open%20World/?snr=1_5_9__409\" style=\"display: none;\">\n",
       " \t\t\t\t\t\t\t\t\t\t\t\tOpen World\t\t\t\t\t\t\t\t\t\t\t\t</a>,\n",
       " <a class=\"app_tag\" href=\"https://store.steampowered.com/tags/en/Female%20Protagonist/?snr=1_5_9__409\" style=\"display: none;\">\n",
       " \t\t\t\t\t\t\t\t\t\t\t\tFemale Protagonist\t\t\t\t\t\t\t\t\t\t\t\t</a>,\n",
       " <a class=\"app_tag\" href=\"https://store.steampowered.com/tags/en/Action/?snr=1_5_9__409\" style=\"display: none;\">\n",
       " \t\t\t\t\t\t\t\t\t\t\t\tAction\t\t\t\t\t\t\t\t\t\t\t\t</a>]"
      ]
     },
     "execution_count": 186,
     "metadata": {},
     "output_type": "execute_result"
    }
   ],
   "source": [
    "#code finds all tags, but again is a find from a find which returns a list, cannot call.txt\n",
    "tags = soup.find('div', class_='glance_tags').find_all('a')\n",
    "tags[:4]\n",
    "#genre_list = []\n",
    "#i=0\n",
    "#for item in genres_all:\n",
    "#    genre_list.append(genres_all[i].text())\n",
    "#genres_all[0].text # cannot call text on the list. help."
   ]
  },
  {
   "cell_type": "markdown",
   "id": "superb-essex",
   "metadata": {},
   "source": [
    "# LANGUAGE"
   ]
  },
  {
   "cell_type": "code",
   "execution_count": 94,
   "id": "present-german",
   "metadata": {},
   "outputs": [
    {
     "data": {
      "text/plain": [
       "<tr>\n",
       "<th style=\"width: 94px;\"></th>\n",
       "<th class=\"checkcol\">Interface</th>\n",
       "<th class=\"checkcol\">Full Audio</th>\n",
       "<th class=\"checkcol\">Subtitles</th>\n",
       "</tr>"
      ]
     },
     "execution_count": 94,
     "metadata": {},
     "output_type": "execute_result"
    }
   ],
   "source": [
    "#attempting to get language. bottom of the table has the total number of languages. trying to find it\n",
    "\n",
    "#soup.find('table',class_='game_language_options').findNext()"
   ]
  },
  {
   "cell_type": "code",
   "execution_count": 112,
   "id": "obvious-indianapolis",
   "metadata": {},
   "outputs": [
    {
     "data": {
      "text/plain": [
       "'See all 20 supported languages'"
      ]
     },
     "execution_count": 112,
     "metadata": {},
     "output_type": "execute_result"
    }
   ],
   "source": [
    "#hoorah! found the string, the number can be extracted tomrrow\n",
    "languagez = soup.find('a', class_='all_languages').text\n",
    "languagez"
   ]
  },
  {
   "cell_type": "code",
   "execution_count": null,
   "id": "pacific-curtis",
   "metadata": {},
   "outputs": [],
   "source": [
    "##ok really stopping for the night. morning office hours - how to pull the text out of a list, \n",
    "# like after finding then finding again, for both genre and tags.\n",
    "\n",
    "#inquire about the order of using multiple pages, like i have to go from games list to game page to developer\n",
    "# page, should that all happen at once, or should I run a separate devloper loop?\n",
    "\n",
    "#ask about language number being a list, is there a better way to extract the information?"
   ]
  },
  {
   "cell_type": "code",
   "execution_count": 113,
   "id": "settled-friday",
   "metadata": {},
   "outputs": [],
   "source": [
    "language = (word for word in languagez if word.isdigit())"
   ]
  },
  {
   "cell_type": "code",
   "execution_count": 114,
   "id": "tender-shield",
   "metadata": {},
   "outputs": [
    {
     "data": {
      "text/plain": [
       "<generator object <genexpr> at 0x7fbc11036040>"
      ]
     },
     "execution_count": 114,
     "metadata": {},
     "output_type": "execute_result"
    }
   ],
   "source": [
    "language"
   ]
  },
  {
   "cell_type": "code",
   "execution_count": 121,
   "id": "waiting-hotel",
   "metadata": {},
   "outputs": [
    {
     "data": {
      "text/plain": [
       "['20']"
      ]
     },
     "execution_count": 121,
     "metadata": {},
     "output_type": "execute_result"
    }
   ],
   "source": [
    "languages_split = languagez.split()\n",
    "languages_split\n",
    "language_number = []\n",
    "for word in languages_split:\n",
    "    if word.isdigit():\n",
    "        language_number.append(word)\n",
    "        x=word\n",
    "language_number"
   ]
  },
  {
   "cell_type": "code",
   "execution_count": 122,
   "id": "relative-dressing",
   "metadata": {},
   "outputs": [
    {
     "data": {
      "text/plain": [
       "'20'"
      ]
     },
     "execution_count": 122,
     "metadata": {},
     "output_type": "execute_result"
    }
   ],
   "source": [
    "x"
   ]
  },
  {
   "cell_type": "code",
   "execution_count": null,
   "id": "floppy-stranger",
   "metadata": {},
   "outputs": [],
   "source": []
  },
  {
   "cell_type": "code",
   "execution_count": null,
   "id": "honey-button",
   "metadata": {},
   "outputs": [],
   "source": []
  }
 ],
 "metadata": {
  "kernelspec": {
   "display_name": "Python [conda env:anaconda3-metis] *",
   "language": "python",
   "name": "conda-env-anaconda3-metis-py"
  },
  "language_info": {
   "codemirror_mode": {
    "name": "ipython",
    "version": 3
   },
   "file_extension": ".py",
   "mimetype": "text/x-python",
   "name": "python",
   "nbconvert_exporter": "python",
   "pygments_lexer": "ipython3",
   "version": "3.8.8"
  }
 },
 "nbformat": 4,
 "nbformat_minor": 5
}
