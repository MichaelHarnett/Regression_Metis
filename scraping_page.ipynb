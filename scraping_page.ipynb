{
 "cells": [
  {
   "cell_type": "code",
   "execution_count": 5,
   "metadata": {},
   "outputs": [],
   "source": [
    "#The following Notebook represents preliminary scraping methods on a single page from steam game store. \n",
    "#specificallly for horizon zero dawn (as it was a fantastic game)\n",
    "#This preliminary scraping is meant to gauge the amount of possible features available, pre API referencing\n",
    "#I did not focus on cleaning or stripping strings during initial scraping, just wanted to get values.\n",
    "\n",
    "\n",
    "\n",
    "#from bs4 import BeautifulSoup\n",
    "#import requests\n",
    "\n",
    "\n",
    "'''\n",
    "update - \n",
    "realized that the total number of reviews found at the very bottom of the page can only be seen after scrolling.\n",
    "changing loading of the page from bs to selenium, adding a scroll, then loading the html so see if that helps.\n",
    "this is being done after all other numbers (except curators which may require a user agent) have been found.\n",
    "'''\n",
    "from bs4 import BeautifulSoup\n",
    "import requests\n",
    "import pandas as pd\n",
    "from selenium import webdriver\n",
    "from selenium.webdriver.common.keys import Keys\n",
    "import time, os\n",
    "\n",
    "chromedriver = \"/Applications/chromedriver\" # path to the chromedriver executable\n",
    "os.environ[\"webdriver.chrome.driver\"] = chromedriver\n",
    "\n",
    "url = 'https://store.steampowered.com/app/1151640/Horizon_Zero_Dawn_Complete_Edition/'\n",
    "\n",
    "user_agent = {'User-agent': 'Mozilla/5.0'}\n",
    "driver = webdriver.Chrome(chromedriver)\n",
    "driver.get(url)\n"
   ]
  },
  {
   "cell_type": "code",
   "execution_count": 15,
   "metadata": {},
   "outputs": [],
   "source": [
    "#this was before using selenium\n",
    "url = 'https://store.steampowered.com/app/1151640/Horizon_Zero_Dawn_Complete_Edition/'\n",
    "response = requests.get(url)"
   ]
  },
  {
   "cell_type": "code",
   "execution_count": 6,
   "metadata": {},
   "outputs": [],
   "source": [
    "#adding scroll\n",
    "for i in range(2):\n",
    "    #Scroll\n",
    "    driver.execute_script(\n",
    "        \"window.scrollTo(0, document.documentElement.scrollHeight);\" #Alternatively, document.body.scrollHeight\n",
    "    )\n",
    "    \n",
    "    #Wait for page to load\n",
    "    time.sleep(1)\n"
   ]
  },
  {
   "cell_type": "code",
   "execution_count": 16,
   "metadata": {},
   "outputs": [
    {
     "data": {
      "text/plain": [
       "200"
      ]
     },
     "execution_count": 16,
     "metadata": {},
     "output_type": "execute_result"
    }
   ],
   "source": [
    "response.status_code"
   ]
  },
  {
   "cell_type": "code",
   "execution_count": 147,
   "metadata": {},
   "outputs": [
    {
     "data": {
      "text/plain": [
       "'<!DOCTYPE html>\\r\\n<html class=\" responsive\" lang=\"en\">\\r\\n<head>\\r\\n\\t<meta http-equiv=\"Content-Type\" content=\"text/html; charset=UTF-8\">\\r\\n\\t\\t\\t<meta name=\"viewport\" content=\"width=device-width,initial-scale=1\">\\r\\n\\t\\t<meta name=\"theme-color\" content=\"#171a21\">\\r\\n\\t\\t<title>Save 40% on Horizon Zero Dawn™ Complete Edition on Steam</title>\\r\\n\\t<link rel=\"shortcut icon\" href=\"/favicon.ico\" type=\"image/x-icon\">\\r\\n\\r\\n\\t\\r\\n\\t\\r\\n\\t<link href=\"https://store.akamai.steamstatic.com/public/shared/css/motiva_sans.css?v=Rc2hpzg2Ex3T&amp;l=english\" rel=\"stylesheet\" type=\"text/css\" >\\n<link href=\"https://store.akamai.steamstatic.com/public/shared/css/shared_global.css?v=14RNXYQwvlll&amp;l=english\" rel=\"stylesheet\" type=\"text/css\" >\\n<link href=\"https://store.akamai.steamstatic.com/public/shared/css/buttons.css?v=6PFqex5UPprb&amp;l=english\" rel=\"stylesheet\" type=\"text/css\" >\\n<link href=\"https://store.akamai.steamstatic.com/public/css/v6/store.css?v=3_8obo1e4tX9&amp;l=english\" rel=\"stylesheet\" type=\"text/css\" >\\n<link href=\"htt'"
      ]
     },
     "execution_count": 147,
     "metadata": {},
     "output_type": "execute_result"
    }
   ],
   "source": [
    "#response.text[:1000]"
   ]
  },
  {
   "cell_type": "code",
   "execution_count": 17,
   "metadata": {},
   "outputs": [],
   "source": [
    "#page = response.text #pre selenium"
   ]
  },
  {
   "cell_type": "code",
   "execution_count": 22,
   "metadata": {},
   "outputs": [],
   "source": [
    "#soup = BeautifulSoup(page, 'html5lib')\n",
    "soup = BeautifulSoup(driver.page_source, 'html5lib')"
   ]
  },
  {
   "cell_type": "code",
   "execution_count": 8,
   "metadata": {},
   "outputs": [
    {
     "name": "stdout",
     "output_type": "stream",
     "text": [
      "None\n"
     ]
    }
   ],
   "source": [
    "print(soup.find(\"class='apphub_AppName'\"))"
   ]
  },
  {
   "cell_type": "markdown",
   "metadata": {},
   "source": [
    "# NAME"
   ]
  },
  {
   "cell_type": "code",
   "execution_count": 108,
   "metadata": {},
   "outputs": [
    {
     "data": {
      "text/plain": [
       "'Horizon Zero Dawn™ Complete Edition'"
      ]
     },
     "execution_count": 108,
     "metadata": {},
     "output_type": "execute_result"
    }
   ],
   "source": [
    "###FOUND NAME OF GAME ON TOP OF PAGE\n",
    "\n",
    "#game_name = soup.find('span',itemprop=\"name\").text\n",
    "#game_name\n",
    "\n",
    "#soup.find('div', class_='details_block').find('b', text='Title:').findNext().findNext()\n",
    "\n",
    "soup.find('div', class_='apphub_AppName').text"
   ]
  },
  {
   "cell_type": "markdown",
   "metadata": {},
   "source": [
    "# RELEASE DATE"
   ]
  },
  {
   "cell_type": "code",
   "execution_count": 10,
   "metadata": {},
   "outputs": [],
   "source": [
    "#FOUND RELEASE DATE \n",
    "\n",
    "release_date = soup.find('div', class_='date').text"
   ]
  },
  {
   "cell_type": "markdown",
   "metadata": {},
   "source": [
    "# CURATORS/BLOGGERS"
   ]
  },
  {
   "cell_type": "code",
   "execution_count": 212,
   "metadata": {},
   "outputs": [
    {
     "data": {
      "text/plain": [
       "[<h2>About This Game</h2>,\n",
       " <h2>System Requirements</h2>,\n",
       " <h2 class=\"bb_tag\">PRIVACY POLICY</h2>,\n",
       " <h2 class=\"bb_tag\">USER AGREEMENT</h2>,\n",
       " <h2>More like this</h2>,\n",
       " <h2 class=\"user_reviews_header no_bottom_margin\">Customer reviews</h2>,\n",
       " <h2>Popular user-defined tags for this product:<span class=\"app_tag_modal_tooltip\" data-tooltip-text=\"These are tags applied to the product by the most users.  You can click a tag to find other products with that tag applied.  Or, you can hit the plus symbol for any existing tags to increase that tag's popularity on this product.\">(?)</span></h2>,\n",
       " <h2>Sign In</h2>]"
      ]
     },
     "execution_count": 212,
     "metadata": {},
     "output_type": "execute_result"
    }
   ],
   "source": [
    "#!     !     !    !    !    !    !    ! \n",
    "#!     !     !    !\n",
    "#attempting to pull the number of 'curators' - will circle back\n",
    "#soup.find('div', class_=\"no_curators_followed\")\n",
    "\n",
    "#soup.find('div', class_='steam_curators_block block responsive_apppage_reviewblock') #another no\n",
    "\n",
    "#soup.find('h2', text='What Curators Say') #why are these all blank!!\n",
    "\n",
    "#soup.find('div', class_ = 'block_header') #ok this is generic,maybe we can search within\n",
    "#soup.find_all('div', class_ = 'block_header')\n",
    "\n",
    "#soup.find('div', class_=\"steam_curators_block block responsive_apppage_reviewblock\")\n",
    "\n",
    "#soup.find('div', id=\"responsive_apppage_reviewblock_ctn\").findNext\n",
    "\n",
    "##soup.find('div', )\n",
    "\n",
    "#found out must be logged in for this information to populate (thanks ian) so will circle back after using\n",
    "#selenium"
   ]
  },
  {
   "cell_type": "markdown",
   "metadata": {},
   "source": [
    "# NUM REVIEWS"
   ]
  },
  {
   "cell_type": "code",
   "execution_count": null,
   "metadata": {},
   "outputs": [],
   "source": []
  },
  {
   "cell_type": "code",
   "execution_count": 48,
   "metadata": {},
   "outputs": [
    {
     "data": {
      "text/plain": [
       "'45,326'"
      ]
     },
     "execution_count": 48,
     "metadata": {},
     "output_type": "execute_result"
    }
   ],
   "source": [
    "# Number of reviews\n",
    "#num_reviews = soup.find(class_='user_reviews_summary_bar').find_all('span')[-1].text\n",
    "#num_reviews\n",
    "#soup.find('div', id='Reviews_summary', class_='user_reviews_container').find('div', class_='view_all_reviews_btn leftcol')\n",
    "\n",
    "# found total number of reviews only after scrolling with selenium\n",
    "#rev_string = soup.find('div', id='Reviews_summary').find('div', id='ViewAllReviewssummary').find('a').text\n",
    "#split_rev = rev_string.split()\n",
    "\n",
    "\n",
    "\n",
    "#for things in rev_string.split(): #unsure why this was not working exactly.\n",
    "#    num_reviews=[]\n",
    "#    if things.isdigit:\n",
    "#        num_reviews.append(things)  \n",
    "#num_reviews\n",
    "\n",
    "\n",
    "#num_reviews = [int(word) for word in rev_string.split() if word.isdigit()]  #why god.\n",
    "#num_reviews\n",
    "\n",
    "\n",
    "rev_string = soup.find('div', id='Reviews_summary').find('div', id='ViewAllReviewssummary').find('a').text\n",
    "rev_string.split()[2]"
   ]
  },
  {
   "cell_type": "markdown",
   "metadata": {},
   "source": [
    "# REVIEW RATING"
   ]
  },
  {
   "cell_type": "code",
   "execution_count": 13,
   "metadata": {},
   "outputs": [
    {
     "data": {
      "text/plain": [
       "'Mostly Positive'"
      ]
     },
     "execution_count": 13,
     "metadata": {},
     "output_type": "execute_result"
    }
   ],
   "source": [
    "# rating. their rating system must be rese\n",
    "rating = soup.find(class_='user_reviews_summary_bar').find_all('span')[0].text\n",
    "rating"
   ]
  },
  {
   "cell_type": "markdown",
   "metadata": {},
   "source": [
    "# PUBLISHER"
   ]
  },
  {
   "cell_type": "code",
   "execution_count": 109,
   "metadata": {},
   "outputs": [
    {
     "data": {
      "text/plain": [
       "'PlayStation Mobile, Inc.'"
      ]
     },
     "execution_count": 109,
     "metadata": {},
     "output_type": "execute_result"
    }
   ],
   "source": [
    "# obtaining publisher name and url to publisher steam page (for future script of number publisher games)\n",
    "\n",
    "#publisher = soup.find('div', class_='glance_ctn_responsive_left').find_all('a')[-1].text\n",
    "#publisher_url = soup.find('div', class_='glance_ctn_responsive_left').find_all('a')[-1].get('href')\n",
    "\n",
    "#soup.find('div', class_='details_block').find_all('a')[-1].text # this gave an error while running first 50 pages\n",
    "                                                                # editing to find a more generalized way\n",
    "    \n",
    "publisher = soup.find('div', class_='glance_ctn_responsive_left').find_all('a')[-1].text\n",
    "publisher"
   ]
  },
  {
   "cell_type": "markdown",
   "metadata": {},
   "source": [
    "# PRICE"
   ]
  },
  {
   "cell_type": "code",
   "execution_count": 49,
   "metadata": {},
   "outputs": [
    {
     "data": {
      "text/plain": [
       "'$29.99'"
      ]
     },
     "execution_count": 49,
     "metadata": {},
     "output_type": "execute_result"
    }
   ],
   "source": [
    "#while this does obtain the price from the code, it relies heavily on index 4. uknonwn if will work\n",
    "#for multiple pages, as there are multiple prices. hopefully the 4th one is always the most general price\n",
    "#will have to fix\n",
    "\n",
    "#can also possibly be used for sale purposes in the future/ \n",
    "\n",
    "final_price = soup.find('div',class_='game_purchase_action_bg').find_all('div')[4].text"
   ]
  },
  {
   "cell_type": "code",
   "execution_count": 182,
   "metadata": {},
   "outputs": [
    {
     "name": "stdout",
     "output_type": "stream",
     "text": [
      "['-40%', '49.99', '29.99']\n",
      "-40%\n",
      "49.99\n",
      "29.99\n"
     ]
    }
   ],
   "source": [
    "#comparing price xpaths~\n",
    "#xpaths do not seem to be working, or i cannot figuure out proper syntax (have not looked up)\n",
    "\n",
    "#HZD_price_xpath = (soup.find('//*[@id=\"game_area_purchase_section_add_to_cart_392522\"]/div[2]/div/div[1]/div[2]/div[2]'))\n",
    "#soup.find('id', text='game_area_purchase_section_add_to_cart_392522')\n",
    "\n",
    "#soup.find('div', id='game_area_purchase')\n",
    "#soup.find('div', id='leftcol game_description_column')\n",
    "#soup.find('div', id='game_area_purchase')\n",
    "\n",
    "\n",
    "#OK i have found this nice string that contains the discount, the original, and the final price\n",
    "#this can be stripped for those numbers, but I will have to see if applicable to all game pages, \n",
    "#otherwise maybe a game price list can be utilized from a separate source\n",
    "\n",
    "#price_string = soup.find('div', class_='game_purchase_action').text\n",
    "#stripped_price = price_string.strip('\\n')[:16]\n",
    "#split_price = stripped_price.split('$')\n",
    "#discount = split_price[0]\n",
    "#original_price = split_price[1]\n",
    "#sale_price = split_price[2]\n",
    "#print(price_string)\n",
    "#print(split_price)\n",
    "#print(discount)\n",
    "#print(original_price)\n",
    "#print(sale_price)"
   ]
  },
  {
   "cell_type": "code",
   "execution_count": null,
   "metadata": {},
   "outputs": [],
   "source": [
    "#after fumbling with the price on this page, I have relized the discount, original price, and sale price\n",
    "#are all obtainable from the page with the list of games, all formatted the same, leaving code for sake\n",
    "#of seeing workflow"
   ]
  },
  {
   "cell_type": "markdown",
   "metadata": {},
   "source": [
    "# GENRE"
   ]
  },
  {
   "cell_type": "code",
   "execution_count": 59,
   "metadata": {},
   "outputs": [
    {
     "data": {
      "text/plain": [
       "'Action'"
      ]
     },
     "execution_count": 59,
     "metadata": {},
     "output_type": "execute_result"
    }
   ],
   "source": [
    "#SO genres are listed in groups, unsure how to process that when coming to regression.\n",
    "# possible anlysis - use just the firt genre, as it could be considered most important.\n",
    "\n",
    "#genres are listed alphabetically! this code will only find first genre listed.\n",
    "\n",
    "genre_first = soup.find('b',text='Genre:').findNext().text\n",
    "genre_first"
   ]
  },
  {
   "cell_type": "code",
   "execution_count": 81,
   "metadata": {},
   "outputs": [
    {
     "data": {
      "text/plain": [
       "<div class=\"details_block\">\n",
       "\t\t\t<b>Title:</b> Horizon Zero Dawn™ Complete Edition<br/>\n",
       "\t\n",
       "\t\t\t\t<b>Genre:</b> <a href=\"https://store.steampowered.com/genre/Action/?snr=1_5_9__408\">Action</a>, <a href=\"https://store.steampowered.com/genre/Adventure/?snr=1_5_9__408\">Adventure</a>, <a href=\"https://store.steampowered.com/genre/RPG/?snr=1_5_9__408\">RPG</a><br/>\n",
       "\t\t\t\n",
       "\t\t\t<div class=\"dev_row\">\n",
       "\t\t\t<b>Developer:</b>\n",
       "\n",
       "\t\t\t\t<a href=\"https://store.steampowered.com/search/?developer=Guerrilla&amp;snr=1_5_9__408\">Guerrilla</a>\n",
       "\t\t</div>\n",
       "\t\n",
       "\t\t\t<div class=\"dev_row\">\n",
       "\t\t\t<b>Publisher:</b>\n",
       "\n",
       "\t\t\t\t<a href=\"https://store.steampowered.com/search/?publisher=PlayStation%20Mobile%2C%20Inc.&amp;snr=1_5_9__422\">PlayStation Mobile, Inc.</a>\t\t\t\n",
       "\t\t</div>\n",
       "\t\n",
       "\t\t\n",
       "\t\t\t<b>Release Date:</b> Aug 7, 2020<br/>\n",
       "\t\n",
       "\t\n",
       "\t</div>"
      ]
     },
     "execution_count": 81,
     "metadata": {},
     "output_type": "execute_result"
    }
   ],
   "source": [
    "#does find all genres, but do not know how to seperate for developer\n",
    "soup.find('div', class_='details_block')"
   ]
  },
  {
   "cell_type": "code",
   "execution_count": 193,
   "metadata": {},
   "outputs": [
    {
     "name": "stdout",
     "output_type": "stream",
     "text": [
      "['Action', 'Adventure', 'RPG']\n",
      "3\n"
     ]
    }
   ],
   "source": [
    "#we can try calling the whole list except the last 2! assuming there is only one link for developer\n",
    "#and one link for publisher and they never list collaborations, this will work. future analysis will need \n",
    "#to be performed. idealy we could slice unitl new nested class\n",
    "genres_list = soup.find('div', class_='details_block').find_all('a')[0:-2]\n",
    "genres_all = []\n",
    "for links in genres_list:\n",
    "    genres_all.append(links.text)\n",
    "# do not know how to pull out this text\n",
    "print(genres_all)\n",
    "num_genres = len(genres_all)\n",
    "print(num_genres)"
   ]
  },
  {
   "cell_type": "code",
   "execution_count": 240,
   "metadata": {},
   "outputs": [
    {
     "data": {
      "text/plain": [
       "['Action', 'Adventure', 'RPG']"
      ]
     },
     "execution_count": 240,
     "metadata": {},
     "output_type": "execute_result"
    }
   ],
   "source": [
    "maybe = [link.text for link in soup.find('div', class_='details_block').find_all('a')[0:-2]]\n",
    "maybe\n"
   ]
  },
  {
   "cell_type": "code",
   "execution_count": null,
   "metadata": {},
   "outputs": [],
   "source": [
    "##enough for one night. tomorrow, see if all data can be repulled from same tables for uniformity\n",
    "## compare xpaths for prices on different pages to see if they are usable instead! could be easier.\n",
    "#still missing languages,tags, number of tags, and bloggers "
   ]
  },
  {
   "cell_type": "markdown",
   "metadata": {},
   "source": [
    "# TAGS"
   ]
  },
  {
   "cell_type": "code",
   "execution_count": 67,
   "metadata": {},
   "outputs": [
    {
     "data": {
      "text/plain": [
       "['Adventure',\n",
       " 'Open World',\n",
       " 'Action',\n",
       " 'Female Protagonist',\n",
       " 'RPG',\n",
       " 'Singleplayer',\n",
       " 'Story Rich',\n",
       " 'Post-apocalyptic',\n",
       " 'Robots',\n",
       " 'Sci-fi',\n",
       " 'Third Person',\n",
       " 'Exploration',\n",
       " 'Beautiful',\n",
       " 'Atmospheric',\n",
       " 'Great Soundtrack',\n",
       " 'Action RPG',\n",
       " 'Archery',\n",
       " 'Hunting',\n",
       " 'Dinosaurs',\n",
       " 'Stealth']"
      ]
     },
     "execution_count": 67,
     "metadata": {},
     "output_type": "execute_result"
    }
   ],
   "source": [
    "#code finds all tags, but again is a find from a find which returns a list, cannot call.txt\n",
    "tags = soup.find('div', class_='glance_tags').find_all('a')\n",
    "len(tags)\n",
    "tags_list = []\n",
    "#i=0\n",
    "#for item in genres_all:\n",
    "#    genre_list.append(genres_all[i].text())\n",
    "#genres_all[0].text # cannot call text on the list. help.\n",
    "\n",
    "for items in tags:\n",
    "    tags_list.append(items.text.strip())\n",
    "tags_list"
   ]
  },
  {
   "cell_type": "markdown",
   "metadata": {},
   "source": [
    "# LANGUAGE"
   ]
  },
  {
   "cell_type": "code",
   "execution_count": 94,
   "metadata": {},
   "outputs": [
    {
     "data": {
      "text/plain": [
       "<tr>\n",
       "<th style=\"width: 94px;\"></th>\n",
       "<th class=\"checkcol\">Interface</th>\n",
       "<th class=\"checkcol\">Full Audio</th>\n",
       "<th class=\"checkcol\">Subtitles</th>\n",
       "</tr>"
      ]
     },
     "execution_count": 94,
     "metadata": {},
     "output_type": "execute_result"
    }
   ],
   "source": [
    "#attempting to get language. bottom of the table has the total number of languages. trying to find it\n",
    "\n",
    "#soup.find('table',class_='game_language_options').findNext()"
   ]
  },
  {
   "cell_type": "code",
   "execution_count": 57,
   "metadata": {},
   "outputs": [
    {
     "data": {
      "text/plain": [
       "'20'"
      ]
     },
     "execution_count": 57,
     "metadata": {},
     "output_type": "execute_result"
    }
   ],
   "source": [
    "#hoorah! found the string, the number can be extracted tomrrow\n",
    "languagez = soup.find('a', class_='all_languages').text.split()[2]\n",
    "languagez"
   ]
  },
  {
   "cell_type": "code",
   "execution_count": null,
   "metadata": {},
   "outputs": [],
   "source": [
    "##ok really stopping for the night. morning office hours - how to pull the text out of a list, \n",
    "# like after finding then finding again, for both genre and tags.\n",
    "\n",
    "#inquire about the order of using multiple pages, like i have to go from games list to game page to developer\n",
    "# page, should that all happen at once, or should I run a separate devloper loop?\n",
    "\n",
    "#ask about language number being a list, is there a better way to extract the information?"
   ]
  },
  {
   "cell_type": "code",
   "execution_count": 51,
   "metadata": {},
   "outputs": [],
   "source": [
    "language = (word for word in languagez if word.isdigit())"
   ]
  },
  {
   "cell_type": "code",
   "execution_count": 52,
   "metadata": {},
   "outputs": [
    {
     "data": {
      "text/plain": [
       "<generator object <genexpr> at 0x7fd2f9072a50>"
      ]
     },
     "execution_count": 52,
     "metadata": {},
     "output_type": "execute_result"
    }
   ],
   "source": [
    "language"
   ]
  },
  {
   "cell_type": "code",
   "execution_count": 121,
   "metadata": {},
   "outputs": [
    {
     "data": {
      "text/plain": [
       "['20']"
      ]
     },
     "execution_count": 121,
     "metadata": {},
     "output_type": "execute_result"
    }
   ],
   "source": [
    "languages_split = languagez.split()\n",
    "languages_split\n",
    "language_number = []\n",
    "for word in languages_split:\n",
    "    if word.isdigit():\n",
    "        language_number.append(word)\n",
    "        x=word\n",
    "language_number"
   ]
  },
  {
   "cell_type": "code",
   "execution_count": 122,
   "metadata": {},
   "outputs": [
    {
     "data": {
      "text/plain": [
       "'20'"
      ]
     },
     "execution_count": 122,
     "metadata": {},
     "output_type": "execute_result"
    }
   ],
   "source": [
    "x"
   ]
  },
  {
   "cell_type": "code",
   "execution_count": null,
   "metadata": {},
   "outputs": [],
   "source": []
  },
  {
   "cell_type": "code",
   "execution_count": null,
   "metadata": {},
   "outputs": [],
   "source": []
  },
  {
   "cell_type": "code",
   "execution_count": null,
   "metadata": {},
   "outputs": [],
   "source": []
  }
 ],
 "metadata": {
  "kernelspec": {
   "display_name": "Python 3",
   "language": "python",
   "name": "python3"
  },
  "language_info": {
   "codemirror_mode": {
    "name": "ipython",
    "version": 3
   },
   "file_extension": ".py",
   "mimetype": "text/x-python",
   "name": "python",
   "nbconvert_exporter": "python",
   "pygments_lexer": "ipython3",
   "version": "3.8.5"
  }
 },
 "nbformat": 4,
 "nbformat_minor": 5
}
