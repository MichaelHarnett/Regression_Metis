{
 "cells": [
  {
   "cell_type": "code",
   "execution_count": 1,
   "id": "musical-writer",
   "metadata": {},
   "outputs": [
    {
     "name": "stdout",
     "output_type": "stream",
     "text": [
      "Collecting selenium\n",
      "  Downloading selenium-3.141.0-py2.py3-none-any.whl (904 kB)\n",
      "\u001b[K     |████████████████████████████████| 904 kB 5.4 MB/s eta 0:00:01\n",
      "\u001b[?25hRequirement already satisfied: urllib3 in /usr/local/anaconda3/lib/python3.8/site-packages (from selenium) (1.25.11)\n",
      "Installing collected packages: selenium\n",
      "Successfully installed selenium-3.141.0\n"
     ]
    }
   ],
   "source": [
    "!pip install selenium"
   ]
  },
  {
   "cell_type": "code",
   "execution_count": 10,
   "id": "employed-vermont",
   "metadata": {},
   "outputs": [],
   "source": [
    "from bs4 import BeautifulSoup\n",
    "import requests\n",
    "import pandas as pd\n",
    "from selenium import webdriver\n",
    "from selenium.webdriver.common.keys import Keys\n",
    "import time, os\n",
    "\n",
    "chromedriver = \"/Applications/chromedriver\" # path to the chromedriver executable\n",
    "os.environ[\"webdriver.chrome.driver\"] = chromedriver\n",
    "\n",
    "url = 'https://store.steampowered.com/search/?filter=topsellers'\n",
    "\n",
    "user_agent = {'User-agent': 'Mozilla/5.0'}\n",
    "driver = webdriver.Chrome(chromedriver)\n",
    "driver.get(url)"
   ]
  },
  {
   "cell_type": "code",
   "execution_count": 8,
   "id": "applicable-projection",
   "metadata": {},
   "outputs": [],
   "source": [
    "soup = BeautifulSoup(driver.page_source, 'html5lib')"
   ]
  },
  {
   "cell_type": "code",
   "execution_count": 5,
   "id": "olympic-preservation",
   "metadata": {},
   "outputs": [],
   "source": [
    "table = soup.find('div', id='search_resultsRows')\n",
    "table\n",
    "rows = [row for row in table.find_all('a')]"
   ]
  },
  {
   "cell_type": "code",
   "execution_count": 6,
   "id": "surface-execution",
   "metadata": {},
   "outputs": [
    {
     "data": {
      "text/plain": [
       "50"
      ]
     },
     "execution_count": 6,
     "metadata": {},
     "output_type": "execute_result"
    }
   ],
   "source": [
    "len(rows)"
   ]
  },
  {
   "cell_type": "code",
   "execution_count": 13,
   "id": "facial-relevance",
   "metadata": {},
   "outputs": [],
   "source": [
    "#this was sufficient to scroll to the bottom of the top sellers page for steam, pulling code from scraping list\n",
    "for i in range(500):\n",
    "    #Scroll\n",
    "    driver.execute_script(\n",
    "        \"window.scrollTo(0, document.documentElement.scrollHeight);\" #Alternatively, document.body.scrollHeight\n",
    "    )\n",
    "    time.sleep(1)"
   ]
  },
  {
   "cell_type": "code",
   "execution_count": 15,
   "id": "employed-stress",
   "metadata": {},
   "outputs": [],
   "source": [
    "soup = BeautifulSoup(driver.page_source, 'html5lib')"
   ]
  },
  {
   "cell_type": "code",
   "execution_count": 16,
   "id": "pretty-transmission",
   "metadata": {},
   "outputs": [
    {
     "data": {
      "text/plain": [
       "16483"
      ]
     },
     "execution_count": 16,
     "metadata": {},
     "output_type": "execute_result"
    }
   ],
   "source": [
    "#successfully scraped 16.5k elements, hopefully all games.\n",
    "table = soup.find('div', id='search_resultsRows')\n",
    "table\n",
    "rows = [row for row in table.find_all('a')]\n",
    "rows[0]\n",
    "len(rows)"
   ]
  },
  {
   "cell_type": "code",
   "execution_count": 32,
   "id": "moving-desire",
   "metadata": {},
   "outputs": [],
   "source": [
    "#pulling code created in 'scraping_list' notebook to create dataframe.\n",
    "#dataframe index is game name, \n",
    "\n",
    "games = {}\n",
    "\n",
    "for row in rows:\n",
    "    title = (row.find('span', class_='title').text)\n",
    "    url = row.get('href')\n",
    "    release_date = (row.find('div', class_='col search_released responsive_secondrow').text)\n",
    "    if (row.find('div', class_='col search_discount responsive_secondrow').text.strip()) == '':\n",
    "        been_sale = 0\n",
    "    else:\n",
    "        been_sale = 1\n",
    "    if been_sale == 0:\n",
    "        orig_price = (row.find('div', class_='col search_price responsive_secondrow').text.strip())\n",
    "    else:\n",
    "        orig_price = (row.find('strike').text)\n",
    "    games[title] = (url, \n",
    "                    release_date,\n",
    "                    been_sale,\n",
    "                    orig_price)\n",
    "    "
   ]
  },
  {
   "cell_type": "code",
   "execution_count": 34,
   "id": "stock-reliance",
   "metadata": {},
   "outputs": [
    {
     "data": {
      "text/plain": [
       "(16374, 4)"
      ]
     },
     "execution_count": 34,
     "metadata": {},
     "output_type": "execute_result"
    }
   ],
   "source": [
    "gamesdf1 = pd.DataFrame(games).T\n",
    "gamesdf1.columns = ['link', 'release_date', 'been_sale', 'orig_price']\n",
    "\n",
    "gamesdf1.shape"
   ]
  },
  {
   "cell_type": "code",
   "execution_count": 35,
   "id": "thousand-nicaragua",
   "metadata": {},
   "outputs": [
    {
     "name": "stdout",
     "output_type": "stream",
     "text": [
      "<class 'pandas.core.frame.DataFrame'>\n",
      "Index: 16374 entries, OUTRIDERS to RPG Maker MZ Bundle S\n",
      "Data columns (total 4 columns):\n",
      " #   Column        Non-Null Count  Dtype \n",
      "---  ------        --------------  ----- \n",
      " 0   link          16374 non-null  object\n",
      " 1   release_date  16374 non-null  object\n",
      " 2   been_sale     16374 non-null  object\n",
      " 3   orig_price    16374 non-null  object\n",
      "dtypes: object(4)\n",
      "memory usage: 639.6+ KB\n"
     ]
    }
   ],
   "source": [
    "#no nulls!!\n",
    "gamesdf1.info()"
   ]
  },
  {
   "cell_type": "code",
   "execution_count": 36,
   "id": "extra-pakistan",
   "metadata": {},
   "outputs": [
    {
     "data": {
      "text/html": [
       "<div>\n",
       "<style scoped>\n",
       "    .dataframe tbody tr th:only-of-type {\n",
       "        vertical-align: middle;\n",
       "    }\n",
       "\n",
       "    .dataframe tbody tr th {\n",
       "        vertical-align: top;\n",
       "    }\n",
       "\n",
       "    .dataframe thead th {\n",
       "        text-align: right;\n",
       "    }\n",
       "</style>\n",
       "<table border=\"1\" class=\"dataframe\">\n",
       "  <thead>\n",
       "    <tr style=\"text-align: right;\">\n",
       "      <th></th>\n",
       "      <th>link</th>\n",
       "      <th>release_date</th>\n",
       "      <th>been_sale</th>\n",
       "      <th>orig_price</th>\n",
       "    </tr>\n",
       "  </thead>\n",
       "  <tbody>\n",
       "    <tr>\n",
       "      <th>OUTRIDERS</th>\n",
       "      <td>https://store.steampowered.com/sub/504022/?snr...</td>\n",
       "      <td>Apr 1, 2021</td>\n",
       "      <td>0</td>\n",
       "      <td>$59.99</td>\n",
       "    </tr>\n",
       "    <tr>\n",
       "      <th>Sea of Thieves</th>\n",
       "      <td>https://store.steampowered.com/app/1172620/Sea...</td>\n",
       "      <td>Jun 3, 2020</td>\n",
       "      <td>1</td>\n",
       "      <td>$39.99</td>\n",
       "    </tr>\n",
       "    <tr>\n",
       "      <th>Halo: The Master Chief Collection</th>\n",
       "      <td>https://store.steampowered.com/sub/376282/?snr...</td>\n",
       "      <td>Dec 3, 2019</td>\n",
       "      <td>1</td>\n",
       "      <td>$39.99</td>\n",
       "    </tr>\n",
       "    <tr>\n",
       "      <th>It Takes Two</th>\n",
       "      <td>https://store.steampowered.com/app/1426210/It_...</td>\n",
       "      <td>Mar 26, 2021</td>\n",
       "      <td>0</td>\n",
       "      <td>$39.99</td>\n",
       "    </tr>\n",
       "    <tr>\n",
       "      <th>The Legend of Heroes: Trails of Cold Steel IV Digital Deluxe Edition (Launch Week only)</th>\n",
       "      <td>https://store.steampowered.com/bundle/20467/Th...</td>\n",
       "      <td></td>\n",
       "      <td>0</td>\n",
       "      <td>$79.96</td>\n",
       "    </tr>\n",
       "  </tbody>\n",
       "</table>\n",
       "</div>"
      ],
      "text/plain": [
       "                                                                                                 link  \\\n",
       "OUTRIDERS                                           https://store.steampowered.com/sub/504022/?snr...   \n",
       "Sea of Thieves                                      https://store.steampowered.com/app/1172620/Sea...   \n",
       "Halo: The Master Chief Collection                   https://store.steampowered.com/sub/376282/?snr...   \n",
       "It Takes Two                                        https://store.steampowered.com/app/1426210/It_...   \n",
       "The Legend of Heroes: Trails of Cold Steel IV D...  https://store.steampowered.com/bundle/20467/Th...   \n",
       "\n",
       "                                                    release_date been_sale  \\\n",
       "OUTRIDERS                                            Apr 1, 2021         0   \n",
       "Sea of Thieves                                       Jun 3, 2020         1   \n",
       "Halo: The Master Chief Collection                    Dec 3, 2019         1   \n",
       "It Takes Two                                        Mar 26, 2021         0   \n",
       "The Legend of Heroes: Trails of Cold Steel IV D...                       0   \n",
       "\n",
       "                                                   orig_price  \n",
       "OUTRIDERS                                              $59.99  \n",
       "Sea of Thieves                                         $39.99  \n",
       "Halo: The Master Chief Collection                      $39.99  \n",
       "It Takes Two                                           $39.99  \n",
       "The Legend of Heroes: Trails of Cold Steel IV D...     $79.96  "
      ]
     },
     "execution_count": 36,
     "metadata": {},
     "output_type": "execute_result"
    }
   ],
   "source": [
    "gamesdf1.head()"
   ]
  },
  {
   "cell_type": "code",
   "execution_count": 37,
   "id": "concerned-vermont",
   "metadata": {},
   "outputs": [
    {
     "data": {
      "text/html": [
       "<div>\n",
       "<style scoped>\n",
       "    .dataframe tbody tr th:only-of-type {\n",
       "        vertical-align: middle;\n",
       "    }\n",
       "\n",
       "    .dataframe tbody tr th {\n",
       "        vertical-align: top;\n",
       "    }\n",
       "\n",
       "    .dataframe thead th {\n",
       "        text-align: right;\n",
       "    }\n",
       "</style>\n",
       "<table border=\"1\" class=\"dataframe\">\n",
       "  <thead>\n",
       "    <tr style=\"text-align: right;\">\n",
       "      <th></th>\n",
       "      <th>link</th>\n",
       "      <th>release_date</th>\n",
       "      <th>been_sale</th>\n",
       "      <th>orig_price</th>\n",
       "    </tr>\n",
       "  </thead>\n",
       "  <tbody>\n",
       "    <tr>\n",
       "      <th>Kai Entity</th>\n",
       "      <td>https://store.steampowered.com/app/931620/Kai_...</td>\n",
       "      <td>Sep 18, 2018</td>\n",
       "      <td>1</td>\n",
       "      <td>$0.99</td>\n",
       "    </tr>\n",
       "    <tr>\n",
       "      <th>aMAZE Dark Times</th>\n",
       "      <td>https://store.steampowered.com/app/692200/aMAZ...</td>\n",
       "      <td>Aug 17, 2017</td>\n",
       "      <td>1</td>\n",
       "      <td>$0.99</td>\n",
       "    </tr>\n",
       "    <tr>\n",
       "      <th>Command Modern Operations + Tacview Advanced</th>\n",
       "      <td>https://store.steampowered.com/bundle/12584/Co...</td>\n",
       "      <td></td>\n",
       "      <td>0</td>\n",
       "      <td>$112.48</td>\n",
       "    </tr>\n",
       "    <tr>\n",
       "      <th>Last Year Ultimate Edition</th>\n",
       "      <td>https://store.steampowered.com/bundle/16734/La...</td>\n",
       "      <td></td>\n",
       "      <td>0</td>\n",
       "      <td>$20.21</td>\n",
       "    </tr>\n",
       "    <tr>\n",
       "      <th>RPG Maker MZ Bundle S</th>\n",
       "      <td>https://store.steampowered.com/bundle/15854/RP...</td>\n",
       "      <td></td>\n",
       "      <td>0</td>\n",
       "      <td>$158.89</td>\n",
       "    </tr>\n",
       "  </tbody>\n",
       "</table>\n",
       "</div>"
      ],
      "text/plain": [
       "                                                                                           link  \\\n",
       "Kai Entity                                    https://store.steampowered.com/app/931620/Kai_...   \n",
       "aMAZE Dark Times                              https://store.steampowered.com/app/692200/aMAZ...   \n",
       "Command Modern Operations + Tacview Advanced  https://store.steampowered.com/bundle/12584/Co...   \n",
       "Last Year Ultimate Edition                    https://store.steampowered.com/bundle/16734/La...   \n",
       "RPG Maker MZ Bundle S                         https://store.steampowered.com/bundle/15854/RP...   \n",
       "\n",
       "                                              release_date been_sale  \\\n",
       "Kai Entity                                    Sep 18, 2018         1   \n",
       "aMAZE Dark Times                              Aug 17, 2017         1   \n",
       "Command Modern Operations + Tacview Advanced                       0   \n",
       "Last Year Ultimate Edition                                         0   \n",
       "RPG Maker MZ Bundle S                                              0   \n",
       "\n",
       "                                             orig_price  \n",
       "Kai Entity                                        $0.99  \n",
       "aMAZE Dark Times                                  $0.99  \n",
       "Command Modern Operations + Tacview Advanced    $112.48  \n",
       "Last Year Ultimate Edition                       $20.21  \n",
       "RPG Maker MZ Bundle S                           $158.89  "
      ]
     },
     "execution_count": 37,
     "metadata": {},
     "output_type": "execute_result"
    }
   ],
   "source": [
    "gamesdf1.tail()"
   ]
  },
  {
   "cell_type": "code",
   "execution_count": null,
   "id": "crucial-accused",
   "metadata": {},
   "outputs": [],
   "source": []
  },
  {
   "cell_type": "code",
   "execution_count": null,
   "id": "romance-constitutional",
   "metadata": {},
   "outputs": [],
   "source": []
  }
 ],
 "metadata": {
  "kernelspec": {
   "display_name": "Python [conda env:root]",
   "language": "python",
   "name": "conda-root-py"
  },
  "language_info": {
   "codemirror_mode": {
    "name": "ipython",
    "version": 3
   },
   "file_extension": ".py",
   "mimetype": "text/x-python",
   "name": "python",
   "nbconvert_exporter": "python",
   "pygments_lexer": "ipython3",
   "version": "3.8.5"
  }
 },
 "nbformat": 4,
 "nbformat_minor": 5
}
