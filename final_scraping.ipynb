{
 "cells": [
  {
   "cell_type": "markdown",
   "metadata": {},
   "source": [
    "# Final Scraping Code\n",
    "This code is the final scraping code from previous 3 pages condensed into what worked as the final model.\n",
    "It will load seatm in selennium, verify age, scrape the list, then scrape each game in the list."
   ]
  },
  {
   "cell_type": "code",
   "execution_count": 26,
   "metadata": {},
   "outputs": [],
   "source": []
  },
  {
   "cell_type": "code",
   "execution_count": 29,
   "metadata": {},
   "outputs": [],
   "source": [
    "from bs4 import BeautifulSoup\n",
    "import requests\n",
    "import pandas as pd\n",
    "from selenium import webdriver\n",
    "from selenium.webdriver.common.keys import Keys\n",
    "import time, os\n",
    "from selenium.webdriver.common.by import By\n",
    "from selenium.webdriver.support.ui import WebDriverWait\n",
    "from selenium.webdriver.support import expected_conditions as EC\n",
    "import numpy as np\n",
    "\n",
    "\n",
    "chromedriver = \"/Applications/chromedriver\" \n",
    "os.environ[\"webdriver.chrome.driver\"] = chromedriver\n",
    "\n",
    "url = 'https://store.steampowered.com/search/?filter=topsellers'\n",
    "\n",
    "driver = webdriver.Chrome(chromedriver)\n",
    "driver.get(url)\n",
    "\n",
    "#Age verification for site\n",
    "\n",
    "# finds first game button\n",
    "button = driver.find_element_by_xpath('//*[@id=\"search_resultsRows\"]/a[1]') \n",
    "button.click()\n",
    "\n",
    "# finds the year slider \n",
    "year_slider = driver.find_element_by_xpath('//*[@id=\"ageYear\"]')\n",
    "#chooses an appropriate age\n",
    "right_age = driver.find_element_by_xpath('//*[@id=\"ageYear\"]/option[91]')\n",
    "#confirm button. \n",
    "confirm = driver.find_element_by_xpath('//*[@id=\"app_agegate\"]/div[1]/div[3]/a[1]')\n",
    "\n",
    "year_slider.click()\n",
    "right_age.click()\n",
    "confirm.click()\n",
    "driver.get(url) # goes back to list after verification"
   ]
  },
  {
   "cell_type": "markdown",
   "metadata": {},
   "source": [
    "# Creating master list of games"
   ]
  },
  {
   "cell_type": "code",
   "execution_count": 5,
   "metadata": {},
   "outputs": [],
   "source": [
    "# scrolls the entire 'top sellers' game page \n",
    "for i in range(800):\n",
    "    #Scroll\n",
    "    driver.execute_script(\n",
    "        \"window.scrollTo(0, document.documentElement.scrollHeight);\"\n",
    "    )\n",
    "    time.sleep(1)"
   ]
  },
  {
   "cell_type": "code",
   "execution_count": 7,
   "metadata": {},
   "outputs": [
    {
     "data": {
      "text/plain": [
       "16863"
      ]
     },
     "execution_count": 7,
     "metadata": {},
     "output_type": "execute_result"
    }
   ],
   "source": [
    "#the following pulls the table containing the games, and separates them by hyperlink, which is each game\n",
    "soup = BeautifulSoup(driver.page_source, 'html5lib')\n",
    "table = soup.find('div', id='search_resultsRows')\n",
    "table\n",
    "rows = [row for row in table.find_all('a')]\n",
    "rows[0]\n",
    "len(rows)"
   ]
  },
  {
   "cell_type": "code",
   "execution_count": 30,
   "metadata": {},
   "outputs": [],
   "source": [
    "# extracts first bits of data from the master list: game name, release date, if it is on sale, and original price \n",
    "\n",
    "games = {}\n",
    "\n",
    "for row in rows:\n",
    "    title = (row.find('span', class_='title').text)\n",
    "    url = row.get('href')\n",
    "    release_date = (row.find('div', class_='col search_released responsive_secondrow').text)\n",
    "    if (row.find('div', class_='col search_discount responsive_secondrow').text.strip()) == '':\n",
    "        been_sale = 0\n",
    "    else:\n",
    "        been_sale = 1\n",
    "    if been_sale == 0:\n",
    "        orig_price = (row.find('div', class_='col search_price responsive_secondrow').text.strip())\n",
    "    else:\n",
    "        orig_price = (row.find('strike').text)\n",
    "    games[title] = (url, \n",
    "                    release_date,\n",
    "                    been_sale,\n",
    "                    orig_price)\n",
    "    "
   ]
  },
  {
   "cell_type": "code",
   "execution_count": 31,
   "metadata": {},
   "outputs": [
    {
     "data": {
      "text/plain": [
       "(16730, 4)"
      ]
     },
     "execution_count": 31,
     "metadata": {},
     "output_type": "execute_result"
    }
   ],
   "source": [
    "# Converting data scraped from list into DataFrame\n",
    "gamesdf1 = pd.DataFrame(games).T\n",
    "gamesdf1.columns = ['link', 'release_date', 'been_sale', 'orig_price']\n",
    "\n",
    "gamesdf1.shape"
   ]
  },
  {
   "cell_type": "markdown",
   "metadata": {},
   "source": [
    "# Scraping each game from master list"
   ]
  },
  {
   "cell_type": "code",
   "execution_count": 32,
   "metadata": {},
   "outputs": [],
   "source": [
    "\n",
    "def get_game_details(url):\n",
    "\n",
    "    '''\n",
    "    the following function will take the url from the dataframe passed (gamesdf1 in this case), and will scrape\n",
    "    the game page for title, total number of reviews, review rating, number of languages offered, \n",
    "    user assigned tags for the game, number of different tags, game genres, number of different genres, and the \n",
    "    publisher that produced the game. It will assign all of this information into a dictionary of games. If \n",
    "    the data is not found on the game page, it will retrn null.\n",
    "    '''\n",
    "\n",
    "    \n",
    "    \n",
    "    #Request HTML and parse\n",
    "    response = driver.get(url)\n",
    "    \n",
    "    for i in range(3):\n",
    "        #Scroll\n",
    "        driver.execute_script(\n",
    "            \"window.scrollTo(0, document.documentElement.scrollHeight);\" #Alternatively, document.body.scrollHeight\n",
    "        )\n",
    "        time.sleep(.2)\n",
    "        #element = WebDriverWait(driver, 10).until(\n",
    "        #EC.presence_of_element_located((By.ID, \"ViewAllReviewssummary\")))\n",
    "            \n",
    "    \n",
    "    soup = BeautifulSoup(driver.page_source, \"html5lib\")\n",
    "    \n",
    "    \n",
    "\n",
    "    \n",
    "    headers = ['title', 'num_reviews', 'review_rating', \n",
    "              'num_languages', 'tags', 'num_tags',\n",
    "              'genres', 'num_genres', 'publisher']\n",
    "    \n",
    "    #Get title\n",
    "    if not (soup.find('div', class_='apphub_AppName')):\n",
    "        title = 'HELP'\n",
    "    else:\n",
    "        title = soup.find('div', class_='apphub_AppName').text\n",
    "\n",
    "    #Get number of reviews\n",
    "    if not (soup.find('div', id='Reviews_summary')):\n",
    "        num_reviews = np.nan\n",
    "    elif not (soup.find('div', id='Reviews_summary').find('div', id='ViewAllReviewssummary')):\n",
    "        num_reviews = np.nan\n",
    "    elif not soup.find('div', id='Reviews_summary').find('div', id='ViewAllReviewssummary').find('a'):\n",
    "        num_reviews = np.nan\n",
    "    else:\n",
    "        rev_string = soup.find('div', id='Reviews_summary').find('div', id='ViewAllReviewssummary').find('a').text\n",
    "        num_reviews = rev_string.split()[2]\n",
    "     \n",
    "\n",
    "    #Get review rating\n",
    "    if not (soup.find(class_='user_reviews_summary_bar')):\n",
    "        rating = np.nan\n",
    "    elif not soup.find(class_='user_reviews_summary_bar').find_all('span'):\n",
    "        rating = np.nan\n",
    "    else:\n",
    "        rating = soup.find(class_='user_reviews_summary_bar').find_all('span')[0].text\n",
    "    \n",
    "    \n",
    "    #Get number of languages offered in\n",
    "    if not soup.find('a', class_='all_languages'):\n",
    "        num_languages = np.nan\n",
    "    else:\n",
    "        num_languages = soup.find('a', class_='all_languages').text.split()[2]\n",
    "    \n",
    "\n",
    "    #Get tags associated with game\n",
    "    if not soup.find('div', class_='glance_tags'):\n",
    "        tags_list = np.nan\n",
    "    else:\n",
    "        tags = soup.find('div', class_='glance_tags').find_all('a')\n",
    "        tags_list = []\n",
    "        for items in tags:\n",
    "            tags_list.append(items.text.strip())\n",
    "    \n",
    "    \n",
    "    #number of tags\n",
    "    if not soup.find('div', class_='glance_tags'):\n",
    "        num_tags = np.nan\n",
    "    else:\n",
    "        num_tags = len(tags_list)\n",
    "    \n",
    "    #genres list\n",
    "    if not soup.find('div', class_='details_block'):\n",
    "        genres_list = np.nan\n",
    "    else:\n",
    "        genres_all = soup.find('div', class_='details_block').find_all('a')[0:-2]\n",
    "        genres_list = []\n",
    "        for links in genres_all:\n",
    "            genres_list.append(links.text)\n",
    "        \n",
    "    # number of genres\n",
    "    if not soup.find('div', class_='details_block'):\n",
    "        num_genres = np.nan\n",
    "    else:\n",
    "        num_genres = len(genres_list)\n",
    "    \n",
    "    \n",
    "    \n",
    "    if not soup.find('div', class_='glance_ctn_responsive_left'):\n",
    "        publisher = np.nan\n",
    "    elif not soup.find('div',class_='glance_ctn_responsive_left').find_all('a'):\n",
    "        publisher = np.nan\n",
    "    else:\n",
    "        publisher = soup.find('div', class_='glance_ctn_responsive_left').find_all('a')[-1].text\n",
    "    \n",
    "    #create dict of all games\n",
    "    games_dict = dict(zip(headers, [title,\n",
    "                                num_reviews,\n",
    "                                rating,\n",
    "                                num_languages, \n",
    "                                tags_list,\n",
    "                                num_tags,\n",
    "                                genres_list,\n",
    "                                num_genres,\n",
    "                                publisher]))\n",
    "\n",
    "    return games_dict"
   ]
  },
  {
   "cell_type": "code",
   "execution_count": 33,
   "metadata": {},
   "outputs": [],
   "source": [
    "games_info = []\n",
    "\n",
    "for url in gamesdf1.link:\n",
    "    games_info.append(get_game_details(url))\n",
    "\n",
    "\n",
    "\n"
   ]
  },
  {
   "cell_type": "code",
   "execution_count": 34,
   "metadata": {},
   "outputs": [
    {
     "data": {
      "text/plain": [
       "16730"
      ]
     },
     "execution_count": 34,
     "metadata": {},
     "output_type": "execute_result"
    }
   ],
   "source": [
    "len(games_info)"
   ]
  },
  {
   "cell_type": "code",
   "execution_count": 35,
   "metadata": {},
   "outputs": [],
   "source": [
    "games_info = pd.DataFrame(games_info)"
   ]
  },
  {
   "cell_type": "code",
   "execution_count": 36,
   "metadata": {},
   "outputs": [
    {
     "name": "stdout",
     "output_type": "stream",
     "text": [
      "<class 'pandas.core.frame.DataFrame'>\n",
      "RangeIndex: 16730 entries, 0 to 16729\n",
      "Data columns (total 9 columns):\n",
      " #   Column         Non-Null Count  Dtype  \n",
      "---  ------         --------------  -----  \n",
      " 0   title          16730 non-null  object \n",
      " 1   num_reviews    5806 non-null   object \n",
      " 2   review_rating  14165 non-null  object \n",
      " 3   num_languages  6932 non-null   object \n",
      " 4   tags           15126 non-null  object \n",
      " 5   num_tags       15126 non-null  float64\n",
      " 6   genres         16727 non-null  object \n",
      " 7   num_genres     16727 non-null  float64\n",
      " 8   publisher      15103 non-null  object \n",
      "dtypes: float64(2), object(7)\n",
      "memory usage: 1.1+ MB\n"
     ]
    }
   ],
   "source": [
    "games_info.info()"
   ]
  },
  {
   "cell_type": "code",
   "execution_count": 45,
   "metadata": {},
   "outputs": [
    {
     "data": {
      "text/html": [
       "<div>\n",
       "<style scoped>\n",
       "    .dataframe tbody tr th:only-of-type {\n",
       "        vertical-align: middle;\n",
       "    }\n",
       "\n",
       "    .dataframe tbody tr th {\n",
       "        vertical-align: top;\n",
       "    }\n",
       "\n",
       "    .dataframe thead th {\n",
       "        text-align: right;\n",
       "    }\n",
       "</style>\n",
       "<table border=\"1\" class=\"dataframe\">\n",
       "  <thead>\n",
       "    <tr style=\"text-align: right;\">\n",
       "      <th></th>\n",
       "      <th>title</th>\n",
       "      <th>num_reviews</th>\n",
       "      <th>review_rating</th>\n",
       "      <th>num_languages</th>\n",
       "      <th>tags</th>\n",
       "      <th>num_tags</th>\n",
       "      <th>genres</th>\n",
       "      <th>num_genres</th>\n",
       "      <th>publisher</th>\n",
       "    </tr>\n",
       "  </thead>\n",
       "  <tbody>\n",
       "    <tr>\n",
       "      <th>0</th>\n",
       "      <td>NieR Replicant™ ver.1.22474487139...</td>\n",
       "      <td>NaN</td>\n",
       "      <td>NaN</td>\n",
       "      <td>9</td>\n",
       "      <td>[Great Soundtrack, Action, RPG, Adventure, Sto...</td>\n",
       "      <td>20.0</td>\n",
       "      <td>[Action, Adventure, RPG, Square Enix]</td>\n",
       "      <td>4.0</td>\n",
       "      <td>Square Enix</td>\n",
       "    </tr>\n",
       "    <tr>\n",
       "      <th>1</th>\n",
       "      <td>OUTRIDERS</td>\n",
       "      <td>36,837</td>\n",
       "      <td>Mixed</td>\n",
       "      <td>13</td>\n",
       "      <td>[RPG, Action, Adventure, Co-op, Third-Person S...</td>\n",
       "      <td>20.0</td>\n",
       "      <td>[Action, Adventure, RPG]</td>\n",
       "      <td>3.0</td>\n",
       "      <td>Square Enix</td>\n",
       "    </tr>\n",
       "    <tr>\n",
       "      <th>2</th>\n",
       "      <td>It Takes Two</td>\n",
       "      <td>15,688</td>\n",
       "      <td>Overwhelmingly Positive</td>\n",
       "      <td>12</td>\n",
       "      <td>[Co-op, Adventure, Puzzle, 3D Platformer, Puzz...</td>\n",
       "      <td>20.0</td>\n",
       "      <td>[Action, Adventure, Hazelight]</td>\n",
       "      <td>3.0</td>\n",
       "      <td>Electronic Arts</td>\n",
       "    </tr>\n",
       "  </tbody>\n",
       "</table>\n",
       "</div>"
      ],
      "text/plain": [
       "                                  title num_reviews            review_rating  \\\n",
       "0  NieR Replicant™ ver.1.22474487139...         NaN                      NaN   \n",
       "1                             OUTRIDERS      36,837                    Mixed   \n",
       "2                          It Takes Two      15,688  Overwhelmingly Positive   \n",
       "\n",
       "  num_languages                                               tags  num_tags  \\\n",
       "0             9  [Great Soundtrack, Action, RPG, Adventure, Sto...      20.0   \n",
       "1            13  [RPG, Action, Adventure, Co-op, Third-Person S...      20.0   \n",
       "2            12  [Co-op, Adventure, Puzzle, 3D Platformer, Puzz...      20.0   \n",
       "\n",
       "                                  genres  num_genres        publisher  \n",
       "0  [Action, Adventure, RPG, Square Enix]         4.0      Square Enix  \n",
       "1               [Action, Adventure, RPG]         3.0      Square Enix  \n",
       "2         [Action, Adventure, Hazelight]         3.0  Electronic Arts  "
      ]
     },
     "execution_count": 45,
     "metadata": {},
     "output_type": "execute_result"
    }
   ],
   "source": [
    "games_info.head(3)"
   ]
  },
  {
   "cell_type": "code",
   "execution_count": null,
   "metadata": {},
   "outputs": [],
   "source": []
  },
  {
   "cell_type": "markdown",
   "metadata": {},
   "source": [
    "# Merging into one total Data Frame"
   ]
  },
  {
   "cell_type": "code",
   "execution_count": 54,
   "metadata": {},
   "outputs": [],
   "source": [
    "gamesdf1.reset_index(inplace=True)"
   ]
  },
  {
   "cell_type": "code",
   "execution_count": 57,
   "metadata": {},
   "outputs": [],
   "source": [
    "gamesdf1.rename(columns={'index':'title'},inplace=True)"
   ]
  },
  {
   "cell_type": "code",
   "execution_count": 59,
   "metadata": {},
   "outputs": [],
   "source": [
    "totaldf = pd.merge(gamesdf1, games_info, on='title')"
   ]
  },
  {
   "cell_type": "code",
   "execution_count": 60,
   "metadata": {},
   "outputs": [
    {
     "name": "stdout",
     "output_type": "stream",
     "text": [
      "<class 'pandas.core.frame.DataFrame'>\n",
      "Int64Index: 15109 entries, 0 to 15108\n",
      "Data columns (total 13 columns):\n",
      " #   Column         Non-Null Count  Dtype  \n",
      "---  ------         --------------  -----  \n",
      " 0   title          15109 non-null  object \n",
      " 1   link           15109 non-null  object \n",
      " 2   release_date   15109 non-null  object \n",
      " 3   been_sale      15109 non-null  object \n",
      " 4   orig_price     15109 non-null  object \n",
      " 5   num_reviews    5793 non-null   object \n",
      " 6   review_rating  14152 non-null  object \n",
      " 7   num_languages  6928 non-null   object \n",
      " 8   tags           15109 non-null  object \n",
      " 9   num_tags       15109 non-null  float64\n",
      " 10  genres         15109 non-null  object \n",
      " 11  num_genres     15109 non-null  float64\n",
      " 12  publisher      15086 non-null  object \n",
      "dtypes: float64(2), object(11)\n",
      "memory usage: 1.6+ MB\n"
     ]
    }
   ],
   "source": [
    "totaldf.info()"
   ]
  },
  {
   "cell_type": "code",
   "execution_count": 64,
   "metadata": {},
   "outputs": [],
   "source": [
    "totaldf.to_csv(r'/Users/michaelharnett/Desktop/METIS\\totaldf.csv', index=False)"
   ]
  },
  {
   "cell_type": "code",
   "execution_count": null,
   "metadata": {},
   "outputs": [],
   "source": []
  }
 ],
 "metadata": {
  "kernelspec": {
   "display_name": "Python 3",
   "language": "python",
   "name": "python3"
  },
  "language_info": {
   "codemirror_mode": {
    "name": "ipython",
    "version": 3
   },
   "file_extension": ".py",
   "mimetype": "text/x-python",
   "name": "python",
   "nbconvert_exporter": "python",
   "pygments_lexer": "ipython3",
   "version": "3.8.5"
  }
 },
 "nbformat": 4,
 "nbformat_minor": 4
}
