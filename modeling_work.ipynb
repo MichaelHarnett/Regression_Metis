{
 "cells": [
  {
   "cell_type": "code",
   "execution_count": 5,
   "id": "assisted-snapshot",
   "metadata": {},
   "outputs": [],
   "source": [
    "import pandas as pd\n",
    "import numpy as np"
   ]
  },
  {
   "cell_type": "code",
   "execution_count": 7,
   "id": "mexican-heavy",
   "metadata": {},
   "outputs": [],
   "source": [
    "totaldf = pd.read_csv('Data/totaldf.csv')"
   ]
  },
  {
   "cell_type": "code",
   "execution_count": 10,
   "id": "amber-bosnia",
   "metadata": {},
   "outputs": [
    {
     "data": {
      "text/plain": [
       "Index(['Unnamed: 0', 'title', 'link', 'release_date', 'been_sale',\n",
       "       'orig_price', 'num_reviews', 'review_rating', 'num_languages', 'tags',\n",
       "       'num_tags', 'genres', 'num_genres', 'publisher'],\n",
       "      dtype='object')"
      ]
     },
     "execution_count": 10,
     "metadata": {},
     "output_type": "execute_result"
    }
   ],
   "source": [
    "totaldf.columns"
   ]
  },
  {
   "cell_type": "code",
   "execution_count": 12,
   "id": "meaningful-architecture",
   "metadata": {},
   "outputs": [],
   "source": [
    "totaldf.drop(columns=['Unnamed: 0'],inplace=True)"
   ]
  },
  {
   "cell_type": "code",
   "execution_count": 14,
   "id": "operational-participation",
   "metadata": {},
   "outputs": [
    {
     "name": "stdout",
     "output_type": "stream",
     "text": [
      "<class 'pandas.core.frame.DataFrame'>\n",
      "RangeIndex: 14981 entries, 0 to 14980\n",
      "Data columns (total 13 columns):\n",
      " #   Column         Non-Null Count  Dtype  \n",
      "---  ------         --------------  -----  \n",
      " 0   title          14981 non-null  object \n",
      " 1   link           14981 non-null  object \n",
      " 2   release_date   14939 non-null  object \n",
      " 3   been_sale      14981 non-null  int64  \n",
      " 4   orig_price     14981 non-null  object \n",
      " 5   num_reviews    5652 non-null   object \n",
      " 6   review_rating  13913 non-null  object \n",
      " 7   num_languages  6890 non-null   object \n",
      " 8   tags           14980 non-null  object \n",
      " 9   num_tags       14980 non-null  float64\n",
      " 10  genres         14981 non-null  object \n",
      " 11  num_genres     14981 non-null  float64\n",
      " 12  publisher      14965 non-null  object \n",
      "dtypes: float64(2), int64(1), object(10)\n",
      "memory usage: 1.5+ MB\n"
     ]
    }
   ],
   "source": [
    "totaldf.info()"
   ]
  },
  {
   "cell_type": "code",
   "execution_count": 16,
   "id": "accepting-killing",
   "metadata": {},
   "outputs": [],
   "source": [
    "reviewsdf = totaldf[totaldf.num_reviews == 'HELP']"
   ]
  },
  {
   "cell_type": "code",
   "execution_count": 17,
   "id": "advised-morris",
   "metadata": {},
   "outputs": [
    {
     "data": {
      "text/plain": [
       "(124, 13)"
      ]
     },
     "execution_count": 17,
     "metadata": {},
     "output_type": "execute_result"
    }
   ],
   "source": [
    "reviewsdf.shape"
   ]
  },
  {
   "cell_type": "code",
   "execution_count": 18,
   "id": "inclusive-preview",
   "metadata": {},
   "outputs": [],
   "source": [
    "totaldf.replace('HELP', np.nan, inplace=True)"
   ]
  },
  {
   "cell_type": "code",
   "execution_count": 19,
   "id": "significant-corporation",
   "metadata": {},
   "outputs": [
    {
     "data": {
      "text/html": [
       "<div>\n",
       "<style scoped>\n",
       "    .dataframe tbody tr th:only-of-type {\n",
       "        vertical-align: middle;\n",
       "    }\n",
       "\n",
       "    .dataframe tbody tr th {\n",
       "        vertical-align: top;\n",
       "    }\n",
       "\n",
       "    .dataframe thead th {\n",
       "        text-align: right;\n",
       "    }\n",
       "</style>\n",
       "<table border=\"1\" class=\"dataframe\">\n",
       "  <thead>\n",
       "    <tr style=\"text-align: right;\">\n",
       "      <th></th>\n",
       "      <th>title</th>\n",
       "      <th>link</th>\n",
       "      <th>release_date</th>\n",
       "      <th>been_sale</th>\n",
       "      <th>orig_price</th>\n",
       "      <th>num_reviews</th>\n",
       "      <th>review_rating</th>\n",
       "      <th>num_languages</th>\n",
       "      <th>tags</th>\n",
       "      <th>num_tags</th>\n",
       "      <th>genres</th>\n",
       "      <th>num_genres</th>\n",
       "      <th>publisher</th>\n",
       "    </tr>\n",
       "  </thead>\n",
       "  <tbody>\n",
       "  </tbody>\n",
       "</table>\n",
       "</div>"
      ],
      "text/plain": [
       "Empty DataFrame\n",
       "Columns: [title, link, release_date, been_sale, orig_price, num_reviews, review_rating, num_languages, tags, num_tags, genres, num_genres, publisher]\n",
       "Index: []"
      ]
     },
     "execution_count": 19,
     "metadata": {},
     "output_type": "execute_result"
    }
   ],
   "source": [
    "totaldf[totaldf.num_reviews == 'HELP']"
   ]
  },
  {
   "cell_type": "code",
   "execution_count": 25,
   "id": "developmental-sixth",
   "metadata": {},
   "outputs": [
    {
     "data": {
      "text/plain": [
       "<bound method IndexOpsMixin.value_counts of 0        111,078\n",
       "1         11,813\n",
       "2        216,651\n",
       "3         45,704\n",
       "4        256,136\n",
       "          ...   \n",
       "14976        NaN\n",
       "14977        NaN\n",
       "14978        NaN\n",
       "14979        NaN\n",
       "14980        NaN\n",
       "Name: num_reviews, Length: 14981, dtype: object>"
      ]
     },
     "execution_count": 25,
     "metadata": {},
     "output_type": "execute_result"
    }
   ],
   "source": []
  },
  {
   "cell_type": "code",
   "execution_count": null,
   "id": "innovative-parent",
   "metadata": {},
   "outputs": [],
   "source": []
  }
 ],
 "metadata": {
  "kernelspec": {
   "display_name": "Python [conda env:root]",
   "language": "python",
   "name": "conda-root-py"
  },
  "language_info": {
   "codemirror_mode": {
    "name": "ipython",
    "version": 3
   },
   "file_extension": ".py",
   "mimetype": "text/x-python",
   "name": "python",
   "nbconvert_exporter": "python",
   "pygments_lexer": "ipython3",
   "version": "3.8.5"
  }
 },
 "nbformat": 4,
 "nbformat_minor": 5
}
