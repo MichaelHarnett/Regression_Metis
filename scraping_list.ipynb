{
 "cells": [
  {
   "cell_type": "markdown",
   "id": "specialized-correction",
   "metadata": {},
   "source": [
    "# notebook for scraping list"
   ]
  },
  {
   "cell_type": "code",
   "execution_count": 1,
   "id": "racial-penetration",
   "metadata": {},
   "outputs": [],
   "source": [
    "from bs4 import BeautifulSoup\n",
    "import requests"
   ]
  },
  {
   "cell_type": "code",
   "execution_count": 3,
   "id": "medium-grant",
   "metadata": {},
   "outputs": [],
   "source": [
    "url = 'https://store.steampowered.com/search/?filter=topsellers'\n",
    "response = requests.get(url)"
   ]
  },
  {
   "cell_type": "code",
   "execution_count": 4,
   "id": "heavy-irrigation",
   "metadata": {},
   "outputs": [
    {
     "data": {
      "text/plain": [
       "200"
      ]
     },
     "execution_count": 4,
     "metadata": {},
     "output_type": "execute_result"
    }
   ],
   "source": [
    "response.status_code"
   ]
  },
  {
   "cell_type": "code",
   "execution_count": 5,
   "id": "casual-update",
   "metadata": {},
   "outputs": [],
   "source": [
    "page = response.text\n",
    "soup = BeautifulSoup(page, 'lxml')"
   ]
  },
  {
   "cell_type": "code",
   "execution_count": 18,
   "id": "australian-orchestra",
   "metadata": {},
   "outputs": [
    {
     "data": {
      "text/plain": [
       "'\\n\\n\\n\\nOUTRIDERS\\n\\n \\n\\nApr 1, 2021\\n\\n\\n\\n\\n\\n\\n\\n\\r\\n                        $59.99                    \\n\\n\\n\\n'"
      ]
     },
     "execution_count": 18,
     "metadata": {},
     "output_type": "execute_result"
    }
   ],
   "source": [
    "first_title = soup.find('div', id='search_resultsRows').find('a').text\n",
    "first_title"
   ]
  },
  {
   "cell_type": "code",
   "execution_count": 22,
   "id": "artistic-latvia",
   "metadata": {},
   "outputs": [
    {
     "data": {
      "text/plain": [
       "50"
      ]
     },
     "execution_count": 22,
     "metadata": {},
     "output_type": "execute_result"
    }
   ],
   "source": [
    "len(soup.find('div', id='search_resultsRows').find_all('a'))"
   ]
  },
  {
   "cell_type": "code",
   "execution_count": 26,
   "id": "industrial-feeling",
   "metadata": {},
   "outputs": [
    {
     "data": {
      "text/plain": [
       "'OUTRIDERS\\n\\n \\n\\nApr 1, 2021\\n\\n\\n\\n\\n\\n\\n\\n\\r\\n                        $59.99                    '"
      ]
     },
     "execution_count": 26,
     "metadata": {},
     "output_type": "execute_result"
    }
   ],
   "source": [
    "first_title.strip('\\n').strip('\\n')"
   ]
  },
  {
   "cell_type": "code",
   "execution_count": 25,
   "id": "limiting-huntington",
   "metadata": {},
   "outputs": [
    {
     "data": {
      "text/plain": [
       "'\\n\\n\\n\\nSea of Thieves\\n\\n \\n\\nJun 3, 2020\\n\\n\\n\\n\\n\\n\\n-50%\\n\\n\\n$39.99$19.99                    \\n\\n\\n\\n'"
      ]
     },
     "execution_count": 25,
     "metadata": {},
     "output_type": "execute_result"
    }
   ],
   "source": [
    "soup.find('div', id='search_resultsRows').find_all('a')[1].text"
   ]
  },
  {
   "cell_type": "code",
   "execution_count": null,
   "id": "further-permit",
   "metadata": {},
   "outputs": [],
   "source": []
  }
 ],
 "metadata": {
  "kernelspec": {
   "display_name": "Python [conda env:root]",
   "language": "python",
   "name": "conda-root-py"
  },
  "language_info": {
   "codemirror_mode": {
    "name": "ipython",
    "version": 3
   },
   "file_extension": ".py",
   "mimetype": "text/x-python",
   "name": "python",
   "nbconvert_exporter": "python",
   "pygments_lexer": "ipython3",
   "version": "3.8.5"
  }
 },
 "nbformat": 4,
 "nbformat_minor": 5
}
