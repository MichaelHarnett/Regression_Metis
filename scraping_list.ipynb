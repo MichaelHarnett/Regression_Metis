{
 "cells": [
  {
   "cell_type": "markdown",
   "id": "recreational-shirt",
   "metadata": {},
   "source": [
    "# notebook for scraping list"
   ]
  },
  {
   "cell_type": "code",
   "execution_count": 149,
   "id": "periodic-calgary",
   "metadata": {},
   "outputs": [],
   "source": [
    "#from bs4 import BeautifulSoup\n",
    "#import requests\n",
    "#import pandas as pd\n",
    "\n",
    "## adding selenium to the start of this page too. prelim list of 50 entries added\n",
    "#to dataframe, attempting to pull data for each game from game page, but need selenium to scroll for \n",
    "#total number of reviews. selenium is already a part of the total pipeline with the 16k list roster\n",
    "\n",
    "from bs4 import BeautifulSoup\n",
    "import requests\n",
    "import pandas as pd\n",
    "from selenium import webdriver\n",
    "from selenium.webdriver.common.keys import Keys\n",
    "import time, os\n",
    "\n",
    "chromedriver = \"/Applications/chromedriver\" # path to the chromedriver executable\n",
    "os.environ[\"webdriver.chrome.driver\"] = chromedriver\n",
    "\n",
    "url = 'https://store.steampowered.com/search/?filter=topsellers'\n",
    "\n",
    "#user_agent = {'User-agent': 'Mozilla/5.0'}\n",
    "driver = webdriver.Chrome(chromedriver)\n",
    "driver.get(url)\n"
   ]
  },
  {
   "cell_type": "code",
   "execution_count": 3,
   "id": "spectacular-invasion",
   "metadata": {},
   "outputs": [],
   "source": [
    "url = 'https://store.steampowered.com/search/?filter=topsellers'\n",
    "response = requests.get(url)"
   ]
  },
  {
   "cell_type": "code",
   "execution_count": 4,
   "id": "protecting-treat",
   "metadata": {},
   "outputs": [
    {
     "data": {
      "text/plain": [
       "200"
      ]
     },
     "execution_count": 4,
     "metadata": {},
     "output_type": "execute_result"
    }
   ],
   "source": [
    "response.status_code"
   ]
  },
  {
   "cell_type": "code",
   "execution_count": 150,
   "id": "negative-organic",
   "metadata": {},
   "outputs": [],
   "source": [
    "#page = response.text\n",
    "soup = BeautifulSoup(driver.page_source, 'html5lib')"
   ]
  },
  {
   "cell_type": "code",
   "execution_count": 151,
   "id": "determined-hybrid",
   "metadata": {},
   "outputs": [
    {
     "data": {
      "text/plain": [
       "'\\n            \\n            \\n                \\n                    OUTRIDERS\\n                    \\n                                            \\n                \\n                Apr 1, 2021\\n                \\n                                            \\n\\t\\t\\t\\t\\t\\t\\t\\t\\n                                    \\n\\n\\n                \\n                    \\n                        \\n                    \\n                    \\n                        $59.99                    \\n                \\n            \\n\\n\\n            \\n        '"
      ]
     },
     "execution_count": 151,
     "metadata": {},
     "output_type": "execute_result"
    }
   ],
   "source": [
    "first_title = soup.find('div', id='search_resultsRows').find('a').text #shows able to pull title and price\n",
    "first_title"
   ]
  },
  {
   "cell_type": "code",
   "execution_count": 32,
   "id": "suspected-cartridge",
   "metadata": {},
   "outputs": [
    {
     "data": {
      "text/plain": [
       "'https://store.steampowered.com/sub/504022/?snr=1_7_7_7000_150_1'"
      ]
     },
     "execution_count": 32,
     "metadata": {},
     "output_type": "execute_result"
    }
   ],
   "source": [
    "first_link = soup.find('div', id='search_resultsRows').find('a').get('href') #can also pull links\n",
    "first_link"
   ]
  },
  {
   "cell_type": "code",
   "execution_count": 22,
   "id": "understood-karma",
   "metadata": {},
   "outputs": [
    {
     "data": {
      "text/plain": [
       "50"
      ]
     },
     "execution_count": 22,
     "metadata": {},
     "output_type": "execute_result"
    }
   ],
   "source": [
    "len(soup.find('div', id='search_resultsRows').find_all('a'))"
   ]
  },
  {
   "cell_type": "code",
   "execution_count": 34,
   "id": "celtic-multiple",
   "metadata": {},
   "outputs": [
    {
     "data": {
      "text/plain": [
       "'OUTRIDERS Apr 1, 2021\\r                        $59.99'"
      ]
     },
     "execution_count": 34,
     "metadata": {},
     "output_type": "execute_result"
    }
   ],
   "source": [
    "first_title.replace('\\n','').strip()\n"
   ]
  },
  {
   "cell_type": "code",
   "execution_count": 36,
   "id": "billion-merchandise",
   "metadata": {},
   "outputs": [
    {
     "data": {
      "text/plain": [
       "'Sea of Thieves Jun 3, 2020-50%$39.99$19.99                    '"
      ]
     },
     "execution_count": 36,
     "metadata": {},
     "output_type": "execute_result"
    }
   ],
   "source": [
    "#checking for uniformity\n",
    "second_title = soup.find('div', id='search_resultsRows').find_all('a')[1].text\n",
    "second_title.replace('\\n','')"
   ]
  },
  {
   "cell_type": "code",
   "execution_count": 38,
   "id": "provincial-cliff",
   "metadata": {},
   "outputs": [
    {
     "data": {
      "text/plain": [
       "'Halo: The Master Chief Collection Dec 3, 2019-50%$39.99$19.99                    '"
      ]
     },
     "execution_count": 38,
     "metadata": {},
     "output_type": "execute_result"
    }
   ],
   "source": [
    "#ok, maybe only the first title will be formatted differently\n",
    "third_title = soup.find('div', id='search_resultsRows').find_all('a')[2].text\n",
    "third_title.replace('\\n','')"
   ]
  },
  {
   "cell_type": "code",
   "execution_count": 55,
   "id": "celtic-theory",
   "metadata": {},
   "outputs": [
    {
     "data": {
      "text/plain": [
       "'\\n\\n\\n\\nOUTRIDERS\\n\\n \\n\\nApr 1, 2021\\n\\n\\n\\n\\n\\n\\n\\n\\r\\n                        $59.99                    \\n\\n\\n\\n'"
      ]
     },
     "execution_count": 55,
     "metadata": {},
     "output_type": "execute_result"
    }
   ],
   "source": [
    "titles5 = (soup.find('div', id='search_resultsRows').find_all('a')[:5]) \n",
    "just5 = []"
   ]
  },
  {
   "cell_type": "code",
   "execution_count": 78,
   "id": "supposed-apache",
   "metadata": {},
   "outputs": [
    {
     "data": {
      "text/plain": [
       "['OUTRIDERS Apr 1, 2021\\r                        $59.99                    ',\n",
       " 'Sea of Thieves Jun 3, 2020-50%$39.99$19.99                    ',\n",
       " 'Halo: The Master Chief Collection Dec 3, 2019-50%$39.99$19.99                    ',\n",
       " 'Horizon Zero Dawn™ Complete Edition Aug 7, 2020-40%$49.99$29.99                    ',\n",
       " 'Sea of Thieves: Animal Arsenal Edition -50%$49.98$24.98                    ']"
      ]
     },
     "execution_count": 78,
     "metadata": {},
     "output_type": "execute_result"
    }
   ],
   "source": [
    "maybe = [link.text for link in soup.find('div', id='search_resultsRows').find_all('a')[:5]]\n",
    "listt= []\n",
    "for titles in maybe:\n",
    "    listt.append(titles.replace('\\n',''))\n",
    "listt"
   ]
  },
  {
   "cell_type": "code",
   "execution_count": 70,
   "id": "governmental-behalf",
   "metadata": {},
   "outputs": [
    {
     "data": {
      "text/plain": [
       "'Sea of Thieves: Animal Arsenal Edition -50%$49.98$24.98                    '"
      ]
     },
     "execution_count": 70,
     "metadata": {},
     "output_type": "execute_result"
    }
   ],
   "source": [
    "maybe"
   ]
  },
  {
   "cell_type": "code",
   "execution_count": 67,
   "id": "dominant-darkness",
   "metadata": {},
   "outputs": [
    {
     "data": {
      "text/plain": [
       "'OUTRIDERS Apr 1, 2021\\r                        $59.99                    '"
      ]
     },
     "execution_count": 67,
     "metadata": {},
     "output_type": "execute_result"
    }
   ],
   "source": [
    "maybe[0].replace('\\n','')"
   ]
  },
  {
   "cell_type": "code",
   "execution_count": 84,
   "id": "short-reggae",
   "metadata": {},
   "outputs": [],
   "source": [
    "links = [link.text for link in soup.find('div', id='search_resultsRows').find_all('a')]\n",
    "big_list = []\n",
    "for link in links:\n",
    "    big_list.append(link.replace('\\n','').replace('\\r',''))"
   ]
  },
  {
   "cell_type": "code",
   "execution_count": 88,
   "id": "possible-pastor",
   "metadata": {},
   "outputs": [
    {
     "data": {
      "text/plain": [
       "['OUTRIDERS Apr 1, 2021                        $59.99                    ',\n",
       " 'Sea of Thieves Jun 3, 2020-50%$39.99$19.99                    ',\n",
       " 'Halo: The Master Chief Collection Dec 3, 2019-50%$39.99$19.99                    ',\n",
       " 'Horizon Zero Dawn™ Complete Edition Aug 7, 2020-40%$49.99$29.99                    ',\n",
       " 'Sea of Thieves: Animal Arsenal Edition -50%$49.98$24.98                    ',\n",
       " 'It Takes Two Mar 25, 2021                        $39.99                    ',\n",
       " 'DARK SOULS III Deluxe Edition Apr 11, 2016-75%$84.98$21.24                    ',\n",
       " 'Valheim Feb 2, 2021                        $19.99                    ',\n",
       " 'The Binding of Isaac: Rebirth Complete Bundle -35%$50.96$32.96                    ',\n",
       " 'Euro Truck Simulator 2 - Iberia Apr 8, 2021                        $17.99                    ',\n",
       " 'Forza Horizon 4 Mar 9, 2021-35%$59.99$38.99                    ',\n",
       " 'Grand Theft Auto V: Premium Edition                         $29.98                    ',\n",
       " 'Fable Anniversary Sep 12, 2014-75%$34.99$8.74                    ',\n",
       " 'Cozy Grove Apr 7, 2021-10%$14.99$13.49                    ',\n",
       " 'Age of Empires II: Definitive Edition Nov 14, 2019-33%$19.99$13.39                    ',\n",
       " 'Rust Feb 8, 2018                        $39.99                    ',\n",
       " 'Spiritfarer® Aug 18, 2020-34%$29.99$19.79                    ',\n",
       " 'Gears Tactics Apr 28, 2020-60%$59.99$23.99                    ',\n",
       " 'First Class Trouble Apr 8, 2021-20%$14.99$11.99                    ',\n",
       " 'Ori and the Will of the Wisps Mar 10, 2020-50%$29.99$14.99                    ',\n",
       " 'ASTRONEER Feb 5, 2019-35%$29.99$19.49                    ',\n",
       " 'Age of Empires Definitive Collection -58%$59.97$25.02                    ',\n",
       " 'Edge Of Eternity Dec 5, 2018-33%$24.99$16.74                    ',\n",
       " 'Spyro™ Reignited Trilogy Sep 3, 2019-60%$39.99$15.99                    ',\n",
       " \"Hellblade: Senua's Sacrifice Aug 7, 2017-75%$29.99$7.49                    \",\n",
       " 'PhasmophobiaVR Supported Sep 18, 2020                        $13.99                    ',\n",
       " 'DARK SOULS™ II: Scholar of the First Sin Apr 1, 2015-75%$39.99$9.99                    ',\n",
       " 'State of Decay 2: Juggernaut Edition Mar 13, 2020-25%$29.99$22.49                    ',\n",
       " 'Age of Empires III: Definitive Edition Oct 15, 2020-25%$19.99$14.99                    ',\n",
       " \"Baldur's Gate 3 Oct 6, 2020                        $59.99                    \",\n",
       " 'Hunt: Showdown Aug 27, 2019                        $39.99                    ',\n",
       " 'Disco Elysium - The Final Cut Oct 15, 2019-20%$39.99$31.99                    ',\n",
       " 'Wasteland 3 Aug 27, 2020-50%$59.99$29.99                    ',\n",
       " 'Iberian Haulage Bundle -53%$62.94$29.31                    ',\n",
       " 'The Elder Scrolls V: Skyrim Special Edition Oct 27, 2016                        $39.99                    ',\n",
       " 'Sunset Overdrive Nov 16, 2018-75%$19.99$4.99                    ',\n",
       " 'DARK SOULS™ III Apr 11, 2016-75%$59.99$14.99                    ',\n",
       " 'Counter-Strike: Global Offensive - Operation Broken Fang Dec 3, 2020                        $14.99                    ',\n",
       " 'Halo Wars: Definitive Edition Apr 20, 2017-65%$19.99$6.99                    ',\n",
       " 'Gears 5 Sep 9, 2019-60%$39.99$15.99                    ',\n",
       " 'Cyberpunk 2077 Dec 9, 2020                        $59.99                    ',\n",
       " 'PGA TOUR 2K21 Aug 20, 2020-67%$59.99$19.79                    ',\n",
       " 'Totally Accurate Battle Simulator Apr 1, 2021                        $19.99                    ',\n",
       " 'Risk of Rain 2 Aug 11, 2020                        $24.99                    ',\n",
       " 'Borderlands 3: Season Pass 2 Nov 9, 2020                        $29.99                    ',\n",
       " 'The Sims™ 4 Cats & Dogs Jun 18, 2020-50%$39.99$19.99                    ',\n",
       " 'Quantum Break Sep 29, 2016-75%$39.99$9.99                    ',\n",
       " 'DayZ Dec 13, 2018                        $44.99                    ',\n",
       " 'PGA TOUR 2K21 Aug 20, 2020-67%$59.99$19.79                    ',\n",
       " 'Squad Sep 23, 2020                        $49.99                    ']"
      ]
     },
     "execution_count": 88,
     "metadata": {},
     "output_type": "execute_result"
    }
   ],
   "source": [
    "big_list"
   ]
  },
  {
   "cell_type": "code",
   "execution_count": 87,
   "id": "unlimited-cleveland",
   "metadata": {},
   "outputs": [
    {
     "data": {
      "text/plain": [
       "50"
      ]
     },
     "execution_count": 87,
     "metadata": {},
     "output_type": "execute_result"
    }
   ],
   "source": [
    "len(big_list)"
   ]
  },
  {
   "cell_type": "code",
   "execution_count": 145,
   "id": "adopted-looking",
   "metadata": {},
   "outputs": [
    {
     "data": {
      "text/plain": [
       "50"
      ]
     },
     "execution_count": 145,
     "metadata": {},
     "output_type": "execute_result"
    }
   ],
   "source": [
    "urls = [link.get('href') for link in soup.find('div', id='search_resultsRows').find_all('a')]\n",
    "urls\n",
    "len(urls)"
   ]
  },
  {
   "cell_type": "code",
   "execution_count": 90,
   "id": "fatal-moral",
   "metadata": {},
   "outputs": [
    {
     "data": {
      "text/plain": [
       "[]"
      ]
     },
     "execution_count": 90,
     "metadata": {},
     "output_type": "execute_result"
    }
   ],
   "source": [
    "big_list_url"
   ]
  },
  {
   "cell_type": "code",
   "execution_count": null,
   "id": "fluid-indie",
   "metadata": {},
   "outputs": [],
   "source": [
    "# everything prior was messy, looking to see if we can pull each item out without\n",
    "# having to strip or edit the string."
   ]
  },
  {
   "cell_type": "code",
   "execution_count": 152,
   "id": "offensive-hundred",
   "metadata": {},
   "outputs": [
    {
     "data": {
      "text/plain": [
       "50"
      ]
     },
     "execution_count": 152,
     "metadata": {},
     "output_type": "execute_result"
    }
   ],
   "source": [
    "table = soup.find('div', id='search_resultsRows')\n",
    "table\n",
    "rows = [row for row in table.find_all('a')]\n",
    "rows[0]\n",
    "len(rows)"
   ]
  },
  {
   "cell_type": "markdown",
   "id": "altered-friend",
   "metadata": {},
   "source": [
    "# name of game from search results"
   ]
  },
  {
   "cell_type": "markdown",
   "id": "seasonal-dancing",
   "metadata": {},
   "source": []
  },
  {
   "cell_type": "code",
   "execution_count": 153,
   "id": "renewable-portfolio",
   "metadata": {},
   "outputs": [
    {
     "data": {
      "text/plain": [
       "'Apr 1, 2021'"
      ]
     },
     "execution_count": 153,
     "metadata": {},
     "output_type": "execute_result"
    }
   ],
   "source": [
    "#found clean date, now prices and discount\n",
    "table.find('div', class_='col search_released responsive_secondrow').text"
   ]
  },
  {
   "cell_type": "code",
   "execution_count": 154,
   "id": "republican-enclosure",
   "metadata": {},
   "outputs": [
    {
     "data": {
      "text/plain": [
       "'https://store.steampowered.com/sub/504022/?snr=1_7_7_7000_150_1'"
      ]
     },
     "execution_count": 154,
     "metadata": {},
     "output_type": "execute_result"
    }
   ],
   "source": [
    "rows[0].get('href')"
   ]
  },
  {
   "cell_type": "markdown",
   "id": "latin-account",
   "metadata": {},
   "source": [
    "# been on sale\n"
   ]
  },
  {
   "cell_type": "code",
   "execution_count": 122,
   "id": "genetic-plate",
   "metadata": {},
   "outputs": [
    {
     "data": {
      "text/plain": [
       "''"
      ]
     },
     "execution_count": 122,
     "metadata": {},
     "output_type": "execute_result"
    }
   ],
   "source": [
    "#first game does not have discount but this will retrieve discount amount.\n",
    "table.find('div', class_='col search_discount responsive_secondrow').text.strip()"
   ]
  },
  {
   "cell_type": "markdown",
   "id": "legal-forwarding",
   "metadata": {},
   "source": [
    "# price"
   ]
  },
  {
   "cell_type": "code",
   "execution_count": 124,
   "id": "legislative-jerusalem",
   "metadata": {},
   "outputs": [
    {
     "data": {
      "text/plain": [
       "'$59.99'"
      ]
     },
     "execution_count": 124,
     "metadata": {},
     "output_type": "execute_result"
    }
   ],
   "source": [
    "# i do believe separate price code will have to be written for games, after seeing if there is or is not a discount\n",
    "table.find('div', class_='col search_price responsive_secondrow').text.strip() #price if no discount"
   ]
  },
  {
   "cell_type": "code",
   "execution_count": 125,
   "id": "administrative-admission",
   "metadata": {},
   "outputs": [
    {
     "data": {
      "text/plain": [
       "'$39.99'"
      ]
     },
     "execution_count": 125,
     "metadata": {},
     "output_type": "execute_result"
    }
   ],
   "source": [
    "#prices for discount.\n",
    "# I do believe I will only need original price for this project. while sales price may influence\n",
    "#number of purchases, I am just going to recored if a game has ever been on sale for another metric.\n",
    "\n",
    "rows[1].find('strike').text"
   ]
  },
  {
   "cell_type": "code",
   "execution_count": 155,
   "id": "latin-interaction",
   "metadata": {},
   "outputs": [],
   "source": [
    "\n",
    "\n",
    "\n",
    "games = {}\n",
    "\n",
    "for row in rows:\n",
    "    title = (row.find('span', class_='title').text)\n",
    "    url = row.get('href')\n",
    "    release_date = (row.find('div', class_='col search_released responsive_secondrow').text)\n",
    "    if (row.find('div', class_='col search_discount responsive_secondrow').text.strip()) == '':\n",
    "        been_sale = 0\n",
    "    else:\n",
    "        been_sale = 1\n",
    "    if been_sale == 0:\n",
    "        orig_price = (row.find('div', class_='col search_price responsive_secondrow').text.strip())\n",
    "    else:\n",
    "        orig_price = (row.find('strike').text)\n",
    "    games[title] = (url, \n",
    "                    release_date,\n",
    "                    been_sale,\n",
    "                    orig_price)\n",
    "    "
   ]
  },
  {
   "cell_type": "code",
   "execution_count": 156,
   "id": "approved-flesh",
   "metadata": {},
   "outputs": [
    {
     "data": {
      "text/plain": [
       "50"
      ]
     },
     "execution_count": 156,
     "metadata": {},
     "output_type": "execute_result"
    }
   ],
   "source": [
    "len(games)"
   ]
  },
  {
   "cell_type": "code",
   "execution_count": 157,
   "id": "dirty-psychology",
   "metadata": {},
   "outputs": [
    {
     "data": {
      "text/plain": [
       "{'OUTRIDERS': ('https://store.steampowered.com/sub/504022/?snr=1_7_7_7000_150_1',\n",
       "  'Apr 1, 2021',\n",
       "  0,\n",
       "  '$59.99'),\n",
       " 'Sea of Thieves': ('https://store.steampowered.com/app/1172620/Sea_of_Thieves/?snr=1_7_7_7000_150_1',\n",
       "  'Jun 3, 2020',\n",
       "  1,\n",
       "  '$39.99'),\n",
       " 'Halo: The Master Chief Collection': ('https://store.steampowered.com/sub/376282/?snr=1_7_7_7000_150_1',\n",
       "  'Dec 3, 2019',\n",
       "  1,\n",
       "  '$39.99'),\n",
       " 'It Takes Two': ('https://store.steampowered.com/app/1426210/It_Takes_Two/?snr=1_7_7_7000_150_1',\n",
       "  'Mar 26, 2021',\n",
       "  0,\n",
       "  '$39.99'),\n",
       " 'Valheim': ('https://store.steampowered.com/app/892970/Valheim/?snr=1_7_7_7000_150_1',\n",
       "  'Feb 2, 2021',\n",
       "  0,\n",
       "  '$19.99'),\n",
       " 'Horizon Zero Dawn™ Complete Edition': ('https://store.steampowered.com/app/1151640/Horizon_Zero_Dawn_Complete_Edition/?snr=1_7_7_7000_150_1',\n",
       "  'Aug 7, 2020',\n",
       "  1,\n",
       "  '$49.99'),\n",
       " 'The Legend of Heroes: Trails of Cold Steel IV Digital Deluxe Edition (Launch Week only)': ('https://store.steampowered.com/bundle/20467/The_Legend_of_Heroes_Trails_of_Cold_Steel_IV_Digital_Deluxe_Edition_Launch_Week_only/?snr=1_7_7_7000_150_1',\n",
       "  '',\n",
       "  0,\n",
       "  '$79.96'),\n",
       " 'The Binding of Isaac: Rebirth Complete Bundle': ('https://store.steampowered.com/bundle/2405/The_Binding_of_Isaac_Rebirth_Complete_Bundle/?snr=1_7_7_7000_150_1',\n",
       "  '',\n",
       "  1,\n",
       "  '$50.96'),\n",
       " 'DARK SOULS III Deluxe Edition': ('https://store.steampowered.com/sub/94174/?snr=1_7_7_7000_150_1',\n",
       "  'Apr 11, 2016',\n",
       "  1,\n",
       "  '$84.98'),\n",
       " 'Sea of Thieves: Animal Arsenal Edition': ('https://store.steampowered.com/bundle/20565/Sea_of_Thieves_Animal_Arsenal_Edition/?snr=1_7_7_7000_150_1',\n",
       "  '',\n",
       "  1,\n",
       "  '$49.98'),\n",
       " 'The Legend of Heroes: Trails of Cold Steel IV (Launch Week Only Edition)': ('https://store.steampowered.com/bundle/20466/The_Legend_of_Heroes_Trails_of_Cold_Steel_IV_Launch_Week_Only_Edition/?snr=1_7_7_7000_150_1',\n",
       "  '',\n",
       "  0,\n",
       "  '$59.99'),\n",
       " 'Forza Horizon 4': ('https://store.steampowered.com/app/1293830/Forza_Horizon_4/?snr=1_7_7_7000_150_1',\n",
       "  'Mar 9, 2021',\n",
       "  1,\n",
       "  '$59.99'),\n",
       " 'Phasmophobia': ('https://store.steampowered.com/app/739630/Phasmophobia/?snr=1_7_7_7000_150_1',\n",
       "  'Sep 18, 2020',\n",
       "  0,\n",
       "  '$13.99'),\n",
       " 'Rust': ('https://store.steampowered.com/app/252490/Rust/?snr=1_7_7_7000_150_1',\n",
       "  'Feb 8, 2018',\n",
       "  0,\n",
       "  '$39.99'),\n",
       " 'Grand Theft Auto V: Premium Edition': ('https://store.steampowered.com/bundle/5699/Grand_Theft_Auto_V_Premium_Edition/?snr=1_7_7_7000_150_1',\n",
       "  '',\n",
       "  0,\n",
       "  '$29.98'),\n",
       " 'Valve Index® Headset': ('https://store.steampowered.com/app/1059530/Valve_Index_Headset/?snr=1_7_7_7000_150_1',\n",
       "  'Jun 28, 2019',\n",
       "  0,\n",
       "  '$499.00'),\n",
       " \"Baldur's Gate 3\": ('https://store.steampowered.com/app/1086940/Baldurs_Gate_3/?snr=1_7_7_7000_150_1',\n",
       "  'Oct 6, 2020',\n",
       "  0,\n",
       "  '$59.99'),\n",
       " 'Fable Anniversary': ('https://store.steampowered.com/app/288470/Fable_Anniversary/?snr=1_7_7_7000_150_1',\n",
       "  'Sep 12, 2014',\n",
       "  1,\n",
       "  '$34.99'),\n",
       " 'We Happy Few': ('https://store.steampowered.com/app/320240/We_Happy_Few/?snr=1_7_7_7000_150_1',\n",
       "  'Aug 10, 2018',\n",
       "  1,\n",
       "  '$59.99'),\n",
       " 'Age of Empires II: Definitive Edition': ('https://store.steampowered.com/app/813780/Age_of_Empires_II_Definitive_Edition/?snr=1_7_7_7000_150_1',\n",
       "  'Nov 14, 2019',\n",
       "  1,\n",
       "  '$19.99'),\n",
       " 'ASTRONEER': ('https://store.steampowered.com/app/361420/ASTRONEER/?snr=1_7_7_7000_150_1',\n",
       "  'Feb 6, 2019',\n",
       "  1,\n",
       "  '$29.99'),\n",
       " 'DARK SOULS™ II: Scholar of the First Sin': ('https://store.steampowered.com/app/335300/DARK_SOULS_II_Scholar_of_the_First_Sin/?snr=1_7_7_7000_150_1',\n",
       "  'Apr 1, 2015',\n",
       "  1,\n",
       "  '$39.99'),\n",
       " 'State of Decay 2: Juggernaut Edition': ('https://store.steampowered.com/app/495420/State_of_Decay_2_Juggernaut_Edition/?snr=1_7_7_7000_150_1',\n",
       "  'Mar 13, 2020',\n",
       "  1,\n",
       "  '$29.99'),\n",
       " 'Dead by Daylight': ('https://store.steampowered.com/app/381210/Dead_by_Daylight/?snr=1_7_7_7000_150_1',\n",
       "  'Jun 14, 2016',\n",
       "  1,\n",
       "  '$19.99'),\n",
       " 'Stardew Valley': ('https://store.steampowered.com/app/413150/Stardew_Valley/?snr=1_7_7_7000_150_1',\n",
       "  'Feb 26, 2016',\n",
       "  0,\n",
       "  '$14.99'),\n",
       " 'Totally Accurate Battle Simulator': ('https://store.steampowered.com/app/508440/Totally_Accurate_Battle_Simulator/?snr=1_7_7_7000_150_1',\n",
       "  'Apr 1, 2021',\n",
       "  0,\n",
       "  '$19.99'),\n",
       " 'First Class Trouble': ('https://store.steampowered.com/app/953880/First_Class_Trouble/?snr=1_7_7_7000_150_1',\n",
       "  'Apr 8, 2021',\n",
       "  1,\n",
       "  '$14.99'),\n",
       " 'Age of Empires Definitive Collection': ('https://store.steampowered.com/bundle/11831/Age_of_Empires_Definitive_Collection/?snr=1_7_7_7000_150_1',\n",
       "  '',\n",
       "  1,\n",
       "  '$59.97'),\n",
       " 'DARK SOULS™ III': ('https://store.steampowered.com/app/374320/DARK_SOULS_III/?snr=1_7_7_7000_150_1',\n",
       "  'Apr 11, 2016',\n",
       "  1,\n",
       "  '$59.99'),\n",
       " 'ARK: Survival Evolved': ('https://store.steampowered.com/app/346110/ARK_Survival_Evolved/?snr=1_7_7_7000_150_1',\n",
       "  'Aug 27, 2017',\n",
       "  0,\n",
       "  '$49.99'),\n",
       " 'The Elder Scrolls V: Skyrim Special Edition': ('https://store.steampowered.com/app/489830/The_Elder_Scrolls_V_Skyrim_Special_Edition/?snr=1_7_7_7000_150_1',\n",
       "  'Oct 27, 2016',\n",
       "  0,\n",
       "  '$39.99'),\n",
       " 'Squad': ('https://store.steampowered.com/app/393380/Squad/?snr=1_7_7_7000_150_1',\n",
       "  'Sep 23, 2020',\n",
       "  0,\n",
       "  '$49.99'),\n",
       " 'Risk of Rain 2': ('https://store.steampowered.com/app/632360/Risk_of_Rain_2/?snr=1_7_7_7000_150_1',\n",
       "  'Aug 11, 2020',\n",
       "  0,\n",
       "  '$24.99'),\n",
       " 'Wasteland 3': ('https://store.steampowered.com/app/719040/Wasteland_3/?snr=1_7_7_7000_150_1',\n",
       "  'Aug 27, 2020',\n",
       "  1,\n",
       "  '$59.99'),\n",
       " 'The Forest': ('https://store.steampowered.com/app/242760/The_Forest/?snr=1_7_7_7000_150_1',\n",
       "  'Apr 30, 2018',\n",
       "  0,\n",
       "  '$19.99'),\n",
       " 'Tabletop Simulator': ('https://store.steampowered.com/app/286160/Tabletop_Simulator/?snr=1_7_7_7000_150_1',\n",
       "  'Jun 5, 2015',\n",
       "  0,\n",
       "  '$19.99'),\n",
       " 'Counter-Strike: Global Offensive - Operation Broken Fang': ('https://store.steampowered.com/app/1490530/CounterStrike_Global_Offensive__Operation_Broken_Fang/?snr=1_7_7_7000_150_1',\n",
       "  'Dec 3, 2020',\n",
       "  0,\n",
       "  '$14.99'),\n",
       " 'Red Dead Redemption 2': ('https://store.steampowered.com/app/1174180/Red_Dead_Redemption_2/?snr=1_7_7_7000_150_1',\n",
       "  'Dec 5, 2019',\n",
       "  0,\n",
       "  '$59.99'),\n",
       " 'Raft': ('https://store.steampowered.com/app/648800/Raft/?snr=1_7_7_7000_150_1',\n",
       "  'May 23, 2018',\n",
       "  0,\n",
       "  '$19.99'),\n",
       " 'Cyberpunk 2077': ('https://store.steampowered.com/app/1091500/Cyberpunk_2077/?snr=1_7_7_7000_150_1',\n",
       "  'Dec 9, 2020',\n",
       "  0,\n",
       "  '$59.99'),\n",
       " 'The Jackbox Party Pack 7': ('https://store.steampowered.com/app/1211630/The_Jackbox_Party_Pack_7/?snr=1_7_7_7000_150_1',\n",
       "  'Oct 15, 2020',\n",
       "  0,\n",
       "  '$29.99'),\n",
       " 'Hunt: Showdown': ('https://store.steampowered.com/app/594650/Hunt_Showdown/?snr=1_7_7_7000_150_1',\n",
       "  'Aug 27, 2019',\n",
       "  0,\n",
       "  '$39.99'),\n",
       " 'Monster Hunter World: Iceborne': ('https://store.steampowered.com/app/1118010/Monster_Hunter_World_Iceborne/?snr=1_7_7_7000_150_1',\n",
       "  'Jan 9, 2020',\n",
       "  0,\n",
       "  '$39.99'),\n",
       " 'Age of Empires III: Definitive Edition': ('https://store.steampowered.com/app/933110/Age_of_Empires_III_Definitive_Edition/?snr=1_7_7_7000_150_1',\n",
       "  'Oct 15, 2020',\n",
       "  1,\n",
       "  '$19.99'),\n",
       " 'DARK SOULS™: REMASTERED': ('https://store.steampowered.com/app/570940/DARK_SOULS_REMASTERED/?snr=1_7_7_7000_150_1',\n",
       "  'May 23, 2018',\n",
       "  0,\n",
       "  '$39.99'),\n",
       " 'Wallpaper Engine': ('https://store.steampowered.com/app/431960/Wallpaper_Engine/?snr=1_7_7_7000_150_1',\n",
       "  'Nov 2018',\n",
       "  0,\n",
       "  '$3.99'),\n",
       " 'Terraria': ('https://store.steampowered.com/app/105600/Terraria/?snr=1_7_7_7000_150_1',\n",
       "  'May 16, 2011',\n",
       "  0,\n",
       "  '$9.99'),\n",
       " 'BeamNG.drive': ('https://store.steampowered.com/app/284160/BeamNGdrive/?snr=1_7_7_7000_150_1',\n",
       "  'May 29, 2015',\n",
       "  0,\n",
       "  '$24.99'),\n",
       " 'DayZ': ('https://store.steampowered.com/app/221100/DayZ/?snr=1_7_7_7000_150_1',\n",
       "  'Dec 13, 2018',\n",
       "  0,\n",
       "  '$44.99'),\n",
       " 'Among Us': ('https://store.steampowered.com/app/945360/Among_Us/?snr=1_7_7_7000_150_1',\n",
       "  'Nov 16, 2018',\n",
       "  0,\n",
       "  '$4.99')}"
      ]
     },
     "execution_count": 157,
     "metadata": {},
     "output_type": "execute_result"
    }
   ],
   "source": [
    "games"
   ]
  },
  {
   "cell_type": "code",
   "execution_count": 158,
   "id": "limited-houston",
   "metadata": {},
   "outputs": [
    {
     "data": {
      "text/plain": [
       "(50, 4)"
      ]
     },
     "execution_count": 158,
     "metadata": {},
     "output_type": "execute_result"
    }
   ],
   "source": [
    "#created a data frame for the first 49 games!\n",
    "\n",
    "\n",
    "gamesdf1 = pd.DataFrame(games).T\n",
    "gamesdf1.columns = ['link', 'release_date', 'been_sale', 'orig_price']\n",
    "\n",
    "gamesdf1.shape"
   ]
  },
  {
   "cell_type": "code",
   "execution_count": 159,
   "id": "inappropriate-perry",
   "metadata": {},
   "outputs": [
    {
     "data": {
      "text/html": [
       "<div>\n",
       "<style scoped>\n",
       "    .dataframe tbody tr th:only-of-type {\n",
       "        vertical-align: middle;\n",
       "    }\n",
       "\n",
       "    .dataframe tbody tr th {\n",
       "        vertical-align: top;\n",
       "    }\n",
       "\n",
       "    .dataframe thead th {\n",
       "        text-align: right;\n",
       "    }\n",
       "</style>\n",
       "<table border=\"1\" class=\"dataframe\">\n",
       "  <thead>\n",
       "    <tr style=\"text-align: right;\">\n",
       "      <th></th>\n",
       "      <th>link</th>\n",
       "      <th>release_date</th>\n",
       "      <th>been_sale</th>\n",
       "      <th>orig_price</th>\n",
       "    </tr>\n",
       "  </thead>\n",
       "  <tbody>\n",
       "    <tr>\n",
       "      <th>OUTRIDERS</th>\n",
       "      <td>https://store.steampowered.com/sub/504022/?snr...</td>\n",
       "      <td>Apr 1, 2021</td>\n",
       "      <td>0</td>\n",
       "      <td>$59.99</td>\n",
       "    </tr>\n",
       "    <tr>\n",
       "      <th>Sea of Thieves</th>\n",
       "      <td>https://store.steampowered.com/app/1172620/Sea...</td>\n",
       "      <td>Jun 3, 2020</td>\n",
       "      <td>1</td>\n",
       "      <td>$39.99</td>\n",
       "    </tr>\n",
       "    <tr>\n",
       "      <th>Halo: The Master Chief Collection</th>\n",
       "      <td>https://store.steampowered.com/sub/376282/?snr...</td>\n",
       "      <td>Dec 3, 2019</td>\n",
       "      <td>1</td>\n",
       "      <td>$39.99</td>\n",
       "    </tr>\n",
       "    <tr>\n",
       "      <th>It Takes Two</th>\n",
       "      <td>https://store.steampowered.com/app/1426210/It_...</td>\n",
       "      <td>Mar 26, 2021</td>\n",
       "      <td>0</td>\n",
       "      <td>$39.99</td>\n",
       "    </tr>\n",
       "    <tr>\n",
       "      <th>Valheim</th>\n",
       "      <td>https://store.steampowered.com/app/892970/Valh...</td>\n",
       "      <td>Feb 2, 2021</td>\n",
       "      <td>0</td>\n",
       "      <td>$19.99</td>\n",
       "    </tr>\n",
       "  </tbody>\n",
       "</table>\n",
       "</div>"
      ],
      "text/plain": [
       "                                                                                link  \\\n",
       "OUTRIDERS                          https://store.steampowered.com/sub/504022/?snr...   \n",
       "Sea of Thieves                     https://store.steampowered.com/app/1172620/Sea...   \n",
       "Halo: The Master Chief Collection  https://store.steampowered.com/sub/376282/?snr...   \n",
       "It Takes Two                       https://store.steampowered.com/app/1426210/It_...   \n",
       "Valheim                            https://store.steampowered.com/app/892970/Valh...   \n",
       "\n",
       "                                   release_date been_sale orig_price  \n",
       "OUTRIDERS                           Apr 1, 2021         0     $59.99  \n",
       "Sea of Thieves                      Jun 3, 2020         1     $39.99  \n",
       "Halo: The Master Chief Collection   Dec 3, 2019         1     $39.99  \n",
       "It Takes Two                       Mar 26, 2021         0     $39.99  \n",
       "Valheim                             Feb 2, 2021         0     $19.99  "
      ]
     },
     "execution_count": 159,
     "metadata": {},
     "output_type": "execute_result"
    }
   ],
   "source": [
    "gamesdf1.head()"
   ]
  },
  {
   "cell_type": "code",
   "execution_count": 163,
   "id": "returning-netherlands",
   "metadata": {},
   "outputs": [],
   "source": [
    "#attempting to pull my code in from  'scraping_page' to see if data can be pulled from from each game page.\n",
    "\n",
    "def get_game_details(url):\n",
    "\n",
    "    \n",
    "\n",
    "    \n",
    "    \n",
    "    #Request HTML and parse\n",
    "    response = driver.get(url)\n",
    "    soup = BeautifulSoup(driver.page_source, \"html5lib\")\n",
    "    driver.execute_script(\n",
    "        \"window.scrollTo(0, document.documentElement.scrollHeight);\" #Alternatively, document.body.scrollHeight\n",
    "    )\n",
    "    \n",
    "    \n",
    "    \n",
    "\n",
    "    \n",
    "    headers = ['title', 'num_reviews', 'review_rating', \n",
    "              'num_languages', 'tags', 'num_tags',\n",
    "              'genres', 'num_genres', 'publisher']\n",
    "    \n",
    "    #Get title\n",
    "    title = soup.find('div', class_='apphub_AppName').text\n",
    "\n",
    "    #Get number of reviews\n",
    "    rev_string = soup.find('div', id='Reviews_summary').find('div', id='ViewAllReviewssummary').find('a').text\n",
    "    num_reviews = rev_string.split()[2]\n",
    "     \n",
    "\n",
    "    #Get review rating\n",
    "    rating = soup.find(class_='user_reviews_summary_bar').find_all('span')[0].text\n",
    "    \n",
    "    \n",
    "    #Get number of languages offered in\n",
    "    num_languages = soup.find('a', class_='all_languages').text.split()[2]\n",
    "    \n",
    "\n",
    "    #Get tags associated with game\n",
    "    tags = soup.find('div', class_='glance_tags').find_all('a')\n",
    "    tags_list = []\n",
    "    for items in tags:\n",
    "        tags_list.append(items.text.strip())\n",
    "    \n",
    "    \n",
    "    #number of tags\n",
    "    num_tags = len(tags_list)\n",
    "    \n",
    "    #genres list\n",
    "    genres_all = soup.find('div', class_='details_block').find_all('a')[0:-2]\n",
    "    genres_list = []\n",
    "    for links in genres_all:\n",
    "        genres_list.append(links.text)\n",
    "        \n",
    "    # number of genres\n",
    "    num_genres = len(genres_list)\n",
    "    \n",
    "    #get publisher\n",
    "    publisher = soup.find('div', class_='details_block').find_all('a')[-1].text\n",
    "    \n",
    "    \n",
    "    #create dict of all games\n",
    "    games_dict = dict(zip(headers, [title,\n",
    "                                num_reviews,\n",
    "                                rating,\n",
    "                                num_languages, \n",
    "                                tags_list,\n",
    "                                num_tags,\n",
    "                                genres_list,\n",
    "                                num_genres,\n",
    "                                publisher]))\n",
    "\n",
    "    return movie_dict"
   ]
  },
  {
   "cell_type": "code",
   "execution_count": 165,
   "id": "nominated-punishment",
   "metadata": {},
   "outputs": [
    {
     "ename": "AttributeError",
     "evalue": "'NoneType' object has no attribute 'text'",
     "output_type": "error",
     "traceback": [
      "\u001b[0;31m---------------------------------------------------------------------------\u001b[0m",
      "\u001b[0;31mAttributeError\u001b[0m                            Traceback (most recent call last)",
      "\u001b[0;32m<ipython-input-165-cc3f6653efdb>\u001b[0m in \u001b[0;36m<module>\u001b[0;34m\u001b[0m\n\u001b[1;32m      2\u001b[0m \u001b[0;34m\u001b[0m\u001b[0m\n\u001b[1;32m      3\u001b[0m \u001b[0;32mfor\u001b[0m \u001b[0murl\u001b[0m \u001b[0;32min\u001b[0m \u001b[0mgamesdf1\u001b[0m\u001b[0;34m.\u001b[0m\u001b[0mlink\u001b[0m\u001b[0;34m:\u001b[0m\u001b[0;34m\u001b[0m\u001b[0;34m\u001b[0m\u001b[0m\n\u001b[0;32m----> 4\u001b[0;31m     \u001b[0mtop50info\u001b[0m\u001b[0;34m.\u001b[0m\u001b[0mappend\u001b[0m\u001b[0;34m(\u001b[0m\u001b[0mget_game_details\u001b[0m\u001b[0;34m(\u001b[0m\u001b[0murl\u001b[0m\u001b[0;34m)\u001b[0m\u001b[0;34m)\u001b[0m\u001b[0;34m\u001b[0m\u001b[0;34m\u001b[0m\u001b[0m\n\u001b[0m\u001b[1;32m      5\u001b[0m \u001b[0;34m\u001b[0m\u001b[0m\n",
      "\u001b[0;32m<ipython-input-163-ca12e987cda7>\u001b[0m in \u001b[0;36mget_game_details\u001b[0;34m(url)\u001b[0m\n\u001b[1;32m     23\u001b[0m \u001b[0;34m\u001b[0m\u001b[0m\n\u001b[1;32m     24\u001b[0m     \u001b[0;31m#Get title\u001b[0m\u001b[0;34m\u001b[0m\u001b[0;34m\u001b[0m\u001b[0;34m\u001b[0m\u001b[0m\n\u001b[0;32m---> 25\u001b[0;31m     \u001b[0mtitle\u001b[0m \u001b[0;34m=\u001b[0m \u001b[0msoup\u001b[0m\u001b[0;34m.\u001b[0m\u001b[0mfind\u001b[0m\u001b[0;34m(\u001b[0m\u001b[0;34m'div'\u001b[0m\u001b[0;34m,\u001b[0m \u001b[0mclass_\u001b[0m\u001b[0;34m=\u001b[0m\u001b[0;34m'apphub_AppName'\u001b[0m\u001b[0;34m)\u001b[0m\u001b[0;34m.\u001b[0m\u001b[0mtext\u001b[0m\u001b[0;34m\u001b[0m\u001b[0;34m\u001b[0m\u001b[0m\n\u001b[0m\u001b[1;32m     26\u001b[0m \u001b[0;34m\u001b[0m\u001b[0m\n\u001b[1;32m     27\u001b[0m     \u001b[0;31m#Get number of reviews\u001b[0m\u001b[0;34m\u001b[0m\u001b[0;34m\u001b[0m\u001b[0;34m\u001b[0m\u001b[0m\n",
      "\u001b[0;31mAttributeError\u001b[0m: 'NoneType' object has no attribute 'text'"
     ]
    }
   ],
   "source": [
    "top50info = []\n",
    "\n",
    "for url in gamesdf1.link:\n",
    "    top50info.append(get_game_details(url))\n",
    "    "
   ]
  },
  {
   "cell_type": "code",
   "execution_count": null,
   "id": "presidential-victor",
   "metadata": {},
   "outputs": [],
   "source": []
  }
 ],
 "metadata": {
  "kernelspec": {
   "display_name": "Python [conda env:root]",
   "language": "python",
   "name": "conda-root-py"
  },
  "language_info": {
   "codemirror_mode": {
    "name": "ipython",
    "version": 3
   },
   "file_extension": ".py",
   "mimetype": "text/x-python",
   "name": "python",
   "nbconvert_exporter": "python",
   "pygments_lexer": "ipython3",
   "version": "3.8.5"
  }
 },
 "nbformat": 4,
 "nbformat_minor": 5
}
