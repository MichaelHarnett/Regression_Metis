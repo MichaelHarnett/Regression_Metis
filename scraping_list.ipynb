{
 "cells": [
  {
   "cell_type": "markdown",
   "id": "greatest-project",
   "metadata": {},
   "source": [
    "# notebook for scraping list"
   ]
  },
  {
   "cell_type": "code",
   "execution_count": 1,
   "id": "cosmetic-chair",
   "metadata": {},
   "outputs": [],
   "source": [
    "from bs4 import BeautifulSoup\n",
    "import requests"
   ]
  },
  {
   "cell_type": "code",
   "execution_count": 3,
   "id": "decimal-customer",
   "metadata": {},
   "outputs": [],
   "source": [
    "url = 'https://store.steampowered.com/search/?filter=topsellers'\n",
    "response = requests.get(url)"
   ]
  },
  {
   "cell_type": "code",
   "execution_count": 4,
   "id": "unlimited-video",
   "metadata": {},
   "outputs": [
    {
     "data": {
      "text/plain": [
       "200"
      ]
     },
     "execution_count": 4,
     "metadata": {},
     "output_type": "execute_result"
    }
   ],
   "source": [
    "response.status_code"
   ]
  },
  {
   "cell_type": "code",
   "execution_count": 5,
   "id": "crazy-breakdown",
   "metadata": {},
   "outputs": [],
   "source": [
    "page = response.text\n",
    "soup = BeautifulSoup(page, 'lxml')"
   ]
  },
  {
   "cell_type": "code",
   "execution_count": 18,
   "id": "binary-mississippi",
   "metadata": {},
   "outputs": [
    {
     "data": {
      "text/plain": [
       "'\\n\\n\\n\\nOUTRIDERS\\n\\n \\n\\nApr 1, 2021\\n\\n\\n\\n\\n\\n\\n\\n\\r\\n                        $59.99                    \\n\\n\\n\\n'"
      ]
     },
     "execution_count": 18,
     "metadata": {},
     "output_type": "execute_result"
    }
   ],
   "source": [
    "first_title = soup.find('div', id='search_resultsRows').find('a').text #shows able to pull title and price\n",
    "first_title"
   ]
  },
  {
   "cell_type": "code",
   "execution_count": 32,
   "id": "indirect-cheat",
   "metadata": {},
   "outputs": [
    {
     "data": {
      "text/plain": [
       "'https://store.steampowered.com/sub/504022/?snr=1_7_7_7000_150_1'"
      ]
     },
     "execution_count": 32,
     "metadata": {},
     "output_type": "execute_result"
    }
   ],
   "source": [
    "first_link = soup.find('div', id='search_resultsRows').find('a').get('href') #can also pull links\n",
    "first_link"
   ]
  },
  {
   "cell_type": "code",
   "execution_count": 22,
   "id": "considered-backup",
   "metadata": {},
   "outputs": [
    {
     "data": {
      "text/plain": [
       "50"
      ]
     },
     "execution_count": 22,
     "metadata": {},
     "output_type": "execute_result"
    }
   ],
   "source": [
    "len(soup.find('div', id='search_resultsRows').find_all('a'))"
   ]
  },
  {
   "cell_type": "code",
   "execution_count": 34,
   "id": "younger-summer",
   "metadata": {},
   "outputs": [
    {
     "data": {
      "text/plain": [
       "'OUTRIDERS Apr 1, 2021\\r                        $59.99'"
      ]
     },
     "execution_count": 34,
     "metadata": {},
     "output_type": "execute_result"
    }
   ],
   "source": [
    "first_title.replace('\\n','').strip()\n"
   ]
  },
  {
   "cell_type": "code",
   "execution_count": 36,
   "id": "sexual-arnold",
   "metadata": {},
   "outputs": [
    {
     "data": {
      "text/plain": [
       "'Sea of Thieves Jun 3, 2020-50%$39.99$19.99                    '"
      ]
     },
     "execution_count": 36,
     "metadata": {},
     "output_type": "execute_result"
    }
   ],
   "source": [
    "#checking for uniformity\n",
    "second_title = soup.find('div', id='search_resultsRows').find_all('a')[1].text\n",
    "second_title.replace('\\n','')"
   ]
  },
  {
   "cell_type": "code",
   "execution_count": 38,
   "id": "framed-technical",
   "metadata": {},
   "outputs": [
    {
     "data": {
      "text/plain": [
       "'Halo: The Master Chief Collection Dec 3, 2019-50%$39.99$19.99                    '"
      ]
     },
     "execution_count": 38,
     "metadata": {},
     "output_type": "execute_result"
    }
   ],
   "source": [
    "#ok, maybe only the first title will be formatted differently\n",
    "third_title = soup.find('div', id='search_resultsRows').find_all('a')[2].text\n",
    "third_title.replace('\\n','')"
   ]
  },
  {
   "cell_type": "code",
   "execution_count": 55,
   "id": "light-performer",
   "metadata": {},
   "outputs": [
    {
     "data": {
      "text/plain": [
       "'\\n\\n\\n\\nOUTRIDERS\\n\\n \\n\\nApr 1, 2021\\n\\n\\n\\n\\n\\n\\n\\n\\r\\n                        $59.99                    \\n\\n\\n\\n'"
      ]
     },
     "execution_count": 55,
     "metadata": {},
     "output_type": "execute_result"
    }
   ],
   "source": [
    "titles5 = (soup.find('div', id='search_resultsRows').find_all('a')[:5]) \n",
    "just5 = []"
   ]
  },
  {
   "cell_type": "code",
   "execution_count": 78,
   "id": "constitutional-adjustment",
   "metadata": {},
   "outputs": [
    {
     "data": {
      "text/plain": [
       "['OUTRIDERS Apr 1, 2021\\r                        $59.99                    ',\n",
       " 'Sea of Thieves Jun 3, 2020-50%$39.99$19.99                    ',\n",
       " 'Halo: The Master Chief Collection Dec 3, 2019-50%$39.99$19.99                    ',\n",
       " 'Horizon Zero Dawn™ Complete Edition Aug 7, 2020-40%$49.99$29.99                    ',\n",
       " 'Sea of Thieves: Animal Arsenal Edition -50%$49.98$24.98                    ']"
      ]
     },
     "execution_count": 78,
     "metadata": {},
     "output_type": "execute_result"
    }
   ],
   "source": [
    "maybe = [link.text for link in soup.find('div', id='search_resultsRows').find_all('a')[:5]]\n",
    "listt= []\n",
    "for titles in maybe:\n",
    "    listt.append(titles.replace('\\n',''))\n",
    "listt"
   ]
  },
  {
   "cell_type": "code",
   "execution_count": 70,
   "id": "owned-earth",
   "metadata": {},
   "outputs": [
    {
     "data": {
      "text/plain": [
       "'Sea of Thieves: Animal Arsenal Edition -50%$49.98$24.98                    '"
      ]
     },
     "execution_count": 70,
     "metadata": {},
     "output_type": "execute_result"
    }
   ],
   "source": [
    "maybe"
   ]
  },
  {
   "cell_type": "code",
   "execution_count": 67,
   "id": "polish-assignment",
   "metadata": {},
   "outputs": [
    {
     "data": {
      "text/plain": [
       "'OUTRIDERS Apr 1, 2021\\r                        $59.99                    '"
      ]
     },
     "execution_count": 67,
     "metadata": {},
     "output_type": "execute_result"
    }
   ],
   "source": [
    "maybe[0].replace('\\n','')"
   ]
  },
  {
   "cell_type": "code",
   "execution_count": 84,
   "id": "thirty-inquiry",
   "metadata": {},
   "outputs": [],
   "source": [
    "links = [link.text for link in soup.find('div', id='search_resultsRows').find_all('a')]\n",
    "big_list = []\n",
    "for link in links:\n",
    "    big_list.append(link.replace('\\n','').replace('\\r',''))"
   ]
  },
  {
   "cell_type": "code",
   "execution_count": 88,
   "id": "synthetic-condition",
   "metadata": {},
   "outputs": [
    {
     "data": {
      "text/plain": [
       "['OUTRIDERS Apr 1, 2021                        $59.99                    ',\n",
       " 'Sea of Thieves Jun 3, 2020-50%$39.99$19.99                    ',\n",
       " 'Halo: The Master Chief Collection Dec 3, 2019-50%$39.99$19.99                    ',\n",
       " 'Horizon Zero Dawn™ Complete Edition Aug 7, 2020-40%$49.99$29.99                    ',\n",
       " 'Sea of Thieves: Animal Arsenal Edition -50%$49.98$24.98                    ',\n",
       " 'It Takes Two Mar 25, 2021                        $39.99                    ',\n",
       " 'DARK SOULS III Deluxe Edition Apr 11, 2016-75%$84.98$21.24                    ',\n",
       " 'Valheim Feb 2, 2021                        $19.99                    ',\n",
       " 'The Binding of Isaac: Rebirth Complete Bundle -35%$50.96$32.96                    ',\n",
       " 'Euro Truck Simulator 2 - Iberia Apr 8, 2021                        $17.99                    ',\n",
       " 'Forza Horizon 4 Mar 9, 2021-35%$59.99$38.99                    ',\n",
       " 'Grand Theft Auto V: Premium Edition                         $29.98                    ',\n",
       " 'Fable Anniversary Sep 12, 2014-75%$34.99$8.74                    ',\n",
       " 'Cozy Grove Apr 7, 2021-10%$14.99$13.49                    ',\n",
       " 'Age of Empires II: Definitive Edition Nov 14, 2019-33%$19.99$13.39                    ',\n",
       " 'Rust Feb 8, 2018                        $39.99                    ',\n",
       " 'Spiritfarer® Aug 18, 2020-34%$29.99$19.79                    ',\n",
       " 'Gears Tactics Apr 28, 2020-60%$59.99$23.99                    ',\n",
       " 'First Class Trouble Apr 8, 2021-20%$14.99$11.99                    ',\n",
       " 'Ori and the Will of the Wisps Mar 10, 2020-50%$29.99$14.99                    ',\n",
       " 'ASTRONEER Feb 5, 2019-35%$29.99$19.49                    ',\n",
       " 'Age of Empires Definitive Collection -58%$59.97$25.02                    ',\n",
       " 'Edge Of Eternity Dec 5, 2018-33%$24.99$16.74                    ',\n",
       " 'Spyro™ Reignited Trilogy Sep 3, 2019-60%$39.99$15.99                    ',\n",
       " \"Hellblade: Senua's Sacrifice Aug 7, 2017-75%$29.99$7.49                    \",\n",
       " 'PhasmophobiaVR Supported Sep 18, 2020                        $13.99                    ',\n",
       " 'DARK SOULS™ II: Scholar of the First Sin Apr 1, 2015-75%$39.99$9.99                    ',\n",
       " 'State of Decay 2: Juggernaut Edition Mar 13, 2020-25%$29.99$22.49                    ',\n",
       " 'Age of Empires III: Definitive Edition Oct 15, 2020-25%$19.99$14.99                    ',\n",
       " \"Baldur's Gate 3 Oct 6, 2020                        $59.99                    \",\n",
       " 'Hunt: Showdown Aug 27, 2019                        $39.99                    ',\n",
       " 'Disco Elysium - The Final Cut Oct 15, 2019-20%$39.99$31.99                    ',\n",
       " 'Wasteland 3 Aug 27, 2020-50%$59.99$29.99                    ',\n",
       " 'Iberian Haulage Bundle -53%$62.94$29.31                    ',\n",
       " 'The Elder Scrolls V: Skyrim Special Edition Oct 27, 2016                        $39.99                    ',\n",
       " 'Sunset Overdrive Nov 16, 2018-75%$19.99$4.99                    ',\n",
       " 'DARK SOULS™ III Apr 11, 2016-75%$59.99$14.99                    ',\n",
       " 'Counter-Strike: Global Offensive - Operation Broken Fang Dec 3, 2020                        $14.99                    ',\n",
       " 'Halo Wars: Definitive Edition Apr 20, 2017-65%$19.99$6.99                    ',\n",
       " 'Gears 5 Sep 9, 2019-60%$39.99$15.99                    ',\n",
       " 'Cyberpunk 2077 Dec 9, 2020                        $59.99                    ',\n",
       " 'PGA TOUR 2K21 Aug 20, 2020-67%$59.99$19.79                    ',\n",
       " 'Totally Accurate Battle Simulator Apr 1, 2021                        $19.99                    ',\n",
       " 'Risk of Rain 2 Aug 11, 2020                        $24.99                    ',\n",
       " 'Borderlands 3: Season Pass 2 Nov 9, 2020                        $29.99                    ',\n",
       " 'The Sims™ 4 Cats & Dogs Jun 18, 2020-50%$39.99$19.99                    ',\n",
       " 'Quantum Break Sep 29, 2016-75%$39.99$9.99                    ',\n",
       " 'DayZ Dec 13, 2018                        $44.99                    ',\n",
       " 'PGA TOUR 2K21 Aug 20, 2020-67%$59.99$19.79                    ',\n",
       " 'Squad Sep 23, 2020                        $49.99                    ']"
      ]
     },
     "execution_count": 88,
     "metadata": {},
     "output_type": "execute_result"
    }
   ],
   "source": [
    "big_list"
   ]
  },
  {
   "cell_type": "code",
   "execution_count": 87,
   "id": "intended-stanford",
   "metadata": {},
   "outputs": [
    {
     "data": {
      "text/plain": [
       "50"
      ]
     },
     "execution_count": 87,
     "metadata": {},
     "output_type": "execute_result"
    }
   ],
   "source": [
    "len(big_list)"
   ]
  },
  {
   "cell_type": "code",
   "execution_count": 92,
   "id": "governing-aside",
   "metadata": {},
   "outputs": [
    {
     "data": {
      "text/plain": [
       "['https://store.steampowered.com/sub/504022/?snr=1_7_7_7000_150_1',\n",
       " 'https://store.steampowered.com/app/1172620/Sea_of_Thieves/?snr=1_7_7_7000_150_1',\n",
       " 'https://store.steampowered.com/sub/376282/?snr=1_7_7_7000_150_1',\n",
       " 'https://store.steampowered.com/app/1151640/Horizon_Zero_Dawn_Complete_Edition/?snr=1_7_7_7000_150_1',\n",
       " 'https://store.steampowered.com/bundle/20565/Sea_of_Thieves_Animal_Arsenal_Edition/?snr=1_7_7_7000_150_1',\n",
       " 'https://store.steampowered.com/app/1426210/It_Takes_Two/?snr=1_7_7_7000_150_1',\n",
       " 'https://store.steampowered.com/sub/94174/?snr=1_7_7_7000_150_1',\n",
       " 'https://store.steampowered.com/app/892970/Valheim/?snr=1_7_7_7000_150_1',\n",
       " 'https://store.steampowered.com/bundle/2405/The_Binding_of_Isaac_Rebirth_Complete_Bundle/?snr=1_7_7_7000_150_1',\n",
       " 'https://store.steampowered.com/app/1209460/Euro_Truck_Simulator_2__Iberia/?snr=1_7_7_7000_150_1',\n",
       " 'https://store.steampowered.com/app/1293830/Forza_Horizon_4/?snr=1_7_7_7000_150_1',\n",
       " 'https://store.steampowered.com/bundle/5699/Grand_Theft_Auto_V_Premium_Edition/?snr=1_7_7_7000_150_1',\n",
       " 'https://store.steampowered.com/app/288470/Fable_Anniversary/?snr=1_7_7_7000_150_1',\n",
       " 'https://store.steampowered.com/app/1458100/Cozy_Grove/?snr=1_7_7_7000_150_1',\n",
       " 'https://store.steampowered.com/app/813780/Age_of_Empires_II_Definitive_Edition/?snr=1_7_7_7000_150_1',\n",
       " 'https://store.steampowered.com/app/252490/Rust/?snr=1_7_7_7000_150_1',\n",
       " 'https://store.steampowered.com/app/972660/Spiritfarer/?snr=1_7_7_7000_150_1',\n",
       " 'https://store.steampowered.com/app/1184050/Gears_Tactics/?snr=1_7_7_7000_150_1',\n",
       " 'https://store.steampowered.com/app/953880/First_Class_Trouble/?snr=1_7_7_7000_150_1',\n",
       " 'https://store.steampowered.com/app/1057090/Ori_and_the_Will_of_the_Wisps/?snr=1_7_7_7000_150_1',\n",
       " 'https://store.steampowered.com/app/361420/ASTRONEER/?snr=1_7_7_7000_150_1',\n",
       " 'https://store.steampowered.com/bundle/11831/Age_of_Empires_Definitive_Collection/?snr=1_7_7_7000_150_1',\n",
       " 'https://store.steampowered.com/app/269190/Edge_Of_Eternity/?snr=1_7_7_7000_150_1',\n",
       " 'https://store.steampowered.com/app/996580/Spyro_Reignited_Trilogy/?snr=1_7_7_7000_150_1',\n",
       " 'https://store.steampowered.com/app/414340/Hellblade_Senuas_Sacrifice/?snr=1_7_7_7000_150_1',\n",
       " 'https://store.steampowered.com/app/739630/Phasmophobia/?snr=1_7_7_7000_150_1',\n",
       " 'https://store.steampowered.com/app/335300/DARK_SOULS_II_Scholar_of_the_First_Sin/?snr=1_7_7_7000_150_1',\n",
       " 'https://store.steampowered.com/app/495420/State_of_Decay_2_Juggernaut_Edition/?snr=1_7_7_7000_150_1',\n",
       " 'https://store.steampowered.com/app/933110/Age_of_Empires_III_Definitive_Edition/?snr=1_7_7_7000_150_1',\n",
       " 'https://store.steampowered.com/app/1086940/Baldurs_Gate_3/?snr=1_7_7_7000_150_1',\n",
       " 'https://store.steampowered.com/app/594650/Hunt_Showdown/?snr=1_7_7_7000_150_1',\n",
       " 'https://store.steampowered.com/app/632470/Disco_Elysium__The_Final_Cut/?snr=1_7_7_7000_150_1',\n",
       " 'https://store.steampowered.com/app/719040/Wasteland_3/?snr=1_7_7_7000_150_1',\n",
       " 'https://store.steampowered.com/bundle/20551/Iberian_Haulage_Bundle/?snr=1_7_7_7000_150_1',\n",
       " 'https://store.steampowered.com/app/489830/The_Elder_Scrolls_V_Skyrim_Special_Edition/?snr=1_7_7_7000_150_1',\n",
       " 'https://store.steampowered.com/app/847370/Sunset_Overdrive/?snr=1_7_7_7000_150_1',\n",
       " 'https://store.steampowered.com/app/374320/DARK_SOULS_III/?snr=1_7_7_7000_150_1',\n",
       " 'https://store.steampowered.com/app/1490530/CounterStrike_Global_Offensive__Operation_Broken_Fang/?snr=1_7_7_7000_150_1',\n",
       " 'https://store.steampowered.com/app/459220/Halo_Wars_Definitive_Edition/?snr=1_7_7_7000_150_1',\n",
       " 'https://store.steampowered.com/app/1097840/Gears_5/?snr=1_7_7_7000_150_1',\n",
       " 'https://store.steampowered.com/app/1091500/Cyberpunk_2077/?snr=1_7_7_7000_150_1',\n",
       " 'https://store.steampowered.com/app/1016120/PGA_TOUR_2K21/?snr=1_7_7_7000_150_1',\n",
       " 'https://store.steampowered.com/app/508440/Totally_Accurate_Battle_Simulator/?snr=1_7_7_7000_150_1',\n",
       " 'https://store.steampowered.com/app/632360/Risk_of_Rain_2/?snr=1_7_7_7000_150_1',\n",
       " 'https://store.steampowered.com/app/1396474/Borderlands_3_Season_Pass_2/?snr=1_7_7_7000_150_1',\n",
       " 'https://store.steampowered.com/app/1235721/The_Sims_4_Cats__Dogs/?snr=1_7_7_7000_150_1',\n",
       " 'https://store.steampowered.com/app/474960/Quantum_Break/?snr=1_7_7_7000_150_1',\n",
       " 'https://store.steampowered.com/app/221100/DayZ/?snr=1_7_7_7000_150_1',\n",
       " 'https://store.steampowered.com/app/1016120/PGA_TOUR_2K21/?snr=1_7_7_7000_150_1',\n",
       " 'https://store.steampowered.com/app/393380/Squad/?snr=1_7_7_7000_150_1']"
      ]
     },
     "execution_count": 92,
     "metadata": {},
     "output_type": "execute_result"
    }
   ],
   "source": [
    "urls = [link.get('href') for link in soup.find('div', id='search_resultsRows').find_all('a')]\n",
    "urls\n"
   ]
  },
  {
   "cell_type": "code",
   "execution_count": 90,
   "id": "focal-cutting",
   "metadata": {},
   "outputs": [
    {
     "data": {
      "text/plain": [
       "[]"
      ]
     },
     "execution_count": 90,
     "metadata": {},
     "output_type": "execute_result"
    }
   ],
   "source": [
    "big_list_url"
   ]
  },
  {
   "cell_type": "code",
   "execution_count": null,
   "id": "korean-testimony",
   "metadata": {},
   "outputs": [],
   "source": [
    "# everything prior was messy, looking to see if we can pull each item out without\n",
    "# having to strip or edit the string."
   ]
  },
  {
   "cell_type": "code",
   "execution_count": 109,
   "id": "empty-cable",
   "metadata": {},
   "outputs": [
    {
     "data": {
      "text/plain": [
       "<a class=\"search_result_row ds_collapse_flag\" data-ds-appid=\"680420,1228540\" data-ds-crtrids=\"[1012195]\" data-ds-descids=\"[2,5]\" data-ds-itemkey=\"Sub_504022\" data-ds-packageid=\"504022\" data-ds-tagids=\"[19,122,21,4667,4345,1685,3814]\" data-gpnav=\"item\" data-search-page=\"1\" href=\"https://store.steampowered.com/sub/504022/?snr=1_7_7_7000_150_1\" onmouseout=\"HideGameHover( this, event, 'global_hover' )\" onmouseover=\"GameHover( this, event, 'global_hover', {&quot;type&quot;:&quot;sub&quot;,&quot;id&quot;:504022,&quot;public&quot;:1,&quot;v6&quot;:1} );\">\n",
       "<div class=\"col search_capsule\"><img src=\"https://cdn.akamai.steamstatic.com/steam/subs/504022/capsule_sm_120.jpg?t=1617292828\" srcset=\"https://cdn.akamai.steamstatic.com/steam/subs/504022/capsule_sm_120.jpg?t=1617292828 1x, https://cdn.akamai.steamstatic.com/steam/subs/504022/capsule_231x87.jpg?t=1617292828 2x\"/></div>\n",
       "<div class=\"responsive_search_name_combined\">\n",
       "<div class=\"col search_name ellipsis\">\n",
       "<span class=\"title\">OUTRIDERS</span>\n",
       "<p>\n",
       "<span class=\"platform_img win\"></span> </p>\n",
       "</div>\n",
       "<div class=\"col search_released responsive_secondrow\">Apr 1, 2021</div>\n",
       "<div class=\"col search_reviewscore responsive_secondrow\">\n",
       "<span class=\"search_review_summary mixed\" data-tooltip-html=\"Mixed&lt;br&gt;66% of the 20,124 user reviews for games in this bundle are positive.\">\n",
       "</span>\n",
       "</div>\n",
       "<div class=\"col search_price_discount_combined responsive_secondrow\" data-price-final=\"5999\">\n",
       "<div class=\"col search_discount responsive_secondrow\">\n",
       "</div>\n",
       "<div class=\"col search_price responsive_secondrow\">\n",
       "                        $59.99                    </div>\n",
       "</div>\n",
       "</div>\n",
       "<div style=\"clear: left;\"></div>\n",
       "</a>"
      ]
     },
     "execution_count": 109,
     "metadata": {},
     "output_type": "execute_result"
    }
   ],
   "source": [
    "table = soup.find('div', id='search_resultsRows')\n",
    "table\n",
    "rows = [row for row in table.find_all('a')]\n",
    "rows[0]"
   ]
  },
  {
   "cell_type": "markdown",
   "id": "harmful-month",
   "metadata": {},
   "source": [
    "# name of game from search results"
   ]
  },
  {
   "cell_type": "code",
   "execution_count": 113,
   "id": "prime-symposium",
   "metadata": {},
   "outputs": [
    {
     "data": {
      "text/plain": [
       "'Hunt: Showdown'"
      ]
     },
     "execution_count": 113,
     "metadata": {},
     "output_type": "execute_result"
    }
   ],
   "source": [
    "#found clean title, withing the first\n",
    "table.find('span', class_='title').text"
   ]
  },
  {
   "cell_type": "markdown",
   "id": "sporting-coverage",
   "metadata": {},
   "source": [
    "# release date"
   ]
  },
  {
   "cell_type": "code",
   "execution_count": 115,
   "id": "impressive-learning",
   "metadata": {},
   "outputs": [
    {
     "data": {
      "text/plain": [
       "'Apr 11, 2016'"
      ]
     },
     "execution_count": 115,
     "metadata": {},
     "output_type": "execute_result"
    }
   ],
   "source": [
    "#found clean date, now prices and discount\n",
    "table.find('div', class_='col search_released responsive_secondrow').text"
   ]
  },
  {
   "cell_type": "markdown",
   "id": "framed-montreal",
   "metadata": {},
   "source": [
    "# discount amount?"
   ]
  },
  {
   "cell_type": "code",
   "execution_count": 122,
   "id": "functional-mailman",
   "metadata": {},
   "outputs": [
    {
     "data": {
      "text/plain": [
       "''"
      ]
     },
     "execution_count": 122,
     "metadata": {},
     "output_type": "execute_result"
    }
   ],
   "source": [
    "#first game does not have discount but this will retrieve discount amount.\n",
    "table.find('div', class_='col search_discount responsive_secondrow').text.strip()"
   ]
  },
  {
   "cell_type": "markdown",
   "id": "romance-invite",
   "metadata": {},
   "source": [
    "# price"
   ]
  },
  {
   "cell_type": "code",
   "execution_count": 124,
   "id": "level-federal",
   "metadata": {},
   "outputs": [
    {
     "data": {
      "text/plain": [
       "'$59.99'"
      ]
     },
     "execution_count": 124,
     "metadata": {},
     "output_type": "execute_result"
    }
   ],
   "source": [
    "# i do believe separate price code will have to be written for games, after seeing if there is or is not a discount\n",
    "table.find('div', class_='col search_price responsive_secondrow').text.strip() #price if no discount"
   ]
  },
  {
   "cell_type": "code",
   "execution_count": 125,
   "id": "short-quilt",
   "metadata": {},
   "outputs": [
    {
     "data": {
      "text/plain": [
       "'$39.99'"
      ]
     },
     "execution_count": 125,
     "metadata": {},
     "output_type": "execute_result"
    }
   ],
   "source": [
    "#prices for discount.\n",
    "# I do believe I will only need original price for this project. while sales price may influence\n",
    "#number of purchases, I am just going to recored if a game has ever been on sale for another metric.\n",
    "\n",
    "rows[1].find('strike').text"
   ]
  },
  {
   "cell_type": "code",
   "execution_count": null,
   "id": "valuable-sentence",
   "metadata": {},
   "outputs": [],
   "source": []
  }
 ],
 "metadata": {
  "kernelspec": {
   "display_name": "Python [conda env:root]",
   "language": "python",
   "name": "conda-root-py"
  },
  "language_info": {
   "codemirror_mode": {
    "name": "ipython",
    "version": 3
   },
   "file_extension": ".py",
   "mimetype": "text/x-python",
   "name": "python",
   "nbconvert_exporter": "python",
   "pygments_lexer": "ipython3",
   "version": "3.8.5"
  }
 },
 "nbformat": 4,
 "nbformat_minor": 5
}
