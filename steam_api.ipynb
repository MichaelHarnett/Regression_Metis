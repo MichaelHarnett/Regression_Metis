{
 "cells": [
  {
   "cell_type": "code",
   "execution_count": 2,
   "metadata": {},
   "outputs": [],
   "source": [
    "from bs4 import BeautifulSoup\n",
    "import requests\n",
    "import pandas as pd\n",
    "from selenium import webdriver\n",
    "from selenium.webdriver.common.keys import Keys\n",
    "import time, os\n",
    "import json"
   ]
  },
  {
   "cell_type": "code",
   "execution_count": 3,
   "metadata": {},
   "outputs": [],
   "source": [
    "from types import SimpleNamespace"
   ]
  },
  {
   "cell_type": "code",
   "execution_count": 40,
   "metadata": {},
   "outputs": [],
   "source": [
    "import statistics"
   ]
  },
  {
   "cell_type": "code",
   "execution_count": 189,
   "metadata": {},
   "outputs": [
    {
     "name": "stdout",
     "output_type": "stream",
     "text": [
      "Populating the interactive namespace from numpy and matplotlib\n"
     ]
    },
    {
     "name": "stderr",
     "output_type": "stream",
     "text": [
      "/usr/local/anaconda3/lib/python3.8/site-packages/IPython/core/magics/pylab.py:159: UserWarning: pylab import has clobbered these variables: ['random']\n",
      "`%matplotlib` prevents importing * from pylab and numpy\n",
      "  warn(\"pylab import has clobbered these variables: %s\"  % clobbered +\n"
     ]
    }
   ],
   "source": [
    "import random\n",
    "import numpy as np\n",
    "from sklearn.linear_model import LinearRegression, Lasso, LassoCV, Ridge, RidgeCV\n",
    "from sklearn.model_selection import train_test_split\n",
    "from sklearn.preprocessing import StandardScaler, PolynomialFeatures\n",
    "import seaborn as sns\n",
    "sns.set()\n",
    "import pandas as pd\n",
    "from sklearn.metrics import r2_score, mean_squared_error, mean_absolute_error\n",
    "import statsmodels.api as sm\n",
    "import statsmodels.formula.api as smf\n",
    "\n",
    "from sklearn.pipeline import Pipeline\n",
    "%matplotlib inline\n",
    "%pylab inline"
   ]
  },
  {
   "cell_type": "code",
   "execution_count": 200,
   "metadata": {},
   "outputs": [],
   "source": [
    "import seaborn as sns\n",
    "\n"
   ]
  },
  {
   "cell_type": "markdown",
   "metadata": {},
   "source": [
    "# retrieving data from steamspy api\n",
    "\n",
    "first attempt at pulling data and transforming it into a dataframe. then can use number of game sales as new target"
   ]
  },
  {
   "cell_type": "code",
   "execution_count": 100,
   "metadata": {},
   "outputs": [],
   "source": [
    "response = requests.get('http://steamspy.com/api.php?request=all&page=44')"
   ]
  },
  {
   "cell_type": "code",
   "execution_count": 101,
   "metadata": {},
   "outputs": [
    {
     "data": {
      "text/plain": [
       "<Response [200]>"
      ]
     },
     "execution_count": 101,
     "metadata": {},
     "output_type": "execute_result"
    }
   ],
   "source": [
    "response"
   ]
  },
  {
   "cell_type": "code",
   "execution_count": 27,
   "metadata": {},
   "outputs": [
    {
     "ename": "AttributeError",
     "evalue": "'dict' object has no attribute 'read'",
     "output_type": "error",
     "traceback": [
      "\u001b[0;31m---------------------------------------------------------------------------\u001b[0m",
      "\u001b[0;31mAttributeError\u001b[0m                            Traceback (most recent call last)",
      "\u001b[0;32m<ipython-input-27-8eaf032e3695>\u001b[0m in \u001b[0;36m<module>\u001b[0;34m\u001b[0m\n\u001b[0;32m----> 1\u001b[0;31m \u001b[0mjson\u001b[0m\u001b[0;34m.\u001b[0m\u001b[0mload\u001b[0m\u001b[0;34m(\u001b[0m\u001b[0mresponse\u001b[0m\u001b[0;34m.\u001b[0m\u001b[0mjson\u001b[0m\u001b[0;34m(\u001b[0m\u001b[0;34m)\u001b[0m\u001b[0;34m)\u001b[0m\u001b[0;34m\u001b[0m\u001b[0;34m\u001b[0m\u001b[0m\n\u001b[0m",
      "\u001b[0;32m/usr/local/anaconda3/lib/python3.8/json/__init__.py\u001b[0m in \u001b[0;36mload\u001b[0;34m(fp, cls, object_hook, parse_float, parse_int, parse_constant, object_pairs_hook, **kw)\u001b[0m\n\u001b[1;32m    291\u001b[0m     \u001b[0mkwarg\u001b[0m\u001b[0;34m;\u001b[0m \u001b[0motherwise\u001b[0m\u001b[0;31m \u001b[0m\u001b[0;31m`\u001b[0m\u001b[0;31m`\u001b[0m\u001b[0mJSONDecoder\u001b[0m\u001b[0;31m`\u001b[0m\u001b[0;31m`\u001b[0m \u001b[0;32mis\u001b[0m \u001b[0mused\u001b[0m\u001b[0;34m.\u001b[0m\u001b[0;34m\u001b[0m\u001b[0;34m\u001b[0m\u001b[0m\n\u001b[1;32m    292\u001b[0m     \"\"\"\n\u001b[0;32m--> 293\u001b[0;31m     return loads(fp.read(),\n\u001b[0m\u001b[1;32m    294\u001b[0m         \u001b[0mcls\u001b[0m\u001b[0;34m=\u001b[0m\u001b[0mcls\u001b[0m\u001b[0;34m,\u001b[0m \u001b[0mobject_hook\u001b[0m\u001b[0;34m=\u001b[0m\u001b[0mobject_hook\u001b[0m\u001b[0;34m,\u001b[0m\u001b[0;34m\u001b[0m\u001b[0;34m\u001b[0m\u001b[0m\n\u001b[1;32m    295\u001b[0m         \u001b[0mparse_float\u001b[0m\u001b[0;34m=\u001b[0m\u001b[0mparse_float\u001b[0m\u001b[0;34m,\u001b[0m \u001b[0mparse_int\u001b[0m\u001b[0;34m=\u001b[0m\u001b[0mparse_int\u001b[0m\u001b[0;34m,\u001b[0m\u001b[0;34m\u001b[0m\u001b[0;34m\u001b[0m\u001b[0m\n",
      "\u001b[0;31mAttributeError\u001b[0m: 'dict' object has no attribute 'read'"
     ]
    }
   ],
   "source": [
    "json.load(response.json())"
   ]
  },
  {
   "cell_type": "code",
   "execution_count": 8,
   "metadata": {},
   "outputs": [],
   "source": [
    "#response = requests.get('http://steamspy.com/api.php?request=all&page=1')"
   ]
  },
  {
   "cell_type": "code",
   "execution_count": 9,
   "metadata": {},
   "outputs": [
    {
     "data": {
      "text/plain": [
       "<Response [200]>"
      ]
     },
     "execution_count": 9,
     "metadata": {},
     "output_type": "execute_result"
    }
   ],
   "source": [
    "response"
   ]
  },
  {
   "cell_type": "code",
   "execution_count": 5,
   "metadata": {},
   "outputs": [],
   "source": [
    "list = response.json()"
   ]
  },
  {
   "cell_type": "code",
   "execution_count": 35,
   "metadata": {},
   "outputs": [
    {
     "ename": "TypeError",
     "evalue": "the JSON object must be str, bytes or bytearray, not dict",
     "output_type": "error",
     "traceback": [
      "\u001b[0;31m---------------------------------------------------------------------------\u001b[0m",
      "\u001b[0;31mTypeError\u001b[0m                                 Traceback (most recent call last)",
      "\u001b[0;32m<ipython-input-35-3994b11a096e>\u001b[0m in \u001b[0;36m<module>\u001b[0;34m\u001b[0m\n\u001b[0;32m----> 1\u001b[0;31m \u001b[0mjson\u001b[0m\u001b[0;34m.\u001b[0m\u001b[0mloads\u001b[0m\u001b[0;34m(\u001b[0m\u001b[0mlist\u001b[0m\u001b[0;34m)\u001b[0m\u001b[0;34m\u001b[0m\u001b[0;34m\u001b[0m\u001b[0m\n\u001b[0m",
      "\u001b[0;32m/usr/local/anaconda3/lib/python3.8/json/__init__.py\u001b[0m in \u001b[0;36mloads\u001b[0;34m(s, cls, object_hook, parse_float, parse_int, parse_constant, object_pairs_hook, **kw)\u001b[0m\n\u001b[1;32m    339\u001b[0m     \u001b[0;32melse\u001b[0m\u001b[0;34m:\u001b[0m\u001b[0;34m\u001b[0m\u001b[0;34m\u001b[0m\u001b[0m\n\u001b[1;32m    340\u001b[0m         \u001b[0;32mif\u001b[0m \u001b[0;32mnot\u001b[0m \u001b[0misinstance\u001b[0m\u001b[0;34m(\u001b[0m\u001b[0ms\u001b[0m\u001b[0;34m,\u001b[0m \u001b[0;34m(\u001b[0m\u001b[0mbytes\u001b[0m\u001b[0;34m,\u001b[0m \u001b[0mbytearray\u001b[0m\u001b[0;34m)\u001b[0m\u001b[0;34m)\u001b[0m\u001b[0;34m:\u001b[0m\u001b[0;34m\u001b[0m\u001b[0;34m\u001b[0m\u001b[0m\n\u001b[0;32m--> 341\u001b[0;31m             raise TypeError(f'the JSON object must be str, bytes or bytearray, '\n\u001b[0m\u001b[1;32m    342\u001b[0m                             f'not {s.__class__.__name__}')\n\u001b[1;32m    343\u001b[0m         \u001b[0ms\u001b[0m \u001b[0;34m=\u001b[0m \u001b[0ms\u001b[0m\u001b[0;34m.\u001b[0m\u001b[0mdecode\u001b[0m\u001b[0;34m(\u001b[0m\u001b[0mdetect_encoding\u001b[0m\u001b[0;34m(\u001b[0m\u001b[0ms\u001b[0m\u001b[0;34m)\u001b[0m\u001b[0;34m,\u001b[0m \u001b[0;34m'surrogatepass'\u001b[0m\u001b[0;34m)\u001b[0m\u001b[0;34m\u001b[0m\u001b[0;34m\u001b[0m\u001b[0m\n",
      "\u001b[0;31mTypeError\u001b[0m: the JSON object must be str, bytes or bytearray, not dict"
     ]
    }
   ],
   "source": [
    "json.loads(list)"
   ]
  },
  {
   "cell_type": "code",
   "execution_count": 38,
   "metadata": {},
   "outputs": [
    {
     "ename": "TypeError",
     "evalue": "the JSON object must be str, bytes or bytearray, not Response",
     "output_type": "error",
     "traceback": [
      "\u001b[0;31m---------------------------------------------------------------------------\u001b[0m",
      "\u001b[0;31mTypeError\u001b[0m                                 Traceback (most recent call last)",
      "\u001b[0;32m<ipython-input-38-6a71e4941db1>\u001b[0m in \u001b[0;36m<module>\u001b[0;34m\u001b[0m\n\u001b[0;32m----> 1\u001b[0;31m \u001b[0mx\u001b[0m \u001b[0;34m=\u001b[0m \u001b[0mjson\u001b[0m\u001b[0;34m.\u001b[0m\u001b[0mloads\u001b[0m\u001b[0;34m(\u001b[0m\u001b[0mresponse\u001b[0m\u001b[0;34m,\u001b[0m \u001b[0mobject_hook\u001b[0m\u001b[0;34m=\u001b[0m\u001b[0;32mlambda\u001b[0m \u001b[0md\u001b[0m\u001b[0;34m:\u001b[0m \u001b[0mSimpleNamespace\u001b[0m\u001b[0;34m(\u001b[0m\u001b[0;34m**\u001b[0m\u001b[0md\u001b[0m\u001b[0;34m)\u001b[0m\u001b[0;34m)\u001b[0m\u001b[0;34m\u001b[0m\u001b[0;34m\u001b[0m\u001b[0m\n\u001b[0m",
      "\u001b[0;32m/usr/local/anaconda3/lib/python3.8/json/__init__.py\u001b[0m in \u001b[0;36mloads\u001b[0;34m(s, cls, object_hook, parse_float, parse_int, parse_constant, object_pairs_hook, **kw)\u001b[0m\n\u001b[1;32m    339\u001b[0m     \u001b[0;32melse\u001b[0m\u001b[0;34m:\u001b[0m\u001b[0;34m\u001b[0m\u001b[0;34m\u001b[0m\u001b[0m\n\u001b[1;32m    340\u001b[0m         \u001b[0;32mif\u001b[0m \u001b[0;32mnot\u001b[0m \u001b[0misinstance\u001b[0m\u001b[0;34m(\u001b[0m\u001b[0ms\u001b[0m\u001b[0;34m,\u001b[0m \u001b[0;34m(\u001b[0m\u001b[0mbytes\u001b[0m\u001b[0;34m,\u001b[0m \u001b[0mbytearray\u001b[0m\u001b[0;34m)\u001b[0m\u001b[0;34m)\u001b[0m\u001b[0;34m:\u001b[0m\u001b[0;34m\u001b[0m\u001b[0;34m\u001b[0m\u001b[0m\n\u001b[0;32m--> 341\u001b[0;31m             raise TypeError(f'the JSON object must be str, bytes or bytearray, '\n\u001b[0m\u001b[1;32m    342\u001b[0m                             f'not {s.__class__.__name__}')\n\u001b[1;32m    343\u001b[0m         \u001b[0ms\u001b[0m \u001b[0;34m=\u001b[0m \u001b[0ms\u001b[0m\u001b[0;34m.\u001b[0m\u001b[0mdecode\u001b[0m\u001b[0;34m(\u001b[0m\u001b[0mdetect_encoding\u001b[0m\u001b[0;34m(\u001b[0m\u001b[0ms\u001b[0m\u001b[0;34m)\u001b[0m\u001b[0;34m,\u001b[0m \u001b[0;34m'surrogatepass'\u001b[0m\u001b[0;34m)\u001b[0m\u001b[0;34m\u001b[0m\u001b[0;34m\u001b[0m\u001b[0m\n",
      "\u001b[0;31mTypeError\u001b[0m: the JSON object must be str, bytes or bytearray, not Response"
     ]
    }
   ],
   "source": [
    "x = json.loads(response, object_hook=lambda d: SimpleNamespace(**d))"
   ]
  },
  {
   "cell_type": "code",
   "execution_count": 105,
   "metadata": {},
   "outputs": [],
   "source": [
    "df = pd.DataFrame(list).T"
   ]
  },
  {
   "cell_type": "code",
   "execution_count": 12,
   "metadata": {},
   "outputs": [],
   "source": [
    "num1 = try1.iloc[0]['owners']"
   ]
  },
  {
   "cell_type": "code",
   "execution_count": 13,
   "metadata": {},
   "outputs": [
    {
     "data": {
      "text/plain": [
       "'100,000,000 .. 200,000,000'"
      ]
     },
     "execution_count": 13,
     "metadata": {},
     "output_type": "execute_result"
    }
   ],
   "source": [
    "num1"
   ]
  },
  {
   "cell_type": "code",
   "execution_count": 18,
   "metadata": {},
   "outputs": [
    {
     "data": {
      "text/plain": [
       "'100,000,000 .. 200,000,000'"
      ]
     },
     "execution_count": 18,
     "metadata": {},
     "output_type": "execute_result"
    }
   ],
   "source": [
    "num1.strip()"
   ]
  },
  {
   "cell_type": "code",
   "execution_count": 20,
   "metadata": {},
   "outputs": [
    {
     "data": {
      "text/plain": [
       "['100,000,000', '..', '200,000,000']"
      ]
     },
     "execution_count": 20,
     "metadata": {},
     "output_type": "execute_result"
    }
   ],
   "source": [
    "num1.split()"
   ]
  },
  {
   "cell_type": "code",
   "execution_count": 36,
   "metadata": {},
   "outputs": [],
   "source": [
    "listz = num1.replace(',','').split()"
   ]
  },
  {
   "cell_type": "code",
   "execution_count": 37,
   "metadata": {},
   "outputs": [],
   "source": [
    "listz.remove(listz[1])"
   ]
  },
  {
   "cell_type": "code",
   "execution_count": 42,
   "metadata": {},
   "outputs": [],
   "source": [
    "for items in listz:\n",
    "    items = int(items)"
   ]
  },
  {
   "cell_type": "code",
   "execution_count": 41,
   "metadata": {},
   "outputs": [
    {
     "ename": "TypeError",
     "evalue": "unsupported operand type(s) for /: 'str' and 'int'",
     "output_type": "error",
     "traceback": [
      "\u001b[0;31m---------------------------------------------------------------------------\u001b[0m",
      "\u001b[0;31mTypeError\u001b[0m                                 Traceback (most recent call last)",
      "\u001b[0;32m<ipython-input-41-1bffde1ee438>\u001b[0m in \u001b[0;36m<module>\u001b[0;34m\u001b[0m\n\u001b[0;32m----> 1\u001b[0;31m \u001b[0mstatistics\u001b[0m\u001b[0;34m.\u001b[0m\u001b[0mmedian\u001b[0m\u001b[0;34m(\u001b[0m\u001b[0mlistz\u001b[0m\u001b[0;34m)\u001b[0m\u001b[0;34m\u001b[0m\u001b[0;34m\u001b[0m\u001b[0m\n\u001b[0m",
      "\u001b[0;32m/usr/local/anaconda3/lib/python3.8/statistics.py\u001b[0m in \u001b[0;36mmedian\u001b[0;34m(data)\u001b[0m\n\u001b[1;32m    433\u001b[0m     \u001b[0;32melse\u001b[0m\u001b[0;34m:\u001b[0m\u001b[0;34m\u001b[0m\u001b[0;34m\u001b[0m\u001b[0m\n\u001b[1;32m    434\u001b[0m         \u001b[0mi\u001b[0m \u001b[0;34m=\u001b[0m \u001b[0mn\u001b[0m\u001b[0;34m//\u001b[0m\u001b[0;36m2\u001b[0m\u001b[0;34m\u001b[0m\u001b[0;34m\u001b[0m\u001b[0m\n\u001b[0;32m--> 435\u001b[0;31m         \u001b[0;32mreturn\u001b[0m \u001b[0;34m(\u001b[0m\u001b[0mdata\u001b[0m\u001b[0;34m[\u001b[0m\u001b[0mi\u001b[0m \u001b[0;34m-\u001b[0m \u001b[0;36m1\u001b[0m\u001b[0;34m]\u001b[0m \u001b[0;34m+\u001b[0m \u001b[0mdata\u001b[0m\u001b[0;34m[\u001b[0m\u001b[0mi\u001b[0m\u001b[0;34m]\u001b[0m\u001b[0;34m)\u001b[0m\u001b[0;34m/\u001b[0m\u001b[0;36m2\u001b[0m\u001b[0;34m\u001b[0m\u001b[0;34m\u001b[0m\u001b[0m\n\u001b[0m\u001b[1;32m    436\u001b[0m \u001b[0;34m\u001b[0m\u001b[0m\n\u001b[1;32m    437\u001b[0m \u001b[0;34m\u001b[0m\u001b[0m\n",
      "\u001b[0;31mTypeError\u001b[0m: unsupported operand type(s) for /: 'str' and 'int'"
     ]
    }
   ],
   "source": [
    "statistics.median(listz)"
   ]
  },
  {
   "cell_type": "code",
   "execution_count": 45,
   "metadata": {},
   "outputs": [],
   "source": [
    "listz[0] = int(listz[0])"
   ]
  },
  {
   "cell_type": "code",
   "execution_count": 46,
   "metadata": {},
   "outputs": [
    {
     "data": {
      "text/plain": [
       "[100000000, '200000000']"
      ]
     },
     "execution_count": 46,
     "metadata": {},
     "output_type": "execute_result"
    }
   ],
   "source": [
    "listz"
   ]
  },
  {
   "cell_type": "code",
   "execution_count": 78,
   "metadata": {},
   "outputs": [],
   "source": [
    "# def medianator (raw):\n",
    "#     temp = []\n",
    "#     raw2 = raw.split()\n",
    "#     raw3 = raw2.remove(raw2[1])\n",
    "#     for items in raw3:\n",
    "#         temp.append(int(items))\n",
    "#     print(temp)\n",
    "#     return statistics.median(temp)"
   ]
  },
  {
   "cell_type": "code",
   "execution_count": 79,
   "metadata": {},
   "outputs": [
    {
     "ename": "TypeError",
     "evalue": "'NoneType' object is not iterable",
     "output_type": "error",
     "traceback": [
      "\u001b[0;31m---------------------------------------------------------------------------\u001b[0m",
      "\u001b[0;31mTypeError\u001b[0m                                 Traceback (most recent call last)",
      "\u001b[0;32m<ipython-input-79-ba52b7a7db52>\u001b[0m in \u001b[0;36m<module>\u001b[0;34m\u001b[0m\n\u001b[0;32m----> 1\u001b[0;31m \u001b[0mmedianator\u001b[0m\u001b[0;34m(\u001b[0m\u001b[0mnum1\u001b[0m\u001b[0;34m)\u001b[0m\u001b[0;34m\u001b[0m\u001b[0;34m\u001b[0m\u001b[0m\n\u001b[0m",
      "\u001b[0;32m<ipython-input-78-4704a8818952>\u001b[0m in \u001b[0;36mmedianator\u001b[0;34m(raw)\u001b[0m\n\u001b[1;32m      3\u001b[0m     \u001b[0mraw2\u001b[0m \u001b[0;34m=\u001b[0m \u001b[0mraw\u001b[0m\u001b[0;34m.\u001b[0m\u001b[0msplit\u001b[0m\u001b[0;34m(\u001b[0m\u001b[0;34m)\u001b[0m\u001b[0;34m\u001b[0m\u001b[0;34m\u001b[0m\u001b[0m\n\u001b[1;32m      4\u001b[0m     \u001b[0mraw3\u001b[0m \u001b[0;34m=\u001b[0m \u001b[0mraw2\u001b[0m\u001b[0;34m.\u001b[0m\u001b[0mremove\u001b[0m\u001b[0;34m(\u001b[0m\u001b[0mraw2\u001b[0m\u001b[0;34m[\u001b[0m\u001b[0;36m1\u001b[0m\u001b[0;34m]\u001b[0m\u001b[0;34m)\u001b[0m\u001b[0;34m\u001b[0m\u001b[0;34m\u001b[0m\u001b[0m\n\u001b[0;32m----> 5\u001b[0;31m     \u001b[0;32mfor\u001b[0m \u001b[0mitems\u001b[0m \u001b[0;32min\u001b[0m \u001b[0mraw3\u001b[0m\u001b[0;34m:\u001b[0m\u001b[0;34m\u001b[0m\u001b[0;34m\u001b[0m\u001b[0m\n\u001b[0m\u001b[1;32m      6\u001b[0m         \u001b[0mtemp\u001b[0m\u001b[0;34m.\u001b[0m\u001b[0mappend\u001b[0m\u001b[0;34m(\u001b[0m\u001b[0mint\u001b[0m\u001b[0;34m(\u001b[0m\u001b[0mitems\u001b[0m\u001b[0;34m)\u001b[0m\u001b[0;34m)\u001b[0m\u001b[0;34m\u001b[0m\u001b[0;34m\u001b[0m\u001b[0m\n\u001b[1;32m      7\u001b[0m     \u001b[0mprint\u001b[0m\u001b[0;34m(\u001b[0m\u001b[0mtemp\u001b[0m\u001b[0;34m)\u001b[0m\u001b[0;34m\u001b[0m\u001b[0;34m\u001b[0m\u001b[0m\n",
      "\u001b[0;31mTypeError\u001b[0m: 'NoneType' object is not iterable"
     ]
    }
   ],
   "source": [
    "medianator(num1)"
   ]
  },
  {
   "cell_type": "code",
   "execution_count": 54,
   "metadata": {},
   "outputs": [
    {
     "data": {
      "text/plain": [
       "'100,000,000 .. 200,000,000'"
      ]
     },
     "execution_count": 54,
     "metadata": {},
     "output_type": "execute_result"
    }
   ],
   "source": [
    "num1"
   ]
  },
  {
   "cell_type": "code",
   "execution_count": 55,
   "metadata": {},
   "outputs": [],
   "source": [
    "AHH = [100000000, 200000000]"
   ]
  },
  {
   "cell_type": "code",
   "execution_count": 56,
   "metadata": {},
   "outputs": [
    {
     "data": {
      "text/plain": [
       "150000000.0"
      ]
     },
     "execution_count": 56,
     "metadata": {},
     "output_type": "execute_result"
    }
   ],
   "source": [
    "statistics.median(AHH)"
   ]
  },
  {
   "cell_type": "code",
   "execution_count": 70,
   "metadata": {},
   "outputs": [],
   "source": [
    "ahh = ['1000000','2000000']"
   ]
  },
  {
   "cell_type": "code",
   "execution_count": 63,
   "metadata": {},
   "outputs": [
    {
     "ename": "TypeError",
     "evalue": "list indices must be integers or slices, not str",
     "output_type": "error",
     "traceback": [
      "\u001b[0;31m---------------------------------------------------------------------------\u001b[0m",
      "\u001b[0;31mTypeError\u001b[0m                                 Traceback (most recent call last)",
      "\u001b[0;32m<ipython-input-63-0d8e9e0c84e2>\u001b[0m in \u001b[0;36m<module>\u001b[0;34m\u001b[0m\n\u001b[1;32m      1\u001b[0m \u001b[0;32mfor\u001b[0m \u001b[0mitems\u001b[0m \u001b[0;32min\u001b[0m \u001b[0mahh\u001b[0m\u001b[0;34m:\u001b[0m\u001b[0;34m\u001b[0m\u001b[0;34m\u001b[0m\u001b[0m\n\u001b[0;32m----> 2\u001b[0;31m     \u001b[0mahh\u001b[0m\u001b[0;34m[\u001b[0m\u001b[0mitems\u001b[0m\u001b[0;34m]\u001b[0m \u001b[0;34m=\u001b[0m \u001b[0mint\u001b[0m\u001b[0;34m(\u001b[0m\u001b[0mitems\u001b[0m\u001b[0;34m)\u001b[0m\u001b[0;34m\u001b[0m\u001b[0;34m\u001b[0m\u001b[0m\n\u001b[0m",
      "\u001b[0;31mTypeError\u001b[0m: list indices must be integers or slices, not str"
     ]
    }
   ],
   "source": [
    "for items in ahh:\n",
    "    ahh[items] = int(items)"
   ]
  },
  {
   "cell_type": "code",
   "execution_count": 72,
   "metadata": {},
   "outputs": [
    {
     "ename": "TypeError",
     "evalue": "'list' object is not callable",
     "output_type": "error",
     "traceback": [
      "\u001b[0;31m---------------------------------------------------------------------------\u001b[0m",
      "\u001b[0;31mTypeError\u001b[0m                                 Traceback (most recent call last)",
      "\u001b[0;32m<ipython-input-72-4e5781476a9a>\u001b[0m in \u001b[0;36m<module>\u001b[0;34m\u001b[0m\n\u001b[0;32m----> 1\u001b[0;31m \u001b[0mnums\u001b[0m \u001b[0;34m=\u001b[0m \u001b[0mlist\u001b[0m\u001b[0;34m(\u001b[0m\u001b[0mmap\u001b[0m\u001b[0;34m(\u001b[0m\u001b[0mint\u001b[0m\u001b[0;34m,\u001b[0m\u001b[0mahh\u001b[0m\u001b[0;34m)\u001b[0m\u001b[0;34m)\u001b[0m\u001b[0;34m\u001b[0m\u001b[0;34m\u001b[0m\u001b[0m\n\u001b[0m",
      "\u001b[0;31mTypeError\u001b[0m: 'list' object is not callable"
     ]
    }
   ],
   "source": [
    "nums = list(map(int,ahh))"
   ]
  },
  {
   "cell_type": "code",
   "execution_count": 69,
   "metadata": {},
   "outputs": [
    {
     "data": {
      "text/plain": [
       "<map at 0x7fb0a2fd5b20>"
      ]
     },
     "execution_count": 69,
     "metadata": {},
     "output_type": "execute_result"
    }
   ],
   "source": [
    "ahh"
   ]
  },
  {
   "cell_type": "code",
   "execution_count": 92,
   "metadata": {},
   "outputs": [
    {
     "data": {
      "text/plain": [
       "['100000000', '200000000']"
      ]
     },
     "execution_count": 92,
     "metadata": {},
     "output_type": "execute_result"
    }
   ],
   "source": [
    "num1.replace(',','').replace('.','').split()"
   ]
  },
  {
   "cell_type": "code",
   "execution_count": 74,
   "metadata": {},
   "outputs": [
    {
     "data": {
      "text/plain": [
       "['1000000', '2000000']"
      ]
     },
     "execution_count": 74,
     "metadata": {},
     "output_type": "execute_result"
    }
   ],
   "source": [
    "ahh"
   ]
  },
  {
   "cell_type": "code",
   "execution_count": 75,
   "metadata": {},
   "outputs": [],
   "source": [
    "nums = [int(s) for s in ahh]"
   ]
  },
  {
   "cell_type": "code",
   "execution_count": 77,
   "metadata": {},
   "outputs": [
    {
     "data": {
      "text/plain": [
       "1500000.0"
      ]
     },
     "execution_count": 77,
     "metadata": {},
     "output_type": "execute_result"
    }
   ],
   "source": [
    "statistics.median(nums)"
   ]
  },
  {
   "cell_type": "code",
   "execution_count": 83,
   "metadata": {},
   "outputs": [
    {
     "ename": "AttributeError",
     "evalue": "'str' object has no attribute 'remove'",
     "output_type": "error",
     "traceback": [
      "\u001b[0;31m---------------------------------------------------------------------------\u001b[0m",
      "\u001b[0;31mAttributeError\u001b[0m                            Traceback (most recent call last)",
      "\u001b[0;32m<ipython-input-83-dc2c054d2849>\u001b[0m in \u001b[0;36m<module>\u001b[0;34m\u001b[0m\n\u001b[0;32m----> 1\u001b[0;31m \u001b[0mnum1\u001b[0m\u001b[0;34m.\u001b[0m\u001b[0mremove\u001b[0m\u001b[0;34m(\u001b[0m\u001b[0mnum1\u001b[0m\u001b[0;34m.\u001b[0m\u001b[0msplit\u001b[0m\u001b[0;34m(\u001b[0m\u001b[0;34m)\u001b[0m\u001b[0;34m[\u001b[0m\u001b[0;36m1\u001b[0m\u001b[0;34m]\u001b[0m\u001b[0;34m)\u001b[0m\u001b[0;34m\u001b[0m\u001b[0;34m\u001b[0m\u001b[0m\n\u001b[0m",
      "\u001b[0;31mAttributeError\u001b[0m: 'str' object has no attribute 'remove'"
     ]
    }
   ],
   "source": [
    "num1.remove(num1.split()[1])"
   ]
  },
  {
   "cell_type": "code",
   "execution_count": 87,
   "metadata": {},
   "outputs": [
    {
     "data": {
      "text/plain": [
       "'100,000,000 .. 200,000,000'"
      ]
     },
     "execution_count": 87,
     "metadata": {},
     "output_type": "execute_result"
    }
   ],
   "source": [
    "num1"
   ]
  },
  {
   "cell_type": "markdown",
   "metadata": {},
   "source": [
    "# MEDIANATOR\n",
    "this function will be able to get median number for games sold, once all pages are scraped"
   ]
  },
  {
   "cell_type": "code",
   "execution_count": 93,
   "metadata": {},
   "outputs": [],
   "source": [
    "def medianator (raw):\n",
    "    raw2 = (raw.replace(',','').replace('.','').split())\n",
    "    nums = [int(s) for s in raw2]\n",
    "    return statistics.median(nums)"
   ]
  },
  {
   "cell_type": "code",
   "execution_count": 94,
   "metadata": {},
   "outputs": [
    {
     "data": {
      "text/plain": [
       "150000000.0"
      ]
     },
     "execution_count": 94,
     "metadata": {},
     "output_type": "execute_result"
    }
   ],
   "source": [
    "medianator(num1)"
   ]
  },
  {
   "cell_type": "code",
   "execution_count": 95,
   "metadata": {},
   "outputs": [
    {
     "data": {
      "text/html": [
       "<div>\n",
       "<style scoped>\n",
       "    .dataframe tbody tr th:only-of-type {\n",
       "        vertical-align: middle;\n",
       "    }\n",
       "\n",
       "    .dataframe tbody tr th {\n",
       "        vertical-align: top;\n",
       "    }\n",
       "\n",
       "    .dataframe thead th {\n",
       "        text-align: right;\n",
       "    }\n",
       "</style>\n",
       "<table border=\"1\" class=\"dataframe\">\n",
       "  <thead>\n",
       "    <tr style=\"text-align: right;\">\n",
       "      <th></th>\n",
       "      <th>appid</th>\n",
       "      <th>name</th>\n",
       "      <th>developer</th>\n",
       "      <th>publisher</th>\n",
       "      <th>score_rank</th>\n",
       "      <th>positive</th>\n",
       "      <th>negative</th>\n",
       "      <th>userscore</th>\n",
       "      <th>owners</th>\n",
       "      <th>average_forever</th>\n",
       "      <th>average_2weeks</th>\n",
       "      <th>median_forever</th>\n",
       "      <th>median_2weeks</th>\n",
       "      <th>price</th>\n",
       "      <th>initialprice</th>\n",
       "      <th>discount</th>\n",
       "      <th>ccu</th>\n",
       "    </tr>\n",
       "  </thead>\n",
       "  <tbody>\n",
       "    <tr>\n",
       "      <th>570</th>\n",
       "      <td>570</td>\n",
       "      <td>Dota 2</td>\n",
       "      <td>Valve</td>\n",
       "      <td>Valve</td>\n",
       "      <td></td>\n",
       "      <td>1257359</td>\n",
       "      <td>235742</td>\n",
       "      <td>0</td>\n",
       "      <td>100,000,000 .. 200,000,000</td>\n",
       "      <td>35610</td>\n",
       "      <td>1979</td>\n",
       "      <td>1142</td>\n",
       "      <td>1038</td>\n",
       "      <td>0</td>\n",
       "      <td>0</td>\n",
       "      <td>0</td>\n",
       "      <td>590053</td>\n",
       "    </tr>\n",
       "    <tr>\n",
       "      <th>578080</th>\n",
       "      <td>578080</td>\n",
       "      <td>PLAYERUNKNOWN'S BATTLEGROUNDS</td>\n",
       "      <td>KRAFTON, Inc.</td>\n",
       "      <td>KRAFTON, Inc.</td>\n",
       "      <td></td>\n",
       "      <td>927347</td>\n",
       "      <td>784222</td>\n",
       "      <td>0</td>\n",
       "      <td>50,000,000 .. 100,000,000</td>\n",
       "      <td>26222</td>\n",
       "      <td>669</td>\n",
       "      <td>11437</td>\n",
       "      <td>275</td>\n",
       "      <td>1499</td>\n",
       "      <td>2999</td>\n",
       "      <td>50</td>\n",
       "      <td>382408</td>\n",
       "    </tr>\n",
       "    <tr>\n",
       "      <th>440</th>\n",
       "      <td>440</td>\n",
       "      <td>Team Fortress 2</td>\n",
       "      <td>Valve</td>\n",
       "      <td>Valve</td>\n",
       "      <td></td>\n",
       "      <td>728878</td>\n",
       "      <td>46735</td>\n",
       "      <td>0</td>\n",
       "      <td>50,000,000 .. 100,000,000</td>\n",
       "      <td>8057</td>\n",
       "      <td>1108</td>\n",
       "      <td>375</td>\n",
       "      <td>186</td>\n",
       "      <td>0</td>\n",
       "      <td>0</td>\n",
       "      <td>0</td>\n",
       "      <td>82055</td>\n",
       "    </tr>\n",
       "    <tr>\n",
       "      <th>730</th>\n",
       "      <td>730</td>\n",
       "      <td>Counter-Strike: Global Offensive</td>\n",
       "      <td>Valve, Hidden Path Entertainment</td>\n",
       "      <td>Valve</td>\n",
       "      <td></td>\n",
       "      <td>4867165</td>\n",
       "      <td>656509</td>\n",
       "      <td>0</td>\n",
       "      <td>50,000,000 .. 100,000,000</td>\n",
       "      <td>31692</td>\n",
       "      <td>1023</td>\n",
       "      <td>7483</td>\n",
       "      <td>369</td>\n",
       "      <td>0</td>\n",
       "      <td>0</td>\n",
       "      <td>0</td>\n",
       "      <td>988108</td>\n",
       "    </tr>\n",
       "    <tr>\n",
       "      <th>304930</th>\n",
       "      <td>304930</td>\n",
       "      <td>Unturned</td>\n",
       "      <td>Smartly Dressed Games</td>\n",
       "      <td>Smartly Dressed Games</td>\n",
       "      <td></td>\n",
       "      <td>393567</td>\n",
       "      <td>37603</td>\n",
       "      <td>0</td>\n",
       "      <td>20,000,000 .. 50,000,000</td>\n",
       "      <td>8343</td>\n",
       "      <td>4976</td>\n",
       "      <td>322</td>\n",
       "      <td>2360</td>\n",
       "      <td>0</td>\n",
       "      <td>0</td>\n",
       "      <td>0</td>\n",
       "      <td>26381</td>\n",
       "    </tr>\n",
       "    <tr>\n",
       "      <th>...</th>\n",
       "      <td>...</td>\n",
       "      <td>...</td>\n",
       "      <td>...</td>\n",
       "      <td>...</td>\n",
       "      <td>...</td>\n",
       "      <td>...</td>\n",
       "      <td>...</td>\n",
       "      <td>...</td>\n",
       "      <td>...</td>\n",
       "      <td>...</td>\n",
       "      <td>...</td>\n",
       "      <td>...</td>\n",
       "      <td>...</td>\n",
       "      <td>...</td>\n",
       "      <td>...</td>\n",
       "      <td>...</td>\n",
       "      <td>...</td>\n",
       "    </tr>\n",
       "    <tr>\n",
       "      <th>1094520</th>\n",
       "      <td>1094520</td>\n",
       "      <td>Sands of Salzaar</td>\n",
       "      <td>汉家松鼠Han-Squirrel Studio</td>\n",
       "      <td>X.D. Network Inc.</td>\n",
       "      <td></td>\n",
       "      <td>12716</td>\n",
       "      <td>1745</td>\n",
       "      <td>0</td>\n",
       "      <td>500,000 .. 1,000,000</td>\n",
       "      <td>820</td>\n",
       "      <td>0</td>\n",
       "      <td>436</td>\n",
       "      <td>0</td>\n",
       "      <td>1199</td>\n",
       "      <td>1499</td>\n",
       "      <td>20</td>\n",
       "      <td>490</td>\n",
       "    </tr>\n",
       "    <tr>\n",
       "      <th>333600</th>\n",
       "      <td>333600</td>\n",
       "      <td>NEKOPARA Vol. 1</td>\n",
       "      <td>NEKO WORKs</td>\n",
       "      <td>Sekai Project</td>\n",
       "      <td></td>\n",
       "      <td>22041</td>\n",
       "      <td>1004</td>\n",
       "      <td>0</td>\n",
       "      <td>500,000 .. 1,000,000</td>\n",
       "      <td>2761</td>\n",
       "      <td>63</td>\n",
       "      <td>136</td>\n",
       "      <td>89</td>\n",
       "      <td>399</td>\n",
       "      <td>999</td>\n",
       "      <td>60</td>\n",
       "      <td>228</td>\n",
       "    </tr>\n",
       "    <tr>\n",
       "      <th>450390</th>\n",
       "      <td>450390</td>\n",
       "      <td>The Lab</td>\n",
       "      <td>Valve</td>\n",
       "      <td>Valve</td>\n",
       "      <td></td>\n",
       "      <td>4470</td>\n",
       "      <td>223</td>\n",
       "      <td>0</td>\n",
       "      <td>500,000 .. 1,000,000</td>\n",
       "      <td>76</td>\n",
       "      <td>0</td>\n",
       "      <td>36</td>\n",
       "      <td>0</td>\n",
       "      <td>0</td>\n",
       "      <td>0</td>\n",
       "      <td>0</td>\n",
       "      <td>63</td>\n",
       "    </tr>\n",
       "    <tr>\n",
       "      <th>288470</th>\n",
       "      <td>288470</td>\n",
       "      <td>Fable Anniversary</td>\n",
       "      <td>Lionhead Studios</td>\n",
       "      <td>Xbox Game Studios</td>\n",
       "      <td></td>\n",
       "      <td>7201</td>\n",
       "      <td>1442</td>\n",
       "      <td>0</td>\n",
       "      <td>500,000 .. 1,000,000</td>\n",
       "      <td>1072</td>\n",
       "      <td>0</td>\n",
       "      <td>611</td>\n",
       "      <td>0</td>\n",
       "      <td>3499</td>\n",
       "      <td>3499</td>\n",
       "      <td>0</td>\n",
       "      <td>318</td>\n",
       "    </tr>\n",
       "    <tr>\n",
       "      <th>48240</th>\n",
       "      <td>48240</td>\n",
       "      <td>Anno 2070</td>\n",
       "      <td>Blue Byte, Related Designs</td>\n",
       "      <td>Ubisoft</td>\n",
       "      <td></td>\n",
       "      <td>6545</td>\n",
       "      <td>4287</td>\n",
       "      <td>0</td>\n",
       "      <td>500,000 .. 1,000,000</td>\n",
       "      <td>5540</td>\n",
       "      <td>0</td>\n",
       "      <td>4686</td>\n",
       "      <td>0</td>\n",
       "      <td>1999</td>\n",
       "      <td>1999</td>\n",
       "      <td>0</td>\n",
       "      <td>159</td>\n",
       "    </tr>\n",
       "  </tbody>\n",
       "</table>\n",
       "<p>1000 rows × 17 columns</p>\n",
       "</div>"
      ],
      "text/plain": [
       "           appid                              name  \\\n",
       "570          570                            Dota 2   \n",
       "578080    578080     PLAYERUNKNOWN'S BATTLEGROUNDS   \n",
       "440          440                   Team Fortress 2   \n",
       "730          730  Counter-Strike: Global Offensive   \n",
       "304930    304930                          Unturned   \n",
       "...          ...                               ...   \n",
       "1094520  1094520                  Sands of Salzaar   \n",
       "333600    333600                   NEKOPARA Vol. 1   \n",
       "450390    450390                           The Lab   \n",
       "288470    288470                 Fable Anniversary   \n",
       "48240      48240                         Anno 2070   \n",
       "\n",
       "                                developer              publisher score_rank  \\\n",
       "570                                 Valve                  Valve              \n",
       "578080                      KRAFTON, Inc.          KRAFTON, Inc.              \n",
       "440                                 Valve                  Valve              \n",
       "730      Valve, Hidden Path Entertainment                  Valve              \n",
       "304930              Smartly Dressed Games  Smartly Dressed Games              \n",
       "...                                   ...                    ...        ...   \n",
       "1094520           汉家松鼠Han-Squirrel Studio      X.D. Network Inc.              \n",
       "333600                         NEKO WORKs          Sekai Project              \n",
       "450390                              Valve                  Valve              \n",
       "288470                   Lionhead Studios      Xbox Game Studios              \n",
       "48240          Blue Byte, Related Designs                Ubisoft              \n",
       "\n",
       "        positive negative userscore                      owners  \\\n",
       "570      1257359   235742         0  100,000,000 .. 200,000,000   \n",
       "578080    927347   784222         0   50,000,000 .. 100,000,000   \n",
       "440       728878    46735         0   50,000,000 .. 100,000,000   \n",
       "730      4867165   656509         0   50,000,000 .. 100,000,000   \n",
       "304930    393567    37603         0    20,000,000 .. 50,000,000   \n",
       "...          ...      ...       ...                         ...   \n",
       "1094520    12716     1745         0        500,000 .. 1,000,000   \n",
       "333600     22041     1004         0        500,000 .. 1,000,000   \n",
       "450390      4470      223         0        500,000 .. 1,000,000   \n",
       "288470      7201     1442         0        500,000 .. 1,000,000   \n",
       "48240       6545     4287         0        500,000 .. 1,000,000   \n",
       "\n",
       "        average_forever average_2weeks median_forever median_2weeks price  \\\n",
       "570               35610           1979           1142          1038     0   \n",
       "578080            26222            669          11437           275  1499   \n",
       "440                8057           1108            375           186     0   \n",
       "730               31692           1023           7483           369     0   \n",
       "304930             8343           4976            322          2360     0   \n",
       "...                 ...            ...            ...           ...   ...   \n",
       "1094520             820              0            436             0  1199   \n",
       "333600             2761             63            136            89   399   \n",
       "450390               76              0             36             0     0   \n",
       "288470             1072              0            611             0  3499   \n",
       "48240              5540              0           4686             0  1999   \n",
       "\n",
       "        initialprice discount     ccu  \n",
       "570                0        0  590053  \n",
       "578080          2999       50  382408  \n",
       "440                0        0   82055  \n",
       "730                0        0  988108  \n",
       "304930             0        0   26381  \n",
       "...              ...      ...     ...  \n",
       "1094520         1499       20     490  \n",
       "333600           999       60     228  \n",
       "450390             0        0      63  \n",
       "288470          3499        0     318  \n",
       "48240           1999        0     159  \n",
       "\n",
       "[1000 rows x 17 columns]"
      ]
     },
     "execution_count": 95,
     "metadata": {},
     "output_type": "execute_result"
    }
   ],
   "source": []
  },
  {
   "cell_type": "markdown",
   "metadata": {},
   "source": [
    "# Creating loop for all pages\n",
    "44 pages, will take 44 minutes since I have to include a 60 second wait per API request"
   ]
  },
  {
   "cell_type": "code",
   "execution_count": 116,
   "metadata": {},
   "outputs": [],
   "source": [
    "for i in range(44):\n",
    "    response = requests.get(f'http://steamspy.com/api.php?request=all&page={i}')\n",
    "    list = response.json()\n",
    "    df = pd.concat([df,(pd.DataFrame(list).T)])\n",
    "    time.sleep(60)\n",
    "    \n",
    "    \n",
    "    \n"
   ]
  },
  {
   "cell_type": "code",
   "execution_count": 117,
   "metadata": {},
   "outputs": [
    {
     "data": {
      "text/plain": [
       "(46999, 17)"
      ]
     },
     "execution_count": 117,
     "metadata": {},
     "output_type": "execute_result"
    }
   ],
   "source": [
    "df.shape"
   ]
  },
  {
   "cell_type": "code",
   "execution_count": 107,
   "metadata": {},
   "outputs": [
    {
     "data": {
      "text/plain": [
       "(1000, 17)"
      ]
     },
     "execution_count": 107,
     "metadata": {},
     "output_type": "execute_result"
    }
   ],
   "source": [
    "try1.shape"
   ]
  },
  {
   "cell_type": "code",
   "execution_count": 109,
   "metadata": {},
   "outputs": [],
   "source": [
    "try2 = pd.concat([df,try1])"
   ]
  },
  {
   "cell_type": "code",
   "execution_count": 110,
   "metadata": {},
   "outputs": [
    {
     "data": {
      "text/plain": [
       "(2000, 17)"
      ]
     },
     "execution_count": 110,
     "metadata": {},
     "output_type": "execute_result"
    }
   ],
   "source": [
    "try2.shape"
   ]
  },
  {
   "cell_type": "code",
   "execution_count": 119,
   "metadata": {},
   "outputs": [],
   "source": [
    "df.drop_duplicates(inplace=True)"
   ]
  },
  {
   "cell_type": "code",
   "execution_count": 126,
   "metadata": {},
   "outputs": [],
   "source": [
    "df.rename(columns={'name':'title'},inplace=True)"
   ]
  },
  {
   "cell_type": "code",
   "execution_count": 120,
   "metadata": {},
   "outputs": [
    {
     "data": {
      "text/html": [
       "<div>\n",
       "<style scoped>\n",
       "    .dataframe tbody tr th:only-of-type {\n",
       "        vertical-align: middle;\n",
       "    }\n",
       "\n",
       "    .dataframe tbody tr th {\n",
       "        vertical-align: top;\n",
       "    }\n",
       "\n",
       "    .dataframe thead th {\n",
       "        text-align: right;\n",
       "    }\n",
       "</style>\n",
       "<table border=\"1\" class=\"dataframe\">\n",
       "  <thead>\n",
       "    <tr style=\"text-align: right;\">\n",
       "      <th></th>\n",
       "      <th>appid</th>\n",
       "      <th>name</th>\n",
       "      <th>developer</th>\n",
       "      <th>publisher</th>\n",
       "      <th>score_rank</th>\n",
       "      <th>positive</th>\n",
       "      <th>negative</th>\n",
       "      <th>userscore</th>\n",
       "      <th>owners</th>\n",
       "      <th>average_forever</th>\n",
       "      <th>average_2weeks</th>\n",
       "      <th>median_forever</th>\n",
       "      <th>median_2weeks</th>\n",
       "      <th>price</th>\n",
       "      <th>initialprice</th>\n",
       "      <th>discount</th>\n",
       "      <th>ccu</th>\n",
       "    </tr>\n",
       "  </thead>\n",
       "  <tbody>\n",
       "    <tr>\n",
       "      <th>570</th>\n",
       "      <td>570</td>\n",
       "      <td>Dota 2</td>\n",
       "      <td>Valve</td>\n",
       "      <td>Valve</td>\n",
       "      <td></td>\n",
       "      <td>1257359</td>\n",
       "      <td>235742</td>\n",
       "      <td>0</td>\n",
       "      <td>100,000,000 .. 200,000,000</td>\n",
       "      <td>35610</td>\n",
       "      <td>1979</td>\n",
       "      <td>1142</td>\n",
       "      <td>1038</td>\n",
       "      <td>0</td>\n",
       "      <td>0</td>\n",
       "      <td>0</td>\n",
       "      <td>590053</td>\n",
       "    </tr>\n",
       "  </tbody>\n",
       "</table>\n",
       "</div>"
      ],
      "text/plain": [
       "    appid    name developer publisher score_rank positive negative userscore  \\\n",
       "570   570  Dota 2     Valve     Valve             1257359   235742         0   \n",
       "\n",
       "                         owners average_forever average_2weeks median_forever  \\\n",
       "570  100,000,000 .. 200,000,000           35610           1979           1142   \n",
       "\n",
       "    median_2weeks price initialprice discount     ccu  \n",
       "570          1038     0            0        0  590053  "
      ]
     },
     "execution_count": 120,
     "metadata": {},
     "output_type": "execute_result"
    }
   ],
   "source": [
    "df.head(1)"
   ]
  },
  {
   "cell_type": "code",
   "execution_count": 121,
   "metadata": {},
   "outputs": [],
   "source": [
    "df['owners_median'] = df.owners.map(medianator)"
   ]
  },
  {
   "cell_type": "code",
   "execution_count": 128,
   "metadata": {},
   "outputs": [
    {
     "data": {
      "text/html": [
       "<div>\n",
       "<style scoped>\n",
       "    .dataframe tbody tr th:only-of-type {\n",
       "        vertical-align: middle;\n",
       "    }\n",
       "\n",
       "    .dataframe tbody tr th {\n",
       "        vertical-align: top;\n",
       "    }\n",
       "\n",
       "    .dataframe thead th {\n",
       "        text-align: right;\n",
       "    }\n",
       "</style>\n",
       "<table border=\"1\" class=\"dataframe\">\n",
       "  <thead>\n",
       "    <tr style=\"text-align: right;\">\n",
       "      <th></th>\n",
       "      <th>appid</th>\n",
       "      <th>title</th>\n",
       "      <th>developer</th>\n",
       "      <th>publisher</th>\n",
       "      <th>score_rank</th>\n",
       "      <th>positive</th>\n",
       "      <th>negative</th>\n",
       "      <th>userscore</th>\n",
       "      <th>owners</th>\n",
       "      <th>average_forever</th>\n",
       "      <th>average_2weeks</th>\n",
       "      <th>median_forever</th>\n",
       "      <th>median_2weeks</th>\n",
       "      <th>price</th>\n",
       "      <th>initialprice</th>\n",
       "      <th>discount</th>\n",
       "      <th>ccu</th>\n",
       "      <th>owners_median</th>\n",
       "    </tr>\n",
       "  </thead>\n",
       "  <tbody>\n",
       "    <tr>\n",
       "      <th>570</th>\n",
       "      <td>570</td>\n",
       "      <td>Dota 2</td>\n",
       "      <td>Valve</td>\n",
       "      <td>Valve</td>\n",
       "      <td></td>\n",
       "      <td>1257359</td>\n",
       "      <td>235742</td>\n",
       "      <td>0</td>\n",
       "      <td>100,000,000 .. 200,000,000</td>\n",
       "      <td>35610</td>\n",
       "      <td>1979</td>\n",
       "      <td>1142</td>\n",
       "      <td>1038</td>\n",
       "      <td>0</td>\n",
       "      <td>0</td>\n",
       "      <td>0</td>\n",
       "      <td>590053</td>\n",
       "      <td>150000000.0</td>\n",
       "    </tr>\n",
       "    <tr>\n",
       "      <th>578080</th>\n",
       "      <td>578080</td>\n",
       "      <td>PLAYERUNKNOWN'S BATTLEGROUNDS</td>\n",
       "      <td>KRAFTON, Inc.</td>\n",
       "      <td>KRAFTON, Inc.</td>\n",
       "      <td></td>\n",
       "      <td>927347</td>\n",
       "      <td>784222</td>\n",
       "      <td>0</td>\n",
       "      <td>50,000,000 .. 100,000,000</td>\n",
       "      <td>26222</td>\n",
       "      <td>669</td>\n",
       "      <td>11437</td>\n",
       "      <td>275</td>\n",
       "      <td>1499</td>\n",
       "      <td>2999</td>\n",
       "      <td>50</td>\n",
       "      <td>382408</td>\n",
       "      <td>75000000.0</td>\n",
       "    </tr>\n",
       "    <tr>\n",
       "      <th>440</th>\n",
       "      <td>440</td>\n",
       "      <td>Team Fortress 2</td>\n",
       "      <td>Valve</td>\n",
       "      <td>Valve</td>\n",
       "      <td></td>\n",
       "      <td>728878</td>\n",
       "      <td>46735</td>\n",
       "      <td>0</td>\n",
       "      <td>50,000,000 .. 100,000,000</td>\n",
       "      <td>8057</td>\n",
       "      <td>1108</td>\n",
       "      <td>375</td>\n",
       "      <td>186</td>\n",
       "      <td>0</td>\n",
       "      <td>0</td>\n",
       "      <td>0</td>\n",
       "      <td>82055</td>\n",
       "      <td>75000000.0</td>\n",
       "    </tr>\n",
       "    <tr>\n",
       "      <th>730</th>\n",
       "      <td>730</td>\n",
       "      <td>Counter-Strike: Global Offensive</td>\n",
       "      <td>Valve, Hidden Path Entertainment</td>\n",
       "      <td>Valve</td>\n",
       "      <td></td>\n",
       "      <td>4867165</td>\n",
       "      <td>656509</td>\n",
       "      <td>0</td>\n",
       "      <td>50,000,000 .. 100,000,000</td>\n",
       "      <td>31692</td>\n",
       "      <td>1023</td>\n",
       "      <td>7483</td>\n",
       "      <td>369</td>\n",
       "      <td>0</td>\n",
       "      <td>0</td>\n",
       "      <td>0</td>\n",
       "      <td>988108</td>\n",
       "      <td>75000000.0</td>\n",
       "    </tr>\n",
       "    <tr>\n",
       "      <th>304930</th>\n",
       "      <td>304930</td>\n",
       "      <td>Unturned</td>\n",
       "      <td>Smartly Dressed Games</td>\n",
       "      <td>Smartly Dressed Games</td>\n",
       "      <td></td>\n",
       "      <td>393567</td>\n",
       "      <td>37603</td>\n",
       "      <td>0</td>\n",
       "      <td>20,000,000 .. 50,000,000</td>\n",
       "      <td>8343</td>\n",
       "      <td>4976</td>\n",
       "      <td>322</td>\n",
       "      <td>2360</td>\n",
       "      <td>0</td>\n",
       "      <td>0</td>\n",
       "      <td>0</td>\n",
       "      <td>26381</td>\n",
       "      <td>35000000.0</td>\n",
       "    </tr>\n",
       "  </tbody>\n",
       "</table>\n",
       "</div>"
      ],
      "text/plain": [
       "         appid                             title  \\\n",
       "570        570                            Dota 2   \n",
       "578080  578080     PLAYERUNKNOWN'S BATTLEGROUNDS   \n",
       "440        440                   Team Fortress 2   \n",
       "730        730  Counter-Strike: Global Offensive   \n",
       "304930  304930                          Unturned   \n",
       "\n",
       "                               developer              publisher score_rank  \\\n",
       "570                                Valve                  Valve              \n",
       "578080                     KRAFTON, Inc.          KRAFTON, Inc.              \n",
       "440                                Valve                  Valve              \n",
       "730     Valve, Hidden Path Entertainment                  Valve              \n",
       "304930             Smartly Dressed Games  Smartly Dressed Games              \n",
       "\n",
       "       positive negative userscore                      owners  \\\n",
       "570     1257359   235742         0  100,000,000 .. 200,000,000   \n",
       "578080   927347   784222         0   50,000,000 .. 100,000,000   \n",
       "440      728878    46735         0   50,000,000 .. 100,000,000   \n",
       "730     4867165   656509         0   50,000,000 .. 100,000,000   \n",
       "304930   393567    37603         0    20,000,000 .. 50,000,000   \n",
       "\n",
       "       average_forever average_2weeks median_forever median_2weeks price  \\\n",
       "570              35610           1979           1142          1038     0   \n",
       "578080           26222            669          11437           275  1499   \n",
       "440               8057           1108            375           186     0   \n",
       "730              31692           1023           7483           369     0   \n",
       "304930            8343           4976            322          2360     0   \n",
       "\n",
       "       initialprice discount     ccu  owners_median  \n",
       "570               0        0  590053    150000000.0  \n",
       "578080         2999       50  382408     75000000.0  \n",
       "440               0        0   82055     75000000.0  \n",
       "730               0        0  988108     75000000.0  \n",
       "304930            0        0   26381     35000000.0  "
      ]
     },
     "execution_count": 128,
     "metadata": {},
     "output_type": "execute_result"
    }
   ],
   "source": [
    "df.head()"
   ]
  },
  {
   "cell_type": "code",
   "execution_count": 123,
   "metadata": {},
   "outputs": [],
   "source": [
    "reviewsdf = pd.read_csv('data/reviewsdf.csv')"
   ]
  },
  {
   "cell_type": "code",
   "execution_count": 134,
   "metadata": {},
   "outputs": [
    {
     "data": {
      "text/plain": [
       "(5793, 92)"
      ]
     },
     "execution_count": 134,
     "metadata": {},
     "output_type": "execute_result"
    }
   ],
   "source": [
    "reviewsdf.shape"
   ]
  },
  {
   "cell_type": "code",
   "execution_count": 224,
   "metadata": {},
   "outputs": [],
   "source": [
    "solddf = pd.merge(reviewsdf,df[['title','owners_median','positive','negative']], on=['title'])"
   ]
  },
  {
   "cell_type": "code",
   "execution_count": 225,
   "metadata": {},
   "outputs": [
    {
     "data": {
      "text/html": [
       "<div>\n",
       "<style scoped>\n",
       "    .dataframe tbody tr th:only-of-type {\n",
       "        vertical-align: middle;\n",
       "    }\n",
       "\n",
       "    .dataframe tbody tr th {\n",
       "        vertical-align: top;\n",
       "    }\n",
       "\n",
       "    .dataframe thead th {\n",
       "        text-align: right;\n",
       "    }\n",
       "</style>\n",
       "<table border=\"1\" class=\"dataframe\">\n",
       "  <thead>\n",
       "    <tr style=\"text-align: right;\">\n",
       "      <th></th>\n",
       "      <th>title</th>\n",
       "      <th>link</th>\n",
       "      <th>release_date</th>\n",
       "      <th>been_sale</th>\n",
       "      <th>orig_price</th>\n",
       "      <th>num_reviews</th>\n",
       "      <th>review_rating</th>\n",
       "      <th>num_languages</th>\n",
       "      <th>tags</th>\n",
       "      <th>num_tags</th>\n",
       "      <th>...</th>\n",
       "      <th>Sokpop Collective</th>\n",
       "      <th>Square Enix</th>\n",
       "      <th>THQ Nordic</th>\n",
       "      <th>Ubisoft</th>\n",
       "      <th>Winged Cloud</th>\n",
       "      <th>other</th>\n",
       "      <th>tinyBuild</th>\n",
       "      <th>owners_median</th>\n",
       "      <th>positive</th>\n",
       "      <th>negative</th>\n",
       "    </tr>\n",
       "  </thead>\n",
       "  <tbody>\n",
       "    <tr>\n",
       "      <th>0</th>\n",
       "      <td>OUTRIDERS</td>\n",
       "      <td>https://store.steampowered.com/app/680420/OUTR...</td>\n",
       "      <td>2021-04-01 00:00:00</td>\n",
       "      <td>0</td>\n",
       "      <td>59.99</td>\n",
       "      <td>36837</td>\n",
       "      <td>Mixed</td>\n",
       "      <td>13.0</td>\n",
       "      <td>['RPG', 'Action', 'Adventure', 'Co-op', 'Third...</td>\n",
       "      <td>20.0</td>\n",
       "      <td>...</td>\n",
       "      <td>0</td>\n",
       "      <td>1</td>\n",
       "      <td>0</td>\n",
       "      <td>0</td>\n",
       "      <td>0</td>\n",
       "      <td>0</td>\n",
       "      <td>0</td>\n",
       "      <td>1500000.0</td>\n",
       "      <td>26922</td>\n",
       "      <td>14940</td>\n",
       "    </tr>\n",
       "  </tbody>\n",
       "</table>\n",
       "<p>1 rows × 95 columns</p>\n",
       "</div>"
      ],
      "text/plain": [
       "       title                                               link  \\\n",
       "0  OUTRIDERS  https://store.steampowered.com/app/680420/OUTR...   \n",
       "\n",
       "          release_date  been_sale  orig_price  num_reviews review_rating  \\\n",
       "0  2021-04-01 00:00:00          0       59.99        36837         Mixed   \n",
       "\n",
       "   num_languages                                               tags  num_tags  \\\n",
       "0           13.0  ['RPG', 'Action', 'Adventure', 'Co-op', 'Third...      20.0   \n",
       "\n",
       "   ... Sokpop Collective  Square Enix THQ Nordic  Ubisoft  Winged Cloud other  \\\n",
       "0  ...                 0            1          0        0             0     0   \n",
       "\n",
       "   tinyBuild  owners_median  positive  negative  \n",
       "0          0      1500000.0     26922     14940  \n",
       "\n",
       "[1 rows x 95 columns]"
      ]
     },
     "execution_count": 225,
     "metadata": {},
     "output_type": "execute_result"
    }
   ],
   "source": [
    "solddf.head(1)"
   ]
  },
  {
   "cell_type": "code",
   "execution_count": 138,
   "metadata": {},
   "outputs": [
    {
     "ename": "TypeError",
     "evalue": "'dict' object is not callable",
     "output_type": "error",
     "traceback": [
      "\u001b[0;31m---------------------------------------------------------------------------\u001b[0m",
      "\u001b[0;31mTypeError\u001b[0m                                 Traceback (most recent call last)",
      "\u001b[0;32m<ipython-input-138-7184153d8cba>\u001b[0m in \u001b[0;36m<module>\u001b[0;34m\u001b[0m\n\u001b[0;32m----> 1\u001b[0;31m \u001b[0mcols\u001b[0m \u001b[0;34m=\u001b[0m \u001b[0mlist\u001b[0m\u001b[0;34m(\u001b[0m\u001b[0msolddf\u001b[0m\u001b[0;34m.\u001b[0m\u001b[0mcolumns\u001b[0m\u001b[0;34m)\u001b[0m\u001b[0;34m\u001b[0m\u001b[0;34m\u001b[0m\u001b[0m\n\u001b[0m",
      "\u001b[0;31mTypeError\u001b[0m: 'dict' object is not callable"
     ]
    }
   ],
   "source": [
    "cols = list(solddf.columns)"
   ]
  },
  {
   "cell_type": "code",
   "execution_count": 226,
   "metadata": {},
   "outputs": [
    {
     "data": {
      "text/plain": [
       "Index(['title', 'link', 'release_date', 'been_sale', 'orig_price',\n",
       "       'num_reviews', 'review_rating', 'num_languages', 'tags', 'num_tags',\n",
       "       'genres', 'num_genres', 'publisher', 'year_released',\n",
       "       'languages_filled', 'top_pubs', 'rating_val', 'Singleplayer_tag',\n",
       "       'Indie_tag', 'Action_tag', 'Adventure_tag', 'Casual_tag',\n",
       "       'Strategy_tag', 'Multiplayer_tag', 'RPG_tag', 'Simulation_tag',\n",
       "       'Atmospheric_tag', 'Horror_tag', '2D_tag', 'Soundtrack_tag',\n",
       "       'Great_tag', 'Story_tag', 'Rich_tag', 'World_tag', 'Shooter_tag',\n",
       "       'Puzzle_tag', 'TurnBased_tag', 'Open_tag', 'FirstPerson_tag',\n",
       "       'Survival_tag', 'Fantasy_tag', 'Funny_tag', 'Coop_tag',\n",
       "       'Platformer_tag', 'Early_tag', 'Access_tag', 'Sim_tag', 'Indie_genre',\n",
       "       'Action_genre', 'Adventure_genre', 'Casual_genre', 'Simulation_genre',\n",
       "       'Strategy_genre', 'RPG_genre', '_genre', 'Early_genre', 'Access_genre',\n",
       "       'Games_genre', 'Sports_genre', 'Racing_genre', 'Studios_genre',\n",
       "       'Entertainment_genre', 'Massively_genre', 'Multiplayer_genre',\n",
       "       'Studio_genre', 'Interactive_genre', 'Inc_genre', 'Software_genre',\n",
       "       'Game_genre', 'Utilities_genre', 'Feral_genre', 'Ltd_genre',\n",
       "       'Mac_genre', 'Design_genre', 'Illustration_genre', 'Sokpop_genre',\n",
       "       'Collective_genre', 'Activision', 'BANDAI NAMCO Entertainment',\n",
       "       'Capcom', 'Devolver Digital', 'Disney', 'Electronic Arts',\n",
       "       'Paradox Interactive', 'SEGA', 'Sokpop Collective', 'Square Enix',\n",
       "       'THQ Nordic', 'Ubisoft', 'Winged Cloud', 'other', 'tinyBuild',\n",
       "       'owners_median', 'positive', 'negative'],\n",
       "      dtype='object')"
      ]
     },
     "execution_count": 226,
     "metadata": {},
     "output_type": "execute_result"
    }
   ],
   "source": [
    "solddf.columns"
   ]
  },
  {
   "cell_type": "code",
   "execution_count": 204,
   "metadata": {},
   "outputs": [],
   "source": [
    "solddf.to_csv(r'/Users/michaelharnett/Desktop\\owneddf.csv', index=False)"
   ]
  },
  {
   "cell_type": "code",
   "execution_count": 154,
   "metadata": {},
   "outputs": [],
   "source": [
    "cols = solddf.columns.tolist()"
   ]
  },
  {
   "cell_type": "code",
   "execution_count": 227,
   "metadata": {},
   "outputs": [],
   "source": [
    "solddf.drop(columns=['link', 'release_date', 'review_rating',\n",
    "                     'num_languages', 'tags', 'genres','publisher',\n",
    "                     'top_pubs'], inplace=True)"
   ]
  },
  {
   "cell_type": "code",
   "execution_count": 229,
   "metadata": {},
   "outputs": [
    {
     "data": {
      "text/plain": [
       "Index(['title', 'been_sale', 'orig_price', 'num_reviews', 'num_tags',\n",
       "       'num_genres', 'year_released', 'languages_filled', 'rating_val',\n",
       "       'Singleplayer_tag', 'Indie_tag', 'Action_tag', 'Adventure_tag',\n",
       "       'Casual_tag', 'Strategy_tag', 'Multiplayer_tag', 'RPG_tag',\n",
       "       'Simulation_tag', 'Atmospheric_tag', 'Horror_tag', '2D_tag',\n",
       "       'Soundtrack_tag', 'Great_tag', 'Story_tag', 'Rich_tag', 'World_tag',\n",
       "       'Shooter_tag', 'Puzzle_tag', 'TurnBased_tag', 'Open_tag',\n",
       "       'FirstPerson_tag', 'Survival_tag', 'Fantasy_tag', 'Funny_tag',\n",
       "       'Coop_tag', 'Platformer_tag', 'Early_tag', 'Access_tag', 'Sim_tag',\n",
       "       'Indie_genre', 'Action_genre', 'Adventure_genre', 'Casual_genre',\n",
       "       'Simulation_genre', 'Strategy_genre', 'RPG_genre', '_genre',\n",
       "       'Early_genre', 'Access_genre', 'Games_genre', 'Sports_genre',\n",
       "       'Racing_genre', 'Studios_genre', 'Entertainment_genre',\n",
       "       'Massively_genre', 'Multiplayer_genre', 'Studio_genre',\n",
       "       'Interactive_genre', 'Inc_genre', 'Software_genre', 'Game_genre',\n",
       "       'Utilities_genre', 'Feral_genre', 'Ltd_genre', 'Mac_genre',\n",
       "       'Design_genre', 'Illustration_genre', 'Sokpop_genre',\n",
       "       'Collective_genre', 'Activision', 'BANDAI NAMCO Entertainment',\n",
       "       'Capcom', 'Devolver Digital', 'Disney', 'Electronic Arts',\n",
       "       'Paradox Interactive', 'SEGA', 'Sokpop Collective', 'Square Enix',\n",
       "       'THQ Nordic', 'Ubisoft', 'Winged Cloud', 'other', 'tinyBuild',\n",
       "       'owners_median', 'positive', 'negative'],\n",
       "      dtype='object')"
      ]
     },
     "execution_count": 229,
     "metadata": {},
     "output_type": "execute_result"
    }
   ],
   "source": [
    "solddf.columns"
   ]
  },
  {
   "cell_type": "code",
   "execution_count": 241,
   "metadata": {},
   "outputs": [],
   "source": [
    "cols = solddf.columns.tolist()"
   ]
  },
  {
   "cell_type": "code",
   "execution_count": 242,
   "metadata": {},
   "outputs": [],
   "source": [
    "cols.insert(4, cols.pop(cols.index('num_reviews')))"
   ]
  },
  {
   "cell_type": "code",
   "execution_count": 243,
   "metadata": {},
   "outputs": [],
   "source": [
    "solddf = solddf[cols]"
   ]
  },
  {
   "cell_type": "code",
   "execution_count": 295,
   "metadata": {},
   "outputs": [],
   "source": [
    "owneddf = solddf\n",
    "owneddf.positive = owneddf.positive.astype(int)"
   ]
  },
  {
   "cell_type": "code",
   "execution_count": 296,
   "metadata": {},
   "outputs": [],
   "source": [
    "owneddf.negative = owneddf.negative.astype(int)"
   ]
  },
  {
   "cell_type": "code",
   "execution_count": 297,
   "metadata": {},
   "outputs": [],
   "source": [
    "X, y = solddf.iloc[:,2:], solddf.iloc[:,1]"
   ]
  },
  {
   "cell_type": "code",
   "execution_count": 298,
   "metadata": {},
   "outputs": [],
   "source": [
    "X_train, X_test, y_train, y_test = train_test_split(X, y, test_size=0.2, random_state=7)\n",
    "\n",
    "X_train, X_val, y_train, y_val = train_test_split(X_train, y_train, test_size=0.25, random_state=7)"
   ]
  },
  {
   "cell_type": "code",
   "execution_count": 299,
   "metadata": {},
   "outputs": [],
   "source": [
    "lr = LinearRegression()"
   ]
  },
  {
   "cell_type": "code",
   "execution_count": 300,
   "metadata": {},
   "outputs": [
    {
     "data": {
      "text/plain": [
       "0.8022891436226546"
      ]
     },
     "execution_count": 300,
     "metadata": {},
     "output_type": "execute_result"
    }
   ],
   "source": [
    "lr.fit(X_train, y_train)\n",
    "lr.score(X_train, y_train)"
   ]
  },
  {
   "cell_type": "code",
   "execution_count": 301,
   "metadata": {},
   "outputs": [
    {
     "data": {
      "text/plain": [
       "0.7627808489864945"
      ]
     },
     "execution_count": 301,
     "metadata": {},
     "output_type": "execute_result"
    }
   ],
   "source": [
    "lr.score(X_val, y_val)"
   ]
  },
  {
   "cell_type": "code",
   "execution_count": 302,
   "metadata": {},
   "outputs": [
    {
     "data": {
      "text/plain": [
       "0.894616053309204"
      ]
     },
     "execution_count": 302,
     "metadata": {},
     "output_type": "execute_result"
    }
   ],
   "source": [
    "lr.score(X_test, y_test)"
   ]
  },
  {
   "cell_type": "code",
   "execution_count": 303,
   "metadata": {},
   "outputs": [],
   "source": [
    "train_preds = lr.predict(X_train)"
   ]
  },
  {
   "cell_type": "code",
   "execution_count": 304,
   "metadata": {},
   "outputs": [
    {
     "data": {
      "text/plain": [
       "<seaborn.axisgrid.JointGrid at 0x7fb08a014700>"
      ]
     },
     "execution_count": 304,
     "metadata": {},
     "output_type": "execute_result"
    },
    {
     "data": {
      "image/png": "[encoded data removed]",
      "text/plain": [
       "<Figure size 432x432 with 3 Axes>"
      ]
     },
     "metadata": {
      "needs_background": "light"
     },
     "output_type": "display_data"
    }
   ],
   "source": [
    "sns.jointplot(x=train_preds,y=y_train, kind='reg')"
   ]
  },
  {
   "cell_type": "code",
   "execution_count": 305,
   "metadata": {},
   "outputs": [
    {
     "name": "stdout",
     "output_type": "stream",
     "text": [
      "543242.059534339\n",
      "220912.8331997724\n"
     ]
    }
   ],
   "source": [
    "rmse = mean_squared_error(y_train, train_preds, squared=False)\n",
    "print(rmse)\n",
    "mae = mean_absolute_error(y_train, train_preds)\n",
    "print(mae)"
   ]
  },
  {
   "cell_type": "code",
   "execution_count": 260,
   "metadata": {},
   "outputs": [
    {
     "data": {
      "text/plain": [
       "0.870149443214358"
      ]
     },
     "execution_count": 260,
     "metadata": {},
     "output_type": "execute_result"
    }
   ],
   "source": [
    "# lr.fit(X,y)\n",
    "# lr.score(X,y)"
   ]
  },
  {
   "cell_type": "code",
   "execution_count": 306,
   "metadata": {},
   "outputs": [
    {
     "data": {
      "text/html": [
       "<div>\n",
       "<style scoped>\n",
       "    .dataframe tbody tr th:only-of-type {\n",
       "        vertical-align: middle;\n",
       "    }\n",
       "\n",
       "    .dataframe tbody tr th {\n",
       "        vertical-align: top;\n",
       "    }\n",
       "\n",
       "    .dataframe thead th {\n",
       "        text-align: right;\n",
       "    }\n",
       "</style>\n",
       "<table border=\"1\" class=\"dataframe\">\n",
       "  <thead>\n",
       "    <tr style=\"text-align: right;\">\n",
       "      <th></th>\n",
       "      <th>owners_median</th>\n",
       "      <th>positive</th>\n",
       "      <th>negative</th>\n",
       "      <th>num_reviews</th>\n",
       "      <th>been_sale</th>\n",
       "      <th>orig_price</th>\n",
       "      <th>num_tags</th>\n",
       "      <th>num_genres</th>\n",
       "      <th>year_released</th>\n",
       "      <th>languages_filled</th>\n",
       "      <th>...</th>\n",
       "      <th>Electronic Arts</th>\n",
       "      <th>Paradox Interactive</th>\n",
       "      <th>SEGA</th>\n",
       "      <th>Sokpop Collective</th>\n",
       "      <th>Square Enix</th>\n",
       "      <th>THQ Nordic</th>\n",
       "      <th>Ubisoft</th>\n",
       "      <th>Winged Cloud</th>\n",
       "      <th>other</th>\n",
       "      <th>tinyBuild</th>\n",
       "    </tr>\n",
       "  </thead>\n",
       "  <tbody>\n",
       "    <tr>\n",
       "      <th>owners_median</th>\n",
       "      <td>1.000000</td>\n",
       "      <td>0.901520</td>\n",
       "      <td>0.712095</td>\n",
       "      <td>0.899763</td>\n",
       "      <td>-0.047430</td>\n",
       "      <td>0.096591</td>\n",
       "      <td>0.162500</td>\n",
       "      <td>0.002131</td>\n",
       "      <td>-0.194398</td>\n",
       "      <td>0.087756</td>\n",
       "      <td>...</td>\n",
       "      <td>0.015933</td>\n",
       "      <td>0.039023</td>\n",
       "      <td>0.016020</td>\n",
       "      <td>-0.018557</td>\n",
       "      <td>0.019136</td>\n",
       "      <td>0.002951</td>\n",
       "      <td>0.015807</td>\n",
       "      <td>-0.012249</td>\n",
       "      <td>-0.042996</td>\n",
       "      <td>0.001988</td>\n",
       "    </tr>\n",
       "    <tr>\n",
       "      <th>positive</th>\n",
       "      <td>0.901520</td>\n",
       "      <td>1.000000</td>\n",
       "      <td>0.614339</td>\n",
       "      <td>0.944267</td>\n",
       "      <td>-0.050414</td>\n",
       "      <td>0.117285</td>\n",
       "      <td>0.159292</td>\n",
       "      <td>0.013264</td>\n",
       "      <td>-0.112912</td>\n",
       "      <td>0.117730</td>\n",
       "      <td>...</td>\n",
       "      <td>0.004677</td>\n",
       "      <td>0.040404</td>\n",
       "      <td>0.005714</td>\n",
       "      <td>-0.016910</td>\n",
       "      <td>0.003861</td>\n",
       "      <td>-0.006539</td>\n",
       "      <td>0.005969</td>\n",
       "      <td>-0.012946</td>\n",
       "      <td>-0.023070</td>\n",
       "      <td>-0.004318</td>\n",
       "    </tr>\n",
       "    <tr>\n",
       "      <th>negative</th>\n",
       "      <td>0.712095</td>\n",
       "      <td>0.614339</td>\n",
       "      <td>1.000000</td>\n",
       "      <td>0.769682</td>\n",
       "      <td>-0.018396</td>\n",
       "      <td>0.073311</td>\n",
       "      <td>0.056856</td>\n",
       "      <td>0.008661</td>\n",
       "      <td>-0.019300</td>\n",
       "      <td>0.041107</td>\n",
       "      <td>...</td>\n",
       "      <td>0.001525</td>\n",
       "      <td>0.013237</td>\n",
       "      <td>-0.000381</td>\n",
       "      <td>-0.006290</td>\n",
       "      <td>0.005194</td>\n",
       "      <td>-0.001218</td>\n",
       "      <td>0.001250</td>\n",
       "      <td>-0.004560</td>\n",
       "      <td>-0.011547</td>\n",
       "      <td>-0.001674</td>\n",
       "    </tr>\n",
       "    <tr>\n",
       "      <th>num_reviews</th>\n",
       "      <td>0.899763</td>\n",
       "      <td>0.944267</td>\n",
       "      <td>0.769682</td>\n",
       "      <td>1.000000</td>\n",
       "      <td>-0.045369</td>\n",
       "      <td>0.115926</td>\n",
       "      <td>0.140958</td>\n",
       "      <td>0.016061</td>\n",
       "      <td>-0.092892</td>\n",
       "      <td>0.114919</td>\n",
       "      <td>...</td>\n",
       "      <td>0.003238</td>\n",
       "      <td>0.034384</td>\n",
       "      <td>0.003899</td>\n",
       "      <td>-0.015010</td>\n",
       "      <td>0.003992</td>\n",
       "      <td>-0.005584</td>\n",
       "      <td>0.004822</td>\n",
       "      <td>-0.011430</td>\n",
       "      <td>-0.019794</td>\n",
       "      <td>-0.004035</td>\n",
       "    </tr>\n",
       "    <tr>\n",
       "      <th>been_sale</th>\n",
       "      <td>-0.047430</td>\n",
       "      <td>-0.050414</td>\n",
       "      <td>-0.018396</td>\n",
       "      <td>-0.045369</td>\n",
       "      <td>1.000000</td>\n",
       "      <td>-0.070012</td>\n",
       "      <td>-0.003522</td>\n",
       "      <td>0.044925</td>\n",
       "      <td>0.040221</td>\n",
       "      <td>-0.003602</td>\n",
       "      <td>...</td>\n",
       "      <td>-0.011040</td>\n",
       "      <td>-0.034241</td>\n",
       "      <td>-0.034241</td>\n",
       "      <td>-0.036623</td>\n",
       "      <td>-0.037535</td>\n",
       "      <td>0.007921</td>\n",
       "      <td>-0.024515</td>\n",
       "      <td>0.180420</td>\n",
       "      <td>-0.040721</td>\n",
       "      <td>0.161789</td>\n",
       "    </tr>\n",
       "    <tr>\n",
       "      <th>...</th>\n",
       "      <td>...</td>\n",
       "      <td>...</td>\n",
       "      <td>...</td>\n",
       "      <td>...</td>\n",
       "      <td>...</td>\n",
       "      <td>...</td>\n",
       "      <td>...</td>\n",
       "      <td>...</td>\n",
       "      <td>...</td>\n",
       "      <td>...</td>\n",
       "      <td>...</td>\n",
       "      <td>...</td>\n",
       "      <td>...</td>\n",
       "      <td>...</td>\n",
       "      <td>...</td>\n",
       "      <td>...</td>\n",
       "      <td>...</td>\n",
       "      <td>...</td>\n",
       "      <td>...</td>\n",
       "      <td>...</td>\n",
       "      <td>...</td>\n",
       "    </tr>\n",
       "    <tr>\n",
       "      <th>THQ Nordic</th>\n",
       "      <td>0.002951</td>\n",
       "      <td>-0.006539</td>\n",
       "      <td>-0.001218</td>\n",
       "      <td>-0.005584</td>\n",
       "      <td>0.007921</td>\n",
       "      <td>0.048435</td>\n",
       "      <td>-0.012864</td>\n",
       "      <td>0.018930</td>\n",
       "      <td>-0.065605</td>\n",
       "      <td>-0.025071</td>\n",
       "      <td>...</td>\n",
       "      <td>-0.006746</td>\n",
       "      <td>-0.007171</td>\n",
       "      <td>-0.007171</td>\n",
       "      <td>-0.007670</td>\n",
       "      <td>-0.007861</td>\n",
       "      <td>1.000000</td>\n",
       "      <td>-0.005134</td>\n",
       "      <td>-0.006524</td>\n",
       "      <td>-0.281035</td>\n",
       "      <td>-0.006855</td>\n",
       "    </tr>\n",
       "    <tr>\n",
       "      <th>Ubisoft</th>\n",
       "      <td>0.015807</td>\n",
       "      <td>0.005969</td>\n",
       "      <td>0.001250</td>\n",
       "      <td>0.004822</td>\n",
       "      <td>-0.024515</td>\n",
       "      <td>0.008554</td>\n",
       "      <td>0.011637</td>\n",
       "      <td>-0.036875</td>\n",
       "      <td>-0.091393</td>\n",
       "      <td>-0.003508</td>\n",
       "      <td>...</td>\n",
       "      <td>-0.004574</td>\n",
       "      <td>-0.004862</td>\n",
       "      <td>-0.004862</td>\n",
       "      <td>-0.005200</td>\n",
       "      <td>-0.005330</td>\n",
       "      <td>-0.005134</td>\n",
       "      <td>1.000000</td>\n",
       "      <td>-0.004423</td>\n",
       "      <td>-0.190538</td>\n",
       "      <td>-0.004648</td>\n",
       "    </tr>\n",
       "    <tr>\n",
       "      <th>Winged Cloud</th>\n",
       "      <td>-0.012249</td>\n",
       "      <td>-0.012946</td>\n",
       "      <td>-0.004560</td>\n",
       "      <td>-0.011430</td>\n",
       "      <td>0.180420</td>\n",
       "      <td>-0.023468</td>\n",
       "      <td>-0.029362</td>\n",
       "      <td>-0.022173</td>\n",
       "      <td>-0.000461</td>\n",
       "      <td>-0.000026</td>\n",
       "      <td>...</td>\n",
       "      <td>-0.005812</td>\n",
       "      <td>-0.006178</td>\n",
       "      <td>-0.006178</td>\n",
       "      <td>-0.006608</td>\n",
       "      <td>-0.006772</td>\n",
       "      <td>-0.006524</td>\n",
       "      <td>-0.004423</td>\n",
       "      <td>1.000000</td>\n",
       "      <td>-0.242106</td>\n",
       "      <td>-0.005905</td>\n",
       "    </tr>\n",
       "    <tr>\n",
       "      <th>other</th>\n",
       "      <td>-0.042996</td>\n",
       "      <td>-0.023070</td>\n",
       "      <td>-0.011547</td>\n",
       "      <td>-0.019794</td>\n",
       "      <td>-0.040721</td>\n",
       "      <td>-0.121987</td>\n",
       "      <td>-0.015992</td>\n",
       "      <td>0.038982</td>\n",
       "      <td>0.183825</td>\n",
       "      <td>0.080890</td>\n",
       "      <td>...</td>\n",
       "      <td>-0.250364</td>\n",
       "      <td>-0.266130</td>\n",
       "      <td>-0.266130</td>\n",
       "      <td>-0.284643</td>\n",
       "      <td>-0.291729</td>\n",
       "      <td>-0.281035</td>\n",
       "      <td>-0.190538</td>\n",
       "      <td>-0.242106</td>\n",
       "      <td>1.000000</td>\n",
       "      <td>-0.254395</td>\n",
       "    </tr>\n",
       "    <tr>\n",
       "      <th>tinyBuild</th>\n",
       "      <td>0.001988</td>\n",
       "      <td>-0.004318</td>\n",
       "      <td>-0.001674</td>\n",
       "      <td>-0.004035</td>\n",
       "      <td>0.161789</td>\n",
       "      <td>0.016501</td>\n",
       "      <td>0.060105</td>\n",
       "      <td>0.094776</td>\n",
       "      <td>0.009066</td>\n",
       "      <td>0.005609</td>\n",
       "      <td>...</td>\n",
       "      <td>-0.006107</td>\n",
       "      <td>-0.006491</td>\n",
       "      <td>-0.006491</td>\n",
       "      <td>-0.006943</td>\n",
       "      <td>-0.007116</td>\n",
       "      <td>-0.006855</td>\n",
       "      <td>-0.004648</td>\n",
       "      <td>-0.005905</td>\n",
       "      <td>-0.254395</td>\n",
       "      <td>1.000000</td>\n",
       "    </tr>\n",
       "  </tbody>\n",
       "</table>\n",
       "<p>86 rows × 86 columns</p>\n",
       "</div>"
      ],
      "text/plain": [
       "               owners_median  positive  negative  num_reviews  been_sale  \\\n",
       "owners_median       1.000000  0.901520  0.712095     0.899763  -0.047430   \n",
       "positive            0.901520  1.000000  0.614339     0.944267  -0.050414   \n",
       "negative            0.712095  0.614339  1.000000     0.769682  -0.018396   \n",
       "num_reviews         0.899763  0.944267  0.769682     1.000000  -0.045369   \n",
       "been_sale          -0.047430 -0.050414 -0.018396    -0.045369   1.000000   \n",
       "...                      ...       ...       ...          ...        ...   \n",
       "THQ Nordic          0.002951 -0.006539 -0.001218    -0.005584   0.007921   \n",
       "Ubisoft             0.015807  0.005969  0.001250     0.004822  -0.024515   \n",
       "Winged Cloud       -0.012249 -0.012946 -0.004560    -0.011430   0.180420   \n",
       "other              -0.042996 -0.023070 -0.011547    -0.019794  -0.040721   \n",
       "tinyBuild           0.001988 -0.004318 -0.001674    -0.004035   0.161789   \n",
       "\n",
       "               orig_price  num_tags  num_genres  year_released  \\\n",
       "owners_median    0.096591  0.162500    0.002131      -0.194398   \n",
       "positive         0.117285  0.159292    0.013264      -0.112912   \n",
       "negative         0.073311  0.056856    0.008661      -0.019300   \n",
       "num_reviews      0.115926  0.140958    0.016061      -0.092892   \n",
       "been_sale       -0.070012 -0.003522    0.044925       0.040221   \n",
       "...                   ...       ...         ...            ...   \n",
       "THQ Nordic       0.048435 -0.012864    0.018930      -0.065605   \n",
       "Ubisoft          0.008554  0.011637   -0.036875      -0.091393   \n",
       "Winged Cloud    -0.023468 -0.029362   -0.022173      -0.000461   \n",
       "other           -0.121987 -0.015992    0.038982       0.183825   \n",
       "tinyBuild        0.016501  0.060105    0.094776       0.009066   \n",
       "\n",
       "               languages_filled  ...  Electronic Arts  Paradox Interactive  \\\n",
       "owners_median          0.087756  ...         0.015933             0.039023   \n",
       "positive               0.117730  ...         0.004677             0.040404   \n",
       "negative               0.041107  ...         0.001525             0.013237   \n",
       "num_reviews            0.114919  ...         0.003238             0.034384   \n",
       "been_sale             -0.003602  ...        -0.011040            -0.034241   \n",
       "...                         ...  ...              ...                  ...   \n",
       "THQ Nordic            -0.025071  ...        -0.006746            -0.007171   \n",
       "Ubisoft               -0.003508  ...        -0.004574            -0.004862   \n",
       "Winged Cloud          -0.000026  ...        -0.005812            -0.006178   \n",
       "other                  0.080890  ...        -0.250364            -0.266130   \n",
       "tinyBuild              0.005609  ...        -0.006107            -0.006491   \n",
       "\n",
       "                   SEGA  Sokpop Collective  Square Enix  THQ Nordic   Ubisoft  \\\n",
       "owners_median  0.016020          -0.018557     0.019136    0.002951  0.015807   \n",
       "positive       0.005714          -0.016910     0.003861   -0.006539  0.005969   \n",
       "negative      -0.000381          -0.006290     0.005194   -0.001218  0.001250   \n",
       "num_reviews    0.003899          -0.015010     0.003992   -0.005584  0.004822   \n",
       "been_sale     -0.034241          -0.036623    -0.037535    0.007921 -0.024515   \n",
       "...                 ...                ...          ...         ...       ...   \n",
       "THQ Nordic    -0.007171          -0.007670    -0.007861    1.000000 -0.005134   \n",
       "Ubisoft       -0.004862          -0.005200    -0.005330   -0.005134  1.000000   \n",
       "Winged Cloud  -0.006178          -0.006608    -0.006772   -0.006524 -0.004423   \n",
       "other         -0.266130          -0.284643    -0.291729   -0.281035 -0.190538   \n",
       "tinyBuild     -0.006491          -0.006943    -0.007116   -0.006855 -0.004648   \n",
       "\n",
       "               Winged Cloud     other  tinyBuild  \n",
       "owners_median     -0.012249 -0.042996   0.001988  \n",
       "positive          -0.012946 -0.023070  -0.004318  \n",
       "negative          -0.004560 -0.011547  -0.001674  \n",
       "num_reviews       -0.011430 -0.019794  -0.004035  \n",
       "been_sale          0.180420 -0.040721   0.161789  \n",
       "...                     ...       ...        ...  \n",
       "THQ Nordic        -0.006524 -0.281035  -0.006855  \n",
       "Ubisoft           -0.004423 -0.190538  -0.004648  \n",
       "Winged Cloud       1.000000 -0.242106  -0.005905  \n",
       "other             -0.242106  1.000000  -0.254395  \n",
       "tinyBuild         -0.005905 -0.254395   1.000000  \n",
       "\n",
       "[86 rows x 86 columns]"
      ]
     },
     "execution_count": 306,
     "metadata": {},
     "output_type": "execute_result"
    }
   ],
   "source": [
    "owneddf.corr()"
   ]
  },
  {
   "cell_type": "code",
   "execution_count": 314,
   "metadata": {},
   "outputs": [
    {
     "data": {
      "text/html": [
       "<div>\n",
       "<style scoped>\n",
       "    .dataframe tbody tr th:only-of-type {\n",
       "        vertical-align: middle;\n",
       "    }\n",
       "\n",
       "    .dataframe tbody tr th {\n",
       "        vertical-align: top;\n",
       "    }\n",
       "\n",
       "    .dataframe thead th {\n",
       "        text-align: right;\n",
       "    }\n",
       "</style>\n",
       "<table border=\"1\" class=\"dataframe\">\n",
       "  <thead>\n",
       "    <tr style=\"text-align: right;\">\n",
       "      <th></th>\n",
       "      <th>owners_median</th>\n",
       "      <th>positive</th>\n",
       "      <th>negative</th>\n",
       "      <th>num_reviews</th>\n",
       "      <th>been_sale</th>\n",
       "      <th>orig_price</th>\n",
       "      <th>num_tags</th>\n",
       "      <th>num_genres</th>\n",
       "      <th>year_released</th>\n",
       "      <th>languages_filled</th>\n",
       "      <th>...</th>\n",
       "      <th>Electronic Arts</th>\n",
       "      <th>Paradox Interactive</th>\n",
       "      <th>SEGA</th>\n",
       "      <th>Sokpop Collective</th>\n",
       "      <th>Square Enix</th>\n",
       "      <th>THQ Nordic</th>\n",
       "      <th>Ubisoft</th>\n",
       "      <th>Winged Cloud</th>\n",
       "      <th>other</th>\n",
       "      <th>tinyBuild</th>\n",
       "    </tr>\n",
       "  </thead>\n",
       "  <tbody>\n",
       "    <tr>\n",
       "      <th>owners_median</th>\n",
       "      <td>1.000000</td>\n",
       "      <td>0.901520</td>\n",
       "      <td>0.712095</td>\n",
       "      <td>0.899763</td>\n",
       "      <td>-0.047430</td>\n",
       "      <td>0.096591</td>\n",
       "      <td>0.162500</td>\n",
       "      <td>0.002131</td>\n",
       "      <td>-0.194398</td>\n",
       "      <td>0.087756</td>\n",
       "      <td>...</td>\n",
       "      <td>0.015933</td>\n",
       "      <td>0.039023</td>\n",
       "      <td>0.016020</td>\n",
       "      <td>-0.018557</td>\n",
       "      <td>0.019136</td>\n",
       "      <td>0.002951</td>\n",
       "      <td>0.015807</td>\n",
       "      <td>-0.012249</td>\n",
       "      <td>-0.042996</td>\n",
       "      <td>0.001988</td>\n",
       "    </tr>\n",
       "    <tr>\n",
       "      <th>positive</th>\n",
       "      <td>0.901520</td>\n",
       "      <td>1.000000</td>\n",
       "      <td>0.614339</td>\n",
       "      <td>0.944267</td>\n",
       "      <td>-0.050414</td>\n",
       "      <td>0.117285</td>\n",
       "      <td>0.159292</td>\n",
       "      <td>0.013264</td>\n",
       "      <td>-0.112912</td>\n",
       "      <td>0.117730</td>\n",
       "      <td>...</td>\n",
       "      <td>0.004677</td>\n",
       "      <td>0.040404</td>\n",
       "      <td>0.005714</td>\n",
       "      <td>-0.016910</td>\n",
       "      <td>0.003861</td>\n",
       "      <td>-0.006539</td>\n",
       "      <td>0.005969</td>\n",
       "      <td>-0.012946</td>\n",
       "      <td>-0.023070</td>\n",
       "      <td>-0.004318</td>\n",
       "    </tr>\n",
       "    <tr>\n",
       "      <th>negative</th>\n",
       "      <td>0.712095</td>\n",
       "      <td>0.614339</td>\n",
       "      <td>1.000000</td>\n",
       "      <td>0.769682</td>\n",
       "      <td>-0.018396</td>\n",
       "      <td>0.073311</td>\n",
       "      <td>0.056856</td>\n",
       "      <td>0.008661</td>\n",
       "      <td>-0.019300</td>\n",
       "      <td>0.041107</td>\n",
       "      <td>...</td>\n",
       "      <td>0.001525</td>\n",
       "      <td>0.013237</td>\n",
       "      <td>-0.000381</td>\n",
       "      <td>-0.006290</td>\n",
       "      <td>0.005194</td>\n",
       "      <td>-0.001218</td>\n",
       "      <td>0.001250</td>\n",
       "      <td>-0.004560</td>\n",
       "      <td>-0.011547</td>\n",
       "      <td>-0.001674</td>\n",
       "    </tr>\n",
       "    <tr>\n",
       "      <th>num_reviews</th>\n",
       "      <td>0.899763</td>\n",
       "      <td>0.944267</td>\n",
       "      <td>0.769682</td>\n",
       "      <td>1.000000</td>\n",
       "      <td>-0.045369</td>\n",
       "      <td>0.115926</td>\n",
       "      <td>0.140958</td>\n",
       "      <td>0.016061</td>\n",
       "      <td>-0.092892</td>\n",
       "      <td>0.114919</td>\n",
       "      <td>...</td>\n",
       "      <td>0.003238</td>\n",
       "      <td>0.034384</td>\n",
       "      <td>0.003899</td>\n",
       "      <td>-0.015010</td>\n",
       "      <td>0.003992</td>\n",
       "      <td>-0.005584</td>\n",
       "      <td>0.004822</td>\n",
       "      <td>-0.011430</td>\n",
       "      <td>-0.019794</td>\n",
       "      <td>-0.004035</td>\n",
       "    </tr>\n",
       "    <tr>\n",
       "      <th>been_sale</th>\n",
       "      <td>-0.047430</td>\n",
       "      <td>-0.050414</td>\n",
       "      <td>-0.018396</td>\n",
       "      <td>-0.045369</td>\n",
       "      <td>1.000000</td>\n",
       "      <td>-0.070012</td>\n",
       "      <td>-0.003522</td>\n",
       "      <td>0.044925</td>\n",
       "      <td>0.040221</td>\n",
       "      <td>-0.003602</td>\n",
       "      <td>...</td>\n",
       "      <td>-0.011040</td>\n",
       "      <td>-0.034241</td>\n",
       "      <td>-0.034241</td>\n",
       "      <td>-0.036623</td>\n",
       "      <td>-0.037535</td>\n",
       "      <td>0.007921</td>\n",
       "      <td>-0.024515</td>\n",
       "      <td>0.180420</td>\n",
       "      <td>-0.040721</td>\n",
       "      <td>0.161789</td>\n",
       "    </tr>\n",
       "    <tr>\n",
       "      <th>...</th>\n",
       "      <td>...</td>\n",
       "      <td>...</td>\n",
       "      <td>...</td>\n",
       "      <td>...</td>\n",
       "      <td>...</td>\n",
       "      <td>...</td>\n",
       "      <td>...</td>\n",
       "      <td>...</td>\n",
       "      <td>...</td>\n",
       "      <td>...</td>\n",
       "      <td>...</td>\n",
       "      <td>...</td>\n",
       "      <td>...</td>\n",
       "      <td>...</td>\n",
       "      <td>...</td>\n",
       "      <td>...</td>\n",
       "      <td>...</td>\n",
       "      <td>...</td>\n",
       "      <td>...</td>\n",
       "      <td>...</td>\n",
       "      <td>...</td>\n",
       "    </tr>\n",
       "    <tr>\n",
       "      <th>THQ Nordic</th>\n",
       "      <td>0.002951</td>\n",
       "      <td>-0.006539</td>\n",
       "      <td>-0.001218</td>\n",
       "      <td>-0.005584</td>\n",
       "      <td>0.007921</td>\n",
       "      <td>0.048435</td>\n",
       "      <td>-0.012864</td>\n",
       "      <td>0.018930</td>\n",
       "      <td>-0.065605</td>\n",
       "      <td>-0.025071</td>\n",
       "      <td>...</td>\n",
       "      <td>-0.006746</td>\n",
       "      <td>-0.007171</td>\n",
       "      <td>-0.007171</td>\n",
       "      <td>-0.007670</td>\n",
       "      <td>-0.007861</td>\n",
       "      <td>1.000000</td>\n",
       "      <td>-0.005134</td>\n",
       "      <td>-0.006524</td>\n",
       "      <td>-0.281035</td>\n",
       "      <td>-0.006855</td>\n",
       "    </tr>\n",
       "    <tr>\n",
       "      <th>Ubisoft</th>\n",
       "      <td>0.015807</td>\n",
       "      <td>0.005969</td>\n",
       "      <td>0.001250</td>\n",
       "      <td>0.004822</td>\n",
       "      <td>-0.024515</td>\n",
       "      <td>0.008554</td>\n",
       "      <td>0.011637</td>\n",
       "      <td>-0.036875</td>\n",
       "      <td>-0.091393</td>\n",
       "      <td>-0.003508</td>\n",
       "      <td>...</td>\n",
       "      <td>-0.004574</td>\n",
       "      <td>-0.004862</td>\n",
       "      <td>-0.004862</td>\n",
       "      <td>-0.005200</td>\n",
       "      <td>-0.005330</td>\n",
       "      <td>-0.005134</td>\n",
       "      <td>1.000000</td>\n",
       "      <td>-0.004423</td>\n",
       "      <td>-0.190538</td>\n",
       "      <td>-0.004648</td>\n",
       "    </tr>\n",
       "    <tr>\n",
       "      <th>Winged Cloud</th>\n",
       "      <td>-0.012249</td>\n",
       "      <td>-0.012946</td>\n",
       "      <td>-0.004560</td>\n",
       "      <td>-0.011430</td>\n",
       "      <td>0.180420</td>\n",
       "      <td>-0.023468</td>\n",
       "      <td>-0.029362</td>\n",
       "      <td>-0.022173</td>\n",
       "      <td>-0.000461</td>\n",
       "      <td>-0.000026</td>\n",
       "      <td>...</td>\n",
       "      <td>-0.005812</td>\n",
       "      <td>-0.006178</td>\n",
       "      <td>-0.006178</td>\n",
       "      <td>-0.006608</td>\n",
       "      <td>-0.006772</td>\n",
       "      <td>-0.006524</td>\n",
       "      <td>-0.004423</td>\n",
       "      <td>1.000000</td>\n",
       "      <td>-0.242106</td>\n",
       "      <td>-0.005905</td>\n",
       "    </tr>\n",
       "    <tr>\n",
       "      <th>other</th>\n",
       "      <td>-0.042996</td>\n",
       "      <td>-0.023070</td>\n",
       "      <td>-0.011547</td>\n",
       "      <td>-0.019794</td>\n",
       "      <td>-0.040721</td>\n",
       "      <td>-0.121987</td>\n",
       "      <td>-0.015992</td>\n",
       "      <td>0.038982</td>\n",
       "      <td>0.183825</td>\n",
       "      <td>0.080890</td>\n",
       "      <td>...</td>\n",
       "      <td>-0.250364</td>\n",
       "      <td>-0.266130</td>\n",
       "      <td>-0.266130</td>\n",
       "      <td>-0.284643</td>\n",
       "      <td>-0.291729</td>\n",
       "      <td>-0.281035</td>\n",
       "      <td>-0.190538</td>\n",
       "      <td>-0.242106</td>\n",
       "      <td>1.000000</td>\n",
       "      <td>-0.254395</td>\n",
       "    </tr>\n",
       "    <tr>\n",
       "      <th>tinyBuild</th>\n",
       "      <td>0.001988</td>\n",
       "      <td>-0.004318</td>\n",
       "      <td>-0.001674</td>\n",
       "      <td>-0.004035</td>\n",
       "      <td>0.161789</td>\n",
       "      <td>0.016501</td>\n",
       "      <td>0.060105</td>\n",
       "      <td>0.094776</td>\n",
       "      <td>0.009066</td>\n",
       "      <td>0.005609</td>\n",
       "      <td>...</td>\n",
       "      <td>-0.006107</td>\n",
       "      <td>-0.006491</td>\n",
       "      <td>-0.006491</td>\n",
       "      <td>-0.006943</td>\n",
       "      <td>-0.007116</td>\n",
       "      <td>-0.006855</td>\n",
       "      <td>-0.004648</td>\n",
       "      <td>-0.005905</td>\n",
       "      <td>-0.254395</td>\n",
       "      <td>1.000000</td>\n",
       "    </tr>\n",
       "  </tbody>\n",
       "</table>\n",
       "<p>86 rows × 86 columns</p>\n",
       "</div>"
      ],
      "text/plain": [
       "               owners_median  positive  negative  num_reviews  been_sale  \\\n",
       "owners_median       1.000000  0.901520  0.712095     0.899763  -0.047430   \n",
       "positive            0.901520  1.000000  0.614339     0.944267  -0.050414   \n",
       "negative            0.712095  0.614339  1.000000     0.769682  -0.018396   \n",
       "num_reviews         0.899763  0.944267  0.769682     1.000000  -0.045369   \n",
       "been_sale          -0.047430 -0.050414 -0.018396    -0.045369   1.000000   \n",
       "...                      ...       ...       ...          ...        ...   \n",
       "THQ Nordic          0.002951 -0.006539 -0.001218    -0.005584   0.007921   \n",
       "Ubisoft             0.015807  0.005969  0.001250     0.004822  -0.024515   \n",
       "Winged Cloud       -0.012249 -0.012946 -0.004560    -0.011430   0.180420   \n",
       "other              -0.042996 -0.023070 -0.011547    -0.019794  -0.040721   \n",
       "tinyBuild           0.001988 -0.004318 -0.001674    -0.004035   0.161789   \n",
       "\n",
       "               orig_price  num_tags  num_genres  year_released  \\\n",
       "owners_median    0.096591  0.162500    0.002131      -0.194398   \n",
       "positive         0.117285  0.159292    0.013264      -0.112912   \n",
       "negative         0.073311  0.056856    0.008661      -0.019300   \n",
       "num_reviews      0.115926  0.140958    0.016061      -0.092892   \n",
       "been_sale       -0.070012 -0.003522    0.044925       0.040221   \n",
       "...                   ...       ...         ...            ...   \n",
       "THQ Nordic       0.048435 -0.012864    0.018930      -0.065605   \n",
       "Ubisoft          0.008554  0.011637   -0.036875      -0.091393   \n",
       "Winged Cloud    -0.023468 -0.029362   -0.022173      -0.000461   \n",
       "other           -0.121987 -0.015992    0.038982       0.183825   \n",
       "tinyBuild        0.016501  0.060105    0.094776       0.009066   \n",
       "\n",
       "               languages_filled  ...  Electronic Arts  Paradox Interactive  \\\n",
       "owners_median          0.087756  ...         0.015933             0.039023   \n",
       "positive               0.117730  ...         0.004677             0.040404   \n",
       "negative               0.041107  ...         0.001525             0.013237   \n",
       "num_reviews            0.114919  ...         0.003238             0.034384   \n",
       "been_sale             -0.003602  ...        -0.011040            -0.034241   \n",
       "...                         ...  ...              ...                  ...   \n",
       "THQ Nordic            -0.025071  ...        -0.006746            -0.007171   \n",
       "Ubisoft               -0.003508  ...        -0.004574            -0.004862   \n",
       "Winged Cloud          -0.000026  ...        -0.005812            -0.006178   \n",
       "other                  0.080890  ...        -0.250364            -0.266130   \n",
       "tinyBuild              0.005609  ...        -0.006107            -0.006491   \n",
       "\n",
       "                   SEGA  Sokpop Collective  Square Enix  THQ Nordic   Ubisoft  \\\n",
       "owners_median  0.016020          -0.018557     0.019136    0.002951  0.015807   \n",
       "positive       0.005714          -0.016910     0.003861   -0.006539  0.005969   \n",
       "negative      -0.000381          -0.006290     0.005194   -0.001218  0.001250   \n",
       "num_reviews    0.003899          -0.015010     0.003992   -0.005584  0.004822   \n",
       "been_sale     -0.034241          -0.036623    -0.037535    0.007921 -0.024515   \n",
       "...                 ...                ...          ...         ...       ...   \n",
       "THQ Nordic    -0.007171          -0.007670    -0.007861    1.000000 -0.005134   \n",
       "Ubisoft       -0.004862          -0.005200    -0.005330   -0.005134  1.000000   \n",
       "Winged Cloud  -0.006178          -0.006608    -0.006772   -0.006524 -0.004423   \n",
       "other         -0.266130          -0.284643    -0.291729   -0.281035 -0.190538   \n",
       "tinyBuild     -0.006491          -0.006943    -0.007116   -0.006855 -0.004648   \n",
       "\n",
       "               Winged Cloud     other  tinyBuild  \n",
       "owners_median     -0.012249 -0.042996   0.001988  \n",
       "positive          -0.012946 -0.023070  -0.004318  \n",
       "negative          -0.004560 -0.011547  -0.001674  \n",
       "num_reviews       -0.011430 -0.019794  -0.004035  \n",
       "been_sale          0.180420 -0.040721   0.161789  \n",
       "...                     ...       ...        ...  \n",
       "THQ Nordic        -0.006524 -0.281035  -0.006855  \n",
       "Ubisoft           -0.004423 -0.190538  -0.004648  \n",
       "Winged Cloud       1.000000 -0.242106  -0.005905  \n",
       "other             -0.242106  1.000000  -0.254395  \n",
       "tinyBuild         -0.005905 -0.254395   1.000000  \n",
       "\n",
       "[86 rows x 86 columns]"
      ]
     },
     "execution_count": 314,
     "metadata": {},
     "output_type": "execute_result"
    }
   ],
   "source": [
    "solddf.corr()"
   ]
  },
  {
   "cell_type": "code",
   "execution_count": 203,
   "metadata": {},
   "outputs": [
    {
     "data": {
      "text/plain": [
       "<AxesSubplot:>"
      ]
     },
     "execution_count": 203,
     "metadata": {},
     "output_type": "execute_result"
    },
    {
     "data": {
      "image/png": "[encoded data removed]",
      "text/plain": [
       "<Figure size 432x288 with 2 Axes>"
      ]
     },
     "metadata": {
      "needs_background": "light"
     },
     "output_type": "display_data"
    }
   ],
   "source": [
    "upper = np.triu(solddf.corr())\n",
    "sns.heatmap(solddf.corr(), cmap=\"seismic_r\", annot=True, vmin=-1, vmax=1, mask=upper)\n",
    "\n"
   ]
  },
  {
   "cell_type": "code",
   "execution_count": 272,
   "metadata": {},
   "outputs": [
    {
     "data": {
      "text/html": [
       "<div>\n",
       "<style scoped>\n",
       "    .dataframe tbody tr th:only-of-type {\n",
       "        vertical-align: middle;\n",
       "    }\n",
       "\n",
       "    .dataframe tbody tr th {\n",
       "        vertical-align: top;\n",
       "    }\n",
       "\n",
       "    .dataframe thead th {\n",
       "        text-align: right;\n",
       "    }\n",
       "</style>\n",
       "<table border=\"1\" class=\"dataframe\">\n",
       "  <thead>\n",
       "    <tr style=\"text-align: right;\">\n",
       "      <th></th>\n",
       "      <th>title</th>\n",
       "      <th>owners_median</th>\n",
       "      <th>positive</th>\n",
       "      <th>negative</th>\n",
       "      <th>num_reviews</th>\n",
       "      <th>been_sale</th>\n",
       "      <th>orig_price</th>\n",
       "      <th>num_tags</th>\n",
       "      <th>num_genres</th>\n",
       "      <th>year_released</th>\n",
       "      <th>...</th>\n",
       "      <th>Electronic Arts</th>\n",
       "      <th>Paradox Interactive</th>\n",
       "      <th>SEGA</th>\n",
       "      <th>Sokpop Collective</th>\n",
       "      <th>Square Enix</th>\n",
       "      <th>THQ Nordic</th>\n",
       "      <th>Ubisoft</th>\n",
       "      <th>Winged Cloud</th>\n",
       "      <th>other</th>\n",
       "      <th>tinyBuild</th>\n",
       "    </tr>\n",
       "  </thead>\n",
       "  <tbody>\n",
       "    <tr>\n",
       "      <th>0</th>\n",
       "      <td>OUTRIDERS</td>\n",
       "      <td>1500000.0</td>\n",
       "      <td>26922</td>\n",
       "      <td>14940</td>\n",
       "      <td>36837</td>\n",
       "      <td>0</td>\n",
       "      <td>59.99</td>\n",
       "      <td>20.0</td>\n",
       "      <td>3.0</td>\n",
       "      <td>2021</td>\n",
       "      <td>...</td>\n",
       "      <td>0</td>\n",
       "      <td>0</td>\n",
       "      <td>0</td>\n",
       "      <td>0</td>\n",
       "      <td>1</td>\n",
       "      <td>0</td>\n",
       "      <td>0</td>\n",
       "      <td>0</td>\n",
       "      <td>0</td>\n",
       "      <td>0</td>\n",
       "    </tr>\n",
       "  </tbody>\n",
       "</table>\n",
       "<p>1 rows × 87 columns</p>\n",
       "</div>"
      ],
      "text/plain": [
       "       title  owners_median positive negative  num_reviews  been_sale  \\\n",
       "0  OUTRIDERS      1500000.0    26922    14940        36837          0   \n",
       "\n",
       "   orig_price  num_tags  num_genres  year_released  ...  Electronic Arts  \\\n",
       "0       59.99      20.0         3.0           2021  ...                0   \n",
       "\n",
       "   Paradox Interactive  SEGA  Sokpop Collective  Square Enix  THQ Nordic  \\\n",
       "0                    0     0                  0            1           0   \n",
       "\n",
       "   Ubisoft  Winged Cloud  other  tinyBuild  \n",
       "0        0             0      0          0  \n",
       "\n",
       "[1 rows x 87 columns]"
      ]
     },
     "execution_count": 272,
     "metadata": {},
     "output_type": "execute_result"
    }
   ],
   "source": [
    "solddf.head(1)"
   ]
  },
  {
   "cell_type": "code",
   "execution_count": 285,
   "metadata": {},
   "outputs": [],
   "source": [
    "X, y = owneddf.iloc[:,2:10], owneddf.iloc[:,1]"
   ]
  },
  {
   "cell_type": "code",
   "execution_count": 286,
   "metadata": {},
   "outputs": [],
   "source": [
    "X_train, X_test, y_train, y_test = train_test_split(X, y, test_size=0.2, random_state=7)\n",
    "\n",
    "X_train, X_val, y_train, y_val = train_test_split(X_train, y_train, test_size=0.25, random_state=7)"
   ]
  },
  {
   "cell_type": "code",
   "execution_count": 287,
   "metadata": {},
   "outputs": [],
   "source": [
    "lr = LinearRegression()"
   ]
  },
  {
   "cell_type": "code",
   "execution_count": 288,
   "metadata": {},
   "outputs": [
    {
     "data": {
      "text/plain": [
       "0.7938778271383947"
      ]
     },
     "execution_count": 288,
     "metadata": {},
     "output_type": "execute_result"
    }
   ],
   "source": [
    "lr.fit(X_train, y_train)\n",
    "lr.score(X_train, y_train)"
   ]
  },
  {
   "cell_type": "code",
   "execution_count": 289,
   "metadata": {},
   "outputs": [
    {
     "data": {
      "text/plain": [
       "0.760219599867621"
      ]
     },
     "execution_count": 289,
     "metadata": {},
     "output_type": "execute_result"
    }
   ],
   "source": [
    "lr.score(X_val, y_val)"
   ]
  },
  {
   "cell_type": "code",
   "execution_count": 308,
   "metadata": {},
   "outputs": [
    {
     "data": {
      "text/plain": [
       "<AxesSubplot:>"
      ]
     },
     "execution_count": 308,
     "metadata": {},
     "output_type": "execute_result"
    },
    {
     "data": {
      "image/png": "[encoded data removed]",
      "text/plain": [
       "<Figure size 432x288 with 2 Axes>"
      ]
     },
     "metadata": {
      "needs_background": "light"
     },
     "output_type": "display_data"
    }
   ],
   "source": [
    "heatmapdf = owneddf.iloc[:,1:12]\n",
    "upper = np.triu(heatmapdf.corr())\n",
    "sns.heatmap(heatmapdf.corr(), cmap=\"seismic_r\", annot=True, vmin=-1, vmax=1, mask=upper)\n",
    "\n"
   ]
  },
  {
   "cell_type": "code",
   "execution_count": 221,
   "metadata": {},
   "outputs": [],
   "source": [
    "import scipy.stats as stats"
   ]
  },
  {
   "cell_type": "code",
   "execution_count": 309,
   "metadata": {},
   "outputs": [],
   "source": [
    "def diagnostic_plot(X, y):\n",
    "    plt.figure(figsize=(20,5))\n",
    "    \n",
    "    rgr = LinearRegression()\n",
    "    rgr.fit(X,y)\n",
    "    pred = rgr.predict(X)\n",
    "    \n",
    "    plt.subplot(1, 2, 1)\n",
    "    res = y - pred\n",
    "    plt.scatter(pred, res)\n",
    "    plt.title(\"Residual plot\")\n",
    "    plt.xlabel(\"prediction\")\n",
    "    plt.ylabel(\"residuals\")\n",
    "    \n",
    "    plt.subplot(1, 2, 2)\n",
    "    #Generates a probability plot of sample data against the quantiles of a \n",
    "    # specified theoretical distribution \n",
    "    stats.probplot(res, dist=\"norm\", plot=plt)\n",
    "    plt.title(\"Normal Q-Q plot\")"
   ]
  },
  {
   "cell_type": "code",
   "execution_count": 310,
   "metadata": {},
   "outputs": [
    {
     "data": {
      "image/png": "[encoded data removed]",
      "text/plain": [
       "<Figure size 1440x360 with 2 Axes>"
      ]
     },
     "metadata": {
      "needs_background": "light"
     },
     "output_type": "display_data"
    }
   ],
   "source": [
    "diagnostic_plot(X, y)"
   ]
  },
  {
   "cell_type": "code",
   "execution_count": 311,
   "metadata": {},
   "outputs": [],
   "source": [
    "from statsmodels.stats.outliers_influence import variance_inflation_factor"
   ]
  },
  {
   "cell_type": "code",
   "execution_count": 312,
   "metadata": {},
   "outputs": [],
   "source": [
    "def vif(df_X):\n",
    "    '''\n",
    "    Calculate the VIF for each feature of df_X (a Pandas DataFrame).\n",
    "    '''\n",
    "    vif_data = [variance_inflation_factor(df_X.values, i)\n",
    "                for i in range(df_X.shape[1])]\n",
    "    \n",
    "    return pd.Series(vif_data, index=df_X.columns)"
   ]
  },
  {
   "cell_type": "code",
   "execution_count": 313,
   "metadata": {},
   "outputs": [
    {
     "name": "stderr",
     "output_type": "stream",
     "text": [
      "/usr/local/anaconda3/lib/python3.8/site-packages/statsmodels/regression/linear_model.py:1715: RuntimeWarning: invalid value encountered in double_scalars\n",
      "  return 1 - self.ssr/self.centered_tss\n",
      "/usr/local/anaconda3/lib/python3.8/site-packages/statsmodels/stats/outliers_influence.py:193: RuntimeWarning: divide by zero encountered in double_scalars\n",
      "  vif = 1. / (1. - r_squared_i)\n"
     ]
    },
    {
     "data": {
      "text/plain": [
       "positive        13.227376\n",
       "negative         3.521324\n",
       "num_reviews     20.264186\n",
       "been_sale        1.149454\n",
       "orig_price       1.554122\n",
       "                  ...    \n",
       "THQ Nordic       2.645139\n",
       "Ubisoft          1.760393\n",
       "Winged Cloud     2.300857\n",
       "other           17.597415\n",
       "tinyBuild        2.414074\n",
       "Length: 85, dtype: float64"
      ]
     },
     "execution_count": 313,
     "metadata": {},
     "output_type": "execute_result"
    }
   ],
   "source": [
    "vif(owneddf.iloc[:, 2:])"
   ]
  },
  {
   "cell_type": "code",
   "execution_count": null,
   "metadata": {},
   "outputs": [],
   "source": []
  }
 ],
 "metadata": {
  "kernelspec": {
   "display_name": "Python 3",
   "language": "python",
   "name": "python3"
  },
  "language_info": {
   "codemirror_mode": {
    "name": "ipython",
    "version": 3
   },
   "file_extension": ".py",
   "mimetype": "text/x-python",
   "name": "python",
   "nbconvert_exporter": "python",
   "pygments_lexer": "ipython3",
   "version": "3.8.5"
  }
 },
 "nbformat": 4,
 "nbformat_minor": 4
}
