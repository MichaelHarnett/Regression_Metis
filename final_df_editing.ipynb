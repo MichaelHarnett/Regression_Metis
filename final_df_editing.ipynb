{
 "cells": [
  {
   "cell_type": "code",
   "execution_count": 1,
   "metadata": {},
   "outputs": [],
   "source": [
    "import pandas as pd\n",
    "import numpy as np\n",
    "import datetime\n",
    "import re\n",
    "from collections import Counter"
   ]
  },
  {
   "cell_type": "code",
   "execution_count": 26,
   "metadata": {},
   "outputs": [],
   "source": [
    "pd.options.mode.chained_assignment = None  # default='warn'"
   ]
  },
  {
   "cell_type": "markdown",
   "metadata": {},
   "source": [
    "# Eda and null-analysis to craft final dataframe"
   ]
  },
  {
   "cell_type": "code",
   "execution_count": 2,
   "metadata": {},
   "outputs": [],
   "source": [
    "totaldf = pd.read_csv('data/totaldf.csv')"
   ]
  },
  {
   "cell_type": "code",
   "execution_count": 3,
   "metadata": {},
   "outputs": [
    {
     "data": {
      "text/html": [
       "<div>\n",
       "<style scoped>\n",
       "    .dataframe tbody tr th:only-of-type {\n",
       "        vertical-align: middle;\n",
       "    }\n",
       "\n",
       "    .dataframe tbody tr th {\n",
       "        vertical-align: top;\n",
       "    }\n",
       "\n",
       "    .dataframe thead th {\n",
       "        text-align: right;\n",
       "    }\n",
       "</style>\n",
       "<table border=\"1\" class=\"dataframe\">\n",
       "  <thead>\n",
       "    <tr style=\"text-align: right;\">\n",
       "      <th></th>\n",
       "      <th>title</th>\n",
       "      <th>link</th>\n",
       "      <th>release_date</th>\n",
       "      <th>been_sale</th>\n",
       "      <th>orig_price</th>\n",
       "      <th>num_reviews</th>\n",
       "      <th>review_rating</th>\n",
       "      <th>num_languages</th>\n",
       "      <th>tags</th>\n",
       "      <th>num_tags</th>\n",
       "      <th>genres</th>\n",
       "      <th>num_genres</th>\n",
       "      <th>publisher</th>\n",
       "    </tr>\n",
       "  </thead>\n",
       "  <tbody>\n",
       "    <tr>\n",
       "      <th>0</th>\n",
       "      <td>NieR Replicant™ ver.1.22474487139...</td>\n",
       "      <td>https://store.steampowered.com/app/1113560/Nie...</td>\n",
       "      <td>Apr 23, 2021</td>\n",
       "      <td>0</td>\n",
       "      <td>$59.99</td>\n",
       "      <td>NaN</td>\n",
       "      <td>NaN</td>\n",
       "      <td>9.0</td>\n",
       "      <td>['Great Soundtrack', 'Action', 'RPG', 'Adventu...</td>\n",
       "      <td>20.0</td>\n",
       "      <td>['Action', 'Adventure', 'RPG', 'Square Enix']</td>\n",
       "      <td>4.0</td>\n",
       "      <td>Square Enix</td>\n",
       "    </tr>\n",
       "  </tbody>\n",
       "</table>\n",
       "</div>"
      ],
      "text/plain": [
       "                                  title  \\\n",
       "0  NieR Replicant™ ver.1.22474487139...   \n",
       "\n",
       "                                                link  release_date  been_sale  \\\n",
       "0  https://store.steampowered.com/app/1113560/Nie...  Apr 23, 2021          0   \n",
       "\n",
       "  orig_price num_reviews review_rating  num_languages  \\\n",
       "0     $59.99         NaN           NaN            9.0   \n",
       "\n",
       "                                                tags  num_tags  \\\n",
       "0  ['Great Soundtrack', 'Action', 'RPG', 'Adventu...      20.0   \n",
       "\n",
       "                                          genres  num_genres    publisher  \n",
       "0  ['Action', 'Adventure', 'RPG', 'Square Enix']         4.0  Square Enix  "
      ]
     },
     "execution_count": 3,
     "metadata": {},
     "output_type": "execute_result"
    }
   ],
   "source": [
    "totaldf.head(1)"
   ]
  },
  {
   "cell_type": "code",
   "execution_count": 4,
   "metadata": {},
   "outputs": [
    {
     "name": "stdout",
     "output_type": "stream",
     "text": [
      "<class 'pandas.core.frame.DataFrame'>\n",
      "RangeIndex: 15109 entries, 0 to 15108\n",
      "Data columns (total 13 columns):\n",
      " #   Column         Non-Null Count  Dtype  \n",
      "---  ------         --------------  -----  \n",
      " 0   title          15109 non-null  object \n",
      " 1   link           15109 non-null  object \n",
      " 2   release_date   15068 non-null  object \n",
      " 3   been_sale      15109 non-null  int64  \n",
      " 4   orig_price     15109 non-null  object \n",
      " 5   num_reviews    5793 non-null   object \n",
      " 6   review_rating  14152 non-null  object \n",
      " 7   num_languages  6928 non-null   float64\n",
      " 8   tags           15109 non-null  object \n",
      " 9   num_tags       15109 non-null  float64\n",
      " 10  genres         15109 non-null  object \n",
      " 11  num_genres     15109 non-null  float64\n",
      " 12  publisher      15083 non-null  object \n",
      "dtypes: float64(3), int64(1), object(9)\n",
      "memory usage: 1.5+ MB\n"
     ]
    }
   ],
   "source": [
    "totaldf.info()"
   ]
  },
  {
   "cell_type": "code",
   "execution_count": 5,
   "metadata": {},
   "outputs": [],
   "source": [
    "# lets look at only the games that had total reviews listed\n",
    "\n",
    "reviewsdf = totaldf[totaldf.num_reviews.isna()==False]"
   ]
  },
  {
   "cell_type": "code",
   "execution_count": 6,
   "metadata": {},
   "outputs": [
    {
     "name": "stdout",
     "output_type": "stream",
     "text": [
      "<class 'pandas.core.frame.DataFrame'>\n",
      "Int64Index: 5793 entries, 1 to 15108\n",
      "Data columns (total 13 columns):\n",
      " #   Column         Non-Null Count  Dtype  \n",
      "---  ------         --------------  -----  \n",
      " 0   title          5793 non-null   object \n",
      " 1   link           5793 non-null   object \n",
      " 2   release_date   5792 non-null   object \n",
      " 3   been_sale      5793 non-null   int64  \n",
      " 4   orig_price     5793 non-null   object \n",
      " 5   num_reviews    5793 non-null   object \n",
      " 6   review_rating  5793 non-null   object \n",
      " 7   num_languages  2193 non-null   float64\n",
      " 8   tags           5793 non-null   object \n",
      " 9   num_tags       5793 non-null   float64\n",
      " 10  genres         5793 non-null   object \n",
      " 11  num_genres     5793 non-null   float64\n",
      " 12  publisher      5792 non-null   object \n",
      "dtypes: float64(3), int64(1), object(9)\n",
      "memory usage: 633.6+ KB\n"
     ]
    }
   ],
   "source": [
    "reviewsdf.info()"
   ]
  },
  {
   "cell_type": "markdown",
   "metadata": {},
   "source": [
    "# Number of Reviews\n",
    "\n",
    "removing the comma and setting the type as int"
   ]
  },
  {
   "cell_type": "code",
   "execution_count": 49,
   "metadata": {},
   "outputs": [],
   "source": [
    "reviewsdf.num_reviews = reviewsdf.num_reviews.str.replace(',','').astype(int)"
   ]
  },
  {
   "cell_type": "code",
   "execution_count": 52,
   "metadata": {},
   "outputs": [
    {
     "data": {
      "text/html": [
       "<div>\n",
       "<style scoped>\n",
       "    .dataframe tbody tr th:only-of-type {\n",
       "        vertical-align: middle;\n",
       "    }\n",
       "\n",
       "    .dataframe tbody tr th {\n",
       "        vertical-align: top;\n",
       "    }\n",
       "\n",
       "    .dataframe thead th {\n",
       "        text-align: right;\n",
       "    }\n",
       "</style>\n",
       "<table border=\"1\" class=\"dataframe\">\n",
       "  <thead>\n",
       "    <tr style=\"text-align: right;\">\n",
       "      <th></th>\n",
       "      <th>title</th>\n",
       "      <th>link</th>\n",
       "      <th>release_date</th>\n",
       "      <th>been_sale</th>\n",
       "      <th>orig_price</th>\n",
       "      <th>num_reviews</th>\n",
       "      <th>review_rating</th>\n",
       "      <th>num_languages</th>\n",
       "      <th>tags</th>\n",
       "      <th>num_tags</th>\n",
       "      <th>genres</th>\n",
       "      <th>num_genres</th>\n",
       "      <th>publisher</th>\n",
       "      <th>year_released</th>\n",
       "      <th>languages_filled</th>\n",
       "      <th>top_pubs</th>\n",
       "    </tr>\n",
       "  </thead>\n",
       "  <tbody>\n",
       "    <tr>\n",
       "      <th>1</th>\n",
       "      <td>OUTRIDERS</td>\n",
       "      <td>https://store.steampowered.com/app/680420/OUTR...</td>\n",
       "      <td>2021-04-01</td>\n",
       "      <td>0</td>\n",
       "      <td>$59.99</td>\n",
       "      <td>36837</td>\n",
       "      <td>Mixed</td>\n",
       "      <td>13.0</td>\n",
       "      <td>['RPG', 'Action', 'Adventure', 'Co-op', 'Third...</td>\n",
       "      <td>20.0</td>\n",
       "      <td>['Action', 'Adventure', 'RPG']</td>\n",
       "      <td>3.0</td>\n",
       "      <td>Square Enix</td>\n",
       "      <td>2021</td>\n",
       "      <td>13.0</td>\n",
       "      <td>Square Enix</td>\n",
       "    </tr>\n",
       "    <tr>\n",
       "      <th>2</th>\n",
       "      <td>It Takes Two</td>\n",
       "      <td>https://store.steampowered.com/app/1426210/It_...</td>\n",
       "      <td>2021-03-26</td>\n",
       "      <td>0</td>\n",
       "      <td>$39.99</td>\n",
       "      <td>15688</td>\n",
       "      <td>Overwhelmingly Positive</td>\n",
       "      <td>12.0</td>\n",
       "      <td>['Co-op', 'Adventure', 'Puzzle', '3D Platforme...</td>\n",
       "      <td>20.0</td>\n",
       "      <td>['Action', 'Adventure', 'Hazelight']</td>\n",
       "      <td>3.0</td>\n",
       "      <td>Electronic Arts</td>\n",
       "      <td>2021</td>\n",
       "      <td>12.0</td>\n",
       "      <td>Electronic Arts</td>\n",
       "    </tr>\n",
       "  </tbody>\n",
       "</table>\n",
       "</div>"
      ],
      "text/plain": [
       "          title                                               link  \\\n",
       "1     OUTRIDERS  https://store.steampowered.com/app/680420/OUTR...   \n",
       "2  It Takes Two  https://store.steampowered.com/app/1426210/It_...   \n",
       "\n",
       "  release_date  been_sale orig_price  num_reviews            review_rating  \\\n",
       "1   2021-04-01          0     $59.99        36837                    Mixed   \n",
       "2   2021-03-26          0     $39.99        15688  Overwhelmingly Positive   \n",
       "\n",
       "   num_languages                                               tags  num_tags  \\\n",
       "1           13.0  ['RPG', 'Action', 'Adventure', 'Co-op', 'Third...      20.0   \n",
       "2           12.0  ['Co-op', 'Adventure', 'Puzzle', '3D Platforme...      20.0   \n",
       "\n",
       "                                 genres  num_genres        publisher  \\\n",
       "1        ['Action', 'Adventure', 'RPG']         3.0      Square Enix   \n",
       "2  ['Action', 'Adventure', 'Hazelight']         3.0  Electronic Arts   \n",
       "\n",
       "   year_released  languages_filled         top_pubs  \n",
       "1           2021              13.0      Square Enix  \n",
       "2           2021              12.0  Electronic Arts  "
      ]
     },
     "execution_count": 52,
     "metadata": {},
     "output_type": "execute_result"
    }
   ],
   "source": [
    "reviewsdf.head(2)"
   ]
  },
  {
   "cell_type": "code",
   "execution_count": 53,
   "metadata": {},
   "outputs": [
    {
     "name": "stdout",
     "output_type": "stream",
     "text": [
      "<class 'pandas.core.frame.DataFrame'>\n",
      "Int64Index: 5793 entries, 1 to 15108\n",
      "Data columns (total 16 columns):\n",
      " #   Column            Non-Null Count  Dtype         \n",
      "---  ------            --------------  -----         \n",
      " 0   title             5793 non-null   object        \n",
      " 1   link              5793 non-null   object        \n",
      " 2   release_date      5793 non-null   datetime64[ns]\n",
      " 3   been_sale         5793 non-null   int64         \n",
      " 4   orig_price        5793 non-null   object        \n",
      " 5   num_reviews       5793 non-null   int64         \n",
      " 6   review_rating     5793 non-null   object        \n",
      " 7   num_languages     2193 non-null   float64       \n",
      " 8   tags              5793 non-null   object        \n",
      " 9   num_tags          5793 non-null   float64       \n",
      " 10  genres            5793 non-null   object        \n",
      " 11  num_genres        5793 non-null   float64       \n",
      " 12  publisher         5792 non-null   object        \n",
      " 13  year_released     5793 non-null   int64         \n",
      " 14  languages_filled  5793 non-null   float64       \n",
      " 15  top_pubs          5793 non-null   object        \n",
      "dtypes: datetime64[ns](1), float64(4), int64(3), object(8)\n",
      "memory usage: 769.4+ KB\n"
     ]
    }
   ],
   "source": [
    "reviewsdf.info()"
   ]
  },
  {
   "cell_type": "markdown",
   "metadata": {},
   "source": [
    "# Year released\n",
    "One missing value\n",
    "creating year released column for modeling"
   ]
  },
  {
   "cell_type": "code",
   "execution_count": 7,
   "metadata": {},
   "outputs": [
    {
     "data": {
      "text/html": [
       "<div>\n",
       "<style scoped>\n",
       "    .dataframe tbody tr th:only-of-type {\n",
       "        vertical-align: middle;\n",
       "    }\n",
       "\n",
       "    .dataframe tbody tr th {\n",
       "        vertical-align: top;\n",
       "    }\n",
       "\n",
       "    .dataframe thead th {\n",
       "        text-align: right;\n",
       "    }\n",
       "</style>\n",
       "<table border=\"1\" class=\"dataframe\">\n",
       "  <thead>\n",
       "    <tr style=\"text-align: right;\">\n",
       "      <th></th>\n",
       "      <th>title</th>\n",
       "      <th>link</th>\n",
       "      <th>release_date</th>\n",
       "      <th>been_sale</th>\n",
       "      <th>orig_price</th>\n",
       "      <th>num_reviews</th>\n",
       "      <th>review_rating</th>\n",
       "      <th>num_languages</th>\n",
       "      <th>tags</th>\n",
       "      <th>num_tags</th>\n",
       "      <th>genres</th>\n",
       "      <th>num_genres</th>\n",
       "      <th>publisher</th>\n",
       "    </tr>\n",
       "  </thead>\n",
       "  <tbody>\n",
       "    <tr>\n",
       "      <th>784</th>\n",
       "      <td>Don't Starve</td>\n",
       "      <td>https://store.steampowered.com/app/219740/Dont...</td>\n",
       "      <td>NaN</td>\n",
       "      <td>0</td>\n",
       "      <td>$9.99</td>\n",
       "      <td>87,348</td>\n",
       "      <td>Overwhelmingly Positive</td>\n",
       "      <td>NaN</td>\n",
       "      <td>['Survival', 'Open World Survival Craft', 'Cra...</td>\n",
       "      <td>20.0</td>\n",
       "      <td>['Adventure', 'Indie', 'Simulation', 'Klei Ent...</td>\n",
       "      <td>4.0</td>\n",
       "      <td>Klei Entertainment</td>\n",
       "    </tr>\n",
       "  </tbody>\n",
       "</table>\n",
       "</div>"
      ],
      "text/plain": [
       "            title                                               link  \\\n",
       "784  Don't Starve  https://store.steampowered.com/app/219740/Dont...   \n",
       "\n",
       "    release_date  been_sale orig_price num_reviews            review_rating  \\\n",
       "784          NaN          0      $9.99      87,348  Overwhelmingly Positive   \n",
       "\n",
       "     num_languages                                               tags  \\\n",
       "784            NaN  ['Survival', 'Open World Survival Craft', 'Cra...   \n",
       "\n",
       "     num_tags                                             genres  num_genres  \\\n",
       "784      20.0  ['Adventure', 'Indie', 'Simulation', 'Klei Ent...         4.0   \n",
       "\n",
       "              publisher  \n",
       "784  Klei Entertainment  "
      ]
     },
     "execution_count": 7,
     "metadata": {},
     "output_type": "execute_result"
    }
   ],
   "source": [
    "# only one title from reviews df is missing its release date\n",
    "# has a high number of reviews, gettig release date online.\n",
    "reviewsdf[reviewsdf.release_date.isna()]"
   ]
  },
  {
   "cell_type": "code",
   "execution_count": 177,
   "metadata": {},
   "outputs": [],
   "source": [
    "reviewsdf.loc[reviewsdf.title == \"Don't Starve\",['release_date']] = 'Apr 23, 2013'"
   ]
  },
  {
   "cell_type": "code",
   "execution_count": 178,
   "metadata": {},
   "outputs": [
    {
     "data": {
      "text/html": [
       "<div>\n",
       "<style scoped>\n",
       "    .dataframe tbody tr th:only-of-type {\n",
       "        vertical-align: middle;\n",
       "    }\n",
       "\n",
       "    .dataframe tbody tr th {\n",
       "        vertical-align: top;\n",
       "    }\n",
       "\n",
       "    .dataframe thead th {\n",
       "        text-align: right;\n",
       "    }\n",
       "</style>\n",
       "<table border=\"1\" class=\"dataframe\">\n",
       "  <thead>\n",
       "    <tr style=\"text-align: right;\">\n",
       "      <th></th>\n",
       "      <th>title</th>\n",
       "      <th>link</th>\n",
       "      <th>release_date</th>\n",
       "      <th>been_sale</th>\n",
       "      <th>orig_price</th>\n",
       "      <th>num_reviews</th>\n",
       "      <th>review_rating</th>\n",
       "      <th>num_languages</th>\n",
       "      <th>tags</th>\n",
       "      <th>num_tags</th>\n",
       "      <th>...</th>\n",
       "      <th>Electronic Arts</th>\n",
       "      <th>Paradox Interactive</th>\n",
       "      <th>SEGA</th>\n",
       "      <th>Sokpop Collective</th>\n",
       "      <th>Square Enix</th>\n",
       "      <th>THQ Nordic</th>\n",
       "      <th>Ubisoft</th>\n",
       "      <th>Winged Cloud</th>\n",
       "      <th>other</th>\n",
       "      <th>tinyBuild</th>\n",
       "    </tr>\n",
       "  </thead>\n",
       "  <tbody>\n",
       "    <tr>\n",
       "      <th>784</th>\n",
       "      <td>Don't Starve</td>\n",
       "      <td>https://store.steampowered.com/app/219740/Dont...</td>\n",
       "      <td>Apr 23, 2013</td>\n",
       "      <td>0</td>\n",
       "      <td>9.99</td>\n",
       "      <td>87348</td>\n",
       "      <td>Overwhelmingly Positive</td>\n",
       "      <td>NaN</td>\n",
       "      <td>['Survival', 'Open World Survival Craft', 'Cra...</td>\n",
       "      <td>20.0</td>\n",
       "      <td>...</td>\n",
       "      <td>0</td>\n",
       "      <td>0</td>\n",
       "      <td>0</td>\n",
       "      <td>0</td>\n",
       "      <td>0</td>\n",
       "      <td>0</td>\n",
       "      <td>0</td>\n",
       "      <td>0</td>\n",
       "      <td>1</td>\n",
       "      <td>0</td>\n",
       "    </tr>\n",
       "  </tbody>\n",
       "</table>\n",
       "<p>1 rows × 92 columns</p>\n",
       "</div>"
      ],
      "text/plain": [
       "            title                                               link  \\\n",
       "784  Don't Starve  https://store.steampowered.com/app/219740/Dont...   \n",
       "\n",
       "     release_date  been_sale  orig_price  num_reviews  \\\n",
       "784  Apr 23, 2013          0        9.99        87348   \n",
       "\n",
       "               review_rating  num_languages  \\\n",
       "784  Overwhelmingly Positive            NaN   \n",
       "\n",
       "                                                  tags  num_tags  ...  \\\n",
       "784  ['Survival', 'Open World Survival Craft', 'Cra...      20.0  ...   \n",
       "\n",
       "    Electronic Arts  Paradox Interactive SEGA  Sokpop Collective  Square Enix  \\\n",
       "784               0                    0    0                  0            0   \n",
       "\n",
       "    THQ Nordic  Ubisoft  Winged Cloud  other  tinyBuild  \n",
       "784          0        0             0      1          0  \n",
       "\n",
       "[1 rows x 92 columns]"
      ]
     },
     "execution_count": 178,
     "metadata": {},
     "output_type": "execute_result"
    }
   ],
   "source": [
    "reviewsdf.loc[reviewsdf.title == \"Don't Starve\"]"
   ]
  },
  {
   "cell_type": "code",
   "execution_count": 27,
   "metadata": {},
   "outputs": [],
   "source": [
    "reviewsdf.release_date = pd.to_datetime(reviewsdf.release_date)"
   ]
  },
  {
   "cell_type": "code",
   "execution_count": 28,
   "metadata": {},
   "outputs": [],
   "source": [
    "reviewsdf['year_released'] = reviewsdf.release_date.dt.year"
   ]
  },
  {
   "cell_type": "code",
   "execution_count": 29,
   "metadata": {},
   "outputs": [
    {
     "data": {
      "text/html": [
       "<div>\n",
       "<style scoped>\n",
       "    .dataframe tbody tr th:only-of-type {\n",
       "        vertical-align: middle;\n",
       "    }\n",
       "\n",
       "    .dataframe tbody tr th {\n",
       "        vertical-align: top;\n",
       "    }\n",
       "\n",
       "    .dataframe thead th {\n",
       "        text-align: right;\n",
       "    }\n",
       "</style>\n",
       "<table border=\"1\" class=\"dataframe\">\n",
       "  <thead>\n",
       "    <tr style=\"text-align: right;\">\n",
       "      <th></th>\n",
       "      <th>title</th>\n",
       "      <th>link</th>\n",
       "      <th>release_date</th>\n",
       "      <th>been_sale</th>\n",
       "      <th>orig_price</th>\n",
       "      <th>num_reviews</th>\n",
       "      <th>review_rating</th>\n",
       "      <th>num_languages</th>\n",
       "      <th>tags</th>\n",
       "      <th>num_tags</th>\n",
       "      <th>genres</th>\n",
       "      <th>num_genres</th>\n",
       "      <th>publisher</th>\n",
       "      <th>year_released</th>\n",
       "    </tr>\n",
       "  </thead>\n",
       "  <tbody>\n",
       "    <tr>\n",
       "      <th>1</th>\n",
       "      <td>OUTRIDERS</td>\n",
       "      <td>https://store.steampowered.com/app/680420/OUTR...</td>\n",
       "      <td>2021-04-01</td>\n",
       "      <td>0</td>\n",
       "      <td>$59.99</td>\n",
       "      <td>36,837</td>\n",
       "      <td>Mixed</td>\n",
       "      <td>13.0</td>\n",
       "      <td>['RPG', 'Action', 'Adventure', 'Co-op', 'Third...</td>\n",
       "      <td>20.0</td>\n",
       "      <td>['Action', 'Adventure', 'RPG']</td>\n",
       "      <td>3.0</td>\n",
       "      <td>Square Enix</td>\n",
       "      <td>2021</td>\n",
       "    </tr>\n",
       "    <tr>\n",
       "      <th>2</th>\n",
       "      <td>It Takes Two</td>\n",
       "      <td>https://store.steampowered.com/app/1426210/It_...</td>\n",
       "      <td>2021-03-26</td>\n",
       "      <td>0</td>\n",
       "      <td>$39.99</td>\n",
       "      <td>15,688</td>\n",
       "      <td>Overwhelmingly Positive</td>\n",
       "      <td>12.0</td>\n",
       "      <td>['Co-op', 'Adventure', 'Puzzle', '3D Platforme...</td>\n",
       "      <td>20.0</td>\n",
       "      <td>['Action', 'Adventure', 'Hazelight']</td>\n",
       "      <td>3.0</td>\n",
       "      <td>Electronic Arts</td>\n",
       "      <td>2021</td>\n",
       "    </tr>\n",
       "  </tbody>\n",
       "</table>\n",
       "</div>"
      ],
      "text/plain": [
       "          title                                               link  \\\n",
       "1     OUTRIDERS  https://store.steampowered.com/app/680420/OUTR...   \n",
       "2  It Takes Two  https://store.steampowered.com/app/1426210/It_...   \n",
       "\n",
       "  release_date  been_sale orig_price num_reviews            review_rating  \\\n",
       "1   2021-04-01          0     $59.99      36,837                    Mixed   \n",
       "2   2021-03-26          0     $39.99      15,688  Overwhelmingly Positive   \n",
       "\n",
       "   num_languages                                               tags  num_tags  \\\n",
       "1           13.0  ['RPG', 'Action', 'Adventure', 'Co-op', 'Third...      20.0   \n",
       "2           12.0  ['Co-op', 'Adventure', 'Puzzle', '3D Platforme...      20.0   \n",
       "\n",
       "                                 genres  num_genres        publisher  \\\n",
       "1        ['Action', 'Adventure', 'RPG']         3.0      Square Enix   \n",
       "2  ['Action', 'Adventure', 'Hazelight']         3.0  Electronic Arts   \n",
       "\n",
       "   year_released  \n",
       "1           2021  \n",
       "2           2021  "
      ]
     },
     "execution_count": 29,
     "metadata": {},
     "output_type": "execute_result"
    }
   ],
   "source": [
    "reviewsdf.head(2)"
   ]
  },
  {
   "cell_type": "markdown",
   "metadata": {},
   "source": [
    "# Price\n",
    "\n",
    "removing the dollar sign and setting type as float"
   ]
  },
  {
   "cell_type": "code",
   "execution_count": 65,
   "metadata": {},
   "outputs": [],
   "source": [
    "reviewsdf.orig_price = reviewsdf.orig_price.str.replace('$','')"
   ]
  },
  {
   "cell_type": "code",
   "execution_count": 81,
   "metadata": {},
   "outputs": [],
   "source": [
    "# there was one game that was 'Free', replaced with 0 to make the column a float\n",
    "reviewsdf.loc[reviewsdf.orig_price == 'Free',['orig_price']] = 0"
   ]
  },
  {
   "cell_type": "code",
   "execution_count": 82,
   "metadata": {},
   "outputs": [],
   "source": [
    "reviewsdf.orig_price = reviewsdf.orig_price.astype(float)\n"
   ]
  },
  {
   "cell_type": "code",
   "execution_count": 83,
   "metadata": {},
   "outputs": [
    {
     "name": "stdout",
     "output_type": "stream",
     "text": [
      "<class 'pandas.core.frame.DataFrame'>\n",
      "Int64Index: 5793 entries, 1 to 15108\n",
      "Data columns (total 16 columns):\n",
      " #   Column            Non-Null Count  Dtype         \n",
      "---  ------            --------------  -----         \n",
      " 0   title             5793 non-null   object        \n",
      " 1   link              5793 non-null   object        \n",
      " 2   release_date      5793 non-null   datetime64[ns]\n",
      " 3   been_sale         5793 non-null   int64         \n",
      " 4   orig_price        5793 non-null   float64       \n",
      " 5   num_reviews       5793 non-null   int64         \n",
      " 6   review_rating     5793 non-null   object        \n",
      " 7   num_languages     2193 non-null   float64       \n",
      " 8   tags              5793 non-null   object        \n",
      " 9   num_tags          5793 non-null   float64       \n",
      " 10  genres            5793 non-null   object        \n",
      " 11  num_genres        5793 non-null   float64       \n",
      " 12  publisher         5792 non-null   object        \n",
      " 13  year_released     5793 non-null   int64         \n",
      " 14  languages_filled  5793 non-null   float64       \n",
      " 15  top_pubs          5793 non-null   object        \n",
      "dtypes: datetime64[ns](1), float64(5), int64(3), object(7)\n",
      "memory usage: 769.4+ KB\n"
     ]
    }
   ],
   "source": [
    "reviewsdf.info()"
   ]
  },
  {
   "cell_type": "markdown",
   "metadata": {},
   "source": [
    "# Languages\n",
    "\n",
    "There are a large number of games without number of languages offered in. Going to create a separate column with the nulls filled in as average value. Can try modeling with and without this feature."
   ]
  },
  {
   "cell_type": "code",
   "execution_count": 30,
   "metadata": {},
   "outputs": [
    {
     "data": {
      "text/plain": [
       "11.225262197902417"
      ]
     },
     "execution_count": 30,
     "metadata": {},
     "output_type": "execute_result"
    }
   ],
   "source": [
    "reviewsdf.num_languages.mean()"
   ]
  },
  {
   "cell_type": "code",
   "execution_count": 37,
   "metadata": {},
   "outputs": [],
   "source": [
    "reviewsdf['languages_filled'] = reviewsdf.num_languages.fillna(reviewsdf.num_languages.mean())"
   ]
  },
  {
   "cell_type": "code",
   "execution_count": 39,
   "metadata": {},
   "outputs": [
    {
     "name": "stdout",
     "output_type": "stream",
     "text": [
      "<class 'pandas.core.frame.DataFrame'>\n",
      "Int64Index: 5793 entries, 1 to 15108\n",
      "Data columns (total 15 columns):\n",
      " #   Column            Non-Null Count  Dtype         \n",
      "---  ------            --------------  -----         \n",
      " 0   title             5793 non-null   object        \n",
      " 1   link              5793 non-null   object        \n",
      " 2   release_date      5793 non-null   datetime64[ns]\n",
      " 3   been_sale         5793 non-null   int64         \n",
      " 4   orig_price        5793 non-null   object        \n",
      " 5   num_reviews       5793 non-null   object        \n",
      " 6   review_rating     5793 non-null   object        \n",
      " 7   num_languages     2193 non-null   float64       \n",
      " 8   tags              5793 non-null   object        \n",
      " 9   num_tags          5793 non-null   float64       \n",
      " 10  genres            5793 non-null   object        \n",
      " 11  num_genres        5793 non-null   float64       \n",
      " 12  publisher         5792 non-null   object        \n",
      " 13  year_released     5793 non-null   int64         \n",
      " 14  languages_filled  5793 non-null   float64       \n",
      "dtypes: datetime64[ns](1), float64(4), int64(2), object(8)\n",
      "memory usage: 724.1+ KB\n"
     ]
    }
   ],
   "source": [
    "reviewsdf.info()"
   ]
  },
  {
   "cell_type": "markdown",
   "metadata": {},
   "source": [
    "# Publisher\n",
    "\n",
    "extracting top 15 publishers, grouping the rest into 'other'"
   ]
  },
  {
   "cell_type": "code",
   "execution_count": 42,
   "metadata": {},
   "outputs": [],
   "source": [
    "top_pub_list = list(reviewsdf.publisher.value_counts().head(15).keys())"
   ]
  },
  {
   "cell_type": "code",
   "execution_count": 43,
   "metadata": {},
   "outputs": [
    {
     "data": {
      "text/plain": [
       "['SEGA',\n",
       " 'Electronic Arts',\n",
       " 'Ubisoft',\n",
       " 'Square Enix',\n",
       " 'BANDAI NAMCO Entertainment',\n",
       " 'Disney',\n",
       " 'Sokpop Collective',\n",
       " 'THQ Nordic',\n",
       " 'Devolver Digital',\n",
       " 'Paradox Interactive',\n",
       " 'tinyBuild',\n",
       " 'Activision',\n",
       " 'Winged Cloud',\n",
       " '2K',\n",
       " 'Capcom']"
      ]
     },
     "execution_count": 43,
     "metadata": {},
     "output_type": "execute_result"
    }
   ],
   "source": [
    "top_pub_list"
   ]
  },
  {
   "cell_type": "code",
   "execution_count": 44,
   "metadata": {},
   "outputs": [],
   "source": [
    "def big_publisher(string):\n",
    "    if string in (top_pub_list):\n",
    "        return string\n",
    "    else:\n",
    "        return 'other'\n",
    "    "
   ]
  },
  {
   "cell_type": "code",
   "execution_count": 45,
   "metadata": {},
   "outputs": [],
   "source": [
    "reviewsdf['top_pubs'] = reviewsdf.publisher.apply(big_publisher)"
   ]
  },
  {
   "cell_type": "code",
   "execution_count": 170,
   "metadata": {},
   "outputs": [],
   "source": [
    "# creating dummies from top pubs column\n",
    "\n",
    "pub_dummies = pd.get_dummies(reviewsdf.top_pubs, drop_first=True)\n"
   ]
  },
  {
   "cell_type": "code",
   "execution_count": 176,
   "metadata": {},
   "outputs": [],
   "source": [
    "# merging back into reviewsdf\n",
    "\n",
    "reviewsdf = pd.merge(reviewsdf, pub_dummies, left_index=True, right_index=True)"
   ]
  },
  {
   "cell_type": "markdown",
   "metadata": {},
   "source": [
    "# Review Rating\n",
    "\n",
    "Creating numerical values for the ratings."
   ]
  },
  {
   "cell_type": "code",
   "execution_count": 85,
   "metadata": {},
   "outputs": [
    {
     "data": {
      "text/plain": [
       "Very Positive              2703\n",
       "Mostly Positive             941\n",
       "Mixed                       711\n",
       "Overwhelmingly Positive     444\n",
       "Positive                    432\n",
       "3 user reviews               67\n",
       "2 user reviews               64\n",
       "4 user reviews               58\n",
       "Mostly Negative              57\n",
       "1 user reviews               55\n",
       "5 user reviews               55\n",
       "6 user reviews               51\n",
       "8 user reviews               42\n",
       "7 user reviews               38\n",
       "9 user reviews               37\n",
       "No user reviews              21\n",
       "Negative                     12\n",
       "Very Negative                 4\n",
       "Overwhelmingly Negative       1\n",
       "Name: review_rating, dtype: int64"
      ]
     },
     "execution_count": 85,
     "metadata": {},
     "output_type": "execute_result"
    }
   ],
   "source": [
    "reviewsdf.review_rating.value_counts()"
   ]
  },
  {
   "cell_type": "code",
   "execution_count": 86,
   "metadata": {},
   "outputs": [],
   "source": [
    "def rating_converter (rating):\n",
    "    if rating == 'Overwhelmingly Positive':\n",
    "        return 10\n",
    "    elif rating =='Very Positive':\n",
    "        return 9\n",
    "    elif rating == 'Positive':\n",
    "        return 8\n",
    "    elif rating == 'Mostly Positive':\n",
    "        return 7\n",
    "    elif rating == 'Mixed':\n",
    "        return 6\n",
    "    elif rating == 'Mostly Negative':\n",
    "        return 5\n",
    "    elif rating == 'Negative':\n",
    "        return 4\n",
    "    elif rating == 'Very Negative':\n",
    "        return 3\n",
    "    elif rating == 'Overwhelmingly negative':\n",
    "        return 2\n",
    "    else:\n",
    "        return 1\n",
    "\n"
   ]
  },
  {
   "cell_type": "code",
   "execution_count": 87,
   "metadata": {},
   "outputs": [],
   "source": [
    "reviewsdf['rating_val'] = reviewsdf.review_rating.apply(rating_converter)"
   ]
  },
  {
   "cell_type": "code",
   "execution_count": 88,
   "metadata": {},
   "outputs": [
    {
     "data": {
      "text/html": [
       "<div>\n",
       "<style scoped>\n",
       "    .dataframe tbody tr th:only-of-type {\n",
       "        vertical-align: middle;\n",
       "    }\n",
       "\n",
       "    .dataframe tbody tr th {\n",
       "        vertical-align: top;\n",
       "    }\n",
       "\n",
       "    .dataframe thead th {\n",
       "        text-align: right;\n",
       "    }\n",
       "</style>\n",
       "<table border=\"1\" class=\"dataframe\">\n",
       "  <thead>\n",
       "    <tr style=\"text-align: right;\">\n",
       "      <th></th>\n",
       "      <th>title</th>\n",
       "      <th>link</th>\n",
       "      <th>release_date</th>\n",
       "      <th>been_sale</th>\n",
       "      <th>orig_price</th>\n",
       "      <th>num_reviews</th>\n",
       "      <th>review_rating</th>\n",
       "      <th>num_languages</th>\n",
       "      <th>tags</th>\n",
       "      <th>num_tags</th>\n",
       "      <th>genres</th>\n",
       "      <th>num_genres</th>\n",
       "      <th>publisher</th>\n",
       "      <th>year_released</th>\n",
       "      <th>languages_filled</th>\n",
       "      <th>top_pubs</th>\n",
       "      <th>rating_val</th>\n",
       "    </tr>\n",
       "  </thead>\n",
       "  <tbody>\n",
       "    <tr>\n",
       "      <th>1</th>\n",
       "      <td>OUTRIDERS</td>\n",
       "      <td>https://store.steampowered.com/app/680420/OUTR...</td>\n",
       "      <td>2021-04-01</td>\n",
       "      <td>0</td>\n",
       "      <td>59.99</td>\n",
       "      <td>36837</td>\n",
       "      <td>Mixed</td>\n",
       "      <td>13.0</td>\n",
       "      <td>['RPG', 'Action', 'Adventure', 'Co-op', 'Third...</td>\n",
       "      <td>20.0</td>\n",
       "      <td>['Action', 'Adventure', 'RPG']</td>\n",
       "      <td>3.0</td>\n",
       "      <td>Square Enix</td>\n",
       "      <td>2021</td>\n",
       "      <td>13.0</td>\n",
       "      <td>Square Enix</td>\n",
       "      <td>6</td>\n",
       "    </tr>\n",
       "    <tr>\n",
       "      <th>2</th>\n",
       "      <td>It Takes Two</td>\n",
       "      <td>https://store.steampowered.com/app/1426210/It_...</td>\n",
       "      <td>2021-03-26</td>\n",
       "      <td>0</td>\n",
       "      <td>39.99</td>\n",
       "      <td>15688</td>\n",
       "      <td>Overwhelmingly Positive</td>\n",
       "      <td>12.0</td>\n",
       "      <td>['Co-op', 'Adventure', 'Puzzle', '3D Platforme...</td>\n",
       "      <td>20.0</td>\n",
       "      <td>['Action', 'Adventure', 'Hazelight']</td>\n",
       "      <td>3.0</td>\n",
       "      <td>Electronic Arts</td>\n",
       "      <td>2021</td>\n",
       "      <td>12.0</td>\n",
       "      <td>Electronic Arts</td>\n",
       "      <td>10</td>\n",
       "    </tr>\n",
       "  </tbody>\n",
       "</table>\n",
       "</div>"
      ],
      "text/plain": [
       "          title                                               link  \\\n",
       "1     OUTRIDERS  https://store.steampowered.com/app/680420/OUTR...   \n",
       "2  It Takes Two  https://store.steampowered.com/app/1426210/It_...   \n",
       "\n",
       "  release_date  been_sale  orig_price  num_reviews            review_rating  \\\n",
       "1   2021-04-01          0       59.99        36837                    Mixed   \n",
       "2   2021-03-26          0       39.99        15688  Overwhelmingly Positive   \n",
       "\n",
       "   num_languages                                               tags  num_tags  \\\n",
       "1           13.0  ['RPG', 'Action', 'Adventure', 'Co-op', 'Third...      20.0   \n",
       "2           12.0  ['Co-op', 'Adventure', 'Puzzle', '3D Platforme...      20.0   \n",
       "\n",
       "                                 genres  num_genres        publisher  \\\n",
       "1        ['Action', 'Adventure', 'RPG']         3.0      Square Enix   \n",
       "2  ['Action', 'Adventure', 'Hazelight']         3.0  Electronic Arts   \n",
       "\n",
       "   year_released  languages_filled         top_pubs  rating_val  \n",
       "1           2021              13.0      Square Enix           6  \n",
       "2           2021              12.0  Electronic Arts          10  "
      ]
     },
     "execution_count": 88,
     "metadata": {},
     "output_type": "execute_result"
    }
   ],
   "source": [
    "reviewsdf.head(2)"
   ]
  },
  {
   "cell_type": "markdown",
   "metadata": {},
   "source": [
    "# Tags\n",
    "\n",
    "The tags are stored as a list for each row. Extracting them into one major list, then getting value counts, and manually creating dummy variables for the top 30 publishers"
   ]
  },
  {
   "cell_type": "code",
   "execution_count": 149,
   "metadata": {},
   "outputs": [],
   "source": [
    "# there were extra characters when trying a normal split, using regex expression to only capture the actual \n",
    "#tags\n",
    "\n",
    "regex = re.compile('[^1-9a-zA-Z]')\n",
    "prelim_list = []\n",
    "\n",
    "def megalist(list):\n",
    "    \n",
    "    for items in (list.split()):\n",
    "        prelim_list.append(regex.sub('',items)) \n",
    "    \n"
   ]
  },
  {
   "cell_type": "code",
   "execution_count": 150,
   "metadata": {},
   "outputs": [
    {
     "data": {
      "text/plain": [
       "1        None\n",
       "2        None\n",
       "3        None\n",
       "4        None\n",
       "5        None\n",
       "         ... \n",
       "15103    None\n",
       "15104    None\n",
       "15105    None\n",
       "15107    None\n",
       "15108    None\n",
       "Name: tags, Length: 5793, dtype: object"
      ]
     },
     "execution_count": 150,
     "metadata": {},
     "output_type": "execute_result"
    }
   ],
   "source": [
    "reviewsdf.tags.apply(megalist)"
   ]
  },
  {
   "cell_type": "code",
   "execution_count": 158,
   "metadata": {},
   "outputs": [
    {
     "data": {
      "text/plain": [
       "[('Singleplayer', 3608),\n",
       " ('Indie', 3308),\n",
       " ('Action', 3231),\n",
       " ('Adventure', 2886),\n",
       " ('Casual', 2066),\n",
       " ('Strategy', 2010),\n",
       " ('Multiplayer', 1996),\n",
       " ('RPG', 1887),\n",
       " ('Simulation', 1711),\n",
       " ('Atmospheric', 1605),\n",
       " ('Horror', 1536),\n",
       " ('2D', 1534),\n",
       " ('Soundtrack', 1392),\n",
       " ('Great', 1317),\n",
       " ('Story', 1276),\n",
       " ('Rich', 1276),\n",
       " ('World', 1193),\n",
       " ('Shooter', 1179),\n",
       " ('Puzzle', 1153),\n",
       " ('TurnBased', 1054),\n",
       " ('Open', 1050),\n",
       " ('FirstPerson', 1022),\n",
       " ('Survival', 1017),\n",
       " ('Fantasy', 936),\n",
       " ('Funny', 920),\n",
       " ('Coop', 895),\n",
       " ('Platformer', 893),\n",
       " ('Early', 868),\n",
       " ('Access', 868),\n",
       " ('Sim', 830)]"
      ]
     },
     "execution_count": 158,
     "metadata": {},
     "output_type": "execute_result"
    }
   ],
   "source": [
    "Counter(prelim_list).most_common()[:30]"
   ]
  },
  {
   "cell_type": "code",
   "execution_count": 138,
   "metadata": {},
   "outputs": [],
   "source": [
    "# takes the 30 most used tags\n",
    "tags_count = Counter(prelim_list).most_common()[:30]\n",
    "\n",
    "top_tags = []\n",
    "\n",
    "for tags in tags_count:\n",
    "    top_tags.append(tags[0])"
   ]
  },
  {
   "cell_type": "code",
   "execution_count": 97,
   "metadata": {},
   "outputs": [],
   "source": [
    "#creating the columns\n",
    "\n",
    "for tags in top_tags:\n",
    "    reviewsdf[tags+'_tag'] = 0"
   ]
  },
  {
   "cell_type": "code",
   "execution_count": 98,
   "metadata": {},
   "outputs": [],
   "source": [
    "# filling in the values for the new columns\n",
    "\n",
    "for items in top_tags:\n",
    "    reviewsdf.loc[reviewsdf.tags.str.contains(items),[items+'_tag']] = 1"
   ]
  },
  {
   "cell_type": "code",
   "execution_count": 99,
   "metadata": {},
   "outputs": [
    {
     "data": {
      "text/html": [
       "<div>\n",
       "<style scoped>\n",
       "    .dataframe tbody tr th:only-of-type {\n",
       "        vertical-align: middle;\n",
       "    }\n",
       "\n",
       "    .dataframe tbody tr th {\n",
       "        vertical-align: top;\n",
       "    }\n",
       "\n",
       "    .dataframe thead th {\n",
       "        text-align: right;\n",
       "    }\n",
       "</style>\n",
       "<table border=\"1\" class=\"dataframe\">\n",
       "  <thead>\n",
       "    <tr style=\"text-align: right;\">\n",
       "      <th></th>\n",
       "      <th>title</th>\n",
       "      <th>link</th>\n",
       "      <th>release_date</th>\n",
       "      <th>been_sale</th>\n",
       "      <th>orig_price</th>\n",
       "      <th>num_reviews</th>\n",
       "      <th>review_rating</th>\n",
       "      <th>num_languages</th>\n",
       "      <th>tags</th>\n",
       "      <th>num_tags</th>\n",
       "      <th>...</th>\n",
       "      <th>Open_tag</th>\n",
       "      <th>FirstPerson_tag</th>\n",
       "      <th>Survival_tag</th>\n",
       "      <th>Fantasy_tag</th>\n",
       "      <th>Funny_tag</th>\n",
       "      <th>Coop_tag</th>\n",
       "      <th>Platformer_tag</th>\n",
       "      <th>Early_tag</th>\n",
       "      <th>Access_tag</th>\n",
       "      <th>Sim_tag</th>\n",
       "    </tr>\n",
       "  </thead>\n",
       "  <tbody>\n",
       "    <tr>\n",
       "      <th>1</th>\n",
       "      <td>OUTRIDERS</td>\n",
       "      <td>https://store.steampowered.com/app/680420/OUTR...</td>\n",
       "      <td>2021-04-01</td>\n",
       "      <td>0</td>\n",
       "      <td>59.99</td>\n",
       "      <td>36837</td>\n",
       "      <td>Mixed</td>\n",
       "      <td>13.0</td>\n",
       "      <td>['RPG', 'Action', 'Adventure', 'Co-op', 'Third...</td>\n",
       "      <td>20.0</td>\n",
       "      <td>...</td>\n",
       "      <td>1</td>\n",
       "      <td>0</td>\n",
       "      <td>0</td>\n",
       "      <td>0</td>\n",
       "      <td>0</td>\n",
       "      <td>0</td>\n",
       "      <td>0</td>\n",
       "      <td>0</td>\n",
       "      <td>0</td>\n",
       "      <td>0</td>\n",
       "    </tr>\n",
       "    <tr>\n",
       "      <th>2</th>\n",
       "      <td>It Takes Two</td>\n",
       "      <td>https://store.steampowered.com/app/1426210/It_...</td>\n",
       "      <td>2021-03-26</td>\n",
       "      <td>0</td>\n",
       "      <td>39.99</td>\n",
       "      <td>15688</td>\n",
       "      <td>Overwhelmingly Positive</td>\n",
       "      <td>12.0</td>\n",
       "      <td>['Co-op', 'Adventure', 'Puzzle', '3D Platforme...</td>\n",
       "      <td>20.0</td>\n",
       "      <td>...</td>\n",
       "      <td>0</td>\n",
       "      <td>0</td>\n",
       "      <td>0</td>\n",
       "      <td>0</td>\n",
       "      <td>0</td>\n",
       "      <td>0</td>\n",
       "      <td>1</td>\n",
       "      <td>0</td>\n",
       "      <td>0</td>\n",
       "      <td>0</td>\n",
       "    </tr>\n",
       "    <tr>\n",
       "      <th>3</th>\n",
       "      <td>Valheim</td>\n",
       "      <td>https://store.steampowered.com/app/892970/Valh...</td>\n",
       "      <td>2021-02-02</td>\n",
       "      <td>0</td>\n",
       "      <td>19.99</td>\n",
       "      <td>222855</td>\n",
       "      <td>Overwhelmingly Positive</td>\n",
       "      <td>12.0</td>\n",
       "      <td>['Open World Survival Craft', 'Online Co-Op', ...</td>\n",
       "      <td>20.0</td>\n",
       "      <td>...</td>\n",
       "      <td>1</td>\n",
       "      <td>0</td>\n",
       "      <td>1</td>\n",
       "      <td>0</td>\n",
       "      <td>0</td>\n",
       "      <td>0</td>\n",
       "      <td>0</td>\n",
       "      <td>1</td>\n",
       "      <td>1</td>\n",
       "      <td>0</td>\n",
       "    </tr>\n",
       "  </tbody>\n",
       "</table>\n",
       "<p>3 rows × 47 columns</p>\n",
       "</div>"
      ],
      "text/plain": [
       "          title                                               link  \\\n",
       "1     OUTRIDERS  https://store.steampowered.com/app/680420/OUTR...   \n",
       "2  It Takes Two  https://store.steampowered.com/app/1426210/It_...   \n",
       "3       Valheim  https://store.steampowered.com/app/892970/Valh...   \n",
       "\n",
       "  release_date  been_sale  orig_price  num_reviews            review_rating  \\\n",
       "1   2021-04-01          0       59.99        36837                    Mixed   \n",
       "2   2021-03-26          0       39.99        15688  Overwhelmingly Positive   \n",
       "3   2021-02-02          0       19.99       222855  Overwhelmingly Positive   \n",
       "\n",
       "   num_languages                                               tags  num_tags  \\\n",
       "1           13.0  ['RPG', 'Action', 'Adventure', 'Co-op', 'Third...      20.0   \n",
       "2           12.0  ['Co-op', 'Adventure', 'Puzzle', '3D Platforme...      20.0   \n",
       "3           12.0  ['Open World Survival Craft', 'Online Co-Op', ...      20.0   \n",
       "\n",
       "   ... Open_tag  FirstPerson_tag Survival_tag  Fantasy_tag  Funny_tag  \\\n",
       "1  ...        1                0            0            0          0   \n",
       "2  ...        0                0            0            0          0   \n",
       "3  ...        1                0            1            0          0   \n",
       "\n",
       "  Coop_tag  Platformer_tag  Early_tag  Access_tag  Sim_tag  \n",
       "1        0               0          0           0        0  \n",
       "2        0               1          0           0        0  \n",
       "3        0               0          1           1        0  \n",
       "\n",
       "[3 rows x 47 columns]"
      ]
     },
     "execution_count": 99,
     "metadata": {},
     "output_type": "execute_result"
    }
   ],
   "source": [
    "reviewsdf.head(3)"
   ]
  },
  {
   "cell_type": "markdown",
   "metadata": {},
   "source": [
    "# Genre\n",
    "\n",
    "Same as tags"
   ]
  },
  {
   "cell_type": "code",
   "execution_count": 159,
   "metadata": {},
   "outputs": [
    {
     "data": {
      "text/plain": [
       "1        None\n",
       "2        None\n",
       "3        None\n",
       "4        None\n",
       "5        None\n",
       "         ... \n",
       "15103    None\n",
       "15104    None\n",
       "15105    None\n",
       "15107    None\n",
       "15108    None\n",
       "Name: genres, Length: 5793, dtype: object"
      ]
     },
     "execution_count": 159,
     "metadata": {},
     "output_type": "execute_result"
    }
   ],
   "source": [
    "prelim_list = []\n",
    "\n",
    "reviewsdf.genres.apply(megalist)\n"
   ]
  },
  {
   "cell_type": "code",
   "execution_count": 160,
   "metadata": {},
   "outputs": [
    {
     "data": {
      "text/plain": [
       "[('Indie', 3233),\n",
       " ('Action', 2226),\n",
       " ('Adventure', 2131),\n",
       " ('Casual', 1524),\n",
       " ('Simulation', 1342),\n",
       " ('Strategy', 1233),\n",
       " ('RPG', 1131),\n",
       " ('', 567),\n",
       " ('Early', 535),\n",
       " ('Access', 535),\n",
       " ('Games', 503),\n",
       " ('Sports', 241),\n",
       " ('Racing', 208),\n",
       " ('Studios', 165),\n",
       " ('Entertainment', 129),\n",
       " ('Massively', 113),\n",
       " ('Multiplayer', 113),\n",
       " ('Studio', 113),\n",
       " ('Interactive', 113),\n",
       " ('Inc', 94),\n",
       " ('Software', 82),\n",
       " ('Game', 57),\n",
       " ('Utilities', 57),\n",
       " ('Feral', 57),\n",
       " ('Ltd', 53),\n",
       " ('Mac', 49),\n",
       " ('Design', 49),\n",
       " ('Illustration', 45),\n",
       " ('Sokpop', 43),\n",
       " ('Collective', 43)]"
      ]
     },
     "execution_count": 160,
     "metadata": {},
     "output_type": "execute_result"
    }
   ],
   "source": [
    "Counter(prelim_list).most_common()[:30]"
   ]
  },
  {
   "cell_type": "code",
   "execution_count": 163,
   "metadata": {},
   "outputs": [],
   "source": [
    "genres_count = Counter(prelim_list).most_common()[:30]\n",
    "\n",
    "top_genres = []\n",
    "\n",
    "for genres in genres_count:\n",
    "    top_genres.append(genres[0])"
   ]
  },
  {
   "cell_type": "code",
   "execution_count": 166,
   "metadata": {},
   "outputs": [],
   "source": [
    "# Creating the columns\n",
    "\n",
    "for genres in top_genres:\n",
    "    reviewsdf[genres+'_genre'] = 0"
   ]
  },
  {
   "cell_type": "code",
   "execution_count": 167,
   "metadata": {},
   "outputs": [],
   "source": [
    "# Filling them in\n",
    "\n",
    "for items in top_genres:\n",
    "    reviewsdf.loc[reviewsdf.genres.str.contains(items),[items+'_genre']] = 1"
   ]
  },
  {
   "cell_type": "code",
   "execution_count": 168,
   "metadata": {},
   "outputs": [
    {
     "data": {
      "text/html": [
       "<div>\n",
       "<style scoped>\n",
       "    .dataframe tbody tr th:only-of-type {\n",
       "        vertical-align: middle;\n",
       "    }\n",
       "\n",
       "    .dataframe tbody tr th {\n",
       "        vertical-align: top;\n",
       "    }\n",
       "\n",
       "    .dataframe thead th {\n",
       "        text-align: right;\n",
       "    }\n",
       "</style>\n",
       "<table border=\"1\" class=\"dataframe\">\n",
       "  <thead>\n",
       "    <tr style=\"text-align: right;\">\n",
       "      <th></th>\n",
       "      <th>title</th>\n",
       "      <th>link</th>\n",
       "      <th>release_date</th>\n",
       "      <th>been_sale</th>\n",
       "      <th>orig_price</th>\n",
       "      <th>num_reviews</th>\n",
       "      <th>review_rating</th>\n",
       "      <th>num_languages</th>\n",
       "      <th>tags</th>\n",
       "      <th>num_tags</th>\n",
       "      <th>...</th>\n",
       "      <th>Software_genre</th>\n",
       "      <th>Game_genre</th>\n",
       "      <th>Utilities_genre</th>\n",
       "      <th>Feral_genre</th>\n",
       "      <th>Ltd_genre</th>\n",
       "      <th>Mac_genre</th>\n",
       "      <th>Design_genre</th>\n",
       "      <th>Illustration_genre</th>\n",
       "      <th>Sokpop_genre</th>\n",
       "      <th>Collective_genre</th>\n",
       "    </tr>\n",
       "  </thead>\n",
       "  <tbody>\n",
       "    <tr>\n",
       "      <th>1</th>\n",
       "      <td>OUTRIDERS</td>\n",
       "      <td>https://store.steampowered.com/app/680420/OUTR...</td>\n",
       "      <td>2021-04-01</td>\n",
       "      <td>0</td>\n",
       "      <td>59.99</td>\n",
       "      <td>36837</td>\n",
       "      <td>Mixed</td>\n",
       "      <td>13.0</td>\n",
       "      <td>['RPG', 'Action', 'Adventure', 'Co-op', 'Third...</td>\n",
       "      <td>20.0</td>\n",
       "      <td>...</td>\n",
       "      <td>0</td>\n",
       "      <td>0</td>\n",
       "      <td>0</td>\n",
       "      <td>0</td>\n",
       "      <td>0</td>\n",
       "      <td>0</td>\n",
       "      <td>0</td>\n",
       "      <td>0</td>\n",
       "      <td>0</td>\n",
       "      <td>0</td>\n",
       "    </tr>\n",
       "    <tr>\n",
       "      <th>2</th>\n",
       "      <td>It Takes Two</td>\n",
       "      <td>https://store.steampowered.com/app/1426210/It_...</td>\n",
       "      <td>2021-03-26</td>\n",
       "      <td>0</td>\n",
       "      <td>39.99</td>\n",
       "      <td>15688</td>\n",
       "      <td>Overwhelmingly Positive</td>\n",
       "      <td>12.0</td>\n",
       "      <td>['Co-op', 'Adventure', 'Puzzle', '3D Platforme...</td>\n",
       "      <td>20.0</td>\n",
       "      <td>...</td>\n",
       "      <td>0</td>\n",
       "      <td>0</td>\n",
       "      <td>0</td>\n",
       "      <td>0</td>\n",
       "      <td>0</td>\n",
       "      <td>0</td>\n",
       "      <td>0</td>\n",
       "      <td>0</td>\n",
       "      <td>0</td>\n",
       "      <td>0</td>\n",
       "    </tr>\n",
       "    <tr>\n",
       "      <th>3</th>\n",
       "      <td>Valheim</td>\n",
       "      <td>https://store.steampowered.com/app/892970/Valh...</td>\n",
       "      <td>2021-02-02</td>\n",
       "      <td>0</td>\n",
       "      <td>19.99</td>\n",
       "      <td>222855</td>\n",
       "      <td>Overwhelmingly Positive</td>\n",
       "      <td>12.0</td>\n",
       "      <td>['Open World Survival Craft', 'Online Co-Op', ...</td>\n",
       "      <td>20.0</td>\n",
       "      <td>...</td>\n",
       "      <td>0</td>\n",
       "      <td>0</td>\n",
       "      <td>0</td>\n",
       "      <td>0</td>\n",
       "      <td>0</td>\n",
       "      <td>0</td>\n",
       "      <td>0</td>\n",
       "      <td>0</td>\n",
       "      <td>0</td>\n",
       "      <td>0</td>\n",
       "    </tr>\n",
       "    <tr>\n",
       "      <th>4</th>\n",
       "      <td>7 Days to Die</td>\n",
       "      <td>https://store.steampowered.com/app/251570/7_Da...</td>\n",
       "      <td>2013-12-13</td>\n",
       "      <td>1</td>\n",
       "      <td>24.99</td>\n",
       "      <td>163711</td>\n",
       "      <td>Very Positive</td>\n",
       "      <td>14.0</td>\n",
       "      <td>['Early Access', 'Survival', 'Voxel', 'Zombies...</td>\n",
       "      <td>20.0</td>\n",
       "      <td>...</td>\n",
       "      <td>0</td>\n",
       "      <td>0</td>\n",
       "      <td>0</td>\n",
       "      <td>0</td>\n",
       "      <td>0</td>\n",
       "      <td>0</td>\n",
       "      <td>0</td>\n",
       "      <td>0</td>\n",
       "      <td>0</td>\n",
       "      <td>0</td>\n",
       "    </tr>\n",
       "    <tr>\n",
       "      <th>5</th>\n",
       "      <td>Titanfall® 2</td>\n",
       "      <td>https://store.steampowered.com/app/1237970/Tit...</td>\n",
       "      <td>2020-06-18</td>\n",
       "      <td>1</td>\n",
       "      <td>29.99</td>\n",
       "      <td>57126</td>\n",
       "      <td>Overwhelmingly Positive</td>\n",
       "      <td>10.0</td>\n",
       "      <td>['FPS', 'Multiplayer', 'Action', 'Shooter', 'M...</td>\n",
       "      <td>20.0</td>\n",
       "      <td>...</td>\n",
       "      <td>0</td>\n",
       "      <td>0</td>\n",
       "      <td>0</td>\n",
       "      <td>0</td>\n",
       "      <td>0</td>\n",
       "      <td>0</td>\n",
       "      <td>0</td>\n",
       "      <td>0</td>\n",
       "      <td>0</td>\n",
       "      <td>0</td>\n",
       "    </tr>\n",
       "  </tbody>\n",
       "</table>\n",
       "<p>5 rows × 77 columns</p>\n",
       "</div>"
      ],
      "text/plain": [
       "           title                                               link  \\\n",
       "1      OUTRIDERS  https://store.steampowered.com/app/680420/OUTR...   \n",
       "2   It Takes Two  https://store.steampowered.com/app/1426210/It_...   \n",
       "3        Valheim  https://store.steampowered.com/app/892970/Valh...   \n",
       "4  7 Days to Die  https://store.steampowered.com/app/251570/7_Da...   \n",
       "5   Titanfall® 2  https://store.steampowered.com/app/1237970/Tit...   \n",
       "\n",
       "  release_date  been_sale  orig_price  num_reviews            review_rating  \\\n",
       "1   2021-04-01          0       59.99        36837                    Mixed   \n",
       "2   2021-03-26          0       39.99        15688  Overwhelmingly Positive   \n",
       "3   2021-02-02          0       19.99       222855  Overwhelmingly Positive   \n",
       "4   2013-12-13          1       24.99       163711            Very Positive   \n",
       "5   2020-06-18          1       29.99        57126  Overwhelmingly Positive   \n",
       "\n",
       "   num_languages                                               tags  num_tags  \\\n",
       "1           13.0  ['RPG', 'Action', 'Adventure', 'Co-op', 'Third...      20.0   \n",
       "2           12.0  ['Co-op', 'Adventure', 'Puzzle', '3D Platforme...      20.0   \n",
       "3           12.0  ['Open World Survival Craft', 'Online Co-Op', ...      20.0   \n",
       "4           14.0  ['Early Access', 'Survival', 'Voxel', 'Zombies...      20.0   \n",
       "5           10.0  ['FPS', 'Multiplayer', 'Action', 'Shooter', 'M...      20.0   \n",
       "\n",
       "   ... Software_genre  Game_genre Utilities_genre  Feral_genre  Ltd_genre  \\\n",
       "1  ...              0           0               0            0          0   \n",
       "2  ...              0           0               0            0          0   \n",
       "3  ...              0           0               0            0          0   \n",
       "4  ...              0           0               0            0          0   \n",
       "5  ...              0           0               0            0          0   \n",
       "\n",
       "  Mac_genre  Design_genre  Illustration_genre  Sokpop_genre  Collective_genre  \n",
       "1         0             0                   0             0                 0  \n",
       "2         0             0                   0             0                 0  \n",
       "3         0             0                   0             0                 0  \n",
       "4         0             0                   0             0                 0  \n",
       "5         0             0                   0             0                 0  \n",
       "\n",
       "[5 rows x 77 columns]"
      ]
     },
     "execution_count": 168,
     "metadata": {},
     "output_type": "execute_result"
    }
   ],
   "source": [
    "reviewsdf.head(5)"
   ]
  },
  {
   "cell_type": "code",
   "execution_count": 179,
   "metadata": {},
   "outputs": [
    {
     "data": {
      "text/plain": [
       "(5793, 92)"
      ]
     },
     "execution_count": 179,
     "metadata": {},
     "output_type": "execute_result"
    }
   ],
   "source": [
    "reviewsdf.shape"
   ]
  },
  {
   "cell_type": "code",
   "execution_count": 180,
   "metadata": {},
   "outputs": [
    {
     "data": {
      "text/plain": [
       "Index(['title', 'link', 'release_date', 'been_sale', 'orig_price',\n",
       "       'num_reviews', 'review_rating', 'num_languages', 'tags', 'num_tags',\n",
       "       'genres', 'num_genres', 'publisher', 'year_released',\n",
       "       'languages_filled', 'top_pubs', 'rating_val', 'Singleplayer_tag',\n",
       "       'Indie_tag', 'Action_tag', 'Adventure_tag', 'Casual_tag',\n",
       "       'Strategy_tag', 'Multiplayer_tag', 'RPG_tag', 'Simulation_tag',\n",
       "       'Atmospheric_tag', 'Horror_tag', '2D_tag', 'Soundtrack_tag',\n",
       "       'Great_tag', 'Story_tag', 'Rich_tag', 'World_tag', 'Shooter_tag',\n",
       "       'Puzzle_tag', 'TurnBased_tag', 'Open_tag', 'FirstPerson_tag',\n",
       "       'Survival_tag', 'Fantasy_tag', 'Funny_tag', 'Coop_tag',\n",
       "       'Platformer_tag', 'Early_tag', 'Access_tag', 'Sim_tag', 'Indie_genre',\n",
       "       'Action_genre', 'Adventure_genre', 'Casual_genre', 'Simulation_genre',\n",
       "       'Strategy_genre', 'RPG_genre', '_genre', 'Early_genre', 'Access_genre',\n",
       "       'Games_genre', 'Sports_genre', 'Racing_genre', 'Studios_genre',\n",
       "       'Entertainment_genre', 'Massively_genre', 'Multiplayer_genre',\n",
       "       'Studio_genre', 'Interactive_genre', 'Inc_genre', 'Software_genre',\n",
       "       'Game_genre', 'Utilities_genre', 'Feral_genre', 'Ltd_genre',\n",
       "       'Mac_genre', 'Design_genre', 'Illustration_genre', 'Sokpop_genre',\n",
       "       'Collective_genre', 'Activision', 'BANDAI NAMCO Entertainment',\n",
       "       'Capcom', 'Devolver Digital', 'Disney', 'Electronic Arts',\n",
       "       'Paradox Interactive', 'SEGA', 'Sokpop Collective', 'Square Enix',\n",
       "       'THQ Nordic', 'Ubisoft', 'Winged Cloud', 'other', 'tinyBuild'],\n",
       "      dtype='object')"
      ]
     },
     "execution_count": 180,
     "metadata": {},
     "output_type": "execute_result"
    }
   ],
   "source": [
    "reviewsdf.columns"
   ]
  },
  {
   "cell_type": "code",
   "execution_count": 181,
   "metadata": {},
   "outputs": [
    {
     "name": "stdout",
     "output_type": "stream",
     "text": [
      "<class 'pandas.core.frame.DataFrame'>\n",
      "Int64Index: 5793 entries, 1 to 15108\n",
      "Data columns (total 92 columns):\n",
      " #   Column                      Non-Null Count  Dtype  \n",
      "---  ------                      --------------  -----  \n",
      " 0   title                       5793 non-null   object \n",
      " 1   link                        5793 non-null   object \n",
      " 2   release_date                5793 non-null   object \n",
      " 3   been_sale                   5793 non-null   int64  \n",
      " 4   orig_price                  5793 non-null   float64\n",
      " 5   num_reviews                 5793 non-null   int64  \n",
      " 6   review_rating               5793 non-null   object \n",
      " 7   num_languages               2193 non-null   float64\n",
      " 8   tags                        5793 non-null   object \n",
      " 9   num_tags                    5793 non-null   float64\n",
      " 10  genres                      5793 non-null   object \n",
      " 11  num_genres                  5793 non-null   float64\n",
      " 12  publisher                   5792 non-null   object \n",
      " 13  year_released               5793 non-null   int64  \n",
      " 14  languages_filled            5793 non-null   float64\n",
      " 15  top_pubs                    5793 non-null   object \n",
      " 16  rating_val                  5793 non-null   int64  \n",
      " 17  Singleplayer_tag            5793 non-null   int64  \n",
      " 18  Indie_tag                   5793 non-null   int64  \n",
      " 19  Action_tag                  5793 non-null   int64  \n",
      " 20  Adventure_tag               5793 non-null   int64  \n",
      " 21  Casual_tag                  5793 non-null   int64  \n",
      " 22  Strategy_tag                5793 non-null   int64  \n",
      " 23  Multiplayer_tag             5793 non-null   int64  \n",
      " 24  RPG_tag                     5793 non-null   int64  \n",
      " 25  Simulation_tag              5793 non-null   int64  \n",
      " 26  Atmospheric_tag             5793 non-null   int64  \n",
      " 27  Horror_tag                  5793 non-null   int64  \n",
      " 28  2D_tag                      5793 non-null   int64  \n",
      " 29  Soundtrack_tag              5793 non-null   int64  \n",
      " 30  Great_tag                   5793 non-null   int64  \n",
      " 31  Story_tag                   5793 non-null   int64  \n",
      " 32  Rich_tag                    5793 non-null   int64  \n",
      " 33  World_tag                   5793 non-null   int64  \n",
      " 34  Shooter_tag                 5793 non-null   int64  \n",
      " 35  Puzzle_tag                  5793 non-null   int64  \n",
      " 36  TurnBased_tag               5793 non-null   int64  \n",
      " 37  Open_tag                    5793 non-null   int64  \n",
      " 38  FirstPerson_tag             5793 non-null   int64  \n",
      " 39  Survival_tag                5793 non-null   int64  \n",
      " 40  Fantasy_tag                 5793 non-null   int64  \n",
      " 41  Funny_tag                   5793 non-null   int64  \n",
      " 42  Coop_tag                    5793 non-null   int64  \n",
      " 43  Platformer_tag              5793 non-null   int64  \n",
      " 44  Early_tag                   5793 non-null   int64  \n",
      " 45  Access_tag                  5793 non-null   int64  \n",
      " 46  Sim_tag                     5793 non-null   int64  \n",
      " 47  Indie_genre                 5793 non-null   int64  \n",
      " 48  Action_genre                5793 non-null   int64  \n",
      " 49  Adventure_genre             5793 non-null   int64  \n",
      " 50  Casual_genre                5793 non-null   int64  \n",
      " 51  Simulation_genre            5793 non-null   int64  \n",
      " 52  Strategy_genre              5793 non-null   int64  \n",
      " 53  RPG_genre                   5793 non-null   int64  \n",
      " 54  _genre                      5793 non-null   int64  \n",
      " 55  Early_genre                 5793 non-null   int64  \n",
      " 56  Access_genre                5793 non-null   int64  \n",
      " 57  Games_genre                 5793 non-null   int64  \n",
      " 58  Sports_genre                5793 non-null   int64  \n",
      " 59  Racing_genre                5793 non-null   int64  \n",
      " 60  Studios_genre               5793 non-null   int64  \n",
      " 61  Entertainment_genre         5793 non-null   int64  \n",
      " 62  Massively_genre             5793 non-null   int64  \n",
      " 63  Multiplayer_genre           5793 non-null   int64  \n",
      " 64  Studio_genre                5793 non-null   int64  \n",
      " 65  Interactive_genre           5793 non-null   int64  \n",
      " 66  Inc_genre                   5793 non-null   int64  \n",
      " 67  Software_genre              5793 non-null   int64  \n",
      " 68  Game_genre                  5793 non-null   int64  \n",
      " 69  Utilities_genre             5793 non-null   int64  \n",
      " 70  Feral_genre                 5793 non-null   int64  \n",
      " 71  Ltd_genre                   5793 non-null   int64  \n",
      " 72  Mac_genre                   5793 non-null   int64  \n",
      " 73  Design_genre                5793 non-null   int64  \n",
      " 74  Illustration_genre          5793 non-null   int64  \n",
      " 75  Sokpop_genre                5793 non-null   int64  \n",
      " 76  Collective_genre            5793 non-null   int64  \n",
      " 77  Activision                  5793 non-null   uint8  \n",
      " 78  BANDAI NAMCO Entertainment  5793 non-null   uint8  \n",
      " 79  Capcom                      5793 non-null   uint8  \n",
      " 80  Devolver Digital            5793 non-null   uint8  \n",
      " 81  Disney                      5793 non-null   uint8  \n",
      " 82  Electronic Arts             5793 non-null   uint8  \n",
      " 83  Paradox Interactive         5793 non-null   uint8  \n",
      " 84  SEGA                        5793 non-null   uint8  \n",
      " 85  Sokpop Collective           5793 non-null   uint8  \n",
      " 86  Square Enix                 5793 non-null   uint8  \n",
      " 87  THQ Nordic                  5793 non-null   uint8  \n",
      " 88  Ubisoft                     5793 non-null   uint8  \n",
      " 89  Winged Cloud                5793 non-null   uint8  \n",
      " 90  other                       5793 non-null   uint8  \n",
      " 91  tinyBuild                   5793 non-null   uint8  \n",
      "dtypes: float64(5), int64(64), object(8), uint8(15)\n",
      "memory usage: 3.7+ MB\n"
     ]
    }
   ],
   "source": [
    "reviewsdf.info()"
   ]
  },
  {
   "cell_type": "code",
   "execution_count": 188,
   "metadata": {},
   "outputs": [],
   "source": [
    "# saving as reviewsdf.csv \n",
    "\n",
    "reviewsdf.to_csv(r'/Users/michaelharnett/Desktop\\reviewsdf.csv', index=False)"
   ]
  },
  {
   "cell_type": "code",
   "execution_count": null,
   "metadata": {},
   "outputs": [],
   "source": []
  }
 ],
 "metadata": {
  "kernelspec": {
   "display_name": "Python 3",
   "language": "python",
   "name": "python3"
  },
  "language_info": {
   "codemirror_mode": {
    "name": "ipython",
    "version": 3
   },
   "file_extension": ".py",
   "mimetype": "text/x-python",
   "name": "python",
   "nbconvert_exporter": "python",
   "pygments_lexer": "ipython3",
   "version": "3.8.5"
  }
 },
 "nbformat": 4,
 "nbformat_minor": 4
}
