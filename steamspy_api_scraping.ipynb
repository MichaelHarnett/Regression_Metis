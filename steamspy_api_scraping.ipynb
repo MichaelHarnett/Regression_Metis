{
 "cells": [
  {
   "cell_type": "code",
   "execution_count": 1,
   "metadata": {},
   "outputs": [],
   "source": [
    "from bs4 import BeautifulSoup\n",
    "import requests\n",
    "import pandas as pd\n",
    "from selenium import webdriver\n",
    "from selenium.webdriver.common.keys import Keys\n",
    "import time, os\n",
    "import json"
   ]
  },
  {
   "cell_type": "code",
   "execution_count": 98,
   "metadata": {},
   "outputs": [],
   "source": [
    "from types import SimpleNamespace"
   ]
  },
  {
   "cell_type": "code",
   "execution_count": 99,
   "metadata": {},
   "outputs": [],
   "source": [
    "import statistics"
   ]
  },
  {
   "cell_type": "code",
   "execution_count": 100,
   "metadata": {},
   "outputs": [],
   "source": [
    "import numpy as np"
   ]
  },
  {
   "cell_type": "code",
   "execution_count": 101,
   "metadata": {},
   "outputs": [
    {
     "name": "stdout",
     "output_type": "stream",
     "text": [
      "Populating the interactive namespace from numpy and matplotlib\n"
     ]
    },
    {
     "name": "stderr",
     "output_type": "stream",
     "text": [
      "/usr/local/anaconda3/lib/python3.8/site-packages/IPython/core/magics/pylab.py:159: UserWarning: pylab import has clobbered these variables: ['random']\n",
      "`%matplotlib` prevents importing * from pylab and numpy\n",
      "  warn(\"pylab import has clobbered these variables: %s\"  % clobbered +\n"
     ]
    }
   ],
   "source": [
    "import random\n",
    "import numpy as np\n",
    "from sklearn.linear_model import LinearRegression, Lasso, LassoCV, Ridge, RidgeCV\n",
    "from sklearn.model_selection import train_test_split\n",
    "from sklearn.preprocessing import StandardScaler, PolynomialFeatures\n",
    "import seaborn as sns\n",
    "sns.set()\n",
    "import pandas as pd\n",
    "from sklearn.metrics import r2_score, mean_squared_error, mean_absolute_error\n",
    "import statsmodels.api as sm\n",
    "import statsmodels.formula.api as smf\n",
    "\n",
    "from sklearn.pipeline import Pipeline\n",
    "%matplotlib inline\n",
    "%pylab inline"
   ]
  },
  {
   "cell_type": "code",
   "execution_count": 102,
   "metadata": {},
   "outputs": [],
   "source": [
    "import seaborn as sns\n",
    "\n"
   ]
  },
  {
   "cell_type": "markdown",
   "metadata": {},
   "source": [
    "# retrieving data from steamspy api\n",
    "\n",
    "first attempt at pulling data and transforming it into a dataframe. then can use number of game sales as new target"
   ]
  },
  {
   "cell_type": "code",
   "execution_count": 38,
   "metadata": {},
   "outputs": [],
   "source": [
    "response = requests.get('http://steamspy.com/api.php?request=all&page=1')"
   ]
  },
  {
   "cell_type": "code",
   "execution_count": 101,
   "metadata": {},
   "outputs": [
    {
     "data": {
      "text/plain": [
       "<Response [200]>"
      ]
     },
     "execution_count": 101,
     "metadata": {},
     "output_type": "execute_result"
    }
   ],
   "source": [
    "response"
   ]
  },
  {
   "cell_type": "code",
   "execution_count": 41,
   "metadata": {},
   "outputs": [],
   "source": [
    "df = pd.DataFrame(response.json()).T"
   ]
  },
  {
   "cell_type": "code",
   "execution_count": 42,
   "metadata": {},
   "outputs": [
    {
     "data": {
      "text/html": [
       "<div>\n",
       "<style scoped>\n",
       "    .dataframe tbody tr th:only-of-type {\n",
       "        vertical-align: middle;\n",
       "    }\n",
       "\n",
       "    .dataframe tbody tr th {\n",
       "        vertical-align: top;\n",
       "    }\n",
       "\n",
       "    .dataframe thead th {\n",
       "        text-align: right;\n",
       "    }\n",
       "</style>\n",
       "<table border=\"1\" class=\"dataframe\">\n",
       "  <thead>\n",
       "    <tr style=\"text-align: right;\">\n",
       "      <th></th>\n",
       "      <th>appid</th>\n",
       "      <th>name</th>\n",
       "      <th>developer</th>\n",
       "      <th>publisher</th>\n",
       "      <th>score_rank</th>\n",
       "      <th>positive</th>\n",
       "      <th>negative</th>\n",
       "      <th>userscore</th>\n",
       "      <th>owners</th>\n",
       "      <th>average_forever</th>\n",
       "      <th>average_2weeks</th>\n",
       "      <th>median_forever</th>\n",
       "      <th>median_2weeks</th>\n",
       "      <th>price</th>\n",
       "      <th>initialprice</th>\n",
       "      <th>discount</th>\n",
       "      <th>ccu</th>\n",
       "    </tr>\n",
       "  </thead>\n",
       "  <tbody>\n",
       "    <tr>\n",
       "      <th>240760</th>\n",
       "      <td>240760</td>\n",
       "      <td>Wasteland 2: Director's Cut</td>\n",
       "      <td>inXile Entertainment</td>\n",
       "      <td>inXile Entertainment</td>\n",
       "      <td></td>\n",
       "      <td>6499</td>\n",
       "      <td>1385</td>\n",
       "      <td>0</td>\n",
       "      <td>500,000 .. 1,000,000</td>\n",
       "      <td>877</td>\n",
       "      <td>0</td>\n",
       "      <td>681</td>\n",
       "      <td>0</td>\n",
       "      <td>2999</td>\n",
       "      <td>2999</td>\n",
       "      <td>0</td>\n",
       "      <td>32</td>\n",
       "    </tr>\n",
       "  </tbody>\n",
       "</table>\n",
       "</div>"
      ],
      "text/plain": [
       "         appid                         name             developer  \\\n",
       "240760  240760  Wasteland 2: Director's Cut  inXile Entertainment   \n",
       "\n",
       "                   publisher score_rank positive negative userscore  \\\n",
       "240760  inXile Entertainment                6499     1385         0   \n",
       "\n",
       "                      owners average_forever average_2weeks median_forever  \\\n",
       "240760  500,000 .. 1,000,000             877              0            681   \n",
       "\n",
       "       median_2weeks price initialprice discount ccu  \n",
       "240760             0  2999         2999        0  32  "
      ]
     },
     "execution_count": 42,
     "metadata": {},
     "output_type": "execute_result"
    }
   ],
   "source": [
    "df.head(1)"
   ]
  },
  {
   "cell_type": "markdown",
   "metadata": {},
   "source": [
    "# Creating loop for all pages\n",
    "44 pages, will take 44 minutes since I have to include a 60 second wait per API request"
   ]
  },
  {
   "cell_type": "code",
   "execution_count": 44,
   "metadata": {},
   "outputs": [],
   "source": [
    "for i in range(44):\n",
    "    response = requests.get(f'http://steamspy.com/api.php?request=all&page={i}')\n",
    "    list = response.json()\n",
    "    df = pd.concat([df,(pd.DataFrame(list).T)])\n",
    "    time.sleep(60)\n",
    "    \n",
    "    \n",
    "    \n"
   ]
  },
  {
   "cell_type": "code",
   "execution_count": 47,
   "metadata": {},
   "outputs": [
    {
     "data": {
      "text/plain": [
       "(42773, 17)"
      ]
     },
     "execution_count": 47,
     "metadata": {},
     "output_type": "execute_result"
    }
   ],
   "source": [
    "df.shape"
   ]
  },
  {
   "cell_type": "code",
   "execution_count": 46,
   "metadata": {},
   "outputs": [],
   "source": [
    "df.drop_duplicates(inplace=True)"
   ]
  },
  {
   "cell_type": "code",
   "execution_count": 48,
   "metadata": {},
   "outputs": [],
   "source": [
    "df.rename(columns={'name':'title'},inplace=True)"
   ]
  },
  {
   "cell_type": "code",
   "execution_count": 49,
   "metadata": {},
   "outputs": [
    {
     "data": {
      "text/html": [
       "<div>\n",
       "<style scoped>\n",
       "    .dataframe tbody tr th:only-of-type {\n",
       "        vertical-align: middle;\n",
       "    }\n",
       "\n",
       "    .dataframe tbody tr th {\n",
       "        vertical-align: top;\n",
       "    }\n",
       "\n",
       "    .dataframe thead th {\n",
       "        text-align: right;\n",
       "    }\n",
       "</style>\n",
       "<table border=\"1\" class=\"dataframe\">\n",
       "  <thead>\n",
       "    <tr style=\"text-align: right;\">\n",
       "      <th></th>\n",
       "      <th>appid</th>\n",
       "      <th>title</th>\n",
       "      <th>developer</th>\n",
       "      <th>publisher</th>\n",
       "      <th>score_rank</th>\n",
       "      <th>positive</th>\n",
       "      <th>negative</th>\n",
       "      <th>userscore</th>\n",
       "      <th>owners</th>\n",
       "      <th>average_forever</th>\n",
       "      <th>average_2weeks</th>\n",
       "      <th>median_forever</th>\n",
       "      <th>median_2weeks</th>\n",
       "      <th>price</th>\n",
       "      <th>initialprice</th>\n",
       "      <th>discount</th>\n",
       "      <th>ccu</th>\n",
       "    </tr>\n",
       "  </thead>\n",
       "  <tbody>\n",
       "    <tr>\n",
       "      <th>240760</th>\n",
       "      <td>240760</td>\n",
       "      <td>Wasteland 2: Director's Cut</td>\n",
       "      <td>inXile Entertainment</td>\n",
       "      <td>inXile Entertainment</td>\n",
       "      <td></td>\n",
       "      <td>6499</td>\n",
       "      <td>1385</td>\n",
       "      <td>0</td>\n",
       "      <td>500,000 .. 1,000,000</td>\n",
       "      <td>877</td>\n",
       "      <td>0</td>\n",
       "      <td>681</td>\n",
       "      <td>0</td>\n",
       "      <td>2999</td>\n",
       "      <td>2999</td>\n",
       "      <td>0</td>\n",
       "      <td>32</td>\n",
       "    </tr>\n",
       "  </tbody>\n",
       "</table>\n",
       "</div>"
      ],
      "text/plain": [
       "         appid                        title             developer  \\\n",
       "240760  240760  Wasteland 2: Director's Cut  inXile Entertainment   \n",
       "\n",
       "                   publisher score_rank positive negative userscore  \\\n",
       "240760  inXile Entertainment                6499     1385         0   \n",
       "\n",
       "                      owners average_forever average_2weeks median_forever  \\\n",
       "240760  500,000 .. 1,000,000             877              0            681   \n",
       "\n",
       "       median_2weeks price initialprice discount ccu  \n",
       "240760             0  2999         2999        0  32  "
      ]
     },
     "execution_count": 49,
     "metadata": {},
     "output_type": "execute_result"
    }
   ],
   "source": [
    "df.head(1)"
   ]
  },
  {
   "cell_type": "markdown",
   "metadata": {},
   "source": [
    "# MEDIANATOR\n",
    "Owners are listed as a range. for modeling, I am creating a quick function to find the median."
   ]
  },
  {
   "cell_type": "code",
   "execution_count": 50,
   "metadata": {},
   "outputs": [],
   "source": [
    "def medianator (raw):\n",
    "    raw2 = (raw.replace(',','').replace('.','').split())\n",
    "    nums = [int(s) for s in raw2]\n",
    "    return statistics.median(nums)"
   ]
  },
  {
   "cell_type": "code",
   "execution_count": 51,
   "metadata": {},
   "outputs": [],
   "source": [
    "df['owners_median'] = df.owners.map(medianator)"
   ]
  },
  {
   "cell_type": "code",
   "execution_count": 52,
   "metadata": {},
   "outputs": [
    {
     "data": {
      "text/html": [
       "<div>\n",
       "<style scoped>\n",
       "    .dataframe tbody tr th:only-of-type {\n",
       "        vertical-align: middle;\n",
       "    }\n",
       "\n",
       "    .dataframe tbody tr th {\n",
       "        vertical-align: top;\n",
       "    }\n",
       "\n",
       "    .dataframe thead th {\n",
       "        text-align: right;\n",
       "    }\n",
       "</style>\n",
       "<table border=\"1\" class=\"dataframe\">\n",
       "  <thead>\n",
       "    <tr style=\"text-align: right;\">\n",
       "      <th></th>\n",
       "      <th>appid</th>\n",
       "      <th>title</th>\n",
       "      <th>developer</th>\n",
       "      <th>publisher</th>\n",
       "      <th>score_rank</th>\n",
       "      <th>positive</th>\n",
       "      <th>negative</th>\n",
       "      <th>userscore</th>\n",
       "      <th>owners</th>\n",
       "      <th>average_forever</th>\n",
       "      <th>average_2weeks</th>\n",
       "      <th>median_forever</th>\n",
       "      <th>median_2weeks</th>\n",
       "      <th>price</th>\n",
       "      <th>initialprice</th>\n",
       "      <th>discount</th>\n",
       "      <th>ccu</th>\n",
       "      <th>owners_median</th>\n",
       "    </tr>\n",
       "  </thead>\n",
       "  <tbody>\n",
       "    <tr>\n",
       "      <th>240760</th>\n",
       "      <td>240760</td>\n",
       "      <td>Wasteland 2: Director's Cut</td>\n",
       "      <td>inXile Entertainment</td>\n",
       "      <td>inXile Entertainment</td>\n",
       "      <td></td>\n",
       "      <td>6499</td>\n",
       "      <td>1385</td>\n",
       "      <td>0</td>\n",
       "      <td>500,000 .. 1,000,000</td>\n",
       "      <td>877</td>\n",
       "      <td>0</td>\n",
       "      <td>681</td>\n",
       "      <td>0</td>\n",
       "      <td>2999</td>\n",
       "      <td>2999</td>\n",
       "      <td>0</td>\n",
       "      <td>32</td>\n",
       "      <td>750000.0</td>\n",
       "    </tr>\n",
       "    <tr>\n",
       "      <th>241540</th>\n",
       "      <td>241540</td>\n",
       "      <td>State of Decay</td>\n",
       "      <td>Undead Labs</td>\n",
       "      <td>Xbox Game Studios</td>\n",
       "      <td></td>\n",
       "      <td>14963</td>\n",
       "      <td>2744</td>\n",
       "      <td>0</td>\n",
       "      <td>500,000 .. 1,000,000</td>\n",
       "      <td>1304</td>\n",
       "      <td>0</td>\n",
       "      <td>1461</td>\n",
       "      <td>0</td>\n",
       "      <td>0</td>\n",
       "      <td>0</td>\n",
       "      <td>0</td>\n",
       "      <td>18</td>\n",
       "      <td>750000.0</td>\n",
       "    </tr>\n",
       "    <tr>\n",
       "      <th>8800</th>\n",
       "      <td>8800</td>\n",
       "      <td>Civilization IV: Beyond the Sword</td>\n",
       "      <td>Firaxis Games</td>\n",
       "      <td>2K</td>\n",
       "      <td></td>\n",
       "      <td>2694</td>\n",
       "      <td>100</td>\n",
       "      <td>0</td>\n",
       "      <td>500,000 .. 1,000,000</td>\n",
       "      <td>3395</td>\n",
       "      <td>196</td>\n",
       "      <td>4337</td>\n",
       "      <td>196</td>\n",
       "      <td>999</td>\n",
       "      <td>999</td>\n",
       "      <td>0</td>\n",
       "      <td>1576</td>\n",
       "      <td>750000.0</td>\n",
       "    </tr>\n",
       "    <tr>\n",
       "      <th>70600</th>\n",
       "      <td>70600</td>\n",
       "      <td>Worms Ultimate Mayhem</td>\n",
       "      <td>Team17 Digital Ltd</td>\n",
       "      <td>Team17 Digital Ltd</td>\n",
       "      <td></td>\n",
       "      <td>3481</td>\n",
       "      <td>471</td>\n",
       "      <td>0</td>\n",
       "      <td>500,000 .. 1,000,000</td>\n",
       "      <td>213</td>\n",
       "      <td>0</td>\n",
       "      <td>121</td>\n",
       "      <td>0</td>\n",
       "      <td>1499</td>\n",
       "      <td>1499</td>\n",
       "      <td>0</td>\n",
       "      <td>50</td>\n",
       "      <td>750000.0</td>\n",
       "    </tr>\n",
       "    <tr>\n",
       "      <th>238260</th>\n",
       "      <td>238260</td>\n",
       "      <td>Pinball Arcade</td>\n",
       "      <td>FarSight Studios</td>\n",
       "      <td>FarSight Studios</td>\n",
       "      <td></td>\n",
       "      <td>2536</td>\n",
       "      <td>944</td>\n",
       "      <td>0</td>\n",
       "      <td>500,000 .. 1,000,000</td>\n",
       "      <td>649</td>\n",
       "      <td>0</td>\n",
       "      <td>32</td>\n",
       "      <td>0</td>\n",
       "      <td>0</td>\n",
       "      <td>0</td>\n",
       "      <td>0</td>\n",
       "      <td>42</td>\n",
       "      <td>750000.0</td>\n",
       "    </tr>\n",
       "  </tbody>\n",
       "</table>\n",
       "</div>"
      ],
      "text/plain": [
       "         appid                              title             developer  \\\n",
       "240760  240760        Wasteland 2: Director's Cut  inXile Entertainment   \n",
       "241540  241540                     State of Decay           Undead Labs   \n",
       "8800      8800  Civilization IV: Beyond the Sword         Firaxis Games   \n",
       "70600    70600              Worms Ultimate Mayhem    Team17 Digital Ltd   \n",
       "238260  238260                     Pinball Arcade      FarSight Studios   \n",
       "\n",
       "                   publisher score_rank positive negative userscore  \\\n",
       "240760  inXile Entertainment                6499     1385         0   \n",
       "241540     Xbox Game Studios               14963     2744         0   \n",
       "8800                      2K                2694      100         0   \n",
       "70600     Team17 Digital Ltd                3481      471         0   \n",
       "238260      FarSight Studios                2536      944         0   \n",
       "\n",
       "                      owners average_forever average_2weeks median_forever  \\\n",
       "240760  500,000 .. 1,000,000             877              0            681   \n",
       "241540  500,000 .. 1,000,000            1304              0           1461   \n",
       "8800    500,000 .. 1,000,000            3395            196           4337   \n",
       "70600   500,000 .. 1,000,000             213              0            121   \n",
       "238260  500,000 .. 1,000,000             649              0             32   \n",
       "\n",
       "       median_2weeks price initialprice discount   ccu  owners_median  \n",
       "240760             0  2999         2999        0    32       750000.0  \n",
       "241540             0     0            0        0    18       750000.0  \n",
       "8800             196   999          999        0  1576       750000.0  \n",
       "70600              0  1499         1499        0    50       750000.0  \n",
       "238260             0     0            0        0    42       750000.0  "
      ]
     },
     "execution_count": 52,
     "metadata": {},
     "output_type": "execute_result"
    }
   ],
   "source": [
    "df.head()"
   ]
  },
  {
   "cell_type": "markdown",
   "metadata": {},
   "source": [
    "### Saving steamspy's scraped api as steamspy.csv"
   ]
  },
  {
   "cell_type": "markdown",
   "metadata": {},
   "source": [
    "# Merging StamSpy dataframe with Steam dataframe"
   ]
  },
  {
   "cell_type": "code",
   "execution_count": 57,
   "metadata": {},
   "outputs": [],
   "source": [
    "df.to_csv(r'/Users/michaelharnett/Desktop/metis\\steamspy.csv')"
   ]
  },
  {
   "cell_type": "code",
   "execution_count": 60,
   "metadata": {},
   "outputs": [],
   "source": [
    "reviewsdf = pd.read_csv('data/reviewsdf.csv')"
   ]
  },
  {
   "cell_type": "code",
   "execution_count": 61,
   "metadata": {},
   "outputs": [
    {
     "data": {
      "text/plain": [
       "(5793, 92)"
      ]
     },
     "execution_count": 61,
     "metadata": {},
     "output_type": "execute_result"
    }
   ],
   "source": [
    "reviewsdf.shape"
   ]
  },
  {
   "cell_type": "code",
   "execution_count": 65,
   "metadata": {},
   "outputs": [],
   "source": [
    "df.drop(columns = ['appid', 'developer', 'publisher', 'score_rank',\n",
    "                  'userscore', 'price', 'initialprice', 'discount',\n",
    "                  'owners'], inplace=True)"
   ]
  },
  {
   "cell_type": "code",
   "execution_count": 68,
   "metadata": {},
   "outputs": [],
   "source": [
    "reviewsdf.drop(columns=['link', 'release_date', 'review_rating',\n",
    "                     'num_languages', 'tags', 'genres','publisher',\n",
    "                     'top_pubs'], inplace=True)"
   ]
  },
  {
   "cell_type": "code",
   "execution_count": 224,
   "metadata": {},
   "outputs": [],
   "source": [
    "#ownerdf = pd.merge(reviewsdf,df[['title','owners_median','positive','negative']], on=['title'])"
   ]
  },
  {
   "cell_type": "code",
   "execution_count": 69,
   "metadata": {},
   "outputs": [],
   "source": [
    "ownerdf = pd.merge(reviewsdf,df, on=['title'])"
   ]
  },
  {
   "cell_type": "code",
   "execution_count": null,
   "metadata": {},
   "outputs": [],
   "source": []
  },
  {
   "cell_type": "code",
   "execution_count": 70,
   "metadata": {},
   "outputs": [
    {
     "data": {
      "text/html": [
       "<div>\n",
       "<style scoped>\n",
       "    .dataframe tbody tr th:only-of-type {\n",
       "        vertical-align: middle;\n",
       "    }\n",
       "\n",
       "    .dataframe tbody tr th {\n",
       "        vertical-align: top;\n",
       "    }\n",
       "\n",
       "    .dataframe thead th {\n",
       "        text-align: right;\n",
       "    }\n",
       "</style>\n",
       "<table border=\"1\" class=\"dataframe\">\n",
       "  <thead>\n",
       "    <tr style=\"text-align: right;\">\n",
       "      <th></th>\n",
       "      <th>title</th>\n",
       "      <th>been_sale</th>\n",
       "      <th>orig_price</th>\n",
       "      <th>num_reviews</th>\n",
       "      <th>num_tags</th>\n",
       "      <th>num_genres</th>\n",
       "      <th>year_released</th>\n",
       "      <th>languages_filled</th>\n",
       "      <th>rating_val</th>\n",
       "      <th>Singleplayer_tag</th>\n",
       "      <th>...</th>\n",
       "      <th>tinyBuild</th>\n",
       "      <th>positive</th>\n",
       "      <th>negative</th>\n",
       "      <th>owners</th>\n",
       "      <th>average_forever</th>\n",
       "      <th>average_2weeks</th>\n",
       "      <th>median_forever</th>\n",
       "      <th>median_2weeks</th>\n",
       "      <th>ccu</th>\n",
       "      <th>owners_median</th>\n",
       "    </tr>\n",
       "  </thead>\n",
       "  <tbody>\n",
       "    <tr>\n",
       "      <th>0</th>\n",
       "      <td>OUTRIDERS</td>\n",
       "      <td>0</td>\n",
       "      <td>59.99</td>\n",
       "      <td>36837</td>\n",
       "      <td>20.0</td>\n",
       "      <td>3.0</td>\n",
       "      <td>2021</td>\n",
       "      <td>13.0</td>\n",
       "      <td>6</td>\n",
       "      <td>1</td>\n",
       "      <td>...</td>\n",
       "      <td>0</td>\n",
       "      <td>26922</td>\n",
       "      <td>14940</td>\n",
       "      <td>1,000,000 .. 2,000,000</td>\n",
       "      <td>2074</td>\n",
       "      <td>585</td>\n",
       "      <td>1600</td>\n",
       "      <td>279</td>\n",
       "      <td>23037</td>\n",
       "      <td>1500000.0</td>\n",
       "    </tr>\n",
       "  </tbody>\n",
       "</table>\n",
       "<p>1 rows × 93 columns</p>\n",
       "</div>"
      ],
      "text/plain": [
       "       title  been_sale  orig_price  num_reviews  num_tags  num_genres  \\\n",
       "0  OUTRIDERS          0       59.99        36837      20.0         3.0   \n",
       "\n",
       "   year_released  languages_filled  rating_val  Singleplayer_tag  ...  \\\n",
       "0           2021              13.0           6                 1  ...   \n",
       "\n",
       "   tinyBuild  positive  negative                  owners  average_forever  \\\n",
       "0          0     26922     14940  1,000,000 .. 2,000,000             2074   \n",
       "\n",
       "   average_2weeks  median_forever  median_2weeks    ccu  owners_median  \n",
       "0             585            1600            279  23037      1500000.0  \n",
       "\n",
       "[1 rows x 93 columns]"
      ]
     },
     "execution_count": 70,
     "metadata": {},
     "output_type": "execute_result"
    }
   ],
   "source": [
    "ownerdf.head(1)"
   ]
  },
  {
   "cell_type": "code",
   "execution_count": 94,
   "metadata": {},
   "outputs": [
    {
     "data": {
      "text/plain": [
       "Index(['title', 'owners_median', 'positive', 'negative', 'num_reviews',\n",
       "       'been_sale', 'orig_price', 'num_tags', 'num_genres', 'year_released',\n",
       "       'languages_filled', 'rating_val', 'Singleplayer_tag', 'Indie_tag',\n",
       "       'Action_tag', 'Adventure_tag', 'Casual_tag', 'Strategy_tag',\n",
       "       'Multiplayer_tag', 'RPG_tag', 'Simulation_tag', 'Atmospheric_tag',\n",
       "       'Horror_tag', '2D_tag', 'Soundtrack_tag', 'Great_tag', 'Story_tag',\n",
       "       'Rich_tag', 'World_tag', 'Shooter_tag', 'Puzzle_tag', 'TurnBased_tag',\n",
       "       'Open_tag', 'FirstPerson_tag', 'Survival_tag', 'Fantasy_tag',\n",
       "       'Funny_tag', 'Coop_tag', 'Platformer_tag', 'Early_tag', 'Access_tag',\n",
       "       'Sim_tag', 'Indie_genre', 'Action_genre', 'Adventure_genre',\n",
       "       'Casual_genre', 'Simulation_genre', 'Strategy_genre', 'RPG_genre',\n",
       "       '_genre', 'Early_genre', 'Access_genre', 'Games_genre', 'Sports_genre',\n",
       "       'Racing_genre', 'Studios_genre', 'Entertainment_genre',\n",
       "       'Massively_genre', 'Multiplayer_genre', 'Studio_genre',\n",
       "       'Interactive_genre', 'Inc_genre', 'Software_genre', 'Game_genre',\n",
       "       'Utilities_genre', 'Feral_genre', 'Ltd_genre', 'Mac_genre',\n",
       "       'Design_genre', 'Illustration_genre', 'Sokpop_genre',\n",
       "       'Collective_genre', 'Activision', 'BANDAI NAMCO Entertainment',\n",
       "       'Capcom', 'Devolver Digital', 'Disney', 'Electronic Arts',\n",
       "       'Paradox Interactive', 'SEGA', 'Sokpop Collective', 'Square Enix',\n",
       "       'THQ Nordic', 'Ubisoft', 'Winged Cloud', 'other', 'tinyBuild', 'owners',\n",
       "       'average_forever', 'average_2weeks', 'median_forever', 'median_2weeks',\n",
       "       'ccu'],\n",
       "      dtype='object')"
      ]
     },
     "execution_count": 94,
     "metadata": {},
     "output_type": "execute_result"
    }
   ],
   "source": [
    "ownerdf.columns"
   ]
  },
  {
   "cell_type": "code",
   "execution_count": 91,
   "metadata": {},
   "outputs": [],
   "source": [
    "cols = ownerdf.columns.tolist()"
   ]
  },
  {
   "cell_type": "code",
   "execution_count": 92,
   "metadata": {},
   "outputs": [],
   "source": [
    "cols.insert(4, cols.pop(cols.index('num_reviews')))"
   ]
  },
  {
   "cell_type": "code",
   "execution_count": 93,
   "metadata": {},
   "outputs": [],
   "source": [
    "ownerdf = ownerdf[cols]"
   ]
  },
  {
   "cell_type": "code",
   "execution_count": 149,
   "metadata": {},
   "outputs": [
    {
     "name": "stdout",
     "output_type": "stream",
     "text": [
      "<class 'pandas.core.frame.DataFrame'>\n",
      "Int64Index: 5189 entries, 0 to 5188\n",
      "Data columns (total 92 columns):\n",
      " #   Column                      Non-Null Count  Dtype  \n",
      "---  ------                      --------------  -----  \n",
      " 0   title                       5189 non-null   object \n",
      " 1   owners_median               5189 non-null   float64\n",
      " 2   positive                    5189 non-null   int64  \n",
      " 3   negative                    5189 non-null   int64  \n",
      " 4   num_reviews                 5189 non-null   int64  \n",
      " 5   ccu                         5189 non-null   int64  \n",
      " 6   median_2weeks               5189 non-null   int64  \n",
      " 7   median_forever              5189 non-null   int64  \n",
      " 8   average_2weeks              5189 non-null   int64  \n",
      " 9   average_forever             5189 non-null   int64  \n",
      " 10  been_sale                   5189 non-null   int64  \n",
      " 11  orig_price                  5189 non-null   float64\n",
      " 12  num_tags                    5189 non-null   float64\n",
      " 13  num_genres                  5189 non-null   float64\n",
      " 14  year_released               5189 non-null   int64  \n",
      " 15  languages_filled            5189 non-null   float64\n",
      " 16  rating_val                  5189 non-null   int64  \n",
      " 17  Singleplayer_tag            5189 non-null   int64  \n",
      " 18  Indie_tag                   5189 non-null   int64  \n",
      " 19  Action_tag                  5189 non-null   int64  \n",
      " 20  Adventure_tag               5189 non-null   int64  \n",
      " 21  Casual_tag                  5189 non-null   int64  \n",
      " 22  Strategy_tag                5189 non-null   int64  \n",
      " 23  Multiplayer_tag             5189 non-null   int64  \n",
      " 24  RPG_tag                     5189 non-null   int64  \n",
      " 25  Simulation_tag              5189 non-null   int64  \n",
      " 26  Atmospheric_tag             5189 non-null   int64  \n",
      " 27  Horror_tag                  5189 non-null   int64  \n",
      " 28  2D_tag                      5189 non-null   int64  \n",
      " 29  Soundtrack_tag              5189 non-null   int64  \n",
      " 30  Great_tag                   5189 non-null   int64  \n",
      " 31  Story_tag                   5189 non-null   int64  \n",
      " 32  Rich_tag                    5189 non-null   int64  \n",
      " 33  World_tag                   5189 non-null   int64  \n",
      " 34  Shooter_tag                 5189 non-null   int64  \n",
      " 35  Puzzle_tag                  5189 non-null   int64  \n",
      " 36  TurnBased_tag               5189 non-null   int64  \n",
      " 37  Open_tag                    5189 non-null   int64  \n",
      " 38  FirstPerson_tag             5189 non-null   int64  \n",
      " 39  Survival_tag                5189 non-null   int64  \n",
      " 40  Fantasy_tag                 5189 non-null   int64  \n",
      " 41  Funny_tag                   5189 non-null   int64  \n",
      " 42  Coop_tag                    5189 non-null   int64  \n",
      " 43  Platformer_tag              5189 non-null   int64  \n",
      " 44  Early_tag                   5189 non-null   int64  \n",
      " 45  Access_tag                  5189 non-null   int64  \n",
      " 46  Sim_tag                     5189 non-null   int64  \n",
      " 47  Indie_genre                 5189 non-null   int64  \n",
      " 48  Action_genre                5189 non-null   int64  \n",
      " 49  Adventure_genre             5189 non-null   int64  \n",
      " 50  Casual_genre                5189 non-null   int64  \n",
      " 51  Simulation_genre            5189 non-null   int64  \n",
      " 52  Strategy_genre              5189 non-null   int64  \n",
      " 53  RPG_genre                   5189 non-null   int64  \n",
      " 54  _genre                      5189 non-null   int64  \n",
      " 55  Early_genre                 5189 non-null   int64  \n",
      " 56  Access_genre                5189 non-null   int64  \n",
      " 57  Games_genre                 5189 non-null   int64  \n",
      " 58  Sports_genre                5189 non-null   int64  \n",
      " 59  Racing_genre                5189 non-null   int64  \n",
      " 60  Studios_genre               5189 non-null   int64  \n",
      " 61  Entertainment_genre         5189 non-null   int64  \n",
      " 62  Massively_genre             5189 non-null   int64  \n",
      " 63  Multiplayer_genre           5189 non-null   int64  \n",
      " 64  Studio_genre                5189 non-null   int64  \n",
      " 65  Interactive_genre           5189 non-null   int64  \n",
      " 66  Inc_genre                   5189 non-null   int64  \n",
      " 67  Software_genre              5189 non-null   int64  \n",
      " 68  Game_genre                  5189 non-null   int64  \n",
      " 69  Utilities_genre             5189 non-null   int64  \n",
      " 70  Feral_genre                 5189 non-null   int64  \n",
      " 71  Ltd_genre                   5189 non-null   int64  \n",
      " 72  Mac_genre                   5189 non-null   int64  \n",
      " 73  Design_genre                5189 non-null   int64  \n",
      " 74  Illustration_genre          5189 non-null   int64  \n",
      " 75  Sokpop_genre                5189 non-null   int64  \n",
      " 76  Collective_genre            5189 non-null   int64  \n",
      " 77  Activision                  5189 non-null   int64  \n",
      " 78  BANDAI NAMCO Entertainment  5189 non-null   int64  \n",
      " 79  Capcom                      5189 non-null   int64  \n",
      " 80  Devolver Digital            5189 non-null   int64  \n",
      " 81  Disney                      5189 non-null   int64  \n",
      " 82  Electronic Arts             5189 non-null   int64  \n",
      " 83  Paradox Interactive         5189 non-null   int64  \n",
      " 84  SEGA                        5189 non-null   int64  \n",
      " 85  Sokpop Collective           5189 non-null   int64  \n",
      " 86  Square Enix                 5189 non-null   int64  \n",
      " 87  THQ Nordic                  5189 non-null   int64  \n",
      " 88  Ubisoft                     5189 non-null   int64  \n",
      " 89  Winged Cloud                5189 non-null   int64  \n",
      " 90  other                       5189 non-null   int64  \n",
      " 91  tinyBuild                   5189 non-null   int64  \n",
      "dtypes: float64(5), int64(86), object(1)\n",
      "memory usage: 3.7+ MB\n"
     ]
    }
   ],
   "source": [
    "ownerdf.info()\n",
    "\n"
   ]
  },
  {
   "cell_type": "code",
   "execution_count": 112,
   "metadata": {},
   "outputs": [],
   "source": [
    "ints_list = ['positive','negative', 'average_forever', 'average_2weeks',\n",
    "            'median_forever', 'median_2weeks', 'ccu']\n",
    "for things in ints_list:\n",
    "    ownerdf[things] = ownerdf[things].astype(int)\n"
   ]
  },
  {
   "cell_type": "code",
   "execution_count": 148,
   "metadata": {},
   "outputs": [],
   "source": [
    "bring2front = ['average_forever', 'average_2weeks',\n",
    "               'median_forever', 'median_2weeks', 'ccu']\n",
    "\n",
    "cols = ownerdf.columns.tolist()\n",
    "\n",
    "for items in bring2front:\n",
    "    cols.insert(5, cols.pop(cols.index(items)))\n",
    "\n",
    "ownerdf = ownerdf[cols]"
   ]
  },
  {
   "cell_type": "markdown",
   "metadata": {},
   "source": [
    "# Modeling"
   ]
  },
  {
   "cell_type": "code",
   "execution_count": 150,
   "metadata": {},
   "outputs": [],
   "source": [
    "X, y = ownerdf.iloc[:,2:], ownerdf.iloc[:,1]"
   ]
  },
  {
   "cell_type": "code",
   "execution_count": 151,
   "metadata": {},
   "outputs": [],
   "source": [
    "X_train, X_test, y_train, y_test = train_test_split(X, y, test_size=0.2, random_state=7)\n",
    "\n",
    "X_train, X_val, y_train, y_val = train_test_split(X_train, y_train, test_size=0.25, random_state=7)"
   ]
  },
  {
   "cell_type": "code",
   "execution_count": 152,
   "metadata": {},
   "outputs": [],
   "source": [
    "lr = LinearRegression()"
   ]
  },
  {
   "cell_type": "code",
   "execution_count": 153,
   "metadata": {},
   "outputs": [
    {
     "data": {
      "text/plain": [
       "0.8042508113629196"
      ]
     },
     "execution_count": 153,
     "metadata": {},
     "output_type": "execute_result"
    }
   ],
   "source": [
    "lr.fit(X_train, y_train)\n",
    "lr.score(X_train, y_train)"
   ]
  },
  {
   "cell_type": "code",
   "execution_count": 154,
   "metadata": {},
   "outputs": [
    {
     "data": {
      "text/plain": [
       "0.7627400280940863"
      ]
     },
     "execution_count": 154,
     "metadata": {},
     "output_type": "execute_result"
    }
   ],
   "source": [
    "lr.score(X_val, y_val)"
   ]
  },
  {
   "cell_type": "code",
   "execution_count": 156,
   "metadata": {},
   "outputs": [],
   "source": [
    "train_preds = lr.predict(X_train)"
   ]
  },
  {
   "cell_type": "code",
   "execution_count": 157,
   "metadata": {},
   "outputs": [
    {
     "data": {
      "text/plain": [
       "<seaborn.axisgrid.JointGrid at 0x7fb18d099f70>"
      ]
     },
     "execution_count": 157,
     "metadata": {},
     "output_type": "execute_result"
    },
    {
     "data": {
      "image/png": "[encoded data removed]",
      "text/plain": [
       "<Figure size 432x432 with 3 Axes>"
      ]
     },
     "metadata": {
      "needs_background": "light"
     },
     "output_type": "display_data"
    }
   ],
   "source": [
    "sns.jointplot(x=train_preds,y=y_train, kind='reg')"
   ]
  },
  {
   "cell_type": "code",
   "execution_count": 158,
   "metadata": {},
   "outputs": [
    {
     "name": "stdout",
     "output_type": "stream",
     "text": [
      "540540.3440522465\n",
      "221729.19511907827\n"
     ]
    }
   ],
   "source": [
    "rmse = mean_squared_error(y_train, train_preds, squared=False)\n",
    "print(rmse)\n",
    "mae = mean_absolute_error(y_train, train_preds)\n",
    "print(mae)"
   ]
  },
  {
   "cell_type": "code",
   "execution_count": 160,
   "metadata": {},
   "outputs": [
    {
     "data": {
      "text/html": [
       "<div>\n",
       "<style scoped>\n",
       "    .dataframe tbody tr th:only-of-type {\n",
       "        vertical-align: middle;\n",
       "    }\n",
       "\n",
       "    .dataframe tbody tr th {\n",
       "        vertical-align: top;\n",
       "    }\n",
       "\n",
       "    .dataframe thead th {\n",
       "        text-align: right;\n",
       "    }\n",
       "</style>\n",
       "<table border=\"1\" class=\"dataframe\">\n",
       "  <thead>\n",
       "    <tr style=\"text-align: right;\">\n",
       "      <th></th>\n",
       "      <th>owners_median</th>\n",
       "      <th>positive</th>\n",
       "      <th>negative</th>\n",
       "      <th>num_reviews</th>\n",
       "      <th>ccu</th>\n",
       "      <th>median_2weeks</th>\n",
       "      <th>median_forever</th>\n",
       "      <th>average_2weeks</th>\n",
       "      <th>average_forever</th>\n",
       "      <th>been_sale</th>\n",
       "      <th>...</th>\n",
       "      <th>Electronic Arts</th>\n",
       "      <th>Paradox Interactive</th>\n",
       "      <th>SEGA</th>\n",
       "      <th>Sokpop Collective</th>\n",
       "      <th>Square Enix</th>\n",
       "      <th>THQ Nordic</th>\n",
       "      <th>Ubisoft</th>\n",
       "      <th>Winged Cloud</th>\n",
       "      <th>other</th>\n",
       "      <th>tinyBuild</th>\n",
       "    </tr>\n",
       "  </thead>\n",
       "  <tbody>\n",
       "    <tr>\n",
       "      <th>owners_median</th>\n",
       "      <td>1.000000</td>\n",
       "      <td>0.901520</td>\n",
       "      <td>0.712095</td>\n",
       "      <td>0.899763</td>\n",
       "      <td>0.755281</td>\n",
       "      <td>0.087061</td>\n",
       "      <td>0.065027</td>\n",
       "      <td>0.108491</td>\n",
       "      <td>0.289349</td>\n",
       "      <td>-0.047430</td>\n",
       "      <td>...</td>\n",
       "      <td>0.015933</td>\n",
       "      <td>0.039023</td>\n",
       "      <td>0.016020</td>\n",
       "      <td>-0.018557</td>\n",
       "      <td>0.019136</td>\n",
       "      <td>0.002951</td>\n",
       "      <td>0.015807</td>\n",
       "      <td>-0.012249</td>\n",
       "      <td>-0.042996</td>\n",
       "      <td>0.001988</td>\n",
       "    </tr>\n",
       "    <tr>\n",
       "      <th>positive</th>\n",
       "      <td>0.901520</td>\n",
       "      <td>1.000000</td>\n",
       "      <td>0.614339</td>\n",
       "      <td>0.944267</td>\n",
       "      <td>0.714906</td>\n",
       "      <td>0.098773</td>\n",
       "      <td>0.067173</td>\n",
       "      <td>0.132630</td>\n",
       "      <td>0.303426</td>\n",
       "      <td>-0.050414</td>\n",
       "      <td>...</td>\n",
       "      <td>0.004677</td>\n",
       "      <td>0.040404</td>\n",
       "      <td>0.005714</td>\n",
       "      <td>-0.016910</td>\n",
       "      <td>0.003861</td>\n",
       "      <td>-0.006539</td>\n",
       "      <td>0.005969</td>\n",
       "      <td>-0.012946</td>\n",
       "      <td>-0.023070</td>\n",
       "      <td>-0.004318</td>\n",
       "    </tr>\n",
       "    <tr>\n",
       "      <th>negative</th>\n",
       "      <td>0.712095</td>\n",
       "      <td>0.614339</td>\n",
       "      <td>1.000000</td>\n",
       "      <td>0.769682</td>\n",
       "      <td>0.915485</td>\n",
       "      <td>0.040239</td>\n",
       "      <td>0.072567</td>\n",
       "      <td>0.058557</td>\n",
       "      <td>0.246623</td>\n",
       "      <td>-0.018396</td>\n",
       "      <td>...</td>\n",
       "      <td>0.001525</td>\n",
       "      <td>0.013237</td>\n",
       "      <td>-0.000381</td>\n",
       "      <td>-0.006290</td>\n",
       "      <td>0.005194</td>\n",
       "      <td>-0.001218</td>\n",
       "      <td>0.001250</td>\n",
       "      <td>-0.004560</td>\n",
       "      <td>-0.011547</td>\n",
       "      <td>-0.001674</td>\n",
       "    </tr>\n",
       "    <tr>\n",
       "      <th>num_reviews</th>\n",
       "      <td>0.899763</td>\n",
       "      <td>0.944267</td>\n",
       "      <td>0.769682</td>\n",
       "      <td>1.000000</td>\n",
       "      <td>0.819459</td>\n",
       "      <td>0.086086</td>\n",
       "      <td>0.072660</td>\n",
       "      <td>0.117588</td>\n",
       "      <td>0.304447</td>\n",
       "      <td>-0.045369</td>\n",
       "      <td>...</td>\n",
       "      <td>0.003238</td>\n",
       "      <td>0.034384</td>\n",
       "      <td>0.003899</td>\n",
       "      <td>-0.015010</td>\n",
       "      <td>0.003992</td>\n",
       "      <td>-0.005584</td>\n",
       "      <td>0.004822</td>\n",
       "      <td>-0.011430</td>\n",
       "      <td>-0.019794</td>\n",
       "      <td>-0.004035</td>\n",
       "    </tr>\n",
       "    <tr>\n",
       "      <th>ccu</th>\n",
       "      <td>0.755281</td>\n",
       "      <td>0.714906</td>\n",
       "      <td>0.915485</td>\n",
       "      <td>0.819459</td>\n",
       "      <td>1.000000</td>\n",
       "      <td>0.074106</td>\n",
       "      <td>0.091284</td>\n",
       "      <td>0.101015</td>\n",
       "      <td>0.318940</td>\n",
       "      <td>-0.024445</td>\n",
       "      <td>...</td>\n",
       "      <td>0.007390</td>\n",
       "      <td>0.042519</td>\n",
       "      <td>0.028297</td>\n",
       "      <td>-0.007401</td>\n",
       "      <td>0.012508</td>\n",
       "      <td>-0.005133</td>\n",
       "      <td>-0.003356</td>\n",
       "      <td>-0.006259</td>\n",
       "      <td>-0.021765</td>\n",
       "      <td>-0.005270</td>\n",
       "    </tr>\n",
       "    <tr>\n",
       "      <th>...</th>\n",
       "      <td>...</td>\n",
       "      <td>...</td>\n",
       "      <td>...</td>\n",
       "      <td>...</td>\n",
       "      <td>...</td>\n",
       "      <td>...</td>\n",
       "      <td>...</td>\n",
       "      <td>...</td>\n",
       "      <td>...</td>\n",
       "      <td>...</td>\n",
       "      <td>...</td>\n",
       "      <td>...</td>\n",
       "      <td>...</td>\n",
       "      <td>...</td>\n",
       "      <td>...</td>\n",
       "      <td>...</td>\n",
       "      <td>...</td>\n",
       "      <td>...</td>\n",
       "      <td>...</td>\n",
       "      <td>...</td>\n",
       "      <td>...</td>\n",
       "    </tr>\n",
       "    <tr>\n",
       "      <th>THQ Nordic</th>\n",
       "      <td>0.002951</td>\n",
       "      <td>-0.006539</td>\n",
       "      <td>-0.001218</td>\n",
       "      <td>-0.005584</td>\n",
       "      <td>-0.005133</td>\n",
       "      <td>-0.004153</td>\n",
       "      <td>-0.000608</td>\n",
       "      <td>-0.004743</td>\n",
       "      <td>-0.003819</td>\n",
       "      <td>0.007921</td>\n",
       "      <td>...</td>\n",
       "      <td>-0.006746</td>\n",
       "      <td>-0.007171</td>\n",
       "      <td>-0.007171</td>\n",
       "      <td>-0.007670</td>\n",
       "      <td>-0.007861</td>\n",
       "      <td>1.000000</td>\n",
       "      <td>-0.005134</td>\n",
       "      <td>-0.006524</td>\n",
       "      <td>-0.281035</td>\n",
       "      <td>-0.006855</td>\n",
       "    </tr>\n",
       "    <tr>\n",
       "      <th>Ubisoft</th>\n",
       "      <td>0.015807</td>\n",
       "      <td>0.005969</td>\n",
       "      <td>0.001250</td>\n",
       "      <td>0.004822</td>\n",
       "      <td>-0.003356</td>\n",
       "      <td>-0.005264</td>\n",
       "      <td>0.009553</td>\n",
       "      <td>-0.004404</td>\n",
       "      <td>0.011968</td>\n",
       "      <td>-0.024515</td>\n",
       "      <td>...</td>\n",
       "      <td>-0.004574</td>\n",
       "      <td>-0.004862</td>\n",
       "      <td>-0.004862</td>\n",
       "      <td>-0.005200</td>\n",
       "      <td>-0.005330</td>\n",
       "      <td>-0.005134</td>\n",
       "      <td>1.000000</td>\n",
       "      <td>-0.004423</td>\n",
       "      <td>-0.190538</td>\n",
       "      <td>-0.004648</td>\n",
       "    </tr>\n",
       "    <tr>\n",
       "      <th>Winged Cloud</th>\n",
       "      <td>-0.012249</td>\n",
       "      <td>-0.012946</td>\n",
       "      <td>-0.004560</td>\n",
       "      <td>-0.011430</td>\n",
       "      <td>-0.006259</td>\n",
       "      <td>-0.008232</td>\n",
       "      <td>-0.009489</td>\n",
       "      <td>-0.008221</td>\n",
       "      <td>-0.014319</td>\n",
       "      <td>0.180420</td>\n",
       "      <td>...</td>\n",
       "      <td>-0.005812</td>\n",
       "      <td>-0.006178</td>\n",
       "      <td>-0.006178</td>\n",
       "      <td>-0.006608</td>\n",
       "      <td>-0.006772</td>\n",
       "      <td>-0.006524</td>\n",
       "      <td>-0.004423</td>\n",
       "      <td>1.000000</td>\n",
       "      <td>-0.242106</td>\n",
       "      <td>-0.005905</td>\n",
       "    </tr>\n",
       "    <tr>\n",
       "      <th>other</th>\n",
       "      <td>-0.042996</td>\n",
       "      <td>-0.023070</td>\n",
       "      <td>-0.011547</td>\n",
       "      <td>-0.019794</td>\n",
       "      <td>-0.021765</td>\n",
       "      <td>-0.043192</td>\n",
       "      <td>-0.077995</td>\n",
       "      <td>-0.043328</td>\n",
       "      <td>-0.096451</td>\n",
       "      <td>-0.040721</td>\n",
       "      <td>...</td>\n",
       "      <td>-0.250364</td>\n",
       "      <td>-0.266130</td>\n",
       "      <td>-0.266130</td>\n",
       "      <td>-0.284643</td>\n",
       "      <td>-0.291729</td>\n",
       "      <td>-0.281035</td>\n",
       "      <td>-0.190538</td>\n",
       "      <td>-0.242106</td>\n",
       "      <td>1.000000</td>\n",
       "      <td>-0.254395</td>\n",
       "    </tr>\n",
       "    <tr>\n",
       "      <th>tinyBuild</th>\n",
       "      <td>0.001988</td>\n",
       "      <td>-0.004318</td>\n",
       "      <td>-0.001674</td>\n",
       "      <td>-0.004035</td>\n",
       "      <td>-0.005270</td>\n",
       "      <td>-0.001672</td>\n",
       "      <td>-0.006599</td>\n",
       "      <td>-0.003358</td>\n",
       "      <td>-0.009526</td>\n",
       "      <td>0.161789</td>\n",
       "      <td>...</td>\n",
       "      <td>-0.006107</td>\n",
       "      <td>-0.006491</td>\n",
       "      <td>-0.006491</td>\n",
       "      <td>-0.006943</td>\n",
       "      <td>-0.007116</td>\n",
       "      <td>-0.006855</td>\n",
       "      <td>-0.004648</td>\n",
       "      <td>-0.005905</td>\n",
       "      <td>-0.254395</td>\n",
       "      <td>1.000000</td>\n",
       "    </tr>\n",
       "  </tbody>\n",
       "</table>\n",
       "<p>91 rows × 91 columns</p>\n",
       "</div>"
      ],
      "text/plain": [
       "               owners_median  positive  negative  num_reviews       ccu  \\\n",
       "owners_median       1.000000  0.901520  0.712095     0.899763  0.755281   \n",
       "positive            0.901520  1.000000  0.614339     0.944267  0.714906   \n",
       "negative            0.712095  0.614339  1.000000     0.769682  0.915485   \n",
       "num_reviews         0.899763  0.944267  0.769682     1.000000  0.819459   \n",
       "ccu                 0.755281  0.714906  0.915485     0.819459  1.000000   \n",
       "...                      ...       ...       ...          ...       ...   \n",
       "THQ Nordic          0.002951 -0.006539 -0.001218    -0.005584 -0.005133   \n",
       "Ubisoft             0.015807  0.005969  0.001250     0.004822 -0.003356   \n",
       "Winged Cloud       -0.012249 -0.012946 -0.004560    -0.011430 -0.006259   \n",
       "other              -0.042996 -0.023070 -0.011547    -0.019794 -0.021765   \n",
       "tinyBuild           0.001988 -0.004318 -0.001674    -0.004035 -0.005270   \n",
       "\n",
       "               median_2weeks  median_forever  average_2weeks  average_forever  \\\n",
       "owners_median       0.087061        0.065027        0.108491         0.289349   \n",
       "positive            0.098773        0.067173        0.132630         0.303426   \n",
       "negative            0.040239        0.072567        0.058557         0.246623   \n",
       "num_reviews         0.086086        0.072660        0.117588         0.304447   \n",
       "ccu                 0.074106        0.091284        0.101015         0.318940   \n",
       "...                      ...             ...             ...              ...   \n",
       "THQ Nordic         -0.004153       -0.000608       -0.004743        -0.003819   \n",
       "Ubisoft            -0.005264        0.009553       -0.004404         0.011968   \n",
       "Winged Cloud       -0.008232       -0.009489       -0.008221        -0.014319   \n",
       "other              -0.043192       -0.077995       -0.043328        -0.096451   \n",
       "tinyBuild          -0.001672       -0.006599       -0.003358        -0.009526   \n",
       "\n",
       "               been_sale  ...  Electronic Arts  Paradox Interactive      SEGA  \\\n",
       "owners_median  -0.047430  ...         0.015933             0.039023  0.016020   \n",
       "positive       -0.050414  ...         0.004677             0.040404  0.005714   \n",
       "negative       -0.018396  ...         0.001525             0.013237 -0.000381   \n",
       "num_reviews    -0.045369  ...         0.003238             0.034384  0.003899   \n",
       "ccu            -0.024445  ...         0.007390             0.042519  0.028297   \n",
       "...                  ...  ...              ...                  ...       ...   \n",
       "THQ Nordic      0.007921  ...        -0.006746            -0.007171 -0.007171   \n",
       "Ubisoft        -0.024515  ...        -0.004574            -0.004862 -0.004862   \n",
       "Winged Cloud    0.180420  ...        -0.005812            -0.006178 -0.006178   \n",
       "other          -0.040721  ...        -0.250364            -0.266130 -0.266130   \n",
       "tinyBuild       0.161789  ...        -0.006107            -0.006491 -0.006491   \n",
       "\n",
       "               Sokpop Collective  Square Enix  THQ Nordic   Ubisoft  \\\n",
       "owners_median          -0.018557     0.019136    0.002951  0.015807   \n",
       "positive               -0.016910     0.003861   -0.006539  0.005969   \n",
       "negative               -0.006290     0.005194   -0.001218  0.001250   \n",
       "num_reviews            -0.015010     0.003992   -0.005584  0.004822   \n",
       "ccu                    -0.007401     0.012508   -0.005133 -0.003356   \n",
       "...                          ...          ...         ...       ...   \n",
       "THQ Nordic             -0.007670    -0.007861    1.000000 -0.005134   \n",
       "Ubisoft                -0.005200    -0.005330   -0.005134  1.000000   \n",
       "Winged Cloud           -0.006608    -0.006772   -0.006524 -0.004423   \n",
       "other                  -0.284643    -0.291729   -0.281035 -0.190538   \n",
       "tinyBuild              -0.006943    -0.007116   -0.006855 -0.004648   \n",
       "\n",
       "               Winged Cloud     other  tinyBuild  \n",
       "owners_median     -0.012249 -0.042996   0.001988  \n",
       "positive          -0.012946 -0.023070  -0.004318  \n",
       "negative          -0.004560 -0.011547  -0.001674  \n",
       "num_reviews       -0.011430 -0.019794  -0.004035  \n",
       "ccu               -0.006259 -0.021765  -0.005270  \n",
       "...                     ...       ...        ...  \n",
       "THQ Nordic        -0.006524 -0.281035  -0.006855  \n",
       "Ubisoft           -0.004423 -0.190538  -0.004648  \n",
       "Winged Cloud       1.000000 -0.242106  -0.005905  \n",
       "other             -0.242106  1.000000  -0.254395  \n",
       "tinyBuild         -0.005905 -0.254395   1.000000  \n",
       "\n",
       "[91 rows x 91 columns]"
      ]
     },
     "execution_count": 160,
     "metadata": {},
     "output_type": "execute_result"
    }
   ],
   "source": [
    "ownerdf.corr()"
   ]
  },
  {
   "cell_type": "code",
   "execution_count": 164,
   "metadata": {},
   "outputs": [],
   "source": [
    "X, y = ownerdf.iloc[:,2:15], ownerdf.iloc[:,1]"
   ]
  },
  {
   "cell_type": "code",
   "execution_count": 165,
   "metadata": {},
   "outputs": [],
   "source": [
    "X_train, X_test, y_train, y_test = train_test_split(X, y, test_size=0.2, random_state=7)\n",
    "\n",
    "X_train, X_val, y_train, y_val = train_test_split(X_train, y_train, test_size=0.25, random_state=7)"
   ]
  },
  {
   "cell_type": "code",
   "execution_count": 166,
   "metadata": {},
   "outputs": [],
   "source": [
    "lr = LinearRegression()"
   ]
  },
  {
   "cell_type": "code",
   "execution_count": 167,
   "metadata": {},
   "outputs": [
    {
     "data": {
      "text/plain": [
       "0.7961642648028194"
      ]
     },
     "execution_count": 167,
     "metadata": {},
     "output_type": "execute_result"
    }
   ],
   "source": [
    "lr.fit(X_train, y_train)\n",
    "lr.score(X_train, y_train)"
   ]
  },
  {
   "cell_type": "code",
   "execution_count": 168,
   "metadata": {},
   "outputs": [
    {
     "data": {
      "text/plain": [
       "0.7612925423117416"
      ]
     },
     "execution_count": 168,
     "metadata": {},
     "output_type": "execute_result"
    }
   ],
   "source": [
    "lr.score(X_val, y_val)"
   ]
  },
  {
   "cell_type": "code",
   "execution_count": 170,
   "metadata": {},
   "outputs": [
    {
     "data": {
      "text/plain": [
       "<AxesSubplot:>"
      ]
     },
     "execution_count": 170,
     "metadata": {},
     "output_type": "execute_result"
    },
    {
     "data": {
      "image/png": "[encoded data removed]",
      "text/plain": [
       "<Figure size 432x288 with 2 Axes>"
      ]
     },
     "metadata": {
      "needs_background": "light"
     },
     "output_type": "display_data"
    }
   ],
   "source": [
    "heatmapdf = ownerdf.iloc[:,1:15]\n",
    "upper = np.triu(heatmapdf.corr())\n",
    "sns.heatmap(heatmapdf.corr(), cmap=\"seismic_r\", annot=True, vmin=-1, vmax=1, mask=upper)\n",
    "\n"
   ]
  },
  {
   "cell_type": "code",
   "execution_count": 221,
   "metadata": {},
   "outputs": [],
   "source": [
    "import scipy.stats as stats"
   ]
  },
  {
   "cell_type": "code",
   "execution_count": 309,
   "metadata": {},
   "outputs": [],
   "source": [
    "def diagnostic_plot(X, y):\n",
    "    plt.figure(figsize=(20,5))\n",
    "    \n",
    "    rgr = LinearRegression()\n",
    "    rgr.fit(X,y)\n",
    "    pred = rgr.predict(X)\n",
    "    \n",
    "    plt.subplot(1, 2, 1)\n",
    "    res = y - pred\n",
    "    plt.scatter(pred, res)\n",
    "    plt.title(\"Residual plot\")\n",
    "    plt.xlabel(\"prediction\")\n",
    "    plt.ylabel(\"residuals\")\n",
    "    \n",
    "    plt.subplot(1, 2, 2)\n",
    "    #Generates a probability plot of sample data against the quantiles of a \n",
    "    # specified theoretical distribution \n",
    "    stats.probplot(res, dist=\"norm\", plot=plt)\n",
    "    plt.title(\"Normal Q-Q plot\")"
   ]
  },
  {
   "cell_type": "code",
   "execution_count": 310,
   "metadata": {},
   "outputs": [
    {
     "data": {
      "image/png": "[encoded data removed]",
      "text/plain": [
       "<Figure size 1440x360 with 2 Axes>"
      ]
     },
     "metadata": {
      "needs_background": "light"
     },
     "output_type": "display_data"
    }
   ],
   "source": [
    "diagnostic_plot(X, y)"
   ]
  },
  {
   "cell_type": "code",
   "execution_count": 311,
   "metadata": {},
   "outputs": [],
   "source": [
    "from statsmodels.stats.outliers_influence import variance_inflation_factor"
   ]
  },
  {
   "cell_type": "code",
   "execution_count": 312,
   "metadata": {},
   "outputs": [],
   "source": [
    "def vif(df_X):\n",
    "    '''\n",
    "    Calculate the VIF for each feature of df_X (a Pandas DataFrame).\n",
    "    '''\n",
    "    vif_data = [variance_inflation_factor(df_X.values, i)\n",
    "                for i in range(df_X.shape[1])]\n",
    "    \n",
    "    return pd.Series(vif_data, index=df_X.columns)"
   ]
  },
  {
   "cell_type": "code",
   "execution_count": 313,
   "metadata": {},
   "outputs": [
    {
     "name": "stderr",
     "output_type": "stream",
     "text": [
      "/usr/local/anaconda3/lib/python3.8/site-packages/statsmodels/regression/linear_model.py:1715: RuntimeWarning: invalid value encountered in double_scalars\n",
      "  return 1 - self.ssr/self.centered_tss\n",
      "/usr/local/anaconda3/lib/python3.8/site-packages/statsmodels/stats/outliers_influence.py:193: RuntimeWarning: divide by zero encountered in double_scalars\n",
      "  vif = 1. / (1. - r_squared_i)\n"
     ]
    },
    {
     "data": {
      "text/plain": [
       "positive        13.227376\n",
       "negative         3.521324\n",
       "num_reviews     20.264186\n",
       "been_sale        1.149454\n",
       "orig_price       1.554122\n",
       "                  ...    \n",
       "THQ Nordic       2.645139\n",
       "Ubisoft          1.760393\n",
       "Winged Cloud     2.300857\n",
       "other           17.597415\n",
       "tinyBuild        2.414074\n",
       "Length: 85, dtype: float64"
      ]
     },
     "execution_count": 313,
     "metadata": {},
     "output_type": "execute_result"
    }
   ],
   "source": [
    "vif(owneddf.iloc[:, 2:])"
   ]
  },
  {
   "cell_type": "code",
   "execution_count": null,
   "metadata": {},
   "outputs": [],
   "source": []
  }
 ],
 "metadata": {
  "kernelspec": {
   "display_name": "Python 3",
   "language": "python",
   "name": "python3"
  },
  "language_info": {
   "codemirror_mode": {
    "name": "ipython",
    "version": 3
   },
   "file_extension": ".py",
   "mimetype": "text/x-python",
   "name": "python",
   "nbconvert_exporter": "python",
   "pygments_lexer": "ipython3",
   "version": "3.8.5"
  }
 },
 "nbformat": 4,
 "nbformat_minor": 4
}
