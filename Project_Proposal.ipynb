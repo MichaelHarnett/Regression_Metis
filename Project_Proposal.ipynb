{
 "cells": [
  {
   "cell_type": "markdown",
   "metadata": {},
   "source": [
    "# Project Proposal\n",
    "    "
   ]
  },
  {
   "cell_type": "markdown",
   "metadata": {},
   "source": [
    "Video games have always been a passion of mine. I've used countless imaginary worlds to blow off steam after a long day. To that end, I have decided for this project to try and predict video game popularity, based on the number of copies owned on the Steam Game Store. Heavy-hitting game developers such as XBox and Bethesda have been aquiring smaller developers in mulit-billion dollar deals as of late. With these deals costing so much money, it would be beneficial to estimate how profitable a potential aquisition will be, in terms of how their current games have fared over the course of their lifetime. The data for this project will come from both Steam, PCs largest gaming client, as well as SteamSpy, a privately-run website that cultivates ownership estimates based on averages of users playing each game at any one time. Data being scraped from these sites include but are not limited to:\n",
    "\n",
    "<ul>\n",
    "    <li>Number of Reviews</li>\n",
    "    <li>Positive vs Negative review ratio</li>\n",
    "    <li>Price</li>\n",
    "    <li>Been on sale (y/n)</li>\n",
    "    <li>Number of languages supported</li>\n",
    "    <li>Rating</li>\n",
    "    <li>Developer</li>\n",
    "    <li>Number of games by developer</li>\n",
    "    <li>Genre(s)</li>\n",
    "    <li>Highest concurrent player count</li>\n",
    "    <li>Average concurrent player count</li>\n",
    "    <li>Number of descriptive tags added by users</li>\n",
    "</ul>\n",
    "\n",
    "Scraping will be performed with a combination of Selenium and Beautiful Soup. StatsModels will be used for preliminary analysis of feature coefficients, while SciKit-Learn will be used for the actual modeling and feature engineering. The results of will be displayed through both seaborn and matplotlib. The goal of this model is to achieve hihg predictive confidence. "
   ]
  },
  {
   "cell_type": "code",
   "execution_count": null,
   "metadata": {},
   "outputs": [],
   "source": []
  }
 ],
 "metadata": {
  "kernelspec": {
   "display_name": "Python 3",
   "language": "python",
   "name": "python3"
  },
  "language_info": {
   "codemirror_mode": {
    "name": "ipython",
    "version": 3
   },
   "file_extension": ".py",
   "mimetype": "text/x-python",
   "name": "python",
   "nbconvert_exporter": "python",
   "pygments_lexer": "ipython3",
   "version": "3.8.5"
  }
 },
 "nbformat": 4,
 "nbformat_minor": 5
}
