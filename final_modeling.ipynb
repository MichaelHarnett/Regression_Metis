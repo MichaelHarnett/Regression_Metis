{
 "cells": [
  {
   "cell_type": "code",
   "execution_count": 1,
   "metadata": {},
   "outputs": [
    {
     "name": "stdout",
     "output_type": "stream",
     "text": [
      "Populating the interactive namespace from numpy and matplotlib\n"
     ]
    },
    {
     "name": "stderr",
     "output_type": "stream",
     "text": [
      "/usr/local/anaconda3/lib/python3.8/site-packages/IPython/core/magics/pylab.py:159: UserWarning: pylab import has clobbered these variables: ['random']\n",
      "`%matplotlib` prevents importing * from pylab and numpy\n",
      "  warn(\"pylab import has clobbered these variables: %s\"  % clobbered +\n"
     ]
    }
   ],
   "source": [
    "import random\n",
    "import numpy as np\n",
    "from sklearn.linear_model import LinearRegression\n",
    "from sklearn.model_selection import train_test_split\n",
    "from sklearn.preprocessing import StandardScaler\n",
    "import seaborn as sns\n",
    "sns.set()\n",
    "import pandas as pd\n",
    "from sklearn.metrics import r2_score\n",
    "\n",
    "from sklearn.pipeline import Pipeline\n",
    "%matplotlib inline\n",
    "%pylab inline"
   ]
  },
  {
   "cell_type": "code",
   "execution_count": 2,
   "metadata": {},
   "outputs": [],
   "source": [
    "from sklearn.linear_model import LinearRegression, Lasso, LassoCV, Ridge, RidgeCV"
   ]
  },
  {
   "cell_type": "code",
   "execution_count": 3,
   "metadata": {},
   "outputs": [],
   "source": [
    "from sklearn.preprocessing import PolynomialFeatures"
   ]
  },
  {
   "cell_type": "code",
   "execution_count": 4,
   "metadata": {},
   "outputs": [],
   "source": [
    "df = pd.read_csv('data/modeldf.csv')"
   ]
  },
  {
   "cell_type": "code",
   "execution_count": 13,
   "metadata": {},
   "outputs": [
    {
     "ename": "NameError",
     "evalue": "name 'test_set_pred' is not defined",
     "output_type": "error",
     "traceback": [
      "\u001b[0;31m---------------------------------------------------------------------------\u001b[0m",
      "\u001b[0;31mNameError\u001b[0m                                 Traceback (most recent call last)",
      "\u001b[0;32m<ipython-input-13-480198d8907e>\u001b[0m in \u001b[0;36m<module>\u001b[0;34m\u001b[0m\n\u001b[1;32m      2\u001b[0m     \u001b[0;32mreturn\u001b[0m \u001b[0mnp\u001b[0m\u001b[0;34m.\u001b[0m\u001b[0mmean\u001b[0m\u001b[0;34m(\u001b[0m\u001b[0mnp\u001b[0m\u001b[0;34m.\u001b[0m\u001b[0mabs\u001b[0m\u001b[0;34m(\u001b[0m\u001b[0my_pred\u001b[0m \u001b[0;34m-\u001b[0m \u001b[0my_true\u001b[0m\u001b[0;34m)\u001b[0m\u001b[0;34m)\u001b[0m\u001b[0;34m\u001b[0m\u001b[0;34m\u001b[0m\u001b[0m\n\u001b[1;32m      3\u001b[0m \u001b[0;34m\u001b[0m\u001b[0m\n\u001b[0;32m----> 4\u001b[0;31m \u001b[0mmae\u001b[0m\u001b[0;34m(\u001b[0m\u001b[0my_test\u001b[0m\u001b[0;34m,\u001b[0m \u001b[0mtest_set_pred\u001b[0m\u001b[0;34m)\u001b[0m\u001b[0;34m\u001b[0m\u001b[0;34m\u001b[0m\u001b[0m\n\u001b[0m",
      "\u001b[0;31mNameError\u001b[0m: name 'test_set_pred' is not defined"
     ]
    }
   ],
   "source": [
    "def mae(y_true, y_pred):\n",
    "    return np.mean(np.abs(y_pred - y_true)) \n",
    "\n",
    "mae(y_test, test_set_pred)"
   ]
  },
  {
   "cell_type": "code",
   "execution_count": 10,
   "metadata": {},
   "outputs": [
    {
     "data": {
      "text/plain": [
       "2101"
      ]
     },
     "execution_count": 10,
     "metadata": {},
     "output_type": "execute_result"
    }
   ],
   "source": [
    "df.Action_genre.sum()"
   ]
  },
  {
   "cell_type": "code",
   "execution_count": 14,
   "metadata": {},
   "outputs": [],
   "source": [
    "df.drop(columns=['Unnamed: 0'], inplace=True)"
   ]
  },
  {
   "cell_type": "code",
   "execution_count": 15,
   "metadata": {},
   "outputs": [
    {
     "data": {
      "text/html": [
       "<div>\n",
       "<style scoped>\n",
       "    .dataframe tbody tr th:only-of-type {\n",
       "        vertical-align: middle;\n",
       "    }\n",
       "\n",
       "    .dataframe tbody tr th {\n",
       "        vertical-align: top;\n",
       "    }\n",
       "\n",
       "    .dataframe thead th {\n",
       "        text-align: right;\n",
       "    }\n",
       "</style>\n",
       "<table border=\"1\" class=\"dataframe\">\n",
       "  <thead>\n",
       "    <tr style=\"text-align: right;\">\n",
       "      <th></th>\n",
       "      <th>num_reviews</th>\n",
       "      <th>orig_price</th>\n",
       "      <th>been_sale</th>\n",
       "      <th>rating_val</th>\n",
       "      <th>num_tags</th>\n",
       "      <th>num_genres</th>\n",
       "      <th>year_released</th>\n",
       "      <th>languages_filled</th>\n",
       "      <th>BANDAI NAMCO Entertainment</th>\n",
       "      <th>Bethesda Softworks</th>\n",
       "      <th>...</th>\n",
       "      <th>Open_genre</th>\n",
       "      <th>FirstPerson_genre</th>\n",
       "      <th>Survival_genre</th>\n",
       "      <th>Funny_genre</th>\n",
       "      <th>Coop_genre</th>\n",
       "      <th>Fantasy_genre</th>\n",
       "      <th>Early_genre</th>\n",
       "      <th>Access_genre</th>\n",
       "      <th>Platformer_genre</th>\n",
       "      <th>Local_genre</th>\n",
       "    </tr>\n",
       "  </thead>\n",
       "  <tbody>\n",
       "    <tr>\n",
       "      <th>0</th>\n",
       "      <td>111078</td>\n",
       "      <td>39.99</td>\n",
       "      <td>1</td>\n",
       "      <td>8.0</td>\n",
       "      <td>20.0</td>\n",
       "      <td>2.0</td>\n",
       "      <td>2020</td>\n",
       "      <td>13.0</td>\n",
       "      <td>0</td>\n",
       "      <td>0</td>\n",
       "      <td>...</td>\n",
       "      <td>0</td>\n",
       "      <td>0</td>\n",
       "      <td>0</td>\n",
       "      <td>0</td>\n",
       "      <td>0</td>\n",
       "      <td>0</td>\n",
       "      <td>0</td>\n",
       "      <td>0</td>\n",
       "      <td>0</td>\n",
       "      <td>0</td>\n",
       "    </tr>\n",
       "  </tbody>\n",
       "</table>\n",
       "<p>1 rows × 82 columns</p>\n",
       "</div>"
      ],
      "text/plain": [
       "   num_reviews  orig_price  been_sale  rating_val  num_tags  num_genres  \\\n",
       "0       111078       39.99          1         8.0      20.0         2.0   \n",
       "\n",
       "   year_released  languages_filled  BANDAI NAMCO Entertainment  \\\n",
       "0           2020              13.0                           0   \n",
       "\n",
       "   Bethesda Softworks  ...  Open_genre  FirstPerson_genre  Survival_genre  \\\n",
       "0                   0  ...           0                  0               0   \n",
       "\n",
       "   Funny_genre  Coop_genre  Fantasy_genre  Early_genre  Access_genre  \\\n",
       "0            0           0              0            0             0   \n",
       "\n",
       "   Platformer_genre  Local_genre  \n",
       "0                 0            0  \n",
       "\n",
       "[1 rows x 82 columns]"
      ]
     },
     "execution_count": 15,
     "metadata": {},
     "output_type": "execute_result"
    }
   ],
   "source": [
    "df.head(1)"
   ]
  },
  {
   "cell_type": "code",
   "execution_count": 6,
   "metadata": {},
   "outputs": [],
   "source": [
    "X, y = df.iloc[:,1:], df.iloc[:,0]"
   ]
  },
  {
   "cell_type": "code",
   "execution_count": 66,
   "metadata": {},
   "outputs": [
    {
     "name": "stdout",
     "output_type": "stream",
     "text": [
      "<class 'pandas.core.frame.DataFrame'>\n",
      "RangeIndex: 5519 entries, 0 to 5518\n",
      "Data columns (total 82 columns):\n",
      " #   Column                      Non-Null Count  Dtype  \n",
      "---  ------                      --------------  -----  \n",
      " 0   num_reviews                 5519 non-null   int64  \n",
      " 1   orig_price                  5519 non-null   float64\n",
      " 2   been_sale                   5519 non-null   int64  \n",
      " 3   rating_val                  5519 non-null   float64\n",
      " 4   num_tags                    5519 non-null   float64\n",
      " 5   num_genres                  5519 non-null   float64\n",
      " 6   year_released               5519 non-null   int64  \n",
      " 7   languages_filled            5519 non-null   float64\n",
      " 8   BANDAI NAMCO Entertainment  5519 non-null   int64  \n",
      " 9   Bethesda Softworks          5519 non-null   int64  \n",
      " 10  Devolver Digital            5519 non-null   int64  \n",
      " 11  Disney                      5519 non-null   int64  \n",
      " 12  Electronic Arts             5519 non-null   int64  \n",
      " 13  Kagura Games                5519 non-null   int64  \n",
      " 14  Nightdive Studios           5519 non-null   int64  \n",
      " 15  Paradox Interactive         5519 non-null   int64  \n",
      " 16  SEGA                        5519 non-null   int64  \n",
      " 17  Square Enix                 5519 non-null   int64  \n",
      " 18  THQ Nordic                  5519 non-null   int64  \n",
      " 19  Ubisoft                     5519 non-null   int64  \n",
      " 20  Xbox Game Studios           5519 non-null   int64  \n",
      " 21  other                       5519 non-null   int64  \n",
      " 22  Singleplayer_tag            5519 non-null   int64  \n",
      " 23  Indie_tag                   5519 non-null   int64  \n",
      " 24  Action_tag                  5519 non-null   int64  \n",
      " 25  Adventure_tag               5519 non-null   int64  \n",
      " 26  Multiplayer_tag             5519 non-null   int64  \n",
      " 27  Strategy_tag                5519 non-null   int64  \n",
      " 28  RPG_tag                     5519 non-null   int64  \n",
      " 29  Casual_tag                  5519 non-null   int64  \n",
      " 30  Simulation_tag              5519 non-null   int64  \n",
      " 31  Atmospheric_tag             5519 non-null   int64  \n",
      " 32  Horror_tag                  5519 non-null   int64  \n",
      " 33  2D_tag                      5519 non-null   int64  \n",
      " 34  Soundtrack_tag              5519 non-null   int64  \n",
      " 35  Great_tag                   5519 non-null   int64  \n",
      " 36  Story_tag                   5519 non-null   int64  \n",
      " 37  Rich_tag                    5519 non-null   int64  \n",
      " 38  World_tag                   5519 non-null   int64  \n",
      " 39  Shooter_tag                 5519 non-null   int64  \n",
      " 40  Puzzle_tag                  5519 non-null   int64  \n",
      " 41  TurnBased_tag               5519 non-null   int64  \n",
      " 42  Open_tag                    5519 non-null   int64  \n",
      " 43  FirstPerson_tag             5519 non-null   int64  \n",
      " 44  Survival_tag                5519 non-null   int64  \n",
      " 45  Funny_tag                   5519 non-null   int64  \n",
      " 46  Coop_tag                    5519 non-null   int64  \n",
      " 47  Fantasy_tag                 5519 non-null   int64  \n",
      " 48  Early_tag                   5519 non-null   int64  \n",
      " 49  Access_tag                  5519 non-null   int64  \n",
      " 50  Platformer_tag              5519 non-null   int64  \n",
      " 51  Local_tag                   5519 non-null   int64  \n",
      " 52  Singleplayer_genre          5519 non-null   int64  \n",
      " 53  Indie_genre                 5519 non-null   int64  \n",
      " 54  Action_genre                5519 non-null   int64  \n",
      " 55  Adventure_genre             5519 non-null   int64  \n",
      " 56  Multiplayer_genre           5519 non-null   int64  \n",
      " 57  Strategy_genre              5519 non-null   int64  \n",
      " 58  RPG_genre                   5519 non-null   int64  \n",
      " 59  Casual_genre                5519 non-null   int64  \n",
      " 60  Simulation_genre            5519 non-null   int64  \n",
      " 61  Atmospheric_genre           5519 non-null   int64  \n",
      " 62  Horror_genre                5519 non-null   int64  \n",
      " 63  2D_genre                    5519 non-null   int64  \n",
      " 64  Soundtrack_genre            5519 non-null   int64  \n",
      " 65  Great_genre                 5519 non-null   int64  \n",
      " 66  Story_genre                 5519 non-null   int64  \n",
      " 67  Rich_genre                  5519 non-null   int64  \n",
      " 68  World_genre                 5519 non-null   int64  \n",
      " 69  Shooter_genre               5519 non-null   int64  \n",
      " 70  Puzzle_genre                5519 non-null   int64  \n",
      " 71  TurnBased_genre             5519 non-null   int64  \n",
      " 72  Open_genre                  5519 non-null   int64  \n",
      " 73  FirstPerson_genre           5519 non-null   int64  \n",
      " 74  Survival_genre              5519 non-null   int64  \n",
      " 75  Funny_genre                 5519 non-null   int64  \n",
      " 76  Coop_genre                  5519 non-null   int64  \n",
      " 77  Fantasy_genre               5519 non-null   int64  \n",
      " 78  Early_genre                 5519 non-null   int64  \n",
      " 79  Access_genre                5519 non-null   int64  \n",
      " 80  Platformer_genre            5519 non-null   int64  \n",
      " 81  Local_genre                 5519 non-null   int64  \n",
      "dtypes: float64(5), int64(77)\n",
      "memory usage: 3.5 MB\n"
     ]
    }
   ],
   "source": [
    "df.info()"
   ]
  },
  {
   "cell_type": "code",
   "execution_count": 7,
   "metadata": {},
   "outputs": [],
   "source": [
    "lr = LinearRegression()"
   ]
  },
  {
   "cell_type": "code",
   "execution_count": 8,
   "metadata": {},
   "outputs": [
    {
     "data": {
      "text/plain": [
       "LinearRegression()"
      ]
     },
     "execution_count": 8,
     "metadata": {},
     "output_type": "execute_result"
    }
   ],
   "source": [
    "lr.fit(X,y)"
   ]
  },
  {
   "cell_type": "code",
   "execution_count": 9,
   "metadata": {},
   "outputs": [
    {
     "data": {
      "text/plain": [
       "0.48746337136978213"
      ]
     },
     "execution_count": 9,
     "metadata": {},
     "output_type": "execute_result"
    }
   ],
   "source": [
    "lr.score(X,y)"
   ]
  },
  {
   "cell_type": "code",
   "execution_count": 38,
   "metadata": {},
   "outputs": [],
   "source": [
    "#created test/trian/val split fo the data\n",
    "X, X_test, y, y_test = train_test_split(X, y, test_size=0.2, random_state=7)\n",
    "X_train, X_val, y_train, y_val = train_test_split(X, y, test_size=0.25, random_state=7)"
   ]
  },
  {
   "cell_type": "code",
   "execution_count": 69,
   "metadata": {},
   "outputs": [
    {
     "data": {
      "text/plain": [
       "(2649, 81)"
      ]
     },
     "execution_count": 69,
     "metadata": {},
     "output_type": "execute_result"
    }
   ],
   "source": [
    "X_train.shape"
   ]
  },
  {
   "cell_type": "code",
   "execution_count": 39,
   "metadata": {},
   "outputs": [
    {
     "data": {
      "text/plain": [
       "(883, 81)"
      ]
     },
     "execution_count": 39,
     "metadata": {},
     "output_type": "execute_result"
    }
   ],
   "source": [
    "X_test.shape"
   ]
  },
  {
   "cell_type": "code",
   "execution_count": 44,
   "metadata": {},
   "outputs": [
    {
     "data": {
      "text/plain": [
       "(3532, 81)"
      ]
     },
     "execution_count": 44,
     "metadata": {},
     "output_type": "execute_result"
    }
   ],
   "source": [
    "X.shape"
   ]
  },
  {
   "cell_type": "code",
   "execution_count": 42,
   "metadata": {},
   "outputs": [
    {
     "data": {
      "text/plain": [
       "(883, 81)"
      ]
     },
     "execution_count": 42,
     "metadata": {},
     "output_type": "execute_result"
    }
   ],
   "source": [
    "X_val.shape"
   ]
  },
  {
   "cell_type": "code",
   "execution_count": 70,
   "metadata": {},
   "outputs": [
    {
     "data": {
      "text/plain": [
       "0.08281277548208554"
      ]
     },
     "execution_count": 70,
     "metadata": {},
     "output_type": "execute_result"
    }
   ],
   "source": [
    "lr = LinearRegression()\n",
    "lr.fit(X_train,y_train)\n",
    "lr.score(X_train,y_train)"
   ]
  },
  {
   "cell_type": "code",
   "execution_count": 71,
   "metadata": {},
   "outputs": [
    {
     "data": {
      "text/plain": [
       "0.3870690392683148"
      ]
     },
     "execution_count": 71,
     "metadata": {},
     "output_type": "execute_result"
    }
   ],
   "source": [
    "#adding polynomial features, for the interactions, and to see the impact on the score\n",
    "poly = PolynomialFeatures(degree=2)\n",
    "X_train_poly = poly.fit_transform(X_train)\n",
    "\n",
    "# Apply polynomial transformation to val set\n",
    "X_val_poly = poly.transform(X_val)\n",
    "\n",
    "# Fit a model using polynomial features\n",
    "lr_poly = LinearRegression()\n",
    "lr_poly.fit(X_train_poly,y_train)\n",
    "lr_poly.score(X_train_poly,y_train)"
   ]
  },
  {
   "cell_type": "code",
   "execution_count": 51,
   "metadata": {},
   "outputs": [],
   "source": [
    "#noiced year released had a log relationship in previous work,\n",
    "#adding log year column to see if it increases."
   ]
  },
  {
   "cell_type": "code",
   "execution_count": 72,
   "metadata": {},
   "outputs": [
    {
     "data": {
      "text/plain": [
       "-5572934221.314723"
      ]
     },
     "execution_count": 72,
     "metadata": {},
     "output_type": "execute_result"
    }
   ],
   "source": [
    "lr_poly.score(X_val_poly,y_val)"
   ]
  },
  {
   "cell_type": "code",
   "execution_count": 64,
   "metadata": {},
   "outputs": [],
   "source": [
    "scaler = StandardScaler()"
   ]
  },
  {
   "cell_type": "code",
   "execution_count": 65,
   "metadata": {},
   "outputs": [],
   "source": [
    "scaler = StandardScaler()\n",
    "X_train_poly_scaled = scaler.fit_transform(X_train_poly)\n",
    "\n"
   ]
  },
  {
   "cell_type": "code",
   "execution_count": 73,
   "metadata": {},
   "outputs": [
    {
     "name": "stderr",
     "output_type": "stream",
     "text": [
      "/usr/local/anaconda3/lib/python3.8/site-packages/sklearn/linear_model/_coordinate_descent.py:529: ConvergenceWarning: Objective did not converge. You might want to increase the number of iterations. Duality gap: 3406716131.2998047, tolerance: 520719158.24291235\n",
      "  model = cd_fast.enet_coordinate_descent(\n",
      "/usr/local/anaconda3/lib/python3.8/site-packages/sklearn/linear_model/_coordinate_descent.py:529: ConvergenceWarning: Objective did not converge. You might want to increase the number of iterations. Duality gap: 3567127008.8793945, tolerance: 520719158.24291235\n",
      "  model = cd_fast.enet_coordinate_descent(\n",
      "/usr/local/anaconda3/lib/python3.8/site-packages/sklearn/linear_model/_coordinate_descent.py:529: ConvergenceWarning: Objective did not converge. You might want to increase the number of iterations. Duality gap: 4666989015.991211, tolerance: 520719158.24291235\n",
      "  model = cd_fast.enet_coordinate_descent(\n",
      "/usr/local/anaconda3/lib/python3.8/site-packages/sklearn/linear_model/_coordinate_descent.py:529: ConvergenceWarning: Objective did not converge. You might want to increase the number of iterations. Duality gap: 5054244623.099121, tolerance: 520719158.24291235\n",
      "  model = cd_fast.enet_coordinate_descent(\n",
      "/usr/local/anaconda3/lib/python3.8/site-packages/sklearn/linear_model/_coordinate_descent.py:529: ConvergenceWarning: Objective did not converge. You might want to increase the number of iterations. Duality gap: 5262807664.703125, tolerance: 520719158.24291235\n",
      "  model = cd_fast.enet_coordinate_descent(\n",
      "/usr/local/anaconda3/lib/python3.8/site-packages/sklearn/linear_model/_coordinate_descent.py:529: ConvergenceWarning: Objective did not converge. You might want to increase the number of iterations. Duality gap: 4110425708.4887695, tolerance: 520719158.24291235\n",
      "  model = cd_fast.enet_coordinate_descent(\n",
      "/usr/local/anaconda3/lib/python3.8/site-packages/sklearn/linear_model/_coordinate_descent.py:529: ConvergenceWarning: Objective did not converge. You might want to increase the number of iterations. Duality gap: 4659230675.746582, tolerance: 520719158.24291235\n",
      "  model = cd_fast.enet_coordinate_descent(\n",
      "/usr/local/anaconda3/lib/python3.8/site-packages/sklearn/linear_model/_coordinate_descent.py:529: ConvergenceWarning: Objective did not converge. You might want to increase the number of iterations. Duality gap: 5104061845.249023, tolerance: 520719158.24291235\n",
      "  model = cd_fast.enet_coordinate_descent(\n",
      "/usr/local/anaconda3/lib/python3.8/site-packages/sklearn/linear_model/_coordinate_descent.py:529: ConvergenceWarning: Objective did not converge. You might want to increase the number of iterations. Duality gap: 5354902253.823242, tolerance: 520719158.24291235\n",
      "  model = cd_fast.enet_coordinate_descent(\n",
      "/usr/local/anaconda3/lib/python3.8/site-packages/sklearn/linear_model/_coordinate_descent.py:529: ConvergenceWarning: Objective did not converge. You might want to increase the number of iterations. Duality gap: 5667130575.478027, tolerance: 520719158.24291235\n",
      "  model = cd_fast.enet_coordinate_descent(\n",
      "/usr/local/anaconda3/lib/python3.8/site-packages/sklearn/linear_model/_coordinate_descent.py:529: ConvergenceWarning: Objective did not converge. You might want to increase the number of iterations. Duality gap: 5185562438.972656, tolerance: 520719158.24291235\n",
      "  model = cd_fast.enet_coordinate_descent(\n",
      "/usr/local/anaconda3/lib/python3.8/site-packages/sklearn/linear_model/_coordinate_descent.py:529: ConvergenceWarning: Objective did not converge. You might want to increase the number of iterations. Duality gap: 5606856204.980469, tolerance: 520719158.24291235\n",
      "  model = cd_fast.enet_coordinate_descent(\n",
      "/usr/local/anaconda3/lib/python3.8/site-packages/sklearn/linear_model/_coordinate_descent.py:529: ConvergenceWarning: Objective did not converge. You might want to increase the number of iterations. Duality gap: 10580097983.38916, tolerance: 520719158.24291235\n",
      "  model = cd_fast.enet_coordinate_descent(\n",
      "/usr/local/anaconda3/lib/python3.8/site-packages/sklearn/linear_model/_coordinate_descent.py:529: ConvergenceWarning: Objective did not converge. You might want to increase the number of iterations. Duality gap: 21946771583.54297, tolerance: 520719158.24291235\n",
      "  model = cd_fast.enet_coordinate_descent(\n",
      "/usr/local/anaconda3/lib/python3.8/site-packages/sklearn/linear_model/_coordinate_descent.py:529: ConvergenceWarning: Objective did not converge. You might want to increase the number of iterations. Duality gap: 27147273007.117676, tolerance: 520719158.24291235\n",
      "  model = cd_fast.enet_coordinate_descent(\n",
      "/usr/local/anaconda3/lib/python3.8/site-packages/sklearn/linear_model/_coordinate_descent.py:529: ConvergenceWarning: Objective did not converge. You might want to increase the number of iterations. Duality gap: 29158104308.99707, tolerance: 520719158.24291235\n",
      "  model = cd_fast.enet_coordinate_descent(\n",
      "/usr/local/anaconda3/lib/python3.8/site-packages/sklearn/linear_model/_coordinate_descent.py:529: ConvergenceWarning: Objective did not converge. You might want to increase the number of iterations. Duality gap: 29775582599.103516, tolerance: 520719158.24291235\n",
      "  model = cd_fast.enet_coordinate_descent(\n",
      "/usr/local/anaconda3/lib/python3.8/site-packages/sklearn/linear_model/_coordinate_descent.py:529: ConvergenceWarning: Objective did not converge. You might want to increase the number of iterations. Duality gap: 29860116315.6416, tolerance: 520719158.24291235\n",
      "  model = cd_fast.enet_coordinate_descent(\n",
      "/usr/local/anaconda3/lib/python3.8/site-packages/sklearn/linear_model/_coordinate_descent.py:529: ConvergenceWarning: Objective did not converge. You might want to increase the number of iterations. Duality gap: 29738558703.774902, tolerance: 520719158.24291235\n",
      "  model = cd_fast.enet_coordinate_descent(\n",
      "/usr/local/anaconda3/lib/python3.8/site-packages/sklearn/linear_model/_coordinate_descent.py:529: ConvergenceWarning: Objective did not converge. You might want to increase the number of iterations. Duality gap: 29500742749.172363, tolerance: 520719158.24291235\n",
      "  model = cd_fast.enet_coordinate_descent(\n",
      "/usr/local/anaconda3/lib/python3.8/site-packages/sklearn/linear_model/_coordinate_descent.py:529: ConvergenceWarning: Objective did not converge. You might want to increase the number of iterations. Duality gap: 29172050541.470215, tolerance: 520719158.24291235\n",
      "  model = cd_fast.enet_coordinate_descent(\n",
      "/usr/local/anaconda3/lib/python3.8/site-packages/sklearn/linear_model/_coordinate_descent.py:529: ConvergenceWarning: Objective did not converge. You might want to increase the number of iterations. Duality gap: 1023135383.9238281, tolerance: 496231460.04495776\n",
      "  model = cd_fast.enet_coordinate_descent(\n",
      "/usr/local/anaconda3/lib/python3.8/site-packages/sklearn/linear_model/_coordinate_descent.py:529: ConvergenceWarning: Objective did not converge. You might want to increase the number of iterations. Duality gap: 1069813717.5283203, tolerance: 496231460.04495776\n",
      "  model = cd_fast.enet_coordinate_descent(\n",
      "/usr/local/anaconda3/lib/python3.8/site-packages/sklearn/linear_model/_coordinate_descent.py:529: ConvergenceWarning: Objective did not converge. You might want to increase the number of iterations. Duality gap: 1208607333.4389648, tolerance: 496231460.04495776\n",
      "  model = cd_fast.enet_coordinate_descent(\n",
      "/usr/local/anaconda3/lib/python3.8/site-packages/sklearn/linear_model/_coordinate_descent.py:529: ConvergenceWarning: Objective did not converge. You might want to increase the number of iterations. Duality gap: 1277136396.5395508, tolerance: 496231460.04495776\n",
      "  model = cd_fast.enet_coordinate_descent(\n",
      "/usr/local/anaconda3/lib/python3.8/site-packages/sklearn/linear_model/_coordinate_descent.py:529: ConvergenceWarning: Objective did not converge. You might want to increase the number of iterations. Duality gap: 1352423093.4526367, tolerance: 496231460.04495776\n",
      "  model = cd_fast.enet_coordinate_descent(\n",
      "/usr/local/anaconda3/lib/python3.8/site-packages/sklearn/linear_model/_coordinate_descent.py:529: ConvergenceWarning: Objective did not converge. You might want to increase the number of iterations. Duality gap: 1448058616.7167969, tolerance: 496231460.04495776\n",
      "  model = cd_fast.enet_coordinate_descent(\n",
      "/usr/local/anaconda3/lib/python3.8/site-packages/sklearn/linear_model/_coordinate_descent.py:529: ConvergenceWarning: Objective did not converge. You might want to increase the number of iterations. Duality gap: 568335240.7314453, tolerance: 496231460.04495776\n",
      "  model = cd_fast.enet_coordinate_descent(\n",
      "/usr/local/anaconda3/lib/python3.8/site-packages/sklearn/linear_model/_coordinate_descent.py:529: ConvergenceWarning: Objective did not converge. You might want to increase the number of iterations. Duality gap: 507490217.3725586, tolerance: 496231460.04495776\n",
      "  model = cd_fast.enet_coordinate_descent(\n",
      "/usr/local/anaconda3/lib/python3.8/site-packages/sklearn/linear_model/_coordinate_descent.py:529: ConvergenceWarning: Objective did not converge. You might want to increase the number of iterations. Duality gap: 562879427.8305664, tolerance: 496231460.04495776\n",
      "  model = cd_fast.enet_coordinate_descent(\n",
      "/usr/local/anaconda3/lib/python3.8/site-packages/sklearn/linear_model/_coordinate_descent.py:529: ConvergenceWarning: Objective did not converge. You might want to increase the number of iterations. Duality gap: 623557231.1967773, tolerance: 496231460.04495776\n",
      "  model = cd_fast.enet_coordinate_descent(\n",
      "/usr/local/anaconda3/lib/python3.8/site-packages/sklearn/linear_model/_coordinate_descent.py:529: ConvergenceWarning: Objective did not converge. You might want to increase the number of iterations. Duality gap: 688371286.8994141, tolerance: 496231460.04495776\n",
      "  model = cd_fast.enet_coordinate_descent(\n",
      "/usr/local/anaconda3/lib/python3.8/site-packages/sklearn/linear_model/_coordinate_descent.py:529: ConvergenceWarning: Objective did not converge. You might want to increase the number of iterations. Duality gap: 745845001.3139648, tolerance: 496231460.04495776\n",
      "  model = cd_fast.enet_coordinate_descent(\n",
      "/usr/local/anaconda3/lib/python3.8/site-packages/sklearn/linear_model/_coordinate_descent.py:529: ConvergenceWarning: Objective did not converge. You might want to increase the number of iterations. Duality gap: 2004798509.1113281, tolerance: 496231460.04495776\n",
      "  model = cd_fast.enet_coordinate_descent(\n",
      "/usr/local/anaconda3/lib/python3.8/site-packages/sklearn/linear_model/_coordinate_descent.py:529: ConvergenceWarning: Objective did not converge. You might want to increase the number of iterations. Duality gap: 1208208489.305664, tolerance: 496231460.04495776\n",
      "  model = cd_fast.enet_coordinate_descent(\n",
      "/usr/local/anaconda3/lib/python3.8/site-packages/sklearn/linear_model/_coordinate_descent.py:529: ConvergenceWarning: Objective did not converge. You might want to increase the number of iterations. Duality gap: 1440991957.2583008, tolerance: 496231460.04495776\n",
      "  model = cd_fast.enet_coordinate_descent(\n",
      "/usr/local/anaconda3/lib/python3.8/site-packages/sklearn/linear_model/_coordinate_descent.py:529: ConvergenceWarning: Objective did not converge. You might want to increase the number of iterations. Duality gap: 1010230437.934082, tolerance: 553044520.9419436\n",
      "  model = cd_fast.enet_coordinate_descent(\n",
      "/usr/local/anaconda3/lib/python3.8/site-packages/sklearn/linear_model/_coordinate_descent.py:529: ConvergenceWarning: Objective did not converge. You might want to increase the number of iterations. Duality gap: 1001470398.9995117, tolerance: 553044520.9419436\n",
      "  model = cd_fast.enet_coordinate_descent(\n",
      "/usr/local/anaconda3/lib/python3.8/site-packages/sklearn/linear_model/_coordinate_descent.py:529: ConvergenceWarning: Objective did not converge. You might want to increase the number of iterations. Duality gap: 984197257.9956055, tolerance: 553044520.9419436\n",
      "  model = cd_fast.enet_coordinate_descent(\n"
     ]
    },
    {
     "ename": "KeyboardInterrupt",
     "evalue": "",
     "output_type": "error",
     "traceback": [
      "\u001b[0;31m---------------------------------------------------------------------------\u001b[0m",
      "\u001b[0;31mKeyboardInterrupt\u001b[0m                         Traceback (most recent call last)",
      "\u001b[0;32m<ipython-input-73-70e8f812197f>\u001b[0m in \u001b[0;36m<module>\u001b[0;34m\u001b[0m\n\u001b[1;32m      8\u001b[0m \u001b[0;31m# Fit a LASSO model using polynomial features\u001b[0m\u001b[0;34m\u001b[0m\u001b[0;34m\u001b[0m\u001b[0;34m\u001b[0m\u001b[0m\n\u001b[1;32m      9\u001b[0m \u001b[0mlasso\u001b[0m \u001b[0;34m=\u001b[0m \u001b[0mLassoCV\u001b[0m\u001b[0;34m(\u001b[0m\u001b[0;34m)\u001b[0m\u001b[0;34m\u001b[0m\u001b[0;34m\u001b[0m\u001b[0m\n\u001b[0;32m---> 10\u001b[0;31m \u001b[0mlasso\u001b[0m\u001b[0;34m.\u001b[0m\u001b[0mfit\u001b[0m\u001b[0;34m(\u001b[0m\u001b[0mX_train_poly_scaled\u001b[0m\u001b[0;34m,\u001b[0m\u001b[0my_train\u001b[0m\u001b[0;34m)\u001b[0m\u001b[0;34m\u001b[0m\u001b[0;34m\u001b[0m\u001b[0m\n\u001b[0m\u001b[1;32m     11\u001b[0m \u001b[0mlasso\u001b[0m\u001b[0;34m.\u001b[0m\u001b[0mscore\u001b[0m\u001b[0;34m(\u001b[0m\u001b[0mX_train_poly_scaled\u001b[0m\u001b[0;34m,\u001b[0m\u001b[0my_train\u001b[0m\u001b[0;34m)\u001b[0m\u001b[0;34m\u001b[0m\u001b[0;34m\u001b[0m\u001b[0m\n",
      "\u001b[0;32m/usr/local/anaconda3/lib/python3.8/site-packages/sklearn/linear_model/_coordinate_descent.py\u001b[0m in \u001b[0;36mfit\u001b[0;34m(self, X, y)\u001b[0m\n\u001b[1;32m   1299\u001b[0m                 \u001b[0;32mfor\u001b[0m \u001b[0mthis_l1_ratio\u001b[0m\u001b[0;34m,\u001b[0m \u001b[0mthis_alphas\u001b[0m \u001b[0;32min\u001b[0m \u001b[0mzip\u001b[0m\u001b[0;34m(\u001b[0m\u001b[0ml1_ratios\u001b[0m\u001b[0;34m,\u001b[0m \u001b[0malphas\u001b[0m\u001b[0;34m)\u001b[0m\u001b[0;34m\u001b[0m\u001b[0;34m\u001b[0m\u001b[0m\n\u001b[1;32m   1300\u001b[0m                 for train, test in folds)\n\u001b[0;32m-> 1301\u001b[0;31m         mse_paths = Parallel(n_jobs=self.n_jobs, verbose=self.verbose,\n\u001b[0m\u001b[1;32m   1302\u001b[0m                              **_joblib_parallel_args(prefer=\"threads\"))(jobs)\n\u001b[1;32m   1303\u001b[0m         \u001b[0mmse_paths\u001b[0m \u001b[0;34m=\u001b[0m \u001b[0mnp\u001b[0m\u001b[0;34m.\u001b[0m\u001b[0mreshape\u001b[0m\u001b[0;34m(\u001b[0m\u001b[0mmse_paths\u001b[0m\u001b[0;34m,\u001b[0m \u001b[0;34m(\u001b[0m\u001b[0mn_l1_ratio\u001b[0m\u001b[0;34m,\u001b[0m \u001b[0mlen\u001b[0m\u001b[0;34m(\u001b[0m\u001b[0mfolds\u001b[0m\u001b[0;34m)\u001b[0m\u001b[0;34m,\u001b[0m \u001b[0;34m-\u001b[0m\u001b[0;36m1\u001b[0m\u001b[0;34m)\u001b[0m\u001b[0;34m)\u001b[0m\u001b[0;34m\u001b[0m\u001b[0;34m\u001b[0m\u001b[0m\n",
      "\u001b[0;32m/usr/local/anaconda3/lib/python3.8/site-packages/joblib/parallel.py\u001b[0m in \u001b[0;36m__call__\u001b[0;34m(self, iterable)\u001b[0m\n\u001b[1;32m   1049\u001b[0m                 \u001b[0mself\u001b[0m\u001b[0;34m.\u001b[0m\u001b[0m_iterating\u001b[0m \u001b[0;34m=\u001b[0m \u001b[0mself\u001b[0m\u001b[0;34m.\u001b[0m\u001b[0m_original_iterator\u001b[0m \u001b[0;32mis\u001b[0m \u001b[0;32mnot\u001b[0m \u001b[0;32mNone\u001b[0m\u001b[0;34m\u001b[0m\u001b[0;34m\u001b[0m\u001b[0m\n\u001b[1;32m   1050\u001b[0m \u001b[0;34m\u001b[0m\u001b[0m\n\u001b[0;32m-> 1051\u001b[0;31m             \u001b[0;32mwhile\u001b[0m \u001b[0mself\u001b[0m\u001b[0;34m.\u001b[0m\u001b[0mdispatch_one_batch\u001b[0m\u001b[0;34m(\u001b[0m\u001b[0miterator\u001b[0m\u001b[0;34m)\u001b[0m\u001b[0;34m:\u001b[0m\u001b[0;34m\u001b[0m\u001b[0;34m\u001b[0m\u001b[0m\n\u001b[0m\u001b[1;32m   1052\u001b[0m                 \u001b[0;32mpass\u001b[0m\u001b[0;34m\u001b[0m\u001b[0;34m\u001b[0m\u001b[0m\n\u001b[1;32m   1053\u001b[0m \u001b[0;34m\u001b[0m\u001b[0m\n",
      "\u001b[0;32m/usr/local/anaconda3/lib/python3.8/site-packages/joblib/parallel.py\u001b[0m in \u001b[0;36mdispatch_one_batch\u001b[0;34m(self, iterator)\u001b[0m\n\u001b[1;32m    864\u001b[0m                 \u001b[0;32mreturn\u001b[0m \u001b[0;32mFalse\u001b[0m\u001b[0;34m\u001b[0m\u001b[0;34m\u001b[0m\u001b[0m\n\u001b[1;32m    865\u001b[0m             \u001b[0;32melse\u001b[0m\u001b[0;34m:\u001b[0m\u001b[0;34m\u001b[0m\u001b[0;34m\u001b[0m\u001b[0m\n\u001b[0;32m--> 866\u001b[0;31m                 \u001b[0mself\u001b[0m\u001b[0;34m.\u001b[0m\u001b[0m_dispatch\u001b[0m\u001b[0;34m(\u001b[0m\u001b[0mtasks\u001b[0m\u001b[0;34m)\u001b[0m\u001b[0;34m\u001b[0m\u001b[0;34m\u001b[0m\u001b[0m\n\u001b[0m\u001b[1;32m    867\u001b[0m                 \u001b[0;32mreturn\u001b[0m \u001b[0;32mTrue\u001b[0m\u001b[0;34m\u001b[0m\u001b[0;34m\u001b[0m\u001b[0m\n\u001b[1;32m    868\u001b[0m \u001b[0;34m\u001b[0m\u001b[0m\n",
      "\u001b[0;32m/usr/local/anaconda3/lib/python3.8/site-packages/joblib/parallel.py\u001b[0m in \u001b[0;36m_dispatch\u001b[0;34m(self, batch)\u001b[0m\n\u001b[1;32m    782\u001b[0m         \u001b[0;32mwith\u001b[0m \u001b[0mself\u001b[0m\u001b[0;34m.\u001b[0m\u001b[0m_lock\u001b[0m\u001b[0;34m:\u001b[0m\u001b[0;34m\u001b[0m\u001b[0;34m\u001b[0m\u001b[0m\n\u001b[1;32m    783\u001b[0m             \u001b[0mjob_idx\u001b[0m \u001b[0;34m=\u001b[0m \u001b[0mlen\u001b[0m\u001b[0;34m(\u001b[0m\u001b[0mself\u001b[0m\u001b[0;34m.\u001b[0m\u001b[0m_jobs\u001b[0m\u001b[0;34m)\u001b[0m\u001b[0;34m\u001b[0m\u001b[0;34m\u001b[0m\u001b[0m\n\u001b[0;32m--> 784\u001b[0;31m             \u001b[0mjob\u001b[0m \u001b[0;34m=\u001b[0m \u001b[0mself\u001b[0m\u001b[0;34m.\u001b[0m\u001b[0m_backend\u001b[0m\u001b[0;34m.\u001b[0m\u001b[0mapply_async\u001b[0m\u001b[0;34m(\u001b[0m\u001b[0mbatch\u001b[0m\u001b[0;34m,\u001b[0m \u001b[0mcallback\u001b[0m\u001b[0;34m=\u001b[0m\u001b[0mcb\u001b[0m\u001b[0;34m)\u001b[0m\u001b[0;34m\u001b[0m\u001b[0;34m\u001b[0m\u001b[0m\n\u001b[0m\u001b[1;32m    785\u001b[0m             \u001b[0;31m# A job can complete so quickly than its callback is\u001b[0m\u001b[0;34m\u001b[0m\u001b[0;34m\u001b[0m\u001b[0;34m\u001b[0m\u001b[0m\n\u001b[1;32m    786\u001b[0m             \u001b[0;31m# called before we get here, causing self._jobs to\u001b[0m\u001b[0;34m\u001b[0m\u001b[0;34m\u001b[0m\u001b[0;34m\u001b[0m\u001b[0m\n",
      "\u001b[0;32m/usr/local/anaconda3/lib/python3.8/site-packages/joblib/_parallel_backends.py\u001b[0m in \u001b[0;36mapply_async\u001b[0;34m(self, func, callback)\u001b[0m\n\u001b[1;32m    206\u001b[0m     \u001b[0;32mdef\u001b[0m \u001b[0mapply_async\u001b[0m\u001b[0;34m(\u001b[0m\u001b[0mself\u001b[0m\u001b[0;34m,\u001b[0m \u001b[0mfunc\u001b[0m\u001b[0;34m,\u001b[0m \u001b[0mcallback\u001b[0m\u001b[0;34m=\u001b[0m\u001b[0;32mNone\u001b[0m\u001b[0;34m)\u001b[0m\u001b[0;34m:\u001b[0m\u001b[0;34m\u001b[0m\u001b[0;34m\u001b[0m\u001b[0m\n\u001b[1;32m    207\u001b[0m         \u001b[0;34m\"\"\"Schedule a func to be run\"\"\"\u001b[0m\u001b[0;34m\u001b[0m\u001b[0;34m\u001b[0m\u001b[0m\n\u001b[0;32m--> 208\u001b[0;31m         \u001b[0mresult\u001b[0m \u001b[0;34m=\u001b[0m \u001b[0mImmediateResult\u001b[0m\u001b[0;34m(\u001b[0m\u001b[0mfunc\u001b[0m\u001b[0;34m)\u001b[0m\u001b[0;34m\u001b[0m\u001b[0;34m\u001b[0m\u001b[0m\n\u001b[0m\u001b[1;32m    209\u001b[0m         \u001b[0;32mif\u001b[0m \u001b[0mcallback\u001b[0m\u001b[0;34m:\u001b[0m\u001b[0;34m\u001b[0m\u001b[0;34m\u001b[0m\u001b[0m\n\u001b[1;32m    210\u001b[0m             \u001b[0mcallback\u001b[0m\u001b[0;34m(\u001b[0m\u001b[0mresult\u001b[0m\u001b[0;34m)\u001b[0m\u001b[0;34m\u001b[0m\u001b[0;34m\u001b[0m\u001b[0m\n",
      "\u001b[0;32m/usr/local/anaconda3/lib/python3.8/site-packages/joblib/_parallel_backends.py\u001b[0m in \u001b[0;36m__init__\u001b[0;34m(self, batch)\u001b[0m\n\u001b[1;32m    570\u001b[0m         \u001b[0;31m# Don't delay the application, to avoid keeping the input\u001b[0m\u001b[0;34m\u001b[0m\u001b[0;34m\u001b[0m\u001b[0;34m\u001b[0m\u001b[0m\n\u001b[1;32m    571\u001b[0m         \u001b[0;31m# arguments in memory\u001b[0m\u001b[0;34m\u001b[0m\u001b[0;34m\u001b[0m\u001b[0;34m\u001b[0m\u001b[0m\n\u001b[0;32m--> 572\u001b[0;31m         \u001b[0mself\u001b[0m\u001b[0;34m.\u001b[0m\u001b[0mresults\u001b[0m \u001b[0;34m=\u001b[0m \u001b[0mbatch\u001b[0m\u001b[0;34m(\u001b[0m\u001b[0;34m)\u001b[0m\u001b[0;34m\u001b[0m\u001b[0;34m\u001b[0m\u001b[0m\n\u001b[0m\u001b[1;32m    573\u001b[0m \u001b[0;34m\u001b[0m\u001b[0m\n\u001b[1;32m    574\u001b[0m     \u001b[0;32mdef\u001b[0m \u001b[0mget\u001b[0m\u001b[0;34m(\u001b[0m\u001b[0mself\u001b[0m\u001b[0;34m)\u001b[0m\u001b[0;34m:\u001b[0m\u001b[0;34m\u001b[0m\u001b[0;34m\u001b[0m\u001b[0m\n",
      "\u001b[0;32m/usr/local/anaconda3/lib/python3.8/site-packages/joblib/parallel.py\u001b[0m in \u001b[0;36m__call__\u001b[0;34m(self)\u001b[0m\n\u001b[1;32m    260\u001b[0m         \u001b[0;31m# change the default number of processes to -1\u001b[0m\u001b[0;34m\u001b[0m\u001b[0;34m\u001b[0m\u001b[0;34m\u001b[0m\u001b[0m\n\u001b[1;32m    261\u001b[0m         \u001b[0;32mwith\u001b[0m \u001b[0mparallel_backend\u001b[0m\u001b[0;34m(\u001b[0m\u001b[0mself\u001b[0m\u001b[0;34m.\u001b[0m\u001b[0m_backend\u001b[0m\u001b[0;34m,\u001b[0m \u001b[0mn_jobs\u001b[0m\u001b[0;34m=\u001b[0m\u001b[0mself\u001b[0m\u001b[0;34m.\u001b[0m\u001b[0m_n_jobs\u001b[0m\u001b[0;34m)\u001b[0m\u001b[0;34m:\u001b[0m\u001b[0;34m\u001b[0m\u001b[0;34m\u001b[0m\u001b[0m\n\u001b[0;32m--> 262\u001b[0;31m             return [func(*args, **kwargs)\n\u001b[0m\u001b[1;32m    263\u001b[0m                     for func, args, kwargs in self.items]\n\u001b[1;32m    264\u001b[0m \u001b[0;34m\u001b[0m\u001b[0m\n",
      "\u001b[0;32m/usr/local/anaconda3/lib/python3.8/site-packages/joblib/parallel.py\u001b[0m in \u001b[0;36m<listcomp>\u001b[0;34m(.0)\u001b[0m\n\u001b[1;32m    260\u001b[0m         \u001b[0;31m# change the default number of processes to -1\u001b[0m\u001b[0;34m\u001b[0m\u001b[0;34m\u001b[0m\u001b[0;34m\u001b[0m\u001b[0m\n\u001b[1;32m    261\u001b[0m         \u001b[0;32mwith\u001b[0m \u001b[0mparallel_backend\u001b[0m\u001b[0;34m(\u001b[0m\u001b[0mself\u001b[0m\u001b[0;34m.\u001b[0m\u001b[0m_backend\u001b[0m\u001b[0;34m,\u001b[0m \u001b[0mn_jobs\u001b[0m\u001b[0;34m=\u001b[0m\u001b[0mself\u001b[0m\u001b[0;34m.\u001b[0m\u001b[0m_n_jobs\u001b[0m\u001b[0;34m)\u001b[0m\u001b[0;34m:\u001b[0m\u001b[0;34m\u001b[0m\u001b[0;34m\u001b[0m\u001b[0m\n\u001b[0;32m--> 262\u001b[0;31m             return [func(*args, **kwargs)\n\u001b[0m\u001b[1;32m    263\u001b[0m                     for func, args, kwargs in self.items]\n\u001b[1;32m    264\u001b[0m \u001b[0;34m\u001b[0m\u001b[0m\n",
      "\u001b[0;32m/usr/local/anaconda3/lib/python3.8/site-packages/sklearn/linear_model/_coordinate_descent.py\u001b[0m in \u001b[0;36m_path_residuals\u001b[0;34m(X, y, train, test, path, path_params, alphas, l1_ratio, X_order, dtype)\u001b[0m\n\u001b[1;32m   1109\u001b[0m     X_train = check_array(X_train, accept_sparse='csc', dtype=dtype,\n\u001b[1;32m   1110\u001b[0m                           order=X_order)\n\u001b[0;32m-> 1111\u001b[0;31m     \u001b[0malphas\u001b[0m\u001b[0;34m,\u001b[0m \u001b[0mcoefs\u001b[0m\u001b[0;34m,\u001b[0m \u001b[0m_\u001b[0m \u001b[0;34m=\u001b[0m \u001b[0mpath\u001b[0m\u001b[0;34m(\u001b[0m\u001b[0mX_train\u001b[0m\u001b[0;34m,\u001b[0m \u001b[0my_train\u001b[0m\u001b[0;34m,\u001b[0m \u001b[0;34m**\u001b[0m\u001b[0mpath_params\u001b[0m\u001b[0;34m)\u001b[0m\u001b[0;34m\u001b[0m\u001b[0;34m\u001b[0m\u001b[0m\n\u001b[0m\u001b[1;32m   1112\u001b[0m     \u001b[0;32mdel\u001b[0m \u001b[0mX_train\u001b[0m\u001b[0;34m,\u001b[0m \u001b[0my_train\u001b[0m\u001b[0;34m\u001b[0m\u001b[0;34m\u001b[0m\u001b[0m\n\u001b[1;32m   1113\u001b[0m \u001b[0;34m\u001b[0m\u001b[0m\n",
      "\u001b[0;32m/usr/local/anaconda3/lib/python3.8/site-packages/sklearn/utils/validation.py\u001b[0m in \u001b[0;36minner_f\u001b[0;34m(*args, **kwargs)\u001b[0m\n\u001b[1;32m     70\u001b[0m                           FutureWarning)\n\u001b[1;32m     71\u001b[0m         \u001b[0mkwargs\u001b[0m\u001b[0;34m.\u001b[0m\u001b[0mupdate\u001b[0m\u001b[0;34m(\u001b[0m\u001b[0;34m{\u001b[0m\u001b[0mk\u001b[0m\u001b[0;34m:\u001b[0m \u001b[0marg\u001b[0m \u001b[0;32mfor\u001b[0m \u001b[0mk\u001b[0m\u001b[0;34m,\u001b[0m \u001b[0marg\u001b[0m \u001b[0;32min\u001b[0m \u001b[0mzip\u001b[0m\u001b[0;34m(\u001b[0m\u001b[0msig\u001b[0m\u001b[0;34m.\u001b[0m\u001b[0mparameters\u001b[0m\u001b[0;34m,\u001b[0m \u001b[0margs\u001b[0m\u001b[0;34m)\u001b[0m\u001b[0;34m}\u001b[0m\u001b[0;34m)\u001b[0m\u001b[0;34m\u001b[0m\u001b[0;34m\u001b[0m\u001b[0m\n\u001b[0;32m---> 72\u001b[0;31m         \u001b[0;32mreturn\u001b[0m \u001b[0mf\u001b[0m\u001b[0;34m(\u001b[0m\u001b[0;34m**\u001b[0m\u001b[0mkwargs\u001b[0m\u001b[0;34m)\u001b[0m\u001b[0;34m\u001b[0m\u001b[0;34m\u001b[0m\u001b[0m\n\u001b[0m\u001b[1;32m     73\u001b[0m     \u001b[0;32mreturn\u001b[0m \u001b[0minner_f\u001b[0m\u001b[0;34m\u001b[0m\u001b[0;34m\u001b[0m\u001b[0m\n\u001b[1;32m     74\u001b[0m \u001b[0;34m\u001b[0m\u001b[0m\n",
      "\u001b[0;32m/usr/local/anaconda3/lib/python3.8/site-packages/sklearn/linear_model/_coordinate_descent.py\u001b[0m in \u001b[0;36mlasso_path\u001b[0;34m(X, y, eps, n_alphas, alphas, precompute, Xy, copy_X, coef_init, verbose, return_n_iter, positive, **params)\u001b[0m\n\u001b[1;32m    309\u001b[0m     \u001b[0msklearn\u001b[0m\u001b[0;34m.\u001b[0m\u001b[0mdecomposition\u001b[0m\u001b[0;34m.\u001b[0m\u001b[0msparse_encode\u001b[0m\u001b[0;34m\u001b[0m\u001b[0;34m\u001b[0m\u001b[0m\n\u001b[1;32m    310\u001b[0m     \"\"\"\n\u001b[0;32m--> 311\u001b[0;31m     return enet_path(X, y, l1_ratio=1., eps=eps, n_alphas=n_alphas,\n\u001b[0m\u001b[1;32m    312\u001b[0m                      \u001b[0malphas\u001b[0m\u001b[0;34m=\u001b[0m\u001b[0malphas\u001b[0m\u001b[0;34m,\u001b[0m \u001b[0mprecompute\u001b[0m\u001b[0;34m=\u001b[0m\u001b[0mprecompute\u001b[0m\u001b[0;34m,\u001b[0m \u001b[0mXy\u001b[0m\u001b[0;34m=\u001b[0m\u001b[0mXy\u001b[0m\u001b[0;34m,\u001b[0m\u001b[0;34m\u001b[0m\u001b[0;34m\u001b[0m\u001b[0m\n\u001b[1;32m    313\u001b[0m                      \u001b[0mcopy_X\u001b[0m\u001b[0;34m=\u001b[0m\u001b[0mcopy_X\u001b[0m\u001b[0;34m,\u001b[0m \u001b[0mcoef_init\u001b[0m\u001b[0;34m=\u001b[0m\u001b[0mcoef_init\u001b[0m\u001b[0;34m,\u001b[0m \u001b[0mverbose\u001b[0m\u001b[0;34m=\u001b[0m\u001b[0mverbose\u001b[0m\u001b[0;34m,\u001b[0m\u001b[0;34m\u001b[0m\u001b[0;34m\u001b[0m\u001b[0m\n",
      "\u001b[0;32m/usr/local/anaconda3/lib/python3.8/site-packages/sklearn/utils/validation.py\u001b[0m in \u001b[0;36minner_f\u001b[0;34m(*args, **kwargs)\u001b[0m\n\u001b[1;32m     70\u001b[0m                           FutureWarning)\n\u001b[1;32m     71\u001b[0m         \u001b[0mkwargs\u001b[0m\u001b[0;34m.\u001b[0m\u001b[0mupdate\u001b[0m\u001b[0;34m(\u001b[0m\u001b[0;34m{\u001b[0m\u001b[0mk\u001b[0m\u001b[0;34m:\u001b[0m \u001b[0marg\u001b[0m \u001b[0;32mfor\u001b[0m \u001b[0mk\u001b[0m\u001b[0;34m,\u001b[0m \u001b[0marg\u001b[0m \u001b[0;32min\u001b[0m \u001b[0mzip\u001b[0m\u001b[0;34m(\u001b[0m\u001b[0msig\u001b[0m\u001b[0;34m.\u001b[0m\u001b[0mparameters\u001b[0m\u001b[0;34m,\u001b[0m \u001b[0margs\u001b[0m\u001b[0;34m)\u001b[0m\u001b[0;34m}\u001b[0m\u001b[0;34m)\u001b[0m\u001b[0;34m\u001b[0m\u001b[0;34m\u001b[0m\u001b[0m\n\u001b[0;32m---> 72\u001b[0;31m         \u001b[0;32mreturn\u001b[0m \u001b[0mf\u001b[0m\u001b[0;34m(\u001b[0m\u001b[0;34m**\u001b[0m\u001b[0mkwargs\u001b[0m\u001b[0;34m)\u001b[0m\u001b[0;34m\u001b[0m\u001b[0;34m\u001b[0m\u001b[0m\n\u001b[0m\u001b[1;32m     73\u001b[0m     \u001b[0;32mreturn\u001b[0m \u001b[0minner_f\u001b[0m\u001b[0;34m\u001b[0m\u001b[0;34m\u001b[0m\u001b[0m\n\u001b[1;32m     74\u001b[0m \u001b[0;34m\u001b[0m\u001b[0m\n",
      "\u001b[0;32m/usr/local/anaconda3/lib/python3.8/site-packages/sklearn/linear_model/_coordinate_descent.py\u001b[0m in \u001b[0;36menet_path\u001b[0;34m(X, y, l1_ratio, eps, n_alphas, alphas, precompute, Xy, copy_X, coef_init, verbose, return_n_iter, positive, check_input, **params)\u001b[0m\n\u001b[1;32m    527\u001b[0m                 tol, rng, random, positive)\n\u001b[1;32m    528\u001b[0m         \u001b[0;32melif\u001b[0m \u001b[0mprecompute\u001b[0m \u001b[0;32mis\u001b[0m \u001b[0;32mFalse\u001b[0m\u001b[0;34m:\u001b[0m\u001b[0;34m\u001b[0m\u001b[0;34m\u001b[0m\u001b[0m\n\u001b[0;32m--> 529\u001b[0;31m             model = cd_fast.enet_coordinate_descent(\n\u001b[0m\u001b[1;32m    530\u001b[0m                 \u001b[0mcoef_\u001b[0m\u001b[0;34m,\u001b[0m \u001b[0ml1_reg\u001b[0m\u001b[0;34m,\u001b[0m \u001b[0ml2_reg\u001b[0m\u001b[0;34m,\u001b[0m \u001b[0mX\u001b[0m\u001b[0;34m,\u001b[0m \u001b[0my\u001b[0m\u001b[0;34m,\u001b[0m \u001b[0mmax_iter\u001b[0m\u001b[0;34m,\u001b[0m \u001b[0mtol\u001b[0m\u001b[0;34m,\u001b[0m \u001b[0mrng\u001b[0m\u001b[0;34m,\u001b[0m \u001b[0mrandom\u001b[0m\u001b[0;34m,\u001b[0m\u001b[0;34m\u001b[0m\u001b[0;34m\u001b[0m\u001b[0m\n\u001b[1;32m    531\u001b[0m                 positive)\n",
      "\u001b[0;32msklearn/linear_model/_cd_fast.pyx\u001b[0m in \u001b[0;36msklearn.linear_model._cd_fast.enet_coordinate_descent\u001b[0;34m()\u001b[0m\n",
      "\u001b[0;31mKeyboardInterrupt\u001b[0m: "
     ]
    }
   ],
   "source": [
    "# # Don't forget to standard scale your data for regularized regression\n",
    "# scaler = StandardScaler()\n",
    "# X_train_poly_scaled = scaler.fit_transform(X_train_poly)\n",
    "\n",
    "# # Apply the same scaler to val set\n",
    "# X_val_poly_scaled = scaler.transform(X_val_poly)\n",
    "\n",
    "# # Fit a LASSO model using polynomial features\n",
    "# lasso = LassoCV()\n",
    "# lasso.fit(X_train_poly_scaled,y_train)\n",
    "# lasso.score(X_train_poly_scaled,y_train)"
   ]
  },
  {
   "cell_type": "code",
   "execution_count": 116,
   "metadata": {},
   "outputs": [
    {
     "data": {
      "text/plain": [
       "Lasso(alpha=100)"
      ]
     },
     "execution_count": 116,
     "metadata": {},
     "output_type": "execute_result"
    }
   ],
   "source": [
    "lasso_model = Lasso(alpha = 100) \n",
    "lasso_model.fit(X_train, y_train)"
   ]
  },
  {
   "cell_type": "code",
   "execution_count": 117,
   "metadata": {},
   "outputs": [],
   "source": [
    "selected_columns = list(df.iloc[:,1:])"
   ]
  },
  {
   "cell_type": "code",
   "execution_count": 118,
   "metadata": {},
   "outputs": [
    {
     "data": {
      "text/plain": [
       "[('orig_price', 319.9875476346351),\n",
       " ('been_sale', -0.0),\n",
       " ('rating_val', 335.60240412911196),\n",
       " ('num_tags', 797.4076087689514),\n",
       " ('num_genres', -2.7016347781103183),\n",
       " ('year_released', -1083.0163729697506),\n",
       " ('languages_filled', 2300.900365987926),\n",
       " ('BANDAI NAMCO Entertainment', -0.0),\n",
       " ('Bethesda Softworks', 1270.1324481792622),\n",
       " ('Devolver Digital', 0.0),\n",
       " ('Disney', -0.0),\n",
       " ('Electronic Arts', -0.0),\n",
       " ('Kagura Games', -0.0),\n",
       " ('Nightdive Studios', -0.0),\n",
       " ('Paradox Interactive', 0.0),\n",
       " ('SEGA', -0.0),\n",
       " ('Square Enix', -0.0),\n",
       " ('THQ Nordic', -0.0),\n",
       " ('Ubisoft', -0.0),\n",
       " ('Xbox Game Studios', 0.0),\n",
       " ('other', 1907.9666349014242),\n",
       " ('Singleplayer_tag', 0.0),\n",
       " ('Indie_tag', 0.0),\n",
       " ('Action_tag', 0.0),\n",
       " ('Adventure_tag', 0.0),\n",
       " ('Multiplayer_tag', 0.0),\n",
       " ('Strategy_tag', 0.0),\n",
       " ('RPG_tag', 0.0),\n",
       " ('Casual_tag', 0.0),\n",
       " ('Simulation_tag', 0.0),\n",
       " ('Atmospheric_tag', 0.0),\n",
       " ('Horror_tag', 0.0),\n",
       " ('2D_tag', 0.0),\n",
       " ('Soundtrack_tag', 0.0),\n",
       " ('Great_tag', 0.0),\n",
       " ('Story_tag', 0.0),\n",
       " ('Rich_tag', 0.0),\n",
       " ('World_tag', 0.0),\n",
       " ('Shooter_tag', 0.0),\n",
       " ('Puzzle_tag', 0.0),\n",
       " ('TurnBased_tag', 0.0),\n",
       " ('Open_tag', 0.0),\n",
       " ('FirstPerson_tag', 0.0),\n",
       " ('Survival_tag', 0.0),\n",
       " ('Funny_tag', 0.0),\n",
       " ('Coop_tag', 0.0),\n",
       " ('Fantasy_tag', 0.0),\n",
       " ('Early_tag', 0.0),\n",
       " ('Access_tag', 0.0),\n",
       " ('Platformer_tag', 0.0),\n",
       " ('Local_tag', 0.0),\n",
       " ('Singleplayer_genre', 0.0),\n",
       " ('Indie_genre', -4045.4107497328573),\n",
       " ('Action_genre', 3846.53206125376),\n",
       " ('Adventure_genre', 0.0),\n",
       " ('Multiplayer_genre', 33080.052890658204),\n",
       " ('Strategy_genre', -1160.5777191672607),\n",
       " ('RPG_genre', 3789.458037191067),\n",
       " ('Casual_genre', -1541.8225056990132),\n",
       " ('Simulation_genre', -0.0),\n",
       " ('Atmospheric_genre', 0.0),\n",
       " ('Horror_genre', 0.0),\n",
       " ('2D_genre', 0.0),\n",
       " ('Soundtrack_genre', 0.0),\n",
       " ('Great_genre', 0.0),\n",
       " ('Story_genre', -0.0),\n",
       " ('Rich_genre', 0.0),\n",
       " ('World_genre', 0.0),\n",
       " ('Shooter_genre', 0.0),\n",
       " ('Puzzle_genre', 0.0),\n",
       " ('TurnBased_genre', 0.0),\n",
       " ('Open_genre', 0.0),\n",
       " ('FirstPerson_genre', 0.0),\n",
       " ('Survival_genre', 0.0),\n",
       " ('Funny_genre', 0.0),\n",
       " ('Coop_genre', 0.0),\n",
       " ('Fantasy_genre', 0.0),\n",
       " ('Early_genre', -4005.9005690823533),\n",
       " ('Access_genre', -2.6471018372682836e-13),\n",
       " ('Platformer_genre', 0.0),\n",
       " ('Local_genre', 0.0)]"
      ]
     },
     "execution_count": 118,
     "metadata": {},
     "output_type": "execute_result"
    }
   ],
   "source": [
    "list(zip(selected_columns, lasso_model.coef_))"
   ]
  },
  {
   "cell_type": "code",
   "execution_count": 119,
   "metadata": {},
   "outputs": [
    {
     "data": {
      "text/plain": [
       "[('orig_price', 329.5530320477175),\n",
       " ('been_sale', -619.237267283237),\n",
       " ('rating_val', 256.27311219929624),\n",
       " ('num_tags', 794.3184433141257),\n",
       " ('num_genres', 438.37825181469367),\n",
       " ('year_released', -1130.0145673289371),\n",
       " ('languages_filled', 2323.7518873550625),\n",
       " ('BANDAI NAMCO Entertainment', -1364.1092959691857),\n",
       " ('Bethesda Softworks', 2555.6385748783255),\n",
       " ('Devolver Digital', 997.3662272364852),\n",
       " ('Disney', -952.6307631390268),\n",
       " ('Electronic Arts', -1096.4676241406926),\n",
       " ('Kagura Games', -299.54103917261125),\n",
       " ('Nightdive Studios', -309.61410224575616),\n",
       " ('Paradox Interactive', 1873.463957817049),\n",
       " ('SEGA', -788.7560496890619),\n",
       " ('Square Enix', -1222.5609828745012),\n",
       " ('THQ Nordic', -1607.6433610417064),\n",
       " ('Ubisoft', -1496.8929084278593),\n",
       " ('Xbox Game Studios', 833.4481662742255),\n",
       " ('other', 2106.222290849239),\n",
       " ('Singleplayer_tag', 0.0),\n",
       " ('Indie_tag', 0.0),\n",
       " ('Action_tag', 0.0),\n",
       " ('Adventure_tag', 0.0),\n",
       " ('Multiplayer_tag', 0.0),\n",
       " ('Strategy_tag', 0.0),\n",
       " ('RPG_tag', 0.0),\n",
       " ('Casual_tag', 0.0),\n",
       " ('Simulation_tag', 0.0),\n",
       " ('Atmospheric_tag', 0.0),\n",
       " ('Horror_tag', 0.0),\n",
       " ('2D_tag', 0.0),\n",
       " ('Soundtrack_tag', 0.0),\n",
       " ('Great_tag', 0.0),\n",
       " ('Story_tag', 0.0),\n",
       " ('Rich_tag', 0.0),\n",
       " ('World_tag', 0.0),\n",
       " ('Shooter_tag', 0.0),\n",
       " ('Puzzle_tag', 0.0),\n",
       " ('TurnBased_tag', 0.0),\n",
       " ('Open_tag', 0.0),\n",
       " ('FirstPerson_tag', 0.0),\n",
       " ('Survival_tag', 0.0),\n",
       " ('Funny_tag', 0.0),\n",
       " ('Coop_tag', 0.0),\n",
       " ('Fantasy_tag', 0.0),\n",
       " ('Early_tag', 0.0),\n",
       " ('Access_tag', 0.0),\n",
       " ('Platformer_tag', 0.0),\n",
       " ('Local_tag', 0.0),\n",
       " ('Singleplayer_genre', 0.0),\n",
       " ('Indie_genre', -4000.6493560755657),\n",
       " ('Action_genre', 3646.5348324661713),\n",
       " ('Adventure_genre', -229.55008320072176),\n",
       " ('Multiplayer_genre', 13093.690731001952),\n",
       " ('Strategy_genre', -1988.1082798968118),\n",
       " ('RPG_genre', 3748.5700305762975),\n",
       " ('Casual_genre', -2411.961555629207),\n",
       " ('Simulation_genre', 69.07763615726887),\n",
       " ('Atmospheric_genre', 0.0),\n",
       " ('Horror_genre', 0.0),\n",
       " ('2D_genre', 0.0),\n",
       " ('Soundtrack_genre', 0.0),\n",
       " ('Great_genre', 0.0),\n",
       " ('Story_genre', -37.74242652493466),\n",
       " ('Rich_genre', 0.0),\n",
       " ('World_genre', 704.5128176959676),\n",
       " ('Shooter_genre', 0.0),\n",
       " ('Puzzle_genre', 86.42294762280706),\n",
       " ('TurnBased_genre', 0.0),\n",
       " ('Open_genre', 0.0),\n",
       " ('FirstPerson_genre', 0.0),\n",
       " ('Survival_genre', 0.0),\n",
       " ('Funny_genre', 0.0),\n",
       " ('Coop_genre', 0.0),\n",
       " ('Fantasy_genre', 0.0),\n",
       " ('Early_genre', -1852.8525205923884),\n",
       " ('Access_genre', -1852.8525205923897),\n",
       " ('Platformer_genre', 0.0),\n",
       " ('Local_genre', 0.0)]"
      ]
     },
     "execution_count": 119,
     "metadata": {},
     "output_type": "execute_result"
    }
   ],
   "source": [
    "lr_model_ridge = Ridge(alpha = 100)\n",
    "lr_model_ridge.fit(X_train, y_train)\n",
    "\n",
    "list(zip(X_train.columns, lr_model_ridge.coef_))"
   ]
  },
  {
   "cell_type": "code",
   "execution_count": 120,
   "metadata": {},
   "outputs": [],
   "source": [
    "test_set_pred = lasso_model.predict(X_test.loc[:,selected_columns])"
   ]
  },
  {
   "cell_type": "code",
   "execution_count": 85,
   "metadata": {},
   "outputs": [
    {
     "data": {
      "text/html": [
       "<div>\n",
       "<style scoped>\n",
       "    .dataframe tbody tr th:only-of-type {\n",
       "        vertical-align: middle;\n",
       "    }\n",
       "\n",
       "    .dataframe tbody tr th {\n",
       "        vertical-align: top;\n",
       "    }\n",
       "\n",
       "    .dataframe thead th {\n",
       "        text-align: right;\n",
       "    }\n",
       "</style>\n",
       "<table border=\"1\" class=\"dataframe\">\n",
       "  <thead>\n",
       "    <tr style=\"text-align: right;\">\n",
       "      <th></th>\n",
       "      <th>orig_price</th>\n",
       "      <th>been_sale</th>\n",
       "      <th>rating_val</th>\n",
       "      <th>num_tags</th>\n",
       "      <th>num_genres</th>\n",
       "      <th>year_released</th>\n",
       "      <th>languages_filled</th>\n",
       "      <th>BANDAI NAMCO Entertainment</th>\n",
       "      <th>Bethesda Softworks</th>\n",
       "      <th>Devolver Digital</th>\n",
       "      <th>...</th>\n",
       "      <th>Open_genre</th>\n",
       "      <th>FirstPerson_genre</th>\n",
       "      <th>Survival_genre</th>\n",
       "      <th>Funny_genre</th>\n",
       "      <th>Coop_genre</th>\n",
       "      <th>Fantasy_genre</th>\n",
       "      <th>Early_genre</th>\n",
       "      <th>Access_genre</th>\n",
       "      <th>Platformer_genre</th>\n",
       "      <th>Local_genre</th>\n",
       "    </tr>\n",
       "  </thead>\n",
       "  <tbody>\n",
       "    <tr>\n",
       "      <th>0</th>\n",
       "      <td>39.99</td>\n",
       "      <td>1</td>\n",
       "      <td>8.0</td>\n",
       "      <td>20.0</td>\n",
       "      <td>2.0</td>\n",
       "      <td>2020</td>\n",
       "      <td>13.0</td>\n",
       "      <td>0</td>\n",
       "      <td>0</td>\n",
       "      <td>0</td>\n",
       "      <td>...</td>\n",
       "      <td>0</td>\n",
       "      <td>0</td>\n",
       "      <td>0</td>\n",
       "      <td>0</td>\n",
       "      <td>0</td>\n",
       "      <td>0</td>\n",
       "      <td>0</td>\n",
       "      <td>0</td>\n",
       "      <td>0</td>\n",
       "      <td>0</td>\n",
       "    </tr>\n",
       "    <tr>\n",
       "      <th>1</th>\n",
       "      <td>39.99</td>\n",
       "      <td>0</td>\n",
       "      <td>9.0</td>\n",
       "      <td>20.0</td>\n",
       "      <td>3.0</td>\n",
       "      <td>2021</td>\n",
       "      <td>12.0</td>\n",
       "      <td>0</td>\n",
       "      <td>0</td>\n",
       "      <td>0</td>\n",
       "      <td>...</td>\n",
       "      <td>0</td>\n",
       "      <td>0</td>\n",
       "      <td>0</td>\n",
       "      <td>0</td>\n",
       "      <td>0</td>\n",
       "      <td>0</td>\n",
       "      <td>0</td>\n",
       "      <td>0</td>\n",
       "      <td>0</td>\n",
       "      <td>0</td>\n",
       "    </tr>\n",
       "    <tr>\n",
       "      <th>2</th>\n",
       "      <td>19.99</td>\n",
       "      <td>0</td>\n",
       "      <td>9.0</td>\n",
       "      <td>20.0</td>\n",
       "      <td>6.0</td>\n",
       "      <td>2021</td>\n",
       "      <td>12.0</td>\n",
       "      <td>0</td>\n",
       "      <td>0</td>\n",
       "      <td>0</td>\n",
       "      <td>...</td>\n",
       "      <td>0</td>\n",
       "      <td>0</td>\n",
       "      <td>0</td>\n",
       "      <td>0</td>\n",
       "      <td>0</td>\n",
       "      <td>0</td>\n",
       "      <td>1</td>\n",
       "      <td>1</td>\n",
       "      <td>0</td>\n",
       "      <td>0</td>\n",
       "    </tr>\n",
       "    <tr>\n",
       "      <th>3</th>\n",
       "      <td>49.99</td>\n",
       "      <td>1</td>\n",
       "      <td>7.0</td>\n",
       "      <td>20.0</td>\n",
       "      <td>3.0</td>\n",
       "      <td>2020</td>\n",
       "      <td>20.0</td>\n",
       "      <td>0</td>\n",
       "      <td>0</td>\n",
       "      <td>0</td>\n",
       "      <td>...</td>\n",
       "      <td>0</td>\n",
       "      <td>0</td>\n",
       "      <td>0</td>\n",
       "      <td>0</td>\n",
       "      <td>0</td>\n",
       "      <td>0</td>\n",
       "      <td>0</td>\n",
       "      <td>0</td>\n",
       "      <td>0</td>\n",
       "      <td>0</td>\n",
       "    </tr>\n",
       "    <tr>\n",
       "      <th>4</th>\n",
       "      <td>13.99</td>\n",
       "      <td>0</td>\n",
       "      <td>9.0</td>\n",
       "      <td>20.0</td>\n",
       "      <td>0.0</td>\n",
       "      <td>2020</td>\n",
       "      <td>25.0</td>\n",
       "      <td>0</td>\n",
       "      <td>0</td>\n",
       "      <td>0</td>\n",
       "      <td>...</td>\n",
       "      <td>0</td>\n",
       "      <td>0</td>\n",
       "      <td>0</td>\n",
       "      <td>0</td>\n",
       "      <td>0</td>\n",
       "      <td>0</td>\n",
       "      <td>0</td>\n",
       "      <td>0</td>\n",
       "      <td>0</td>\n",
       "      <td>0</td>\n",
       "    </tr>\n",
       "    <tr>\n",
       "      <th>...</th>\n",
       "      <td>...</td>\n",
       "      <td>...</td>\n",
       "      <td>...</td>\n",
       "      <td>...</td>\n",
       "      <td>...</td>\n",
       "      <td>...</td>\n",
       "      <td>...</td>\n",
       "      <td>...</td>\n",
       "      <td>...</td>\n",
       "      <td>...</td>\n",
       "      <td>...</td>\n",
       "      <td>...</td>\n",
       "      <td>...</td>\n",
       "      <td>...</td>\n",
       "      <td>...</td>\n",
       "      <td>...</td>\n",
       "      <td>...</td>\n",
       "      <td>...</td>\n",
       "      <td>...</td>\n",
       "      <td>...</td>\n",
       "      <td>...</td>\n",
       "    </tr>\n",
       "    <tr>\n",
       "      <th>5514</th>\n",
       "      <td>4.99</td>\n",
       "      <td>1</td>\n",
       "      <td>5.0</td>\n",
       "      <td>5.0</td>\n",
       "      <td>2.0</td>\n",
       "      <td>2019</td>\n",
       "      <td>10.0</td>\n",
       "      <td>0</td>\n",
       "      <td>0</td>\n",
       "      <td>0</td>\n",
       "      <td>...</td>\n",
       "      <td>0</td>\n",
       "      <td>0</td>\n",
       "      <td>0</td>\n",
       "      <td>0</td>\n",
       "      <td>0</td>\n",
       "      <td>0</td>\n",
       "      <td>0</td>\n",
       "      <td>0</td>\n",
       "      <td>0</td>\n",
       "      <td>0</td>\n",
       "    </tr>\n",
       "    <tr>\n",
       "      <th>5515</th>\n",
       "      <td>4.99</td>\n",
       "      <td>0</td>\n",
       "      <td>8.0</td>\n",
       "      <td>16.0</td>\n",
       "      <td>5.0</td>\n",
       "      <td>2019</td>\n",
       "      <td>10.0</td>\n",
       "      <td>0</td>\n",
       "      <td>0</td>\n",
       "      <td>1</td>\n",
       "      <td>...</td>\n",
       "      <td>0</td>\n",
       "      <td>0</td>\n",
       "      <td>0</td>\n",
       "      <td>0</td>\n",
       "      <td>0</td>\n",
       "      <td>0</td>\n",
       "      <td>0</td>\n",
       "      <td>0</td>\n",
       "      <td>0</td>\n",
       "      <td>0</td>\n",
       "    </tr>\n",
       "    <tr>\n",
       "      <th>5516</th>\n",
       "      <td>0.99</td>\n",
       "      <td>0</td>\n",
       "      <td>5.0</td>\n",
       "      <td>3.0</td>\n",
       "      <td>3.0</td>\n",
       "      <td>2018</td>\n",
       "      <td>10.0</td>\n",
       "      <td>0</td>\n",
       "      <td>0</td>\n",
       "      <td>0</td>\n",
       "      <td>...</td>\n",
       "      <td>0</td>\n",
       "      <td>0</td>\n",
       "      <td>0</td>\n",
       "      <td>0</td>\n",
       "      <td>0</td>\n",
       "      <td>0</td>\n",
       "      <td>0</td>\n",
       "      <td>0</td>\n",
       "      <td>0</td>\n",
       "      <td>0</td>\n",
       "    </tr>\n",
       "    <tr>\n",
       "      <th>5517</th>\n",
       "      <td>0.99</td>\n",
       "      <td>0</td>\n",
       "      <td>5.0</td>\n",
       "      <td>2.0</td>\n",
       "      <td>2.0</td>\n",
       "      <td>2018</td>\n",
       "      <td>10.0</td>\n",
       "      <td>0</td>\n",
       "      <td>0</td>\n",
       "      <td>0</td>\n",
       "      <td>...</td>\n",
       "      <td>0</td>\n",
       "      <td>0</td>\n",
       "      <td>0</td>\n",
       "      <td>0</td>\n",
       "      <td>0</td>\n",
       "      <td>0</td>\n",
       "      <td>0</td>\n",
       "      <td>0</td>\n",
       "      <td>0</td>\n",
       "      <td>0</td>\n",
       "    </tr>\n",
       "    <tr>\n",
       "      <th>5518</th>\n",
       "      <td>0.99</td>\n",
       "      <td>0</td>\n",
       "      <td>5.0</td>\n",
       "      <td>3.0</td>\n",
       "      <td>3.0</td>\n",
       "      <td>2018</td>\n",
       "      <td>10.0</td>\n",
       "      <td>0</td>\n",
       "      <td>0</td>\n",
       "      <td>0</td>\n",
       "      <td>...</td>\n",
       "      <td>0</td>\n",
       "      <td>0</td>\n",
       "      <td>0</td>\n",
       "      <td>0</td>\n",
       "      <td>0</td>\n",
       "      <td>0</td>\n",
       "      <td>1</td>\n",
       "      <td>1</td>\n",
       "      <td>0</td>\n",
       "      <td>0</td>\n",
       "    </tr>\n",
       "  </tbody>\n",
       "</table>\n",
       "<p>5519 rows × 81 columns</p>\n",
       "</div>"
      ],
      "text/plain": [
       "      orig_price  been_sale  rating_val  num_tags  num_genres  year_released  \\\n",
       "0          39.99          1         8.0      20.0         2.0           2020   \n",
       "1          39.99          0         9.0      20.0         3.0           2021   \n",
       "2          19.99          0         9.0      20.0         6.0           2021   \n",
       "3          49.99          1         7.0      20.0         3.0           2020   \n",
       "4          13.99          0         9.0      20.0         0.0           2020   \n",
       "...          ...        ...         ...       ...         ...            ...   \n",
       "5514        4.99          1         5.0       5.0         2.0           2019   \n",
       "5515        4.99          0         8.0      16.0         5.0           2019   \n",
       "5516        0.99          0         5.0       3.0         3.0           2018   \n",
       "5517        0.99          0         5.0       2.0         2.0           2018   \n",
       "5518        0.99          0         5.0       3.0         3.0           2018   \n",
       "\n",
       "      languages_filled  BANDAI NAMCO Entertainment  Bethesda Softworks  \\\n",
       "0                 13.0                           0                   0   \n",
       "1                 12.0                           0                   0   \n",
       "2                 12.0                           0                   0   \n",
       "3                 20.0                           0                   0   \n",
       "4                 25.0                           0                   0   \n",
       "...                ...                         ...                 ...   \n",
       "5514              10.0                           0                   0   \n",
       "5515              10.0                           0                   0   \n",
       "5516              10.0                           0                   0   \n",
       "5517              10.0                           0                   0   \n",
       "5518              10.0                           0                   0   \n",
       "\n",
       "      Devolver Digital  ...  Open_genre  FirstPerson_genre  Survival_genre  \\\n",
       "0                    0  ...           0                  0               0   \n",
       "1                    0  ...           0                  0               0   \n",
       "2                    0  ...           0                  0               0   \n",
       "3                    0  ...           0                  0               0   \n",
       "4                    0  ...           0                  0               0   \n",
       "...                ...  ...         ...                ...             ...   \n",
       "5514                 0  ...           0                  0               0   \n",
       "5515                 1  ...           0                  0               0   \n",
       "5516                 0  ...           0                  0               0   \n",
       "5517                 0  ...           0                  0               0   \n",
       "5518                 0  ...           0                  0               0   \n",
       "\n",
       "      Funny_genre  Coop_genre  Fantasy_genre  Early_genre  Access_genre  \\\n",
       "0               0           0              0            0             0   \n",
       "1               0           0              0            0             0   \n",
       "2               0           0              0            1             1   \n",
       "3               0           0              0            0             0   \n",
       "4               0           0              0            0             0   \n",
       "...           ...         ...            ...          ...           ...   \n",
       "5514            0           0              0            0             0   \n",
       "5515            0           0              0            0             0   \n",
       "5516            0           0              0            0             0   \n",
       "5517            0           0              0            0             0   \n",
       "5518            0           0              0            1             1   \n",
       "\n",
       "      Platformer_genre  Local_genre  \n",
       "0                    0            0  \n",
       "1                    0            0  \n",
       "2                    0            0  \n",
       "3                    0            0  \n",
       "4                    0            0  \n",
       "...                ...          ...  \n",
       "5514                 0            0  \n",
       "5515                 0            0  \n",
       "5516                 0            0  \n",
       "5517                 0            0  \n",
       "5518                 0            0  \n",
       "\n",
       "[5519 rows x 81 columns]"
      ]
     },
     "execution_count": 85,
     "metadata": {},
     "output_type": "execute_result"
    }
   ],
   "source": []
  },
  {
   "cell_type": "code",
   "execution_count": 96,
   "metadata": {},
   "outputs": [],
   "source": [
    "alphalist = 10**(np.linspace(-2,2,200))\n",
    "err_vec_val = np.zeros(len(alphalist))\n",
    "err_vec_train = np.zeros(len(alphalist))\n",
    "\n",
    "for i,curr_alpha in enumerate(alphalist):\n",
    "\n",
    "    # note the use of a new sklearn utility: Pipeline to pack\n",
    "    # multiple modeling steps into one fitting process \n",
    "    steps = [('standardize', StandardScaler()), \n",
    "             ('lasso', Lasso(alpha = curr_alpha))]\n",
    "\n",
    "    pipe = Pipeline(steps)\n",
    "    pipe.fit(X_train.loc[:,selected_columns].values, y_train)\n",
    "    \n",
    "    val_set_pred = pipe.predict(X_val.loc[:,selected_columns].values)\n",
    "    err_vec_val[i] = mae(y_val, val_set_pred)"
   ]
  },
  {
   "cell_type": "code",
   "execution_count": 95,
   "metadata": {},
   "outputs": [],
   "source": [
    "test_set_pred = lasso_model.predict(X_test.loc[:,selected_columns])"
   ]
  },
  {
   "cell_type": "code",
   "execution_count": 121,
   "metadata": {},
   "outputs": [
    {
     "data": {
      "text/plain": [
       "[<matplotlib.lines.Line2D at 0x7fcb8a6aeee0>]"
      ]
     },
     "execution_count": 121,
     "metadata": {},
     "output_type": "execute_result"
    },
    {
     "data": {
      "image/png": "[encoded data removed]",
      "text/plain": [
       "<Figure size 432x288 with 1 Axes>"
      ]
     },
     "metadata": {
      "needs_background": "light"
     },
     "output_type": "display_data"
    }
   ],
   "source": [
    "#plot the curve of validation error as alpha changes\n",
    "\n",
    "plt.plot(np.log10(alphalist), err_vec_val)"
   ]
  },
  {
   "cell_type": "code",
   "execution_count": 122,
   "metadata": {},
   "outputs": [
    {
     "data": {
      "text/plain": [
       "10592.94606154836"
      ]
     },
     "execution_count": 122,
     "metadata": {},
     "output_type": "execute_result"
    }
   ],
   "source": [
    "## This is the minimum error achieved on the validation set \n",
    "## across the different alpha values we tried\n",
    "\n",
    "np.min(err_vec_val)"
   ]
  },
  {
   "cell_type": "code",
   "execution_count": 123,
   "metadata": {},
   "outputs": [
    {
     "data": {
      "text/plain": [
       "100.0"
      ]
     },
     "execution_count": 123,
     "metadata": {},
     "output_type": "execute_result"
    }
   ],
   "source": [
    "## This is the value of alpha that gave us the lowest error\n",
    "alphalist[np.argmin(err_vec_val)]"
   ]
  },
  {
   "cell_type": "code",
   "execution_count": 124,
   "metadata": {},
   "outputs": [
    {
     "data": {
      "text/plain": [
       "StandardScaler()"
      ]
     },
     "execution_count": 124,
     "metadata": {},
     "output_type": "execute_result"
    }
   ],
   "source": [
    "std = StandardScaler()\n",
    "std.fit(X_train.values)"
   ]
  },
  {
   "cell_type": "code",
   "execution_count": 125,
   "metadata": {},
   "outputs": [],
   "source": [
    "X_tr = std.transform(X_train.values)\n",
    "X_te = std.transform(X_test.values)"
   ]
  },
  {
   "cell_type": "code",
   "execution_count": 126,
   "metadata": {},
   "outputs": [
    {
     "data": {
      "text/plain": [
       "LassoCV(alphas=array([1.00000000e-02, 1.04737090e-02, 1.09698580e-02, 1.14895100e-02,\n",
       "       1.20337784e-02, 1.26038293e-02, 1.32008840e-02, 1.38262217e-02,\n",
       "       1.44811823e-02, 1.51671689e-02, 1.58856513e-02, 1.66381689e-02,\n",
       "       1.74263339e-02, 1.82518349e-02, 1.91164408e-02, 2.00220037e-02,\n",
       "       2.09704640e-02, 2.19638537e-02, 2.30043012e-02, 2.40940356e-02,\n",
       "       2.52353917e-02, 2.64308149e-0...\n",
       "       3.44896226e+01, 3.61234270e+01, 3.78346262e+01, 3.96268864e+01,\n",
       "       4.15040476e+01, 4.34701316e+01, 4.55293507e+01, 4.76861170e+01,\n",
       "       4.99450512e+01, 5.23109931e+01, 5.47890118e+01, 5.73844165e+01,\n",
       "       6.01027678e+01, 6.29498899e+01, 6.59318827e+01, 6.90551352e+01,\n",
       "       7.23263390e+01, 7.57525026e+01, 7.93409667e+01, 8.30994195e+01,\n",
       "       8.70359136e+01, 9.11588830e+01, 9.54771611e+01, 1.00000000e+02]),\n",
       "        cv=5)"
      ]
     },
     "execution_count": 126,
     "metadata": {},
     "output_type": "execute_result"
    }
   ],
   "source": [
    "alphavec = 10**np.linspace(-2,2,200)\n",
    "\n",
    "lasso_model = LassoCV(alphas = alphavec, cv=5)\n",
    "lasso_model.fit(X_tr, y_train)"
   ]
  },
  {
   "cell_type": "code",
   "execution_count": 127,
   "metadata": {},
   "outputs": [
    {
     "data": {
      "text/plain": [
       "100.0"
      ]
     },
     "execution_count": 127,
     "metadata": {},
     "output_type": "execute_result"
    }
   ],
   "source": [
    "lasso_model.alpha_"
   ]
  },
  {
   "cell_type": "code",
   "execution_count": 128,
   "metadata": {},
   "outputs": [
    {
     "data": {
      "text/plain": [
       "[('orig_price', 4023.861405248766),\n",
       " ('been_sale', -290.42170773673683),\n",
       " ('rating_val', 699.7324947475248),\n",
       " ('num_tags', 4793.755372488246),\n",
       " ('num_genres', 0.0),\n",
       " ('year_released', -3473.0458848682997),\n",
       " ('languages_filled', 6724.944309134146),\n",
       " ('BANDAI NAMCO Entertainment', -774.8231135935904),\n",
       " ('Bethesda Softworks', 1010.0328039938552),\n",
       " ('Devolver Digital', 297.7402707251717),\n",
       " ('Disney', -576.6962798739536),\n",
       " ('Electronic Arts', -578.0312769914183),\n",
       " ('Kagura Games', -179.16318825029904),\n",
       " ('Nightdive Studios', -242.07395354529697),\n",
       " ('Paradox Interactive', 759.2700199485986),\n",
       " ('SEGA', -487.7257302877862),\n",
       " ('Square Enix', -685.1406895023088),\n",
       " ('THQ Nordic', -840.3422726283607),\n",
       " ('Ubisoft', -831.05304326482),\n",
       " ('Xbox Game Studios', 229.22680947826834),\n",
       " ('other', 0.0),\n",
       " ('Singleplayer_tag', 0.0),\n",
       " ('Indie_tag', 0.0),\n",
       " ('Action_tag', 0.0),\n",
       " ('Adventure_tag', 0.0),\n",
       " ('Multiplayer_tag', 0.0),\n",
       " ('Strategy_tag', 0.0),\n",
       " ('RPG_tag', 0.0),\n",
       " ('Casual_tag', 0.0),\n",
       " ('Simulation_tag', 0.0),\n",
       " ('Atmospheric_tag', 0.0),\n",
       " ('Horror_tag', 0.0),\n",
       " ('2D_tag', 0.0),\n",
       " ('Soundtrack_tag', 0.0),\n",
       " ('Great_tag', 0.0),\n",
       " ('Story_tag', 0.0),\n",
       " ('Rich_tag', 0.0),\n",
       " ('World_tag', 0.0),\n",
       " ('Shooter_tag', 0.0),\n",
       " ('Puzzle_tag', 0.0),\n",
       " ('TurnBased_tag', 0.0),\n",
       " ('Open_tag', 0.0),\n",
       " ('FirstPerson_tag', 0.0),\n",
       " ('Survival_tag', 0.0),\n",
       " ('Funny_tag', 0.0),\n",
       " ('Coop_tag', 0.0),\n",
       " ('Fantasy_tag', 0.0),\n",
       " ('Early_tag', 0.0),\n",
       " ('Access_tag', 0.0),\n",
       " ('Platformer_tag', 0.0),\n",
       " ('Local_tag', 0.0),\n",
       " ('Singleplayer_genre', 0.0),\n",
       " ('Indie_genre', -2371.840722891397),\n",
       " ('Action_genre', 2188.456683575415),\n",
       " ('Adventure_genre', 0.0),\n",
       " ('Multiplayer_genre', 5379.381573467068),\n",
       " ('Strategy_genre', -698.5363156375704),\n",
       " ('RPG_genre', 1718.3214156972008),\n",
       " ('Casual_genre', -791.4102445113243),\n",
       " ('Simulation_genre', 0.0),\n",
       " ('Atmospheric_genre', 0.0),\n",
       " ('Horror_genre', 0.0),\n",
       " ('2D_genre', 0.0),\n",
       " ('Soundtrack_genre', 0.0),\n",
       " ('Great_genre', 0.0),\n",
       " ('Story_genre', -0.0),\n",
       " ('Rich_genre', 0.0),\n",
       " ('World_genre', 463.67578700643963),\n",
       " ('Shooter_genre', 0.0),\n",
       " ('Puzzle_genre', 99.63604841181586),\n",
       " ('TurnBased_genre', 0.0),\n",
       " ('Open_genre', 0.0),\n",
       " ('FirstPerson_genre', 0.0),\n",
       " ('Survival_genre', 0.0),\n",
       " ('Funny_genre', 0.0),\n",
       " ('Coop_genre', 0.0),\n",
       " ('Fantasy_genre', 0.0),\n",
       " ('Early_genre', -1497.989709655291),\n",
       " ('Access_genre', -2.197344692845127e-12),\n",
       " ('Platformer_genre', 0.0),\n",
       " ('Local_genre', 0.0)]"
      ]
     },
     "execution_count": 128,
     "metadata": {},
     "output_type": "execute_result"
    }
   ],
   "source": [
    "list(zip(X_train.columns, lasso_model.coef_))"
   ]
  },
  {
   "cell_type": "code",
   "execution_count": 129,
   "metadata": {},
   "outputs": [],
   "source": [
    "test_set_pred = lasso_model.predict(X_te)"
   ]
  },
  {
   "cell_type": "code",
   "execution_count": 130,
   "metadata": {},
   "outputs": [
    {
     "data": {
      "text/plain": [
       "12171.431649259755"
      ]
     },
     "execution_count": 130,
     "metadata": {},
     "output_type": "execute_result"
    }
   ],
   "source": [
    "mae(y_test, test_set_pred)"
   ]
  },
  {
   "cell_type": "code",
   "execution_count": 131,
   "metadata": {},
   "outputs": [
    {
     "data": {
      "text/plain": [
       "0.03946266273429"
      ]
     },
     "execution_count": 131,
     "metadata": {},
     "output_type": "execute_result"
    }
   ],
   "source": [
    "r2_score(y_test, test_set_pred)"
   ]
  },
  {
   "cell_type": "code",
   "execution_count": 115,
   "metadata": {},
   "outputs": [
    {
     "data": {
      "text/plain": [
       "(3532, 81)"
      ]
     },
     "execution_count": 115,
     "metadata": {},
     "output_type": "execute_result"
    }
   ],
   "source": [
    "X.shape"
   ]
  },
  {
   "cell_type": "code",
   "execution_count": 135,
   "metadata": {},
   "outputs": [],
   "source": [
    "residuals = y_test - test_set_pred"
   ]
  },
  {
   "cell_type": "code",
   "execution_count": 136,
   "metadata": {},
   "outputs": [
    {
     "data": {
      "text/plain": [
       "5138     3013.024866\n",
       "1       -8056.464521\n",
       "624     -2362.578347\n",
       "1921    -2220.248281\n",
       "5205     7121.382425\n",
       "            ...     \n",
       "1132   -11962.373739\n",
       "141     31927.484226\n",
       "3376     6158.502204\n",
       "4244   -26286.326445\n",
       "2757     1268.749536\n",
       "Name: num_reviews, Length: 883, dtype: float64"
      ]
     },
     "execution_count": 136,
     "metadata": {},
     "output_type": "execute_result"
    }
   ],
   "source": [
    "residuals"
   ]
  },
  {
   "cell_type": "code",
   "execution_count": 137,
   "metadata": {},
   "outputs": [
    {
     "data": {
      "text/plain": [
       "<AxesSubplot:xlabel='num_reviews'>"
      ]
     },
     "execution_count": 137,
     "metadata": {},
     "output_type": "execute_result"
    },
    {
     "data": {
      "image/png": "[encoded data removed]",
      "text/plain": [
       "<Figure size 432x288 with 1 Axes>"
      ]
     },
     "metadata": {
      "needs_background": "light"
     },
     "output_type": "display_data"
    }
   ],
   "source": [
    "sns.residplot(x=y_test, y=test_set_pred)"
   ]
  },
  {
   "cell_type": "code",
   "execution_count": 10,
   "metadata": {},
   "outputs": [],
   "source": [
    "X, X_test, y, y_test = train_test_split(X, y, test_size=0.2, random_state=7)\n",
    "X_train, X_val, y_train, y_val = train_test_split(X, y, test_size=0.25, random_state=7)"
   ]
  },
  {
   "cell_type": "code",
   "execution_count": 11,
   "metadata": {},
   "outputs": [
    {
     "data": {
      "text/plain": [
       "0.6314130761771726"
      ]
     },
     "execution_count": 11,
     "metadata": {},
     "output_type": "execute_result"
    }
   ],
   "source": [
    "poly = PolynomialFeatures(degree=2)\n",
    "X_train_poly = poly.fit_transform(X_train)\n",
    "\n",
    "# Apply polynomial transformation to val set\n",
    "X_val_poly = poly.transform(X_val)\n",
    "\n",
    "# Fit a model using polynomial features\n",
    "lr_poly = LinearRegression()\n",
    "lr_poly.fit(X_train_poly,y_train)\n",
    "lr_poly.score(X_train_poly,y_train)"
   ]
  },
  {
   "cell_type": "code",
   "execution_count": 12,
   "metadata": {},
   "outputs": [],
   "source": [
    "scaler = StandardScaler()\n",
    "X_train_poly_scaled = scaler.fit_transform(X_train_poly)\n",
    "\n",
    "\n"
   ]
  },
  {
   "cell_type": "code",
   "execution_count": 23,
   "metadata": {},
   "outputs": [
    {
     "data": {
      "text/plain": [
       "0.6314130761771726"
      ]
     },
     "execution_count": 23,
     "metadata": {},
     "output_type": "execute_result"
    }
   ],
   "source": [
    "poly = PolynomialFeatures(degree=2)\n",
    "X_train_poly = poly.fit_transform(X_train)\n",
    "\n",
    "# Apply polynomial transformation to val set\n",
    "X_val_poly = poly.transform(X_val)\n",
    "#y_train_poly = poly.transform(y_train)\n",
    "\n",
    "# Fit a model using polynomial features\n",
    "lr_poly = LinearRegression()\n",
    "lr_poly.fit(X_train_poly,y_train)\n",
    "lr_poly.score(X_train_poly,y_train)"
   ]
  },
  {
   "cell_type": "code",
   "execution_count": 18,
   "metadata": {},
   "outputs": [
    {
     "ename": "NameError",
     "evalue": "name 'y_train_poly' is not defined",
     "output_type": "error",
     "traceback": [
      "\u001b[0;31m---------------------------------------------------------------------------\u001b[0m",
      "\u001b[0;31mNameError\u001b[0m                                 Traceback (most recent call last)",
      "\u001b[0;32m<ipython-input-18-a7fe16321c7e>\u001b[0m in \u001b[0;36m<module>\u001b[0;34m\u001b[0m\n\u001b[1;32m      1\u001b[0m \u001b[0mlasso_model\u001b[0m \u001b[0;34m=\u001b[0m \u001b[0mLasso\u001b[0m\u001b[0;34m(\u001b[0m\u001b[0malpha\u001b[0m \u001b[0;34m=\u001b[0m \u001b[0;36m100\u001b[0m\u001b[0;34m)\u001b[0m \u001b[0;31m# this is a VERY HIGH regularization strength!, wouldn't usually be used\u001b[0m\u001b[0;34m\u001b[0m\u001b[0;34m\u001b[0m\u001b[0m\n\u001b[0;32m----> 2\u001b[0;31m \u001b[0mlasso_model\u001b[0m\u001b[0;34m.\u001b[0m\u001b[0mfit\u001b[0m\u001b[0;34m(\u001b[0m\u001b[0mX_train_poly\u001b[0m\u001b[0;34m,\u001b[0m \u001b[0my_train_poly\u001b[0m\u001b[0;34m)\u001b[0m\u001b[0;34m\u001b[0m\u001b[0;34m\u001b[0m\u001b[0m\n\u001b[0m",
      "\u001b[0;31mNameError\u001b[0m: name 'y_train_poly' is not defined"
     ]
    }
   ],
   "source": [
    "lasso_model = Lasso(alpha = 100) # this is a VERY HIGH regularization strength!, wouldn't usually be used\n",
    "lasso_model.fit(X_train_poly, y_train_poly)"
   ]
  },
  {
   "cell_type": "code",
   "execution_count": 19,
   "metadata": {},
   "outputs": [
    {
     "data": {
      "text/plain": [
       "0.07435560603680347"
      ]
     },
     "execution_count": 19,
     "metadata": {},
     "output_type": "execute_result"
    }
   ],
   "source": [
    "lr_poly.score(X_val_poly, y_val)"
   ]
  },
  {
   "cell_type": "code",
   "execution_count": 25,
   "metadata": {},
   "outputs": [
    {
     "data": {
      "text/plain": [
       "0.07617142187529358"
      ]
     },
     "execution_count": 25,
     "metadata": {},
     "output_type": "execute_result"
    }
   ],
   "source": [
    "scaler = StandardScaler()\n",
    "#X_train_poly_scaled = scaler.fit_transform(X_train_poly)\n",
    "\n",
    "# Apply the same scaler to val set\n",
    "#X_val_poly_scaled = scaler.transform(X_val_poly)\n",
    "\n",
    "# Fit a LASSO model using polynomial features\n",
    "lasso = LassoCV()\n",
    "lasso.fit(X_train_poly,y_train)\n",
    "lasso.score(X_train_poly,y_train)"
   ]
  },
  {
   "cell_type": "code",
   "execution_count": 27,
   "metadata": {},
   "outputs": [
    {
     "data": {
      "text/plain": [
       "<AxesSubplot:>"
      ]
     },
     "execution_count": 27,
     "metadata": {},
     "output_type": "execute_result"
    },
    {
     "data": {
      "image/png": "[encoded data removed]",
      "text/plain": [
       "<Figure size 432x288 with 2 Axes>"
      ]
     },
     "metadata": {
      "needs_background": "light"
     },
     "output_type": "display_data"
    }
   ],
   "source": [
    "sns.heatmap(df.corr())"
   ]
  },
  {
   "cell_type": "code",
   "execution_count": 28,
   "metadata": {},
   "outputs": [
    {
     "name": "stdout",
     "output_type": "stream",
     "text": [
      "<class 'pandas.core.frame.DataFrame'>\n",
      "RangeIndex: 5519 entries, 0 to 5518\n",
      "Data columns (total 83 columns):\n",
      " #   Column                      Non-Null Count  Dtype  \n",
      "---  ------                      --------------  -----  \n",
      " 0   Unnamed: 0                  5519 non-null   int64  \n",
      " 1   num_reviews                 5519 non-null   int64  \n",
      " 2   orig_price                  5519 non-null   float64\n",
      " 3   been_sale                   5519 non-null   int64  \n",
      " 4   rating_val                  5519 non-null   float64\n",
      " 5   num_tags                    5519 non-null   float64\n",
      " 6   num_genres                  5519 non-null   float64\n",
      " 7   year_released               5519 non-null   int64  \n",
      " 8   languages_filled            5519 non-null   float64\n",
      " 9   BANDAI NAMCO Entertainment  5519 non-null   int64  \n",
      " 10  Bethesda Softworks          5519 non-null   int64  \n",
      " 11  Devolver Digital            5519 non-null   int64  \n",
      " 12  Disney                      5519 non-null   int64  \n",
      " 13  Electronic Arts             5519 non-null   int64  \n",
      " 14  Kagura Games                5519 non-null   int64  \n",
      " 15  Nightdive Studios           5519 non-null   int64  \n",
      " 16  Paradox Interactive         5519 non-null   int64  \n",
      " 17  SEGA                        5519 non-null   int64  \n",
      " 18  Square Enix                 5519 non-null   int64  \n",
      " 19  THQ Nordic                  5519 non-null   int64  \n",
      " 20  Ubisoft                     5519 non-null   int64  \n",
      " 21  Xbox Game Studios           5519 non-null   int64  \n",
      " 22  other                       5519 non-null   int64  \n",
      " 23  Singleplayer_tag            5519 non-null   int64  \n",
      " 24  Indie_tag                   5519 non-null   int64  \n",
      " 25  Action_tag                  5519 non-null   int64  \n",
      " 26  Adventure_tag               5519 non-null   int64  \n",
      " 27  Multiplayer_tag             5519 non-null   int64  \n",
      " 28  Strategy_tag                5519 non-null   int64  \n",
      " 29  RPG_tag                     5519 non-null   int64  \n",
      " 30  Casual_tag                  5519 non-null   int64  \n",
      " 31  Simulation_tag              5519 non-null   int64  \n",
      " 32  Atmospheric_tag             5519 non-null   int64  \n",
      " 33  Horror_tag                  5519 non-null   int64  \n",
      " 34  2D_tag                      5519 non-null   int64  \n",
      " 35  Soundtrack_tag              5519 non-null   int64  \n",
      " 36  Great_tag                   5519 non-null   int64  \n",
      " 37  Story_tag                   5519 non-null   int64  \n",
      " 38  Rich_tag                    5519 non-null   int64  \n",
      " 39  World_tag                   5519 non-null   int64  \n",
      " 40  Shooter_tag                 5519 non-null   int64  \n",
      " 41  Puzzle_tag                  5519 non-null   int64  \n",
      " 42  TurnBased_tag               5519 non-null   int64  \n",
      " 43  Open_tag                    5519 non-null   int64  \n",
      " 44  FirstPerson_tag             5519 non-null   int64  \n",
      " 45  Survival_tag                5519 non-null   int64  \n",
      " 46  Funny_tag                   5519 non-null   int64  \n",
      " 47  Coop_tag                    5519 non-null   int64  \n",
      " 48  Fantasy_tag                 5519 non-null   int64  \n",
      " 49  Early_tag                   5519 non-null   int64  \n",
      " 50  Access_tag                  5519 non-null   int64  \n",
      " 51  Platformer_tag              5519 non-null   int64  \n",
      " 52  Local_tag                   5519 non-null   int64  \n",
      " 53  Singleplayer_genre          5519 non-null   int64  \n",
      " 54  Indie_genre                 5519 non-null   int64  \n",
      " 55  Action_genre                5519 non-null   int64  \n",
      " 56  Adventure_genre             5519 non-null   int64  \n",
      " 57  Multiplayer_genre           5519 non-null   int64  \n",
      " 58  Strategy_genre              5519 non-null   int64  \n",
      " 59  RPG_genre                   5519 non-null   int64  \n",
      " 60  Casual_genre                5519 non-null   int64  \n",
      " 61  Simulation_genre            5519 non-null   int64  \n",
      " 62  Atmospheric_genre           5519 non-null   int64  \n",
      " 63  Horror_genre                5519 non-null   int64  \n",
      " 64  2D_genre                    5519 non-null   int64  \n",
      " 65  Soundtrack_genre            5519 non-null   int64  \n",
      " 66  Great_genre                 5519 non-null   int64  \n",
      " 67  Story_genre                 5519 non-null   int64  \n",
      " 68  Rich_genre                  5519 non-null   int64  \n",
      " 69  World_genre                 5519 non-null   int64  \n",
      " 70  Shooter_genre               5519 non-null   int64  \n",
      " 71  Puzzle_genre                5519 non-null   int64  \n",
      " 72  TurnBased_genre             5519 non-null   int64  \n",
      " 73  Open_genre                  5519 non-null   int64  \n",
      " 74  FirstPerson_genre           5519 non-null   int64  \n",
      " 75  Survival_genre              5519 non-null   int64  \n",
      " 76  Funny_genre                 5519 non-null   int64  \n",
      " 77  Coop_genre                  5519 non-null   int64  \n",
      " 78  Fantasy_genre               5519 non-null   int64  \n",
      " 79  Early_genre                 5519 non-null   int64  \n",
      " 80  Access_genre                5519 non-null   int64  \n",
      " 81  Platformer_genre            5519 non-null   int64  \n",
      " 82  Local_genre                 5519 non-null   int64  \n",
      "dtypes: float64(5), int64(78)\n",
      "memory usage: 3.5 MB\n"
     ]
    }
   ],
   "source": [
    "df.info()"
   ]
  },
  {
   "cell_type": "code",
   "execution_count": 29,
   "metadata": {},
   "outputs": [
    {
     "ename": "NameError",
     "evalue": "name 'test_set_pred' is not defined",
     "output_type": "error",
     "traceback": [
      "\u001b[0;31m---------------------------------------------------------------------------\u001b[0m",
      "\u001b[0;31mNameError\u001b[0m                                 Traceback (most recent call last)",
      "\u001b[0;32m<ipython-input-29-47ba8e600b7b>\u001b[0m in \u001b[0;36m<module>\u001b[0;34m\u001b[0m\n\u001b[0;32m----> 1\u001b[0;31m \u001b[0msns\u001b[0m\u001b[0;34m.\u001b[0m\u001b[0mresidplot\u001b[0m\u001b[0;34m(\u001b[0m\u001b[0mx\u001b[0m\u001b[0;34m=\u001b[0m\u001b[0my_test\u001b[0m\u001b[0;34m,\u001b[0m \u001b[0my\u001b[0m\u001b[0;34m=\u001b[0m\u001b[0mtest_set_pred\u001b[0m\u001b[0;34m)\u001b[0m\u001b[0;34m\u001b[0m\u001b[0;34m\u001b[0m\u001b[0m\n\u001b[0m",
      "\u001b[0;31mNameError\u001b[0m: name 'test_set_pred' is not defined"
     ]
    }
   ],
   "source": [
    "sns.residplot(x=y_test, y=test_set_pred)"
   ]
  },
  {
   "cell_type": "code",
   "execution_count": 32,
   "metadata": {},
   "outputs": [
    {
     "ename": "NotFittedError",
     "evalue": "This Lasso instance is not fitted yet. Call 'fit' with appropriate arguments before using this estimator.",
     "output_type": "error",
     "traceback": [
      "\u001b[0;31m---------------------------------------------------------------------------\u001b[0m",
      "\u001b[0;31mNotFittedError\u001b[0m                            Traceback (most recent call last)",
      "\u001b[0;32m<ipython-input-32-2c78bf529fa8>\u001b[0m in \u001b[0;36m<module>\u001b[0;34m\u001b[0m\n\u001b[0;32m----> 1\u001b[0;31m \u001b[0mtest_set_pred\u001b[0m \u001b[0;34m=\u001b[0m \u001b[0mlasso_model\u001b[0m\u001b[0;34m.\u001b[0m\u001b[0mpredict\u001b[0m\u001b[0;34m(\u001b[0m\u001b[0mX_train\u001b[0m\u001b[0;34m)\u001b[0m\u001b[0;34m\u001b[0m\u001b[0;34m\u001b[0m\u001b[0m\n\u001b[0m",
      "\u001b[0;32m/usr/local/anaconda3/lib/python3.8/site-packages/sklearn/linear_model/_base.py\u001b[0m in \u001b[0;36mpredict\u001b[0;34m(self, X)\u001b[0m\n\u001b[1;32m    234\u001b[0m             \u001b[0mReturns\u001b[0m \u001b[0mpredicted\u001b[0m \u001b[0mvalues\u001b[0m\u001b[0;34m.\u001b[0m\u001b[0;34m\u001b[0m\u001b[0;34m\u001b[0m\u001b[0m\n\u001b[1;32m    235\u001b[0m         \"\"\"\n\u001b[0;32m--> 236\u001b[0;31m         \u001b[0;32mreturn\u001b[0m \u001b[0mself\u001b[0m\u001b[0;34m.\u001b[0m\u001b[0m_decision_function\u001b[0m\u001b[0;34m(\u001b[0m\u001b[0mX\u001b[0m\u001b[0;34m)\u001b[0m\u001b[0;34m\u001b[0m\u001b[0;34m\u001b[0m\u001b[0m\n\u001b[0m\u001b[1;32m    237\u001b[0m \u001b[0;34m\u001b[0m\u001b[0m\n\u001b[1;32m    238\u001b[0m     \u001b[0m_preprocess_data\u001b[0m \u001b[0;34m=\u001b[0m \u001b[0mstaticmethod\u001b[0m\u001b[0;34m(\u001b[0m\u001b[0m_preprocess_data\u001b[0m\u001b[0;34m)\u001b[0m\u001b[0;34m\u001b[0m\u001b[0;34m\u001b[0m\u001b[0m\n",
      "\u001b[0;32m/usr/local/anaconda3/lib/python3.8/site-packages/sklearn/linear_model/_coordinate_descent.py\u001b[0m in \u001b[0;36m_decision_function\u001b[0;34m(self, X)\u001b[0m\n\u001b[1;32m    879\u001b[0m             \u001b[0mThe\u001b[0m \u001b[0mpredicted\u001b[0m \u001b[0mdecision\u001b[0m \u001b[0mfunction\u001b[0m\u001b[0;34m\u001b[0m\u001b[0;34m\u001b[0m\u001b[0m\n\u001b[1;32m    880\u001b[0m         \"\"\"\n\u001b[0;32m--> 881\u001b[0;31m         \u001b[0mcheck_is_fitted\u001b[0m\u001b[0;34m(\u001b[0m\u001b[0mself\u001b[0m\u001b[0;34m)\u001b[0m\u001b[0;34m\u001b[0m\u001b[0;34m\u001b[0m\u001b[0m\n\u001b[0m\u001b[1;32m    882\u001b[0m         \u001b[0;32mif\u001b[0m \u001b[0msparse\u001b[0m\u001b[0;34m.\u001b[0m\u001b[0misspmatrix\u001b[0m\u001b[0;34m(\u001b[0m\u001b[0mX\u001b[0m\u001b[0;34m)\u001b[0m\u001b[0;34m:\u001b[0m\u001b[0;34m\u001b[0m\u001b[0;34m\u001b[0m\u001b[0m\n\u001b[1;32m    883\u001b[0m             return safe_sparse_dot(X, self.coef_.T,\n",
      "\u001b[0;32m/usr/local/anaconda3/lib/python3.8/site-packages/sklearn/utils/validation.py\u001b[0m in \u001b[0;36minner_f\u001b[0;34m(*args, **kwargs)\u001b[0m\n\u001b[1;32m     70\u001b[0m                           FutureWarning)\n\u001b[1;32m     71\u001b[0m         \u001b[0mkwargs\u001b[0m\u001b[0;34m.\u001b[0m\u001b[0mupdate\u001b[0m\u001b[0;34m(\u001b[0m\u001b[0;34m{\u001b[0m\u001b[0mk\u001b[0m\u001b[0;34m:\u001b[0m \u001b[0marg\u001b[0m \u001b[0;32mfor\u001b[0m \u001b[0mk\u001b[0m\u001b[0;34m,\u001b[0m \u001b[0marg\u001b[0m \u001b[0;32min\u001b[0m \u001b[0mzip\u001b[0m\u001b[0;34m(\u001b[0m\u001b[0msig\u001b[0m\u001b[0;34m.\u001b[0m\u001b[0mparameters\u001b[0m\u001b[0;34m,\u001b[0m \u001b[0margs\u001b[0m\u001b[0;34m)\u001b[0m\u001b[0;34m}\u001b[0m\u001b[0;34m)\u001b[0m\u001b[0;34m\u001b[0m\u001b[0;34m\u001b[0m\u001b[0m\n\u001b[0;32m---> 72\u001b[0;31m         \u001b[0;32mreturn\u001b[0m \u001b[0mf\u001b[0m\u001b[0;34m(\u001b[0m\u001b[0;34m**\u001b[0m\u001b[0mkwargs\u001b[0m\u001b[0;34m)\u001b[0m\u001b[0;34m\u001b[0m\u001b[0;34m\u001b[0m\u001b[0m\n\u001b[0m\u001b[1;32m     73\u001b[0m     \u001b[0;32mreturn\u001b[0m \u001b[0minner_f\u001b[0m\u001b[0;34m\u001b[0m\u001b[0;34m\u001b[0m\u001b[0m\n\u001b[1;32m     74\u001b[0m \u001b[0;34m\u001b[0m\u001b[0m\n",
      "\u001b[0;32m/usr/local/anaconda3/lib/python3.8/site-packages/sklearn/utils/validation.py\u001b[0m in \u001b[0;36mcheck_is_fitted\u001b[0;34m(estimator, attributes, msg, all_or_any)\u001b[0m\n\u001b[1;32m   1017\u001b[0m \u001b[0;34m\u001b[0m\u001b[0m\n\u001b[1;32m   1018\u001b[0m     \u001b[0;32mif\u001b[0m \u001b[0;32mnot\u001b[0m \u001b[0mattrs\u001b[0m\u001b[0;34m:\u001b[0m\u001b[0;34m\u001b[0m\u001b[0;34m\u001b[0m\u001b[0m\n\u001b[0;32m-> 1019\u001b[0;31m         \u001b[0;32mraise\u001b[0m \u001b[0mNotFittedError\u001b[0m\u001b[0;34m(\u001b[0m\u001b[0mmsg\u001b[0m \u001b[0;34m%\u001b[0m \u001b[0;34m{\u001b[0m\u001b[0;34m'name'\u001b[0m\u001b[0;34m:\u001b[0m \u001b[0mtype\u001b[0m\u001b[0;34m(\u001b[0m\u001b[0mestimator\u001b[0m\u001b[0;34m)\u001b[0m\u001b[0;34m.\u001b[0m\u001b[0m__name__\u001b[0m\u001b[0;34m}\u001b[0m\u001b[0;34m)\u001b[0m\u001b[0;34m\u001b[0m\u001b[0;34m\u001b[0m\u001b[0m\n\u001b[0m\u001b[1;32m   1020\u001b[0m \u001b[0;34m\u001b[0m\u001b[0m\n\u001b[1;32m   1021\u001b[0m \u001b[0;34m\u001b[0m\u001b[0m\n",
      "\u001b[0;31mNotFittedError\u001b[0m: This Lasso instance is not fitted yet. Call 'fit' with appropriate arguments before using this estimator."
     ]
    }
   ],
   "source": [
    "test_set_pred = lasso_model.predict(X_train)"
   ]
  },
  {
   "cell_type": "code",
   "execution_count": null,
   "metadata": {},
   "outputs": [],
   "source": []
  }
 ],
 "metadata": {
  "kernelspec": {
   "display_name": "Python 3",
   "language": "python",
   "name": "python3"
  },
  "language_info": {
   "codemirror_mode": {
    "name": "ipython",
    "version": 3
   },
   "file_extension": ".py",
   "mimetype": "text/x-python",
   "name": "python",
   "nbconvert_exporter": "python",
   "pygments_lexer": "ipython3",
   "version": "3.8.5"
  }
 },
 "nbformat": 4,
 "nbformat_minor": 4
}
