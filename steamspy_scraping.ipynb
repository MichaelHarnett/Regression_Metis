{
 "cells": [
  {
   "cell_type": "code",
   "execution_count": 3,
   "metadata": {},
   "outputs": [],
   "source": [
    "from bs4 import BeautifulSoup\n",
    "import requests\n",
    "import pandas as pd\n",
    "from selenium import webdriver\n",
    "from selenium.webdriver.common.keys import Keys\n",
    "import time, os\n",
    "import json\n",
    "import pandas as pd\n",
    "import numpy as np\n",
    "import statistics\n"
   ]
  },
  {
   "cell_type": "code",
   "execution_count": 138,
   "metadata": {},
   "outputs": [],
   "source": [
    "import re\n",
    "import datetime"
   ]
  },
  {
   "cell_type": "code",
   "execution_count": 64,
   "metadata": {},
   "outputs": [],
   "source": [
    "df = pd.read_csv('data/ownerdf.csv')\n",
    "spydf = pd.read_csv('data/steamspy.csv')"
   ]
  },
  {
   "cell_type": "code",
   "execution_count": 14,
   "metadata": {},
   "outputs": [
    {
     "data": {
      "text/html": [
       "<div>\n",
       "<style scoped>\n",
       "    .dataframe tbody tr th:only-of-type {\n",
       "        vertical-align: middle;\n",
       "    }\n",
       "\n",
       "    .dataframe tbody tr th {\n",
       "        vertical-align: top;\n",
       "    }\n",
       "\n",
       "    .dataframe thead th {\n",
       "        text-align: right;\n",
       "    }\n",
       "</style>\n",
       "<table border=\"1\" class=\"dataframe\">\n",
       "  <thead>\n",
       "    <tr style=\"text-align: right;\">\n",
       "      <th></th>\n",
       "      <th>title</th>\n",
       "      <th>owners_median</th>\n",
       "      <th>positive</th>\n",
       "      <th>negative</th>\n",
       "      <th>num_reviews</th>\n",
       "      <th>ccu</th>\n",
       "      <th>median_2weeks</th>\n",
       "      <th>median_forever</th>\n",
       "      <th>average_2weeks</th>\n",
       "      <th>average_forever</th>\n",
       "      <th>...</th>\n",
       "      <th>Electronic Arts</th>\n",
       "      <th>Paradox Interactive</th>\n",
       "      <th>SEGA</th>\n",
       "      <th>Sokpop Collective</th>\n",
       "      <th>Square Enix</th>\n",
       "      <th>THQ Nordic</th>\n",
       "      <th>Ubisoft</th>\n",
       "      <th>Winged Cloud</th>\n",
       "      <th>other</th>\n",
       "      <th>tinyBuild</th>\n",
       "    </tr>\n",
       "  </thead>\n",
       "  <tbody>\n",
       "    <tr>\n",
       "      <th>0</th>\n",
       "      <td>OUTRIDERS</td>\n",
       "      <td>1500000.0</td>\n",
       "      <td>26922</td>\n",
       "      <td>14940</td>\n",
       "      <td>36837</td>\n",
       "      <td>23037</td>\n",
       "      <td>279</td>\n",
       "      <td>1600</td>\n",
       "      <td>585</td>\n",
       "      <td>2074</td>\n",
       "      <td>...</td>\n",
       "      <td>0</td>\n",
       "      <td>0</td>\n",
       "      <td>0</td>\n",
       "      <td>0</td>\n",
       "      <td>1</td>\n",
       "      <td>0</td>\n",
       "      <td>0</td>\n",
       "      <td>0</td>\n",
       "      <td>0</td>\n",
       "      <td>0</td>\n",
       "    </tr>\n",
       "    <tr>\n",
       "      <th>1</th>\n",
       "      <td>It Takes Two</td>\n",
       "      <td>750000.0</td>\n",
       "      <td>20205</td>\n",
       "      <td>877</td>\n",
       "      <td>15688</td>\n",
       "      <td>11513</td>\n",
       "      <td>425</td>\n",
       "      <td>753</td>\n",
       "      <td>371</td>\n",
       "      <td>670</td>\n",
       "      <td>...</td>\n",
       "      <td>1</td>\n",
       "      <td>0</td>\n",
       "      <td>0</td>\n",
       "      <td>0</td>\n",
       "      <td>0</td>\n",
       "      <td>0</td>\n",
       "      <td>0</td>\n",
       "      <td>0</td>\n",
       "      <td>0</td>\n",
       "      <td>0</td>\n",
       "    </tr>\n",
       "    <tr>\n",
       "      <th>2</th>\n",
       "      <td>Valheim</td>\n",
       "      <td>15000000.0</td>\n",
       "      <td>222551</td>\n",
       "      <td>8466</td>\n",
       "      <td>222855</td>\n",
       "      <td>64931</td>\n",
       "      <td>435</td>\n",
       "      <td>1113</td>\n",
       "      <td>820</td>\n",
       "      <td>2205</td>\n",
       "      <td>...</td>\n",
       "      <td>0</td>\n",
       "      <td>0</td>\n",
       "      <td>0</td>\n",
       "      <td>0</td>\n",
       "      <td>0</td>\n",
       "      <td>0</td>\n",
       "      <td>0</td>\n",
       "      <td>0</td>\n",
       "      <td>1</td>\n",
       "      <td>0</td>\n",
       "    </tr>\n",
       "  </tbody>\n",
       "</table>\n",
       "<p>3 rows × 92 columns</p>\n",
       "</div>"
      ],
      "text/plain": [
       "          title  owners_median  positive  negative  num_reviews    ccu  \\\n",
       "0     OUTRIDERS      1500000.0     26922     14940        36837  23037   \n",
       "1  It Takes Two       750000.0     20205       877        15688  11513   \n",
       "2       Valheim     15000000.0    222551      8466       222855  64931   \n",
       "\n",
       "   median_2weeks  median_forever  average_2weeks  average_forever  ...  \\\n",
       "0            279            1600             585             2074  ...   \n",
       "1            425             753             371              670  ...   \n",
       "2            435            1113             820             2205  ...   \n",
       "\n",
       "   Electronic Arts  Paradox Interactive  SEGA  Sokpop Collective  Square Enix  \\\n",
       "0                0                    0     0                  0            1   \n",
       "1                1                    0     0                  0            0   \n",
       "2                0                    0     0                  0            0   \n",
       "\n",
       "   THQ Nordic  Ubisoft  Winged Cloud  other  tinyBuild  \n",
       "0           0        0             0      0          0  \n",
       "1           0        0             0      0          0  \n",
       "2           0        0             0      1          0  \n",
       "\n",
       "[3 rows x 92 columns]"
      ]
     },
     "execution_count": 14,
     "metadata": {},
     "output_type": "execute_result"
    }
   ],
   "source": [
    "df.head(3)"
   ]
  },
  {
   "cell_type": "code",
   "execution_count": 66,
   "metadata": {},
   "outputs": [
    {
     "data": {
      "text/html": [
       "<div>\n",
       "<style scoped>\n",
       "    .dataframe tbody tr th:only-of-type {\n",
       "        vertical-align: middle;\n",
       "    }\n",
       "\n",
       "    .dataframe tbody tr th {\n",
       "        vertical-align: top;\n",
       "    }\n",
       "\n",
       "    .dataframe thead th {\n",
       "        text-align: right;\n",
       "    }\n",
       "</style>\n",
       "<table border=\"1\" class=\"dataframe\">\n",
       "  <thead>\n",
       "    <tr style=\"text-align: right;\">\n",
       "      <th></th>\n",
       "      <th>Unnamed: 0</th>\n",
       "      <th>appid</th>\n",
       "      <th>title</th>\n",
       "      <th>developer</th>\n",
       "      <th>publisher</th>\n",
       "      <th>score_rank</th>\n",
       "      <th>positive</th>\n",
       "      <th>negative</th>\n",
       "      <th>userscore</th>\n",
       "      <th>owners</th>\n",
       "      <th>average_forever</th>\n",
       "      <th>average_2weeks</th>\n",
       "      <th>median_forever</th>\n",
       "      <th>median_2weeks</th>\n",
       "      <th>price</th>\n",
       "      <th>initialprice</th>\n",
       "      <th>discount</th>\n",
       "      <th>ccu</th>\n",
       "      <th>owners_median</th>\n",
       "    </tr>\n",
       "  </thead>\n",
       "  <tbody>\n",
       "    <tr>\n",
       "      <th>0</th>\n",
       "      <td>240760</td>\n",
       "      <td>240760</td>\n",
       "      <td>Wasteland 2: Director's Cut</td>\n",
       "      <td>inXile Entertainment</td>\n",
       "      <td>inXile Entertainment</td>\n",
       "      <td>NaN</td>\n",
       "      <td>6499</td>\n",
       "      <td>1385</td>\n",
       "      <td>0</td>\n",
       "      <td>500,000 .. 1,000,000</td>\n",
       "      <td>877</td>\n",
       "      <td>0</td>\n",
       "      <td>681</td>\n",
       "      <td>0</td>\n",
       "      <td>2999.0</td>\n",
       "      <td>2999.0</td>\n",
       "      <td>0.0</td>\n",
       "      <td>32</td>\n",
       "      <td>750000.0</td>\n",
       "    </tr>\n",
       "    <tr>\n",
       "      <th>1</th>\n",
       "      <td>241540</td>\n",
       "      <td>241540</td>\n",
       "      <td>State of Decay</td>\n",
       "      <td>Undead Labs</td>\n",
       "      <td>Xbox Game Studios</td>\n",
       "      <td>NaN</td>\n",
       "      <td>14963</td>\n",
       "      <td>2744</td>\n",
       "      <td>0</td>\n",
       "      <td>500,000 .. 1,000,000</td>\n",
       "      <td>1304</td>\n",
       "      <td>0</td>\n",
       "      <td>1461</td>\n",
       "      <td>0</td>\n",
       "      <td>0.0</td>\n",
       "      <td>0.0</td>\n",
       "      <td>0.0</td>\n",
       "      <td>18</td>\n",
       "      <td>750000.0</td>\n",
       "    </tr>\n",
       "    <tr>\n",
       "      <th>2</th>\n",
       "      <td>8800</td>\n",
       "      <td>8800</td>\n",
       "      <td>Civilization IV: Beyond the Sword</td>\n",
       "      <td>Firaxis Games</td>\n",
       "      <td>2K</td>\n",
       "      <td>NaN</td>\n",
       "      <td>2694</td>\n",
       "      <td>100</td>\n",
       "      <td>0</td>\n",
       "      <td>500,000 .. 1,000,000</td>\n",
       "      <td>3395</td>\n",
       "      <td>196</td>\n",
       "      <td>4337</td>\n",
       "      <td>196</td>\n",
       "      <td>999.0</td>\n",
       "      <td>999.0</td>\n",
       "      <td>0.0</td>\n",
       "      <td>1576</td>\n",
       "      <td>750000.0</td>\n",
       "    </tr>\n",
       "  </tbody>\n",
       "</table>\n",
       "</div>"
      ],
      "text/plain": [
       "   Unnamed: 0   appid                              title  \\\n",
       "0      240760  240760        Wasteland 2: Director's Cut   \n",
       "1      241540  241540                     State of Decay   \n",
       "2        8800    8800  Civilization IV: Beyond the Sword   \n",
       "\n",
       "              developer             publisher  score_rank  positive  negative  \\\n",
       "0  inXile Entertainment  inXile Entertainment         NaN      6499      1385   \n",
       "1           Undead Labs     Xbox Game Studios         NaN     14963      2744   \n",
       "2         Firaxis Games                    2K         NaN      2694       100   \n",
       "\n",
       "   userscore                owners  average_forever  average_2weeks  \\\n",
       "0          0  500,000 .. 1,000,000              877               0   \n",
       "1          0  500,000 .. 1,000,000             1304               0   \n",
       "2          0  500,000 .. 1,000,000             3395             196   \n",
       "\n",
       "   median_forever  median_2weeks   price  initialprice  discount   ccu  \\\n",
       "0             681              0  2999.0        2999.0       0.0    32   \n",
       "1            1461              0     0.0           0.0       0.0    18   \n",
       "2            4337            196   999.0         999.0       0.0  1576   \n",
       "\n",
       "   owners_median  \n",
       "0       750000.0  \n",
       "1       750000.0  \n",
       "2       750000.0  "
      ]
     },
     "execution_count": 66,
     "metadata": {},
     "output_type": "execute_result"
    }
   ],
   "source": [
    "spydf.head(3)"
   ]
  },
  {
   "cell_type": "code",
   "execution_count": 15,
   "metadata": {},
   "outputs": [
    {
     "data": {
      "text/plain": [
       "(5188, 92)"
      ]
     },
     "execution_count": 15,
     "metadata": {},
     "output_type": "execute_result"
    }
   ],
   "source": [
    "df.shape"
   ]
  },
  {
   "cell_type": "code",
   "execution_count": 668,
   "metadata": {},
   "outputs": [],
   "source": [
    "chromedriver = \"/Applications/chromedriver\" \n",
    "os.environ[\"webdriver.chrome.driver\"] = chromedriver\n",
    "from selenium.webdriver.chrome.options import Options\n",
    "chrome_options = Options()\n",
    "chrome_options.add_argument('--disable-gpu')\n",
    "chrome_options.add_argument('--no-sandbox')\n",
    "\n",
    "#url = 'https://steamspy.com/search.php'\n",
    "#driver.get('steamspy.com/app/240760')\n",
    "\n",
    "driver = webdriver.Chrome(chromedriver)\n",
    "driver.get(url)\n",
    "\n"
   ]
  },
  {
   "cell_type": "code",
   "execution_count": 215,
   "metadata": {},
   "outputs": [],
   "source": [
    "driver.get(url)"
   ]
  },
  {
   "cell_type": "markdown",
   "metadata": {},
   "source": [
    "# Game Specific Scraping"
   ]
  },
  {
   "cell_type": "code",
   "execution_count": 68,
   "metadata": {},
   "outputs": [],
   "source": [
    "soup = BeautifulSoup(driver.page_source, 'html5lib')"
   ]
  },
  {
   "cell_type": "code",
   "execution_count": 77,
   "metadata": {},
   "outputs": [
    {
     "data": {
      "text/plain": [
       "\"Wasteland 2: Director's Cut\""
      ]
     },
     "execution_count": 77,
     "metadata": {},
     "output_type": "execute_result"
    }
   ],
   "source": [
    "#title of game\n",
    "title = soup.find('h3').text\n",
    "title"
   ]
  },
  {
   "cell_type": "code",
   "execution_count": 69,
   "metadata": {},
   "outputs": [
    {
     "data": {
      "text/plain": [
       "804000"
      ]
     },
     "execution_count": 69,
     "metadata": {},
     "output_type": "execute_result"
    }
   ],
   "source": [
    "#number of owners\n",
    "num_owners = int(soup.find('strong',text='Owners').next_sibling.strip().split()[1].replace(',',''))\n",
    "num_owners"
   ]
  },
  {
   "cell_type": "code",
   "execution_count": 70,
   "metadata": {},
   "outputs": [
    {
     "data": {
      "text/plain": [
       "82"
      ]
     },
     "execution_count": 70,
     "metadata": {},
     "output_type": "execute_result"
    }
   ],
   "source": [
    "#scored by users\n",
    "userscore = int(soup.find('strong', text = 'Old userscore:').next_sibling.strip().replace('%',''))\n",
    "userscore"
   ]
  },
  {
   "cell_type": "code",
   "execution_count": 75,
   "metadata": {},
   "outputs": [
    {
     "data": {
      "text/plain": [
       "87"
      ]
     },
     "execution_count": 75,
     "metadata": {},
     "output_type": "execute_result"
    }
   ],
   "source": [
    "#scored by critics\n",
    "metascore = int(soup.find('strong', text = 'Metascore:').next_sibling.strip().replace('%',''))\n",
    "metascore"
   ]
  },
  {
   "cell_type": "code",
   "execution_count": 117,
   "metadata": {},
   "outputs": [],
   "source": [
    "#finding list of languages from this more complete site\n",
    "languages = [language.text for language in soup.find_all('a', href=re.compile('language'))]\n",
    "\n",
    "#removes the abreviations that were causing doubles of certain languages\n",
    "for items in languages:\n",
    "    if len(items) <= 2:\n",
    "        languages.remove(items)"
   ]
  },
  {
   "cell_type": "code",
   "execution_count": 118,
   "metadata": {},
   "outputs": [
    {
     "data": {
      "text/plain": [
       "['English',\n",
       " 'Russian',\n",
       " 'German',\n",
       " 'Spanish',\n",
       " 'Chinese',\n",
       " 'French',\n",
       " 'Polish',\n",
       " 'Turkish',\n",
       " 'Swedish',\n",
       " 'English',\n",
       " 'French',\n",
       " 'German',\n",
       " 'Spanish - Spain',\n",
       " 'Polish',\n",
       " 'Russian',\n",
       " 'Italian',\n",
       " 'Turkish']"
      ]
     },
     "execution_count": 118,
     "metadata": {},
     "output_type": "execute_result"
    }
   ],
   "source": [
    "languages"
   ]
  },
  {
   "cell_type": "code",
   "execution_count": 159,
   "metadata": {},
   "outputs": [
    {
     "data": {
      "text/plain": [
       "datetime.time(18, 57)"
      ]
     },
     "execution_count": 159,
     "metadata": {},
     "output_type": "execute_result"
    }
   ],
   "source": [
    "#average total playtime\n",
    "avg_playtime = pd.to_datetime(soup.find('strong', text = 'Playtime total:').next_sibling.split()[0]).time()\n",
    "avg_playtime"
   ]
  },
  {
   "cell_type": "code",
   "execution_count": 137,
   "metadata": {},
   "outputs": [
    {
     "data": {
      "text/plain": [
       "94336"
      ]
     },
     "execution_count": 137,
     "metadata": {},
     "output_type": "execute_result"
    }
   ],
   "source": [
    "#number of users following the game\n",
    "num_followers = int(soup.find('strong', text = 'Followers').next_sibling.split()[1].replace(',',''))\n",
    "num_followers"
   ]
  },
  {
   "cell_type": "markdown",
   "metadata": {},
   "source": [
    "# Creating list of game titles to scrape from second site\n",
    "\n",
    "pulling game id's from spydf for all titles in reviewsdf"
   ]
  },
  {
   "cell_type": "code",
   "execution_count": 160,
   "metadata": {},
   "outputs": [],
   "source": [
    "spyscrapedf = pd.merge(reviewsdf['title'],spydf[['title','appid']],on='title')"
   ]
  },
  {
   "cell_type": "code",
   "execution_count": 161,
   "metadata": {},
   "outputs": [
    {
     "data": {
      "text/html": [
       "<div>\n",
       "<style scoped>\n",
       "    .dataframe tbody tr th:only-of-type {\n",
       "        vertical-align: middle;\n",
       "    }\n",
       "\n",
       "    .dataframe tbody tr th {\n",
       "        vertical-align: top;\n",
       "    }\n",
       "\n",
       "    .dataframe thead th {\n",
       "        text-align: right;\n",
       "    }\n",
       "</style>\n",
       "<table border=\"1\" class=\"dataframe\">\n",
       "  <thead>\n",
       "    <tr style=\"text-align: right;\">\n",
       "      <th></th>\n",
       "      <th>title</th>\n",
       "      <th>appid</th>\n",
       "    </tr>\n",
       "  </thead>\n",
       "  <tbody>\n",
       "    <tr>\n",
       "      <th>0</th>\n",
       "      <td>OUTRIDERS</td>\n",
       "      <td>680420</td>\n",
       "    </tr>\n",
       "    <tr>\n",
       "      <th>1</th>\n",
       "      <td>It Takes Two</td>\n",
       "      <td>1426210</td>\n",
       "    </tr>\n",
       "    <tr>\n",
       "      <th>2</th>\n",
       "      <td>Valheim</td>\n",
       "      <td>892970</td>\n",
       "    </tr>\n",
       "    <tr>\n",
       "      <th>3</th>\n",
       "      <td>7 Days to Die</td>\n",
       "      <td>251570</td>\n",
       "    </tr>\n",
       "    <tr>\n",
       "      <th>4</th>\n",
       "      <td>Battlefield V</td>\n",
       "      <td>1238810</td>\n",
       "    </tr>\n",
       "    <tr>\n",
       "      <th>...</th>\n",
       "      <td>...</td>\n",
       "      <td>...</td>\n",
       "    </tr>\n",
       "    <tr>\n",
       "      <th>5184</th>\n",
       "      <td>The Prism</td>\n",
       "      <td>399420</td>\n",
       "    </tr>\n",
       "    <tr>\n",
       "      <th>5185</th>\n",
       "      <td>Blaster Simulator</td>\n",
       "      <td>446450</td>\n",
       "    </tr>\n",
       "    <tr>\n",
       "      <th>5186</th>\n",
       "      <td>Rail Cargo Simulator</td>\n",
       "      <td>446490</td>\n",
       "    </tr>\n",
       "    <tr>\n",
       "      <th>5187</th>\n",
       "      <td>Redemption: Eternal Quest</td>\n",
       "      <td>390880</td>\n",
       "    </tr>\n",
       "    <tr>\n",
       "      <th>5188</th>\n",
       "      <td>Tell Me Everything</td>\n",
       "      <td>846820</td>\n",
       "    </tr>\n",
       "  </tbody>\n",
       "</table>\n",
       "<p>5189 rows × 2 columns</p>\n",
       "</div>"
      ],
      "text/plain": [
       "                          title    appid\n",
       "0                     OUTRIDERS   680420\n",
       "1                  It Takes Two  1426210\n",
       "2                       Valheim   892970\n",
       "3                 7 Days to Die   251570\n",
       "4                 Battlefield V  1238810\n",
       "...                         ...      ...\n",
       "5184                  The Prism   399420\n",
       "5185          Blaster Simulator   446450\n",
       "5186       Rail Cargo Simulator   446490\n",
       "5187  Redemption: Eternal Quest   390880\n",
       "5188         Tell Me Everything   846820\n",
       "\n",
       "[5189 rows x 2 columns]"
      ]
     },
     "execution_count": 161,
     "metadata": {},
     "output_type": "execute_result"
    }
   ],
   "source": [
    "spyscrapedf\n"
   ]
  },
  {
   "cell_type": "code",
   "execution_count": 271,
   "metadata": {},
   "outputs": [
    {
     "data": {
      "text/plain": [
       "42773"
      ]
     },
     "execution_count": 271,
     "metadata": {},
     "output_type": "execute_result"
    }
   ],
   "source": [
    "len(spydf)"
   ]
  },
  {
   "cell_type": "code",
   "execution_count": 180,
   "metadata": {},
   "outputs": [],
   "source": [
    "idlist = list(spyscrapedf.appid)"
   ]
  },
  {
   "cell_type": "code",
   "execution_count": 202,
   "metadata": {},
   "outputs": [],
   "source": [
    "urllist=[]\n",
    "for items in idlist:\n",
    "    urllist.append('https://steamspy.com/app/'+ str(items))"
   ]
  },
  {
   "cell_type": "code",
   "execution_count": 203,
   "metadata": {},
   "outputs": [
    {
     "data": {
      "text/plain": [
       "['https://steamspy.com/app/680420',\n",
       " 'https://steamspy.com/app/1426210',\n",
       " 'https://steamspy.com/app/892970',\n",
       " 'https://steamspy.com/app/251570']"
      ]
     },
     "execution_count": 203,
     "metadata": {},
     "output_type": "execute_result"
    }
   ],
   "source": [
    "urllist[:4]"
   ]
  },
  {
   "cell_type": "code",
   "execution_count": 266,
   "metadata": {},
   "outputs": [],
   "source": [
    "def get_spy_details(url):\n",
    "    \n",
    "    \n",
    "    '''\n",
    "    Similar to get_game_details, this function will run though the urls it is passed, and scrape the appropirate information \n",
    "    for each game from steamspy. Details being scraped from this site are: title, number of owners, userscore, metascore (critic),\n",
    "    languages (seems to be more easily attained on this site than steam itself), average total playtime, and number of people\n",
    "    following the game. Will give nans if details are not found on the page\n",
    "    '''\n",
    "    #url = 'https://steamspy.com/app/{}'.format(item)\n",
    "    response = driver.get(url)\n",
    "    soup = BeautifulSoup(driver.page_source, \"html5lib\")\n",
    "    \n",
    "    \n",
    "    headers = ['title','owners','userscore',\n",
    "              'metascore','languages','avg_playtime',\n",
    "              'num_followers']\n",
    "    \n",
    "    \n",
    "    #get the title\n",
    "    if not soup.find('h3').text:\n",
    "        title = np.nan\n",
    "    else:\n",
    "        title = title = soup.find('h3').text\n",
    " \n",
    "\n",
    "    #get the number of owners\n",
    "    if not soup.find('strong',text='Owners').next_sibling:\n",
    "        owners = np.nan\n",
    "    else:\n",
    "        owners = int(soup.find('strong',text='Owners').next_sibling.strip().split()[1].replace(',',''))\n",
    "    \n",
    "    \n",
    "    #get the userscore\n",
    "    if not soup.find('strong', text = 'Old userscore:'):\n",
    "        userscore = np.nan\n",
    "    else:\n",
    "        userscore = int(soup.find('strong', text = 'Old userscore:').next_sibling.strip().replace('%',''))\n",
    "        \n",
    "        \n",
    "    #get the metacritic score\n",
    "    if not soup.find('strong', text = 'Metascore:'):\n",
    "        metascore = np.nan\n",
    "    else:\n",
    "        metascore = int(soup.find('strong', text = 'Metascore:').next_sibling.strip().replace('%',''))\n",
    "        \n",
    "        \n",
    "    #get languages\n",
    "    if not soup.find_all('a', href=re.compile('language')):\n",
    "        languages = np.nan\n",
    "    else:\n",
    "        languages = [language.text for language in soup.find_all('a', href=re.compile('language'))]\n",
    "        #removes the abreviations that were causing doubles of certain languages\n",
    "        for items in languages:\n",
    "            if len(items) <= 2:\n",
    "                languages.remove(items)\n",
    "                \n",
    "                \n",
    "    #get average playtime\n",
    "    if not soup.find('strong', text = 'Playtime total:'):\n",
    "        avg_playtime = np.nan\n",
    "    else:\n",
    "        #avg_playtime = pd.to_datetime(soup.find('strong', text = 'Playtime total:').next_sibling.split()[0]).time()\n",
    "        avg_playtime = soup.find('strong', text = 'Playtime total:').next_sibling.split()[0]\n",
    "        \n",
    "        \n",
    "        \n",
    "    #get number of followers\n",
    "    if not soup.find('strong', text = 'Followers'):\n",
    "        followers = np.nan\n",
    "    elif not soup.find('strong', text = 'Followers').next_sibling:\n",
    "        followers = np.nan\n",
    "    else:\n",
    "        followers = int(soup.find('strong', text = 'Followers').next_sibling.split()[1].replace(',',''))\n",
    "\n",
    "        \n",
    "    spydict = dict(zip(headers,[title, owners, userscore,\n",
    "                               metascore, languages, avg_playtime,\n",
    "                               followers]))\n",
    "    \n",
    "    return spydict"
   ]
  },
  {
   "cell_type": "code",
   "execution_count": 210,
   "metadata": {},
   "outputs": [
    {
     "ename": "AttributeError",
     "evalue": "'NoneType' object has no attribute 'next_sibling'",
     "output_type": "error",
     "traceback": [
      "\u001b[0;31m---------------------------------------------------------------------------\u001b[0m",
      "\u001b[0;31mAttributeError\u001b[0m                            Traceback (most recent call last)",
      "\u001b[0;32m<ipython-input-210-7ae2d0cbc6ad>\u001b[0m in \u001b[0;36m<module>\u001b[0;34m\u001b[0m\n\u001b[1;32m      2\u001b[0m \u001b[0;34m\u001b[0m\u001b[0m\n\u001b[1;32m      3\u001b[0m \u001b[0;32mfor\u001b[0m \u001b[0murl\u001b[0m \u001b[0;32min\u001b[0m \u001b[0murllist\u001b[0m\u001b[0;34m:\u001b[0m\u001b[0;34m\u001b[0m\u001b[0;34m\u001b[0m\u001b[0m\n\u001b[0;32m----> 4\u001b[0;31m     \u001b[0mspy_info\u001b[0m\u001b[0;34m.\u001b[0m\u001b[0mappend\u001b[0m\u001b[0;34m(\u001b[0m\u001b[0mget_spy_details\u001b[0m\u001b[0;34m(\u001b[0m\u001b[0murl\u001b[0m\u001b[0;34m)\u001b[0m\u001b[0;34m)\u001b[0m\u001b[0;34m\u001b[0m\u001b[0;34m\u001b[0m\u001b[0m\n\u001b[0m",
      "\u001b[0;32m<ipython-input-209-524fc969c2f4>\u001b[0m in \u001b[0;36mget_spy_details\u001b[0;34m(url)\u001b[0m\n\u001b[1;32m     26\u001b[0m \u001b[0;34m\u001b[0m\u001b[0m\n\u001b[1;32m     27\u001b[0m     \u001b[0;31m#get the number of owners\u001b[0m\u001b[0;34m\u001b[0m\u001b[0;34m\u001b[0m\u001b[0;34m\u001b[0m\u001b[0m\n\u001b[0;32m---> 28\u001b[0;31m     \u001b[0;32mif\u001b[0m \u001b[0;32mnot\u001b[0m \u001b[0msoup\u001b[0m\u001b[0;34m.\u001b[0m\u001b[0mfind\u001b[0m\u001b[0;34m(\u001b[0m\u001b[0;34m'strong'\u001b[0m\u001b[0;34m,\u001b[0m\u001b[0mtext\u001b[0m\u001b[0;34m=\u001b[0m\u001b[0;34m'Owners'\u001b[0m\u001b[0;34m)\u001b[0m\u001b[0;34m.\u001b[0m\u001b[0mnext_sibling\u001b[0m\u001b[0;34m:\u001b[0m\u001b[0;34m\u001b[0m\u001b[0;34m\u001b[0m\u001b[0m\n\u001b[0m\u001b[1;32m     29\u001b[0m         \u001b[0mowners\u001b[0m \u001b[0;34m=\u001b[0m \u001b[0mnp\u001b[0m\u001b[0;34m.\u001b[0m\u001b[0mnan\u001b[0m\u001b[0;34m\u001b[0m\u001b[0;34m\u001b[0m\u001b[0m\n\u001b[1;32m     30\u001b[0m     \u001b[0;32melse\u001b[0m\u001b[0;34m:\u001b[0m\u001b[0;34m\u001b[0m\u001b[0;34m\u001b[0m\u001b[0m\n",
      "\u001b[0;31mAttributeError\u001b[0m: 'NoneType' object has no attribute 'next_sibling'"
     ]
    }
   ],
   "source": [
    "spy_info = []\n",
    "\n",
    "for url in urllist:\n",
    "    spy_info.append(get_spy_details(url))"
   ]
  },
  {
   "cell_type": "code",
   "execution_count": 268,
   "metadata": {},
   "outputs": [
    {
     "data": {
      "text/plain": [
       "5189"
      ]
     },
     "execution_count": 268,
     "metadata": {},
     "output_type": "execute_result"
    }
   ],
   "source": [
    "len(spy_info)"
   ]
  },
  {
   "cell_type": "code",
   "execution_count": 269,
   "metadata": {},
   "outputs": [
    {
     "data": {
      "text/plain": [
       "5189"
      ]
     },
     "execution_count": 269,
     "metadata": {},
     "output_type": "execute_result"
    }
   ],
   "source": [
    "len(urllist)"
   ]
  },
  {
   "cell_type": "code",
   "execution_count": 222,
   "metadata": {},
   "outputs": [],
   "source": [
    "chrome_options.add_argument('--headless')"
   ]
  },
  {
   "cell_type": "code",
   "execution_count": 267,
   "metadata": {},
   "outputs": [],
   "source": [
    "for url in urllist[2462:]:\n",
    "    spy_info.append(get_spy_details(url))"
   ]
  },
  {
   "cell_type": "markdown",
   "metadata": {},
   "source": [
    "# EDA on data screaped on SteamSpy\n",
    "\n",
    "Transforming scraped data into a dataframe and exploring the results"
   ]
  },
  {
   "cell_type": "code",
   "execution_count": 272,
   "metadata": {},
   "outputs": [],
   "source": [
    "spyscrapedf  = pd.DataFrame(spy_info)"
   ]
  },
  {
   "cell_type": "code",
   "execution_count": 585,
   "metadata": {},
   "outputs": [
    {
     "data": {
      "text/html": [
       "<div>\n",
       "<style scoped>\n",
       "    .dataframe tbody tr th:only-of-type {\n",
       "        vertical-align: middle;\n",
       "    }\n",
       "\n",
       "    .dataframe tbody tr th {\n",
       "        vertical-align: top;\n",
       "    }\n",
       "\n",
       "    .dataframe thead th {\n",
       "        text-align: right;\n",
       "    }\n",
       "</style>\n",
       "<table border=\"1\" class=\"dataframe\">\n",
       "  <thead>\n",
       "    <tr style=\"text-align: right;\">\n",
       "      <th></th>\n",
       "      <th>title</th>\n",
       "      <th>owners</th>\n",
       "      <th>userscore</th>\n",
       "      <th>metascore</th>\n",
       "      <th>languages</th>\n",
       "      <th>avg_playtime</th>\n",
       "      <th>num_followers</th>\n",
       "    </tr>\n",
       "  </thead>\n",
       "  <tbody>\n",
       "    <tr>\n",
       "      <th>0</th>\n",
       "      <td>OUTRIDERS</td>\n",
       "      <td>1811000</td>\n",
       "      <td>64.0</td>\n",
       "      <td>NaN</td>\n",
       "      <td>[English, Russian, German, Spanish, Chinese, F...</td>\n",
       "      <td>53:52</td>\n",
       "      <td>121322.0</td>\n",
       "    </tr>\n",
       "    <tr>\n",
       "      <th>1</th>\n",
       "      <td>It Takes Two</td>\n",
       "      <td>776000</td>\n",
       "      <td>95.0</td>\n",
       "      <td>NaN</td>\n",
       "      <td>[English, Russian, German, Spanish, Chinese, F...</td>\n",
       "      <td>12:49</td>\n",
       "      <td>99446.0</td>\n",
       "    </tr>\n",
       "    <tr>\n",
       "      <th>2</th>\n",
       "      <td>Valheim</td>\n",
       "      <td>15510000</td>\n",
       "      <td>96.0</td>\n",
       "      <td>NaN</td>\n",
       "      <td>[English, Russian, German, Spanish, Chinese, F...</td>\n",
       "      <td>35:21</td>\n",
       "      <td>333665.0</td>\n",
       "    </tr>\n",
       "    <tr>\n",
       "      <th>3</th>\n",
       "      <td>7 Days to Die</td>\n",
       "      <td>7988000</td>\n",
       "      <td>86.0</td>\n",
       "      <td>NaN</td>\n",
       "      <td>[English, Russian, German, Spanish, Chinese, F...</td>\n",
       "      <td>66:24</td>\n",
       "      <td>403936.0</td>\n",
       "    </tr>\n",
       "    <tr>\n",
       "      <th>4</th>\n",
       "      <td>Battlefield V</td>\n",
       "      <td>1037000</td>\n",
       "      <td>66.0</td>\n",
       "      <td>NaN</td>\n",
       "      <td>[English, Russian, German, Spanish, Chinese, F...</td>\n",
       "      <td>25:10</td>\n",
       "      <td>67662.0</td>\n",
       "    </tr>\n",
       "    <tr>\n",
       "      <th>...</th>\n",
       "      <td>...</td>\n",
       "      <td>...</td>\n",
       "      <td>...</td>\n",
       "      <td>...</td>\n",
       "      <td>...</td>\n",
       "      <td>...</td>\n",
       "      <td>...</td>\n",
       "    </tr>\n",
       "    <tr>\n",
       "      <th>5238</th>\n",
       "      <td>The Prism</td>\n",
       "      <td>49000</td>\n",
       "      <td>73.0</td>\n",
       "      <td>NaN</td>\n",
       "      <td>[English, Russian, German, Spanish, Chinese, F...</td>\n",
       "      <td>05:32</td>\n",
       "      <td>262.0</td>\n",
       "    </tr>\n",
       "    <tr>\n",
       "      <th>5239</th>\n",
       "      <td>Blaster Simulator</td>\n",
       "      <td>9000</td>\n",
       "      <td>NaN</td>\n",
       "      <td>NaN</td>\n",
       "      <td>[English, Russian, German, Spanish, Chinese, F...</td>\n",
       "      <td>NaN</td>\n",
       "      <td>185.0</td>\n",
       "    </tr>\n",
       "    <tr>\n",
       "      <th>5240</th>\n",
       "      <td>Rail Cargo Simulator</td>\n",
       "      <td>5000</td>\n",
       "      <td>NaN</td>\n",
       "      <td>NaN</td>\n",
       "      <td>[English, Russian, German, Spanish, Chinese, F...</td>\n",
       "      <td>00:06</td>\n",
       "      <td>141.0</td>\n",
       "    </tr>\n",
       "    <tr>\n",
       "      <th>5241</th>\n",
       "      <td>Redemption: Eternal Quest</td>\n",
       "      <td>126000</td>\n",
       "      <td>47.0</td>\n",
       "      <td>NaN</td>\n",
       "      <td>[English, Russian, German, Spanish, Chinese, F...</td>\n",
       "      <td>03:35</td>\n",
       "      <td>661.0</td>\n",
       "    </tr>\n",
       "    <tr>\n",
       "      <th>5242</th>\n",
       "      <td>Tell Me Everything</td>\n",
       "      <td>4000</td>\n",
       "      <td>NaN</td>\n",
       "      <td>NaN</td>\n",
       "      <td>[English, Russian, German, Spanish, Chinese, F...</td>\n",
       "      <td>NaN</td>\n",
       "      <td>194.0</td>\n",
       "    </tr>\n",
       "  </tbody>\n",
       "</table>\n",
       "<p>5168 rows × 7 columns</p>\n",
       "</div>"
      ],
      "text/plain": [
       "                          title    owners  userscore  metascore  \\\n",
       "0                     OUTRIDERS   1811000       64.0        NaN   \n",
       "1                  It Takes Two    776000       95.0        NaN   \n",
       "2                       Valheim  15510000       96.0        NaN   \n",
       "3                 7 Days to Die   7988000       86.0        NaN   \n",
       "4                 Battlefield V   1037000       66.0        NaN   \n",
       "...                         ...       ...        ...        ...   \n",
       "5238                  The Prism     49000       73.0        NaN   \n",
       "5239          Blaster Simulator      9000        NaN        NaN   \n",
       "5240       Rail Cargo Simulator      5000        NaN        NaN   \n",
       "5241  Redemption: Eternal Quest    126000       47.0        NaN   \n",
       "5242         Tell Me Everything      4000        NaN        NaN   \n",
       "\n",
       "                                              languages avg_playtime  \\\n",
       "0     [English, Russian, German, Spanish, Chinese, F...        53:52   \n",
       "1     [English, Russian, German, Spanish, Chinese, F...        12:49   \n",
       "2     [English, Russian, German, Spanish, Chinese, F...        35:21   \n",
       "3     [English, Russian, German, Spanish, Chinese, F...        66:24   \n",
       "4     [English, Russian, German, Spanish, Chinese, F...        25:10   \n",
       "...                                                 ...          ...   \n",
       "5238  [English, Russian, German, Spanish, Chinese, F...        05:32   \n",
       "5239  [English, Russian, German, Spanish, Chinese, F...          NaN   \n",
       "5240  [English, Russian, German, Spanish, Chinese, F...        00:06   \n",
       "5241  [English, Russian, German, Spanish, Chinese, F...        03:35   \n",
       "5242  [English, Russian, German, Spanish, Chinese, F...          NaN   \n",
       "\n",
       "      num_followers  \n",
       "0          121322.0  \n",
       "1           99446.0  \n",
       "2          333665.0  \n",
       "3          403936.0  \n",
       "4           67662.0  \n",
       "...             ...  \n",
       "5238          262.0  \n",
       "5239          185.0  \n",
       "5240          141.0  \n",
       "5241          661.0  \n",
       "5242          194.0  \n",
       "\n",
       "[5168 rows x 7 columns]"
      ]
     },
     "execution_count": 585,
     "metadata": {},
     "output_type": "execute_result"
    }
   ],
   "source": [
    "spyscrapedf"
   ]
  },
  {
   "cell_type": "code",
   "execution_count": 586,
   "metadata": {},
   "outputs": [
    {
     "data": {
      "text/html": [
       "<div>\n",
       "<style scoped>\n",
       "    .dataframe tbody tr th:only-of-type {\n",
       "        vertical-align: middle;\n",
       "    }\n",
       "\n",
       "    .dataframe tbody tr th {\n",
       "        vertical-align: top;\n",
       "    }\n",
       "\n",
       "    .dataframe thead th {\n",
       "        text-align: right;\n",
       "    }\n",
       "</style>\n",
       "<table border=\"1\" class=\"dataframe\">\n",
       "  <thead>\n",
       "    <tr style=\"text-align: right;\">\n",
       "      <th></th>\n",
       "      <th>owners</th>\n",
       "      <th>userscore</th>\n",
       "      <th>metascore</th>\n",
       "      <th>num_followers</th>\n",
       "    </tr>\n",
       "  </thead>\n",
       "  <tbody>\n",
       "    <tr>\n",
       "      <th>count</th>\n",
       "      <td>5.168000e+03</td>\n",
       "      <td>4175.000000</td>\n",
       "      <td>1199.000000</td>\n",
       "      <td>5.167000e+03</td>\n",
       "    </tr>\n",
       "    <tr>\n",
       "      <th>mean</th>\n",
       "      <td>2.985223e+05</td>\n",
       "      <td>82.719521</td>\n",
       "      <td>75.842369</td>\n",
       "      <td>2.248680e+04</td>\n",
       "    </tr>\n",
       "    <tr>\n",
       "      <th>std</th>\n",
       "      <td>1.251051e+06</td>\n",
       "      <td>12.856312</td>\n",
       "      <td>9.426422</td>\n",
       "      <td>1.317565e+05</td>\n",
       "    </tr>\n",
       "    <tr>\n",
       "      <th>min</th>\n",
       "      <td>0.000000e+00</td>\n",
       "      <td>13.000000</td>\n",
       "      <td>23.000000</td>\n",
       "      <td>0.000000e+00</td>\n",
       "    </tr>\n",
       "    <tr>\n",
       "      <th>25%</th>\n",
       "      <td>5.000000e+03</td>\n",
       "      <td>77.000000</td>\n",
       "      <td>71.000000</td>\n",
       "      <td>3.680000e+02</td>\n",
       "    </tr>\n",
       "    <tr>\n",
       "      <th>50%</th>\n",
       "      <td>3.000000e+04</td>\n",
       "      <td>86.000000</td>\n",
       "      <td>77.000000</td>\n",
       "      <td>2.583000e+03</td>\n",
       "    </tr>\n",
       "    <tr>\n",
       "      <th>75%</th>\n",
       "      <td>1.732500e+05</td>\n",
       "      <td>92.000000</td>\n",
       "      <td>82.000000</td>\n",
       "      <td>1.311700e+04</td>\n",
       "    </tr>\n",
       "    <tr>\n",
       "      <th>max</th>\n",
       "      <td>5.550900e+07</td>\n",
       "      <td>100.000000</td>\n",
       "      <td>96.000000</td>\n",
       "      <td>7.597045e+06</td>\n",
       "    </tr>\n",
       "  </tbody>\n",
       "</table>\n",
       "</div>"
      ],
      "text/plain": [
       "             owners    userscore    metascore  num_followers\n",
       "count  5.168000e+03  4175.000000  1199.000000   5.167000e+03\n",
       "mean   2.985223e+05    82.719521    75.842369   2.248680e+04\n",
       "std    1.251051e+06    12.856312     9.426422   1.317565e+05\n",
       "min    0.000000e+00    13.000000    23.000000   0.000000e+00\n",
       "25%    5.000000e+03    77.000000    71.000000   3.680000e+02\n",
       "50%    3.000000e+04    86.000000    77.000000   2.583000e+03\n",
       "75%    1.732500e+05    92.000000    82.000000   1.311700e+04\n",
       "max    5.550900e+07   100.000000    96.000000   7.597045e+06"
      ]
     },
     "execution_count": 586,
     "metadata": {},
     "output_type": "execute_result"
    }
   ],
   "source": [
    "spyscrapedf.describe()"
   ]
  },
  {
   "cell_type": "code",
   "execution_count": 277,
   "metadata": {},
   "outputs": [
    {
     "name": "stdout",
     "output_type": "stream",
     "text": [
      "<class 'pandas.core.frame.DataFrame'>\n",
      "RangeIndex: 5189 entries, 0 to 5188\n",
      "Data columns (total 7 columns):\n",
      " #   Column         Non-Null Count  Dtype  \n",
      "---  ------         --------------  -----  \n",
      " 0   title          5189 non-null   object \n",
      " 1   owners         5189 non-null   int64  \n",
      " 2   userscore      4178 non-null   float64\n",
      " 3   metascore      1202 non-null   float64\n",
      " 4   languages      5189 non-null   object \n",
      " 5   avg_playtime   3012 non-null   object \n",
      " 6   num_followers  5188 non-null   float64\n",
      "dtypes: float64(3), int64(1), object(3)\n",
      "memory usage: 283.9+ KB\n"
     ]
    }
   ],
   "source": [
    "spyscrapedf.info()"
   ]
  },
  {
   "cell_type": "code",
   "execution_count": 588,
   "metadata": {},
   "outputs": [
    {
     "data": {
      "text/plain": [
       "22"
      ]
     },
     "execution_count": 588,
     "metadata": {},
     "output_type": "execute_result"
    }
   ],
   "source": [
    "len(spyscrapedf.loc[0,'languages'])"
   ]
  },
  {
   "cell_type": "code",
   "execution_count": 589,
   "metadata": {},
   "outputs": [],
   "source": [
    "spyscrapedf['num_languages'] = len()"
   ]
  },
  {
   "cell_type": "markdown",
   "metadata": {},
   "source": [
    "# Number of Languages\n",
    "more complete list of languages from SteamSpy"
   ]
  },
  {
   "cell_type": "code",
   "execution_count": 611,
   "metadata": {},
   "outputs": [],
   "source": [
    "for i in range(len(spyscrapedf)):\n",
    "    spyscrapedf.loc[i,'num_languages'] = len(spyscrapedf.loc[i,'languages'])"
   ]
  },
  {
   "cell_type": "code",
   "execution_count": 613,
   "metadata": {},
   "outputs": [
    {
     "name": "stdout",
     "output_type": "stream",
     "text": [
      "<class 'pandas.core.frame.DataFrame'>\n",
      "RangeIndex: 5168 entries, 0 to 5167\n",
      "Data columns (total 8 columns):\n",
      " #   Column         Non-Null Count  Dtype  \n",
      "---  ------         --------------  -----  \n",
      " 0   title          5168 non-null   object \n",
      " 1   owners         5168 non-null   int64  \n",
      " 2   userscore      4175 non-null   float64\n",
      " 3   metascore      1199 non-null   float64\n",
      " 4   languages      5168 non-null   object \n",
      " 5   avg_playtime   3009 non-null   object \n",
      " 6   num_followers  5167 non-null   float64\n",
      " 7   num_languages  5168 non-null   int64  \n",
      "dtypes: float64(3), int64(2), object(3)\n",
      "memory usage: 323.1+ KB\n"
     ]
    }
   ],
   "source": [
    "spyscrapedf.info()"
   ]
  },
  {
   "cell_type": "markdown",
   "metadata": {},
   "source": [
    "# Userscore\n",
    "\n",
    "there are only 1k missing a userscore, going to fill with 0, as no score is recorded"
   ]
  },
  {
   "cell_type": "code",
   "execution_count": 618,
   "metadata": {},
   "outputs": [],
   "source": [
    "spyscrapedf.userscore = spyscrapedf.userscore.fillna(0)"
   ]
  },
  {
   "cell_type": "code",
   "execution_count": 619,
   "metadata": {},
   "outputs": [
    {
     "name": "stdout",
     "output_type": "stream",
     "text": [
      "<class 'pandas.core.frame.DataFrame'>\n",
      "RangeIndex: 5168 entries, 0 to 5167\n",
      "Data columns (total 8 columns):\n",
      " #   Column         Non-Null Count  Dtype  \n",
      "---  ------         --------------  -----  \n",
      " 0   title          5168 non-null   object \n",
      " 1   owners         5168 non-null   int64  \n",
      " 2   userscore      5168 non-null   float64\n",
      " 3   metascore      1199 non-null   float64\n",
      " 4   languages      5168 non-null   object \n",
      " 5   avg_playtime   3009 non-null   object \n",
      " 6   num_followers  5167 non-null   float64\n",
      " 7   num_languages  5168 non-null   int64  \n",
      "dtypes: float64(3), int64(2), object(3)\n",
      "memory usage: 323.1+ KB\n"
     ]
    }
   ],
   "source": [
    "spyscrapedf.info()"
   ]
  },
  {
   "cell_type": "markdown",
   "metadata": {},
   "source": [
    "# MetaScore\n",
    "These are games that have a metacritic score. Only some have this value, so going to make it binary. Hopefully will highlight if this makes a game more popular or not"
   ]
  },
  {
   "cell_type": "code",
   "execution_count": 621,
   "metadata": {},
   "outputs": [],
   "source": [
    "spyscrapedf['has_meta']=0"
   ]
  },
  {
   "cell_type": "code",
   "execution_count": 632,
   "metadata": {},
   "outputs": [],
   "source": [
    "\n",
    "\n",
    "spyscrapedf.loc[spyscrapedf.metascore>0,['has_meta']]=1\n"
   ]
  },
  {
   "cell_type": "code",
   "execution_count": 633,
   "metadata": {},
   "outputs": [
    {
     "data": {
      "text/plain": [
       "0    3969\n",
       "1    1199\n",
       "Name: has_meta, dtype: int64"
      ]
     },
     "execution_count": 633,
     "metadata": {},
     "output_type": "execute_result"
    }
   ],
   "source": [
    "spyscrapedf.has_meta.value_counts()"
   ]
  },
  {
   "cell_type": "code",
   "execution_count": 634,
   "metadata": {},
   "outputs": [
    {
     "name": "stdout",
     "output_type": "stream",
     "text": [
      "<class 'pandas.core.frame.DataFrame'>\n",
      "RangeIndex: 5168 entries, 0 to 5167\n",
      "Data columns (total 9 columns):\n",
      " #   Column         Non-Null Count  Dtype  \n",
      "---  ------         --------------  -----  \n",
      " 0   title          5168 non-null   object \n",
      " 1   owners         5168 non-null   int64  \n",
      " 2   userscore      5168 non-null   float64\n",
      " 3   metascore      1199 non-null   float64\n",
      " 4   languages      5168 non-null   object \n",
      " 5   avg_playtime   3009 non-null   object \n",
      " 6   num_followers  5167 non-null   float64\n",
      " 7   num_languages  5168 non-null   int64  \n",
      " 8   has_meta       5168 non-null   int64  \n",
      "dtypes: float64(3), int64(3), object(3)\n",
      "memory usage: 363.5+ KB\n"
     ]
    }
   ],
   "source": [
    "spyscrapedf.info()"
   ]
  },
  {
   "cell_type": "markdown",
   "metadata": {},
   "source": [
    "# Number of Followers\n",
    "One game has no number of followers, filling in with 0"
   ]
  },
  {
   "cell_type": "code",
   "execution_count": 635,
   "metadata": {},
   "outputs": [
    {
     "data": {
      "text/html": [
       "<div>\n",
       "<style scoped>\n",
       "    .dataframe tbody tr th:only-of-type {\n",
       "        vertical-align: middle;\n",
       "    }\n",
       "\n",
       "    .dataframe tbody tr th {\n",
       "        vertical-align: top;\n",
       "    }\n",
       "\n",
       "    .dataframe thead th {\n",
       "        text-align: right;\n",
       "    }\n",
       "</style>\n",
       "<table border=\"1\" class=\"dataframe\">\n",
       "  <thead>\n",
       "    <tr style=\"text-align: right;\">\n",
       "      <th></th>\n",
       "      <th>title</th>\n",
       "      <th>owners</th>\n",
       "      <th>userscore</th>\n",
       "      <th>metascore</th>\n",
       "      <th>languages</th>\n",
       "      <th>avg_playtime</th>\n",
       "      <th>num_followers</th>\n",
       "      <th>num_languages</th>\n",
       "      <th>has_meta</th>\n",
       "    </tr>\n",
       "  </thead>\n",
       "  <tbody>\n",
       "    <tr>\n",
       "      <th>2455</th>\n",
       "      <td>Star Control III</td>\n",
       "      <td>0</td>\n",
       "      <td>0.0</td>\n",
       "      <td>89.0</td>\n",
       "      <td>[English, Russian, German, Spanish, Chinese, F...</td>\n",
       "      <td>NaN</td>\n",
       "      <td>NaN</td>\n",
       "      <td>10</td>\n",
       "      <td>1</td>\n",
       "    </tr>\n",
       "  </tbody>\n",
       "</table>\n",
       "</div>"
      ],
      "text/plain": [
       "                 title  owners  userscore  metascore  \\\n",
       "2455  Star Control III       0        0.0       89.0   \n",
       "\n",
       "                                              languages avg_playtime  \\\n",
       "2455  [English, Russian, German, Spanish, Chinese, F...          NaN   \n",
       "\n",
       "      num_followers  num_languages  has_meta  \n",
       "2455            NaN             10         1  "
      ]
     },
     "execution_count": 635,
     "metadata": {},
     "output_type": "execute_result"
    }
   ],
   "source": [
    "spyscrapedf[spyscrapedf.num_followers.isna()]"
   ]
  },
  {
   "cell_type": "code",
   "execution_count": 666,
   "metadata": {},
   "outputs": [],
   "source": [
    "spyscrapedf.num_followers = spyscrapedf.num_followers.fillna(0)"
   ]
  },
  {
   "cell_type": "markdown",
   "metadata": {},
   "source": [
    "# Saving DataFrame\n",
    "as spyscrapedf"
   ]
  },
  {
   "cell_type": "code",
   "execution_count": 667,
   "metadata": {},
   "outputs": [],
   "source": [
    "spyscrapedf.to_csv(r'/Users/MichaelHarnett/Desktop/METIS/Steam_Analysis/Data\\spyscrapedf.csv',index=False)"
   ]
  },
  {
   "cell_type": "markdown",
   "metadata": {},
   "source": [
    "# Missing owners\n",
    "scraping the missing 234 games again for ownership info"
   ]
  },
  {
   "cell_type": "code",
   "execution_count": 636,
   "metadata": {},
   "outputs": [
    {
     "data": {
      "text/html": [
       "<div>\n",
       "<style scoped>\n",
       "    .dataframe tbody tr th:only-of-type {\n",
       "        vertical-align: middle;\n",
       "    }\n",
       "\n",
       "    .dataframe tbody tr th {\n",
       "        vertical-align: top;\n",
       "    }\n",
       "\n",
       "    .dataframe thead th {\n",
       "        text-align: right;\n",
       "    }\n",
       "</style>\n",
       "<table border=\"1\" class=\"dataframe\">\n",
       "  <thead>\n",
       "    <tr style=\"text-align: right;\">\n",
       "      <th></th>\n",
       "      <th>title</th>\n",
       "      <th>owners</th>\n",
       "      <th>userscore</th>\n",
       "      <th>metascore</th>\n",
       "      <th>languages</th>\n",
       "      <th>avg_playtime</th>\n",
       "      <th>num_followers</th>\n",
       "      <th>num_languages</th>\n",
       "      <th>has_meta</th>\n",
       "    </tr>\n",
       "  </thead>\n",
       "  <tbody>\n",
       "    <tr>\n",
       "      <th>59</th>\n",
       "      <td>Garry's Mod</td>\n",
       "      <td>0</td>\n",
       "      <td>96.0</td>\n",
       "      <td>NaN</td>\n",
       "      <td>[English, Russian, German, Spanish, Chinese, F...</td>\n",
       "      <td>172:46</td>\n",
       "      <td>0.0</td>\n",
       "      <td>34</td>\n",
       "      <td>0</td>\n",
       "    </tr>\n",
       "    <tr>\n",
       "      <th>180</th>\n",
       "      <td>Portal</td>\n",
       "      <td>0</td>\n",
       "      <td>98.0</td>\n",
       "      <td>90.0</td>\n",
       "      <td>[English, Russian, German, Spanish, Chinese, F...</td>\n",
       "      <td>05:35</td>\n",
       "      <td>0.0</td>\n",
       "      <td>26</td>\n",
       "      <td>1</td>\n",
       "    </tr>\n",
       "    <tr>\n",
       "      <th>324</th>\n",
       "      <td>Star Wars: Battlefront 2 (Classic, 2005)</td>\n",
       "      <td>0</td>\n",
       "      <td>93.0</td>\n",
       "      <td>78.0</td>\n",
       "      <td>[English, Russian, German, Spanish, Chinese, F...</td>\n",
       "      <td>11:18</td>\n",
       "      <td>74777.0</td>\n",
       "      <td>10</td>\n",
       "      <td>1</td>\n",
       "    </tr>\n",
       "    <tr>\n",
       "      <th>340</th>\n",
       "      <td>Counter-Strike: Source</td>\n",
       "      <td>0</td>\n",
       "      <td>96.0</td>\n",
       "      <td>88.0</td>\n",
       "      <td>[English, Russian, German, Spanish, Chinese, F...</td>\n",
       "      <td>154:35</td>\n",
       "      <td>0.0</td>\n",
       "      <td>21</td>\n",
       "      <td>1</td>\n",
       "    </tr>\n",
       "    <tr>\n",
       "      <th>397</th>\n",
       "      <td>Total War: SHOGUN 2</td>\n",
       "      <td>0</td>\n",
       "      <td>90.0</td>\n",
       "      <td>90.0</td>\n",
       "      <td>[English, Russian, German, Spanish, Chinese, F...</td>\n",
       "      <td>41:11</td>\n",
       "      <td>124974.0</td>\n",
       "      <td>17</td>\n",
       "      <td>1</td>\n",
       "    </tr>\n",
       "    <tr>\n",
       "      <th>...</th>\n",
       "      <td>...</td>\n",
       "      <td>...</td>\n",
       "      <td>...</td>\n",
       "      <td>...</td>\n",
       "      <td>...</td>\n",
       "      <td>...</td>\n",
       "      <td>...</td>\n",
       "      <td>...</td>\n",
       "      <td>...</td>\n",
       "    </tr>\n",
       "    <tr>\n",
       "      <th>4601</th>\n",
       "      <td>Warrior Kings: Battles</td>\n",
       "      <td>0</td>\n",
       "      <td>93.0</td>\n",
       "      <td>64.0</td>\n",
       "      <td>[English, Russian, German, Spanish, Chinese, F...</td>\n",
       "      <td>NaN</td>\n",
       "      <td>675.0</td>\n",
       "      <td>10</td>\n",
       "      <td>1</td>\n",
       "    </tr>\n",
       "    <tr>\n",
       "      <th>4715</th>\n",
       "      <td>Gunship!</td>\n",
       "      <td>0</td>\n",
       "      <td>44.0</td>\n",
       "      <td>NaN</td>\n",
       "      <td>[English, Russian, German, Spanish, Chinese, F...</td>\n",
       "      <td>NaN</td>\n",
       "      <td>341.0</td>\n",
       "      <td>10</td>\n",
       "      <td>0</td>\n",
       "    </tr>\n",
       "    <tr>\n",
       "      <th>4988</th>\n",
       "      <td>Rag Doll Kung Fu</td>\n",
       "      <td>0</td>\n",
       "      <td>71.0</td>\n",
       "      <td>69.0</td>\n",
       "      <td>[English, Russian, German, Spanish, Chinese, F...</td>\n",
       "      <td>01:46</td>\n",
       "      <td>249.0</td>\n",
       "      <td>10</td>\n",
       "      <td>1</td>\n",
       "    </tr>\n",
       "    <tr>\n",
       "      <th>5091</th>\n",
       "      <td>Bad Day</td>\n",
       "      <td>0</td>\n",
       "      <td>64.0</td>\n",
       "      <td>NaN</td>\n",
       "      <td>[English, Russian, German, Spanish, Chinese, F...</td>\n",
       "      <td>NaN</td>\n",
       "      <td>63.0</td>\n",
       "      <td>10</td>\n",
       "      <td>0</td>\n",
       "    </tr>\n",
       "    <tr>\n",
       "      <th>5147</th>\n",
       "      <td>HexON</td>\n",
       "      <td>0</td>\n",
       "      <td>0.0</td>\n",
       "      <td>NaN</td>\n",
       "      <td>[English, Russian, German, Spanish, Chinese, F...</td>\n",
       "      <td>NaN</td>\n",
       "      <td>114.0</td>\n",
       "      <td>10</td>\n",
       "      <td>0</td>\n",
       "    </tr>\n",
       "  </tbody>\n",
       "</table>\n",
       "<p>234 rows × 9 columns</p>\n",
       "</div>"
      ],
      "text/plain": [
       "                                         title  owners  userscore  metascore  \\\n",
       "59                                 Garry's Mod       0       96.0        NaN   \n",
       "180                                     Portal       0       98.0       90.0   \n",
       "324   Star Wars: Battlefront 2 (Classic, 2005)       0       93.0       78.0   \n",
       "340                     Counter-Strike: Source       0       96.0       88.0   \n",
       "397                        Total War: SHOGUN 2       0       90.0       90.0   \n",
       "...                                        ...     ...        ...        ...   \n",
       "4601                    Warrior Kings: Battles       0       93.0       64.0   \n",
       "4715                                  Gunship!       0       44.0        NaN   \n",
       "4988                          Rag Doll Kung Fu       0       71.0       69.0   \n",
       "5091                                   Bad Day       0       64.0        NaN   \n",
       "5147                                     HexON       0        0.0        NaN   \n",
       "\n",
       "                                              languages avg_playtime  \\\n",
       "59    [English, Russian, German, Spanish, Chinese, F...       172:46   \n",
       "180   [English, Russian, German, Spanish, Chinese, F...        05:35   \n",
       "324   [English, Russian, German, Spanish, Chinese, F...        11:18   \n",
       "340   [English, Russian, German, Spanish, Chinese, F...       154:35   \n",
       "397   [English, Russian, German, Spanish, Chinese, F...        41:11   \n",
       "...                                                 ...          ...   \n",
       "4601  [English, Russian, German, Spanish, Chinese, F...          NaN   \n",
       "4715  [English, Russian, German, Spanish, Chinese, F...          NaN   \n",
       "4988  [English, Russian, German, Spanish, Chinese, F...        01:46   \n",
       "5091  [English, Russian, German, Spanish, Chinese, F...          NaN   \n",
       "5147  [English, Russian, German, Spanish, Chinese, F...          NaN   \n",
       "\n",
       "      num_followers  num_languages  has_meta  \n",
       "59              0.0             34         0  \n",
       "180             0.0             26         1  \n",
       "324         74777.0             10         1  \n",
       "340             0.0             21         1  \n",
       "397        124974.0             17         1  \n",
       "...             ...            ...       ...  \n",
       "4601          675.0             10         1  \n",
       "4715          341.0             10         0  \n",
       "4988          249.0             10         1  \n",
       "5091           63.0             10         0  \n",
       "5147          114.0             10         0  \n",
       "\n",
       "[234 rows x 9 columns]"
      ]
     },
     "execution_count": 636,
     "metadata": {},
     "output_type": "execute_result"
    }
   ],
   "source": [
    "spyscrapedf[spyscrapedf.owners==0]"
   ]
  },
  {
   "cell_type": "code",
   "execution_count": null,
   "metadata": {},
   "outputs": [],
   "source": []
  },
  {
   "cell_type": "code",
   "execution_count": 638,
   "metadata": {},
   "outputs": [],
   "source": [
    "missing_titles = spyscrapedf[spyscrapedf.owners==0]"
   ]
  },
  {
   "cell_type": "code",
   "execution_count": 639,
   "metadata": {},
   "outputs": [],
   "source": [
    "missing_titles_id = pd.merge(missing_titles[['title']],spydf[['title','appid']],on='title')"
   ]
  },
  {
   "cell_type": "code",
   "execution_count": 643,
   "metadata": {},
   "outputs": [],
   "source": [
    "missing_titles_id.drop_duplicates(subset='title',inplace=True)"
   ]
  },
  {
   "cell_type": "code",
   "execution_count": 644,
   "metadata": {},
   "outputs": [
    {
     "data": {
      "text/html": [
       "<div>\n",
       "<style scoped>\n",
       "    .dataframe tbody tr th:only-of-type {\n",
       "        vertical-align: middle;\n",
       "    }\n",
       "\n",
       "    .dataframe tbody tr th {\n",
       "        vertical-align: top;\n",
       "    }\n",
       "\n",
       "    .dataframe thead th {\n",
       "        text-align: right;\n",
       "    }\n",
       "</style>\n",
       "<table border=\"1\" class=\"dataframe\">\n",
       "  <thead>\n",
       "    <tr style=\"text-align: right;\">\n",
       "      <th></th>\n",
       "      <th>title</th>\n",
       "      <th>appid</th>\n",
       "    </tr>\n",
       "  </thead>\n",
       "  <tbody>\n",
       "    <tr>\n",
       "      <th>0</th>\n",
       "      <td>Garry's Mod</td>\n",
       "      <td>4000</td>\n",
       "    </tr>\n",
       "    <tr>\n",
       "      <th>1</th>\n",
       "      <td>Portal</td>\n",
       "      <td>400</td>\n",
       "    </tr>\n",
       "    <tr>\n",
       "      <th>2</th>\n",
       "      <td>Star Wars: Battlefront 2 (Classic, 2005)</td>\n",
       "      <td>6060</td>\n",
       "    </tr>\n",
       "    <tr>\n",
       "      <th>3</th>\n",
       "      <td>Counter-Strike: Source</td>\n",
       "      <td>240</td>\n",
       "    </tr>\n",
       "    <tr>\n",
       "      <th>4</th>\n",
       "      <td>Total War: SHOGUN 2</td>\n",
       "      <td>34330</td>\n",
       "    </tr>\n",
       "    <tr>\n",
       "      <th>...</th>\n",
       "      <td>...</td>\n",
       "      <td>...</td>\n",
       "    </tr>\n",
       "    <tr>\n",
       "      <th>230</th>\n",
       "      <td>Warrior Kings: Battles</td>\n",
       "      <td>299070</td>\n",
       "    </tr>\n",
       "    <tr>\n",
       "      <th>231</th>\n",
       "      <td>Gunship!</td>\n",
       "      <td>286730</td>\n",
       "    </tr>\n",
       "    <tr>\n",
       "      <th>232</th>\n",
       "      <td>Rag Doll Kung Fu</td>\n",
       "      <td>1002</td>\n",
       "    </tr>\n",
       "    <tr>\n",
       "      <th>233</th>\n",
       "      <td>Bad Day</td>\n",
       "      <td>803080</td>\n",
       "    </tr>\n",
       "    <tr>\n",
       "      <th>234</th>\n",
       "      <td>HexON</td>\n",
       "      <td>1203570</td>\n",
       "    </tr>\n",
       "  </tbody>\n",
       "</table>\n",
       "<p>234 rows × 2 columns</p>\n",
       "</div>"
      ],
      "text/plain": [
       "                                        title    appid\n",
       "0                                 Garry's Mod     4000\n",
       "1                                      Portal      400\n",
       "2    Star Wars: Battlefront 2 (Classic, 2005)     6060\n",
       "3                      Counter-Strike: Source      240\n",
       "4                         Total War: SHOGUN 2    34330\n",
       "..                                        ...      ...\n",
       "230                    Warrior Kings: Battles   299070\n",
       "231                                  Gunship!   286730\n",
       "232                          Rag Doll Kung Fu     1002\n",
       "233                                   Bad Day   803080\n",
       "234                                     HexON  1203570\n",
       "\n",
       "[234 rows x 2 columns]"
      ]
     },
     "execution_count": 644,
     "metadata": {},
     "output_type": "execute_result"
    }
   ],
   "source": [
    "missing_titles_id"
   ]
  },
  {
   "cell_type": "code",
   "execution_count": 656,
   "metadata": {},
   "outputs": [],
   "source": [
    "missing_id_list = list(missing_titles_id.appid)\n",
    "missing_id_list[:3]\n",
    "\n",
    "missing_url_list=[]\n",
    "for items in missing_id_list:\n",
    "    missing_url_list.append('https://steamspy.com/app/'+ str(items))"
   ]
  },
  {
   "cell_type": "code",
   "execution_count": 658,
   "metadata": {},
   "outputs": [
    {
     "data": {
      "text/plain": [
       "234"
      ]
     },
     "execution_count": 658,
     "metadata": {},
     "output_type": "execute_result"
    }
   ],
   "source": [
    "len(missing_url_list)"
   ]
  },
  {
   "cell_type": "code",
   "execution_count": 661,
   "metadata": {},
   "outputs": [],
   "source": [
    "def just_owners(url):\n",
    "    \n",
    "    \n",
    "    response = driver.get(url)\n",
    "    soup = BeautifulSoup(driver.page_source, \"html5lib\")\n",
    "    \n",
    "    \n",
    "    headers = ['title','owners']\n",
    "    \n",
    "    \n",
    "    #get the title\n",
    "    if not soup.find('h3').text:\n",
    "        title = np.nan\n",
    "    else:\n",
    "        title = title = soup.find('h3').text\n",
    " \n",
    "\n",
    "    #get the number of owners\n",
    "    if not soup.find('strong',text='Owners').next_sibling:\n",
    "        owners = np.nan\n",
    "    else:\n",
    "        owners = int(soup.find('strong',text='Owners').next_sibling.strip().split()[1].replace(',',''))\n",
    "        \n",
    "    spydict = dict(zip(headers,[title, owners]))\n",
    "    \n",
    "    return spydict    \n",
    "    \n",
    "    "
   ]
  },
  {
   "cell_type": "code",
   "execution_count": 669,
   "metadata": {},
   "outputs": [],
   "source": [
    "missing_info = []\n",
    "\n",
    "\n",
    "for url in missing_url_list[21:]:\n",
    "    missing_info.append(just_owners(url))"
   ]
  },
  {
   "cell_type": "code",
   "execution_count": 670,
   "metadata": {},
   "outputs": [
    {
     "data": {
      "text/plain": [
       "213"
      ]
     },
     "execution_count": 670,
     "metadata": {},
     "output_type": "execute_result"
    }
   ],
   "source": [
    "len(missing_info)"
   ]
  },
  {
   "cell_type": "code",
   "execution_count": 672,
   "metadata": {},
   "outputs": [],
   "source": [
    "missingdf = pd.DataFrame(missing_info)"
   ]
  },
  {
   "cell_type": "code",
   "execution_count": 675,
   "metadata": {},
   "outputs": [
    {
     "data": {
      "text/html": [
       "<div>\n",
       "<style scoped>\n",
       "    .dataframe tbody tr th:only-of-type {\n",
       "        vertical-align: middle;\n",
       "    }\n",
       "\n",
       "    .dataframe tbody tr th {\n",
       "        vertical-align: top;\n",
       "    }\n",
       "\n",
       "    .dataframe thead th {\n",
       "        text-align: right;\n",
       "    }\n",
       "</style>\n",
       "<table border=\"1\" class=\"dataframe\">\n",
       "  <thead>\n",
       "    <tr style=\"text-align: right;\">\n",
       "      <th></th>\n",
       "      <th>title</th>\n",
       "      <th>owners</th>\n",
       "    </tr>\n",
       "  </thead>\n",
       "  <tbody>\n",
       "    <tr>\n",
       "      <th>203</th>\n",
       "      <td>Alien Shooter</td>\n",
       "      <td>200000</td>\n",
       "    </tr>\n",
       "    <tr>\n",
       "      <th>204</th>\n",
       "      <td>Paws and Claws: Pet Vet</td>\n",
       "      <td>0</td>\n",
       "    </tr>\n",
       "    <tr>\n",
       "      <th>205</th>\n",
       "      <td>Miss Popularity</td>\n",
       "      <td>0</td>\n",
       "    </tr>\n",
       "    <tr>\n",
       "      <th>206</th>\n",
       "      <td>Paws and Claws: Pet School</td>\n",
       "      <td>0</td>\n",
       "    </tr>\n",
       "    <tr>\n",
       "      <th>207</th>\n",
       "      <td>Warrior Kings</td>\n",
       "      <td>20000</td>\n",
       "    </tr>\n",
       "    <tr>\n",
       "      <th>208</th>\n",
       "      <td>Warrior Kings: Battles</td>\n",
       "      <td>20000</td>\n",
       "    </tr>\n",
       "    <tr>\n",
       "      <th>209</th>\n",
       "      <td>Gunship!</td>\n",
       "      <td>0</td>\n",
       "    </tr>\n",
       "    <tr>\n",
       "      <th>210</th>\n",
       "      <td>Rag Doll Kung Fu</td>\n",
       "      <td>0</td>\n",
       "    </tr>\n",
       "    <tr>\n",
       "      <th>211</th>\n",
       "      <td>Bad Day</td>\n",
       "      <td>20000</td>\n",
       "    </tr>\n",
       "    <tr>\n",
       "      <th>212</th>\n",
       "      <td>HexON</td>\n",
       "      <td>0</td>\n",
       "    </tr>\n",
       "  </tbody>\n",
       "</table>\n",
       "</div>"
      ],
      "text/plain": [
       "                          title  owners\n",
       "203               Alien Shooter  200000\n",
       "204     Paws and Claws: Pet Vet       0\n",
       "205             Miss Popularity       0\n",
       "206  Paws and Claws: Pet School       0\n",
       "207               Warrior Kings   20000\n",
       "208      Warrior Kings: Battles   20000\n",
       "209                    Gunship!       0\n",
       "210            Rag Doll Kung Fu       0\n",
       "211                     Bad Day   20000\n",
       "212                       HexON       0"
      ]
     },
     "execution_count": 675,
     "metadata": {},
     "output_type": "execute_result"
    }
   ],
   "source": [
    "missingdf.tail(10)"
   ]
  },
  {
   "cell_type": "code",
   "execution_count": null,
   "metadata": {},
   "outputs": [],
   "source": []
  },
  {
   "cell_type": "markdown",
   "metadata": {},
   "source": [
    "## Michael\n",
    "ask about your personalized dummy columns! specficially, when using pd.get_dummies, you drop the first column, which amkes \n",
    "sesne when they explain the absence of all values or if every oteher dummy was 0, then the last one is chosen,  but we did not \n",
    "account for this with our creation. \n",
    "actualy maybe 'other' caccounts for this? yea I will still follow up, but im assuming that by includig an other term, its the same as dropping hte first dummy colum\n",
    "\n",
    "either way, if i werer to use get_dummies twice or more on the same dataset, how does this help/affect data?"
   ]
  },
  {
   "cell_type": "code",
   "execution_count": 261,
   "metadata": {},
   "outputs": [
    {
     "ename": "NameError",
     "evalue": "name 'drver' is not defined",
     "output_type": "error",
     "traceback": [
      "\u001b[0;31m---------------------------------------------------------------------------\u001b[0m",
      "\u001b[0;31mNameError\u001b[0m                                 Traceback (most recent call last)",
      "\u001b[0;32m<ipython-input-261-deb92e43a99f>\u001b[0m in \u001b[0;36m<module>\u001b[0;34m\u001b[0m\n\u001b[0;32m----> 1\u001b[0;31m \u001b[0mdrver\u001b[0m\u001b[0;34m.\u001b[0m\u001b[0mquit\u001b[0m\u001b[0;34m(\u001b[0m\u001b[0;34m)\u001b[0m\u001b[0;34m\u001b[0m\u001b[0;34m\u001b[0m\u001b[0m\n\u001b[0m",
      "\u001b[0;31mNameError\u001b[0m: name 'drver' is not defined"
     ]
    }
   ],
   "source": [
    "drver.quit()"
   ]
  },
  {
   "cell_type": "code",
   "execution_count": 484,
   "metadata": {},
   "outputs": [],
   "source": [
    "driver.quit()"
   ]
  },
  {
   "cell_type": "code",
   "execution_count": null,
   "metadata": {},
   "outputs": [],
   "source": []
  }
 ],
 "metadata": {
  "kernelspec": {
   "display_name": "Python 3",
   "language": "python",
   "name": "python3"
  },
  "language_info": {
   "codemirror_mode": {
    "name": "ipython",
    "version": 3
   },
   "file_extension": ".py",
   "mimetype": "text/x-python",
   "name": "python",
   "nbconvert_exporter": "python",
   "pygments_lexer": "ipython3",
   "version": "3.8.5"
  }
 },
 "nbformat": 4,
 "nbformat_minor": 4
}
