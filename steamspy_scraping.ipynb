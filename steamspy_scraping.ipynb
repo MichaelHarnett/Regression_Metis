{
 "cells": [
  {
   "cell_type": "code",
   "execution_count": 3,
   "metadata": {},
   "outputs": [],
   "source": [
    "from bs4 import BeautifulSoup\n",
    "import requests\n",
    "import pandas as pd\n",
    "from selenium import webdriver\n",
    "from selenium.webdriver.common.keys import Keys\n",
    "import time, os\n",
    "import json\n",
    "import pandas as pd\n",
    "import numpy as np\n",
    "import statistics"
   ]
  },
  {
   "cell_type": "code",
   "execution_count": 13,
   "metadata": {},
   "outputs": [],
   "source": [
    "df = pd.read_csv('data/ownerdf.csv')"
   ]
  },
  {
   "cell_type": "code",
   "execution_count": 14,
   "metadata": {},
   "outputs": [
    {
     "data": {
      "text/html": [
       "<div>\n",
       "<style scoped>\n",
       "    .dataframe tbody tr th:only-of-type {\n",
       "        vertical-align: middle;\n",
       "    }\n",
       "\n",
       "    .dataframe tbody tr th {\n",
       "        vertical-align: top;\n",
       "    }\n",
       "\n",
       "    .dataframe thead th {\n",
       "        text-align: right;\n",
       "    }\n",
       "</style>\n",
       "<table border=\"1\" class=\"dataframe\">\n",
       "  <thead>\n",
       "    <tr style=\"text-align: right;\">\n",
       "      <th></th>\n",
       "      <th>title</th>\n",
       "      <th>owners_median</th>\n",
       "      <th>positive</th>\n",
       "      <th>negative</th>\n",
       "      <th>num_reviews</th>\n",
       "      <th>ccu</th>\n",
       "      <th>median_2weeks</th>\n",
       "      <th>median_forever</th>\n",
       "      <th>average_2weeks</th>\n",
       "      <th>average_forever</th>\n",
       "      <th>...</th>\n",
       "      <th>Electronic Arts</th>\n",
       "      <th>Paradox Interactive</th>\n",
       "      <th>SEGA</th>\n",
       "      <th>Sokpop Collective</th>\n",
       "      <th>Square Enix</th>\n",
       "      <th>THQ Nordic</th>\n",
       "      <th>Ubisoft</th>\n",
       "      <th>Winged Cloud</th>\n",
       "      <th>other</th>\n",
       "      <th>tinyBuild</th>\n",
       "    </tr>\n",
       "  </thead>\n",
       "  <tbody>\n",
       "    <tr>\n",
       "      <th>0</th>\n",
       "      <td>OUTRIDERS</td>\n",
       "      <td>1500000.0</td>\n",
       "      <td>26922</td>\n",
       "      <td>14940</td>\n",
       "      <td>36837</td>\n",
       "      <td>23037</td>\n",
       "      <td>279</td>\n",
       "      <td>1600</td>\n",
       "      <td>585</td>\n",
       "      <td>2074</td>\n",
       "      <td>...</td>\n",
       "      <td>0</td>\n",
       "      <td>0</td>\n",
       "      <td>0</td>\n",
       "      <td>0</td>\n",
       "      <td>1</td>\n",
       "      <td>0</td>\n",
       "      <td>0</td>\n",
       "      <td>0</td>\n",
       "      <td>0</td>\n",
       "      <td>0</td>\n",
       "    </tr>\n",
       "    <tr>\n",
       "      <th>1</th>\n",
       "      <td>It Takes Two</td>\n",
       "      <td>750000.0</td>\n",
       "      <td>20205</td>\n",
       "      <td>877</td>\n",
       "      <td>15688</td>\n",
       "      <td>11513</td>\n",
       "      <td>425</td>\n",
       "      <td>753</td>\n",
       "      <td>371</td>\n",
       "      <td>670</td>\n",
       "      <td>...</td>\n",
       "      <td>1</td>\n",
       "      <td>0</td>\n",
       "      <td>0</td>\n",
       "      <td>0</td>\n",
       "      <td>0</td>\n",
       "      <td>0</td>\n",
       "      <td>0</td>\n",
       "      <td>0</td>\n",
       "      <td>0</td>\n",
       "      <td>0</td>\n",
       "    </tr>\n",
       "    <tr>\n",
       "      <th>2</th>\n",
       "      <td>Valheim</td>\n",
       "      <td>15000000.0</td>\n",
       "      <td>222551</td>\n",
       "      <td>8466</td>\n",
       "      <td>222855</td>\n",
       "      <td>64931</td>\n",
       "      <td>435</td>\n",
       "      <td>1113</td>\n",
       "      <td>820</td>\n",
       "      <td>2205</td>\n",
       "      <td>...</td>\n",
       "      <td>0</td>\n",
       "      <td>0</td>\n",
       "      <td>0</td>\n",
       "      <td>0</td>\n",
       "      <td>0</td>\n",
       "      <td>0</td>\n",
       "      <td>0</td>\n",
       "      <td>0</td>\n",
       "      <td>1</td>\n",
       "      <td>0</td>\n",
       "    </tr>\n",
       "  </tbody>\n",
       "</table>\n",
       "<p>3 rows × 92 columns</p>\n",
       "</div>"
      ],
      "text/plain": [
       "          title  owners_median  positive  negative  num_reviews    ccu  \\\n",
       "0     OUTRIDERS      1500000.0     26922     14940        36837  23037   \n",
       "1  It Takes Two       750000.0     20205       877        15688  11513   \n",
       "2       Valheim     15000000.0    222551      8466       222855  64931   \n",
       "\n",
       "   median_2weeks  median_forever  average_2weeks  average_forever  ...  \\\n",
       "0            279            1600             585             2074  ...   \n",
       "1            425             753             371              670  ...   \n",
       "2            435            1113             820             2205  ...   \n",
       "\n",
       "   Electronic Arts  Paradox Interactive  SEGA  Sokpop Collective  Square Enix  \\\n",
       "0                0                    0     0                  0            1   \n",
       "1                1                    0     0                  0            0   \n",
       "2                0                    0     0                  0            0   \n",
       "\n",
       "   THQ Nordic  Ubisoft  Winged Cloud  other  tinyBuild  \n",
       "0           0        0             0      0          0  \n",
       "1           0        0             0      0          0  \n",
       "2           0        0             0      1          0  \n",
       "\n",
       "[3 rows x 92 columns]"
      ]
     },
     "execution_count": 14,
     "metadata": {},
     "output_type": "execute_result"
    }
   ],
   "source": [
    "df.head(3)"
   ]
  },
  {
   "cell_type": "code",
   "execution_count": 15,
   "metadata": {},
   "outputs": [
    {
     "data": {
      "text/plain": [
       "(5188, 92)"
      ]
     },
     "execution_count": 15,
     "metadata": {},
     "output_type": "execute_result"
    }
   ],
   "source": [
    "df.shape"
   ]
  },
  {
   "cell_type": "code",
   "execution_count": 17,
   "metadata": {},
   "outputs": [
    {
     "data": {
      "text/plain": [
       "['OUTRIDERS', 'It Takes Two', 'Valheim']"
      ]
     },
     "execution_count": 17,
     "metadata": {},
     "output_type": "execute_result"
    }
   ],
   "source": [
    "list(df.title)[:3]"
   ]
  },
  {
   "cell_type": "code",
   "execution_count": 23,
   "metadata": {},
   "outputs": [],
   "source": [
    "chromedriver = \"/Applications/chromedriver\" \n",
    "os.environ[\"webdriver.chrome.driver\"] = chromedriver\n",
    "\n",
    "url = 'https://steamspy.com/search.php'\n",
    "\n",
    "driver = webdriver.Chrome(chromedriver)\n",
    "driver.get(url)\n",
    "\n"
   ]
  },
  {
   "cell_type": "code",
   "execution_count": 22,
   "metadata": {},
   "outputs": [],
   "source": [
    "driver.quit()"
   ]
  },
  {
   "cell_type": "markdown",
   "metadata": {},
   "source": [
    "# Game Specific Scraping"
   ]
  },
  {
   "cell_type": "code",
   "execution_count": 24,
   "metadata": {},
   "outputs": [],
   "source": [
    "soup = BeautifulSoup(driver.page_source, 'html5lib')"
   ]
  },
  {
   "cell_type": "code",
   "execution_count": 31,
   "metadata": {},
   "outputs": [
    {
     "data": {
      "text/plain": [
       "': 15,463,000 '"
      ]
     },
     "execution_count": 31,
     "metadata": {},
     "output_type": "execute_result"
    }
   ],
   "source": [
    "#number of owners\n",
    "soup.find('strong',text='Owners').next_sibling"
   ]
  },
  {
   "cell_type": "code",
   "execution_count": null,
   "metadata": {},
   "outputs": [],
   "source": []
  }
 ],
 "metadata": {
  "kernelspec": {
   "display_name": "Python 3",
   "language": "python",
   "name": "python3"
  },
  "language_info": {
   "codemirror_mode": {
    "name": "ipython",
    "version": 3
   },
   "file_extension": ".py",
   "mimetype": "text/x-python",
   "name": "python",
   "nbconvert_exporter": "python",
   "pygments_lexer": "ipython3",
   "version": "3.8.5"
  }
 },
 "nbformat": 4,
 "nbformat_minor": 4
}
