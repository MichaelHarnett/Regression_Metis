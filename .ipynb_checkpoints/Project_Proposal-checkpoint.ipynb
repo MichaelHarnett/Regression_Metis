{
 "cells": [
  {
   "cell_type": "markdown",
   "id": "bizarre-difference",
   "metadata": {},
   "source": [
    "# Project Proposal\n",
    "    "
   ]
  },
  {
   "cell_type": "markdown",
   "id": "exempt-vietnamese",
   "metadata": {},
   "source": [
    "For this regression project, I wanted to find a data source that aligned with either video games or the restuarant industry, as countless hours of my life have been devoted to both of these industries. After toying with several apporaches, I have decided on trying to predict popularity of a video game (based on number of reviews). The main data source for this project will be the Steam Game Store. Preliminary scraping has already started using BeautifulSoup. Features found on the site include but are not limited to:\n",
    "<ul>\n",
    "    <li>Number of Reviews</li>\n",
    "    <li>Price</li>\n",
    "    <li>Been on sale (y/n)</li>\n",
    "    <li>Number of languages supported</li>\n",
    "    <li>Rating</li>\n",
    "    <li>Developer</li>\n",
    "    <li>Number of games by developer</li>\n",
    "    <li>Genre</li>\n",
    "    <li>Number of rimes reccommended</li>\n",
    "    <li>Number of descriptive tags added by users</li>\n",
    "</ul>\n",
    "\n"
   ]
  },
  {
   "cell_type": "markdown",
   "id": "swiss-chester",
   "metadata": {},
   "source": [
    "BeautifulSoup and Selenium will both be utilized for scraping the data. A combination of scikit-learn and statsmodels will be used to create a linear regression model for the data."
   ]
  },
  {
   "cell_type": "code",
   "execution_count": null,
   "id": "homeless-sally",
   "metadata": {},
   "outputs": [],
   "source": []
  }
 ],
 "metadata": {
  "kernelspec": {
   "display_name": "Python [conda env:anaconda3-metis] *",
   "language": "python",
   "name": "conda-env-anaconda3-metis-py"
  },
  "language_info": {
   "codemirror_mode": {
    "name": "ipython",
    "version": 3
   },
   "file_extension": ".py",
   "mimetype": "text/x-python",
   "name": "python",
   "nbconvert_exporter": "python",
   "pygments_lexer": "ipython3",
   "version": "3.8.8"
  }
 },
 "nbformat": 4,
 "nbformat_minor": 5
}
