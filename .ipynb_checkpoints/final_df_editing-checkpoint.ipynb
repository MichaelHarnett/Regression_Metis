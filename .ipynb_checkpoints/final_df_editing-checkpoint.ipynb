{
 "cells": [
  {
   "cell_type": "code",
   "execution_count": 1,
   "metadata": {},
   "outputs": [],
   "source": [
    "import pandas as pd\n",
    "import numpy as np\n",
    "import datetime\n",
    "import re\n",
    "from collections import Counter"
   ]
  },
  {
   "cell_type": "code",
   "execution_count": 2,
   "metadata": {},
   "outputs": [],
   "source": [
    "reviewsdf = pd.read_csv('data/reviewsdf.csv')"
   ]
  },
  {
   "cell_type": "code",
   "execution_count": 3,
   "metadata": {},
   "outputs": [],
   "source": [
    "reviewsdf.drop(columns=['Unnamed: 0'], inplace=True)"
   ]
  },
  {
   "cell_type": "code",
   "execution_count": 4,
   "metadata": {},
   "outputs": [
    {
     "name": "stdout",
     "output_type": "stream",
     "text": [
      "<class 'pandas.core.frame.DataFrame'>\n",
      "RangeIndex: 5528 entries, 0 to 5527\n",
      "Data columns (total 14 columns):\n",
      " #   Column         Non-Null Count  Dtype  \n",
      "---  ------         --------------  -----  \n",
      " 0   title          5528 non-null   object \n",
      " 1   num_reviews    5528 non-null   int64  \n",
      " 2   release_date   5526 non-null   object \n",
      " 3   orig_price     5528 non-null   float64\n",
      " 4   been_sale      5528 non-null   int64  \n",
      " 5   review_rating  5528 non-null   object \n",
      " 6   rating_val     5521 non-null   float64\n",
      " 7   num_languages  2102 non-null   float64\n",
      " 8   tags           5528 non-null   object \n",
      " 9   num_tags       5528 non-null   float64\n",
      " 10  genres         5528 non-null   object \n",
      " 11  num_genres     5528 non-null   float64\n",
      " 12  publisher      5523 non-null   object \n",
      " 13  top_pubs       5528 non-null   object \n",
      "dtypes: float64(5), int64(2), object(7)\n",
      "memory usage: 604.8+ KB\n"
     ]
    }
   ],
   "source": [
    "reviewsdf.info()"
   ]
  },
  {
   "cell_type": "markdown",
   "metadata": {},
   "source": [
    "# initializing final dataframe\n",
    "## removing rows with nulls"
   ]
  },
  {
   "cell_type": "code",
   "execution_count": 5,
   "metadata": {},
   "outputs": [],
   "source": [
    "reviewsdf = reviewsdf[reviewsdf.rating_val.isna()==False]"
   ]
  },
  {
   "cell_type": "code",
   "execution_count": 6,
   "metadata": {},
   "outputs": [
    {
     "name": "stdout",
     "output_type": "stream",
     "text": [
      "<class 'pandas.core.frame.DataFrame'>\n",
      "Int64Index: 5519 entries, 0 to 5527\n",
      "Data columns (total 14 columns):\n",
      " #   Column         Non-Null Count  Dtype  \n",
      "---  ------         --------------  -----  \n",
      " 0   title          5519 non-null   object \n",
      " 1   num_reviews    5519 non-null   int64  \n",
      " 2   release_date   5519 non-null   object \n",
      " 3   orig_price     5519 non-null   float64\n",
      " 4   been_sale      5519 non-null   int64  \n",
      " 5   review_rating  5519 non-null   object \n",
      " 6   rating_val     5519 non-null   float64\n",
      " 7   num_languages  2101 non-null   float64\n",
      " 8   tags           5519 non-null   object \n",
      " 9   num_tags       5519 non-null   float64\n",
      " 10  genres         5519 non-null   object \n",
      " 11  num_genres     5519 non-null   float64\n",
      " 12  publisher      5514 non-null   object \n",
      " 13  top_pubs       5519 non-null   object \n",
      "dtypes: float64(5), int64(2), object(7)\n",
      "memory usage: 646.8+ KB\n"
     ]
    }
   ],
   "source": [
    "reviewsdf = reviewsdf[reviewsdf.release_date.isna()==False]\n",
    "reviewsdf.info()"
   ]
  },
  {
   "cell_type": "markdown",
   "metadata": {},
   "source": [
    "## creating year-released column"
   ]
  },
  {
   "cell_type": "code",
   "execution_count": 7,
   "metadata": {},
   "outputs": [],
   "source": [
    "reviewsdf.release_date = pd.to_datetime(reviewsdf.release_date)"
   ]
  },
  {
   "cell_type": "code",
   "execution_count": 8,
   "metadata": {},
   "outputs": [],
   "source": [
    "reviewsdf['year_released'] = reviewsdf.release_date.dt.year"
   ]
  },
  {
   "cell_type": "code",
   "execution_count": 9,
   "metadata": {},
   "outputs": [
    {
     "data": {
      "text/html": [
       "<div>\n",
       "<style scoped>\n",
       "    .dataframe tbody tr th:only-of-type {\n",
       "        vertical-align: middle;\n",
       "    }\n",
       "\n",
       "    .dataframe tbody tr th {\n",
       "        vertical-align: top;\n",
       "    }\n",
       "\n",
       "    .dataframe thead th {\n",
       "        text-align: right;\n",
       "    }\n",
       "</style>\n",
       "<table border=\"1\" class=\"dataframe\">\n",
       "  <thead>\n",
       "    <tr style=\"text-align: right;\">\n",
       "      <th></th>\n",
       "      <th>title</th>\n",
       "      <th>num_reviews</th>\n",
       "      <th>release_date</th>\n",
       "      <th>orig_price</th>\n",
       "      <th>been_sale</th>\n",
       "      <th>review_rating</th>\n",
       "      <th>rating_val</th>\n",
       "      <th>num_languages</th>\n",
       "      <th>tags</th>\n",
       "      <th>num_tags</th>\n",
       "      <th>genres</th>\n",
       "      <th>num_genres</th>\n",
       "      <th>publisher</th>\n",
       "      <th>top_pubs</th>\n",
       "      <th>year_released</th>\n",
       "    </tr>\n",
       "  </thead>\n",
       "  <tbody>\n",
       "    <tr>\n",
       "      <th>0</th>\n",
       "      <td>Sea of Thieves</td>\n",
       "      <td>111078</td>\n",
       "      <td>2020-06-03</td>\n",
       "      <td>39.99</td>\n",
       "      <td>1</td>\n",
       "      <td>Very Positive</td>\n",
       "      <td>8.0</td>\n",
       "      <td>13.0</td>\n",
       "      <td>['Adventure', 'Multiplayer', 'Open World', 'Pi...</td>\n",
       "      <td>20.0</td>\n",
       "      <td>['Action', 'Adventure']</td>\n",
       "      <td>2.0</td>\n",
       "      <td>Xbox Game Studios</td>\n",
       "      <td>other</td>\n",
       "      <td>2020</td>\n",
       "    </tr>\n",
       "    <tr>\n",
       "      <th>1</th>\n",
       "      <td>It Takes Two</td>\n",
       "      <td>11813</td>\n",
       "      <td>2021-03-26</td>\n",
       "      <td>39.99</td>\n",
       "      <td>0</td>\n",
       "      <td>Overwhelmingly Positive</td>\n",
       "      <td>9.0</td>\n",
       "      <td>12.0</td>\n",
       "      <td>['Co-op', 'Adventure', '3D Platformer', 'Puzzl...</td>\n",
       "      <td>20.0</td>\n",
       "      <td>['Action', 'Adventure', 'Hazelight']</td>\n",
       "      <td>3.0</td>\n",
       "      <td>Electronic Arts</td>\n",
       "      <td>Electronic Arts</td>\n",
       "      <td>2021</td>\n",
       "    </tr>\n",
       "    <tr>\n",
       "      <th>2</th>\n",
       "      <td>Valheim</td>\n",
       "      <td>216651</td>\n",
       "      <td>2021-02-02</td>\n",
       "      <td>19.99</td>\n",
       "      <td>0</td>\n",
       "      <td>Overwhelmingly Positive</td>\n",
       "      <td>9.0</td>\n",
       "      <td>12.0</td>\n",
       "      <td>['Open World Survival Craft', 'Online Co-Op', ...</td>\n",
       "      <td>20.0</td>\n",
       "      <td>['Action', 'Adventure', 'Indie', 'RPG', 'Early...</td>\n",
       "      <td>6.0</td>\n",
       "      <td>Coffee Stain Publishing</td>\n",
       "      <td>other</td>\n",
       "      <td>2021</td>\n",
       "    </tr>\n",
       "  </tbody>\n",
       "</table>\n",
       "</div>"
      ],
      "text/plain": [
       "            title  num_reviews release_date  orig_price  been_sale  \\\n",
       "0  Sea of Thieves       111078   2020-06-03       39.99          1   \n",
       "1    It Takes Two        11813   2021-03-26       39.99          0   \n",
       "2         Valheim       216651   2021-02-02       19.99          0   \n",
       "\n",
       "             review_rating  rating_val  num_languages  \\\n",
       "0            Very Positive         8.0           13.0   \n",
       "1  Overwhelmingly Positive         9.0           12.0   \n",
       "2  Overwhelmingly Positive         9.0           12.0   \n",
       "\n",
       "                                                tags  num_tags  \\\n",
       "0  ['Adventure', 'Multiplayer', 'Open World', 'Pi...      20.0   \n",
       "1  ['Co-op', 'Adventure', '3D Platformer', 'Puzzl...      20.0   \n",
       "2  ['Open World Survival Craft', 'Online Co-Op', ...      20.0   \n",
       "\n",
       "                                              genres  num_genres  \\\n",
       "0                            ['Action', 'Adventure']         2.0   \n",
       "1               ['Action', 'Adventure', 'Hazelight']         3.0   \n",
       "2  ['Action', 'Adventure', 'Indie', 'RPG', 'Early...         6.0   \n",
       "\n",
       "                  publisher         top_pubs  year_released  \n",
       "0         Xbox Game Studios            other           2020  \n",
       "1           Electronic Arts  Electronic Arts           2021  \n",
       "2   Coffee Stain Publishing            other           2021  "
      ]
     },
     "execution_count": 9,
     "metadata": {},
     "output_type": "execute_result"
    }
   ],
   "source": [
    "reviewsdf.head(3)"
   ]
  },
  {
   "cell_type": "markdown",
   "metadata": {},
   "source": [
    "## languages filled column\n",
    "filled with median"
   ]
  },
  {
   "cell_type": "code",
   "execution_count": 10,
   "metadata": {},
   "outputs": [],
   "source": [
    "reviewsdf['languages_filled'] = reviewsdf.num_languages.fillna(reviewsdf.num_languages.median())"
   ]
  },
  {
   "cell_type": "code",
   "execution_count": 11,
   "metadata": {},
   "outputs": [
    {
     "name": "stdout",
     "output_type": "stream",
     "text": [
      "<class 'pandas.core.frame.DataFrame'>\n",
      "Int64Index: 5519 entries, 0 to 5527\n",
      "Data columns (total 16 columns):\n",
      " #   Column            Non-Null Count  Dtype         \n",
      "---  ------            --------------  -----         \n",
      " 0   title             5519 non-null   object        \n",
      " 1   num_reviews       5519 non-null   int64         \n",
      " 2   release_date      5519 non-null   datetime64[ns]\n",
      " 3   orig_price        5519 non-null   float64       \n",
      " 4   been_sale         5519 non-null   int64         \n",
      " 5   review_rating     5519 non-null   object        \n",
      " 6   rating_val        5519 non-null   float64       \n",
      " 7   num_languages     2101 non-null   float64       \n",
      " 8   tags              5519 non-null   object        \n",
      " 9   num_tags          5519 non-null   float64       \n",
      " 10  genres            5519 non-null   object        \n",
      " 11  num_genres        5519 non-null   float64       \n",
      " 12  publisher         5514 non-null   object        \n",
      " 13  top_pubs          5519 non-null   object        \n",
      " 14  year_released     5519 non-null   int64         \n",
      " 15  languages_filled  5519 non-null   float64       \n",
      "dtypes: datetime64[ns](1), float64(6), int64(3), object(6)\n",
      "memory usage: 733.0+ KB\n"
     ]
    }
   ],
   "source": [
    "reviewsdf.info()"
   ]
  },
  {
   "cell_type": "markdown",
   "metadata": {},
   "source": [
    "# quick setting final df for later"
   ]
  },
  {
   "cell_type": "code",
   "execution_count": 13,
   "metadata": {},
   "outputs": [],
   "source": [
    "# stting final df here, so i can just merge columns as needed\n",
    "# finaldf = reviewsdf[['num_reviews', 'year_released', 'orig_price', 'been_sale',\n",
    "#                     'rating_val', 'num_languages', 'num_tags', 'num_genres',]]"
   ]
  },
  {
   "cell_type": "code",
   "execution_count": 12,
   "metadata": {},
   "outputs": [
    {
     "ename": "NameError",
     "evalue": "name 'finaldf' is not defined",
     "output_type": "error",
     "traceback": [
      "\u001b[0;31m---------------------------------------------------------------------------\u001b[0m",
      "\u001b[0;31mNameError\u001b[0m                                 Traceback (most recent call last)",
      "\u001b[0;32m<ipython-input-12-a3e148267e4a>\u001b[0m in \u001b[0;36m<module>\u001b[0;34m\u001b[0m\n\u001b[0;32m----> 1\u001b[0;31m \u001b[0mfinaldf\u001b[0m\u001b[0;34m.\u001b[0m\u001b[0mhead\u001b[0m\u001b[0;34m(\u001b[0m\u001b[0;36m3\u001b[0m\u001b[0;34m)\u001b[0m\u001b[0;34m\u001b[0m\u001b[0;34m\u001b[0m\u001b[0m\n\u001b[0m",
      "\u001b[0;31mNameError\u001b[0m: name 'finaldf' is not defined"
     ]
    }
   ],
   "source": [
    "finaldf.head(3)"
   ]
  },
  {
   "cell_type": "markdown",
   "metadata": {},
   "source": [
    "# publisher into dummies\n",
    "resetting top_pubs to be 15 top publishers instead of 10"
   ]
  },
  {
   "cell_type": "code",
   "execution_count": 11,
   "metadata": {},
   "outputs": [],
   "source": [
    "reviewsdf.drop(columns=['top_pubs'],inplace=True)"
   ]
  },
  {
   "cell_type": "code",
   "execution_count": 12,
   "metadata": {},
   "outputs": [
    {
     "data": {
      "text/html": [
       "<div>\n",
       "<style scoped>\n",
       "    .dataframe tbody tr th:only-of-type {\n",
       "        vertical-align: middle;\n",
       "    }\n",
       "\n",
       "    .dataframe tbody tr th {\n",
       "        vertical-align: top;\n",
       "    }\n",
       "\n",
       "    .dataframe thead th {\n",
       "        text-align: right;\n",
       "    }\n",
       "</style>\n",
       "<table border=\"1\" class=\"dataframe\">\n",
       "  <thead>\n",
       "    <tr style=\"text-align: right;\">\n",
       "      <th></th>\n",
       "      <th>title</th>\n",
       "      <th>num_reviews</th>\n",
       "      <th>release_date</th>\n",
       "      <th>orig_price</th>\n",
       "      <th>been_sale</th>\n",
       "      <th>review_rating</th>\n",
       "      <th>rating_val</th>\n",
       "      <th>num_languages</th>\n",
       "      <th>tags</th>\n",
       "      <th>num_tags</th>\n",
       "      <th>genres</th>\n",
       "      <th>num_genres</th>\n",
       "      <th>publisher</th>\n",
       "      <th>year_released</th>\n",
       "      <th>languages_filled</th>\n",
       "    </tr>\n",
       "  </thead>\n",
       "  <tbody>\n",
       "    <tr>\n",
       "      <th>0</th>\n",
       "      <td>Sea of Thieves</td>\n",
       "      <td>111078</td>\n",
       "      <td>2020-06-03</td>\n",
       "      <td>39.99</td>\n",
       "      <td>1</td>\n",
       "      <td>Very Positive</td>\n",
       "      <td>8.0</td>\n",
       "      <td>13.0</td>\n",
       "      <td>['Adventure', 'Multiplayer', 'Open World', 'Pi...</td>\n",
       "      <td>20.0</td>\n",
       "      <td>['Action', 'Adventure']</td>\n",
       "      <td>2.0</td>\n",
       "      <td>Xbox Game Studios</td>\n",
       "      <td>2020</td>\n",
       "      <td>13.0</td>\n",
       "    </tr>\n",
       "    <tr>\n",
       "      <th>1</th>\n",
       "      <td>It Takes Two</td>\n",
       "      <td>11813</td>\n",
       "      <td>2021-03-26</td>\n",
       "      <td>39.99</td>\n",
       "      <td>0</td>\n",
       "      <td>Overwhelmingly Positive</td>\n",
       "      <td>9.0</td>\n",
       "      <td>12.0</td>\n",
       "      <td>['Co-op', 'Adventure', '3D Platformer', 'Puzzl...</td>\n",
       "      <td>20.0</td>\n",
       "      <td>['Action', 'Adventure', 'Hazelight']</td>\n",
       "      <td>3.0</td>\n",
       "      <td>Electronic Arts</td>\n",
       "      <td>2021</td>\n",
       "      <td>12.0</td>\n",
       "    </tr>\n",
       "    <tr>\n",
       "      <th>2</th>\n",
       "      <td>Valheim</td>\n",
       "      <td>216651</td>\n",
       "      <td>2021-02-02</td>\n",
       "      <td>19.99</td>\n",
       "      <td>0</td>\n",
       "      <td>Overwhelmingly Positive</td>\n",
       "      <td>9.0</td>\n",
       "      <td>12.0</td>\n",
       "      <td>['Open World Survival Craft', 'Online Co-Op', ...</td>\n",
       "      <td>20.0</td>\n",
       "      <td>['Action', 'Adventure', 'Indie', 'RPG', 'Early...</td>\n",
       "      <td>6.0</td>\n",
       "      <td>Coffee Stain Publishing</td>\n",
       "      <td>2021</td>\n",
       "      <td>12.0</td>\n",
       "    </tr>\n",
       "  </tbody>\n",
       "</table>\n",
       "</div>"
      ],
      "text/plain": [
       "            title  num_reviews release_date  orig_price  been_sale  \\\n",
       "0  Sea of Thieves       111078   2020-06-03       39.99          1   \n",
       "1    It Takes Two        11813   2021-03-26       39.99          0   \n",
       "2         Valheim       216651   2021-02-02       19.99          0   \n",
       "\n",
       "             review_rating  rating_val  num_languages  \\\n",
       "0            Very Positive         8.0           13.0   \n",
       "1  Overwhelmingly Positive         9.0           12.0   \n",
       "2  Overwhelmingly Positive         9.0           12.0   \n",
       "\n",
       "                                                tags  num_tags  \\\n",
       "0  ['Adventure', 'Multiplayer', 'Open World', 'Pi...      20.0   \n",
       "1  ['Co-op', 'Adventure', '3D Platformer', 'Puzzl...      20.0   \n",
       "2  ['Open World Survival Craft', 'Online Co-Op', ...      20.0   \n",
       "\n",
       "                                              genres  num_genres  \\\n",
       "0                            ['Action', 'Adventure']         2.0   \n",
       "1               ['Action', 'Adventure', 'Hazelight']         3.0   \n",
       "2  ['Action', 'Adventure', 'Indie', 'RPG', 'Early...         6.0   \n",
       "\n",
       "                  publisher  year_released  languages_filled  \n",
       "0         Xbox Game Studios           2020              13.0  \n",
       "1           Electronic Arts           2021              12.0  \n",
       "2   Coffee Stain Publishing           2021              12.0  "
      ]
     },
     "execution_count": 12,
     "metadata": {},
     "output_type": "execute_result"
    }
   ],
   "source": [
    "reviewsdf.head(3)"
   ]
  },
  {
   "cell_type": "code",
   "execution_count": 13,
   "metadata": {},
   "outputs": [],
   "source": [
    "top_pub_list = list(reviewsdf.publisher.value_counts().head(14).keys()) #top 15 publishers\n",
    "\n",
    "\n",
    "def big_publisher(string):\n",
    "    if string in (top_pub_list):\n",
    "        return string\n",
    "    else:\n",
    "        return 'other'\n",
    "    \n",
    "    "
   ]
  },
  {
   "cell_type": "code",
   "execution_count": 14,
   "metadata": {},
   "outputs": [],
   "source": [
    "#creating new column with just top 15 publishers and other, to create less dummy columns\n",
    "reviewsdf['top_pubs'] = reviewsdf.publisher.apply(big_publisher)"
   ]
  },
  {
   "cell_type": "code",
   "execution_count": 15,
   "metadata": {},
   "outputs": [
    {
     "data": {
      "text/html": [
       "<div>\n",
       "<style scoped>\n",
       "    .dataframe tbody tr th:only-of-type {\n",
       "        vertical-align: middle;\n",
       "    }\n",
       "\n",
       "    .dataframe tbody tr th {\n",
       "        vertical-align: top;\n",
       "    }\n",
       "\n",
       "    .dataframe thead th {\n",
       "        text-align: right;\n",
       "    }\n",
       "</style>\n",
       "<table border=\"1\" class=\"dataframe\">\n",
       "  <thead>\n",
       "    <tr style=\"text-align: right;\">\n",
       "      <th></th>\n",
       "      <th>title</th>\n",
       "      <th>num_reviews</th>\n",
       "      <th>release_date</th>\n",
       "      <th>orig_price</th>\n",
       "      <th>been_sale</th>\n",
       "      <th>review_rating</th>\n",
       "      <th>rating_val</th>\n",
       "      <th>num_languages</th>\n",
       "      <th>tags</th>\n",
       "      <th>num_tags</th>\n",
       "      <th>genres</th>\n",
       "      <th>num_genres</th>\n",
       "      <th>publisher</th>\n",
       "      <th>year_released</th>\n",
       "      <th>languages_filled</th>\n",
       "      <th>top_pubs</th>\n",
       "    </tr>\n",
       "  </thead>\n",
       "  <tbody>\n",
       "    <tr>\n",
       "      <th>0</th>\n",
       "      <td>Sea of Thieves</td>\n",
       "      <td>111078</td>\n",
       "      <td>2020-06-03</td>\n",
       "      <td>39.99</td>\n",
       "      <td>1</td>\n",
       "      <td>Very Positive</td>\n",
       "      <td>8.0</td>\n",
       "      <td>13.0</td>\n",
       "      <td>['Adventure', 'Multiplayer', 'Open World', 'Pi...</td>\n",
       "      <td>20.0</td>\n",
       "      <td>['Action', 'Adventure']</td>\n",
       "      <td>2.0</td>\n",
       "      <td>Xbox Game Studios</td>\n",
       "      <td>2020</td>\n",
       "      <td>13.0</td>\n",
       "      <td>Xbox Game Studios</td>\n",
       "    </tr>\n",
       "    <tr>\n",
       "      <th>1</th>\n",
       "      <td>It Takes Two</td>\n",
       "      <td>11813</td>\n",
       "      <td>2021-03-26</td>\n",
       "      <td>39.99</td>\n",
       "      <td>0</td>\n",
       "      <td>Overwhelmingly Positive</td>\n",
       "      <td>9.0</td>\n",
       "      <td>12.0</td>\n",
       "      <td>['Co-op', 'Adventure', '3D Platformer', 'Puzzl...</td>\n",
       "      <td>20.0</td>\n",
       "      <td>['Action', 'Adventure', 'Hazelight']</td>\n",
       "      <td>3.0</td>\n",
       "      <td>Electronic Arts</td>\n",
       "      <td>2021</td>\n",
       "      <td>12.0</td>\n",
       "      <td>Electronic Arts</td>\n",
       "    </tr>\n",
       "    <tr>\n",
       "      <th>2</th>\n",
       "      <td>Valheim</td>\n",
       "      <td>216651</td>\n",
       "      <td>2021-02-02</td>\n",
       "      <td>19.99</td>\n",
       "      <td>0</td>\n",
       "      <td>Overwhelmingly Positive</td>\n",
       "      <td>9.0</td>\n",
       "      <td>12.0</td>\n",
       "      <td>['Open World Survival Craft', 'Online Co-Op', ...</td>\n",
       "      <td>20.0</td>\n",
       "      <td>['Action', 'Adventure', 'Indie', 'RPG', 'Early...</td>\n",
       "      <td>6.0</td>\n",
       "      <td>Coffee Stain Publishing</td>\n",
       "      <td>2021</td>\n",
       "      <td>12.0</td>\n",
       "      <td>other</td>\n",
       "    </tr>\n",
       "    <tr>\n",
       "      <th>3</th>\n",
       "      <td>Horizon Zero Dawn™ Complete Edition</td>\n",
       "      <td>45704</td>\n",
       "      <td>2020-08-07</td>\n",
       "      <td>49.99</td>\n",
       "      <td>1</td>\n",
       "      <td>Mostly Positive</td>\n",
       "      <td>7.0</td>\n",
       "      <td>20.0</td>\n",
       "      <td>['Adventure', 'Open World', 'Action', 'Female ...</td>\n",
       "      <td>20.0</td>\n",
       "      <td>['Action', 'Adventure', 'RPG']</td>\n",
       "      <td>3.0</td>\n",
       "      <td>PlayStation Mobile, Inc.</td>\n",
       "      <td>2020</td>\n",
       "      <td>20.0</td>\n",
       "      <td>other</td>\n",
       "    </tr>\n",
       "    <tr>\n",
       "      <th>4</th>\n",
       "      <td>Phasmophobia</td>\n",
       "      <td>256136</td>\n",
       "      <td>2020-09-18</td>\n",
       "      <td>13.99</td>\n",
       "      <td>0</td>\n",
       "      <td>Overwhelmingly Positive</td>\n",
       "      <td>9.0</td>\n",
       "      <td>25.0</td>\n",
       "      <td>['Horror', 'Online Co-Op', 'Multiplayer', 'Psy...</td>\n",
       "      <td>20.0</td>\n",
       "      <td>[]</td>\n",
       "      <td>0.0</td>\n",
       "      <td>Kinetic Games</td>\n",
       "      <td>2020</td>\n",
       "      <td>25.0</td>\n",
       "      <td>other</td>\n",
       "    </tr>\n",
       "  </tbody>\n",
       "</table>\n",
       "</div>"
      ],
      "text/plain": [
       "                                 title  num_reviews release_date  orig_price  \\\n",
       "0                       Sea of Thieves       111078   2020-06-03       39.99   \n",
       "1                         It Takes Two        11813   2021-03-26       39.99   \n",
       "2                              Valheim       216651   2021-02-02       19.99   \n",
       "3  Horizon Zero Dawn™ Complete Edition        45704   2020-08-07       49.99   \n",
       "4                         Phasmophobia       256136   2020-09-18       13.99   \n",
       "\n",
       "   been_sale            review_rating  rating_val  num_languages  \\\n",
       "0          1            Very Positive         8.0           13.0   \n",
       "1          0  Overwhelmingly Positive         9.0           12.0   \n",
       "2          0  Overwhelmingly Positive         9.0           12.0   \n",
       "3          1          Mostly Positive         7.0           20.0   \n",
       "4          0  Overwhelmingly Positive         9.0           25.0   \n",
       "\n",
       "                                                tags  num_tags  \\\n",
       "0  ['Adventure', 'Multiplayer', 'Open World', 'Pi...      20.0   \n",
       "1  ['Co-op', 'Adventure', '3D Platformer', 'Puzzl...      20.0   \n",
       "2  ['Open World Survival Craft', 'Online Co-Op', ...      20.0   \n",
       "3  ['Adventure', 'Open World', 'Action', 'Female ...      20.0   \n",
       "4  ['Horror', 'Online Co-Op', 'Multiplayer', 'Psy...      20.0   \n",
       "\n",
       "                                              genres  num_genres  \\\n",
       "0                            ['Action', 'Adventure']         2.0   \n",
       "1               ['Action', 'Adventure', 'Hazelight']         3.0   \n",
       "2  ['Action', 'Adventure', 'Indie', 'RPG', 'Early...         6.0   \n",
       "3                     ['Action', 'Adventure', 'RPG']         3.0   \n",
       "4                                                 []         0.0   \n",
       "\n",
       "                  publisher  year_released  languages_filled  \\\n",
       "0         Xbox Game Studios           2020              13.0   \n",
       "1           Electronic Arts           2021              12.0   \n",
       "2   Coffee Stain Publishing           2021              12.0   \n",
       "3  PlayStation Mobile, Inc.           2020              20.0   \n",
       "4             Kinetic Games           2020              25.0   \n",
       "\n",
       "            top_pubs  \n",
       "0  Xbox Game Studios  \n",
       "1    Electronic Arts  \n",
       "2              other  \n",
       "3              other  \n",
       "4              other  "
      ]
     },
     "execution_count": 15,
     "metadata": {},
     "output_type": "execute_result"
    }
   ],
   "source": [
    "reviewsdf.head()"
   ]
  },
  {
   "cell_type": "code",
   "execution_count": 16,
   "metadata": {},
   "outputs": [],
   "source": [
    "pub_dummies = pd.get_dummies(reviewsdf.top_pubs, drop_first=True)\n",
    "\n",
    "reviewsdf = pd.merge(reviewsdf, pub_dummies, left_index=True, right_index=True)"
   ]
  },
  {
   "cell_type": "code",
   "execution_count": 17,
   "metadata": {},
   "outputs": [
    {
     "data": {
      "text/html": [
       "<div>\n",
       "<style scoped>\n",
       "    .dataframe tbody tr th:only-of-type {\n",
       "        vertical-align: middle;\n",
       "    }\n",
       "\n",
       "    .dataframe tbody tr th {\n",
       "        vertical-align: top;\n",
       "    }\n",
       "\n",
       "    .dataframe thead th {\n",
       "        text-align: right;\n",
       "    }\n",
       "</style>\n",
       "<table border=\"1\" class=\"dataframe\">\n",
       "  <thead>\n",
       "    <tr style=\"text-align: right;\">\n",
       "      <th></th>\n",
       "      <th>title</th>\n",
       "      <th>num_reviews</th>\n",
       "      <th>release_date</th>\n",
       "      <th>orig_price</th>\n",
       "      <th>been_sale</th>\n",
       "      <th>review_rating</th>\n",
       "      <th>rating_val</th>\n",
       "      <th>num_languages</th>\n",
       "      <th>tags</th>\n",
       "      <th>num_tags</th>\n",
       "      <th>...</th>\n",
       "      <th>Electronic Arts</th>\n",
       "      <th>Kagura Games</th>\n",
       "      <th>Nightdive Studios</th>\n",
       "      <th>Paradox Interactive</th>\n",
       "      <th>SEGA</th>\n",
       "      <th>Square Enix</th>\n",
       "      <th>THQ Nordic</th>\n",
       "      <th>Ubisoft</th>\n",
       "      <th>Xbox Game Studios</th>\n",
       "      <th>other</th>\n",
       "    </tr>\n",
       "  </thead>\n",
       "  <tbody>\n",
       "    <tr>\n",
       "      <th>0</th>\n",
       "      <td>Sea of Thieves</td>\n",
       "      <td>111078</td>\n",
       "      <td>2020-06-03</td>\n",
       "      <td>39.99</td>\n",
       "      <td>1</td>\n",
       "      <td>Very Positive</td>\n",
       "      <td>8.0</td>\n",
       "      <td>13.0</td>\n",
       "      <td>['Adventure', 'Multiplayer', 'Open World', 'Pi...</td>\n",
       "      <td>20.0</td>\n",
       "      <td>...</td>\n",
       "      <td>0</td>\n",
       "      <td>0</td>\n",
       "      <td>0</td>\n",
       "      <td>0</td>\n",
       "      <td>0</td>\n",
       "      <td>0</td>\n",
       "      <td>0</td>\n",
       "      <td>0</td>\n",
       "      <td>1</td>\n",
       "      <td>0</td>\n",
       "    </tr>\n",
       "    <tr>\n",
       "      <th>1</th>\n",
       "      <td>It Takes Two</td>\n",
       "      <td>11813</td>\n",
       "      <td>2021-03-26</td>\n",
       "      <td>39.99</td>\n",
       "      <td>0</td>\n",
       "      <td>Overwhelmingly Positive</td>\n",
       "      <td>9.0</td>\n",
       "      <td>12.0</td>\n",
       "      <td>['Co-op', 'Adventure', '3D Platformer', 'Puzzl...</td>\n",
       "      <td>20.0</td>\n",
       "      <td>...</td>\n",
       "      <td>1</td>\n",
       "      <td>0</td>\n",
       "      <td>0</td>\n",
       "      <td>0</td>\n",
       "      <td>0</td>\n",
       "      <td>0</td>\n",
       "      <td>0</td>\n",
       "      <td>0</td>\n",
       "      <td>0</td>\n",
       "      <td>0</td>\n",
       "    </tr>\n",
       "    <tr>\n",
       "      <th>2</th>\n",
       "      <td>Valheim</td>\n",
       "      <td>216651</td>\n",
       "      <td>2021-02-02</td>\n",
       "      <td>19.99</td>\n",
       "      <td>0</td>\n",
       "      <td>Overwhelmingly Positive</td>\n",
       "      <td>9.0</td>\n",
       "      <td>12.0</td>\n",
       "      <td>['Open World Survival Craft', 'Online Co-Op', ...</td>\n",
       "      <td>20.0</td>\n",
       "      <td>...</td>\n",
       "      <td>0</td>\n",
       "      <td>0</td>\n",
       "      <td>0</td>\n",
       "      <td>0</td>\n",
       "      <td>0</td>\n",
       "      <td>0</td>\n",
       "      <td>0</td>\n",
       "      <td>0</td>\n",
       "      <td>0</td>\n",
       "      <td>1</td>\n",
       "    </tr>\n",
       "  </tbody>\n",
       "</table>\n",
       "<p>3 rows × 30 columns</p>\n",
       "</div>"
      ],
      "text/plain": [
       "            title  num_reviews release_date  orig_price  been_sale  \\\n",
       "0  Sea of Thieves       111078   2020-06-03       39.99          1   \n",
       "1    It Takes Two        11813   2021-03-26       39.99          0   \n",
       "2         Valheim       216651   2021-02-02       19.99          0   \n",
       "\n",
       "             review_rating  rating_val  num_languages  \\\n",
       "0            Very Positive         8.0           13.0   \n",
       "1  Overwhelmingly Positive         9.0           12.0   \n",
       "2  Overwhelmingly Positive         9.0           12.0   \n",
       "\n",
       "                                                tags  num_tags  ...  \\\n",
       "0  ['Adventure', 'Multiplayer', 'Open World', 'Pi...      20.0  ...   \n",
       "1  ['Co-op', 'Adventure', '3D Platformer', 'Puzzl...      20.0  ...   \n",
       "2  ['Open World Survival Craft', 'Online Co-Op', ...      20.0  ...   \n",
       "\n",
       "  Electronic Arts  Kagura Games Nightdive Studios  Paradox Interactive  SEGA  \\\n",
       "0               0             0                 0                    0     0   \n",
       "1               1             0                 0                    0     0   \n",
       "2               0             0                 0                    0     0   \n",
       "\n",
       "  Square Enix  THQ Nordic  Ubisoft  Xbox Game Studios  other  \n",
       "0           0           0        0                  1      0  \n",
       "1           0           0        0                  0      0  \n",
       "2           0           0        0                  0      1  \n",
       "\n",
       "[3 rows x 30 columns]"
      ]
     },
     "execution_count": 17,
     "metadata": {},
     "output_type": "execute_result"
    }
   ],
   "source": [
    "reviewsdf.head(3)"
   ]
  },
  {
   "cell_type": "code",
   "execution_count": 18,
   "metadata": {},
   "outputs": [
    {
     "data": {
      "text/plain": [
       "(5519, 30)"
      ]
     },
     "execution_count": 18,
     "metadata": {},
     "output_type": "execute_result"
    }
   ],
   "source": [
    "reviewsdf.shape"
   ]
  },
  {
   "cell_type": "markdown",
   "metadata": {},
   "source": [
    "# tags\n",
    "next we'll use the code from df_editing to find the top 30 most used tags, create columns for them\n",
    "and then change the columns if the column has that tag"
   ]
  },
  {
   "cell_type": "code",
   "execution_count": 19,
   "metadata": {},
   "outputs": [],
   "source": [
    "regex = re.compile('[^1-9a-zA-Z]')\n"
   ]
  },
  {
   "cell_type": "code",
   "execution_count": 20,
   "metadata": {},
   "outputs": [],
   "source": [
    "tags_list=[]\n",
    "# for items in (reviewsdf.iloc[0].tags.split()):\n",
    "#     list.append(regex.sub('',items))"
   ]
  },
  {
   "cell_type": "code",
   "execution_count": 21,
   "metadata": {},
   "outputs": [
    {
     "data": {
      "text/plain": [
       "[]"
      ]
     },
     "execution_count": 21,
     "metadata": {},
     "output_type": "execute_result"
    }
   ],
   "source": [
    "tags_list"
   ]
  },
  {
   "cell_type": "code",
   "execution_count": 22,
   "metadata": {},
   "outputs": [],
   "source": [
    "#makes a list of all tags\n",
    "def megalist(tags):\n",
    "    for items in (tags.split()):\n",
    "        tags_list.append(regex.sub('',items)) # function was called once with tags_list, once with genres_list"
   ]
  },
  {
   "cell_type": "code",
   "execution_count": 23,
   "metadata": {},
   "outputs": [
    {
     "data": {
      "text/plain": [
       "0       None\n",
       "1       None\n",
       "2       None\n",
       "3       None\n",
       "4       None\n",
       "        ... \n",
       "5523    None\n",
       "5524    None\n",
       "5525    None\n",
       "5526    None\n",
       "5527    None\n",
       "Name: tags, Length: 5519, dtype: object"
      ]
     },
     "execution_count": 23,
     "metadata": {},
     "output_type": "execute_result"
    }
   ],
   "source": [
    "reviewsdf.tags.apply(megalist)"
   ]
  },
  {
   "cell_type": "code",
   "execution_count": 24,
   "metadata": {},
   "outputs": [
    {
     "data": {
      "text/plain": [
       "['Adventure',\n",
       " 'Multiplayer',\n",
       " 'Open',\n",
       " 'World',\n",
       " 'Pirates',\n",
       " 'Action',\n",
       " 'Coop',\n",
       " 'Online',\n",
       " 'CoOp',\n",
       " 'Sailing']"
      ]
     },
     "execution_count": 24,
     "metadata": {},
     "output_type": "execute_result"
    }
   ],
   "source": [
    "tags_list[:10]"
   ]
  },
  {
   "cell_type": "code",
   "execution_count": 25,
   "metadata": {},
   "outputs": [],
   "source": [
    "# takes the top 30 most common tags\n",
    "tags_count = Counter(tags_list).most_common()[:30]"
   ]
  },
  {
   "cell_type": "code",
   "execution_count": 26,
   "metadata": {},
   "outputs": [],
   "source": [
    "top_tags = []\n",
    "for tags in tags_count:\n",
    "    top_tags.append(tags[0])"
   ]
  },
  {
   "cell_type": "code",
   "execution_count": 27,
   "metadata": {},
   "outputs": [
    {
     "data": {
      "text/plain": [
       "['Singleplayer',\n",
       " 'Indie',\n",
       " 'Action',\n",
       " 'Adventure',\n",
       " 'Multiplayer',\n",
       " 'Strategy',\n",
       " 'RPG',\n",
       " 'Casual',\n",
       " 'Simulation',\n",
       " 'Atmospheric',\n",
       " 'Horror',\n",
       " '2D',\n",
       " 'Soundtrack',\n",
       " 'Great',\n",
       " 'Story',\n",
       " 'Rich',\n",
       " 'World',\n",
       " 'Shooter',\n",
       " 'Puzzle',\n",
       " 'TurnBased',\n",
       " 'Open',\n",
       " 'FirstPerson',\n",
       " 'Survival',\n",
       " 'Funny',\n",
       " 'Coop',\n",
       " 'Fantasy',\n",
       " 'Early',\n",
       " 'Access',\n",
       " 'Platformer',\n",
       " 'Local']"
      ]
     },
     "execution_count": 27,
     "metadata": {},
     "output_type": "execute_result"
    }
   ],
   "source": [
    "top_tags"
   ]
  },
  {
   "cell_type": "markdown",
   "metadata": {},
   "source": [
    "## manually created dummies for top 30 tags"
   ]
  },
  {
   "cell_type": "code",
   "execution_count": 28,
   "metadata": {},
   "outputs": [],
   "source": [
    "#created a column for each of the 30 tags, with tags suffix\n",
    "for tags in top_tags:\n",
    "    reviewsdf[tags+'_tag'] = 0"
   ]
  },
  {
   "cell_type": "code",
   "execution_count": 29,
   "metadata": {},
   "outputs": [
    {
     "data": {
      "text/plain": [
       "(5519, 60)"
      ]
     },
     "execution_count": 29,
     "metadata": {},
     "output_type": "execute_result"
    }
   ],
   "source": [
    "reviewsdf.shape"
   ]
  },
  {
   "cell_type": "markdown",
   "metadata": {},
   "source": [
    "## code to fill in each manually created dummy column"
   ]
  },
  {
   "cell_type": "code",
   "execution_count": 30,
   "metadata": {},
   "outputs": [],
   "source": [
    "\n",
    "for items in top_tags:\n",
    "    reviewsdf.loc[reviewsdf.tags.str.contains(items),[items+'_tag']] = 1"
   ]
  },
  {
   "cell_type": "markdown",
   "metadata": {},
   "source": [
    "# genres\n",
    "the same code abobe will be applied to genres."
   ]
  },
  {
   "cell_type": "code",
   "execution_count": 31,
   "metadata": {},
   "outputs": [
    {
     "data": {
      "text/plain": [
       "0       None\n",
       "1       None\n",
       "2       None\n",
       "3       None\n",
       "4       None\n",
       "        ... \n",
       "5523    None\n",
       "5524    None\n",
       "5525    None\n",
       "5526    None\n",
       "5527    None\n",
       "Name: genres, Length: 5519, dtype: object"
      ]
     },
     "execution_count": 31,
     "metadata": {},
     "output_type": "execute_result"
    }
   ],
   "source": [
    "genres_list =[]\n",
    "\n",
    "def megalist_genre(genres):\n",
    "    for items in (genres.split()):\n",
    "        genres_list.append(regex.sub('',items)) # function was called once with tags_list, once with genres_list\n",
    "\n",
    "reviewsdf.genres.apply(megalist_genre)"
   ]
  },
  {
   "cell_type": "code",
   "execution_count": 38,
   "metadata": {},
   "outputs": [],
   "source": [
    "#top 30 genres \n",
    "genres_count = Counter(tags_list).most_common()[:30]"
   ]
  },
  {
   "cell_type": "code",
   "execution_count": 40,
   "metadata": {},
   "outputs": [],
   "source": [
    "\n",
    "\n",
    "\n",
    "top_genres = []\n",
    "for genre in genres_count:\n",
    "    top_genres.append(tags[0])"
   ]
  },
  {
   "cell_type": "code",
   "execution_count": 41,
   "metadata": {},
   "outputs": [
    {
     "data": {
      "text/plain": [
       "['L',\n",
       " 'L',\n",
       " 'L',\n",
       " 'L',\n",
       " 'L',\n",
       " 'L',\n",
       " 'L',\n",
       " 'L',\n",
       " 'L',\n",
       " 'L',\n",
       " 'L',\n",
       " 'L',\n",
       " 'L',\n",
       " 'L',\n",
       " 'L',\n",
       " 'L',\n",
       " 'L',\n",
       " 'L',\n",
       " 'L',\n",
       " 'L',\n",
       " 'L',\n",
       " 'L',\n",
       " 'L',\n",
       " 'L',\n",
       " 'L',\n",
       " 'L',\n",
       " 'L',\n",
       " 'L',\n",
       " 'L',\n",
       " 'L']"
      ]
     },
     "execution_count": 41,
     "metadata": {},
     "output_type": "execute_result"
    }
   ],
   "source": [
    "top_genres"
   ]
  },
  {
   "cell_type": "code",
   "execution_count": 44,
   "metadata": {},
   "outputs": [],
   "source": []
  },
  {
   "cell_type": "code",
   "execution_count": null,
   "metadata": {},
   "outputs": [],
   "source": []
  },
  {
   "cell_type": "code",
   "execution_count": null,
   "metadata": {},
   "outputs": [],
   "source": []
  },
  {
   "cell_type": "code",
   "execution_count": null,
   "metadata": {},
   "outputs": [],
   "source": []
  },
  {
   "cell_type": "code",
   "execution_count": null,
   "metadata": {},
   "outputs": [],
   "source": []
  }
 ],
 "metadata": {
  "kernelspec": {
   "display_name": "Python 3",
   "language": "python",
   "name": "python3"
  },
  "language_info": {
   "codemirror_mode": {
    "name": "ipython",
    "version": 3
   },
   "file_extension": ".py",
   "mimetype": "text/x-python",
   "name": "python",
   "nbconvert_exporter": "python",
   "pygments_lexer": "ipython3",
   "version": "3.8.5"
  }
 },
 "nbformat": 4,
 "nbformat_minor": 4
}
