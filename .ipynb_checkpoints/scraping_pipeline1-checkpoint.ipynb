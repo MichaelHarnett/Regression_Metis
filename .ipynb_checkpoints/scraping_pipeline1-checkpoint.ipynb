{
 "cells": [
  {
   "cell_type": "code",
   "execution_count": 1,
   "id": "governing-forward",
   "metadata": {},
   "outputs": [
    {
     "name": "stdout",
     "output_type": "stream",
     "text": [
      "Collecting selenium\n",
      "  Downloading selenium-3.141.0-py2.py3-none-any.whl (904 kB)\n",
      "\u001b[K     |████████████████████████████████| 904 kB 5.4 MB/s eta 0:00:01\n",
      "\u001b[?25hRequirement already satisfied: urllib3 in /usr/local/anaconda3/lib/python3.8/site-packages (from selenium) (1.25.11)\n",
      "Installing collected packages: selenium\n",
      "Successfully installed selenium-3.141.0\n"
     ]
    }
   ],
   "source": [
    "!pip install selenium"
   ]
  },
  {
   "cell_type": "code",
   "execution_count": 213,
   "id": "strong-uncertainty",
   "metadata": {},
   "outputs": [],
   "source": [
    "from bs4 import BeautifulSoup\n",
    "import requests\n",
    "import pandas as pd\n",
    "from selenium import webdriver\n",
    "from selenium.webdriver.common.keys import Keys\n",
    "import time, os\n",
    "\n",
    "chromedriver = \"/Applications/chromedriver\" # path to the chromedriver executable\n",
    "os.environ[\"webdriver.chrome.driver\"] = chromedriver\n",
    "\n",
    "url = 'https://store.steampowered.com/search/?filter=topsellers'\n",
    "\n",
    "#user_agent = {'User-agent': 'Mozilla/5.0'}\n",
    "driver = webdriver.Chrome(chromedriver)\n",
    "driver.get(url)"
   ]
  },
  {
   "cell_type": "code",
   "execution_count": 146,
   "id": "cooperative-factor",
   "metadata": {},
   "outputs": [],
   "source": [
    "soup = BeautifulSoup(driver.page_source, 'html5lib')"
   ]
  },
  {
   "cell_type": "code",
   "execution_count": 136,
   "id": "advance-water",
   "metadata": {},
   "outputs": [
    {
     "ename": "AttributeError",
     "evalue": "'NoneType' object has no attribute 'find_all'",
     "output_type": "error",
     "traceback": [
      "\u001b[0;31m---------------------------------------------------------------------------\u001b[0m",
      "\u001b[0;31mAttributeError\u001b[0m                            Traceback (most recent call last)",
      "\u001b[0;32m<ipython-input-136-0f290e2271af>\u001b[0m in \u001b[0;36m<module>\u001b[0;34m\u001b[0m\n\u001b[1;32m      1\u001b[0m \u001b[0mtable\u001b[0m \u001b[0;34m=\u001b[0m \u001b[0msoup\u001b[0m\u001b[0;34m.\u001b[0m\u001b[0mfind\u001b[0m\u001b[0;34m(\u001b[0m\u001b[0;34m'div'\u001b[0m\u001b[0;34m,\u001b[0m \u001b[0mid\u001b[0m\u001b[0;34m=\u001b[0m\u001b[0;34m'search_resultsRows'\u001b[0m\u001b[0;34m)\u001b[0m\u001b[0;34m\u001b[0m\u001b[0;34m\u001b[0m\u001b[0m\n\u001b[1;32m      2\u001b[0m \u001b[0mtable\u001b[0m\u001b[0;34m\u001b[0m\u001b[0;34m\u001b[0m\u001b[0m\n\u001b[0;32m----> 3\u001b[0;31m \u001b[0mrows\u001b[0m \u001b[0;34m=\u001b[0m \u001b[0;34m[\u001b[0m\u001b[0mrow\u001b[0m \u001b[0;32mfor\u001b[0m \u001b[0mrow\u001b[0m \u001b[0;32min\u001b[0m \u001b[0mtable\u001b[0m\u001b[0;34m.\u001b[0m\u001b[0mfind_all\u001b[0m\u001b[0;34m(\u001b[0m\u001b[0;34m'a'\u001b[0m\u001b[0;34m)\u001b[0m\u001b[0;34m]\u001b[0m\u001b[0;34m\u001b[0m\u001b[0;34m\u001b[0m\u001b[0m\n\u001b[0m",
      "\u001b[0;31mAttributeError\u001b[0m: 'NoneType' object has no attribute 'find_all'"
     ]
    }
   ],
   "source": [
    "table = soup.find('div', id='search_resultsRows')\n",
    "table\n",
    "rows = [row for row in table.find_all('a')]"
   ]
  },
  {
   "cell_type": "code",
   "execution_count": 49,
   "id": "going-valve",
   "metadata": {},
   "outputs": [
    {
     "data": {
      "text/plain": [
       "50"
      ]
     },
     "execution_count": 49,
     "metadata": {},
     "output_type": "execute_result"
    }
   ],
   "source": [
    "len(rows)"
   ]
  },
  {
   "cell_type": "code",
   "execution_count": 50,
   "id": "broad-cancellation",
   "metadata": {},
   "outputs": [],
   "source": [
    "#this was sufficient to scroll to the bottom of the top sellers page for steam, pulling code from scraping list\n",
    "for i in range(500):\n",
    "    #Scroll\n",
    "    driver.execute_script(\n",
    "        \"window.scrollTo(0, document.documentElement.scrollHeight);\" #Alternatively, document.body.scrollHeight\n",
    "    )\n",
    "    time.sleep(1)"
   ]
  },
  {
   "cell_type": "code",
   "execution_count": 53,
   "id": "useful-grammar",
   "metadata": {},
   "outputs": [],
   "source": [
    "soup = BeautifulSoup(driver.page_source, 'html5lib')"
   ]
  },
  {
   "cell_type": "code",
   "execution_count": 54,
   "id": "herbal-ordinary",
   "metadata": {},
   "outputs": [
    {
     "data": {
      "text/plain": [
       "16700"
      ]
     },
     "execution_count": 54,
     "metadata": {},
     "output_type": "execute_result"
    }
   ],
   "source": [
    "#successfully scraped 16.5k elements, hopefully all games.\n",
    "table = soup.find('div', id='search_resultsRows')\n",
    "table\n",
    "rows = [row for row in table.find_all('a')]\n",
    "rows[0]\n",
    "len(rows)"
   ]
  },
  {
   "cell_type": "code",
   "execution_count": 55,
   "id": "challenging-popularity",
   "metadata": {},
   "outputs": [],
   "source": [
    "#pulling code created in 'scraping_list' notebook to create dataframe.\n",
    "#dataframe index is game name, \n",
    "\n",
    "games = {}\n",
    "\n",
    "for row in rows:\n",
    "    title = (row.find('span', class_='title').text)\n",
    "    url = row.get('href')\n",
    "    release_date = (row.find('div', class_='col search_released responsive_secondrow').text)\n",
    "    if (row.find('div', class_='col search_discount responsive_secondrow').text.strip()) == '':\n",
    "        been_sale = 0\n",
    "    else:\n",
    "        been_sale = 1\n",
    "    if been_sale == 0:\n",
    "        orig_price = (row.find('div', class_='col search_price responsive_secondrow').text.strip())\n",
    "    else:\n",
    "        orig_price = (row.find('strike').text)\n",
    "    games[title] = (url, \n",
    "                    release_date,\n",
    "                    been_sale,\n",
    "                    orig_price)\n",
    "    "
   ]
  },
  {
   "cell_type": "code",
   "execution_count": 56,
   "id": "referenced-congress",
   "metadata": {},
   "outputs": [
    {
     "data": {
      "text/plain": [
       "(16560, 4)"
      ]
     },
     "execution_count": 56,
     "metadata": {},
     "output_type": "execute_result"
    }
   ],
   "source": [
    "gamesdf1 = pd.DataFrame(games).T\n",
    "gamesdf1.columns = ['link', 'release_date', 'been_sale', 'orig_price']\n",
    "\n",
    "gamesdf1.shape"
   ]
  },
  {
   "cell_type": "code",
   "execution_count": 57,
   "id": "thirty-malpractice",
   "metadata": {},
   "outputs": [
    {
     "name": "stdout",
     "output_type": "stream",
     "text": [
      "<class 'pandas.core.frame.DataFrame'>\n",
      "Index: 16560 entries, OUTRIDERS to Dinosaur Hunt - Stegosaurus Expansion Pack\n",
      "Data columns (total 4 columns):\n",
      " #   Column        Non-Null Count  Dtype \n",
      "---  ------        --------------  ----- \n",
      " 0   link          16560 non-null  object\n",
      " 1   release_date  16560 non-null  object\n",
      " 2   been_sale     16560 non-null  object\n",
      " 3   orig_price    16560 non-null  object\n",
      "dtypes: object(4)\n",
      "memory usage: 646.9+ KB\n"
     ]
    }
   ],
   "source": [
    "#no nulls!!\n",
    "gamesdf1.info()"
   ]
  },
  {
   "cell_type": "code",
   "execution_count": 58,
   "id": "young-relief",
   "metadata": {},
   "outputs": [
    {
     "data": {
      "text/html": [
       "<div>\n",
       "<style scoped>\n",
       "    .dataframe tbody tr th:only-of-type {\n",
       "        vertical-align: middle;\n",
       "    }\n",
       "\n",
       "    .dataframe tbody tr th {\n",
       "        vertical-align: top;\n",
       "    }\n",
       "\n",
       "    .dataframe thead th {\n",
       "        text-align: right;\n",
       "    }\n",
       "</style>\n",
       "<table border=\"1\" class=\"dataframe\">\n",
       "  <thead>\n",
       "    <tr style=\"text-align: right;\">\n",
       "      <th></th>\n",
       "      <th>link</th>\n",
       "      <th>release_date</th>\n",
       "      <th>been_sale</th>\n",
       "      <th>orig_price</th>\n",
       "    </tr>\n",
       "  </thead>\n",
       "  <tbody>\n",
       "    <tr>\n",
       "      <th>OUTRIDERS</th>\n",
       "      <td>https://store.steampowered.com/sub/504022/?snr...</td>\n",
       "      <td>Apr 1, 2021</td>\n",
       "      <td>0</td>\n",
       "      <td>$59.99</td>\n",
       "    </tr>\n",
       "    <tr>\n",
       "      <th>Sea of Thieves</th>\n",
       "      <td>https://store.steampowered.com/app/1172620/Sea...</td>\n",
       "      <td>Jun 3, 2020</td>\n",
       "      <td>1</td>\n",
       "      <td>$39.99</td>\n",
       "    </tr>\n",
       "    <tr>\n",
       "      <th>Halo: The Master Chief Collection</th>\n",
       "      <td>https://store.steampowered.com/sub/376282/?snr...</td>\n",
       "      <td>Dec 3, 2019</td>\n",
       "      <td>1</td>\n",
       "      <td>$39.99</td>\n",
       "    </tr>\n",
       "    <tr>\n",
       "      <th>It Takes Two</th>\n",
       "      <td>https://store.steampowered.com/app/1426210/It_...</td>\n",
       "      <td>Mar 26, 2021</td>\n",
       "      <td>0</td>\n",
       "      <td>$39.99</td>\n",
       "    </tr>\n",
       "    <tr>\n",
       "      <th>Valheim</th>\n",
       "      <td>https://store.steampowered.com/app/892970/Valh...</td>\n",
       "      <td>Feb 2, 2021</td>\n",
       "      <td>0</td>\n",
       "      <td>$19.99</td>\n",
       "    </tr>\n",
       "  </tbody>\n",
       "</table>\n",
       "</div>"
      ],
      "text/plain": [
       "                                                                                link  \\\n",
       "OUTRIDERS                          https://store.steampowered.com/sub/504022/?snr...   \n",
       "Sea of Thieves                     https://store.steampowered.com/app/1172620/Sea...   \n",
       "Halo: The Master Chief Collection  https://store.steampowered.com/sub/376282/?snr...   \n",
       "It Takes Two                       https://store.steampowered.com/app/1426210/It_...   \n",
       "Valheim                            https://store.steampowered.com/app/892970/Valh...   \n",
       "\n",
       "                                   release_date been_sale orig_price  \n",
       "OUTRIDERS                           Apr 1, 2021         0     $59.99  \n",
       "Sea of Thieves                      Jun 3, 2020         1     $39.99  \n",
       "Halo: The Master Chief Collection   Dec 3, 2019         1     $39.99  \n",
       "It Takes Two                       Mar 26, 2021         0     $39.99  \n",
       "Valheim                             Feb 2, 2021         0     $19.99  "
      ]
     },
     "execution_count": 58,
     "metadata": {},
     "output_type": "execute_result"
    }
   ],
   "source": [
    "gamesdf1.head()"
   ]
  },
  {
   "cell_type": "code",
   "execution_count": 64,
   "id": "smoking-trinidad",
   "metadata": {},
   "outputs": [
    {
     "data": {
      "text/html": [
       "<div>\n",
       "<style scoped>\n",
       "    .dataframe tbody tr th:only-of-type {\n",
       "        vertical-align: middle;\n",
       "    }\n",
       "\n",
       "    .dataframe tbody tr th {\n",
       "        vertical-align: top;\n",
       "    }\n",
       "\n",
       "    .dataframe thead th {\n",
       "        text-align: right;\n",
       "    }\n",
       "</style>\n",
       "<table border=\"1\" class=\"dataframe\">\n",
       "  <thead>\n",
       "    <tr style=\"text-align: right;\">\n",
       "      <th></th>\n",
       "      <th>link</th>\n",
       "      <th>release_date</th>\n",
       "      <th>been_sale</th>\n",
       "      <th>orig_price</th>\n",
       "    </tr>\n",
       "  </thead>\n",
       "  <tbody>\n",
       "    <tr>\n",
       "      <th>Dinosaur Hunt - Dragon Hunter Expansion Pack</th>\n",
       "      <td>https://store.steampowered.com/app/408102/Dino...</td>\n",
       "      <td>Dec 18, 2015</td>\n",
       "      <td>0</td>\n",
       "      <td>$0.99</td>\n",
       "    </tr>\n",
       "    <tr>\n",
       "      <th>Dinosaur Hunt - Giant Spiders Hunter Expansion Pack</th>\n",
       "      <td>https://store.steampowered.com/app/431191/Dino...</td>\n",
       "      <td>Mar 16, 2016</td>\n",
       "      <td>0</td>\n",
       "      <td>$0.99</td>\n",
       "    </tr>\n",
       "    <tr>\n",
       "      <th>Dinosaur Hunt - Brontosaurus Expansion Pack</th>\n",
       "      <td>https://store.steampowered.com/app/434942/Dino...</td>\n",
       "      <td>Mar 16, 2016</td>\n",
       "      <td>0</td>\n",
       "      <td>$0.99</td>\n",
       "    </tr>\n",
       "    <tr>\n",
       "      <th>Dinosaur Hunt - Vampires, Gargoyles, Mutants Hunter Expansion Pack</th>\n",
       "      <td>https://store.steampowered.com/app/431190/Dino...</td>\n",
       "      <td>Jan 22, 2016</td>\n",
       "      <td>0</td>\n",
       "      <td>$0.99</td>\n",
       "    </tr>\n",
       "    <tr>\n",
       "      <th>Dinosaur Hunt - Stegosaurus Expansion Pack</th>\n",
       "      <td>https://store.steampowered.com/app/408100/Dino...</td>\n",
       "      <td>Nov 13, 2015</td>\n",
       "      <td>0</td>\n",
       "      <td>$0.99</td>\n",
       "    </tr>\n",
       "  </tbody>\n",
       "</table>\n",
       "</div>"
      ],
      "text/plain": [
       "                                                                                                 link  \\\n",
       "Dinosaur Hunt - Dragon Hunter Expansion Pack        https://store.steampowered.com/app/408102/Dino...   \n",
       "Dinosaur Hunt - Giant Spiders Hunter Expansion ...  https://store.steampowered.com/app/431191/Dino...   \n",
       "Dinosaur Hunt - Brontosaurus Expansion Pack         https://store.steampowered.com/app/434942/Dino...   \n",
       "Dinosaur Hunt - Vampires, Gargoyles, Mutants Hu...  https://store.steampowered.com/app/431190/Dino...   \n",
       "Dinosaur Hunt - Stegosaurus Expansion Pack          https://store.steampowered.com/app/408100/Dino...   \n",
       "\n",
       "                                                    release_date been_sale  \\\n",
       "Dinosaur Hunt - Dragon Hunter Expansion Pack        Dec 18, 2015         0   \n",
       "Dinosaur Hunt - Giant Spiders Hunter Expansion ...  Mar 16, 2016         0   \n",
       "Dinosaur Hunt - Brontosaurus Expansion Pack         Mar 16, 2016         0   \n",
       "Dinosaur Hunt - Vampires, Gargoyles, Mutants Hu...  Jan 22, 2016         0   \n",
       "Dinosaur Hunt - Stegosaurus Expansion Pack          Nov 13, 2015         0   \n",
       "\n",
       "                                                   orig_price  \n",
       "Dinosaur Hunt - Dragon Hunter Expansion Pack            $0.99  \n",
       "Dinosaur Hunt - Giant Spiders Hunter Expansion ...      $0.99  \n",
       "Dinosaur Hunt - Brontosaurus Expansion Pack             $0.99  \n",
       "Dinosaur Hunt - Vampires, Gargoyles, Mutants Hu...      $0.99  \n",
       "Dinosaur Hunt - Stegosaurus Expansion Pack              $0.99  "
      ]
     },
     "execution_count": 64,
     "metadata": {},
     "output_type": "execute_result"
    }
   ],
   "source": [
    "gamesdf1.tail()"
   ]
  },
  {
   "cell_type": "markdown",
   "id": "historical-independence",
   "metadata": {},
   "source": [
    "# attempt 1 to pull all game page data\n",
    "\n",
    "Just \"successfully\" ran the function to pull all game data for the first 50 games. several nulls. going to run the code on here overnight, to see if there are enough non-null games out of the 16k to run a suitable model. if not, will have to write conditions for variance in page layouts, or supplement my scraped data with steamspy/steam's api"
   ]
  },
  {
   "cell_type": "code",
   "execution_count": 69,
   "id": "protected-observer",
   "metadata": {},
   "outputs": [],
   "source": [
    "#attempting to pull my code in from  'scraping_page' to see if data can be pulled from from each game page.\n",
    "\n",
    "def get_game_details(url):\n",
    "\n",
    "    \n",
    "\n",
    "    \n",
    "    \n",
    "    #Request HTML and parse\n",
    "    response = driver.get(url)\n",
    "    \n",
    "    for i in range(5):\n",
    "        #Scroll\n",
    "        driver.execute_script(\n",
    "            \"window.scrollTo(0, document.documentElement.scrollHeight);\" #Alternatively, document.body.scrollHeight\n",
    "        )\n",
    "        time.sleep(1)\n",
    "    \n",
    "    soup = BeautifulSoup(driver.page_source, \"html5lib\")\n",
    "    \n",
    "    \n",
    "\n",
    "    \n",
    "    headers = ['title', 'num_reviews', 'review_rating', \n",
    "              'num_languages', 'tags', 'num_tags',\n",
    "              'genres', 'num_genres', 'publisher']\n",
    "    \n",
    "    #Get title\n",
    "    if not (soup.find('div', class_='apphub_AppName')):\n",
    "        title = 'HELP'\n",
    "    else:\n",
    "        title = soup.find('div', class_='apphub_AppName').text\n",
    "\n",
    "    #Get number of reviews\n",
    "    if not (soup.find('div', id='Reviews_summary')):\n",
    "        num_reviews = 'HELP'\n",
    "    elif not (soup.find('div', id='Reviews_summary').find('div', id='ViewAllReviewssummary')):\n",
    "        num_reviews = 'HELP'\n",
    "    else:\n",
    "        rev_string = soup.find('div', id='Reviews_summary').find('div', id='ViewAllReviewssummary').find('a').text\n",
    "        num_reviews = rev_string.split()[2]\n",
    "     \n",
    "\n",
    "    #Get review rating\n",
    "    if not (soup.find(class_='user_reviews_summary_bar')):\n",
    "        rating = 'HELP'\n",
    "    else:\n",
    "        rating = soup.find(class_='user_reviews_summary_bar').find_all('span')[0].text\n",
    "    \n",
    "    \n",
    "    #Get number of languages offered in\n",
    "    if not soup.find('a', class_='all_languages'):\n",
    "        num_languages = 'HELP'\n",
    "    else:\n",
    "        num_languages = soup.find('a', class_='all_languages').text.split()[2]\n",
    "    \n",
    "\n",
    "    #Get tags associated with game\n",
    "    if not soup.find('div', class_='glance_tags'):\n",
    "        tags_list = 'HELP'\n",
    "    else:\n",
    "        tags = soup.find('div', class_='glance_tags').find_all('a')\n",
    "        tags_list = []\n",
    "        for items in tags:\n",
    "            tags_list.append(items.text.strip())\n",
    "    \n",
    "    \n",
    "    #number of tags\n",
    "    if not soup.find('div', class_='glance_tags'):\n",
    "        num_tags = 'HELP'\n",
    "    else:\n",
    "        num_tags = len(tags_list)\n",
    "    \n",
    "    #genres list\n",
    "    if not soup.find('div', class_='details_block'):\n",
    "        genres_list = 'HELP'\n",
    "    else:\n",
    "        genres_all = soup.find('div', class_='details_block').find_all('a')[0:-2]\n",
    "        genres_list = []\n",
    "        for links in genres_all:\n",
    "            genres_list.append(links.text)\n",
    "        \n",
    "    # number of genres\n",
    "    if not soup.find('div', class_='details_block'):\n",
    "        num_genres = 'HELP'\n",
    "    else:\n",
    "        num_genres = len(genres_list)\n",
    "    \n",
    "    #get publisher\n",
    "    \n",
    "    #if not soup.find('div', class_='details_block'): #this threw an error 10 pages in, going more general\n",
    "    #    publisher = 'HALP PUBLISHER'\n",
    "    #else:\n",
    "    #    publisher = soup.find('div', class_='details_block').find_all('a')[-1].text\n",
    "    \n",
    "    \n",
    "    if not soup.find('div', class_='glance_ctn_responsive_left'):\n",
    "        publisher = 'HELP'\n",
    "    else:\n",
    "        publisher = soup.find('div', class_='glance_ctn_responsive_left').find_all('a')[-1].text\n",
    "    \n",
    "    #create dict of all games\n",
    "    games_dict = dict(zip(headers, [title,\n",
    "                                num_reviews,\n",
    "                                rating,\n",
    "                                num_languages, \n",
    "                                tags_list,\n",
    "                                num_tags,\n",
    "                                genres_list,\n",
    "                                num_genres,\n",
    "                                publisher]))\n",
    "\n",
    "    return games_dict"
   ]
  },
  {
   "cell_type": "code",
   "execution_count": 70,
   "id": "comparable-stretch",
   "metadata": {},
   "outputs": [
    {
     "ename": "AttributeError",
     "evalue": "'NoneType' object has no attribute 'text'",
     "output_type": "error",
     "traceback": [
      "\u001b[0;31m---------------------------------------------------------------------------\u001b[0m",
      "\u001b[0;31mAttributeError\u001b[0m                            Traceback (most recent call last)",
      "\u001b[0;32m<ipython-input-70-05c8d2080323>\u001b[0m in \u001b[0;36m<module>\u001b[0;34m\u001b[0m\n\u001b[1;32m      2\u001b[0m \u001b[0;34m\u001b[0m\u001b[0m\n\u001b[1;32m      3\u001b[0m \u001b[0;32mfor\u001b[0m \u001b[0murl\u001b[0m \u001b[0;32min\u001b[0m \u001b[0mgamesdf1\u001b[0m\u001b[0;34m.\u001b[0m\u001b[0mlink\u001b[0m\u001b[0;34m:\u001b[0m\u001b[0;34m\u001b[0m\u001b[0;34m\u001b[0m\u001b[0m\n\u001b[0;32m----> 4\u001b[0;31m     \u001b[0mgames_info\u001b[0m\u001b[0;34m.\u001b[0m\u001b[0mappend\u001b[0m\u001b[0;34m(\u001b[0m\u001b[0mget_game_details\u001b[0m\u001b[0;34m(\u001b[0m\u001b[0murl\u001b[0m\u001b[0;34m)\u001b[0m\u001b[0;34m)\u001b[0m\u001b[0;34m\u001b[0m\u001b[0;34m\u001b[0m\u001b[0m\n\u001b[0m\u001b[1;32m      5\u001b[0m \u001b[0;34m\u001b[0m\u001b[0m\n",
      "\u001b[0;32m<ipython-input-69-c83d58fe4972>\u001b[0m in \u001b[0;36mget_game_details\u001b[0;34m(url)\u001b[0m\n\u001b[1;32m     38\u001b[0m         \u001b[0mnum_reviews\u001b[0m \u001b[0;34m=\u001b[0m \u001b[0;34m'HELP'\u001b[0m\u001b[0;34m\u001b[0m\u001b[0;34m\u001b[0m\u001b[0m\n\u001b[1;32m     39\u001b[0m     \u001b[0;32melse\u001b[0m\u001b[0;34m:\u001b[0m\u001b[0;34m\u001b[0m\u001b[0;34m\u001b[0m\u001b[0m\n\u001b[0;32m---> 40\u001b[0;31m         \u001b[0mrev_string\u001b[0m \u001b[0;34m=\u001b[0m \u001b[0msoup\u001b[0m\u001b[0;34m.\u001b[0m\u001b[0mfind\u001b[0m\u001b[0;34m(\u001b[0m\u001b[0;34m'div'\u001b[0m\u001b[0;34m,\u001b[0m \u001b[0mid\u001b[0m\u001b[0;34m=\u001b[0m\u001b[0;34m'Reviews_summary'\u001b[0m\u001b[0;34m)\u001b[0m\u001b[0;34m.\u001b[0m\u001b[0mfind\u001b[0m\u001b[0;34m(\u001b[0m\u001b[0;34m'div'\u001b[0m\u001b[0;34m,\u001b[0m \u001b[0mid\u001b[0m\u001b[0;34m=\u001b[0m\u001b[0;34m'ViewAllReviewssummary'\u001b[0m\u001b[0;34m)\u001b[0m\u001b[0;34m.\u001b[0m\u001b[0mfind\u001b[0m\u001b[0;34m(\u001b[0m\u001b[0;34m'a'\u001b[0m\u001b[0;34m)\u001b[0m\u001b[0;34m.\u001b[0m\u001b[0mtext\u001b[0m\u001b[0;34m\u001b[0m\u001b[0;34m\u001b[0m\u001b[0m\n\u001b[0m\u001b[1;32m     41\u001b[0m         \u001b[0mnum_reviews\u001b[0m \u001b[0;34m=\u001b[0m \u001b[0mrev_string\u001b[0m\u001b[0;34m.\u001b[0m\u001b[0msplit\u001b[0m\u001b[0;34m(\u001b[0m\u001b[0;34m)\u001b[0m\u001b[0;34m[\u001b[0m\u001b[0;36m2\u001b[0m\u001b[0;34m]\u001b[0m\u001b[0;34m\u001b[0m\u001b[0;34m\u001b[0m\u001b[0m\n\u001b[1;32m     42\u001b[0m \u001b[0;34m\u001b[0m\u001b[0m\n",
      "\u001b[0;31mAttributeError\u001b[0m: 'NoneType' object has no attribute 'text'"
     ]
    }
   ],
   "source": [
    "games_info = []\n",
    "\n",
    "for url in gamesdf1.link:\n",
    "    games_info.append(get_game_details(url))\n",
    "    "
   ]
  },
  {
   "cell_type": "code",
   "execution_count": 77,
   "id": "alternate-regression",
   "metadata": {},
   "outputs": [],
   "source": [
    "games_info = pd.DataFrame(games_info)"
   ]
  },
  {
   "cell_type": "code",
   "execution_count": 73,
   "id": "legendary-madness",
   "metadata": {},
   "outputs": [
    {
     "data": {
      "text/plain": [
       "link            https://store.steampowered.com/app/10090/Call_...\n",
       "release_date                                         Nov 18, 2008\n",
       "been_sale                                                       0\n",
       "orig_price                                                 $19.99\n",
       "Name: Call of Duty: World at War, dtype: object"
      ]
     },
     "execution_count": 73,
     "metadata": {},
     "output_type": "execute_result"
    }
   ],
   "source": [
    "gamesdf1.iloc[312]"
   ]
  },
  {
   "cell_type": "code",
   "execution_count": null,
   "id": "educational-sending",
   "metadata": {},
   "outputs": [],
   "source": [
    "# first attempt failed, but only after 300 iterations. going to look into nulls now, but am going\n",
    "# to rewrite the function to account for failing at EVERY find, not just first one"
   ]
  },
  {
   "cell_type": "code",
   "execution_count": 80,
   "id": "amateur-moore",
   "metadata": {},
   "outputs": [],
   "source": [
    "import numpy as np\n",
    "games_info.replace('HELP', np.nan, inplace=True)"
   ]
  },
  {
   "cell_type": "code",
   "execution_count": 81,
   "id": "found-toilet",
   "metadata": {},
   "outputs": [
    {
     "name": "stdout",
     "output_type": "stream",
     "text": [
      "<class 'pandas.core.frame.DataFrame'>\n",
      "RangeIndex: 311 entries, 0 to 310\n",
      "Data columns (total 9 columns):\n",
      " #   Column         Non-Null Count  Dtype  \n",
      "---  ------         --------------  -----  \n",
      " 0   title          257 non-null    object \n",
      " 1   num_reviews    207 non-null    object \n",
      " 2   review_rating  246 non-null    object \n",
      " 3   num_languages  197 non-null    object \n",
      " 4   tags           256 non-null    object \n",
      " 5   num_tags       256 non-null    float64\n",
      " 6   genres         310 non-null    object \n",
      " 7   num_genres     310 non-null    float64\n",
      " 8   publisher      256 non-null    object \n",
      "dtypes: float64(2), object(7)\n",
      "memory usage: 22.0+ KB\n"
     ]
    }
   ],
   "source": [
    "games_info.info()"
   ]
  },
  {
   "cell_type": "markdown",
   "id": "lonely-farming",
   "metadata": {},
   "source": [
    "# attempt #2\n",
    "ran as I went to sleep, computer was asleep when I woke up, woke it up, program still running, assumed that it was running all night, but had to leave for bridal shower. terminated program, only ~400 titles copied. need to remove the sleep, takes too long between pages. although first time i tried, it it wasnt always scrolling to the bottom of the game page. will play with it tomorrow. "
   ]
  },
  {
   "cell_type": "code",
   "execution_count": 83,
   "id": "regular-brick",
   "metadata": {},
   "outputs": [],
   "source": [
    "#attempting to pull my code in from  'scraping_page' to see if data can be pulled from from each game page.\n",
    "\n",
    "def get_game_details(url):\n",
    "\n",
    "    \n",
    "\n",
    "    \n",
    "    \n",
    "    #Request HTML and parse\n",
    "    response = driver.get(url)\n",
    "    \n",
    "    for i in range(5):\n",
    "        #Scroll\n",
    "        driver.execute_script(\n",
    "            \"window.scrollTo(0, document.documentElement.scrollHeight);\" #Alternatively, document.body.scrollHeight\n",
    "        )\n",
    "        time.sleep(1)\n",
    "    \n",
    "    soup = BeautifulSoup(driver.page_source, \"html5lib\")\n",
    "    \n",
    "    \n",
    "\n",
    "    \n",
    "    headers = ['title', 'num_reviews', 'review_rating', \n",
    "              'num_languages', 'tags', 'num_tags',\n",
    "              'genres', 'num_genres', 'publisher']\n",
    "    \n",
    "    #Get title\n",
    "    if not (soup.find('div', class_='apphub_AppName')):\n",
    "        title = 'HELP'\n",
    "    else:\n",
    "        title = soup.find('div', class_='apphub_AppName').text\n",
    "\n",
    "    #Get number of reviews\n",
    "    if not (soup.find('div', id='Reviews_summary')):\n",
    "        num_reviews = 'HELP'\n",
    "    elif not (soup.find('div', id='Reviews_summary').find('div', id='ViewAllReviewssummary')):\n",
    "        num_reviews = 'HELP'\n",
    "    elif not soup.find('div', id='Reviews_summary').find('div', id='ViewAllReviewssummary').find('a'):\n",
    "        num_reviews = 'HELP'\n",
    "    else:\n",
    "        rev_string = soup.find('div', id='Reviews_summary').find('div', id='ViewAllReviewssummary').find('a').text\n",
    "        num_reviews = rev_string.split()[2]\n",
    "     \n",
    "\n",
    "    #Get review rating\n",
    "    if not (soup.find(class_='user_reviews_summary_bar')):\n",
    "        rating = 'HELP'\n",
    "    elif not soup.find(class_='user_reviews_summary_bar').find_all('span'):\n",
    "        rating = 'HELP'\n",
    "    else:\n",
    "        rating = soup.find(class_='user_reviews_summary_bar').find_all('span')[0].text\n",
    "    \n",
    "    \n",
    "    #Get number of languages offered in\n",
    "    if not soup.find('a', class_='all_languages'):\n",
    "        num_languages = 'HELP'\n",
    "    else:\n",
    "        num_languages = soup.find('a', class_='all_languages').text.split()[2]\n",
    "    \n",
    "\n",
    "    #Get tags associated with game\n",
    "    if not soup.find('div', class_='glance_tags'):\n",
    "        tags_list = 'HELP'\n",
    "    else:\n",
    "        tags = soup.find('div', class_='glance_tags').find_all('a')\n",
    "        tags_list = []\n",
    "        for items in tags:\n",
    "            tags_list.append(items.text.strip())\n",
    "    \n",
    "    \n",
    "    #number of tags\n",
    "    if not soup.find('div', class_='glance_tags'):\n",
    "        num_tags = 'HELP'\n",
    "    else:\n",
    "        num_tags = len(tags_list)\n",
    "    \n",
    "    #genres list\n",
    "    if not soup.find('div', class_='details_block'):\n",
    "        genres_list = 'HELP'\n",
    "    else:\n",
    "        genres_all = soup.find('div', class_='details_block').find_all('a')[0:-2]\n",
    "        genres_list = []\n",
    "        for links in genres_all:\n",
    "            genres_list.append(links.text)\n",
    "        \n",
    "    # number of genres\n",
    "    if not soup.find('div', class_='details_block'):\n",
    "        num_genres = 'HELP'\n",
    "    else:\n",
    "        num_genres = len(genres_list)\n",
    "    \n",
    "    #get publisher\n",
    "    \n",
    "    #if not soup.find('div', class_='details_block'): #this threw an error 10 pages in, going more general\n",
    "    #    publisher = 'HALP PUBLISHER'\n",
    "    #else:\n",
    "    #    publisher = soup.find('div', class_='details_block').find_all('a')[-1].text\n",
    "    \n",
    "    \n",
    "    if not soup.find('div', class_='glance_ctn_responsive_left'):\n",
    "        publisher = 'HELP'\n",
    "    else:\n",
    "        publisher = soup.find('div', class_='glance_ctn_responsive_left').find_all('a')[-1].text\n",
    "    \n",
    "    #create dict of all games\n",
    "    games_dict = dict(zip(headers, [title,\n",
    "                                num_reviews,\n",
    "                                rating,\n",
    "                                num_languages, \n",
    "                                tags_list,\n",
    "                                num_tags,\n",
    "                                genres_list,\n",
    "                                num_genres,\n",
    "                                publisher]))\n",
    "\n",
    "    return games_dict"
   ]
  },
  {
   "cell_type": "code",
   "execution_count": 84,
   "id": "casual-cattle",
   "metadata": {},
   "outputs": [
    {
     "ename": "WebDriverException",
     "evalue": "Message: disconnected: Unable to receive message from renderer\n  (Session info: chrome=89.0.4389.114)\n",
     "output_type": "error",
     "traceback": [
      "\u001b[0;31m---------------------------------------------------------------------------\u001b[0m",
      "\u001b[0;31mWebDriverException\u001b[0m                        Traceback (most recent call last)",
      "\u001b[0;32m<ipython-input-84-4c69d0e8dc50>\u001b[0m in \u001b[0;36m<module>\u001b[0;34m\u001b[0m\n\u001b[1;32m      2\u001b[0m \u001b[0;34m\u001b[0m\u001b[0m\n\u001b[1;32m      3\u001b[0m \u001b[0;32mfor\u001b[0m \u001b[0murl\u001b[0m \u001b[0;32min\u001b[0m \u001b[0mgamesdf1\u001b[0m\u001b[0;34m.\u001b[0m\u001b[0mlink\u001b[0m\u001b[0;34m:\u001b[0m\u001b[0;34m\u001b[0m\u001b[0;34m\u001b[0m\u001b[0m\n\u001b[0;32m----> 4\u001b[0;31m     \u001b[0mgames_info\u001b[0m\u001b[0;34m.\u001b[0m\u001b[0mappend\u001b[0m\u001b[0;34m(\u001b[0m\u001b[0mget_game_details\u001b[0m\u001b[0;34m(\u001b[0m\u001b[0murl\u001b[0m\u001b[0;34m)\u001b[0m\u001b[0;34m)\u001b[0m\u001b[0;34m\u001b[0m\u001b[0;34m\u001b[0m\u001b[0m\n\u001b[0m",
      "\u001b[0;32m<ipython-input-83-3967334e70cb>\u001b[0m in \u001b[0;36mget_game_details\u001b[0;34m(url)\u001b[0m\n\u001b[1;32m      8\u001b[0m \u001b[0;34m\u001b[0m\u001b[0m\n\u001b[1;32m      9\u001b[0m     \u001b[0;31m#Request HTML and parse\u001b[0m\u001b[0;34m\u001b[0m\u001b[0;34m\u001b[0m\u001b[0;34m\u001b[0m\u001b[0m\n\u001b[0;32m---> 10\u001b[0;31m     \u001b[0mresponse\u001b[0m \u001b[0;34m=\u001b[0m \u001b[0mdriver\u001b[0m\u001b[0;34m.\u001b[0m\u001b[0mget\u001b[0m\u001b[0;34m(\u001b[0m\u001b[0murl\u001b[0m\u001b[0;34m)\u001b[0m\u001b[0;34m\u001b[0m\u001b[0;34m\u001b[0m\u001b[0m\n\u001b[0m\u001b[1;32m     11\u001b[0m \u001b[0;34m\u001b[0m\u001b[0m\n\u001b[1;32m     12\u001b[0m     \u001b[0;32mfor\u001b[0m \u001b[0mi\u001b[0m \u001b[0;32min\u001b[0m \u001b[0mrange\u001b[0m\u001b[0;34m(\u001b[0m\u001b[0;36m5\u001b[0m\u001b[0;34m)\u001b[0m\u001b[0;34m:\u001b[0m\u001b[0;34m\u001b[0m\u001b[0;34m\u001b[0m\u001b[0m\n",
      "\u001b[0;32m/usr/local/anaconda3/lib/python3.8/site-packages/selenium/webdriver/remote/webdriver.py\u001b[0m in \u001b[0;36mget\u001b[0;34m(self, url)\u001b[0m\n\u001b[1;32m    331\u001b[0m         \u001b[0mLoads\u001b[0m \u001b[0ma\u001b[0m \u001b[0mweb\u001b[0m \u001b[0mpage\u001b[0m \u001b[0;32min\u001b[0m \u001b[0mthe\u001b[0m \u001b[0mcurrent\u001b[0m \u001b[0mbrowser\u001b[0m \u001b[0msession\u001b[0m\u001b[0;34m.\u001b[0m\u001b[0;34m\u001b[0m\u001b[0;34m\u001b[0m\u001b[0m\n\u001b[1;32m    332\u001b[0m         \"\"\"\n\u001b[0;32m--> 333\u001b[0;31m         \u001b[0mself\u001b[0m\u001b[0;34m.\u001b[0m\u001b[0mexecute\u001b[0m\u001b[0;34m(\u001b[0m\u001b[0mCommand\u001b[0m\u001b[0;34m.\u001b[0m\u001b[0mGET\u001b[0m\u001b[0;34m,\u001b[0m \u001b[0;34m{\u001b[0m\u001b[0;34m'url'\u001b[0m\u001b[0;34m:\u001b[0m \u001b[0murl\u001b[0m\u001b[0;34m}\u001b[0m\u001b[0;34m)\u001b[0m\u001b[0;34m\u001b[0m\u001b[0;34m\u001b[0m\u001b[0m\n\u001b[0m\u001b[1;32m    334\u001b[0m \u001b[0;34m\u001b[0m\u001b[0m\n\u001b[1;32m    335\u001b[0m     \u001b[0;34m@\u001b[0m\u001b[0mproperty\u001b[0m\u001b[0;34m\u001b[0m\u001b[0;34m\u001b[0m\u001b[0m\n",
      "\u001b[0;32m/usr/local/anaconda3/lib/python3.8/site-packages/selenium/webdriver/remote/webdriver.py\u001b[0m in \u001b[0;36mexecute\u001b[0;34m(self, driver_command, params)\u001b[0m\n\u001b[1;32m    319\u001b[0m         \u001b[0mresponse\u001b[0m \u001b[0;34m=\u001b[0m \u001b[0mself\u001b[0m\u001b[0;34m.\u001b[0m\u001b[0mcommand_executor\u001b[0m\u001b[0;34m.\u001b[0m\u001b[0mexecute\u001b[0m\u001b[0;34m(\u001b[0m\u001b[0mdriver_command\u001b[0m\u001b[0;34m,\u001b[0m \u001b[0mparams\u001b[0m\u001b[0;34m)\u001b[0m\u001b[0;34m\u001b[0m\u001b[0;34m\u001b[0m\u001b[0m\n\u001b[1;32m    320\u001b[0m         \u001b[0;32mif\u001b[0m \u001b[0mresponse\u001b[0m\u001b[0;34m:\u001b[0m\u001b[0;34m\u001b[0m\u001b[0;34m\u001b[0m\u001b[0m\n\u001b[0;32m--> 321\u001b[0;31m             \u001b[0mself\u001b[0m\u001b[0;34m.\u001b[0m\u001b[0merror_handler\u001b[0m\u001b[0;34m.\u001b[0m\u001b[0mcheck_response\u001b[0m\u001b[0;34m(\u001b[0m\u001b[0mresponse\u001b[0m\u001b[0;34m)\u001b[0m\u001b[0;34m\u001b[0m\u001b[0;34m\u001b[0m\u001b[0m\n\u001b[0m\u001b[1;32m    322\u001b[0m             response['value'] = self._unwrap_value(\n\u001b[1;32m    323\u001b[0m                 response.get('value', None))\n",
      "\u001b[0;32m/usr/local/anaconda3/lib/python3.8/site-packages/selenium/webdriver/remote/errorhandler.py\u001b[0m in \u001b[0;36mcheck_response\u001b[0;34m(self, response)\u001b[0m\n\u001b[1;32m    240\u001b[0m                 \u001b[0malert_text\u001b[0m \u001b[0;34m=\u001b[0m \u001b[0mvalue\u001b[0m\u001b[0;34m[\u001b[0m\u001b[0;34m'alert'\u001b[0m\u001b[0;34m]\u001b[0m\u001b[0;34m.\u001b[0m\u001b[0mget\u001b[0m\u001b[0;34m(\u001b[0m\u001b[0;34m'text'\u001b[0m\u001b[0;34m)\u001b[0m\u001b[0;34m\u001b[0m\u001b[0;34m\u001b[0m\u001b[0m\n\u001b[1;32m    241\u001b[0m             \u001b[0;32mraise\u001b[0m \u001b[0mexception_class\u001b[0m\u001b[0;34m(\u001b[0m\u001b[0mmessage\u001b[0m\u001b[0;34m,\u001b[0m \u001b[0mscreen\u001b[0m\u001b[0;34m,\u001b[0m \u001b[0mstacktrace\u001b[0m\u001b[0;34m,\u001b[0m \u001b[0malert_text\u001b[0m\u001b[0;34m)\u001b[0m\u001b[0;34m\u001b[0m\u001b[0;34m\u001b[0m\u001b[0m\n\u001b[0;32m--> 242\u001b[0;31m         \u001b[0;32mraise\u001b[0m \u001b[0mexception_class\u001b[0m\u001b[0;34m(\u001b[0m\u001b[0mmessage\u001b[0m\u001b[0;34m,\u001b[0m \u001b[0mscreen\u001b[0m\u001b[0;34m,\u001b[0m \u001b[0mstacktrace\u001b[0m\u001b[0;34m)\u001b[0m\u001b[0;34m\u001b[0m\u001b[0;34m\u001b[0m\u001b[0m\n\u001b[0m\u001b[1;32m    243\u001b[0m \u001b[0;34m\u001b[0m\u001b[0m\n\u001b[1;32m    244\u001b[0m     \u001b[0;32mdef\u001b[0m \u001b[0m_value_or_default\u001b[0m\u001b[0;34m(\u001b[0m\u001b[0mself\u001b[0m\u001b[0;34m,\u001b[0m \u001b[0mobj\u001b[0m\u001b[0;34m,\u001b[0m \u001b[0mkey\u001b[0m\u001b[0;34m,\u001b[0m \u001b[0mdefault\u001b[0m\u001b[0;34m)\u001b[0m\u001b[0;34m:\u001b[0m\u001b[0;34m\u001b[0m\u001b[0;34m\u001b[0m\u001b[0m\n",
      "\u001b[0;31mWebDriverException\u001b[0m: Message: disconnected: Unable to receive message from renderer\n  (Session info: chrome=89.0.4389.114)\n"
     ]
    }
   ],
   "source": [
    "games_info = []\n",
    "\n",
    "for url in gamesdf1.link:\n",
    "    games_info.append(get_game_details(url))"
   ]
  },
  {
   "cell_type": "code",
   "execution_count": 85,
   "id": "dirty-collaboration",
   "metadata": {},
   "outputs": [
    {
     "data": {
      "text/plain": [
       "406"
      ]
     },
     "execution_count": 85,
     "metadata": {},
     "output_type": "execute_result"
    }
   ],
   "source": [
    "len(games_info)"
   ]
  },
  {
   "cell_type": "code",
   "execution_count": 87,
   "id": "fifty-fisher",
   "metadata": {},
   "outputs": [],
   "source": [
    "games_info = pd.DataFrame(games_info)"
   ]
  },
  {
   "cell_type": "code",
   "execution_count": 93,
   "id": "pacific-framing",
   "metadata": {},
   "outputs": [
    {
     "ename": "NameError",
     "evalue": "name 'null' is not defined",
     "output_type": "error",
     "traceback": [
      "\u001b[0;31m---------------------------------------------------------------------------\u001b[0m",
      "\u001b[0;31mNameError\u001b[0m                                 Traceback (most recent call last)",
      "\u001b[0;32m<ipython-input-93-016373b82e85>\u001b[0m in \u001b[0;36m<module>\u001b[0;34m\u001b[0m\n\u001b[0;32m----> 1\u001b[0;31m \u001b[0mgames_info\u001b[0m\u001b[0;34m.\u001b[0m\u001b[0mreplace\u001b[0m\u001b[0;34m(\u001b[0m\u001b[0mnp\u001b[0m\u001b[0;34m.\u001b[0m\u001b[0mnan\u001b[0m\u001b[0;34m,\u001b[0m \u001b[0mnull\u001b[0m\u001b[0;34m)\u001b[0m\u001b[0;34m\u001b[0m\u001b[0;34m\u001b[0m\u001b[0m\n\u001b[0m",
      "\u001b[0;31mNameError\u001b[0m: name 'null' is not defined"
     ]
    }
   ],
   "source": [
    "games_info.replace(np.nan, null)"
   ]
  },
  {
   "cell_type": "code",
   "execution_count": 90,
   "id": "level-grave",
   "metadata": {},
   "outputs": [
    {
     "name": "stdout",
     "output_type": "stream",
     "text": [
      "<class 'pandas.core.frame.DataFrame'>\n",
      "RangeIndex: 406 entries, 0 to 405\n",
      "Data columns (total 9 columns):\n",
      " #   Column         Non-Null Count  Dtype \n",
      "---  ------         --------------  ----- \n",
      " 0   title          406 non-null    object\n",
      " 1   num_reviews    406 non-null    object\n",
      " 2   review_rating  406 non-null    object\n",
      " 3   num_languages  406 non-null    object\n",
      " 4   tags           406 non-null    object\n",
      " 5   num_tags       406 non-null    object\n",
      " 6   genres         406 non-null    object\n",
      " 7   num_genres     406 non-null    object\n",
      " 8   publisher      406 non-null    object\n",
      "dtypes: object(9)\n",
      "memory usage: 28.7+ KB\n"
     ]
    }
   ],
   "source": [
    "games_info.info()"
   ]
  },
  {
   "cell_type": "code",
   "execution_count": 94,
   "id": "professional-acrylic",
   "metadata": {},
   "outputs": [
    {
     "data": {
      "text/html": [
       "<div>\n",
       "<style scoped>\n",
       "    .dataframe tbody tr th:only-of-type {\n",
       "        vertical-align: middle;\n",
       "    }\n",
       "\n",
       "    .dataframe tbody tr th {\n",
       "        vertical-align: top;\n",
       "    }\n",
       "\n",
       "    .dataframe thead th {\n",
       "        text-align: right;\n",
       "    }\n",
       "</style>\n",
       "<table border=\"1\" class=\"dataframe\">\n",
       "  <thead>\n",
       "    <tr style=\"text-align: right;\">\n",
       "      <th></th>\n",
       "      <th>title</th>\n",
       "      <th>num_reviews</th>\n",
       "      <th>review_rating</th>\n",
       "      <th>num_languages</th>\n",
       "      <th>tags</th>\n",
       "      <th>num_tags</th>\n",
       "      <th>genres</th>\n",
       "      <th>num_genres</th>\n",
       "      <th>publisher</th>\n",
       "    </tr>\n",
       "  </thead>\n",
       "  <tbody>\n",
       "    <tr>\n",
       "      <th>0</th>\n",
       "      <td>HELP</td>\n",
       "      <td>HELP</td>\n",
       "      <td>HELP</td>\n",
       "      <td>HELP</td>\n",
       "      <td>HELP</td>\n",
       "      <td>HELP</td>\n",
       "      <td>[Action, Adventure, RPG, People Can Fly]</td>\n",
       "      <td>4</td>\n",
       "      <td>HELP</td>\n",
       "    </tr>\n",
       "    <tr>\n",
       "      <th>1</th>\n",
       "      <td>Sea of Thieves</td>\n",
       "      <td>109,916</td>\n",
       "      <td>Very Positive</td>\n",
       "      <td>13</td>\n",
       "      <td>[Adventure, Multiplayer, Open World, Pirates, ...</td>\n",
       "      <td>20</td>\n",
       "      <td>[Action, Adventure]</td>\n",
       "      <td>2</td>\n",
       "      <td>Xbox Game Studios</td>\n",
       "    </tr>\n",
       "    <tr>\n",
       "      <th>2</th>\n",
       "      <td>HELP</td>\n",
       "      <td>HELP</td>\n",
       "      <td>HELP</td>\n",
       "      <td>HELP</td>\n",
       "      <td>HELP</td>\n",
       "      <td>HELP</td>\n",
       "      <td>[Action, 343 Industries, Splash Damage, Ruffia...</td>\n",
       "      <td>8</td>\n",
       "      <td>HELP</td>\n",
       "    </tr>\n",
       "    <tr>\n",
       "      <th>3</th>\n",
       "      <td>It Takes Two</td>\n",
       "      <td>10,433</td>\n",
       "      <td>Overwhelmingly Positive</td>\n",
       "      <td>12</td>\n",
       "      <td>[Co-op, Adventure, 3D Platformer, Puzzle, Puzz...</td>\n",
       "      <td>20</td>\n",
       "      <td>[Action, Adventure, Hazelight]</td>\n",
       "      <td>3</td>\n",
       "      <td>Electronic Arts</td>\n",
       "    </tr>\n",
       "    <tr>\n",
       "      <th>4</th>\n",
       "      <td>Valheim</td>\n",
       "      <td>215,071</td>\n",
       "      <td>Overwhelmingly Positive</td>\n",
       "      <td>12</td>\n",
       "      <td>[Open World Survival Craft, Online Co-Op, Open...</td>\n",
       "      <td>20</td>\n",
       "      <td>[Action, Adventure, Indie, RPG, Early Access, ...</td>\n",
       "      <td>6</td>\n",
       "      <td>Coffee Stain Publishing</td>\n",
       "    </tr>\n",
       "  </tbody>\n",
       "</table>\n",
       "</div>"
      ],
      "text/plain": [
       "            title num_reviews            review_rating num_languages  \\\n",
       "0            HELP        HELP                     HELP          HELP   \n",
       "1  Sea of Thieves     109,916            Very Positive            13   \n",
       "2            HELP        HELP                     HELP          HELP   \n",
       "3    It Takes Two      10,433  Overwhelmingly Positive            12   \n",
       "4         Valheim     215,071  Overwhelmingly Positive            12   \n",
       "\n",
       "                                                tags num_tags  \\\n",
       "0                                               HELP     HELP   \n",
       "1  [Adventure, Multiplayer, Open World, Pirates, ...       20   \n",
       "2                                               HELP     HELP   \n",
       "3  [Co-op, Adventure, 3D Platformer, Puzzle, Puzz...       20   \n",
       "4  [Open World Survival Craft, Online Co-Op, Open...       20   \n",
       "\n",
       "                                              genres num_genres  \\\n",
       "0           [Action, Adventure, RPG, People Can Fly]          4   \n",
       "1                                [Action, Adventure]          2   \n",
       "2  [Action, 343 Industries, Splash Damage, Ruffia...          8   \n",
       "3                     [Action, Adventure, Hazelight]          3   \n",
       "4  [Action, Adventure, Indie, RPG, Early Access, ...          6   \n",
       "\n",
       "                  publisher  \n",
       "0                      HELP  \n",
       "1         Xbox Game Studios  \n",
       "2                      HELP  \n",
       "3           Electronic Arts  \n",
       "4   Coffee Stain Publishing  "
      ]
     },
     "execution_count": 94,
     "metadata": {},
     "output_type": "execute_result"
    }
   ],
   "source": [
    "games_info.head()"
   ]
  },
  {
   "cell_type": "markdown",
   "id": "waiting-bracelet",
   "metadata": {},
   "source": [
    "# attempt number 3 \n",
    "\n",
    "going to add to the scoll, but take awawy the sleep, hoping that it will cycle through the site faster"
   ]
  },
  {
   "cell_type": "code",
   "execution_count": 99,
   "id": "chronic-elimination",
   "metadata": {},
   "outputs": [],
   "source": [
    "#attempting to pull my code in from  'scraping_page' to see if data can be pulled from from each game page.\n",
    "\n",
    "def get_game_details(url):\n",
    "\n",
    "    \n",
    "\n",
    "    \n",
    "    \n",
    "    #Request HTML and parse\n",
    "    response = driver.get(url)\n",
    "    \n",
    "    for i in range(7):\n",
    "        #Scroll\n",
    "        driver.execute_script(\n",
    "            \"window.scrollTo(0, document.documentElement.scrollHeight);\" #Alternatively, document.body.scrollHeight\n",
    "        )\n",
    "        #time.sleep(1)\n",
    "    \n",
    "    soup = BeautifulSoup(driver.page_source, \"html5lib\")\n",
    "    \n",
    "    \n",
    "\n",
    "    \n",
    "    headers = ['title', 'num_reviews', 'review_rating', \n",
    "              'num_languages', 'tags', 'num_tags',\n",
    "              'genres', 'num_genres', 'publisher']\n",
    "    \n",
    "    #Get title\n",
    "    if not (soup.find('div', class_='apphub_AppName')):\n",
    "        title = 'HELP'\n",
    "    else:\n",
    "        title = soup.find('div', class_='apphub_AppName').text\n",
    "\n",
    "    #Get number of reviews\n",
    "    if not (soup.find('div', id='Reviews_summary')):\n",
    "        num_reviews = 'HELP'\n",
    "    elif not (soup.find('div', id='Reviews_summary').find('div', id='ViewAllReviewssummary')):\n",
    "        num_reviews = 'HELP'\n",
    "    elif not soup.find('div', id='Reviews_summary').find('div', id='ViewAllReviewssummary').find('a'):\n",
    "        num_reviews = 'HELP'\n",
    "    else:\n",
    "        rev_string = soup.find('div', id='Reviews_summary').find('div', id='ViewAllReviewssummary').find('a').text\n",
    "        num_reviews = rev_string.split()[2]\n",
    "     \n",
    "\n",
    "    #Get review rating\n",
    "    if not (soup.find(class_='user_reviews_summary_bar')):\n",
    "        rating = 'HELP'\n",
    "    elif not soup.find(class_='user_reviews_summary_bar').find_all('span'):\n",
    "        rating = 'HELP'\n",
    "    else:\n",
    "        rating = soup.find(class_='user_reviews_summary_bar').find_all('span')[0].text\n",
    "    \n",
    "    \n",
    "    #Get number of languages offered in\n",
    "    if not soup.find('a', class_='all_languages'):\n",
    "        num_languages = 'HELP'\n",
    "    else:\n",
    "        num_languages = soup.find('a', class_='all_languages').text.split()[2]\n",
    "    \n",
    "\n",
    "    #Get tags associated with game\n",
    "    if not soup.find('div', class_='glance_tags'):\n",
    "        tags_list = 'HELP'\n",
    "    else:\n",
    "        tags = soup.find('div', class_='glance_tags').find_all('a')\n",
    "        tags_list = []\n",
    "        for items in tags:\n",
    "            tags_list.append(items.text.strip())\n",
    "    \n",
    "    \n",
    "    #number of tags\n",
    "    if not soup.find('div', class_='glance_tags'):\n",
    "        num_tags = 'HELP'\n",
    "    else:\n",
    "        num_tags = len(tags_list)\n",
    "    \n",
    "    #genres list\n",
    "    if not soup.find('div', class_='details_block'):\n",
    "        genres_list = 'HELP'\n",
    "    else:\n",
    "        genres_all = soup.find('div', class_='details_block').find_all('a')[0:-2]\n",
    "        genres_list = []\n",
    "        for links in genres_all:\n",
    "            genres_list.append(links.text)\n",
    "        \n",
    "    # number of genres\n",
    "    if not soup.find('div', class_='details_block'):\n",
    "        num_genres = 'HELP'\n",
    "    else:\n",
    "        num_genres = len(genres_list)\n",
    "    \n",
    "    #get publisher\n",
    "    \n",
    "    #if not soup.find('div', class_='details_block'): #this threw an error 10 pages in, going more general\n",
    "    #    publisher = 'HALP PUBLISHER'\n",
    "    #else:\n",
    "    #    publisher = soup.find('div', class_='details_block').find_all('a')[-1].text\n",
    "    \n",
    "    \n",
    "    if not soup.find('div', class_='glance_ctn_responsive_left'):\n",
    "        publisher = 'HELP'\n",
    "    else:\n",
    "        publisher = soup.find('div', class_='glance_ctn_responsive_left').find_all('a')[-1].text\n",
    "    \n",
    "    #create dict of all games\n",
    "    games_dict = dict(zip(headers, [title,\n",
    "                                num_reviews,\n",
    "                                rating,\n",
    "                                num_languages, \n",
    "                                tags_list,\n",
    "                                num_tags,\n",
    "                                genres_list,\n",
    "                                num_genres,\n",
    "                                publisher]))\n",
    "\n",
    "    return games_dict"
   ]
  },
  {
   "cell_type": "code",
   "execution_count": 100,
   "id": "theoretical-rescue",
   "metadata": {},
   "outputs": [
    {
     "ename": "KeyboardInterrupt",
     "evalue": "",
     "output_type": "error",
     "traceback": [
      "\u001b[0;31m---------------------------------------------------------------------------\u001b[0m",
      "\u001b[0;31mKeyboardInterrupt\u001b[0m                         Traceback (most recent call last)",
      "\u001b[0;32m<ipython-input-100-4c69d0e8dc50>\u001b[0m in \u001b[0;36m<module>\u001b[0;34m\u001b[0m\n\u001b[1;32m      2\u001b[0m \u001b[0;34m\u001b[0m\u001b[0m\n\u001b[1;32m      3\u001b[0m \u001b[0;32mfor\u001b[0m \u001b[0murl\u001b[0m \u001b[0;32min\u001b[0m \u001b[0mgamesdf1\u001b[0m\u001b[0;34m.\u001b[0m\u001b[0mlink\u001b[0m\u001b[0;34m:\u001b[0m\u001b[0;34m\u001b[0m\u001b[0;34m\u001b[0m\u001b[0m\n\u001b[0;32m----> 4\u001b[0;31m     \u001b[0mgames_info\u001b[0m\u001b[0;34m.\u001b[0m\u001b[0mappend\u001b[0m\u001b[0;34m(\u001b[0m\u001b[0mget_game_details\u001b[0m\u001b[0;34m(\u001b[0m\u001b[0murl\u001b[0m\u001b[0;34m)\u001b[0m\u001b[0;34m)\u001b[0m\u001b[0;34m\u001b[0m\u001b[0;34m\u001b[0m\u001b[0m\n\u001b[0m",
      "\u001b[0;32m<ipython-input-99-bd98a5553140>\u001b[0m in \u001b[0;36mget_game_details\u001b[0;34m(url)\u001b[0m\n\u001b[1;32m      8\u001b[0m \u001b[0;34m\u001b[0m\u001b[0m\n\u001b[1;32m      9\u001b[0m     \u001b[0;31m#Request HTML and parse\u001b[0m\u001b[0;34m\u001b[0m\u001b[0;34m\u001b[0m\u001b[0;34m\u001b[0m\u001b[0m\n\u001b[0;32m---> 10\u001b[0;31m     \u001b[0mresponse\u001b[0m \u001b[0;34m=\u001b[0m \u001b[0mdriver\u001b[0m\u001b[0;34m.\u001b[0m\u001b[0mget\u001b[0m\u001b[0;34m(\u001b[0m\u001b[0murl\u001b[0m\u001b[0;34m)\u001b[0m\u001b[0;34m\u001b[0m\u001b[0;34m\u001b[0m\u001b[0m\n\u001b[0m\u001b[1;32m     11\u001b[0m \u001b[0;34m\u001b[0m\u001b[0m\n\u001b[1;32m     12\u001b[0m     \u001b[0;32mfor\u001b[0m \u001b[0mi\u001b[0m \u001b[0;32min\u001b[0m \u001b[0mrange\u001b[0m\u001b[0;34m(\u001b[0m\u001b[0;36m7\u001b[0m\u001b[0;34m)\u001b[0m\u001b[0;34m:\u001b[0m\u001b[0;34m\u001b[0m\u001b[0;34m\u001b[0m\u001b[0m\n",
      "\u001b[0;32m/usr/local/anaconda3/lib/python3.8/site-packages/selenium/webdriver/remote/webdriver.py\u001b[0m in \u001b[0;36mget\u001b[0;34m(self, url)\u001b[0m\n\u001b[1;32m    331\u001b[0m         \u001b[0mLoads\u001b[0m \u001b[0ma\u001b[0m \u001b[0mweb\u001b[0m \u001b[0mpage\u001b[0m \u001b[0;32min\u001b[0m \u001b[0mthe\u001b[0m \u001b[0mcurrent\u001b[0m \u001b[0mbrowser\u001b[0m \u001b[0msession\u001b[0m\u001b[0;34m.\u001b[0m\u001b[0;34m\u001b[0m\u001b[0;34m\u001b[0m\u001b[0m\n\u001b[1;32m    332\u001b[0m         \"\"\"\n\u001b[0;32m--> 333\u001b[0;31m         \u001b[0mself\u001b[0m\u001b[0;34m.\u001b[0m\u001b[0mexecute\u001b[0m\u001b[0;34m(\u001b[0m\u001b[0mCommand\u001b[0m\u001b[0;34m.\u001b[0m\u001b[0mGET\u001b[0m\u001b[0;34m,\u001b[0m \u001b[0;34m{\u001b[0m\u001b[0;34m'url'\u001b[0m\u001b[0;34m:\u001b[0m \u001b[0murl\u001b[0m\u001b[0;34m}\u001b[0m\u001b[0;34m)\u001b[0m\u001b[0;34m\u001b[0m\u001b[0;34m\u001b[0m\u001b[0m\n\u001b[0m\u001b[1;32m    334\u001b[0m \u001b[0;34m\u001b[0m\u001b[0m\n\u001b[1;32m    335\u001b[0m     \u001b[0;34m@\u001b[0m\u001b[0mproperty\u001b[0m\u001b[0;34m\u001b[0m\u001b[0;34m\u001b[0m\u001b[0m\n",
      "\u001b[0;32m/usr/local/anaconda3/lib/python3.8/site-packages/selenium/webdriver/remote/webdriver.py\u001b[0m in \u001b[0;36mexecute\u001b[0;34m(self, driver_command, params)\u001b[0m\n\u001b[1;32m    317\u001b[0m \u001b[0;34m\u001b[0m\u001b[0m\n\u001b[1;32m    318\u001b[0m         \u001b[0mparams\u001b[0m \u001b[0;34m=\u001b[0m \u001b[0mself\u001b[0m\u001b[0;34m.\u001b[0m\u001b[0m_wrap_value\u001b[0m\u001b[0;34m(\u001b[0m\u001b[0mparams\u001b[0m\u001b[0;34m)\u001b[0m\u001b[0;34m\u001b[0m\u001b[0;34m\u001b[0m\u001b[0m\n\u001b[0;32m--> 319\u001b[0;31m         \u001b[0mresponse\u001b[0m \u001b[0;34m=\u001b[0m \u001b[0mself\u001b[0m\u001b[0;34m.\u001b[0m\u001b[0mcommand_executor\u001b[0m\u001b[0;34m.\u001b[0m\u001b[0mexecute\u001b[0m\u001b[0;34m(\u001b[0m\u001b[0mdriver_command\u001b[0m\u001b[0;34m,\u001b[0m \u001b[0mparams\u001b[0m\u001b[0;34m)\u001b[0m\u001b[0;34m\u001b[0m\u001b[0;34m\u001b[0m\u001b[0m\n\u001b[0m\u001b[1;32m    320\u001b[0m         \u001b[0;32mif\u001b[0m \u001b[0mresponse\u001b[0m\u001b[0;34m:\u001b[0m\u001b[0;34m\u001b[0m\u001b[0;34m\u001b[0m\u001b[0m\n\u001b[1;32m    321\u001b[0m             \u001b[0mself\u001b[0m\u001b[0;34m.\u001b[0m\u001b[0merror_handler\u001b[0m\u001b[0;34m.\u001b[0m\u001b[0mcheck_response\u001b[0m\u001b[0;34m(\u001b[0m\u001b[0mresponse\u001b[0m\u001b[0;34m)\u001b[0m\u001b[0;34m\u001b[0m\u001b[0;34m\u001b[0m\u001b[0m\n",
      "\u001b[0;32m/usr/local/anaconda3/lib/python3.8/site-packages/selenium/webdriver/remote/remote_connection.py\u001b[0m in \u001b[0;36mexecute\u001b[0;34m(self, command, params)\u001b[0m\n\u001b[1;32m    372\u001b[0m         \u001b[0mdata\u001b[0m \u001b[0;34m=\u001b[0m \u001b[0mutils\u001b[0m\u001b[0;34m.\u001b[0m\u001b[0mdump_json\u001b[0m\u001b[0;34m(\u001b[0m\u001b[0mparams\u001b[0m\u001b[0;34m)\u001b[0m\u001b[0;34m\u001b[0m\u001b[0;34m\u001b[0m\u001b[0m\n\u001b[1;32m    373\u001b[0m         \u001b[0murl\u001b[0m \u001b[0;34m=\u001b[0m \u001b[0;34m'%s%s'\u001b[0m \u001b[0;34m%\u001b[0m \u001b[0;34m(\u001b[0m\u001b[0mself\u001b[0m\u001b[0;34m.\u001b[0m\u001b[0m_url\u001b[0m\u001b[0;34m,\u001b[0m \u001b[0mpath\u001b[0m\u001b[0;34m)\u001b[0m\u001b[0;34m\u001b[0m\u001b[0;34m\u001b[0m\u001b[0m\n\u001b[0;32m--> 374\u001b[0;31m         \u001b[0;32mreturn\u001b[0m \u001b[0mself\u001b[0m\u001b[0;34m.\u001b[0m\u001b[0m_request\u001b[0m\u001b[0;34m(\u001b[0m\u001b[0mcommand_info\u001b[0m\u001b[0;34m[\u001b[0m\u001b[0;36m0\u001b[0m\u001b[0;34m]\u001b[0m\u001b[0;34m,\u001b[0m \u001b[0murl\u001b[0m\u001b[0;34m,\u001b[0m \u001b[0mbody\u001b[0m\u001b[0;34m=\u001b[0m\u001b[0mdata\u001b[0m\u001b[0;34m)\u001b[0m\u001b[0;34m\u001b[0m\u001b[0;34m\u001b[0m\u001b[0m\n\u001b[0m\u001b[1;32m    375\u001b[0m \u001b[0;34m\u001b[0m\u001b[0m\n\u001b[1;32m    376\u001b[0m     \u001b[0;32mdef\u001b[0m \u001b[0m_request\u001b[0m\u001b[0;34m(\u001b[0m\u001b[0mself\u001b[0m\u001b[0;34m,\u001b[0m \u001b[0mmethod\u001b[0m\u001b[0;34m,\u001b[0m \u001b[0murl\u001b[0m\u001b[0;34m,\u001b[0m \u001b[0mbody\u001b[0m\u001b[0;34m=\u001b[0m\u001b[0;32mNone\u001b[0m\u001b[0;34m)\u001b[0m\u001b[0;34m:\u001b[0m\u001b[0;34m\u001b[0m\u001b[0;34m\u001b[0m\u001b[0m\n",
      "\u001b[0;32m/usr/local/anaconda3/lib/python3.8/site-packages/selenium/webdriver/remote/remote_connection.py\u001b[0m in \u001b[0;36m_request\u001b[0;34m(self, method, url, body)\u001b[0m\n\u001b[1;32m    395\u001b[0m \u001b[0;34m\u001b[0m\u001b[0m\n\u001b[1;32m    396\u001b[0m         \u001b[0;32mif\u001b[0m \u001b[0mself\u001b[0m\u001b[0;34m.\u001b[0m\u001b[0mkeep_alive\u001b[0m\u001b[0;34m:\u001b[0m\u001b[0;34m\u001b[0m\u001b[0;34m\u001b[0m\u001b[0m\n\u001b[0;32m--> 397\u001b[0;31m             \u001b[0mresp\u001b[0m \u001b[0;34m=\u001b[0m \u001b[0mself\u001b[0m\u001b[0;34m.\u001b[0m\u001b[0m_conn\u001b[0m\u001b[0;34m.\u001b[0m\u001b[0mrequest\u001b[0m\u001b[0;34m(\u001b[0m\u001b[0mmethod\u001b[0m\u001b[0;34m,\u001b[0m \u001b[0murl\u001b[0m\u001b[0;34m,\u001b[0m \u001b[0mbody\u001b[0m\u001b[0;34m=\u001b[0m\u001b[0mbody\u001b[0m\u001b[0;34m,\u001b[0m \u001b[0mheaders\u001b[0m\u001b[0;34m=\u001b[0m\u001b[0mheaders\u001b[0m\u001b[0;34m)\u001b[0m\u001b[0;34m\u001b[0m\u001b[0;34m\u001b[0m\u001b[0m\n\u001b[0m\u001b[1;32m    398\u001b[0m \u001b[0;34m\u001b[0m\u001b[0m\n\u001b[1;32m    399\u001b[0m             \u001b[0mstatuscode\u001b[0m \u001b[0;34m=\u001b[0m \u001b[0mresp\u001b[0m\u001b[0;34m.\u001b[0m\u001b[0mstatus\u001b[0m\u001b[0;34m\u001b[0m\u001b[0;34m\u001b[0m\u001b[0m\n",
      "\u001b[0;32m/usr/local/anaconda3/lib/python3.8/site-packages/urllib3/request.py\u001b[0m in \u001b[0;36mrequest\u001b[0;34m(self, method, url, fields, headers, **urlopen_kw)\u001b[0m\n\u001b[1;32m     77\u001b[0m             )\n\u001b[1;32m     78\u001b[0m         \u001b[0;32melse\u001b[0m\u001b[0;34m:\u001b[0m\u001b[0;34m\u001b[0m\u001b[0;34m\u001b[0m\u001b[0m\n\u001b[0;32m---> 79\u001b[0;31m             return self.request_encode_body(\n\u001b[0m\u001b[1;32m     80\u001b[0m                 \u001b[0mmethod\u001b[0m\u001b[0;34m,\u001b[0m \u001b[0murl\u001b[0m\u001b[0;34m,\u001b[0m \u001b[0mfields\u001b[0m\u001b[0;34m=\u001b[0m\u001b[0mfields\u001b[0m\u001b[0;34m,\u001b[0m \u001b[0mheaders\u001b[0m\u001b[0;34m=\u001b[0m\u001b[0mheaders\u001b[0m\u001b[0;34m,\u001b[0m \u001b[0;34m**\u001b[0m\u001b[0murlopen_kw\u001b[0m\u001b[0;34m\u001b[0m\u001b[0;34m\u001b[0m\u001b[0m\n\u001b[1;32m     81\u001b[0m             )\n",
      "\u001b[0;32m/usr/local/anaconda3/lib/python3.8/site-packages/urllib3/request.py\u001b[0m in \u001b[0;36mrequest_encode_body\u001b[0;34m(self, method, url, fields, headers, encode_multipart, multipart_boundary, **urlopen_kw)\u001b[0m\n\u001b[1;32m    169\u001b[0m         \u001b[0mextra_kw\u001b[0m\u001b[0;34m.\u001b[0m\u001b[0mupdate\u001b[0m\u001b[0;34m(\u001b[0m\u001b[0murlopen_kw\u001b[0m\u001b[0;34m)\u001b[0m\u001b[0;34m\u001b[0m\u001b[0;34m\u001b[0m\u001b[0m\n\u001b[1;32m    170\u001b[0m \u001b[0;34m\u001b[0m\u001b[0m\n\u001b[0;32m--> 171\u001b[0;31m         \u001b[0;32mreturn\u001b[0m \u001b[0mself\u001b[0m\u001b[0;34m.\u001b[0m\u001b[0murlopen\u001b[0m\u001b[0;34m(\u001b[0m\u001b[0mmethod\u001b[0m\u001b[0;34m,\u001b[0m \u001b[0murl\u001b[0m\u001b[0;34m,\u001b[0m \u001b[0;34m**\u001b[0m\u001b[0mextra_kw\u001b[0m\u001b[0;34m)\u001b[0m\u001b[0;34m\u001b[0m\u001b[0;34m\u001b[0m\u001b[0m\n\u001b[0m",
      "\u001b[0;32m/usr/local/anaconda3/lib/python3.8/site-packages/urllib3/poolmanager.py\u001b[0m in \u001b[0;36murlopen\u001b[0;34m(self, method, url, redirect, **kw)\u001b[0m\n\u001b[1;32m    334\u001b[0m             \u001b[0mresponse\u001b[0m \u001b[0;34m=\u001b[0m \u001b[0mconn\u001b[0m\u001b[0;34m.\u001b[0m\u001b[0murlopen\u001b[0m\u001b[0;34m(\u001b[0m\u001b[0mmethod\u001b[0m\u001b[0;34m,\u001b[0m \u001b[0murl\u001b[0m\u001b[0;34m,\u001b[0m \u001b[0;34m**\u001b[0m\u001b[0mkw\u001b[0m\u001b[0;34m)\u001b[0m\u001b[0;34m\u001b[0m\u001b[0;34m\u001b[0m\u001b[0m\n\u001b[1;32m    335\u001b[0m         \u001b[0;32melse\u001b[0m\u001b[0;34m:\u001b[0m\u001b[0;34m\u001b[0m\u001b[0;34m\u001b[0m\u001b[0m\n\u001b[0;32m--> 336\u001b[0;31m             \u001b[0mresponse\u001b[0m \u001b[0;34m=\u001b[0m \u001b[0mconn\u001b[0m\u001b[0;34m.\u001b[0m\u001b[0murlopen\u001b[0m\u001b[0;34m(\u001b[0m\u001b[0mmethod\u001b[0m\u001b[0;34m,\u001b[0m \u001b[0mu\u001b[0m\u001b[0;34m.\u001b[0m\u001b[0mrequest_uri\u001b[0m\u001b[0;34m,\u001b[0m \u001b[0;34m**\u001b[0m\u001b[0mkw\u001b[0m\u001b[0;34m)\u001b[0m\u001b[0;34m\u001b[0m\u001b[0;34m\u001b[0m\u001b[0m\n\u001b[0m\u001b[1;32m    337\u001b[0m \u001b[0;34m\u001b[0m\u001b[0m\n\u001b[1;32m    338\u001b[0m         \u001b[0mredirect_location\u001b[0m \u001b[0;34m=\u001b[0m \u001b[0mredirect\u001b[0m \u001b[0;32mand\u001b[0m \u001b[0mresponse\u001b[0m\u001b[0;34m.\u001b[0m\u001b[0mget_redirect_location\u001b[0m\u001b[0;34m(\u001b[0m\u001b[0;34m)\u001b[0m\u001b[0;34m\u001b[0m\u001b[0;34m\u001b[0m\u001b[0m\n",
      "\u001b[0;32m/usr/local/anaconda3/lib/python3.8/site-packages/urllib3/connectionpool.py\u001b[0m in \u001b[0;36murlopen\u001b[0;34m(self, method, url, body, headers, retries, redirect, assert_same_host, timeout, pool_timeout, release_conn, chunked, body_pos, **response_kw)\u001b[0m\n\u001b[1;32m    668\u001b[0m \u001b[0;34m\u001b[0m\u001b[0m\n\u001b[1;32m    669\u001b[0m             \u001b[0;31m# Make the request on the httplib connection object.\u001b[0m\u001b[0;34m\u001b[0m\u001b[0;34m\u001b[0m\u001b[0;34m\u001b[0m\u001b[0m\n\u001b[0;32m--> 670\u001b[0;31m             httplib_response = self._make_request(\n\u001b[0m\u001b[1;32m    671\u001b[0m                 \u001b[0mconn\u001b[0m\u001b[0;34m,\u001b[0m\u001b[0;34m\u001b[0m\u001b[0;34m\u001b[0m\u001b[0m\n\u001b[1;32m    672\u001b[0m                 \u001b[0mmethod\u001b[0m\u001b[0;34m,\u001b[0m\u001b[0;34m\u001b[0m\u001b[0;34m\u001b[0m\u001b[0m\n",
      "\u001b[0;32m/usr/local/anaconda3/lib/python3.8/site-packages/urllib3/connectionpool.py\u001b[0m in \u001b[0;36m_make_request\u001b[0;34m(self, conn, method, url, timeout, chunked, **httplib_request_kw)\u001b[0m\n\u001b[1;32m    424\u001b[0m                     \u001b[0;31m# Python 3 (including for exceptions like SystemExit).\u001b[0m\u001b[0;34m\u001b[0m\u001b[0;34m\u001b[0m\u001b[0;34m\u001b[0m\u001b[0m\n\u001b[1;32m    425\u001b[0m                     \u001b[0;31m# Otherwise it looks like a bug in the code.\u001b[0m\u001b[0;34m\u001b[0m\u001b[0;34m\u001b[0m\u001b[0;34m\u001b[0m\u001b[0m\n\u001b[0;32m--> 426\u001b[0;31m                     \u001b[0msix\u001b[0m\u001b[0;34m.\u001b[0m\u001b[0mraise_from\u001b[0m\u001b[0;34m(\u001b[0m\u001b[0me\u001b[0m\u001b[0;34m,\u001b[0m \u001b[0;32mNone\u001b[0m\u001b[0;34m)\u001b[0m\u001b[0;34m\u001b[0m\u001b[0;34m\u001b[0m\u001b[0m\n\u001b[0m\u001b[1;32m    427\u001b[0m         \u001b[0;32mexcept\u001b[0m \u001b[0;34m(\u001b[0m\u001b[0mSocketTimeout\u001b[0m\u001b[0;34m,\u001b[0m \u001b[0mBaseSSLError\u001b[0m\u001b[0;34m,\u001b[0m \u001b[0mSocketError\u001b[0m\u001b[0;34m)\u001b[0m \u001b[0;32mas\u001b[0m \u001b[0me\u001b[0m\u001b[0;34m:\u001b[0m\u001b[0;34m\u001b[0m\u001b[0;34m\u001b[0m\u001b[0m\n\u001b[1;32m    428\u001b[0m             \u001b[0mself\u001b[0m\u001b[0;34m.\u001b[0m\u001b[0m_raise_timeout\u001b[0m\u001b[0;34m(\u001b[0m\u001b[0merr\u001b[0m\u001b[0;34m=\u001b[0m\u001b[0me\u001b[0m\u001b[0;34m,\u001b[0m \u001b[0murl\u001b[0m\u001b[0;34m=\u001b[0m\u001b[0murl\u001b[0m\u001b[0;34m,\u001b[0m \u001b[0mtimeout_value\u001b[0m\u001b[0;34m=\u001b[0m\u001b[0mread_timeout\u001b[0m\u001b[0;34m)\u001b[0m\u001b[0;34m\u001b[0m\u001b[0;34m\u001b[0m\u001b[0m\n",
      "\u001b[0;32m/usr/local/anaconda3/lib/python3.8/site-packages/urllib3/packages/six.py\u001b[0m in \u001b[0;36mraise_from\u001b[0;34m(value, from_value)\u001b[0m\n",
      "\u001b[0;32m/usr/local/anaconda3/lib/python3.8/site-packages/urllib3/connectionpool.py\u001b[0m in \u001b[0;36m_make_request\u001b[0;34m(self, conn, method, url, timeout, chunked, **httplib_request_kw)\u001b[0m\n\u001b[1;32m    419\u001b[0m                 \u001b[0;31m# Python 3\u001b[0m\u001b[0;34m\u001b[0m\u001b[0;34m\u001b[0m\u001b[0;34m\u001b[0m\u001b[0m\n\u001b[1;32m    420\u001b[0m                 \u001b[0;32mtry\u001b[0m\u001b[0;34m:\u001b[0m\u001b[0;34m\u001b[0m\u001b[0;34m\u001b[0m\u001b[0m\n\u001b[0;32m--> 421\u001b[0;31m                     \u001b[0mhttplib_response\u001b[0m \u001b[0;34m=\u001b[0m \u001b[0mconn\u001b[0m\u001b[0;34m.\u001b[0m\u001b[0mgetresponse\u001b[0m\u001b[0;34m(\u001b[0m\u001b[0;34m)\u001b[0m\u001b[0;34m\u001b[0m\u001b[0;34m\u001b[0m\u001b[0m\n\u001b[0m\u001b[1;32m    422\u001b[0m                 \u001b[0;32mexcept\u001b[0m \u001b[0mBaseException\u001b[0m \u001b[0;32mas\u001b[0m \u001b[0me\u001b[0m\u001b[0;34m:\u001b[0m\u001b[0;34m\u001b[0m\u001b[0;34m\u001b[0m\u001b[0m\n\u001b[1;32m    423\u001b[0m                     \u001b[0;31m# Remove the TypeError from the exception chain in\u001b[0m\u001b[0;34m\u001b[0m\u001b[0;34m\u001b[0m\u001b[0;34m\u001b[0m\u001b[0m\n",
      "\u001b[0;32m/usr/local/anaconda3/lib/python3.8/http/client.py\u001b[0m in \u001b[0;36mgetresponse\u001b[0;34m(self)\u001b[0m\n\u001b[1;32m   1345\u001b[0m         \u001b[0;32mtry\u001b[0m\u001b[0;34m:\u001b[0m\u001b[0;34m\u001b[0m\u001b[0;34m\u001b[0m\u001b[0m\n\u001b[1;32m   1346\u001b[0m             \u001b[0;32mtry\u001b[0m\u001b[0;34m:\u001b[0m\u001b[0;34m\u001b[0m\u001b[0;34m\u001b[0m\u001b[0m\n\u001b[0;32m-> 1347\u001b[0;31m                 \u001b[0mresponse\u001b[0m\u001b[0;34m.\u001b[0m\u001b[0mbegin\u001b[0m\u001b[0;34m(\u001b[0m\u001b[0;34m)\u001b[0m\u001b[0;34m\u001b[0m\u001b[0;34m\u001b[0m\u001b[0m\n\u001b[0m\u001b[1;32m   1348\u001b[0m             \u001b[0;32mexcept\u001b[0m \u001b[0mConnectionError\u001b[0m\u001b[0;34m:\u001b[0m\u001b[0;34m\u001b[0m\u001b[0;34m\u001b[0m\u001b[0m\n\u001b[1;32m   1349\u001b[0m                 \u001b[0mself\u001b[0m\u001b[0;34m.\u001b[0m\u001b[0mclose\u001b[0m\u001b[0;34m(\u001b[0m\u001b[0;34m)\u001b[0m\u001b[0;34m\u001b[0m\u001b[0;34m\u001b[0m\u001b[0m\n",
      "\u001b[0;32m/usr/local/anaconda3/lib/python3.8/http/client.py\u001b[0m in \u001b[0;36mbegin\u001b[0;34m(self)\u001b[0m\n\u001b[1;32m    305\u001b[0m         \u001b[0;31m# read until we get a non-100 response\u001b[0m\u001b[0;34m\u001b[0m\u001b[0;34m\u001b[0m\u001b[0;34m\u001b[0m\u001b[0m\n\u001b[1;32m    306\u001b[0m         \u001b[0;32mwhile\u001b[0m \u001b[0;32mTrue\u001b[0m\u001b[0;34m:\u001b[0m\u001b[0;34m\u001b[0m\u001b[0;34m\u001b[0m\u001b[0m\n\u001b[0;32m--> 307\u001b[0;31m             \u001b[0mversion\u001b[0m\u001b[0;34m,\u001b[0m \u001b[0mstatus\u001b[0m\u001b[0;34m,\u001b[0m \u001b[0mreason\u001b[0m \u001b[0;34m=\u001b[0m \u001b[0mself\u001b[0m\u001b[0;34m.\u001b[0m\u001b[0m_read_status\u001b[0m\u001b[0;34m(\u001b[0m\u001b[0;34m)\u001b[0m\u001b[0;34m\u001b[0m\u001b[0;34m\u001b[0m\u001b[0m\n\u001b[0m\u001b[1;32m    308\u001b[0m             \u001b[0;32mif\u001b[0m \u001b[0mstatus\u001b[0m \u001b[0;34m!=\u001b[0m \u001b[0mCONTINUE\u001b[0m\u001b[0;34m:\u001b[0m\u001b[0;34m\u001b[0m\u001b[0;34m\u001b[0m\u001b[0m\n\u001b[1;32m    309\u001b[0m                 \u001b[0;32mbreak\u001b[0m\u001b[0;34m\u001b[0m\u001b[0;34m\u001b[0m\u001b[0m\n",
      "\u001b[0;32m/usr/local/anaconda3/lib/python3.8/http/client.py\u001b[0m in \u001b[0;36m_read_status\u001b[0;34m(self)\u001b[0m\n\u001b[1;32m    266\u001b[0m \u001b[0;34m\u001b[0m\u001b[0m\n\u001b[1;32m    267\u001b[0m     \u001b[0;32mdef\u001b[0m \u001b[0m_read_status\u001b[0m\u001b[0;34m(\u001b[0m\u001b[0mself\u001b[0m\u001b[0;34m)\u001b[0m\u001b[0;34m:\u001b[0m\u001b[0;34m\u001b[0m\u001b[0;34m\u001b[0m\u001b[0m\n\u001b[0;32m--> 268\u001b[0;31m         \u001b[0mline\u001b[0m \u001b[0;34m=\u001b[0m \u001b[0mstr\u001b[0m\u001b[0;34m(\u001b[0m\u001b[0mself\u001b[0m\u001b[0;34m.\u001b[0m\u001b[0mfp\u001b[0m\u001b[0;34m.\u001b[0m\u001b[0mreadline\u001b[0m\u001b[0;34m(\u001b[0m\u001b[0m_MAXLINE\u001b[0m \u001b[0;34m+\u001b[0m \u001b[0;36m1\u001b[0m\u001b[0;34m)\u001b[0m\u001b[0;34m,\u001b[0m \u001b[0;34m\"iso-8859-1\"\u001b[0m\u001b[0;34m)\u001b[0m\u001b[0;34m\u001b[0m\u001b[0;34m\u001b[0m\u001b[0m\n\u001b[0m\u001b[1;32m    269\u001b[0m         \u001b[0;32mif\u001b[0m \u001b[0mlen\u001b[0m\u001b[0;34m(\u001b[0m\u001b[0mline\u001b[0m\u001b[0;34m)\u001b[0m \u001b[0;34m>\u001b[0m \u001b[0m_MAXLINE\u001b[0m\u001b[0;34m:\u001b[0m\u001b[0;34m\u001b[0m\u001b[0;34m\u001b[0m\u001b[0m\n\u001b[1;32m    270\u001b[0m             \u001b[0;32mraise\u001b[0m \u001b[0mLineTooLong\u001b[0m\u001b[0;34m(\u001b[0m\u001b[0;34m\"status line\"\u001b[0m\u001b[0;34m)\u001b[0m\u001b[0;34m\u001b[0m\u001b[0;34m\u001b[0m\u001b[0m\n",
      "\u001b[0;32m/usr/local/anaconda3/lib/python3.8/socket.py\u001b[0m in \u001b[0;36mreadinto\u001b[0;34m(self, b)\u001b[0m\n\u001b[1;32m    667\u001b[0m         \u001b[0;32mwhile\u001b[0m \u001b[0;32mTrue\u001b[0m\u001b[0;34m:\u001b[0m\u001b[0;34m\u001b[0m\u001b[0;34m\u001b[0m\u001b[0m\n\u001b[1;32m    668\u001b[0m             \u001b[0;32mtry\u001b[0m\u001b[0;34m:\u001b[0m\u001b[0;34m\u001b[0m\u001b[0;34m\u001b[0m\u001b[0m\n\u001b[0;32m--> 669\u001b[0;31m                 \u001b[0;32mreturn\u001b[0m \u001b[0mself\u001b[0m\u001b[0;34m.\u001b[0m\u001b[0m_sock\u001b[0m\u001b[0;34m.\u001b[0m\u001b[0mrecv_into\u001b[0m\u001b[0;34m(\u001b[0m\u001b[0mb\u001b[0m\u001b[0;34m)\u001b[0m\u001b[0;34m\u001b[0m\u001b[0;34m\u001b[0m\u001b[0m\n\u001b[0m\u001b[1;32m    670\u001b[0m             \u001b[0;32mexcept\u001b[0m \u001b[0mtimeout\u001b[0m\u001b[0;34m:\u001b[0m\u001b[0;34m\u001b[0m\u001b[0;34m\u001b[0m\u001b[0m\n\u001b[1;32m    671\u001b[0m                 \u001b[0mself\u001b[0m\u001b[0;34m.\u001b[0m\u001b[0m_timeout_occurred\u001b[0m \u001b[0;34m=\u001b[0m \u001b[0;32mTrue\u001b[0m\u001b[0;34m\u001b[0m\u001b[0;34m\u001b[0m\u001b[0m\n",
      "\u001b[0;31mKeyboardInterrupt\u001b[0m: "
     ]
    }
   ],
   "source": [
    "games_info = []\n",
    "\n",
    "for url in gamesdf1.link:\n",
    "    games_info.append(get_game_details(url))"
   ]
  },
  {
   "cell_type": "code",
   "execution_count": 102,
   "id": "ahead-oasis",
   "metadata": {},
   "outputs": [
    {
     "data": {
      "text/plain": [
       "46"
      ]
     },
     "execution_count": 102,
     "metadata": {},
     "output_type": "execute_result"
    }
   ],
   "source": [
    "len(games_info)"
   ]
  },
  {
   "cell_type": "code",
   "execution_count": null,
   "id": "genetic-harvest",
   "metadata": {},
   "outputs": [],
   "source": [
    "'''\n",
    "SO, stopped after 3/5 minutes. it would go through 3/4 pages lightning fast, then would pause for a while to\n",
    "load. could be deanas internet, have never worked here before. watching the pages, it did not appear that the\n",
    "pages had enough time (when not loading) to get to the bottom which is where the total numbr of reviews comes in.\n",
    "going to see number of num reviews pulled from this test.\n",
    "MOVING FORWARD i will save 2 dfs at a time, post and current, so I can compare to last iteration. should\n",
    "have thought of that already.\n",
    "'''"
   ]
  },
  {
   "cell_type": "code",
   "execution_count": 104,
   "id": "smart-cooperation",
   "metadata": {},
   "outputs": [],
   "source": [
    "games_info = pd.DataFrame(games_info)"
   ]
  },
  {
   "cell_type": "code",
   "execution_count": 108,
   "id": "norman-japan",
   "metadata": {},
   "outputs": [
    {
     "data": {
      "text/html": [
       "<div>\n",
       "<style scoped>\n",
       "    .dataframe tbody tr th:only-of-type {\n",
       "        vertical-align: middle;\n",
       "    }\n",
       "\n",
       "    .dataframe tbody tr th {\n",
       "        vertical-align: top;\n",
       "    }\n",
       "\n",
       "    .dataframe thead th {\n",
       "        text-align: right;\n",
       "    }\n",
       "</style>\n",
       "<table border=\"1\" class=\"dataframe\">\n",
       "  <thead>\n",
       "    <tr style=\"text-align: right;\">\n",
       "      <th></th>\n",
       "      <th>title</th>\n",
       "      <th>num_reviews</th>\n",
       "      <th>review_rating</th>\n",
       "      <th>num_languages</th>\n",
       "      <th>tags</th>\n",
       "      <th>num_tags</th>\n",
       "      <th>genres</th>\n",
       "      <th>num_genres</th>\n",
       "      <th>publisher</th>\n",
       "    </tr>\n",
       "  </thead>\n",
       "  <tbody>\n",
       "    <tr>\n",
       "      <th>0</th>\n",
       "      <td>HELP</td>\n",
       "      <td>HELP</td>\n",
       "      <td>HELP</td>\n",
       "      <td>HELP</td>\n",
       "      <td>HELP</td>\n",
       "      <td>HELP</td>\n",
       "      <td>[Action, Adventure, RPG, People Can Fly]</td>\n",
       "      <td>4</td>\n",
       "      <td>HELP</td>\n",
       "    </tr>\n",
       "  </tbody>\n",
       "</table>\n",
       "</div>"
      ],
      "text/plain": [
       "  title num_reviews review_rating num_languages  tags num_tags  \\\n",
       "0  HELP        HELP          HELP          HELP  HELP     HELP   \n",
       "\n",
       "                                     genres  num_genres publisher  \n",
       "0  [Action, Adventure, RPG, People Can Fly]           4      HELP  "
      ]
     },
     "execution_count": 108,
     "metadata": {},
     "output_type": "execute_result"
    }
   ],
   "source": [
    "games_info.head(1)"
   ]
  },
  {
   "cell_type": "code",
   "execution_count": 106,
   "id": "historical-press",
   "metadata": {},
   "outputs": [],
   "source": [
    "prev_df = games_info.copy()"
   ]
  },
  {
   "cell_type": "markdown",
   "id": "facial-athletics",
   "metadata": {},
   "source": [
    "# attempt 4\n",
    "inverse attempt, fewer scrolls, but leaving the sleep, "
   ]
  },
  {
   "cell_type": "code",
   "execution_count": 152,
   "id": "separated-slope",
   "metadata": {},
   "outputs": [],
   "source": [
    "#attempting to pull my code in from  'scraping_page' to see if data can be pulled from from each game page.\n",
    "\n",
    "def get_game_details(url):\n",
    "\n",
    "    \n",
    "\n",
    "    \n",
    "    \n",
    "    #Request HTML and parse\n",
    "    response = driver.get(url)\n",
    "    \n",
    "    for i in range(3):\n",
    "        #Scroll\n",
    "        driver.execute_script(\n",
    "            \"window.scrollTo(0, document.documentElement.scrollHeight);\" #Alternatively, document.body.scrollHeight\n",
    "        )\n",
    "        time.sleep(1)\n",
    "    \n",
    "    soup = BeautifulSoup(driver.page_source, \"html5lib\")\n",
    "    \n",
    "    \n",
    "\n",
    "    \n",
    "    headers = ['title', 'num_reviews', 'review_rating', \n",
    "              'num_languages', 'tags', 'num_tags',\n",
    "              'genres', 'num_genres', 'publisher']\n",
    "    \n",
    "    #Get title\n",
    "    if not (soup.find('div', class_='apphub_AppName')):\n",
    "        title = 'HELP'\n",
    "    else:\n",
    "        title = soup.find('div', class_='apphub_AppName').text\n",
    "\n",
    "    #Get number of reviews\n",
    "    if not (soup.find('div', id='Reviews_summary')):\n",
    "        num_reviews = 'HELP'\n",
    "    elif not (soup.find('div', id='Reviews_summary').find('div', id='ViewAllReviewssummary')):\n",
    "        num_reviews = 'HELP'\n",
    "    elif not soup.find('div', id='Reviews_summary').find('div', id='ViewAllReviewssummary').find('a'):\n",
    "        num_reviews = 'HELP'\n",
    "    else:\n",
    "        rev_string = soup.find('div', id='Reviews_summary').find('div', id='ViewAllReviewssummary').find('a').text\n",
    "        num_reviews = rev_string.split()[2]\n",
    "     \n",
    "\n",
    "    #Get review rating\n",
    "    if not (soup.find(class_='user_reviews_summary_bar')):\n",
    "        rating = 'HELP'\n",
    "    elif not soup.find(class_='user_reviews_summary_bar').find_all('span'):\n",
    "        rating = 'HELP'\n",
    "    else:\n",
    "        rating = soup.find(class_='user_reviews_summary_bar').find_all('span')[0].text\n",
    "    \n",
    "    \n",
    "    #Get number of languages offered in\n",
    "    if not soup.find('a', class_='all_languages'):\n",
    "        num_languages = 'HELP'\n",
    "    else:\n",
    "        num_languages = soup.find('a', class_='all_languages').text.split()[2]\n",
    "    \n",
    "\n",
    "    #Get tags associated with game\n",
    "    if not soup.find('div', class_='glance_tags'):\n",
    "        tags_list = 'HELP'\n",
    "    else:\n",
    "        tags = soup.find('div', class_='glance_tags').find_all('a')\n",
    "        tags_list = []\n",
    "        for items in tags:\n",
    "            tags_list.append(items.text.strip())\n",
    "    \n",
    "    \n",
    "    #number of tags\n",
    "    if not soup.find('div', class_='glance_tags'):\n",
    "        num_tags = 'HELP'\n",
    "    else:\n",
    "        num_tags = len(tags_list)\n",
    "    \n",
    "    #genres list\n",
    "    if not soup.find('div', class_='details_block'):\n",
    "        genres_list = 'HELP'\n",
    "    else:\n",
    "        genres_all = soup.find('div', class_='details_block').find_all('a')[0:-2]\n",
    "        genres_list = []\n",
    "        for links in genres_all:\n",
    "            genres_list.append(links.text)\n",
    "        \n",
    "    # number of genres\n",
    "    if not soup.find('div', class_='details_block'):\n",
    "        num_genres = 'HELP'\n",
    "    else:\n",
    "        num_genres = len(genres_list)\n",
    "    \n",
    "    #get publisher\n",
    "    \n",
    "    #if not soup.find('div', class_='details_block'): #this threw an error 10 pages in, going more general\n",
    "    #    publisher = 'HALP PUBLISHER'\n",
    "    #else:\n",
    "    #    publisher = soup.find('div', class_='details_block').find_all('a')[-1].text\n",
    "    \n",
    "    \n",
    "    if not soup.find('div', class_='glance_ctn_responsive_left'):\n",
    "        publisher = 'HELP'\n",
    "    else:\n",
    "        publisher = soup.find('div', class_='glance_ctn_responsive_left').find_all('a')[-1].text\n",
    "    \n",
    "    #create dict of all games\n",
    "    games_dict = dict(zip(headers, [title,\n",
    "                                num_reviews,\n",
    "                                rating,\n",
    "                                num_languages, \n",
    "                                tags_list,\n",
    "                                num_tags,\n",
    "                                genres_list,\n",
    "                                num_genres,\n",
    "                                publisher]))\n",
    "\n",
    "    return games_dict"
   ]
  },
  {
   "cell_type": "code",
   "execution_count": 153,
   "id": "allied-davis",
   "metadata": {},
   "outputs": [
    {
     "ename": "KeyboardInterrupt",
     "evalue": "",
     "output_type": "error",
     "traceback": [
      "\u001b[0;31m---------------------------------------------------------------------------\u001b[0m",
      "\u001b[0;31mKeyboardInterrupt\u001b[0m                         Traceback (most recent call last)",
      "\u001b[0;32m<ipython-input-153-4c69d0e8dc50>\u001b[0m in \u001b[0;36m<module>\u001b[0;34m\u001b[0m\n\u001b[1;32m      2\u001b[0m \u001b[0;34m\u001b[0m\u001b[0m\n\u001b[1;32m      3\u001b[0m \u001b[0;32mfor\u001b[0m \u001b[0murl\u001b[0m \u001b[0;32min\u001b[0m \u001b[0mgamesdf1\u001b[0m\u001b[0;34m.\u001b[0m\u001b[0mlink\u001b[0m\u001b[0;34m:\u001b[0m\u001b[0;34m\u001b[0m\u001b[0;34m\u001b[0m\u001b[0m\n\u001b[0;32m----> 4\u001b[0;31m     \u001b[0mgames_info\u001b[0m\u001b[0;34m.\u001b[0m\u001b[0mappend\u001b[0m\u001b[0;34m(\u001b[0m\u001b[0mget_game_details\u001b[0m\u001b[0;34m(\u001b[0m\u001b[0murl\u001b[0m\u001b[0;34m)\u001b[0m\u001b[0;34m)\u001b[0m\u001b[0;34m\u001b[0m\u001b[0;34m\u001b[0m\u001b[0m\n\u001b[0m",
      "\u001b[0;32m<ipython-input-152-184e42414f87>\u001b[0m in \u001b[0;36mget_game_details\u001b[0;34m(url)\u001b[0m\n\u001b[1;32m     15\u001b[0m             \u001b[0;34m\"window.scrollTo(0, document.documentElement.scrollHeight);\"\u001b[0m \u001b[0;31m#Alternatively, document.body.scrollHeight\u001b[0m\u001b[0;34m\u001b[0m\u001b[0;34m\u001b[0m\u001b[0m\n\u001b[1;32m     16\u001b[0m         )\n\u001b[0;32m---> 17\u001b[0;31m         \u001b[0mtime\u001b[0m\u001b[0;34m.\u001b[0m\u001b[0msleep\u001b[0m\u001b[0;34m(\u001b[0m\u001b[0;36m1\u001b[0m\u001b[0;34m)\u001b[0m\u001b[0;34m\u001b[0m\u001b[0;34m\u001b[0m\u001b[0m\n\u001b[0m\u001b[1;32m     18\u001b[0m \u001b[0;34m\u001b[0m\u001b[0m\n\u001b[1;32m     19\u001b[0m     \u001b[0msoup\u001b[0m \u001b[0;34m=\u001b[0m \u001b[0mBeautifulSoup\u001b[0m\u001b[0;34m(\u001b[0m\u001b[0mdriver\u001b[0m\u001b[0;34m.\u001b[0m\u001b[0mpage_source\u001b[0m\u001b[0;34m,\u001b[0m \u001b[0;34m\"html5lib\"\u001b[0m\u001b[0;34m)\u001b[0m\u001b[0;34m\u001b[0m\u001b[0;34m\u001b[0m\u001b[0m\n",
      "\u001b[0;31mKeyboardInterrupt\u001b[0m: "
     ]
    }
   ],
   "source": [
    "games_info = []\n",
    "\n",
    "for url in gamesdf1.link:\n",
    "    games_info.append(get_game_details(url))\n"
   ]
  },
  {
   "cell_type": "code",
   "execution_count": 120,
   "id": "general-shade",
   "metadata": {},
   "outputs": [],
   "source": [
    "games_info_df = pd.DataFrame(games_info)"
   ]
  },
  {
   "cell_type": "code",
   "execution_count": 121,
   "id": "sought-elephant",
   "metadata": {},
   "outputs": [
    {
     "data": {
      "text/plain": [
       "(1068, 9)"
      ]
     },
     "execution_count": 121,
     "metadata": {},
     "output_type": "execute_result"
    }
   ],
   "source": [
    "games_info_df.shape"
   ]
  },
  {
   "cell_type": "code",
   "execution_count": 123,
   "id": "historical-oxide",
   "metadata": {},
   "outputs": [
    {
     "data": {
      "text/html": [
       "<div>\n",
       "<style scoped>\n",
       "    .dataframe tbody tr th:only-of-type {\n",
       "        vertical-align: middle;\n",
       "    }\n",
       "\n",
       "    .dataframe tbody tr th {\n",
       "        vertical-align: top;\n",
       "    }\n",
       "\n",
       "    .dataframe thead th {\n",
       "        text-align: right;\n",
       "    }\n",
       "</style>\n",
       "<table border=\"1\" class=\"dataframe\">\n",
       "  <thead>\n",
       "    <tr style=\"text-align: right;\">\n",
       "      <th></th>\n",
       "      <th>title</th>\n",
       "      <th>num_reviews</th>\n",
       "      <th>review_rating</th>\n",
       "      <th>num_languages</th>\n",
       "      <th>tags</th>\n",
       "      <th>num_tags</th>\n",
       "      <th>genres</th>\n",
       "      <th>num_genres</th>\n",
       "      <th>publisher</th>\n",
       "    </tr>\n",
       "  </thead>\n",
       "  <tbody>\n",
       "    <tr>\n",
       "      <th>1063</th>\n",
       "      <td>Workers &amp; Resources: Soviet Republic</td>\n",
       "      <td>7,876</td>\n",
       "      <td>Very Positive</td>\n",
       "      <td>10</td>\n",
       "      <td>[City Builder, Economy, Strategy, Simulation, ...</td>\n",
       "      <td>20</td>\n",
       "      <td>[Indie, Simulation, Strategy, Early Access]</td>\n",
       "      <td>4</td>\n",
       "      <td>3Division</td>\n",
       "    </tr>\n",
       "    <tr>\n",
       "      <th>1064</th>\n",
       "      <td>HELP</td>\n",
       "      <td>HELP</td>\n",
       "      <td>HELP</td>\n",
       "      <td>HELP</td>\n",
       "      <td>HELP</td>\n",
       "      <td>HELP</td>\n",
       "      <td>[Indie, RPG, Strategy]</td>\n",
       "      <td>3</td>\n",
       "      <td>HELP</td>\n",
       "    </tr>\n",
       "    <tr>\n",
       "      <th>1065</th>\n",
       "      <td>Hunt: Showdown - Ronin</td>\n",
       "      <td>HELP</td>\n",
       "      <td>Very Positive</td>\n",
       "      <td>11</td>\n",
       "      <td>[Action, Western, Zombies, Shooter, Blood, Hun...</td>\n",
       "      <td>8</td>\n",
       "      <td>[]</td>\n",
       "      <td>0</td>\n",
       "      <td>Crytek</td>\n",
       "    </tr>\n",
       "    <tr>\n",
       "      <th>1066</th>\n",
       "      <td>The Sims™ 4 Bowling Night Stuff</td>\n",
       "      <td>HELP</td>\n",
       "      <td>4 user reviews</td>\n",
       "      <td>18</td>\n",
       "      <td>[Simulation]</td>\n",
       "      <td>1</td>\n",
       "      <td>[Simulation, Maxis]</td>\n",
       "      <td>2</td>\n",
       "      <td>Electronic Arts</td>\n",
       "    </tr>\n",
       "    <tr>\n",
       "      <th>1067</th>\n",
       "      <td>HELP</td>\n",
       "      <td>HELP</td>\n",
       "      <td>HELP</td>\n",
       "      <td>HELP</td>\n",
       "      <td>HELP</td>\n",
       "      <td>HELP</td>\n",
       "      <td>[Action, Adventure, Crystal Dynamics, Crystal ...</td>\n",
       "      <td>15</td>\n",
       "      <td>HELP</td>\n",
       "    </tr>\n",
       "  </tbody>\n",
       "</table>\n",
       "</div>"
      ],
      "text/plain": [
       "                                     title num_reviews   review_rating  \\\n",
       "1063  Workers & Resources: Soviet Republic       7,876   Very Positive   \n",
       "1064                                  HELP        HELP            HELP   \n",
       "1065                Hunt: Showdown - Ronin        HELP   Very Positive   \n",
       "1066       The Sims™ 4 Bowling Night Stuff        HELP  4 user reviews   \n",
       "1067                                  HELP        HELP            HELP   \n",
       "\n",
       "     num_languages                                               tags  \\\n",
       "1063            10  [City Builder, Economy, Strategy, Simulation, ...   \n",
       "1064          HELP                                               HELP   \n",
       "1065            11  [Action, Western, Zombies, Shooter, Blood, Hun...   \n",
       "1066            18                                       [Simulation]   \n",
       "1067          HELP                                               HELP   \n",
       "\n",
       "     num_tags                                             genres num_genres  \\\n",
       "1063       20        [Indie, Simulation, Strategy, Early Access]          4   \n",
       "1064     HELP                             [Indie, RPG, Strategy]          3   \n",
       "1065        8                                                 []          0   \n",
       "1066        1                                [Simulation, Maxis]          2   \n",
       "1067     HELP  [Action, Adventure, Crystal Dynamics, Crystal ...         15   \n",
       "\n",
       "            publisher  \n",
       "1063        3Division  \n",
       "1064             HELP  \n",
       "1065           Crytek  \n",
       "1066  Electronic Arts  \n",
       "1067             HELP  "
      ]
     },
     "execution_count": 123,
     "metadata": {},
     "output_type": "execute_result"
    }
   ],
   "source": [
    "games_info_df.tail()"
   ]
  },
  {
   "cell_type": "code",
   "execution_count": 124,
   "id": "fifth-tower",
   "metadata": {},
   "outputs": [],
   "source": [
    "games_info_df.replace('HELP', np.nan, inplace=True)"
   ]
  },
  {
   "cell_type": "code",
   "execution_count": 127,
   "id": "selective-tournament",
   "metadata": {},
   "outputs": [
    {
     "name": "stdout",
     "output_type": "stream",
     "text": [
      "<class 'pandas.core.frame.DataFrame'>\n",
      "RangeIndex: 1068 entries, 0 to 1067\n",
      "Data columns (total 9 columns):\n",
      " #   Column         Non-Null Count  Dtype  \n",
      "---  ------         --------------  -----  \n",
      " 0   title          859 non-null    object \n",
      " 1   num_reviews    626 non-null    object \n",
      " 2   review_rating  833 non-null    object \n",
      " 3   num_languages  617 non-null    object \n",
      " 4   tags           858 non-null    object \n",
      " 5   num_tags       858 non-null    float64\n",
      " 6   genres         1067 non-null   object \n",
      " 7   num_genres     1067 non-null   float64\n",
      " 8   publisher      858 non-null    object \n",
      "dtypes: float64(2), object(7)\n",
      "memory usage: 75.2+ KB\n"
     ]
    }
   ],
   "source": [
    "games_info_df.info()"
   ]
  },
  {
   "cell_type": "code",
   "execution_count": 129,
   "id": "seasonal-stations",
   "metadata": {},
   "outputs": [],
   "source": [
    "prev_df = games_info_df.copy()"
   ]
  },
  {
   "cell_type": "code",
   "execution_count": 214,
   "id": "blocked-backing",
   "metadata": {},
   "outputs": [],
   "source": [
    "#attempting to pull my code in from  'scraping_page' to see if data can be pulled from from each game page.\n",
    "\n",
    "def get_game_details(url):\n",
    "\n",
    "    \n",
    "\n",
    "    \n",
    "    \n",
    "    #Request HTML and parse\n",
    "    response = driver.get(url)\n",
    "    \n",
    "    for i in range(5):\n",
    "        #Scroll\n",
    "        driver.execute_script(\n",
    "            \"window.scrollTo(0, document.documentElement.scrollHeight);\" #Alternatively, document.body.scrollHeight\n",
    "        )\n",
    "        time.sleep(.2)\n",
    "    \n",
    "    soup = BeautifulSoup(driver.page_source, \"html5lib\")\n",
    "    \n",
    "    \n",
    "\n",
    "    \n",
    "    headers = ['title', 'num_reviews', 'review_rating', \n",
    "              'num_languages', 'tags', 'num_tags',\n",
    "              'genres', 'num_genres', 'publisher']\n",
    "    \n",
    "    #Get title\n",
    "    if not (soup.find('div', class_='apphub_AppName')):\n",
    "        title = 'HELP'\n",
    "    else:\n",
    "        title = soup.find('div', class_='apphub_AppName').text\n",
    "\n",
    "    #Get number of reviews\n",
    "    if not (soup.find('div', id='Reviews_summary')):\n",
    "        num_reviews = 'HELP'\n",
    "    elif not (soup.find('div', id='Reviews_summary').find('div', id='ViewAllReviewssummary')):\n",
    "        num_reviews = 'HELP'\n",
    "    elif not soup.find('div', id='Reviews_summary').find('div', id='ViewAllReviewssummary').find('a'):\n",
    "        num_reviews = 'HELP'\n",
    "    else:\n",
    "        rev_string = soup.find('div', id='Reviews_summary').find('div', id='ViewAllReviewssummary').find('a').text\n",
    "        num_reviews = rev_string.split()[2]\n",
    "     \n",
    "\n",
    "    #Get review rating\n",
    "    if not (soup.find(class_='user_reviews_summary_bar')):\n",
    "        rating = 'HELP'\n",
    "    elif not soup.find(class_='user_reviews_summary_bar').find_all('span'):\n",
    "        rating = 'HELP'\n",
    "    else:\n",
    "        rating = soup.find(class_='user_reviews_summary_bar').find_all('span')[0].text\n",
    "    \n",
    "    \n",
    "    #Get number of languages offered in\n",
    "    if not soup.find('a', class_='all_languages'):\n",
    "        num_languages = 'HELP'\n",
    "    else:\n",
    "        num_languages = soup.find('a', class_='all_languages').text.split()[2]\n",
    "    \n",
    "\n",
    "    #Get tags associated with game\n",
    "    if not soup.find('div', class_='glance_tags'):\n",
    "        tags_list = 'HELP'\n",
    "    else:\n",
    "        tags = soup.find('div', class_='glance_tags').find_all('a')\n",
    "        tags_list = []\n",
    "        for items in tags:\n",
    "            tags_list.append(items.text.strip())\n",
    "    \n",
    "    \n",
    "    #number of tags\n",
    "    if not soup.find('div', class_='glance_tags'):\n",
    "        num_tags = 'HELP'\n",
    "    else:\n",
    "        num_tags = len(tags_list)\n",
    "    \n",
    "    #genres list\n",
    "    if not soup.find('div', class_='details_block'):\n",
    "        genres_list = 'HELP'\n",
    "    else:\n",
    "        genres_all = soup.find('div', class_='details_block').find_all('a')[0:-2]\n",
    "        genres_list = []\n",
    "        for links in genres_all:\n",
    "            genres_list.append(links.text)\n",
    "        \n",
    "    # number of genres\n",
    "    if not soup.find('div', class_='details_block'):\n",
    "        num_genres = 'HELP'\n",
    "    else:\n",
    "        num_genres = len(genres_list)\n",
    "    \n",
    "    #get publisher\n",
    "    \n",
    "    #if not soup.find('div', class_='details_block'): #this threw an error 10 pages in, going more general\n",
    "    #    publisher = 'HALP PUBLISHER'\n",
    "    #else:\n",
    "    #    publisher = soup.find('div', class_='details_block').find_all('a')[-1].text\n",
    "    \n",
    "    \n",
    "    if not soup.find('div', class_='glance_ctn_responsive_left'):\n",
    "        publisher = 'HELP'\n",
    "    elif not soup.find('div',class_='glance_ctn_responsive_left').find_all('a'):\n",
    "        publisher = 'HELP'\n",
    "    else:\n",
    "        publisher = soup.find('div', class_='glance_ctn_responsive_left').find_all('a')[-1].text\n",
    "    \n",
    "    #create dict of all games\n",
    "    games_dict = dict(zip(headers, [title,\n",
    "                                num_reviews,\n",
    "                                rating,\n",
    "                                num_languages, \n",
    "                                tags_list,\n",
    "                                num_tags,\n",
    "                                genres_list,\n",
    "                                num_genres,\n",
    "                                publisher]))\n",
    "\n",
    "    return games_dict"
   ]
  },
  {
   "cell_type": "code",
   "execution_count": 215,
   "id": "handmade-poultry",
   "metadata": {},
   "outputs": [],
   "source": [
    "games_info = []\n",
    "\n",
    "for url in gamesdf1.link[2525:]:\n",
    "    games_info.append(get_game_details(url))\n",
    "\n"
   ]
  },
  {
   "cell_type": "code",
   "execution_count": null,
   "id": "internal-benefit",
   "metadata": {},
   "outputs": [],
   "source": [
    "len(games_df1)"
   ]
  },
  {
   "cell_type": "code",
   "execution_count": 216,
   "id": "indian-syndication",
   "metadata": {},
   "outputs": [
    {
     "data": {
      "text/plain": [
       "14035"
      ]
     },
     "execution_count": 216,
     "metadata": {},
     "output_type": "execute_result"
    }
   ],
   "source": [
    "len(games_info)"
   ]
  },
  {
   "cell_type": "code",
   "execution_count": 177,
   "id": "leading-animal",
   "metadata": {},
   "outputs": [],
   "source": [
    "games1 = pd.DataFrame(games_info)"
   ]
  },
  {
   "cell_type": "code",
   "execution_count": 179,
   "id": "conceptual-suggestion",
   "metadata": {},
   "outputs": [],
   "source": [
    "games1.replace('HELP', np.nan, inplace=True)"
   ]
  },
  {
   "cell_type": "code",
   "execution_count": 181,
   "id": "exotic-inspector",
   "metadata": {},
   "outputs": [
    {
     "name": "stdout",
     "output_type": "stream",
     "text": [
      "<class 'pandas.core.frame.DataFrame'>\n",
      "RangeIndex: 2104 entries, 0 to 2103\n",
      "Data columns (total 9 columns):\n",
      " #   Column         Non-Null Count  Dtype  \n",
      "---  ------         --------------  -----  \n",
      " 0   title          1707 non-null   object \n",
      " 1   num_reviews    1131 non-null   object \n",
      " 2   review_rating  1672 non-null   object \n",
      " 3   num_languages  1195 non-null   object \n",
      " 4   tags           1706 non-null   object \n",
      " 5   num_tags       1706 non-null   float64\n",
      " 6   genres         2102 non-null   object \n",
      " 7   num_genres     2102 non-null   float64\n",
      " 8   publisher      1706 non-null   object \n",
      "dtypes: float64(2), object(7)\n",
      "memory usage: 148.1+ KB\n"
     ]
    }
   ],
   "source": [
    "games1.info()"
   ]
  },
  {
   "cell_type": "code",
   "execution_count": null,
   "id": "correct-passenger",
   "metadata": {},
   "outputs": [],
   "source": [
    "'''\n",
    "ok by now we made the scraping speed as besst as possible. stopped when computer went to sleep, \n",
    "completed about 2k, unfortuantely not all sites have that total reviews count. will run again starting at\n",
    "last game completed, amd look for supplementary df somewhere els\n",
    "'''"
   ]
  },
  {
   "cell_type": "code",
   "execution_count": 190,
   "id": "charitable-binding",
   "metadata": {},
   "outputs": [
    {
     "data": {
      "text/plain": [
       "link            https://store.steampowered.com/sub/40569/?snr=...\n",
       "release_date                                         Jun 23, 2014\n",
       "been_sale                                                       0\n",
       "orig_price                                                 $19.99\n",
       "Name: COH 2 - The Western Front Armies (Double Pack), dtype: object"
      ]
     },
     "execution_count": 190,
     "metadata": {},
     "output_type": "execute_result"
    }
   ],
   "source": [
    "gamesdf1.iloc[]"
   ]
  },
  {
   "cell_type": "code",
   "execution_count": 187,
   "id": "optional-tolerance",
   "metadata": {},
   "outputs": [
    {
     "data": {
      "text/plain": [
       "title                             Warhammer 40,000: Dawn of War II\n",
       "num_reviews                                                  8,784\n",
       "review_rating                                        Very Positive\n",
       "num_languages                                                  NaN\n",
       "tags             [Warhammer 40K, Strategy, RTS, Sci-fi, Multipl...\n",
       "num_tags                                                        20\n",
       "genres           [Strategy, Relic Entertainment, Feral Interact...\n",
       "num_genres                                                       3\n",
       "publisher                            Feral Interactive (Mac/Linux)\n",
       "Name: 2102, dtype: object"
      ]
     },
     "execution_count": 187,
     "metadata": {},
     "output_type": "execute_result"
    }
   ],
   "source": [
    "games1.iloc[-2]"
   ]
  },
  {
   "cell_type": "code",
   "execution_count": 188,
   "id": "martial-shooting",
   "metadata": {},
   "outputs": [
    {
     "data": {
      "text/plain": [
       "link            https://store.steampowered.com/app/15620/Warha...\n",
       "release_date                                         Feb 18, 2009\n",
       "been_sale                                                       0\n",
       "orig_price                                                 $19.99\n",
       "Name: Warhammer 40,000: Dawn of War II, dtype: object"
      ]
     },
     "execution_count": 188,
     "metadata": {},
     "output_type": "execute_result"
    }
   ],
   "source": [
    "gamesdf1.loc['Warhammer 40,000: Dawn of War II']"
   ]
  },
  {
   "cell_type": "code",
   "execution_count": 195,
   "id": "transparent-atmosphere",
   "metadata": {},
   "outputs": [
    {
     "ename": "TypeError",
     "evalue": "drop_duplicates() got an unexpected keyword argument 'subest'",
     "output_type": "error",
     "traceback": [
      "\u001b[0;31m---------------------------------------------------------------------------\u001b[0m",
      "\u001b[0;31mTypeError\u001b[0m                                 Traceback (most recent call last)",
      "\u001b[0;32m<ipython-input-195-545865f2e989>\u001b[0m in \u001b[0;36m<module>\u001b[0;34m\u001b[0m\n\u001b[0;32m----> 1\u001b[0;31m \u001b[0mgames1\u001b[0m\u001b[0;34m.\u001b[0m\u001b[0mdrop_duplicates\u001b[0m\u001b[0;34m(\u001b[0m\u001b[0msubest\u001b[0m\u001b[0;34m=\u001b[0m\u001b[0;34m'title'\u001b[0m\u001b[0;34m)\u001b[0m\u001b[0;34m\u001b[0m\u001b[0;34m\u001b[0m\u001b[0m\n\u001b[0m",
      "\u001b[0;31mTypeError\u001b[0m: drop_duplicates() got an unexpected keyword argument 'subest'"
     ]
    }
   ],
   "source": [
    "games1.drop_duplicates(subest='title')"
   ]
  },
  {
   "cell_type": "code",
   "execution_count": 204,
   "id": "brilliant-blank",
   "metadata": {},
   "outputs": [
    {
     "data": {
      "text/plain": [
       "421"
      ]
     },
     "execution_count": 204,
     "metadata": {},
     "output_type": "execute_result"
    }
   ],
   "source": [
    "len(games_info)"
   ]
  },
  {
   "cell_type": "code",
   "execution_count": 205,
   "id": "hollywood-disposal",
   "metadata": {},
   "outputs": [],
   "source": [
    "games2 = pd.DataFrame(games_info)"
   ]
  },
  {
   "cell_type": "code",
   "execution_count": 206,
   "id": "designed-orlando",
   "metadata": {},
   "outputs": [
    {
     "data": {
      "text/html": [
       "<div>\n",
       "<style scoped>\n",
       "    .dataframe tbody tr th:only-of-type {\n",
       "        vertical-align: middle;\n",
       "    }\n",
       "\n",
       "    .dataframe tbody tr th {\n",
       "        vertical-align: top;\n",
       "    }\n",
       "\n",
       "    .dataframe thead th {\n",
       "        text-align: right;\n",
       "    }\n",
       "</style>\n",
       "<table border=\"1\" class=\"dataframe\">\n",
       "  <thead>\n",
       "    <tr style=\"text-align: right;\">\n",
       "      <th></th>\n",
       "      <th>title</th>\n",
       "      <th>num_reviews</th>\n",
       "      <th>review_rating</th>\n",
       "      <th>num_languages</th>\n",
       "      <th>tags</th>\n",
       "      <th>num_tags</th>\n",
       "      <th>genres</th>\n",
       "      <th>num_genres</th>\n",
       "      <th>publisher</th>\n",
       "    </tr>\n",
       "  </thead>\n",
       "  <tbody>\n",
       "    <tr>\n",
       "      <th>0</th>\n",
       "      <td>MechWarrior Online™ Solaris 7 Hero Pack</td>\n",
       "      <td>HELP</td>\n",
       "      <td>Positive</td>\n",
       "      <td>HELP</td>\n",
       "      <td>[Strategy, Simulation, Action, Free to Play, M...</td>\n",
       "      <td>6</td>\n",
       "      <td>[Action, Free to Play, Massively Multiplayer, ...</td>\n",
       "      <td>6</td>\n",
       "      <td>Piranha Games Inc.</td>\n",
       "    </tr>\n",
       "    <tr>\n",
       "      <th>1</th>\n",
       "      <td>PAYDAY 2: Federales Weapon Pack</td>\n",
       "      <td>HELP</td>\n",
       "      <td>Mostly Positive</td>\n",
       "      <td>9</td>\n",
       "      <td>[RPG, Action, Violent, Gore]</td>\n",
       "      <td>4</td>\n",
       "      <td>[Action, RPG]</td>\n",
       "      <td>2</td>\n",
       "      <td>Starbreeze Publishing AB</td>\n",
       "    </tr>\n",
       "    <tr>\n",
       "      <th>2</th>\n",
       "      <td>Warhammer 40,000: Dawn of War II</td>\n",
       "      <td>8,784</td>\n",
       "      <td>Very Positive</td>\n",
       "      <td>HELP</td>\n",
       "      <td>[Warhammer 40K, Strategy, RTS, Sci-fi, Multipl...</td>\n",
       "      <td>20</td>\n",
       "      <td>[Strategy, Relic Entertainment, Feral Interact...</td>\n",
       "      <td>3</td>\n",
       "      <td>Feral Interactive (Mac/Linux)</td>\n",
       "    </tr>\n",
       "    <tr>\n",
       "      <th>3</th>\n",
       "      <td>HELP</td>\n",
       "      <td>HELP</td>\n",
       "      <td>HELP</td>\n",
       "      <td>HELP</td>\n",
       "      <td>HELP</td>\n",
       "      <td>HELP</td>\n",
       "      <td>[Simulation, Strategy, Paradox Development Stu...</td>\n",
       "      <td>3</td>\n",
       "      <td>HELP</td>\n",
       "    </tr>\n",
       "    <tr>\n",
       "      <th>4</th>\n",
       "      <td>Artemis Spaceship Bridge Simulator</td>\n",
       "      <td>433</td>\n",
       "      <td>Very Positive</td>\n",
       "      <td>HELP</td>\n",
       "      <td>[Simulation, Indie, Action, Space, Co-op, Mult...</td>\n",
       "      <td>8</td>\n",
       "      <td>[Action]</td>\n",
       "      <td>1</td>\n",
       "      <td>HELP</td>\n",
       "    </tr>\n",
       "    <tr>\n",
       "      <th>...</th>\n",
       "      <td>...</td>\n",
       "      <td>...</td>\n",
       "      <td>...</td>\n",
       "      <td>...</td>\n",
       "      <td>...</td>\n",
       "      <td>...</td>\n",
       "      <td>...</td>\n",
       "      <td>...</td>\n",
       "      <td>...</td>\n",
       "    </tr>\n",
       "    <tr>\n",
       "      <th>416</th>\n",
       "      <td>THE MONSTER OF MEMORY:DESTINY</td>\n",
       "      <td>79</td>\n",
       "      <td>Very Positive</td>\n",
       "      <td>HELP</td>\n",
       "      <td>[Visual Novel, LGBTQ+, Dating Sim, Casual, Wor...</td>\n",
       "      <td>13</td>\n",
       "      <td>[Adventure, Casual, Narrator]</td>\n",
       "      <td>3</td>\n",
       "      <td>Tong Li Publishing Co.</td>\n",
       "    </tr>\n",
       "    <tr>\n",
       "      <th>417</th>\n",
       "      <td>Tower!3D Pro</td>\n",
       "      <td>647</td>\n",
       "      <td>Mixed</td>\n",
       "      <td>HELP</td>\n",
       "      <td>[Simulation, Flight, Management, Voice Control...</td>\n",
       "      <td>6</td>\n",
       "      <td>[Simulation]</td>\n",
       "      <td>1</td>\n",
       "      <td>FeelThere</td>\n",
       "    </tr>\n",
       "    <tr>\n",
       "      <th>418</th>\n",
       "      <td>PixARK</td>\n",
       "      <td>8,108</td>\n",
       "      <td>Mostly Positive</td>\n",
       "      <td>13</td>\n",
       "      <td>[Survival, Adventure, Massively Multiplayer, O...</td>\n",
       "      <td>20</td>\n",
       "      <td>[Action, Adventure, Casual, Massively Multipla...</td>\n",
       "      <td>6</td>\n",
       "      <td>Snail Games USA</td>\n",
       "    </tr>\n",
       "    <tr>\n",
       "      <th>419</th>\n",
       "      <td>Laid-Back Camp - Virtual - Fumoto Campsite</td>\n",
       "      <td>HELP</td>\n",
       "      <td>Positive</td>\n",
       "      <td>6</td>\n",
       "      <td>[Choose Your Own Adventure, Visual Novel, Poin...</td>\n",
       "      <td>19</td>\n",
       "      <td>[]</td>\n",
       "      <td>0</td>\n",
       "      <td>Clouded Leopard Entertainment Inc.</td>\n",
       "    </tr>\n",
       "    <tr>\n",
       "      <th>420</th>\n",
       "      <td>Hunt: Showdown - The Researcher</td>\n",
       "      <td>HELP</td>\n",
       "      <td>Very Positive</td>\n",
       "      <td>8</td>\n",
       "      <td>[Action, Gore, Violent, Blood, Team-Based, Wes...</td>\n",
       "      <td>11</td>\n",
       "      <td>[Action]</td>\n",
       "      <td>1</td>\n",
       "      <td>Crytek</td>\n",
       "    </tr>\n",
       "  </tbody>\n",
       "</table>\n",
       "<p>421 rows × 9 columns</p>\n",
       "</div>"
      ],
      "text/plain": [
       "                                          title num_reviews    review_rating  \\\n",
       "0       MechWarrior Online™ Solaris 7 Hero Pack        HELP         Positive   \n",
       "1               PAYDAY 2: Federales Weapon Pack        HELP  Mostly Positive   \n",
       "2              Warhammer 40,000: Dawn of War II       8,784    Very Positive   \n",
       "3                                          HELP        HELP             HELP   \n",
       "4            Artemis Spaceship Bridge Simulator         433    Very Positive   \n",
       "..                                          ...         ...              ...   \n",
       "416               THE MONSTER OF MEMORY:DESTINY          79    Very Positive   \n",
       "417                                Tower!3D Pro         647            Mixed   \n",
       "418                                      PixARK       8,108  Mostly Positive   \n",
       "419  Laid-Back Camp - Virtual - Fumoto Campsite        HELP         Positive   \n",
       "420             Hunt: Showdown - The Researcher        HELP    Very Positive   \n",
       "\n",
       "    num_languages                                               tags num_tags  \\\n",
       "0            HELP  [Strategy, Simulation, Action, Free to Play, M...        6   \n",
       "1               9                       [RPG, Action, Violent, Gore]        4   \n",
       "2            HELP  [Warhammer 40K, Strategy, RTS, Sci-fi, Multipl...       20   \n",
       "3            HELP                                               HELP     HELP   \n",
       "4            HELP  [Simulation, Indie, Action, Space, Co-op, Mult...        8   \n",
       "..            ...                                                ...      ...   \n",
       "416          HELP  [Visual Novel, LGBTQ+, Dating Sim, Casual, Wor...       13   \n",
       "417          HELP  [Simulation, Flight, Management, Voice Control...        6   \n",
       "418            13  [Survival, Adventure, Massively Multiplayer, O...       20   \n",
       "419             6  [Choose Your Own Adventure, Visual Novel, Poin...       19   \n",
       "420             8  [Action, Gore, Violent, Blood, Team-Based, Wes...       11   \n",
       "\n",
       "                                                genres  num_genres  \\\n",
       "0    [Action, Free to Play, Massively Multiplayer, ...           6   \n",
       "1                                        [Action, RPG]           2   \n",
       "2    [Strategy, Relic Entertainment, Feral Interact...           3   \n",
       "3    [Simulation, Strategy, Paradox Development Stu...           3   \n",
       "4                                             [Action]           1   \n",
       "..                                                 ...         ...   \n",
       "416                      [Adventure, Casual, Narrator]           3   \n",
       "417                                       [Simulation]           1   \n",
       "418  [Action, Adventure, Casual, Massively Multipla...           6   \n",
       "419                                                 []           0   \n",
       "420                                           [Action]           1   \n",
       "\n",
       "                              publisher  \n",
       "0                    Piranha Games Inc.  \n",
       "1              Starbreeze Publishing AB  \n",
       "2         Feral Interactive (Mac/Linux)  \n",
       "3                                  HELP  \n",
       "4                                  HELP  \n",
       "..                                  ...  \n",
       "416              Tong Li Publishing Co.  \n",
       "417                          FeelThere   \n",
       "418                     Snail Games USA  \n",
       "419  Clouded Leopard Entertainment Inc.  \n",
       "420                              Crytek  \n",
       "\n",
       "[421 rows x 9 columns]"
      ]
     },
     "execution_count": 206,
     "metadata": {},
     "output_type": "execute_result"
    }
   ],
   "source": [
    "games2"
   ]
  },
  {
   "cell_type": "code",
   "execution_count": 210,
   "id": "sustained-writer",
   "metadata": {},
   "outputs": [],
   "source": [
    "games_joined = pd.concat([games1, games2])"
   ]
  },
  {
   "cell_type": "code",
   "execution_count": 212,
   "id": "unlimited-madness",
   "metadata": {},
   "outputs": [
    {
     "name": "stdout",
     "output_type": "stream",
     "text": [
      "<class 'pandas.core.frame.DataFrame'>\n",
      "Int64Index: 2525 entries, 0 to 420\n",
      "Data columns (total 9 columns):\n",
      " #   Column         Non-Null Count  Dtype  \n",
      "---  ------         --------------  -----  \n",
      " 0   title          2128 non-null   object \n",
      " 1   num_reviews    1552 non-null   object \n",
      " 2   review_rating  2093 non-null   object \n",
      " 3   num_languages  1616 non-null   object \n",
      " 4   tags           2127 non-null   object \n",
      " 5   num_tags       2127 non-null   object \n",
      " 6   genres         2523 non-null   object \n",
      " 7   num_genres     2523 non-null   float64\n",
      " 8   publisher      2127 non-null   object \n",
      "dtypes: float64(1), object(8)\n",
      "memory usage: 197.3+ KB\n"
     ]
    }
   ],
   "source": [
    "games_joined.info()"
   ]
  },
  {
   "cell_type": "code",
   "execution_count": 218,
   "id": "chicken-spirituality",
   "metadata": {},
   "outputs": [],
   "source": [
    "games3 = pd.DataFrame(games_info)"
   ]
  },
  {
   "cell_type": "code",
   "execution_count": 219,
   "id": "remarkable-simpson",
   "metadata": {},
   "outputs": [],
   "source": [
    "games3.replace('HELP', np.nan, inplace=True)"
   ]
  },
  {
   "cell_type": "code",
   "execution_count": 220,
   "id": "colored-pierre",
   "metadata": {},
   "outputs": [
    {
     "name": "stdout",
     "output_type": "stream",
     "text": [
      "<class 'pandas.core.frame.DataFrame'>\n",
      "RangeIndex: 14035 entries, 0 to 14034\n",
      "Data columns (total 9 columns):\n",
      " #   Column         Non-Null Count  Dtype  \n",
      "---  ------         --------------  -----  \n",
      " 0   title          12951 non-null  object \n",
      " 1   num_reviews    4192 non-null   object \n",
      " 2   review_rating  11914 non-null  object \n",
      " 3   num_languages  5359 non-null   object \n",
      " 4   tags           12951 non-null  object \n",
      " 5   num_tags       12951 non-null  float64\n",
      " 6   genres         14021 non-null  object \n",
      " 7   num_genres     14021 non-null  float64\n",
      " 8   publisher      12937 non-null  object \n",
      "dtypes: float64(2), object(7)\n",
      "memory usage: 987.0+ KB\n"
     ]
    }
   ],
   "source": [
    "games3.info()"
   ]
  },
  {
   "cell_type": "code",
   "execution_count": 222,
   "id": "fluid-hampton",
   "metadata": {},
   "outputs": [],
   "source": [
    "games_joined = pd.concat([games_joined, games3])"
   ]
  },
  {
   "cell_type": "code",
   "execution_count": 224,
   "id": "substantial-harassment",
   "metadata": {},
   "outputs": [
    {
     "data": {
      "text/plain": [
       "(16560, 9)"
      ]
     },
     "execution_count": 224,
     "metadata": {},
     "output_type": "execute_result"
    }
   ],
   "source": [
    "games_joined.shape"
   ]
  },
  {
   "cell_type": "code",
   "execution_count": 225,
   "id": "threatened-reason",
   "metadata": {},
   "outputs": [
    {
     "name": "stdout",
     "output_type": "stream",
     "text": [
      "<class 'pandas.core.frame.DataFrame'>\n",
      "Int64Index: 16560 entries, 0 to 14034\n",
      "Data columns (total 9 columns):\n",
      " #   Column         Non-Null Count  Dtype  \n",
      "---  ------         --------------  -----  \n",
      " 0   title          15079 non-null  object \n",
      " 1   num_reviews    5744 non-null   object \n",
      " 2   review_rating  14007 non-null  object \n",
      " 3   num_languages  6975 non-null   object \n",
      " 4   tags           15078 non-null  object \n",
      " 5   num_tags       15078 non-null  object \n",
      " 6   genres         16544 non-null  object \n",
      " 7   num_genres     16544 non-null  float64\n",
      " 8   publisher      15064 non-null  object \n",
      "dtypes: float64(1), object(8)\n",
      "memory usage: 1.3+ MB\n"
     ]
    }
   ],
   "source": [
    "games_joined.info()"
   ]
  },
  {
   "cell_type": "markdown",
   "id": "comparative-software",
   "metadata": {},
   "source": [
    "# update\n",
    "was able to successfully scrape all the pages from the list. took about 10 hours had it running while sleeping. UNFORTUNATELY oonly 5k of 16k had the number of reviews on the page where i thought it would be. can use these numbers for preliminary modeling, but i have to go back and see if ther eis another place that has total revies. its easy to find how many reviews mating the ranking listed, but that number is different than that listed for total. will check steam spy or other pages, but this was a good test. if I didnt have the shower this weekend I would have an etra day to work on it, but the mvp is not due until tomorrow so i have one more day to work it out"
   ]
  },
  {
   "cell_type": "code",
   "execution_count": 226,
   "id": "technical-session",
   "metadata": {},
   "outputs": [],
   "source": [
    "# have to merge the 2 tables, so i can use date, sale, and orig price in modeling\n"
   ]
  },
  {
   "cell_type": "code",
   "execution_count": null,
   "id": "liable-console",
   "metadata": {},
   "outputs": [],
   "source": []
  }
 ],
 "metadata": {
  "kernelspec": {
   "display_name": "Python [conda env:root]",
   "language": "python",
   "name": "conda-root-py"
  },
  "language_info": {
   "codemirror_mode": {
    "name": "ipython",
    "version": 3
   },
   "file_extension": ".py",
   "mimetype": "text/x-python",
   "name": "python",
   "nbconvert_exporter": "python",
   "pygments_lexer": "ipython3",
   "version": "3.8.5"
  }
 },
 "nbformat": 4,
 "nbformat_minor": 5
}
