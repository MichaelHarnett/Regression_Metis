{
 "cells": [
  {
   "cell_type": "code",
   "execution_count": 2,
   "id": "pleased-sample",
   "metadata": {},
   "outputs": [],
   "source": [
    "#The following Notebook represents preliminary scraping methods on a single page from steam game store. \n",
    "#specificallly for horizon zero dawn (as it was a fantastic game)\n",
    "#This preliminary scraping is meant to gauge the amount of possible features available, pre API referencing\n",
    "#I did not focus on cleaning or stripping strings during initial scraping, just wanted to get values.\n",
    "\n",
    "\n",
    "\n",
    "from bs4 import BeautifulSoup\n",
    "import requests"
   ]
  },
  {
   "cell_type": "code",
   "execution_count": 3,
   "id": "revolutionary-functionality",
   "metadata": {},
   "outputs": [],
   "source": [
    "url = 'https://store.steampowered.com/app/1151640/Horizon_Zero_Dawn_Complete_Edition/'\n",
    "response = requests.get(url)"
   ]
  },
  {
   "cell_type": "code",
   "execution_count": 4,
   "id": "moved-induction",
   "metadata": {},
   "outputs": [
    {
     "data": {
      "text/plain": [
       "200"
      ]
     },
     "execution_count": 4,
     "metadata": {},
     "output_type": "execute_result"
    }
   ],
   "source": [
    "response.status_code"
   ]
  },
  {
   "cell_type": "code",
   "execution_count": 5,
   "id": "editorial-mounting",
   "metadata": {},
   "outputs": [
    {
     "data": {
      "text/plain": [
       "'<!DOCTYPE html>\\r\\n<html class=\" responsive\" lang=\"en\">\\r\\n<head>\\r\\n\\t<meta http-equiv=\"Content-Type\" content=\"text/html; charset=UTF-8\">\\r\\n\\t\\t\\t<meta name=\"viewport\" content=\"width=device-width,initial-scale=1\">\\r\\n\\t\\t<meta name=\"theme-color\" content=\"#171a21\">\\r\\n\\t\\t<title>Save 40% on Horizon Zero Dawn™ Complete Edition on Steam</title>\\r\\n\\t<link rel=\"shortcut icon\" href=\"/favicon.ico\" type=\"image/x-icon\">\\r\\n\\r\\n\\t\\r\\n\\t\\r\\n\\t<link href=\"https://store.akamai.steamstatic.com/public/shared/css/motiva_sans.css?v=Rc2hpzg2Ex3T&amp;l=english\" rel=\"stylesheet\" type=\"text/css\" >\\n<link href=\"https://store.akamai.steamstatic.com/public/shared/css/shared_global.css?v=14RNXYQwvlll&amp;l=english\" rel=\"stylesheet\" type=\"text/css\" >\\n<link href=\"https://store.akamai.steamstatic.com/public/shared/css/buttons.css?v=6PFqex5UPprb&amp;l=english\" rel=\"stylesheet\" type=\"text/css\" >\\n<link href=\"https://store.akamai.steamstatic.com/public/css/v6/store.css?v=3_8obo1e4tX9&amp;l=english\" rel=\"stylesheet\" type=\"text/css\" >\\n<link href=\"https://store.akamai.steamstatic.com/public/shared/css/user_reviews.css?v=-c7CCyRzI4Uu&amp;l=english\" rel=\"stylesheet\" type=\"text/css\" >\\n<link href=\"https://store.akamai.steamstatic.com/public/shared/css/store_game_shared.css?v=kTQXgVodaFoU&amp;l=english\" rel=\"stylesheet\" type=\"text/css\" >\\n<link href=\"https://store.akamai.steamstatic.com/public/css/v6/game.css?v=vBtykRwNcEBi&amp;l=english\" rel=\"stylesheet\" type=\"text/css\" >\\n<link href=\"https://store.akamai.steamstatic.com/public/css/v6/recommended.css?v=DI5BTGWFZNdo&amp;l=english\" rel=\"stylesheet\" type=\"text/css\" >\\n<link href=\"https://store.akamai.steamstatic.com/public/css/v6/user_reviews_rewards.css?v=5-HJZa1v4wFP&amp;l=english\" rel=\"stylesheet\" type=\"text/css\" >\\n<link href=\"https://store.akamai.steamstatic.com/public/shared/css/apphub.css?v=rH2n5zKcDfFm&amp;l=english\" rel=\"stylesheet\" type=\"text/css\" >\\n<link href=\"https://store.akamai.steamstatic.com/public/shared/css/ui-lightness/jquery-ui-1.7.2.custom.css?v=.23LkAmA0IgZV\" rel=\"styles'"
      ]
     },
     "execution_count": 5,
     "metadata": {},
     "output_type": "execute_result"
    }
   ],
   "source": [
    "response.text[:2000]"
   ]
  },
  {
   "cell_type": "code",
   "execution_count": 6,
   "id": "super-retirement",
   "metadata": {},
   "outputs": [],
   "source": [
    "page = response.text"
   ]
  },
  {
   "cell_type": "code",
   "execution_count": 7,
   "id": "consecutive-circulation",
   "metadata": {},
   "outputs": [],
   "source": [
    "soup = BeautifulSoup(page, 'lxml')"
   ]
  },
  {
   "cell_type": "code",
   "execution_count": 8,
   "id": "arranged-questionnaire",
   "metadata": {},
   "outputs": [
    {
     "name": "stdout",
     "output_type": "stream",
     "text": [
      "None\n"
     ]
    }
   ],
   "source": [
    "print(soup.find(\"class='apphub_AppName'\"))"
   ]
  },
  {
   "cell_type": "code",
   "execution_count": 9,
   "id": "annoying-tokyo",
   "metadata": {},
   "outputs": [
    {
     "data": {
      "text/plain": [
       "'Horizon Zero Dawn™ Complete Edition'"
      ]
     },
     "execution_count": 9,
     "metadata": {},
     "output_type": "execute_result"
    }
   ],
   "source": [
    "###FOUND NAME OF GAME ON TOP OF PAGE\n",
    "\n",
    "game_name = soup.find('span',itemprop=\"name\").text\n",
    "game_name"
   ]
  },
  {
   "cell_type": "code",
   "execution_count": 10,
   "id": "improving-cologne",
   "metadata": {},
   "outputs": [],
   "source": [
    "#FOUND RELEASE DATE \n",
    "\n",
    "release_date = soup.find('div', class_='date').text"
   ]
  },
  {
   "cell_type": "code",
   "execution_count": 69,
   "id": "chicken-proxy",
   "metadata": {},
   "outputs": [],
   "source": [
    "!     !     !    !    !    !    !    ! \n",
    "!     !     !    !\n",
    "#attempting to pull the number of 'curators' - will circle back\n",
    "soup.find('div', class_=\"no_curators_followed\")\n",
    "\n"
   ]
  },
  {
   "cell_type": "code",
   "execution_count": 16,
   "id": "creative-lightweight",
   "metadata": {},
   "outputs": [
    {
     "data": {
      "text/plain": [
       "'(34,380 reviews)'"
      ]
     },
     "execution_count": 16,
     "metadata": {},
     "output_type": "execute_result"
    }
   ],
   "source": [
    "# Number of reviews\n",
    "num_reviews = soup.find(class_='user_reviews_summary_bar').find_all('span')[-1].text\n",
    "num_reviews"
   ]
  },
  {
   "cell_type": "code",
   "execution_count": 13,
   "id": "fitted-russia",
   "metadata": {},
   "outputs": [
    {
     "data": {
      "text/plain": [
       "'Mostly Positive'"
      ]
     },
     "execution_count": 13,
     "metadata": {},
     "output_type": "execute_result"
    }
   ],
   "source": [
    "# rating. their rating system must be rese\n",
    "rating = soup.find(class_='user_reviews_summary_bar').find_all('span')[0].text\n",
    "rating"
   ]
  },
  {
   "cell_type": "code",
   "execution_count": 54,
   "id": "prostate-vegetable",
   "metadata": {},
   "outputs": [],
   "source": [
    "# obtaining publisher name and url to publisher steam page (for future script of number publisher games)\n",
    "\n",
    "publisher = soup.find('div', class_='glance_ctn_responsive_left').find_all('a')[-1].text\n",
    "publisher_url = soup.find('div', class_='glance_ctn_responsive_left').find_all('a')[-1].get('href')"
   ]
  },
  {
   "cell_type": "code",
   "execution_count": 49,
   "id": "heated-hello",
   "metadata": {},
   "outputs": [
    {
     "data": {
      "text/plain": [
       "'$29.99'"
      ]
     },
     "execution_count": 49,
     "metadata": {},
     "output_type": "execute_result"
    }
   ],
   "source": [
    "#while this does obtain the price from the code, it relies heavily on index 4. uknonwn if will work\n",
    "#for multiple pages, as there are multiple prices. hopefully the 4th one is always the most general price\n",
    "#will have to fix\n",
    "\n",
    "#can also possibly be used for sale purposes in the future/ \n",
    "\n",
    "final_price = soup.find('div',class_='game_purchase_action_bg').find_all('div')[4].text"
   ]
  },
  {
   "cell_type": "code",
   "execution_count": 59,
   "id": "solid-peoples",
   "metadata": {},
   "outputs": [
    {
     "data": {
      "text/plain": [
       "'Action'"
      ]
     },
     "execution_count": 59,
     "metadata": {},
     "output_type": "execute_result"
    }
   ],
   "source": [
    "#SO genres are listed in groups, unsure how to process that when coming to regression.\n",
    "# possible anlysis - use just the firt genre, as it could be considered most important.\n",
    "\n",
    "#genres are listed alphabetically! this code will only find first genre listed.\n",
    "\n",
    "genre_first = soup.find('b',text='Genre:').findNext().text\n",
    "genre_first"
   ]
  },
  {
   "cell_type": "code",
   "execution_count": 65,
   "id": "naked-engineering",
   "metadata": {},
   "outputs": [
    {
     "data": {
      "text/plain": [
       "[<a href=\"https://store.steampowered.com/genre/Action/?snr=1_5_9__408\">Action</a>,\n",
       " <a href=\"https://store.steampowered.com/genre/Adventure/?snr=1_5_9__408\">Adventure</a>,\n",
       " <a href=\"https://store.steampowered.com/genre/RPG/?snr=1_5_9__408\">RPG</a>,\n",
       " <a href=\"https://store.steampowered.com/search/?developer=Guerrilla&amp;snr=1_5_9__408\">Guerrilla</a>,\n",
       " <a href=\"https://store.steampowered.com/search/?publisher=PlayStation%20Mobile%2C%20Inc.&amp;snr=1_5_9__422\">PlayStation Mobile, Inc.</a>]"
      ]
     },
     "execution_count": 65,
     "metadata": {},
     "output_type": "execute_result"
    }
   ],
   "source": [
    "#does find all genres, but do not know how to seperate for developer\n",
    "soup.find('div', class_='details_block').find_all('a')"
   ]
  },
  {
   "cell_type": "code",
   "execution_count": 78,
   "id": "conscious-today",
   "metadata": {},
   "outputs": [
    {
     "data": {
      "text/plain": [
       "[<a href=\"https://store.steampowered.com/genre/Action/?snr=1_5_9__408\">Action</a>,\n",
       " <a href=\"https://store.steampowered.com/genre/Adventure/?snr=1_5_9__408\">Adventure</a>,\n",
       " <a href=\"https://store.steampowered.com/genre/RPG/?snr=1_5_9__408\">RPG</a>]"
      ]
     },
     "execution_count": 78,
     "metadata": {},
     "output_type": "execute_result"
    }
   ],
   "source": [
    "#we can try calling the whole list except the last 2! assuming there is only one link for developer\n",
    "#and one link for publisher and they never list collaborations, this will work. future analysis will need \n",
    "#to be performed. idealy we could slice unitl new nested class\n",
    "soup.find('div', class_='details_block').find_all('a')[0:-2]\n",
    "\n",
    "# do not know how to pull out this text"
   ]
  },
  {
   "cell_type": "code",
   "execution_count": null,
   "id": "accepted-liberal",
   "metadata": {},
   "outputs": [],
   "source": [
    "##enough for one night. tomorrow, see if all data can be repulled from same tables for uniformity\n",
    "## compare xpaths for prices on different pages to see if they are usable instead! could be easier.\n",
    "#still missing languages,tags, number of tags, and bloggers "
   ]
  }
 ],
 "metadata": {
  "kernelspec": {
   "display_name": "Python [conda env:anaconda3-metis] *",
   "language": "python",
   "name": "conda-env-anaconda3-metis-py"
  },
  "language_info": {
   "codemirror_mode": {
    "name": "ipython",
    "version": 3
   },
   "file_extension": ".py",
   "mimetype": "text/x-python",
   "name": "python",
   "nbconvert_exporter": "python",
   "pygments_lexer": "ipython3",
   "version": "3.8.8"
  }
 },
 "nbformat": 4,
 "nbformat_minor": 5
}
